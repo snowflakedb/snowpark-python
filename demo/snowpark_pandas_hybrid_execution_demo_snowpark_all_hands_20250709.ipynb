{
 "cells": [
  {
   "cell_type": "markdown",
   "id": "fc3c7269",
   "metadata": {},
   "source": [
    "# Hybrid execution for Snowpark pandas"
   ]
  },
  {
   "cell_type": "code",
   "execution_count": null,
   "id": "fb949163",
   "metadata": {},
   "outputs": [],
   "source": [
    "import modin.pandas as pd\n",
    "import snowflake.snowpark.modin.plugin\n",
    "import numpy as np\n",
    "import datetime\n",
    "import pandas as native_pd\n",
    "from time import perf_counter\n",
    "from snowflake.snowpark.session import Session; session = Session.builder.create()\n",
    "from modin.config import AutoSwitchBackend"
   ]
  },
  {
   "cell_type": "markdown",
   "id": "ab4355d8",
   "metadata": {},
   "source": [
    "## Example 1: Working with a small dataframe created from in-memory data is faster"
   ]
  },
  {
   "cell_type": "markdown",
   "id": "f32efdb6",
   "metadata": {},
   "source": [
    "### Before..."
   ]
  },
  {
   "cell_type": "code",
   "execution_count": null,
   "id": "2cff2d52",
   "metadata": {},
   "outputs": [],
   "source": [
    "us_holidays = [\n",
    "    (\"New Year's Day\", \"2025-01-01\"),\n",
    "    (\"Martin Luther King Jr. Day\", \"2025-01-20\"),\n",
    "    (\"Presidents' Day\", \"2025-02-17\"),\n",
    "    (\"Memorial Day\", \"2025-05-26\"),\n",
    "    (\"Juneteenth National Independence Day\", \"2025-06-19\"),\n",
    "    (\"Independence Day\", \"2025-07-04\"),\n",
    "    (\"Labor Day\", \"2025-09-01\"),\n",
    "    (\"Columbus Day\", \"2025-10-13\"),\n",
    "    (\"Veterans Day\", \"2025-11-11\"),\n",
    "    (\"Thanksgiving Day\", \"2025-11-27\"),\n",
    "    (\"Christmas Day\", \"2025-12-25\")\n",
    "]\n",
    "\n",
    "df_us_holidays = pd.DataFrame(us_holidays, columns=[\"Holiday\", \"Date\"])\n",
    "df_us_holidays[\"Date\"] = pd.to_datetime(df_us_holidays[\"Date\"])\n",
    "df_us_holidays[\"Day_of_Week\"] = df_us_holidays[\"Date\"].dt.day_name()\n",
    "df_us_holidays[\"Month\"] = df_us_holidays[\"Date\"].dt.month_name()"
   ]
  },
  {
   "cell_type": "code",
   "execution_count": null,
   "id": "4b1af18c",
   "metadata": {},
   "outputs": [],
   "source": [
    "%%time\n",
    "for index, row in df_us_holidays.iterrows():\n",
    "    print(f\"{row['Holiday']} falls on {row['Day_of_Week']}, {row['Month']} {row['Date'].day}, {row['Date'].year}.\")"
   ]
  },
  {
   "cell_type": "markdown",
   "id": "4438ae43",
   "metadata": {},
   "source": [
    "### With hybrid execution"
   ]
  },
  {
   "cell_type": "code",
   "execution_count": null,
   "id": "a15f490c",
   "metadata": {},
   "outputs": [],
   "source": [
    "AutoSwitchBackend.enable()"
   ]
  },
  {
   "cell_type": "code",
   "execution_count": null,
   "id": "95e76bae",
   "metadata": {},
   "outputs": [],
   "source": [
    "us_holidays = [\n",
    "    (\"New Year's Day\", \"2025-01-01\"),\n",
    "    (\"Martin Luther King Jr. Day\", \"2025-01-20\"),\n",
    "    (\"Presidents' Day\", \"2025-02-17\"),\n",
    "    (\"Memorial Day\", \"2025-05-26\"),\n",
    "    (\"Juneteenth National Independence Day\", \"2025-06-19\"),\n",
    "    (\"Independence Day\", \"2025-07-04\"),\n",
    "    (\"Labor Day\", \"2025-09-01\"),\n",
    "    (\"Columbus Day\", \"2025-10-13\"),\n",
    "    (\"Veterans Day\", \"2025-11-11\"),\n",
    "    (\"Thanksgiving Day\", \"2025-11-27\"),\n",
    "    (\"Christmas Day\", \"2025-12-25\")\n",
    "]\n",
    "\n",
    "df_us_holidays = pd.DataFrame(us_holidays, columns=[\"Holiday\", \"Date\"])\n",
    "\n",
    "# Convert Date column to datetime\n",
    "df_us_holidays[\"Date\"] = pd.to_datetime(df_us_holidays[\"Date\"])\n",
    "\n",
    "# Add new columns for transformations\n",
    "df_us_holidays[\"Day_of_Week\"] = df_us_holidays[\"Date\"].dt.day_name()\n",
    "df_us_holidays[\"Month\"] = df_us_holidays[\"Date\"].dt.month_name()"
   ]
  },
  {
   "cell_type": "code",
   "execution_count": null,
   "id": "2efc1c56",
   "metadata": {},
   "outputs": [],
   "source": [
    "print(type(df_us_holidays))\n",
    "print(df_us_holidays.get_backend() )"
   ]
  },
  {
   "cell_type": "code",
   "execution_count": null,
   "id": "82d2bc57",
   "metadata": {},
   "outputs": [],
   "source": [
    "%%time\n",
    "for index, row in df_us_holidays.iterrows():\n",
    "    print(f\"{row['Holiday']} falls on {row['Day_of_Week']}, {row['Month']} {row['Date'].day}, {row['Date'].year}.\")"
   ]
  },
  {
   "cell_type": "markdown",
   "id": "e9c1807d",
   "metadata": {},
   "source": [
    "## Example 2: When reading data from Snowflake, we immediately transfer it to pandas if the data is below a certain, configurable number of rows (by default 10 million)."
   ]
  },
  {
   "cell_type": "code",
   "execution_count": null,
   "id": "bf739429",
   "metadata": {},
   "outputs": [],
   "source": [
    "df_transactions = pd.read_snowflake(\"REVENUE_TRANSACTIONS\")"
   ]
  },
  {
   "cell_type": "code",
   "execution_count": null,
   "id": "deffd376",
   "metadata": {},
   "outputs": [],
   "source": [
    "print(f\"The dataset size is {len(df_transactions)} and the data is located in {df_transactions.get_backend()}.\")"
   ]
  },
  {
   "cell_type": "code",
   "execution_count": null,
   "id": "d2135fee",
   "metadata": {},
   "outputs": [],
   "source": [
    "df_transactions[\"DATE\"] = pd.to_datetime(df_transactions[\"DATE\"])"
   ]
  },
  {
   "cell_type": "code",
   "execution_count": null,
   "id": "2cc51fd8",
   "metadata": {},
   "outputs": [],
   "source": [
    "%%time\n",
    "df_transactions.groupby(\"DATE\").sum()[\"REVENUE\"]"
   ]
  },
  {
   "cell_type": "code",
   "execution_count": null,
   "id": "1d425fc9",
   "metadata": {},
   "outputs": [],
   "source": [
    "last_week_transactions = pd.read_snowflake(\n",
    "    \"SELECT * FROM revenue_transactions WHERE Date >= DATEADD('days', -7, current_date )\"\n",
    ")"
   ]
  },
  {
   "cell_type": "code",
   "execution_count": null,
   "id": "bff80616",
   "metadata": {},
   "outputs": [],
   "source": [
    "# The smaller dataset has been loaded into memory as a pandas dataframe.\n",
    "print(f\"The dataset size is {len(last_week_transactions)} and the data is located in {last_week_transactions.get_backend()}.\")"
   ]
  },
  {
   "cell_type": "markdown",
   "id": "0572e349",
   "metadata": {},
   "source": [
    "## Example 3: Combining small and large datasets in the same workflow\n",
    "\n",
    "Soemtimes you are working with multiple dataframes of different sizes and you need to join them together, what happens in this scenario?\n",
    "When two dataframes are joined and the two dataframe are coming from different engine, we automatically determine what is the most optimal way to move the data to minimize the cost of data movement.\n",
    "\n",
    "Continuing with our `df_transactions` and `df_us_holidays` dataset."
   ]
  },
  {
   "cell_type": "code",
   "execution_count": null,
   "id": "5c9561a4",
   "metadata": {},
   "outputs": [],
   "source": [
    "print(\"Quick recap:\")\n",
    "print(f\"- df_transactions is {len(df_transactions)} rows and the data is located in {df_transactions.get_backend()}.\")\n",
    "print(f\"- df_us_holidays is {len(df_us_holidays)} rows and the data is located in {df_us_holidays.get_backend()}.\")"
   ]
  },
  {
   "cell_type": "code",
   "execution_count": null,
   "id": "caca63b4",
   "metadata": {},
   "outputs": [],
   "source": [
    "holiday_transactions = pd.merge(df_us_holidays, df_transactions, left_on=\"Date\", right_on=\"DATE\")"
   ]
  },
  {
   "cell_type": "code",
   "execution_count": null,
   "id": "078741d8",
   "metadata": {},
   "outputs": [],
   "source": [
    "holiday_transactions.get_backend()"
   ]
  },
  {
   "cell_type": "code",
   "execution_count": null,
   "id": "ace65f80",
   "metadata": {},
   "outputs": [],
   "source": [
    "holiday_transactions"
   ]
  },
  {
   "cell_type": "code",
   "execution_count": null,
   "id": "61f76fc4",
   "metadata": {},
   "outputs": [],
   "source": []
  }
 ],
 "metadata": {
  "kernelspec": {
   "display_name": "hybrid-dev",
   "language": "python",
   "name": "python3"
  },
  "language_info": {
   "codemirror_mode": {
    "name": "ipython",
    "version": 3
   },
   "file_extension": ".py",
   "mimetype": "text/x-python",
   "name": "python",
   "nbconvert_exporter": "python",
   "pygments_lexer": "ipython3",
   "version": "3.9.23"
  }
 },
 "nbformat": 4,
 "nbformat_minor": 5
}
