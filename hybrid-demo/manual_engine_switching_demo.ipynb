{
 "cells": [
  {
   "cell_type": "markdown",
   "metadata": {},
   "source": [
    "# Preamble"
   ]
  },
  {
   "cell_type": "code",
   "execution_count": 1,
   "metadata": {},
   "outputs": [
    {
     "name": "stdout",
     "output_type": "stream",
     "text": [
      "Initiating login request with your identity provider. A browser window should have opened for you to complete the login. If you can't see it, check existing browser windows, or your OS settings. Press CTRL+C to abort and try again...\n",
      "Going to open: https://snowbiz.okta.com/app/snowflake/exk8wfsfryJIn4IWZ2p7/sso/saml?SAMLRequest=jVJdU9swEPwrHvU5luwECpo4jEugOEASsFNmeFNsOWhsS65OjmN%2BfeV8dOgDTN80p93bvdsbX%2B2q0tlyDULJAHkuQQ6XqcqE3ARoldwOLpADhsmMlUryAHUc0NVkDKwqaxo25k0%2B898NB%2BPYRhJo%2FxGgRkuqGAigklUcqElpHD4%2BUN8llAFwbawcOlIyEFbrzZiaYty2rdsOXaU32CeEYHKJLaqHfEMfJOqvNWqtjEpVeaLs7EyfSHiYjHoJi7AKyyPxh5CHFXylsj6AgN4lyXKwXMQJcsLTdNdKQlNxHXO9FSlfPT8cDIB1EM8XL3eLVXzjglRtXrKCp6qqG2O7ufaFc57hUm2E3VE0DVBdiGx97z%2BRG07m%2BjHcds3PkVJVOPXV0%2BzMvGdiRorNeRfdiyQuUuT8OiXq94lGAA2PZJ%2BjsSXinw3IcEBGCSHU8%2Bjw0j33h6%2FImdochWRmzzyZ7S2uxburCsP25lhd47%2B%2BMd8VF20Oue5mkRxFL69%2B%2FR0DKNzHhA6XQvcG9OR%2F5x%2Fjj6zjsc3t%2FqPpUpUi7ZxbpStmPo%2FHc719RWSDfA%2BlvGKiDLNMcwAbU1mq9lpzZuxNG91whCcH1X%2BvevIH&RelayState=ver%3A1-hint%3A2050284471850-ETMsDgAAAZVefnDmABRBRVMvQ0JDL1BLQ1M1UGFkZGluZwEAABAAEJoaOAVOmO0qTJ1ieSopdm4AAACQONvWr6SjfjeePgyZN5cHsrXzAQ1CMNbABmd93g6gxQoPZyAmfKlkVo2t3Kl0%2B0%2FVhd1VT6veB33diZWpvrBUDP%2BxJMkKZNjQWJiGv1M7vFs%2FYy%2FaVzZmGF7jYGmRUjIDV2TbttyReh7ZZOGDdh04D2qhU5hbbUgJI%2FCuPAboOmc%2FUpz804F3qAuHvDTIzhe5ABSFZc1f9fiprdD4O8sPchjTCX%2Fg0w%3D%3D to authenticate...\n",
      "CPU times: user 1.26 s, sys: 2.75 s, total: 4.01 s\n",
      "Wall time: 4.44 s\n"
     ]
    }
   ],
   "source": [
    "%%time\n",
    "\n",
    "import snowflake.snowpark.modin.plugin\n",
    "import modin.pandas as pd\n",
    "import numpy as np\n",
    "import datetime\n",
    "import pandas as native_pd\n",
    "from snowflake.snowpark.session import Session; session = Session.builder.create()"
   ]
  },
  {
   "cell_type": "markdown",
   "metadata": {},
   "source": [
    "# Use case 1: working with a single small table"
   ]
  },
  {
   "cell_type": "markdown",
   "metadata": {},
   "source": [
    "In this example, we read the Snowhouse table `SAMPLE_DATA.TPCH_SF1.CUSTOMER`, which is 150k rows and 10.3 MB in Snowflake."
   ]
  },
  {
   "cell_type": "code",
   "execution_count": 2,
   "metadata": {},
   "outputs": [
    {
     "name": "stderr",
     "output_type": "stream",
     "text": [
      "Snapshot source table/view 'SAMPLE_DATA.TPCH_SF1.CUSTOMER' failed due to reason: `003029 (0A000): SQL compilation error:\n",
      "Cannot clone from a table that was imported from a share.'. Data from source table/view 'SAMPLE_DATA.TPCH_SF1.CUSTOMER' is being copied into a new temporary table 'SNOWPARK_TEMP_TABLE_I56XTZTLZY' for snapshotting. DataFrame creation might take some time.\n"
     ]
    },
    {
     "name": "stdout",
     "output_type": "stream",
     "text": [
      "CPU times: user 31.2 ms, sys: 15.7 ms, total: 46.9 ms\n",
      "Wall time: 4.77 s\n"
     ]
    }
   ],
   "source": [
    "%%time\n",
    "\n",
    "df = pd.read_snowflake(\"SAMPLE_DATA.TPCH_SF1.CUSTOMER\")"
   ]
  },
  {
   "cell_type": "markdown",
   "metadata": {},
   "source": [
    "Just printing the data is visibly slow..."
   ]
  },
  {
   "cell_type": "code",
   "execution_count": 3,
   "metadata": {},
   "outputs": [
    {
     "data": {
      "text/html": [
       "<div>\n",
       "<style scoped>\n",
       "    .dataframe tbody tr th:only-of-type {\n",
       "        vertical-align: middle;\n",
       "    }\n",
       "\n",
       "    .dataframe tbody tr th {\n",
       "        vertical-align: top;\n",
       "    }\n",
       "\n",
       "    .dataframe thead th {\n",
       "        text-align: right;\n",
       "    }\n",
       "</style>\n",
       "<table border=\"1\" class=\"dataframe\">\n",
       "  <thead>\n",
       "    <tr style=\"text-align: right;\">\n",
       "      <th></th>\n",
       "      <th>C_CUSTKEY</th>\n",
       "      <th>C_NAME</th>\n",
       "      <th>C_ADDRESS</th>\n",
       "      <th>C_NATIONKEY</th>\n",
       "      <th>C_PHONE</th>\n",
       "      <th>C_ACCTBAL</th>\n",
       "      <th>C_MKTSEGMENT</th>\n",
       "      <th>C_COMMENT</th>\n",
       "    </tr>\n",
       "  </thead>\n",
       "  <tbody>\n",
       "    <tr>\n",
       "      <th>0</th>\n",
       "      <td>30001</td>\n",
       "      <td>Customer#000030001</td>\n",
       "      <td>Ui1b,3Q71CiLTJn4MbVp,,YCZARIaNTelfst</td>\n",
       "      <td>4</td>\n",
       "      <td>14-526-204-4500</td>\n",
       "      <td>8848.47</td>\n",
       "      <td>MACHINERY</td>\n",
       "      <td>frays wake blithely enticingly ironic asymptote</td>\n",
       "    </tr>\n",
       "    <tr>\n",
       "      <th>1</th>\n",
       "      <td>30002</td>\n",
       "      <td>Customer#000030002</td>\n",
       "      <td>UVBoMtILkQu1J3v</td>\n",
       "      <td>11</td>\n",
       "      <td>21-340-653-9800</td>\n",
       "      <td>5221.81</td>\n",
       "      <td>MACHINERY</td>\n",
       "      <td>he slyly ironic pinto beans wake slyly above t...</td>\n",
       "    </tr>\n",
       "    <tr>\n",
       "      <th>2</th>\n",
       "      <td>30003</td>\n",
       "      <td>Customer#000030003</td>\n",
       "      <td>CuGi9fwKn8JdR</td>\n",
       "      <td>21</td>\n",
       "      <td>31-757-493-7525</td>\n",
       "      <td>3014.89</td>\n",
       "      <td>BUILDING</td>\n",
       "      <td>e furiously alongside of the requests. evenly ...</td>\n",
       "    </tr>\n",
       "    <tr>\n",
       "      <th>3</th>\n",
       "      <td>30004</td>\n",
       "      <td>Customer#000030004</td>\n",
       "      <td>tkR93ReOnf9zYeO</td>\n",
       "      <td>23</td>\n",
       "      <td>33-870-136-4375</td>\n",
       "      <td>3308.55</td>\n",
       "      <td>AUTOMOBILE</td>\n",
       "      <td>ssly bold deposits. final req</td>\n",
       "    </tr>\n",
       "    <tr>\n",
       "      <th>4</th>\n",
       "      <td>30005</td>\n",
       "      <td>Customer#000030005</td>\n",
       "      <td>pvq4uDoD8pEwpAE01aesCtbD9WU8qmlsvoFav5</td>\n",
       "      <td>9</td>\n",
       "      <td>19-144-468-5416</td>\n",
       "      <td>-278.54</td>\n",
       "      <td>MACHINERY</td>\n",
       "      <td>ructions behind the pinto beans x-ra</td>\n",
       "    </tr>\n",
       "    <tr>\n",
       "      <th>...</th>\n",
       "      <td>...</td>\n",
       "      <td>...</td>\n",
       "      <td>...</td>\n",
       "      <td>...</td>\n",
       "      <td>...</td>\n",
       "      <td>...</td>\n",
       "      <td>...</td>\n",
       "      <td>...</td>\n",
       "    </tr>\n",
       "    <tr>\n",
       "      <th>149995</th>\n",
       "      <td>29996</td>\n",
       "      <td>Customer#000029996</td>\n",
       "      <td>BnZVGZiAgcEImNm9iD</td>\n",
       "      <td>7</td>\n",
       "      <td>17-536-308-8025</td>\n",
       "      <td>4035.17</td>\n",
       "      <td>FURNITURE</td>\n",
       "      <td>ual instructions. bold, silent foxes nag blith...</td>\n",
       "    </tr>\n",
       "    <tr>\n",
       "      <th>149996</th>\n",
       "      <td>29997</td>\n",
       "      <td>Customer#000029997</td>\n",
       "      <td>lTbDYXdQ74JctD UbRbXCqF2b8</td>\n",
       "      <td>9</td>\n",
       "      <td>19-631-777-4123</td>\n",
       "      <td>2015.90</td>\n",
       "      <td>HOUSEHOLD</td>\n",
       "      <td>eodolites detect slyly alongside of the quickl...</td>\n",
       "    </tr>\n",
       "    <tr>\n",
       "      <th>149997</th>\n",
       "      <td>29998</td>\n",
       "      <td>Customer#000029998</td>\n",
       "      <td>ZxxiuDruzi98CcymR</td>\n",
       "      <td>23</td>\n",
       "      <td>33-619-315-9722</td>\n",
       "      <td>-810.56</td>\n",
       "      <td>FURNITURE</td>\n",
       "      <td>xpress packages. accounts sleep carefully iron...</td>\n",
       "    </tr>\n",
       "    <tr>\n",
       "      <th>149998</th>\n",
       "      <td>29999</td>\n",
       "      <td>Customer#000029999</td>\n",
       "      <td>CuPA4UpgTCYiXrBrpiSO D</td>\n",
       "      <td>12</td>\n",
       "      <td>22-824-951-8333</td>\n",
       "      <td>3865.14</td>\n",
       "      <td>FURNITURE</td>\n",
       "      <td>eposits-- accounts haggle across the slyly per...</td>\n",
       "    </tr>\n",
       "    <tr>\n",
       "      <th>149999</th>\n",
       "      <td>30000</td>\n",
       "      <td>Customer#000030000</td>\n",
       "      <td>sXiVJIRV4f4,MWk</td>\n",
       "      <td>22</td>\n",
       "      <td>32-391-639-5338</td>\n",
       "      <td>4437.43</td>\n",
       "      <td>BUILDING</td>\n",
       "      <td>ong the blithely special ideas: slyly regular ...</td>\n",
       "    </tr>\n",
       "  </tbody>\n",
       "</table>\n",
       "<p>150000 rows × 8 columns</p>\n",
       "</div>"
      ],
      "text/plain": [
       "        C_CUSTKEY              C_NAME                               C_ADDRESS  \\\n",
       "0           30001  Customer#000030001    Ui1b,3Q71CiLTJn4MbVp,,YCZARIaNTelfst   \n",
       "1           30002  Customer#000030002                         UVBoMtILkQu1J3v   \n",
       "2           30003  Customer#000030003                           CuGi9fwKn8JdR   \n",
       "3           30004  Customer#000030004                         tkR93ReOnf9zYeO   \n",
       "4           30005  Customer#000030005  pvq4uDoD8pEwpAE01aesCtbD9WU8qmlsvoFav5   \n",
       "...           ...                 ...                                     ...   \n",
       "149995      29996  Customer#000029996                      BnZVGZiAgcEImNm9iD   \n",
       "149996      29997  Customer#000029997              lTbDYXdQ74JctD UbRbXCqF2b8   \n",
       "149997      29998  Customer#000029998                       ZxxiuDruzi98CcymR   \n",
       "149998      29999  Customer#000029999                  CuPA4UpgTCYiXrBrpiSO D   \n",
       "149999      30000  Customer#000030000                         sXiVJIRV4f4,MWk   \n",
       "\n",
       "        C_NATIONKEY          C_PHONE  C_ACCTBAL C_MKTSEGMENT  \\\n",
       "0                 4  14-526-204-4500    8848.47    MACHINERY   \n",
       "1                11  21-340-653-9800    5221.81    MACHINERY   \n",
       "2                21  31-757-493-7525    3014.89     BUILDING   \n",
       "3                23  33-870-136-4375    3308.55   AUTOMOBILE   \n",
       "4                 9  19-144-468-5416    -278.54    MACHINERY   \n",
       "...             ...              ...        ...          ...   \n",
       "149995            7  17-536-308-8025    4035.17    FURNITURE   \n",
       "149996            9  19-631-777-4123    2015.90    HOUSEHOLD   \n",
       "149997           23  33-619-315-9722    -810.56    FURNITURE   \n",
       "149998           12  22-824-951-8333    3865.14    FURNITURE   \n",
       "149999           22  32-391-639-5338    4437.43     BUILDING   \n",
       "\n",
       "                                                C_COMMENT  \n",
       "0         frays wake blithely enticingly ironic asymptote  \n",
       "1       he slyly ironic pinto beans wake slyly above t...  \n",
       "2       e furiously alongside of the requests. evenly ...  \n",
       "3                           ssly bold deposits. final req  \n",
       "4                    ructions behind the pinto beans x-ra  \n",
       "...                                                   ...  \n",
       "149995  ual instructions. bold, silent foxes nag blith...  \n",
       "149996  eodolites detect slyly alongside of the quickl...  \n",
       "149997  xpress packages. accounts sleep carefully iron...  \n",
       "149998  eposits-- accounts haggle across the slyly per...  \n",
       "149999  ong the blithely special ideas: slyly regular ...  \n",
       "\n",
       "[150000 rows x 8 columns]"
      ]
     },
     "execution_count": 3,
     "metadata": {},
     "output_type": "execute_result"
    }
   ],
   "source": [
    "df"
   ]
  },
  {
   "cell_type": "markdown",
   "metadata": {},
   "source": [
    "and doing certain complex transformations is very slow."
   ]
  },
  {
   "cell_type": "code",
   "execution_count": 4,
   "metadata": {},
   "outputs": [
    {
     "name": "stdout",
     "output_type": "stream",
     "text": [
      "CPU times: user 158 ms, sys: 33.8 ms, total: 192 ms\n",
      "Wall time: 34.1 s\n"
     ]
    }
   ],
   "source": [
    "%%time\n",
    "\n",
    "result = df.groupby('C_NATIONKEY').apply(lambda group: group.C_CUSTKEY.iloc[0] + group.C_CUSTKEY.mean())"
   ]
  },
  {
   "cell_type": "markdown",
   "metadata": {},
   "source": [
    "## Let's switch the backend to python!"
   ]
  },
  {
   "cell_type": "markdown",
   "metadata": {},
   "source": [
    "We pay a one-time cost of a few seconds to load the data into memory."
   ]
  },
  {
   "cell_type": "code",
   "execution_count": 5,
   "metadata": {},
   "outputs": [
    {
     "data": {
      "application/vnd.jupyter.widget-view+json": {
       "model_id": "c6eae12660e9413294908a3389e30569",
       "version_major": 2,
       "version_minor": 0
      },
      "text/plain": [
       "Transferring data from Snowflake to Python ...:   0%|          | 0/1 [00:00<?, ?it/s]"
      ]
     },
     "metadata": {},
     "output_type": "display_data"
    },
    {
     "name": "stdout",
     "output_type": "stream",
     "text": [
      "CPU times: user 372 ms, sys: 67.7 ms, total: 440 ms\n",
      "Wall time: 1.97 s\n"
     ]
    },
    {
     "name": "stderr",
     "output_type": "stream",
     "text": [
      "UserWarning: Distributing <class 'pandas.core.frame.DataFrame'> object. This may take some time.\n"
     ]
    }
   ],
   "source": [
    "%%time\n",
    "\n",
    "df.set_backend('python', inplace=True)"
   ]
  },
  {
   "cell_type": "markdown",
   "metadata": {},
   "source": [
    "But now printing is extremely fast..."
   ]
  },
  {
   "cell_type": "code",
   "execution_count": 6,
   "metadata": {},
   "outputs": [
    {
     "data": {
      "text/html": [
       "<div>\n",
       "<style scoped>\n",
       "    .dataframe tbody tr th:only-of-type {\n",
       "        vertical-align: middle;\n",
       "    }\n",
       "\n",
       "    .dataframe tbody tr th {\n",
       "        vertical-align: top;\n",
       "    }\n",
       "\n",
       "    .dataframe thead th {\n",
       "        text-align: right;\n",
       "    }\n",
       "</style>\n",
       "<table border=\"1\" class=\"dataframe\">\n",
       "  <thead>\n",
       "    <tr style=\"text-align: right;\">\n",
       "      <th></th>\n",
       "      <th>C_CUSTKEY</th>\n",
       "      <th>C_NAME</th>\n",
       "      <th>C_ADDRESS</th>\n",
       "      <th>C_NATIONKEY</th>\n",
       "      <th>C_PHONE</th>\n",
       "      <th>C_ACCTBAL</th>\n",
       "      <th>C_MKTSEGMENT</th>\n",
       "      <th>C_COMMENT</th>\n",
       "    </tr>\n",
       "  </thead>\n",
       "  <tbody>\n",
       "    <tr>\n",
       "      <th>0</th>\n",
       "      <td>30001</td>\n",
       "      <td>Customer#000030001</td>\n",
       "      <td>Ui1b,3Q71CiLTJn4MbVp,,YCZARIaNTelfst</td>\n",
       "      <td>4</td>\n",
       "      <td>14-526-204-4500</td>\n",
       "      <td>8848.47</td>\n",
       "      <td>MACHINERY</td>\n",
       "      <td>frays wake blithely enticingly ironic asymptote</td>\n",
       "    </tr>\n",
       "    <tr>\n",
       "      <th>1</th>\n",
       "      <td>30002</td>\n",
       "      <td>Customer#000030002</td>\n",
       "      <td>UVBoMtILkQu1J3v</td>\n",
       "      <td>11</td>\n",
       "      <td>21-340-653-9800</td>\n",
       "      <td>5221.81</td>\n",
       "      <td>MACHINERY</td>\n",
       "      <td>he slyly ironic pinto beans wake slyly above t...</td>\n",
       "    </tr>\n",
       "    <tr>\n",
       "      <th>2</th>\n",
       "      <td>30003</td>\n",
       "      <td>Customer#000030003</td>\n",
       "      <td>CuGi9fwKn8JdR</td>\n",
       "      <td>21</td>\n",
       "      <td>31-757-493-7525</td>\n",
       "      <td>3014.89</td>\n",
       "      <td>BUILDING</td>\n",
       "      <td>e furiously alongside of the requests. evenly ...</td>\n",
       "    </tr>\n",
       "    <tr>\n",
       "      <th>3</th>\n",
       "      <td>30004</td>\n",
       "      <td>Customer#000030004</td>\n",
       "      <td>tkR93ReOnf9zYeO</td>\n",
       "      <td>23</td>\n",
       "      <td>33-870-136-4375</td>\n",
       "      <td>3308.55</td>\n",
       "      <td>AUTOMOBILE</td>\n",
       "      <td>ssly bold deposits. final req</td>\n",
       "    </tr>\n",
       "    <tr>\n",
       "      <th>4</th>\n",
       "      <td>30005</td>\n",
       "      <td>Customer#000030005</td>\n",
       "      <td>pvq4uDoD8pEwpAE01aesCtbD9WU8qmlsvoFav5</td>\n",
       "      <td>9</td>\n",
       "      <td>19-144-468-5416</td>\n",
       "      <td>-278.54</td>\n",
       "      <td>MACHINERY</td>\n",
       "      <td>ructions behind the pinto beans x-ra</td>\n",
       "    </tr>\n",
       "    <tr>\n",
       "      <th>...</th>\n",
       "      <td>...</td>\n",
       "      <td>...</td>\n",
       "      <td>...</td>\n",
       "      <td>...</td>\n",
       "      <td>...</td>\n",
       "      <td>...</td>\n",
       "      <td>...</td>\n",
       "      <td>...</td>\n",
       "    </tr>\n",
       "    <tr>\n",
       "      <th>149995</th>\n",
       "      <td>29996</td>\n",
       "      <td>Customer#000029996</td>\n",
       "      <td>BnZVGZiAgcEImNm9iD</td>\n",
       "      <td>7</td>\n",
       "      <td>17-536-308-8025</td>\n",
       "      <td>4035.17</td>\n",
       "      <td>FURNITURE</td>\n",
       "      <td>ual instructions. bold, silent foxes nag blith...</td>\n",
       "    </tr>\n",
       "    <tr>\n",
       "      <th>149996</th>\n",
       "      <td>29997</td>\n",
       "      <td>Customer#000029997</td>\n",
       "      <td>lTbDYXdQ74JctD UbRbXCqF2b8</td>\n",
       "      <td>9</td>\n",
       "      <td>19-631-777-4123</td>\n",
       "      <td>2015.90</td>\n",
       "      <td>HOUSEHOLD</td>\n",
       "      <td>eodolites detect slyly alongside of the quickl...</td>\n",
       "    </tr>\n",
       "    <tr>\n",
       "      <th>149997</th>\n",
       "      <td>29998</td>\n",
       "      <td>Customer#000029998</td>\n",
       "      <td>ZxxiuDruzi98CcymR</td>\n",
       "      <td>23</td>\n",
       "      <td>33-619-315-9722</td>\n",
       "      <td>-810.56</td>\n",
       "      <td>FURNITURE</td>\n",
       "      <td>xpress packages. accounts sleep carefully iron...</td>\n",
       "    </tr>\n",
       "    <tr>\n",
       "      <th>149998</th>\n",
       "      <td>29999</td>\n",
       "      <td>Customer#000029999</td>\n",
       "      <td>CuPA4UpgTCYiXrBrpiSO D</td>\n",
       "      <td>12</td>\n",
       "      <td>22-824-951-8333</td>\n",
       "      <td>3865.14</td>\n",
       "      <td>FURNITURE</td>\n",
       "      <td>eposits-- accounts haggle across the slyly per...</td>\n",
       "    </tr>\n",
       "    <tr>\n",
       "      <th>149999</th>\n",
       "      <td>30000</td>\n",
       "      <td>Customer#000030000</td>\n",
       "      <td>sXiVJIRV4f4,MWk</td>\n",
       "      <td>22</td>\n",
       "      <td>32-391-639-5338</td>\n",
       "      <td>4437.43</td>\n",
       "      <td>BUILDING</td>\n",
       "      <td>ong the blithely special ideas: slyly regular ...</td>\n",
       "    </tr>\n",
       "  </tbody>\n",
       "</table>\n",
       "<p>150000 rows x 8 columns</p>\n",
       "</div>"
      ],
      "text/plain": [
       "        C_CUSTKEY              C_NAME                               C_ADDRESS  \\\n",
       "0           30001  Customer#000030001    Ui1b,3Q71CiLTJn4MbVp,,YCZARIaNTelfst   \n",
       "1           30002  Customer#000030002                         UVBoMtILkQu1J3v   \n",
       "2           30003  Customer#000030003                           CuGi9fwKn8JdR   \n",
       "3           30004  Customer#000030004                         tkR93ReOnf9zYeO   \n",
       "4           30005  Customer#000030005  pvq4uDoD8pEwpAE01aesCtbD9WU8qmlsvoFav5   \n",
       "...           ...                 ...                                     ...   \n",
       "149995      29996  Customer#000029996                      BnZVGZiAgcEImNm9iD   \n",
       "149996      29997  Customer#000029997              lTbDYXdQ74JctD UbRbXCqF2b8   \n",
       "149997      29998  Customer#000029998                       ZxxiuDruzi98CcymR   \n",
       "149998      29999  Customer#000029999                  CuPA4UpgTCYiXrBrpiSO D   \n",
       "149999      30000  Customer#000030000                         sXiVJIRV4f4,MWk   \n",
       "\n",
       "        C_NATIONKEY          C_PHONE  C_ACCTBAL C_MKTSEGMENT  \\\n",
       "0                 4  14-526-204-4500    8848.47    MACHINERY   \n",
       "1                11  21-340-653-9800    5221.81    MACHINERY   \n",
       "2                21  31-757-493-7525    3014.89     BUILDING   \n",
       "3                23  33-870-136-4375    3308.55   AUTOMOBILE   \n",
       "4                 9  19-144-468-5416    -278.54    MACHINERY   \n",
       "...             ...              ...        ...          ...   \n",
       "149995            7  17-536-308-8025    4035.17    FURNITURE   \n",
       "149996            9  19-631-777-4123    2015.90    HOUSEHOLD   \n",
       "149997           23  33-619-315-9722    -810.56    FURNITURE   \n",
       "149998           12  22-824-951-8333    3865.14    FURNITURE   \n",
       "149999           22  32-391-639-5338    4437.43     BUILDING   \n",
       "\n",
       "                                                C_COMMENT  \n",
       "0         frays wake blithely enticingly ironic asymptote  \n",
       "1       he slyly ironic pinto beans wake slyly above t...  \n",
       "2       e furiously alongside of the requests. evenly ...  \n",
       "3                           ssly bold deposits. final req  \n",
       "4                    ructions behind the pinto beans x-ra  \n",
       "...                                                   ...  \n",
       "149995  ual instructions. bold, silent foxes nag blith...  \n",
       "149996  eodolites detect slyly alongside of the quickl...  \n",
       "149997  xpress packages. accounts sleep carefully iron...  \n",
       "149998  eposits-- accounts haggle across the slyly per...  \n",
       "149999  ong the blithely special ideas: slyly regular ...  \n",
       "\n",
       "[150000 rows x 8 columns]"
      ]
     },
     "execution_count": 6,
     "metadata": {},
     "output_type": "execute_result"
    }
   ],
   "source": [
    "df"
   ]
  },
  {
   "cell_type": "markdown",
   "metadata": {},
   "source": [
    "And so are most things we can imagine doing with the data."
   ]
  },
  {
   "cell_type": "code",
   "execution_count": 7,
   "metadata": {},
   "outputs": [
    {
     "name": "stdout",
     "output_type": "stream",
     "text": [
      "C_NATIONKEY\n",
      "0     104809.648945\n",
      "1     104849.461925\n",
      "2     105879.897816\n",
      "3     104446.823588\n",
      "4     104679.314262\n",
      "5     104906.427251\n",
      "6     105917.388361\n",
      "7     104694.312288\n",
      "8     105173.743462\n",
      "9     105037.669210\n",
      "10    105448.956232\n",
      "11    104112.225725\n",
      "12    104829.006557\n",
      "13    106009.666832\n",
      "14    104419.615654\n",
      "15    105264.778247\n",
      "16    104199.408269\n",
      "17    105125.565188\n",
      "18    104305.006972\n",
      "19    105746.410656\n",
      "20    104615.581809\n",
      "21    105924.703395\n",
      "22    105530.506581\n",
      "23    105457.153718\n",
      "24    104223.723884\n",
      "dtype: float64\n",
      "CPU times: user 26.3 ms, sys: 3.84 ms, total: 30.1 ms\n",
      "Wall time: 29.2 ms\n"
     ]
    }
   ],
   "source": [
    "%%time\n",
    "\n",
    "result = df.groupby('C_NATIONKEY').apply(lambda group: group.C_CUSTKEY.iloc[0] + group.C_CUSTKEY.mean())\n",
    "print(result)"
   ]
  },
  {
   "cell_type": "markdown",
   "metadata": {},
   "source": [
    "When we're done with our transformations, we can write the results to Snowflake."
   ]
  },
  {
   "cell_type": "code",
   "execution_count": 8,
   "metadata": {},
   "outputs": [
    {
     "data": {
      "application/vnd.jupyter.widget-view+json": {
       "model_id": "13c02e9868104409a38a221481e94deb",
       "version_major": 2,
       "version_minor": 0
      },
      "text/plain": [
       "Transferring data from Python to Snowflake ...:   0%|          | 0/1 [00:00<?, ?it/s]"
      ]
     },
     "metadata": {},
     "output_type": "display_data"
    },
    {
     "name": "stdout",
     "output_type": "stream",
     "text": [
      "CPU times: user 8.16 ms, sys: 2.85 ms, total: 11 ms\n",
      "Wall time: 9.82 ms\n"
     ]
    }
   ],
   "source": [
    "%%time\n",
    "\n",
    "snow_result = result.rename('result').set_backend('snowflake')"
   ]
  },
  {
   "cell_type": "code",
   "execution_count": 9,
   "metadata": {},
   "outputs": [
    {
     "name": "stdout",
     "output_type": "stream",
     "text": [
      "CPU times: user 8.34 ms, sys: 4.33 ms, total: 12.7 ms\n",
      "Wall time: 886 ms\n"
     ]
    }
   ],
   "source": [
    "%%time\n",
    "\n",
    "snow_result.to_snowflake('TEMP.MVASHISHTHA.RESULT', if_exists='replace', index=False)"
   ]
  },
  {
   "cell_type": "markdown",
   "metadata": {},
   "source": [
    "# Use case 2: Filtering out most of a large table, then using python"
   ]
  },
  {
   "cell_type": "markdown",
   "metadata": {},
   "source": [
    "## Setup"
   ]
  },
  {
   "cell_type": "markdown",
   "metadata": {},
   "source": [
    "In this example, we read the table `SAMPLE_DATA.TPCH_SF10.LINEITEM`, which is 60M rows and 1.3 GB."
   ]
  },
  {
   "cell_type": "code",
   "execution_count": 10,
   "metadata": {},
   "outputs": [
    {
     "name": "stderr",
     "output_type": "stream",
     "text": [
      "Snapshot source table/view 'SAMPLE_DATA.TPCH_SF10.LINEITEM' failed due to reason: `003029 (0A000): SQL compilation error:\n",
      "Cannot clone from a table that was imported from a share.'. Data from source table/view 'SAMPLE_DATA.TPCH_SF10.LINEITEM' is being copied into a new temporary table 'SNOWPARK_TEMP_TABLE_6MERBO21WZ' for snapshotting. DataFrame creation might take some time.\n"
     ]
    },
    {
     "name": "stdout",
     "output_type": "stream",
     "text": [
      "CPU times: user 16.1 ms, sys: 5.76 ms, total: 21.8 ms\n",
      "Wall time: 8.31 s\n"
     ]
    }
   ],
   "source": [
    "%%time\n",
    "\n",
    "df = pd.read_snowflake(\"SAMPLE_DATA.TPCH_SF10.LINEITEM\")"
   ]
  },
  {
   "cell_type": "markdown",
   "metadata": {},
   "source": [
    "The data is large, and pulling it all into pandas would take about 2.5 minutes..."
   ]
  },
  {
   "cell_type": "code",
   "execution_count": 11,
   "metadata": {},
   "outputs": [
    {
     "data": {
      "application/vnd.jupyter.widget-view+json": {
       "model_id": "2c787c07f8534df0914afddb8db16523",
       "version_major": 2,
       "version_minor": 0
      },
      "text/plain": [
       "Transferring data from Snowflake to Python ...:   0%|          | 0/1 [00:00<?, ?it/s]"
      ]
     },
     "metadata": {},
     "output_type": "display_data"
    },
    {
     "name": "stderr",
     "output_type": "stream",
     "text": [
      "UserWarning: Distributing <class 'pandas.core.frame.DataFrame'> object. This may take some time.\n"
     ]
    },
    {
     "data": {
      "text/html": [
       "<div>\n",
       "<style scoped>\n",
       "    .dataframe tbody tr th:only-of-type {\n",
       "        vertical-align: middle;\n",
       "    }\n",
       "\n",
       "    .dataframe tbody tr th {\n",
       "        vertical-align: top;\n",
       "    }\n",
       "\n",
       "    .dataframe thead th {\n",
       "        text-align: right;\n",
       "    }\n",
       "</style>\n",
       "<table border=\"1\" class=\"dataframe\">\n",
       "  <thead>\n",
       "    <tr style=\"text-align: right;\">\n",
       "      <th></th>\n",
       "      <th>L_ORDERKEY</th>\n",
       "      <th>L_PARTKEY</th>\n",
       "      <th>L_SUPPKEY</th>\n",
       "      <th>L_LINENUMBER</th>\n",
       "      <th>L_QUANTITY</th>\n",
       "      <th>L_EXTENDEDPRICE</th>\n",
       "      <th>L_DISCOUNT</th>\n",
       "      <th>L_TAX</th>\n",
       "      <th>L_RETURNFLAG</th>\n",
       "      <th>L_LINESTATUS</th>\n",
       "      <th>L_SHIPDATE</th>\n",
       "      <th>L_COMMITDATE</th>\n",
       "      <th>L_RECEIPTDATE</th>\n",
       "      <th>L_SHIPINSTRUCT</th>\n",
       "      <th>L_SHIPMODE</th>\n",
       "      <th>L_COMMENT</th>\n",
       "    </tr>\n",
       "  </thead>\n",
       "  <tbody>\n",
       "    <tr>\n",
       "      <th>0</th>\n",
       "      <td>32915745</td>\n",
       "      <td>1047474</td>\n",
       "      <td>72485</td>\n",
       "      <td>3</td>\n",
       "      <td>15.0</td>\n",
       "      <td>21321.30</td>\n",
       "      <td>0.03</td>\n",
       "      <td>0.07</td>\n",
       "      <td>A</td>\n",
       "      <td>F</td>\n",
       "      <td>1992-09-17</td>\n",
       "      <td>1992-07-08</td>\n",
       "      <td>1992-09-21</td>\n",
       "      <td>NONE</td>\n",
       "      <td>TRUCK</td>\n",
       "      <td>its wake blithel</td>\n",
       "    </tr>\n",
       "    <tr>\n",
       "      <th>1</th>\n",
       "      <td>32915745</td>\n",
       "      <td>882169</td>\n",
       "      <td>57194</td>\n",
       "      <td>4</td>\n",
       "      <td>36.0</td>\n",
       "      <td>41440.32</td>\n",
       "      <td>0.01</td>\n",
       "      <td>0.04</td>\n",
       "      <td>A</td>\n",
       "      <td>F</td>\n",
       "      <td>1992-08-13</td>\n",
       "      <td>1992-07-13</td>\n",
       "      <td>1992-08-14</td>\n",
       "      <td>NONE</td>\n",
       "      <td>MAIL</td>\n",
       "      <td>about the express, final</td>\n",
       "    </tr>\n",
       "    <tr>\n",
       "      <th>2</th>\n",
       "      <td>32915745</td>\n",
       "      <td>612588</td>\n",
       "      <td>12589</td>\n",
       "      <td>5</td>\n",
       "      <td>35.0</td>\n",
       "      <td>52519.25</td>\n",
       "      <td>0.06</td>\n",
       "      <td>0.05</td>\n",
       "      <td>R</td>\n",
       "      <td>F</td>\n",
       "      <td>1992-08-02</td>\n",
       "      <td>1992-08-05</td>\n",
       "      <td>1992-08-06</td>\n",
       "      <td>DELIVER IN PERSON</td>\n",
       "      <td>SHIP</td>\n",
       "      <td>e accounts. fluffily ironic packages nag</td>\n",
       "    </tr>\n",
       "    <tr>\n",
       "      <th>3</th>\n",
       "      <td>32915745</td>\n",
       "      <td>1761583</td>\n",
       "      <td>61584</td>\n",
       "      <td>6</td>\n",
       "      <td>35.0</td>\n",
       "      <td>57557.50</td>\n",
       "      <td>0.05</td>\n",
       "      <td>0.02</td>\n",
       "      <td>R</td>\n",
       "      <td>F</td>\n",
       "      <td>1992-09-14</td>\n",
       "      <td>1992-08-21</td>\n",
       "      <td>1992-10-07</td>\n",
       "      <td>NONE</td>\n",
       "      <td>FOB</td>\n",
       "      <td>sts wake! dependencies dete</td>\n",
       "    </tr>\n",
       "    <tr>\n",
       "      <th>4</th>\n",
       "      <td>32915745</td>\n",
       "      <td>919773</td>\n",
       "      <td>19774</td>\n",
       "      <td>7</td>\n",
       "      <td>26.0</td>\n",
       "      <td>46610.98</td>\n",
       "      <td>0.00</td>\n",
       "      <td>0.06</td>\n",
       "      <td>R</td>\n",
       "      <td>F</td>\n",
       "      <td>1992-06-23</td>\n",
       "      <td>1992-08-17</td>\n",
       "      <td>1992-07-05</td>\n",
       "      <td>DELIVER IN PERSON</td>\n",
       "      <td>AIR</td>\n",
       "      <td>st the furiously ironic depos</td>\n",
       "    </tr>\n",
       "    <tr>\n",
       "      <th>...</th>\n",
       "      <td>...</td>\n",
       "      <td>...</td>\n",
       "      <td>...</td>\n",
       "      <td>...</td>\n",
       "      <td>...</td>\n",
       "      <td>...</td>\n",
       "      <td>...</td>\n",
       "      <td>...</td>\n",
       "      <td>...</td>\n",
       "      <td>...</td>\n",
       "      <td>...</td>\n",
       "      <td>...</td>\n",
       "      <td>...</td>\n",
       "      <td>...</td>\n",
       "      <td>...</td>\n",
       "      <td>...</td>\n",
       "    </tr>\n",
       "    <tr>\n",
       "      <th>59986047</th>\n",
       "      <td>55014720</td>\n",
       "      <td>945502</td>\n",
       "      <td>95521</td>\n",
       "      <td>1</td>\n",
       "      <td>31.0</td>\n",
       "      <td>47971.26</td>\n",
       "      <td>0.06</td>\n",
       "      <td>0.03</td>\n",
       "      <td>R</td>\n",
       "      <td>F</td>\n",
       "      <td>1993-09-08</td>\n",
       "      <td>1993-08-13</td>\n",
       "      <td>1993-09-21</td>\n",
       "      <td>NONE</td>\n",
       "      <td>MAIL</td>\n",
       "      <td>ding deposits.</td>\n",
       "    </tr>\n",
       "    <tr>\n",
       "      <th>59986048</th>\n",
       "      <td>55014720</td>\n",
       "      <td>1042416</td>\n",
       "      <td>67427</td>\n",
       "      <td>2</td>\n",
       "      <td>14.0</td>\n",
       "      <td>19017.04</td>\n",
       "      <td>0.01</td>\n",
       "      <td>0.08</td>\n",
       "      <td>R</td>\n",
       "      <td>F</td>\n",
       "      <td>1993-06-17</td>\n",
       "      <td>1993-08-10</td>\n",
       "      <td>1993-06-19</td>\n",
       "      <td>TAKE BACK RETURN</td>\n",
       "      <td>AIR</td>\n",
       "      <td>s! carefully ir</td>\n",
       "    </tr>\n",
       "    <tr>\n",
       "      <th>59986049</th>\n",
       "      <td>55014720</td>\n",
       "      <td>1877609</td>\n",
       "      <td>2628</td>\n",
       "      <td>3</td>\n",
       "      <td>21.0</td>\n",
       "      <td>33316.71</td>\n",
       "      <td>0.09</td>\n",
       "      <td>0.08</td>\n",
       "      <td>A</td>\n",
       "      <td>F</td>\n",
       "      <td>1993-08-25</td>\n",
       "      <td>1993-07-26</td>\n",
       "      <td>1993-09-06</td>\n",
       "      <td>COLLECT COD</td>\n",
       "      <td>SHIP</td>\n",
       "      <td>boost silent requests. furiously bold</td>\n",
       "    </tr>\n",
       "    <tr>\n",
       "      <th>59986050</th>\n",
       "      <td>55014720</td>\n",
       "      <td>971153</td>\n",
       "      <td>96163</td>\n",
       "      <td>4</td>\n",
       "      <td>26.0</td>\n",
       "      <td>31826.86</td>\n",
       "      <td>0.06</td>\n",
       "      <td>0.05</td>\n",
       "      <td>R</td>\n",
       "      <td>F</td>\n",
       "      <td>1993-08-21</td>\n",
       "      <td>1993-09-11</td>\n",
       "      <td>1993-09-07</td>\n",
       "      <td>NONE</td>\n",
       "      <td>FOB</td>\n",
       "      <td>arefully pending pearls. fluffil</td>\n",
       "    </tr>\n",
       "    <tr>\n",
       "      <th>59986051</th>\n",
       "      <td>55014720</td>\n",
       "      <td>164416</td>\n",
       "      <td>39420</td>\n",
       "      <td>5</td>\n",
       "      <td>26.0</td>\n",
       "      <td>38490.66</td>\n",
       "      <td>0.04</td>\n",
       "      <td>0.00</td>\n",
       "      <td>A</td>\n",
       "      <td>F</td>\n",
       "      <td>1993-06-29</td>\n",
       "      <td>1993-09-12</td>\n",
       "      <td>1993-07-05</td>\n",
       "      <td>TAKE BACK RETURN</td>\n",
       "      <td>SHIP</td>\n",
       "      <td>furiously</td>\n",
       "    </tr>\n",
       "  </tbody>\n",
       "</table>\n",
       "<p>59986052 rows x 16 columns</p>\n",
       "</div>"
      ],
      "text/plain": [
       "          L_ORDERKEY  L_PARTKEY  L_SUPPKEY  L_LINENUMBER  L_QUANTITY  \\\n",
       "0           32915745    1047474      72485             3        15.0   \n",
       "1           32915745     882169      57194             4        36.0   \n",
       "2           32915745     612588      12589             5        35.0   \n",
       "3           32915745    1761583      61584             6        35.0   \n",
       "4           32915745     919773      19774             7        26.0   \n",
       "...              ...        ...        ...           ...         ...   \n",
       "59986047    55014720     945502      95521             1        31.0   \n",
       "59986048    55014720    1042416      67427             2        14.0   \n",
       "59986049    55014720    1877609       2628             3        21.0   \n",
       "59986050    55014720     971153      96163             4        26.0   \n",
       "59986051    55014720     164416      39420             5        26.0   \n",
       "\n",
       "          L_EXTENDEDPRICE  L_DISCOUNT  L_TAX L_RETURNFLAG L_LINESTATUS  \\\n",
       "0                21321.30        0.03   0.07            A            F   \n",
       "1                41440.32        0.01   0.04            A            F   \n",
       "2                52519.25        0.06   0.05            R            F   \n",
       "3                57557.50        0.05   0.02            R            F   \n",
       "4                46610.98        0.00   0.06            R            F   \n",
       "...                   ...         ...    ...          ...          ...   \n",
       "59986047         47971.26        0.06   0.03            R            F   \n",
       "59986048         19017.04        0.01   0.08            R            F   \n",
       "59986049         33316.71        0.09   0.08            A            F   \n",
       "59986050         31826.86        0.06   0.05            R            F   \n",
       "59986051         38490.66        0.04   0.00            A            F   \n",
       "\n",
       "          L_SHIPDATE L_COMMITDATE L_RECEIPTDATE     L_SHIPINSTRUCT L_SHIPMODE  \\\n",
       "0         1992-09-17   1992-07-08    1992-09-21               NONE      TRUCK   \n",
       "1         1992-08-13   1992-07-13    1992-08-14               NONE       MAIL   \n",
       "2         1992-08-02   1992-08-05    1992-08-06  DELIVER IN PERSON       SHIP   \n",
       "3         1992-09-14   1992-08-21    1992-10-07               NONE        FOB   \n",
       "4         1992-06-23   1992-08-17    1992-07-05  DELIVER IN PERSON        AIR   \n",
       "...              ...          ...           ...                ...        ...   \n",
       "59986047  1993-09-08   1993-08-13    1993-09-21               NONE       MAIL   \n",
       "59986048  1993-06-17   1993-08-10    1993-06-19   TAKE BACK RETURN        AIR   \n",
       "59986049  1993-08-25   1993-07-26    1993-09-06        COLLECT COD       SHIP   \n",
       "59986050  1993-08-21   1993-09-11    1993-09-07               NONE        FOB   \n",
       "59986051  1993-06-29   1993-09-12    1993-07-05   TAKE BACK RETURN       SHIP   \n",
       "\n",
       "                                         L_COMMENT  \n",
       "0                                 its wake blithel  \n",
       "1                        about the express, final   \n",
       "2         e accounts. fluffily ironic packages nag  \n",
       "3                      sts wake! dependencies dete  \n",
       "4                    st the furiously ironic depos  \n",
       "...                                            ...  \n",
       "59986047                           ding deposits.   \n",
       "59986048                           s! carefully ir  \n",
       "59986049     boost silent requests. furiously bold  \n",
       "59986050          arefully pending pearls. fluffil  \n",
       "59986051                                 furiously  \n",
       "\n",
       "[59986052 rows x 16 columns]"
      ]
     },
     "execution_count": 11,
     "metadata": {},
     "output_type": "execute_result"
    }
   ],
   "source": [
    "df.set_backend('python')"
   ]
  },
  {
   "cell_type": "markdown",
   "metadata": {},
   "source": [
    "But we only need to work with a sample of the data, so we sample 2% of the data."
   ]
  },
  {
   "cell_type": "code",
   "execution_count": 12,
   "metadata": {},
   "outputs": [
    {
     "name": "stderr",
     "output_type": "stream",
     "text": [
      "WARNING:root:Snowpark pandas `sample` will create a temp table for sampled results to keep it deterministic.\n"
     ]
    },
    {
     "name": "stdout",
     "output_type": "stream",
     "text": [
      "CPU times: user 43.8 ms, sys: 20.6 ms, total: 64.3 ms\n",
      "Wall time: 2.89 s\n"
     ]
    }
   ],
   "source": [
    "%%time\n",
    "\n",
    "filtered = df.sample(frac=0.02)"
   ]
  },
  {
   "cell_type": "markdown",
   "metadata": {},
   "source": [
    "Now it's easier to fetch the data."
   ]
  },
  {
   "cell_type": "code",
   "execution_count": 13,
   "metadata": {},
   "outputs": [
    {
     "data": {
      "application/vnd.jupyter.widget-view+json": {
       "model_id": "cc4c740607b646fb98d6b84d0a5c328d",
       "version_major": 2,
       "version_minor": 0
      },
      "text/plain": [
       "Transferring data from Snowflake to Python ...:   0%|          | 0/1 [00:00<?, ?it/s]"
      ]
     },
     "metadata": {},
     "output_type": "display_data"
    },
    {
     "name": "stdout",
     "output_type": "stream",
     "text": [
      "CPU times: user 1.41 s, sys: 311 ms, total: 1.72 s\n",
      "Wall time: 5.27 s\n"
     ]
    },
    {
     "name": "stderr",
     "output_type": "stream",
     "text": [
      "UserWarning: Distributing <class 'pandas.core.frame.DataFrame'> object. This may take some time.\n"
     ]
    }
   ],
   "source": [
    "%%time\n",
    "\n",
    "python_filtered = filtered.set_backend('python')"
   ]
  },
  {
   "cell_type": "markdown",
   "metadata": {},
   "source": [
    "Now we can do a complex operation on the filtered subset of the data."
   ]
  },
  {
   "cell_type": "code",
   "execution_count": 14,
   "metadata": {},
   "outputs": [
    {
     "name": "stdout",
     "output_type": "stream",
     "text": [
      "CPU times: user 237 ms, sys: 43.3 ms, total: 280 ms\n",
      "Wall time: 279 ms\n"
     ]
    },
    {
     "data": {
      "text/plain": [
       "L_SHIPMODE\n",
       "AIR        6.288809e+07\n",
       "FOB        6.291766e+07\n",
       "MAIL       6.290736e+07\n",
       "RAIL       6.297100e+07\n",
       "REG AIR    6.289805e+07\n",
       "SHIP       6.287267e+07\n",
       "TRUCK      6.282901e+07\n",
       "dtype: float64"
      ]
     },
     "execution_count": 14,
     "metadata": {},
     "output_type": "execute_result"
    }
   ],
   "source": [
    "%%time\n",
    "\n",
    "python_filtered.groupby('L_SHIPMODE').apply(lambda group: group.L_ORDERKEY.iloc[0] + group.L_ORDERKEY.mean())"
   ]
  },
  {
   "cell_type": "markdown",
   "metadata": {},
   "source": [
    "Doing the same operation on the filtered data in Snowflake would take much longer."
   ]
  },
  {
   "cell_type": "code",
   "execution_count": 15,
   "metadata": {},
   "outputs": [
    {
     "name": "stdout",
     "output_type": "stream",
     "text": [
      "CPU times: user 201 ms, sys: 45.3 ms, total: 246 ms\n",
      "Wall time: 10.9 s\n"
     ]
    },
    {
     "data": {
      "text/plain": [
       "L_SHIPMODE\n",
       "AIR        6.288809e+07\n",
       "FOB        6.291766e+07\n",
       "MAIL       6.290736e+07\n",
       "RAIL       6.297100e+07\n",
       "REG AIR    6.289805e+07\n",
       "SHIP       6.287267e+07\n",
       "TRUCK      6.282901e+07\n",
       "dtype: float64"
      ]
     },
     "execution_count": 15,
     "metadata": {},
     "output_type": "execute_result"
    }
   ],
   "source": [
    "%%time\n",
    "\n",
    "filtered.groupby('L_SHIPMODE').apply(lambda group: group.L_ORDERKEY.iloc[0] + group.L_ORDERKEY.mean())"
   ]
  }
 ],
 "metadata": {
  "kernelspec": {
   "display_name": "modin-dev-hybrid",
   "language": "python",
   "name": "python3"
  },
  "language_info": {
   "codemirror_mode": {
    "name": "ipython",
    "version": 3
   },
   "file_extension": ".py",
   "mimetype": "text/x-python",
   "name": "python",
   "nbconvert_exporter": "python",
   "pygments_lexer": "ipython3",
   "version": "3.9.21"
  }
 },
 "nbformat": 4,
 "nbformat_minor": 2
}
