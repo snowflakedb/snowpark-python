{
 "cells": [
  {
   "cell_type": "markdown",
   "metadata": {},
   "source": [
    "# Preamble"
   ]
  },
  {
   "cell_type": "code",
   "execution_count": 1,
   "metadata": {},
   "outputs": [
    {
     "name": "stdout",
     "output_type": "stream",
     "text": [
      "Initiating login request with your identity provider. A browser window should have opened for you to complete the login. If you can't see it, check existing browser windows, or your OS settings. Press CTRL+C to abort and try again...\n",
      "Going to open: https://snowbiz.okta.com/app/snowflake/exk8wfsfryJIn4IWZ2p7/sso/saml?SAMLRequest=jVJdc9owEPwrHvUZy3agBA2QoYE0bkgA25CZvAlbEBVZUnVyDP31lfnopA%2FJ9E1z2r3du73%2Bzb4U3hszwJUcoNAPkMdkrgoutwO0zO5a18gDS2VBhZJsgA4M0M2wD7QUmowq%2ByoT9qtiYD3XSAJpPgaoMpIoChyIpCUDYnOSjh6nJPIDQgGYsU4OnSkFcKf1aq0mGNd17ddXvjJbHAVBgIMedqgG8gW9k9Cfa2ijrMqVuFD2bqYPJEIctBsJh3AK8zPxG5enFXymsj6BgNxn2bw1n6UZ8kaX6W6VhKpkJmXmjedsmUxPBsA5SJ9mz%2FezZTrxQap6I%2BiO5arUlXXdfPfCG1Zgobbc7SgeD5De8WL0NS3MpBc%2BxjUcJt8XUfbQo%2BuHadLrLpJ0tV3p9TTRifjZWeTIW10SjZpEY4CKxbLJ0bpSEHVaQbsVhFkUkahLrtp%2BJ4xekDd2OXJJ7ZF5MdtYXPPfvtpZejRHtcZ%2FfWO2313XG9iYw49YtuPnl0h3MYDCTUzodCnkaMAM%2F3f%2BPn7POh%2Fbk9t%2FPJ4rwfODd6dMSe3H8YR%2BeKzworU5QgkrKRejojAMwMUkhKpvDaPW3bQ1FUN4eFL996qHfwA%3D&RelayState=ver%3A1-hint%3A2050348631518-ETMsDgAAAZXzd5HvABRBRVMvQ0JDL1BLQ1M1UGFkZGluZwEAABAAELPlz%2BPXLO6eKsIy%2F2D1ikYAAACQsi9j0OOq6w%2FKPM5yqs6Lp81n6FXmbf36VFAGYHBHig8sGrVystf4TST62FsMqO4b3QxVH0Djp0XkIIbG5ShInWXavL8z4jKY6uKtTfSAcXbekD2IhKZe1W9Ly%2FJCS9%2BU6LU72C4pge%2F4I9fx8lazE0Wgic61PqrwVT8xj7J34rI0pn0VJtIchg88fKhmI1WIABSSyDsLu8C7d9f2Q3h4hWPUco6YYg%3D%3D to authenticate...\n",
      "CPU times: user 1.68 s, sys: 2.2 s, total: 3.88 s\n",
      "Wall time: 3.34 s\n"
     ]
    }
   ],
   "source": [
    "%%time\n",
    "\n",
    "import snowflake.snowpark.modin.plugin\n",
    "import modin.pandas as pd\n",
    "import numpy as np\n",
    "import datetime\n",
    "import pandas as native_pd\n",
    "from snowflake.snowpark.session import Session; session = Session.builder.create()"
   ]
  },
  {
   "cell_type": "markdown",
   "metadata": {},
   "source": [
    "# Use case 1: working with a single small table"
   ]
  },
  {
   "cell_type": "markdown",
   "metadata": {},
   "source": [
    "In this example, we read the Snowhouse table `SAMPLE_DATA.TPCH_SF1.CUSTOMER`, which is 150k rows and 10.3 MB in Snowflake."
   ]
  },
  {
   "cell_type": "code",
   "execution_count": 2,
   "metadata": {},
   "outputs": [
    {
     "name": "stderr",
     "output_type": "stream",
     "text": [
      "Snapshot source table/view 'SAMPLE_DATA.TPCH_SF1.CUSTOMER' failed due to reason: `003029 (0A000): SQL compilation error:\n",
      "Cannot clone from a table that was imported from a share.'. Data from source table/view 'SAMPLE_DATA.TPCH_SF1.CUSTOMER' is being copied into a new temporary table 'SNOWPARK_TEMP_TABLE_4BHELI4ZHP' for snapshotting. DataFrame creation might take some time.\n"
     ]
    },
    {
     "name": "stdout",
     "output_type": "stream",
     "text": [
      "CPU times: user 88.5 ms, sys: 37.9 ms, total: 126 ms\n",
      "Wall time: 4.3 s\n"
     ]
    }
   ],
   "source": [
    "%%time\n",
    "\n",
    "df = pd.read_snowflake(\"SAMPLE_DATA.TPCH_SF1.CUSTOMER\")"
   ]
  },
  {
   "cell_type": "markdown",
   "metadata": {},
   "source": [
    "Just printing the data is visibly slow..."
   ]
  },
  {
   "cell_type": "code",
   "execution_count": 3,
   "metadata": {},
   "outputs": [
    {
     "data": {
      "text/html": [
       "<div>\n",
       "<style scoped>\n",
       "    .dataframe tbody tr th:only-of-type {\n",
       "        vertical-align: middle;\n",
       "    }\n",
       "\n",
       "    .dataframe tbody tr th {\n",
       "        vertical-align: top;\n",
       "    }\n",
       "\n",
       "    .dataframe thead th {\n",
       "        text-align: right;\n",
       "    }\n",
       "</style>\n",
       "<table border=\"1\" class=\"dataframe\">\n",
       "  <thead>\n",
       "    <tr style=\"text-align: right;\">\n",
       "      <th></th>\n",
       "      <th>C_CUSTKEY</th>\n",
       "      <th>C_NAME</th>\n",
       "      <th>C_ADDRESS</th>\n",
       "      <th>C_NATIONKEY</th>\n",
       "      <th>C_PHONE</th>\n",
       "      <th>C_ACCTBAL</th>\n",
       "      <th>C_MKTSEGMENT</th>\n",
       "      <th>C_COMMENT</th>\n",
       "    </tr>\n",
       "  </thead>\n",
       "  <tbody>\n",
       "    <tr>\n",
       "      <th>0</th>\n",
       "      <td>30001</td>\n",
       "      <td>Customer#000030001</td>\n",
       "      <td>Ui1b,3Q71CiLTJn4MbVp,,YCZARIaNTelfst</td>\n",
       "      <td>4</td>\n",
       "      <td>14-526-204-4500</td>\n",
       "      <td>8848.47</td>\n",
       "      <td>MACHINERY</td>\n",
       "      <td>frays wake blithely enticingly ironic asymptote</td>\n",
       "    </tr>\n",
       "    <tr>\n",
       "      <th>1</th>\n",
       "      <td>30002</td>\n",
       "      <td>Customer#000030002</td>\n",
       "      <td>UVBoMtILkQu1J3v</td>\n",
       "      <td>11</td>\n",
       "      <td>21-340-653-9800</td>\n",
       "      <td>5221.81</td>\n",
       "      <td>MACHINERY</td>\n",
       "      <td>he slyly ironic pinto beans wake slyly above t...</td>\n",
       "    </tr>\n",
       "    <tr>\n",
       "      <th>2</th>\n",
       "      <td>30003</td>\n",
       "      <td>Customer#000030003</td>\n",
       "      <td>CuGi9fwKn8JdR</td>\n",
       "      <td>21</td>\n",
       "      <td>31-757-493-7525</td>\n",
       "      <td>3014.89</td>\n",
       "      <td>BUILDING</td>\n",
       "      <td>e furiously alongside of the requests. evenly ...</td>\n",
       "    </tr>\n",
       "    <tr>\n",
       "      <th>3</th>\n",
       "      <td>30004</td>\n",
       "      <td>Customer#000030004</td>\n",
       "      <td>tkR93ReOnf9zYeO</td>\n",
       "      <td>23</td>\n",
       "      <td>33-870-136-4375</td>\n",
       "      <td>3308.55</td>\n",
       "      <td>AUTOMOBILE</td>\n",
       "      <td>ssly bold deposits. final req</td>\n",
       "    </tr>\n",
       "    <tr>\n",
       "      <th>4</th>\n",
       "      <td>30005</td>\n",
       "      <td>Customer#000030005</td>\n",
       "      <td>pvq4uDoD8pEwpAE01aesCtbD9WU8qmlsvoFav5</td>\n",
       "      <td>9</td>\n",
       "      <td>19-144-468-5416</td>\n",
       "      <td>-278.54</td>\n",
       "      <td>MACHINERY</td>\n",
       "      <td>ructions behind the pinto beans x-ra</td>\n",
       "    </tr>\n",
       "    <tr>\n",
       "      <th>...</th>\n",
       "      <td>...</td>\n",
       "      <td>...</td>\n",
       "      <td>...</td>\n",
       "      <td>...</td>\n",
       "      <td>...</td>\n",
       "      <td>...</td>\n",
       "      <td>...</td>\n",
       "      <td>...</td>\n",
       "    </tr>\n",
       "    <tr>\n",
       "      <th>149995</th>\n",
       "      <td>29996</td>\n",
       "      <td>Customer#000029996</td>\n",
       "      <td>BnZVGZiAgcEImNm9iD</td>\n",
       "      <td>7</td>\n",
       "      <td>17-536-308-8025</td>\n",
       "      <td>4035.17</td>\n",
       "      <td>FURNITURE</td>\n",
       "      <td>ual instructions. bold, silent foxes nag blith...</td>\n",
       "    </tr>\n",
       "    <tr>\n",
       "      <th>149996</th>\n",
       "      <td>29997</td>\n",
       "      <td>Customer#000029997</td>\n",
       "      <td>lTbDYXdQ74JctD UbRbXCqF2b8</td>\n",
       "      <td>9</td>\n",
       "      <td>19-631-777-4123</td>\n",
       "      <td>2015.90</td>\n",
       "      <td>HOUSEHOLD</td>\n",
       "      <td>eodolites detect slyly alongside of the quickl...</td>\n",
       "    </tr>\n",
       "    <tr>\n",
       "      <th>149997</th>\n",
       "      <td>29998</td>\n",
       "      <td>Customer#000029998</td>\n",
       "      <td>ZxxiuDruzi98CcymR</td>\n",
       "      <td>23</td>\n",
       "      <td>33-619-315-9722</td>\n",
       "      <td>-810.56</td>\n",
       "      <td>FURNITURE</td>\n",
       "      <td>xpress packages. accounts sleep carefully iron...</td>\n",
       "    </tr>\n",
       "    <tr>\n",
       "      <th>149998</th>\n",
       "      <td>29999</td>\n",
       "      <td>Customer#000029999</td>\n",
       "      <td>CuPA4UpgTCYiXrBrpiSO D</td>\n",
       "      <td>12</td>\n",
       "      <td>22-824-951-8333</td>\n",
       "      <td>3865.14</td>\n",
       "      <td>FURNITURE</td>\n",
       "      <td>eposits-- accounts haggle across the slyly per...</td>\n",
       "    </tr>\n",
       "    <tr>\n",
       "      <th>149999</th>\n",
       "      <td>30000</td>\n",
       "      <td>Customer#000030000</td>\n",
       "      <td>sXiVJIRV4f4,MWk</td>\n",
       "      <td>22</td>\n",
       "      <td>32-391-639-5338</td>\n",
       "      <td>4437.43</td>\n",
       "      <td>BUILDING</td>\n",
       "      <td>ong the blithely special ideas: slyly regular ...</td>\n",
       "    </tr>\n",
       "  </tbody>\n",
       "</table>\n",
       "<p>150000 rows × 8 columns</p>\n",
       "</div>"
      ],
      "text/plain": [
       "        C_CUSTKEY              C_NAME                               C_ADDRESS  \\\n",
       "0           30001  Customer#000030001    Ui1b,3Q71CiLTJn4MbVp,,YCZARIaNTelfst   \n",
       "1           30002  Customer#000030002                         UVBoMtILkQu1J3v   \n",
       "2           30003  Customer#000030003                           CuGi9fwKn8JdR   \n",
       "3           30004  Customer#000030004                         tkR93ReOnf9zYeO   \n",
       "4           30005  Customer#000030005  pvq4uDoD8pEwpAE01aesCtbD9WU8qmlsvoFav5   \n",
       "...           ...                 ...                                     ...   \n",
       "149995      29996  Customer#000029996                      BnZVGZiAgcEImNm9iD   \n",
       "149996      29997  Customer#000029997              lTbDYXdQ74JctD UbRbXCqF2b8   \n",
       "149997      29998  Customer#000029998                       ZxxiuDruzi98CcymR   \n",
       "149998      29999  Customer#000029999                  CuPA4UpgTCYiXrBrpiSO D   \n",
       "149999      30000  Customer#000030000                         sXiVJIRV4f4,MWk   \n",
       "\n",
       "        C_NATIONKEY          C_PHONE  C_ACCTBAL C_MKTSEGMENT  \\\n",
       "0                 4  14-526-204-4500    8848.47    MACHINERY   \n",
       "1                11  21-340-653-9800    5221.81    MACHINERY   \n",
       "2                21  31-757-493-7525    3014.89     BUILDING   \n",
       "3                23  33-870-136-4375    3308.55   AUTOMOBILE   \n",
       "4                 9  19-144-468-5416    -278.54    MACHINERY   \n",
       "...             ...              ...        ...          ...   \n",
       "149995            7  17-536-308-8025    4035.17    FURNITURE   \n",
       "149996            9  19-631-777-4123    2015.90    HOUSEHOLD   \n",
       "149997           23  33-619-315-9722    -810.56    FURNITURE   \n",
       "149998           12  22-824-951-8333    3865.14    FURNITURE   \n",
       "149999           22  32-391-639-5338    4437.43     BUILDING   \n",
       "\n",
       "                                                C_COMMENT  \n",
       "0         frays wake blithely enticingly ironic asymptote  \n",
       "1       he slyly ironic pinto beans wake slyly above t...  \n",
       "2       e furiously alongside of the requests. evenly ...  \n",
       "3                           ssly bold deposits. final req  \n",
       "4                    ructions behind the pinto beans x-ra  \n",
       "...                                                   ...  \n",
       "149995  ual instructions. bold, silent foxes nag blith...  \n",
       "149996  eodolites detect slyly alongside of the quickl...  \n",
       "149997  xpress packages. accounts sleep carefully iron...  \n",
       "149998  eposits-- accounts haggle across the slyly per...  \n",
       "149999  ong the blithely special ideas: slyly regular ...  \n",
       "\n",
       "[150000 rows x 8 columns]"
      ]
     },
     "execution_count": 3,
     "metadata": {},
     "output_type": "execute_result"
    }
   ],
   "source": [
    "df"
   ]
  },
  {
   "cell_type": "markdown",
   "metadata": {},
   "source": [
    "and doing certain complex transformations is very slow."
   ]
  },
  {
   "cell_type": "code",
   "execution_count": 4,
   "metadata": {},
   "outputs": [
    {
     "ename": "KeyboardInterrupt",
     "evalue": "",
     "output_type": "error",
     "traceback": [
      "\u001b[0;31m---------------------------------------------------------------------------\u001b[0m",
      "\u001b[0;31mKeyboardInterrupt\u001b[0m                         Traceback (most recent call last)",
      "File \u001b[0;32m<timed exec>:1\u001b[0m\n",
      "File \u001b[0;32m~/dev/snowpark-python/src/snowflake/snowpark/modin/plugin/_internal/telemetry.py:432\u001b[0m, in \u001b[0;36msnowpark_pandas_telemetry_method_decorator.<locals>.wrap\u001b[0;34m(*args, **kwargs)\u001b[0m\n\u001b[1;32m    425\u001b[0m \u001b[38;5;129m@functools\u001b[39m\u001b[38;5;241m.\u001b[39mwraps(func)\n\u001b[1;32m    426\u001b[0m \u001b[38;5;28;01mdef\u001b[39;00m \u001b[38;5;21mwrap\u001b[39m(\u001b[38;5;241m*\u001b[39margs, \u001b[38;5;241m*\u001b[39m\u001b[38;5;241m*\u001b[39mkwargs):  \u001b[38;5;66;03m# type: ignore\u001b[39;00m\n\u001b[1;32m    427\u001b[0m     \u001b[38;5;66;03m# add a `type: ignore` for this function definition because the\u001b[39;00m\n\u001b[0;32m   (...)\u001b[0m\n\u001b[1;32m    430\u001b[0m     \u001b[38;5;66;03m# hints in-line here. We'll fix up the type with a `cast` before\u001b[39;00m\n\u001b[1;32m    431\u001b[0m     \u001b[38;5;66;03m# returning the function.\u001b[39;00m\n\u001b[0;32m--> 432\u001b[0m     \u001b[38;5;28;01mreturn\u001b[39;00m \u001b[43m_telemetry_helper\u001b[49m\u001b[43m(\u001b[49m\n\u001b[1;32m    433\u001b[0m \u001b[43m        \u001b[49m\u001b[43mfunc\u001b[49m\u001b[38;5;241;43m=\u001b[39;49m\u001b[43mfunc\u001b[49m\u001b[43m,\u001b[49m\n\u001b[1;32m    434\u001b[0m \u001b[43m        \u001b[49m\u001b[43margs\u001b[49m\u001b[38;5;241;43m=\u001b[39;49m\u001b[43margs\u001b[49m\u001b[43m,\u001b[49m\n\u001b[1;32m    435\u001b[0m \u001b[43m        \u001b[49m\u001b[43mkwargs\u001b[49m\u001b[38;5;241;43m=\u001b[39;49m\u001b[43mkwargs\u001b[49m\u001b[43m,\u001b[49m\n\u001b[1;32m    436\u001b[0m \u001b[43m        \u001b[49m\u001b[43mis_standalone_function\u001b[49m\u001b[38;5;241;43m=\u001b[39;49m\u001b[38;5;28;43;01mFalse\u001b[39;49;00m\u001b[43m,\u001b[49m\n\u001b[1;32m    437\u001b[0m \u001b[43m        \u001b[49m\u001b[43mproperty_name\u001b[49m\u001b[38;5;241;43m=\u001b[39;49m\u001b[43mproperty_name\u001b[49m\u001b[43m,\u001b[49m\n\u001b[1;32m    438\u001b[0m \u001b[43m        \u001b[49m\u001b[43mproperty_method_type\u001b[49m\u001b[38;5;241;43m=\u001b[39;49m\u001b[43mproperty_method_type\u001b[49m\u001b[43m,\u001b[49m\n\u001b[1;32m    439\u001b[0m \u001b[43m    \u001b[49m\u001b[43m)\u001b[49m\n",
      "File \u001b[0;32m~/dev/snowpark-python/src/snowflake/snowpark/modin/plugin/_internal/telemetry.py:343\u001b[0m, in \u001b[0;36m_telemetry_helper\u001b[0;34m(func, args, kwargs, is_standalone_function, property_name, property_method_type)\u001b[0m\n\u001b[1;32m    337\u001b[0m \u001b[38;5;28;01mtry\u001b[39;00m:\n\u001b[1;32m    338\u001b[0m     \u001b[38;5;66;03m# query_history is a QueryHistory instance which is a Context Managers\u001b[39;00m\n\u001b[1;32m    339\u001b[0m     \u001b[38;5;66;03m# See example in https://github.com/snowflakedb/snowpark-python/blob/main/src/snowflake/snowpark/session.py#L2052\u001b[39;00m\n\u001b[1;32m    340\u001b[0m     \u001b[38;5;66;03m# Use `nullcontext` to handle `session` lacking `query_history` attribute without raising an exception.\u001b[39;00m\n\u001b[1;32m    341\u001b[0m     \u001b[38;5;66;03m# This prevents telemetry from interfering with regular API calls.\u001b[39;00m\n\u001b[1;32m    342\u001b[0m     \u001b[38;5;28;01mwith\u001b[39;00m \u001b[38;5;28mgetattr\u001b[39m(session, \u001b[38;5;124m\"\u001b[39m\u001b[38;5;124mquery_history\u001b[39m\u001b[38;5;124m\"\u001b[39m, nullcontext)() \u001b[38;5;28;01mas\u001b[39;00m query_history:\n\u001b[0;32m--> 343\u001b[0m         result \u001b[38;5;241m=\u001b[39m \u001b[43mfunc\u001b[49m\u001b[43m(\u001b[49m\u001b[38;5;241;43m*\u001b[39;49m\u001b[43margs\u001b[49m\u001b[43m,\u001b[49m\u001b[43m \u001b[49m\u001b[38;5;241;43m*\u001b[39;49m\u001b[38;5;241;43m*\u001b[39;49m\u001b[43mkwargs\u001b[49m\u001b[43m)\u001b[49m\n\u001b[1;32m    344\u001b[0m \u001b[38;5;28;01mexcept\u001b[39;00m \u001b[38;5;167;01mException\u001b[39;00m \u001b[38;5;28;01mas\u001b[39;00m e:\n\u001b[1;32m    345\u001b[0m     \u001b[38;5;66;03m# Send Telemetry and Raise Error\u001b[39;00m\n\u001b[1;32m    346\u001b[0m     _send_snowpark_pandas_telemetry_helper(\n\u001b[1;32m    347\u001b[0m         session\u001b[38;5;241m=\u001b[39msession,\n\u001b[1;32m    348\u001b[0m         telemetry_type\u001b[38;5;241m=\u001b[39merror_to_telemetry_type(e),\n\u001b[0;32m   (...)\u001b[0m\n\u001b[1;32m    356\u001b[0m         method_call_count\u001b[38;5;241m=\u001b[39mmethod_call_count,\n\u001b[1;32m    357\u001b[0m     )\n",
      "File \u001b[0;32m~/dev/snowpark-python/src/snowflake/snowpark/modin/plugin/extensions/groupby_overrides.py:250\u001b[0m, in \u001b[0;36mDataFrameGroupBy.apply\u001b[0;34m(self, func, include_groups, *args, **kwargs)\u001b[0m\n\u001b[1;32m    247\u001b[0m \u001b[38;5;28;01mif\u001b[39;00m \u001b[38;5;129;01mnot\u001b[39;00m \u001b[38;5;28mcallable\u001b[39m(func):\n\u001b[1;32m    248\u001b[0m     \u001b[38;5;28;01mraise\u001b[39;00m \u001b[38;5;167;01mNotImplementedError\u001b[39;00m(\u001b[38;5;124m\"\u001b[39m\u001b[38;5;124mNo support for non-callable `func`\u001b[39m\u001b[38;5;124m\"\u001b[39m)\n\u001b[1;32m    249\u001b[0m dataframe_result \u001b[38;5;241m=\u001b[39m pd\u001b[38;5;241m.\u001b[39mDataFrame(\n\u001b[0;32m--> 250\u001b[0m     query_compiler\u001b[38;5;241m=\u001b[39m\u001b[38;5;28;43mself\u001b[39;49m\u001b[38;5;241;43m.\u001b[39;49m\u001b[43m_query_compiler\u001b[49m\u001b[38;5;241;43m.\u001b[39;49m\u001b[43mgroupby_apply\u001b[49m\u001b[43m(\u001b[49m\n\u001b[1;32m    251\u001b[0m \u001b[43m        \u001b[49m\u001b[38;5;28;43mself\u001b[39;49m\u001b[38;5;241;43m.\u001b[39;49m\u001b[43m_by\u001b[49m\u001b[43m,\u001b[49m\n\u001b[1;32m    252\u001b[0m \u001b[43m        \u001b[49m\u001b[43magg_func\u001b[49m\u001b[38;5;241;43m=\u001b[39;49m\u001b[43mfunc\u001b[49m\u001b[43m,\u001b[49m\n\u001b[1;32m    253\u001b[0m \u001b[43m        \u001b[49m\u001b[43maxis\u001b[49m\u001b[38;5;241;43m=\u001b[39;49m\u001b[38;5;28;43mself\u001b[39;49m\u001b[38;5;241;43m.\u001b[39;49m\u001b[43m_axis\u001b[49m\u001b[43m,\u001b[49m\n\u001b[1;32m    254\u001b[0m \u001b[43m        \u001b[49m\u001b[43mgroupby_kwargs\u001b[49m\u001b[38;5;241;43m=\u001b[39;49m\u001b[38;5;28;43mself\u001b[39;49m\u001b[38;5;241;43m.\u001b[39;49m\u001b[43m_kwargs\u001b[49m\u001b[43m,\u001b[49m\n\u001b[1;32m    255\u001b[0m \u001b[43m        \u001b[49m\u001b[43magg_args\u001b[49m\u001b[38;5;241;43m=\u001b[39;49m\u001b[43margs\u001b[49m\u001b[43m,\u001b[49m\n\u001b[1;32m    256\u001b[0m \u001b[43m        \u001b[49m\u001b[43magg_kwargs\u001b[49m\u001b[38;5;241;43m=\u001b[39;49m\u001b[43mkwargs\u001b[49m\u001b[43m,\u001b[49m\n\u001b[1;32m    257\u001b[0m \u001b[43m        \u001b[49m\u001b[43mseries_groupby\u001b[49m\u001b[38;5;241;43m=\u001b[39;49m\u001b[38;5;28;43;01mFalse\u001b[39;49;00m\u001b[43m,\u001b[49m\n\u001b[1;32m    258\u001b[0m \u001b[43m        \u001b[49m\u001b[43minclude_groups\u001b[49m\u001b[38;5;241;43m=\u001b[39;49m\u001b[43minclude_groups\u001b[49m\u001b[43m,\u001b[49m\n\u001b[1;32m    259\u001b[0m \u001b[43m    \u001b[49m\u001b[43m)\u001b[49m\n\u001b[1;32m    260\u001b[0m )\n\u001b[1;32m    261\u001b[0m \u001b[38;5;28;01mif\u001b[39;00m dataframe_result\u001b[38;5;241m.\u001b[39mcolumns\u001b[38;5;241m.\u001b[39mequals(pandas\u001b[38;5;241m.\u001b[39mIndex([MODIN_UNNAMED_SERIES_LABEL])):\n\u001b[1;32m    262\u001b[0m     \u001b[38;5;28;01mreturn\u001b[39;00m dataframe_result\u001b[38;5;241m.\u001b[39msqueeze(axis\u001b[38;5;241m=\u001b[39m\u001b[38;5;241m1\u001b[39m)\n",
      "File \u001b[0;32m~/dev/snowpark-python/src/snowflake/snowpark/modin/plugin/compiler/snowflake_query_compiler.py:484\u001b[0m, in \u001b[0;36m_propagate_attrs_on_methods.<locals>.propagate_attrs_decorator.<locals>.wrap\u001b[0;34m(self, *args, **kwargs)\u001b[0m\n\u001b[1;32m    482\u001b[0m \u001b[38;5;129m@functools\u001b[39m\u001b[38;5;241m.\u001b[39mwraps(method)\n\u001b[1;32m    483\u001b[0m \u001b[38;5;28;01mdef\u001b[39;00m \u001b[38;5;21mwrap\u001b[39m(\u001b[38;5;28mself\u001b[39m, \u001b[38;5;241m*\u001b[39margs, \u001b[38;5;241m*\u001b[39m\u001b[38;5;241m*\u001b[39mkwargs):  \u001b[38;5;66;03m# type: ignore\u001b[39;00m\n\u001b[0;32m--> 484\u001b[0m     result \u001b[38;5;241m=\u001b[39m \u001b[43mmethod\u001b[49m\u001b[43m(\u001b[49m\u001b[38;5;28;43mself\u001b[39;49m\u001b[43m,\u001b[49m\u001b[43m \u001b[49m\u001b[38;5;241;43m*\u001b[39;49m\u001b[43margs\u001b[49m\u001b[43m,\u001b[49m\u001b[43m \u001b[49m\u001b[38;5;241;43m*\u001b[39;49m\u001b[38;5;241;43m*\u001b[39;49m\u001b[43mkwargs\u001b[49m\u001b[43m)\u001b[49m\n\u001b[1;32m    485\u001b[0m     \u001b[38;5;28;01mif\u001b[39;00m \u001b[38;5;28misinstance\u001b[39m(result, SnowflakeQueryCompiler) \u001b[38;5;129;01mand\u001b[39;00m \u001b[38;5;28mlen\u001b[39m(\u001b[38;5;28mself\u001b[39m\u001b[38;5;241m.\u001b[39m_attrs):\n\u001b[1;32m    486\u001b[0m         result\u001b[38;5;241m.\u001b[39m_attrs \u001b[38;5;241m=\u001b[39m copy\u001b[38;5;241m.\u001b[39mdeepcopy(\u001b[38;5;28mself\u001b[39m\u001b[38;5;241m.\u001b[39m_attrs)\n",
      "File \u001b[0;32m~/dev/modin/modin/logging/logger_decorator.py:149\u001b[0m, in \u001b[0;36menable_logging.<locals>.decorator.<locals>.run_and_log\u001b[0;34m(*args, **kwargs)\u001b[0m\n\u001b[1;32m    147\u001b[0m start_time \u001b[38;5;241m=\u001b[39m perf_counter()\n\u001b[1;32m    148\u001b[0m \u001b[38;5;28;01mif\u001b[39;00m LogMode\u001b[38;5;241m.\u001b[39mget() \u001b[38;5;241m==\u001b[39m \u001b[38;5;124m\"\u001b[39m\u001b[38;5;124mdisable\u001b[39m\u001b[38;5;124m\"\u001b[39m:\n\u001b[0;32m--> 149\u001b[0m     result \u001b[38;5;241m=\u001b[39m \u001b[43mobj\u001b[49m\u001b[43m(\u001b[49m\u001b[38;5;241;43m*\u001b[39;49m\u001b[43margs\u001b[49m\u001b[43m,\u001b[49m\u001b[43m \u001b[49m\u001b[38;5;241;43m*\u001b[39;49m\u001b[38;5;241;43m*\u001b[39;49m\u001b[43mkwargs\u001b[49m\u001b[43m)\u001b[49m\n\u001b[1;32m    150\u001b[0m     emit_metric(metric_name, perf_counter() \u001b[38;5;241m-\u001b[39m start_time)\n\u001b[1;32m    151\u001b[0m     \u001b[38;5;28;01mreturn\u001b[39;00m result\n",
      "File \u001b[0;32m~/dev/snowpark-python/src/snowflake/snowpark/modin/plugin/compiler/snowflake_query_compiler.py:4359\u001b[0m, in \u001b[0;36mSnowflakeQueryCompiler.groupby_apply\u001b[0;34m(self, by, agg_func, axis, groupby_kwargs, agg_args, agg_kwargs, series_groupby, include_groups, force_single_group, force_list_like_to_series)\u001b[0m\n\u001b[1;32m   4337\u001b[0m     \u001b[38;5;28;01mreturn\u001b[39;00m SnowflakeQueryCompiler(\n\u001b[1;32m   4338\u001b[0m         InternalFrame\u001b[38;5;241m.\u001b[39mcreate(\n\u001b[1;32m   4339\u001b[0m             ordered_dataframe\u001b[38;5;241m=\u001b[39mordered_dataframe,\n\u001b[0;32m   (...)\u001b[0m\n\u001b[1;32m   4351\u001b[0m         )\n\u001b[1;32m   4352\u001b[0m     )\n\u001b[1;32m   4354\u001b[0m \u001b[38;5;66;03m# NOTE we are keeping the cache_result for performance reasons. DO NOT\u001b[39;00m\n\u001b[1;32m   4355\u001b[0m \u001b[38;5;66;03m# REMOVE the cache_result unless you can prove that doing so will not\u001b[39;00m\n\u001b[1;32m   4356\u001b[0m \u001b[38;5;66;03m# materially slow down CI or individual groupby.apply() calls.\u001b[39;00m\n\u001b[1;32m   4357\u001b[0m \u001b[38;5;66;03m# TODO(SNOW-1345395): Investigate why and to what extent the cache_result\u001b[39;00m\n\u001b[1;32m   4358\u001b[0m \u001b[38;5;66;03m# is useful.\u001b[39;00m\n\u001b[0;32m-> 4359\u001b[0m ordered_dataframe \u001b[38;5;241m=\u001b[39m \u001b[43mcache_result\u001b[49m\u001b[43m(\u001b[49m\n\u001b[1;32m   4360\u001b[0m \u001b[43m    \u001b[49m\u001b[43mordered_dataframe\u001b[49m\u001b[38;5;241;43m.\u001b[39;49m\u001b[43mselect\u001b[49m\u001b[43m(\u001b[49m\n\u001b[1;32m   4361\u001b[0m \u001b[43m        \u001b[49m\u001b[38;5;241;43m*\u001b[39;49m\u001b[43mby_snowflake_quoted_identifiers_list\u001b[49m\u001b[43m,\u001b[49m\n\u001b[1;32m   4362\u001b[0m \u001b[43m        \u001b[49m\u001b[43mudtf\u001b[49m\u001b[43m(\u001b[49m\n\u001b[1;32m   4363\u001b[0m \u001b[43m            \u001b[49m\u001b[43mrow_position_snowflake_quoted_identifier\u001b[49m\u001b[43m,\u001b[49m\n\u001b[1;32m   4364\u001b[0m \u001b[43m            \u001b[49m\u001b[38;5;241;43m*\u001b[39;49m\u001b[43mby_snowflake_quoted_identifiers_list\u001b[49m\u001b[43m,\u001b[49m\n\u001b[1;32m   4365\u001b[0m \u001b[43m            \u001b[49m\u001b[38;5;241;43m*\u001b[39;49m\u001b[43mnew_internal_df\u001b[49m\u001b[38;5;241;43m.\u001b[39;49m\u001b[43mindex_column_snowflake_quoted_identifiers\u001b[49m\u001b[43m,\u001b[49m\n\u001b[1;32m   4366\u001b[0m \u001b[43m            \u001b[49m\u001b[38;5;241;43m*\u001b[39;49m\u001b[43minput_data_column_identifiers\u001b[49m\u001b[43m,\u001b[49m\n\u001b[1;32m   4367\u001b[0m \u001b[43m        \u001b[49m\u001b[43m)\u001b[49m\u001b[38;5;241;43m.\u001b[39;49m\u001b[43mover\u001b[49m\u001b[43m(\u001b[49m\n\u001b[1;32m   4368\u001b[0m \u001b[43m            \u001b[49m\u001b[43mpartition_by\u001b[49m\u001b[38;5;241;43m=\u001b[39;49m\u001b[38;5;28;43;01mNone\u001b[39;49;00m\n\u001b[1;32m   4369\u001b[0m \u001b[43m            \u001b[49m\u001b[38;5;28;43;01mif\u001b[39;49;00m\u001b[43m \u001b[49m\u001b[43mforce_single_group\u001b[49m\n\u001b[1;32m   4370\u001b[0m \u001b[43m            \u001b[49m\u001b[38;5;28;43;01melse\u001b[39;49;00m\u001b[43m \u001b[49m\u001b[43m[\u001b[49m\u001b[38;5;241;43m*\u001b[39;49m\u001b[43mby_snowflake_quoted_identifiers_list\u001b[49m\u001b[43m]\u001b[49m\u001b[43m,\u001b[49m\n\u001b[1;32m   4371\u001b[0m \u001b[43m            \u001b[49m\u001b[43morder_by\u001b[49m\u001b[38;5;241;43m=\u001b[39;49m\u001b[43mrow_position_snowflake_quoted_identifier\u001b[49m\u001b[43m,\u001b[49m\n\u001b[1;32m   4372\u001b[0m \u001b[43m        \u001b[49m\u001b[43m)\u001b[49m\u001b[43m,\u001b[49m\n\u001b[1;32m   4373\u001b[0m \u001b[43m    \u001b[49m\u001b[43m)\u001b[49m\n\u001b[1;32m   4374\u001b[0m \u001b[43m\u001b[49m\u001b[43m)\u001b[49m\n\u001b[1;32m   4376\u001b[0m \u001b[38;5;250m\u001b[39m\u001b[38;5;124;03m\"\"\"\u001b[39;00m\n\u001b[1;32m   4377\u001b[0m \u001b[38;5;124;03mAfter applying the udtf, the underlying Snowpark DataFrame contains the group keys, followed by columns representing the UDTF results:\u001b[39;00m\n\u001b[1;32m   4378\u001b[0m \n\u001b[0;32m   (...)\u001b[0m\n\u001b[1;32m   4418\u001b[0m \u001b[38;5;124;03m  of the original frame.\u001b[39;00m\n\u001b[1;32m   4419\u001b[0m \u001b[38;5;124;03m\"\"\"\u001b[39;00m\n\u001b[1;32m   4421\u001b[0m ordered_dataframe \u001b[38;5;241m=\u001b[39m ordered_dataframe\u001b[38;5;241m.\u001b[39mpivot(\n\u001b[1;32m   4422\u001b[0m     APPLY_LABEL_COLUMN_QUOTED_IDENTIFIER,\n\u001b[1;32m   4423\u001b[0m     \u001b[38;5;28;01mNone\u001b[39;00m,\n\u001b[1;32m   4424\u001b[0m     \u001b[38;5;28;01mNone\u001b[39;00m,\n\u001b[1;32m   4425\u001b[0m     min_(APPLY_VALUE_COLUMN_QUOTED_IDENTIFIER),\n\u001b[1;32m   4426\u001b[0m )\n",
      "File \u001b[0;32m~/dev/snowpark-python/src/snowflake/snowpark/modin/plugin/_internal/utils.py:1937\u001b[0m, in \u001b[0;36mcache_result\u001b[0;34m(ordered_dataframe)\u001b[0m\n\u001b[1;32m   1935\u001b[0m session \u001b[38;5;241m=\u001b[39m ordered_dataframe\u001b[38;5;241m.\u001b[39msession\n\u001b[1;32m   1936\u001b[0m temp_table_name \u001b[38;5;241m=\u001b[39m \u001b[38;5;124mf\u001b[39m\u001b[38;5;124m'\u001b[39m\u001b[38;5;132;01m{\u001b[39;00msession\u001b[38;5;241m.\u001b[39mget_current_database()\u001b[38;5;132;01m}\u001b[39;00m\u001b[38;5;124m.\u001b[39m\u001b[38;5;132;01m{\u001b[39;00msession\u001b[38;5;241m.\u001b[39mget_current_schema()\u001b[38;5;132;01m}\u001b[39;00m\u001b[38;5;124m.\u001b[39m\u001b[38;5;124m\"\u001b[39m\u001b[38;5;132;01m{\u001b[39;00mrandom_name_for_temp_object(TempObjectType\u001b[38;5;241m.\u001b[39mTABLE)\u001b[38;5;132;01m}\u001b[39;00m\u001b[38;5;124m\"\u001b[39m\u001b[38;5;124m'\u001b[39m\n\u001b[0;32m-> 1937\u001b[0m \u001b[43mordered_dataframe\u001b[49m\u001b[38;5;241;43m.\u001b[39;49m\u001b[43mwrite\u001b[49m\u001b[38;5;241;43m.\u001b[39;49m\u001b[43msave_as_table\u001b[49m\u001b[43m(\u001b[49m\n\u001b[1;32m   1938\u001b[0m \u001b[43m    \u001b[49m\u001b[43mtemp_table_name\u001b[49m\u001b[43m,\u001b[49m\n\u001b[1;32m   1939\u001b[0m \u001b[43m    \u001b[49m\u001b[43mmode\u001b[49m\u001b[38;5;241;43m=\u001b[39;49m\u001b[38;5;124;43m\"\u001b[39;49m\u001b[38;5;124;43merrorifexists\u001b[39;49m\u001b[38;5;124;43m\"\u001b[39;49m\u001b[43m,\u001b[49m\n\u001b[1;32m   1940\u001b[0m \u001b[43m    \u001b[49m\u001b[43mtable_type\u001b[49m\u001b[38;5;241;43m=\u001b[39;49m\u001b[38;5;124;43m\"\u001b[39;49m\u001b[38;5;124;43mtemporary\u001b[39;49m\u001b[38;5;124;43m\"\u001b[39;49m\u001b[43m,\u001b[49m\n\u001b[1;32m   1941\u001b[0m \u001b[43m    \u001b[49m\u001b[43mstatement_params\u001b[49m\u001b[38;5;241;43m=\u001b[39;49m\u001b[43mget_default_snowpark_pandas_statement_params\u001b[49m\u001b[43m(\u001b[49m\u001b[43m)\u001b[49m\u001b[43m,\u001b[49m\n\u001b[1;32m   1942\u001b[0m \u001b[43m\u001b[49m\u001b[43m)\u001b[49m\n\u001b[1;32m   1943\u001b[0m \u001b[38;5;28;01mreturn\u001b[39;00m OrderedDataFrame(\n\u001b[1;32m   1944\u001b[0m     DataFrameReference(session\u001b[38;5;241m.\u001b[39mtable(temp_table_name)),\n\u001b[1;32m   1945\u001b[0m     projected_column_snowflake_quoted_identifiers\u001b[38;5;241m=\u001b[39mordered_dataframe\u001b[38;5;241m.\u001b[39mprojected_column_snowflake_quoted_identifiers,\n\u001b[1;32m   1946\u001b[0m     ordering_columns\u001b[38;5;241m=\u001b[39mordered_dataframe\u001b[38;5;241m.\u001b[39mordering_columns,\n\u001b[1;32m   1947\u001b[0m     row_position_snowflake_quoted_identifier\u001b[38;5;241m=\u001b[39mordered_dataframe\u001b[38;5;241m.\u001b[39mrow_position_snowflake_quoted_identifier,\n\u001b[1;32m   1948\u001b[0m )\n",
      "File \u001b[0;32m~/dev/snowpark-python/src/snowflake/snowpark/_internal/telemetry.py:328\u001b[0m, in \u001b[0;36mdfw_collect_api_telemetry.<locals>.wrap\u001b[0;34m(*args, **kwargs)\u001b[0m\n\u001b[1;32m    326\u001b[0m \u001b[38;5;28;01mtry\u001b[39;00m:\n\u001b[1;32m    327\u001b[0m     \u001b[38;5;28;01mwith\u001b[39;00m ResourceUsageCollector() \u001b[38;5;28;01mas\u001b[39;00m resource_usage_collector:\n\u001b[0;32m--> 328\u001b[0m         result \u001b[38;5;241m=\u001b[39m \u001b[43mfunc\u001b[49m\u001b[43m(\u001b[49m\u001b[38;5;241;43m*\u001b[39;49m\u001b[43margs\u001b[49m\u001b[43m,\u001b[49m\u001b[43m \u001b[49m\u001b[38;5;241;43m*\u001b[39;49m\u001b[38;5;241;43m*\u001b[39;49m\u001b[43mkwargs\u001b[49m\u001b[43m)\u001b[49m\n\u001b[1;32m    329\u001b[0m     resource_usage \u001b[38;5;241m=\u001b[39m resource_usage_collector\u001b[38;5;241m.\u001b[39mget_resource_usage()\n\u001b[1;32m    330\u001b[0m \u001b[38;5;28;01mfinally\u001b[39;00m:\n",
      "File \u001b[0;32m~/dev/snowpark-python/src/snowflake/snowpark/_internal/utils.py:1063\u001b[0m, in \u001b[0;36mpublicapi.<locals>.call_wrapper\u001b[0;34m(*args, **kwargs)\u001b[0m\n\u001b[1;32m   1059\u001b[0m kwargs[\u001b[38;5;124m\"\u001b[39m\u001b[38;5;124m_emit_ast\u001b[39m\u001b[38;5;124m\"\u001b[39m] \u001b[38;5;241m=\u001b[39m is_ast_enabled()\n\u001b[1;32m   1061\u001b[0m \u001b[38;5;66;03m# TODO: Could modify internal docstring to display that users should not modify the _emit_ast parameter.\u001b[39;00m\n\u001b[0;32m-> 1063\u001b[0m \u001b[38;5;28;01mreturn\u001b[39;00m \u001b[43mfunc\u001b[49m\u001b[43m(\u001b[49m\u001b[38;5;241;43m*\u001b[39;49m\u001b[43margs\u001b[49m\u001b[43m,\u001b[49m\u001b[43m \u001b[49m\u001b[38;5;241;43m*\u001b[39;49m\u001b[38;5;241;43m*\u001b[39;49m\u001b[43mkwargs\u001b[49m\u001b[43m)\u001b[49m\n",
      "File \u001b[0;32m~/dev/snowpark-python/src/snowflake/snowpark/dataframe_writer.py:497\u001b[0m, in \u001b[0;36mDataFrameWriter.save_as_table\u001b[0;34m(self, table_name, mode, column_order, create_temp_table, table_type, clustering_keys, statement_params, block, comment, enable_schema_evolution, data_retention_time, max_data_extension_time, change_tracking, copy_grants, iceberg_config, _emit_ast)\u001b[0m\n\u001b[1;32m    479\u001b[0m create_table_logic_plan \u001b[38;5;241m=\u001b[39m SnowflakeCreateTable(\n\u001b[1;32m    480\u001b[0m     table_name,\n\u001b[1;32m    481\u001b[0m     column_names,\n\u001b[0;32m   (...)\u001b[0m\n\u001b[1;32m    494\u001b[0m     table_exists,\n\u001b[1;32m    495\u001b[0m )\n\u001b[1;32m    496\u001b[0m snowflake_plan \u001b[38;5;241m=\u001b[39m session\u001b[38;5;241m.\u001b[39m_analyzer\u001b[38;5;241m.\u001b[39mresolve(create_table_logic_plan)\n\u001b[0;32m--> 497\u001b[0m result \u001b[38;5;241m=\u001b[39m \u001b[43msession\u001b[49m\u001b[38;5;241;43m.\u001b[39;49m\u001b[43m_conn\u001b[49m\u001b[38;5;241;43m.\u001b[39;49m\u001b[43mexecute\u001b[49m\u001b[43m(\u001b[49m\n\u001b[1;32m    498\u001b[0m \u001b[43m    \u001b[49m\u001b[43msnowflake_plan\u001b[49m\u001b[43m,\u001b[49m\n\u001b[1;32m    499\u001b[0m \u001b[43m    \u001b[49m\u001b[43m_statement_params\u001b[49m\u001b[38;5;241;43m=\u001b[39;49m\u001b[43mstatement_params\u001b[49m\u001b[43m,\u001b[49m\n\u001b[1;32m    500\u001b[0m \u001b[43m    \u001b[49m\u001b[43mblock\u001b[49m\u001b[38;5;241;43m=\u001b[39;49m\u001b[43mblock\u001b[49m\u001b[43m,\u001b[49m\n\u001b[1;32m    501\u001b[0m \u001b[43m    \u001b[49m\u001b[43mdata_type\u001b[49m\u001b[38;5;241;43m=\u001b[39;49m\u001b[43m_AsyncResultType\u001b[49m\u001b[38;5;241;43m.\u001b[39;49m\u001b[43mNO_RESULT\u001b[49m\u001b[43m,\u001b[49m\n\u001b[1;32m    502\u001b[0m \u001b[43m    \u001b[49m\u001b[38;5;241;43m*\u001b[39;49m\u001b[38;5;241;43m*\u001b[39;49m\u001b[43mkwargs\u001b[49m\u001b[43m,\u001b[49m\n\u001b[1;32m    503\u001b[0m \u001b[43m\u001b[49m\u001b[43m)\u001b[49m\n\u001b[1;32m    504\u001b[0m \u001b[38;5;28;01mreturn\u001b[39;00m result \u001b[38;5;28;01mif\u001b[39;00m \u001b[38;5;129;01mnot\u001b[39;00m block \u001b[38;5;28;01melse\u001b[39;00m \u001b[38;5;28;01mNone\u001b[39;00m\n",
      "File \u001b[0;32m~/dev/snowpark-python/src/snowflake/snowpark/_internal/server_connection.py:624\u001b[0m, in \u001b[0;36mServerConnection.execute\u001b[0;34m(self, plan, to_pandas, to_iter, to_arrow, block, data_type, log_on_exception, case_sensitive, **kwargs)\u001b[0m\n\u001b[1;32m    614\u001b[0m \u001b[38;5;28;01mif\u001b[39;00m (\n\u001b[1;32m    615\u001b[0m     is_in_stored_procedure()\n\u001b[1;32m    616\u001b[0m     \u001b[38;5;129;01mand\u001b[39;00m \u001b[38;5;129;01mnot\u001b[39;00m block\n\u001b[0;32m   (...)\u001b[0m\n\u001b[1;32m    619\u001b[0m     )\n\u001b[1;32m    620\u001b[0m ):  \u001b[38;5;66;03m# pragma: no cover\u001b[39;00m\n\u001b[1;32m    621\u001b[0m     \u001b[38;5;28;01mraise\u001b[39;00m \u001b[38;5;167;01mNotImplementedError\u001b[39;00m(\n\u001b[1;32m    622\u001b[0m         \u001b[38;5;124m\"\u001b[39m\u001b[38;5;124mAsync query is not supported in stored procedure yet\u001b[39m\u001b[38;5;124m\"\u001b[39m\n\u001b[1;32m    623\u001b[0m     )\n\u001b[0;32m--> 624\u001b[0m result_set, result_meta \u001b[38;5;241m=\u001b[39m \u001b[38;5;28;43mself\u001b[39;49m\u001b[38;5;241;43m.\u001b[39;49m\u001b[43mget_result_set\u001b[49m\u001b[43m(\u001b[49m\n\u001b[1;32m    625\u001b[0m \u001b[43m    \u001b[49m\u001b[43mplan\u001b[49m\u001b[43m,\u001b[49m\n\u001b[1;32m    626\u001b[0m \u001b[43m    \u001b[49m\u001b[43mto_pandas\u001b[49m\u001b[43m,\u001b[49m\n\u001b[1;32m    627\u001b[0m \u001b[43m    \u001b[49m\u001b[43mto_iter\u001b[49m\u001b[43m,\u001b[49m\n\u001b[1;32m    628\u001b[0m \u001b[43m    \u001b[49m\u001b[38;5;241;43m*\u001b[39;49m\u001b[38;5;241;43m*\u001b[39;49m\u001b[43mkwargs\u001b[49m\u001b[43m,\u001b[49m\n\u001b[1;32m    629\u001b[0m \u001b[43m    \u001b[49m\u001b[43mblock\u001b[49m\u001b[38;5;241;43m=\u001b[39;49m\u001b[43mblock\u001b[49m\u001b[43m,\u001b[49m\n\u001b[1;32m    630\u001b[0m \u001b[43m    \u001b[49m\u001b[43mdata_type\u001b[49m\u001b[38;5;241;43m=\u001b[39;49m\u001b[43mdata_type\u001b[49m\u001b[43m,\u001b[49m\n\u001b[1;32m    631\u001b[0m \u001b[43m    \u001b[49m\u001b[43mlog_on_exception\u001b[49m\u001b[38;5;241;43m=\u001b[39;49m\u001b[43mlog_on_exception\u001b[49m\u001b[43m,\u001b[49m\n\u001b[1;32m    632\u001b[0m \u001b[43m    \u001b[49m\u001b[43mcase_sensitive\u001b[49m\u001b[38;5;241;43m=\u001b[39;49m\u001b[43mcase_sensitive\u001b[49m\u001b[43m,\u001b[49m\n\u001b[1;32m    633\u001b[0m \u001b[43m    \u001b[49m\u001b[43mto_arrow\u001b[49m\u001b[38;5;241;43m=\u001b[39;49m\u001b[43mto_arrow\u001b[49m\u001b[43m,\u001b[49m\n\u001b[1;32m    634\u001b[0m \u001b[43m\u001b[49m\u001b[43m)\u001b[49m\n\u001b[1;32m    635\u001b[0m \u001b[38;5;28;01mif\u001b[39;00m \u001b[38;5;129;01mnot\u001b[39;00m block:\n\u001b[1;32m    636\u001b[0m     \u001b[38;5;28;01mreturn\u001b[39;00m result_set\n",
      "File \u001b[0;32m~/dev/snowpark-python/src/snowflake/snowpark/_internal/analyzer/snowflake_plan.py:142\u001b[0m, in \u001b[0;36mSnowflakePlan.Decorator.wrap_exception.<locals>.wrap\u001b[0;34m(*args, **kwargs)\u001b[0m\n\u001b[1;32m    140\u001b[0m \u001b[38;5;28;01mdef\u001b[39;00m \u001b[38;5;21mwrap\u001b[39m(\u001b[38;5;241m*\u001b[39margs, \u001b[38;5;241m*\u001b[39m\u001b[38;5;241m*\u001b[39mkwargs):\n\u001b[1;32m    141\u001b[0m     \u001b[38;5;28;01mtry\u001b[39;00m:\n\u001b[0;32m--> 142\u001b[0m         \u001b[38;5;28;01mreturn\u001b[39;00m \u001b[43mfunc\u001b[49m\u001b[43m(\u001b[49m\u001b[38;5;241;43m*\u001b[39;49m\u001b[43margs\u001b[49m\u001b[43m,\u001b[49m\u001b[43m \u001b[49m\u001b[38;5;241;43m*\u001b[39;49m\u001b[38;5;241;43m*\u001b[39;49m\u001b[43mkwargs\u001b[49m\u001b[43m)\u001b[49m\n\u001b[1;32m    143\u001b[0m     \u001b[38;5;28;01mexcept\u001b[39;00m snowflake\u001b[38;5;241m.\u001b[39mconnector\u001b[38;5;241m.\u001b[39merrors\u001b[38;5;241m.\u001b[39mProgrammingError \u001b[38;5;28;01mas\u001b[39;00m e:\n\u001b[1;32m    144\u001b[0m         query \u001b[38;5;241m=\u001b[39m \u001b[38;5;28mgetattr\u001b[39m(e, \u001b[38;5;124m\"\u001b[39m\u001b[38;5;124mquery\u001b[39m\u001b[38;5;124m\"\u001b[39m, \u001b[38;5;28;01mNone\u001b[39;00m)\n",
      "File \u001b[0;32m~/dev/snowpark-python/src/snowflake/snowpark/_internal/server_connection.py:746\u001b[0m, in \u001b[0;36mServerConnection.get_result_set\u001b[0;34m(self, plan, to_pandas, to_iter, block, data_type, log_on_exception, case_sensitive, ignore_results, to_arrow, **kwargs)\u001b[0m\n\u001b[1;32m    744\u001b[0m     kwargs[DATAFRAME_AST_PARAMETER] \u001b[38;5;241m=\u001b[39m dataframe_ast\n\u001b[1;32m    745\u001b[0m is_final_query \u001b[38;5;241m=\u001b[39m i \u001b[38;5;241m==\u001b[39m \u001b[38;5;28mlen\u001b[39m(main_queries) \u001b[38;5;241m-\u001b[39m \u001b[38;5;241m1\u001b[39m\n\u001b[0;32m--> 746\u001b[0m result \u001b[38;5;241m=\u001b[39m \u001b[38;5;28;43mself\u001b[39;49m\u001b[38;5;241;43m.\u001b[39;49m\u001b[43mrun_query\u001b[49m\u001b[43m(\u001b[49m\n\u001b[1;32m    747\u001b[0m \u001b[43m    \u001b[49m\u001b[43mfinal_query\u001b[49m\u001b[43m,\u001b[49m\n\u001b[1;32m    748\u001b[0m \u001b[43m    \u001b[49m\u001b[43mto_pandas\u001b[49m\u001b[43m,\u001b[49m\n\u001b[1;32m    749\u001b[0m \u001b[43m    \u001b[49m\u001b[43mto_iter\u001b[49m\u001b[43m \u001b[49m\u001b[38;5;129;43;01mand\u001b[39;49;00m\u001b[43m \u001b[49m\u001b[43mis_final_query\u001b[49m\u001b[43m,\u001b[49m\n\u001b[1;32m    750\u001b[0m \u001b[43m    \u001b[49m\u001b[43mis_ddl_on_temp_object\u001b[49m\u001b[38;5;241;43m=\u001b[39;49m\u001b[43mquery\u001b[49m\u001b[38;5;241;43m.\u001b[39;49m\u001b[43mis_ddl_on_temp_object\u001b[49m\u001b[43m,\u001b[49m\n\u001b[1;32m    751\u001b[0m \u001b[43m    \u001b[49m\u001b[43mblock\u001b[49m\u001b[38;5;241;43m=\u001b[39;49m\u001b[38;5;129;43;01mnot\u001b[39;49;00m\u001b[43m \u001b[49m\u001b[43mis_last\u001b[49m\u001b[43m,\u001b[49m\n\u001b[1;32m    752\u001b[0m \u001b[43m    \u001b[49m\u001b[43mdata_type\u001b[49m\u001b[38;5;241;43m=\u001b[39;49m\u001b[43mdata_type\u001b[49m\u001b[43m,\u001b[49m\n\u001b[1;32m    753\u001b[0m \u001b[43m    \u001b[49m\u001b[43masync_job_plan\u001b[49m\u001b[38;5;241;43m=\u001b[39;49m\u001b[43mplan\u001b[49m\u001b[43m,\u001b[49m\n\u001b[1;32m    754\u001b[0m \u001b[43m    \u001b[49m\u001b[43mlog_on_exception\u001b[49m\u001b[38;5;241;43m=\u001b[39;49m\u001b[43mlog_on_exception\u001b[49m\u001b[43m,\u001b[49m\n\u001b[1;32m    755\u001b[0m \u001b[43m    \u001b[49m\u001b[43mcase_sensitive\u001b[49m\u001b[38;5;241;43m=\u001b[39;49m\u001b[43mcase_sensitive\u001b[49m\u001b[43m,\u001b[49m\n\u001b[1;32m    756\u001b[0m \u001b[43m    \u001b[49m\u001b[43mparams\u001b[49m\u001b[38;5;241;43m=\u001b[39;49m\u001b[43mquery\u001b[49m\u001b[38;5;241;43m.\u001b[39;49m\u001b[43mparams\u001b[49m\u001b[43m,\u001b[49m\n\u001b[1;32m    757\u001b[0m \u001b[43m    \u001b[49m\u001b[43mignore_results\u001b[49m\u001b[38;5;241;43m=\u001b[39;49m\u001b[43mignore_results\u001b[49m\u001b[43m,\u001b[49m\n\u001b[1;32m    758\u001b[0m \u001b[43m    \u001b[49m\u001b[43masync_post_actions\u001b[49m\u001b[38;5;241;43m=\u001b[39;49m\u001b[43mpost_actions\u001b[49m\u001b[43m,\u001b[49m\n\u001b[1;32m    759\u001b[0m \u001b[43m    \u001b[49m\u001b[43mto_arrow\u001b[49m\u001b[38;5;241;43m=\u001b[39;49m\u001b[43mto_arrow\u001b[49m\u001b[43m \u001b[49m\u001b[38;5;129;43;01mand\u001b[39;49;00m\u001b[43m \u001b[49m\u001b[43mis_final_query\u001b[49m\u001b[43m,\u001b[49m\n\u001b[1;32m    760\u001b[0m \u001b[43m    \u001b[49m\u001b[38;5;241;43m*\u001b[39;49m\u001b[38;5;241;43m*\u001b[39;49m\u001b[43mkwargs\u001b[49m\u001b[43m,\u001b[49m\n\u001b[1;32m    761\u001b[0m \u001b[43m\u001b[49m\u001b[43m)\u001b[49m\n\u001b[1;32m    762\u001b[0m placeholders[query\u001b[38;5;241m.\u001b[39mquery_id_place_holder] \u001b[38;5;241m=\u001b[39m (\n\u001b[1;32m    763\u001b[0m     result[\u001b[38;5;124m\"\u001b[39m\u001b[38;5;124msfqid\u001b[39m\u001b[38;5;124m\"\u001b[39m] \u001b[38;5;28;01mif\u001b[39;00m \u001b[38;5;129;01mnot\u001b[39;00m is_last \u001b[38;5;28;01melse\u001b[39;00m result\u001b[38;5;241m.\u001b[39mquery_id\n\u001b[1;32m    764\u001b[0m )\n\u001b[1;32m    765\u001b[0m result_meta \u001b[38;5;241m=\u001b[39m get_new_description(\u001b[38;5;28mself\u001b[39m\u001b[38;5;241m.\u001b[39m_cursor)\n",
      "File \u001b[0;32m~/dev/snowpark-python/src/snowflake/snowpark/_internal/server_connection.py:127\u001b[0m, in \u001b[0;36mServerConnection._Decorator.wrap_exception.<locals>.wrap\u001b[0;34m(*args, **kwargs)\u001b[0m\n\u001b[1;32m    125\u001b[0m     \u001b[38;5;28;01mraise\u001b[39;00m SnowparkClientExceptionMessages\u001b[38;5;241m.\u001b[39mSERVER_SESSION_HAS_BEEN_CLOSED()\n\u001b[1;32m    126\u001b[0m \u001b[38;5;28;01mtry\u001b[39;00m:\n\u001b[0;32m--> 127\u001b[0m     \u001b[38;5;28;01mreturn\u001b[39;00m \u001b[43mfunc\u001b[49m\u001b[43m(\u001b[49m\u001b[38;5;241;43m*\u001b[39;49m\u001b[43margs\u001b[49m\u001b[43m,\u001b[49m\u001b[43m \u001b[49m\u001b[38;5;241;43m*\u001b[39;49m\u001b[38;5;241;43m*\u001b[39;49m\u001b[43mkwargs\u001b[49m\u001b[43m)\u001b[49m\n\u001b[1;32m    128\u001b[0m \u001b[38;5;28;01mexcept\u001b[39;00m ReauthenticationRequest \u001b[38;5;28;01mas\u001b[39;00m ex:\n\u001b[1;32m    129\u001b[0m     \u001b[38;5;28;01mraise\u001b[39;00m SnowparkClientExceptionMessages\u001b[38;5;241m.\u001b[39mSERVER_SESSION_EXPIRED(\n\u001b[1;32m    130\u001b[0m         ex\u001b[38;5;241m.\u001b[39mcause\n\u001b[1;32m    131\u001b[0m     )\n",
      "File \u001b[0;32m~/dev/snowpark-python/src/snowflake/snowpark/_internal/server_connection.py:505\u001b[0m, in \u001b[0;36mServerConnection.run_query\u001b[0;34m(self, query, to_pandas, to_iter, is_ddl_on_temp_object, block, data_type, async_job_plan, log_on_exception, case_sensitive, params, num_statements, ignore_results, async_post_actions, to_arrow, **kwargs)\u001b[0m\n\u001b[1;32m    503\u001b[0m     kwargs[\u001b[38;5;124m\"\u001b[39m\u001b[38;5;124m_statement_params\u001b[39m\u001b[38;5;124m\"\u001b[39m][\u001b[38;5;124m\"\u001b[39m\u001b[38;5;124mSNOWPARK_SKIP_TXN_COMMIT_IN_DDL\u001b[39m\u001b[38;5;124m\"\u001b[39m] \u001b[38;5;241m=\u001b[39m \u001b[38;5;28;01mTrue\u001b[39;00m\n\u001b[1;32m    504\u001b[0m \u001b[38;5;28;01mif\u001b[39;00m block:\n\u001b[0;32m--> 505\u001b[0m     results_cursor \u001b[38;5;241m=\u001b[39m \u001b[38;5;28;43mself\u001b[39;49m\u001b[38;5;241;43m.\u001b[39;49m\u001b[43mexecute_and_notify_query_listener\u001b[49m\u001b[43m(\u001b[49m\n\u001b[1;32m    506\u001b[0m \u001b[43m        \u001b[49m\u001b[43mquery\u001b[49m\u001b[43m,\u001b[49m\u001b[43m \u001b[49m\u001b[43mparams\u001b[49m\u001b[38;5;241;43m=\u001b[39;49m\u001b[43mparams\u001b[49m\u001b[43m,\u001b[49m\u001b[43m \u001b[49m\u001b[38;5;241;43m*\u001b[39;49m\u001b[38;5;241;43m*\u001b[39;49m\u001b[43mkwargs\u001b[49m\n\u001b[1;32m    507\u001b[0m \u001b[43m    \u001b[49m\u001b[43m)\u001b[49m\n\u001b[1;32m    508\u001b[0m     logger\u001b[38;5;241m.\u001b[39mdebug(\u001b[38;5;124mf\u001b[39m\u001b[38;5;124m\"\u001b[39m\u001b[38;5;124mExecute query [queryID: \u001b[39m\u001b[38;5;132;01m{\u001b[39;00mresults_cursor\u001b[38;5;241m.\u001b[39msfqid\u001b[38;5;132;01m}\u001b[39;00m\u001b[38;5;124m] \u001b[39m\u001b[38;5;132;01m{\u001b[39;00mquery\u001b[38;5;132;01m}\u001b[39;00m\u001b[38;5;124m\"\u001b[39m)\n\u001b[1;32m    509\u001b[0m \u001b[38;5;28;01melse\u001b[39;00m:\n",
      "File \u001b[0;32m~/dev/snowpark-python/src/snowflake/snowpark/_internal/server_connection.py:437\u001b[0m, in \u001b[0;36mServerConnection.execute_and_notify_query_listener\u001b[0;34m(self, query, **kwargs)\u001b[0m\n\u001b[1;32m    434\u001b[0m     notify_kwargs[\u001b[38;5;124m\"\u001b[39m\u001b[38;5;124mdataframeAst\u001b[39m\u001b[38;5;124m\"\u001b[39m] \u001b[38;5;241m=\u001b[39m kwargs[DATAFRAME_AST_PARAMETER]\n\u001b[1;32m    436\u001b[0m \u001b[38;5;28;01mtry\u001b[39;00m:\n\u001b[0;32m--> 437\u001b[0m     results_cursor \u001b[38;5;241m=\u001b[39m \u001b[38;5;28;43mself\u001b[39;49m\u001b[38;5;241;43m.\u001b[39;49m\u001b[43m_cursor\u001b[49m\u001b[38;5;241;43m.\u001b[39;49m\u001b[43mexecute\u001b[49m\u001b[43m(\u001b[49m\u001b[43mquery\u001b[49m\u001b[43m,\u001b[49m\u001b[43m \u001b[49m\u001b[38;5;241;43m*\u001b[39;49m\u001b[38;5;241;43m*\u001b[39;49m\u001b[43mkwargs\u001b[49m\u001b[43m)\u001b[49m\n\u001b[1;32m    438\u001b[0m \u001b[38;5;28;01mexcept\u001b[39;00m \u001b[38;5;167;01mException\u001b[39;00m \u001b[38;5;28;01mas\u001b[39;00m ex:\n\u001b[1;32m    439\u001b[0m     notify_kwargs[\u001b[38;5;124m\"\u001b[39m\u001b[38;5;124mrequestId\u001b[39m\u001b[38;5;124m\"\u001b[39m] \u001b[38;5;241m=\u001b[39m \u001b[38;5;28;01mNone\u001b[39;00m\n",
      "File \u001b[0;32m~/anaconda3/envs/snowpandas-dev-test/lib/python3.9/site-packages/snowflake/connector/cursor.py:994\u001b[0m, in \u001b[0;36mSnowflakeCursor.execute\u001b[0;34m(self, command, params, _bind_stage, timeout, _exec_async, _no_retry, _do_reset, _put_callback, _put_azure_callback, _put_callback_output_stream, _get_callback, _get_azure_callback, _get_callback_output_stream, _show_progress_bar, _statement_params, _is_internal, _describe_only, _no_results, _is_put_get, _raise_put_get_error, _force_put_overwrite, _skip_upload_on_content_match, file_stream, num_statements, _force_qmark_paramstyle, _dataframe_ast)\u001b[0m\n\u001b[1;32m    987\u001b[0m     logger\u001b[38;5;241m.\u001b[39mdebug(\n\u001b[1;32m    988\u001b[0m         \u001b[38;5;124m\"\u001b[39m\u001b[38;5;124mquery was rewritten: org=\u001b[39m\u001b[38;5;132;01m%s\u001b[39;00m\u001b[38;5;124m, new=\u001b[39m\u001b[38;5;132;01m%s\u001b[39;00m\u001b[38;5;124m\"\u001b[39m,\n\u001b[1;32m    989\u001b[0m         \u001b[38;5;124m\"\u001b[39m\u001b[38;5;124m \u001b[39m\u001b[38;5;124m\"\u001b[39m\u001b[38;5;241m.\u001b[39mjoin(line\u001b[38;5;241m.\u001b[39mstrip() \u001b[38;5;28;01mfor\u001b[39;00m line \u001b[38;5;129;01min\u001b[39;00m query\u001b[38;5;241m.\u001b[39msplit(\u001b[38;5;124m\"\u001b[39m\u001b[38;5;130;01m\\n\u001b[39;00m\u001b[38;5;124m\"\u001b[39m)),\n\u001b[1;32m    990\u001b[0m         query1,\n\u001b[1;32m    991\u001b[0m     )\n\u001b[1;32m    992\u001b[0m     query \u001b[38;5;241m=\u001b[39m query1\n\u001b[0;32m--> 994\u001b[0m ret \u001b[38;5;241m=\u001b[39m \u001b[38;5;28;43mself\u001b[39;49m\u001b[38;5;241;43m.\u001b[39;49m\u001b[43m_execute_helper\u001b[49m\u001b[43m(\u001b[49m\u001b[43mquery\u001b[49m\u001b[43m,\u001b[49m\u001b[43m \u001b[49m\u001b[38;5;241;43m*\u001b[39;49m\u001b[38;5;241;43m*\u001b[39;49m\u001b[43mkwargs\u001b[49m\u001b[43m)\u001b[49m\n\u001b[1;32m    995\u001b[0m \u001b[38;5;28mself\u001b[39m\u001b[38;5;241m.\u001b[39m_sfqid \u001b[38;5;241m=\u001b[39m (\n\u001b[1;32m    996\u001b[0m     ret[\u001b[38;5;124m\"\u001b[39m\u001b[38;5;124mdata\u001b[39m\u001b[38;5;124m\"\u001b[39m][\u001b[38;5;124m\"\u001b[39m\u001b[38;5;124mqueryId\u001b[39m\u001b[38;5;124m\"\u001b[39m]\n\u001b[1;32m    997\u001b[0m     \u001b[38;5;28;01mif\u001b[39;00m \u001b[38;5;124m\"\u001b[39m\u001b[38;5;124mdata\u001b[39m\u001b[38;5;124m\"\u001b[39m \u001b[38;5;129;01min\u001b[39;00m ret \u001b[38;5;129;01mand\u001b[39;00m \u001b[38;5;124m\"\u001b[39m\u001b[38;5;124mqueryId\u001b[39m\u001b[38;5;124m\"\u001b[39m \u001b[38;5;129;01min\u001b[39;00m ret[\u001b[38;5;124m\"\u001b[39m\u001b[38;5;124mdata\u001b[39m\u001b[38;5;124m\"\u001b[39m]\n\u001b[1;32m    998\u001b[0m     \u001b[38;5;28;01melse\u001b[39;00m \u001b[38;5;28;01mNone\u001b[39;00m\n\u001b[1;32m    999\u001b[0m )\n\u001b[1;32m   1000\u001b[0m logger\u001b[38;5;241m.\u001b[39mdebug(\u001b[38;5;124mf\u001b[39m\u001b[38;5;124m\"\u001b[39m\u001b[38;5;124msfqid: \u001b[39m\u001b[38;5;132;01m{\u001b[39;00m\u001b[38;5;28mself\u001b[39m\u001b[38;5;241m.\u001b[39msfqid\u001b[38;5;132;01m}\u001b[39;00m\u001b[38;5;124m\"\u001b[39m)\n",
      "File \u001b[0;32m~/anaconda3/envs/snowpandas-dev-test/lib/python3.9/site-packages/snowflake/connector/cursor.py:700\u001b[0m, in \u001b[0;36mSnowflakeCursor._execute_helper\u001b[0;34m(self, query, timeout, statement_params, binding_params, binding_stage, is_internal, describe_only, _no_results, _is_put_get, _no_retry, dataframe_ast)\u001b[0m\n\u001b[1;32m    698\u001b[0m ret: \u001b[38;5;28mdict\u001b[39m[\u001b[38;5;28mstr\u001b[39m, Any] \u001b[38;5;241m=\u001b[39m {\u001b[38;5;124m\"\u001b[39m\u001b[38;5;124mdata\u001b[39m\u001b[38;5;124m\"\u001b[39m: {}}\n\u001b[1;32m    699\u001b[0m \u001b[38;5;28;01mtry\u001b[39;00m:\n\u001b[0;32m--> 700\u001b[0m     ret \u001b[38;5;241m=\u001b[39m \u001b[38;5;28;43mself\u001b[39;49m\u001b[38;5;241;43m.\u001b[39;49m\u001b[43m_connection\u001b[49m\u001b[38;5;241;43m.\u001b[39;49m\u001b[43mcmd_query\u001b[49m\u001b[43m(\u001b[49m\n\u001b[1;32m    701\u001b[0m \u001b[43m        \u001b[49m\u001b[43mquery\u001b[49m\u001b[43m,\u001b[49m\n\u001b[1;32m    702\u001b[0m \u001b[43m        \u001b[49m\u001b[38;5;28;43mself\u001b[39;49m\u001b[38;5;241;43m.\u001b[39;49m\u001b[43m_sequence_counter\u001b[49m\u001b[43m,\u001b[49m\n\u001b[1;32m    703\u001b[0m \u001b[43m        \u001b[49m\u001b[38;5;28;43mself\u001b[39;49m\u001b[38;5;241;43m.\u001b[39;49m\u001b[43m_request_id\u001b[49m\u001b[43m,\u001b[49m\n\u001b[1;32m    704\u001b[0m \u001b[43m        \u001b[49m\u001b[43mbinding_params\u001b[49m\u001b[38;5;241;43m=\u001b[39;49m\u001b[43mbinding_params\u001b[49m\u001b[43m,\u001b[49m\n\u001b[1;32m    705\u001b[0m \u001b[43m        \u001b[49m\u001b[43mbinding_stage\u001b[49m\u001b[38;5;241;43m=\u001b[39;49m\u001b[43mbinding_stage\u001b[49m\u001b[43m,\u001b[49m\n\u001b[1;32m    706\u001b[0m \u001b[43m        \u001b[49m\u001b[43mis_file_transfer\u001b[49m\u001b[38;5;241;43m=\u001b[39;49m\u001b[38;5;28;43mbool\u001b[39;49m\u001b[43m(\u001b[49m\u001b[38;5;28;43mself\u001b[39;49m\u001b[38;5;241;43m.\u001b[39;49m\u001b[43m_is_file_transfer\u001b[49m\u001b[43m)\u001b[49m\u001b[43m,\u001b[49m\n\u001b[1;32m    707\u001b[0m \u001b[43m        \u001b[49m\u001b[43mstatement_params\u001b[49m\u001b[38;5;241;43m=\u001b[39;49m\u001b[43mstatement_params\u001b[49m\u001b[43m,\u001b[49m\n\u001b[1;32m    708\u001b[0m \u001b[43m        \u001b[49m\u001b[43mis_internal\u001b[49m\u001b[38;5;241;43m=\u001b[39;49m\u001b[43mis_internal\u001b[49m\u001b[43m,\u001b[49m\n\u001b[1;32m    709\u001b[0m \u001b[43m        \u001b[49m\u001b[43mdescribe_only\u001b[49m\u001b[38;5;241;43m=\u001b[39;49m\u001b[43mdescribe_only\u001b[49m\u001b[43m,\u001b[49m\n\u001b[1;32m    710\u001b[0m \u001b[43m        \u001b[49m\u001b[43m_no_results\u001b[49m\u001b[38;5;241;43m=\u001b[39;49m\u001b[43m_no_results\u001b[49m\u001b[43m,\u001b[49m\n\u001b[1;32m    711\u001b[0m \u001b[43m        \u001b[49m\u001b[43m_no_retry\u001b[49m\u001b[38;5;241;43m=\u001b[39;49m\u001b[43m_no_retry\u001b[49m\u001b[43m,\u001b[49m\n\u001b[1;32m    712\u001b[0m \u001b[43m        \u001b[49m\u001b[43mtimeout\u001b[49m\u001b[38;5;241;43m=\u001b[39;49m\u001b[43mreal_timeout\u001b[49m\u001b[43m,\u001b[49m\n\u001b[1;32m    713\u001b[0m \u001b[43m        \u001b[49m\u001b[43mdataframe_ast\u001b[49m\u001b[38;5;241;43m=\u001b[39;49m\u001b[43mdataframe_ast\u001b[49m\u001b[43m,\u001b[49m\n\u001b[1;32m    714\u001b[0m \u001b[43m    \u001b[49m\u001b[43m)\u001b[49m\n\u001b[1;32m    715\u001b[0m \u001b[38;5;28;01mfinally\u001b[39;00m:\n\u001b[1;32m    716\u001b[0m     \u001b[38;5;28;01mtry\u001b[39;00m:\n",
      "File \u001b[0;32m~/anaconda3/envs/snowpandas-dev-test/lib/python3.9/site-packages/snowflake/connector/connection.py:1388\u001b[0m, in \u001b[0;36mSnowflakeConnection.cmd_query\u001b[0;34m(self, sql, sequence_counter, request_id, binding_params, binding_stage, is_file_transfer, statement_params, is_internal, describe_only, _no_results, _update_current_object, _no_retry, timeout, dataframe_ast)\u001b[0m\n\u001b[1;32m   1379\u001b[0m     logger\u001b[38;5;241m.\u001b[39mdebug(\n\u001b[1;32m   1380\u001b[0m         \u001b[38;5;124m\"\u001b[39m\u001b[38;5;124msql=[\u001b[39m\u001b[38;5;132;01m%s\u001b[39;00m\u001b[38;5;124m], sequence_id=[\u001b[39m\u001b[38;5;132;01m%s\u001b[39;00m\u001b[38;5;124m], is_file_transfer=[\u001b[39m\u001b[38;5;132;01m%s\u001b[39;00m\u001b[38;5;124m]\u001b[39m\u001b[38;5;124m\"\u001b[39m,\n\u001b[1;32m   1381\u001b[0m         \u001b[38;5;28mself\u001b[39m\u001b[38;5;241m.\u001b[39m_format_query_for_log(data[\u001b[38;5;124m\"\u001b[39m\u001b[38;5;124msqlText\u001b[39m\u001b[38;5;124m\"\u001b[39m]),\n\u001b[1;32m   1382\u001b[0m         data[\u001b[38;5;124m\"\u001b[39m\u001b[38;5;124msequenceId\u001b[39m\u001b[38;5;124m\"\u001b[39m],\n\u001b[1;32m   1383\u001b[0m         is_file_transfer,\n\u001b[1;32m   1384\u001b[0m     )\n\u001b[1;32m   1386\u001b[0m url_parameters \u001b[38;5;241m=\u001b[39m {REQUEST_ID: request_id}\n\u001b[0;32m-> 1388\u001b[0m ret \u001b[38;5;241m=\u001b[39m \u001b[38;5;28;43mself\u001b[39;49m\u001b[38;5;241;43m.\u001b[39;49m\u001b[43mrest\u001b[49m\u001b[38;5;241;43m.\u001b[39;49m\u001b[43mrequest\u001b[49m\u001b[43m(\u001b[49m\n\u001b[1;32m   1389\u001b[0m \u001b[43m    \u001b[49m\u001b[38;5;124;43m\"\u001b[39;49m\u001b[38;5;124;43m/queries/v1/query-request?\u001b[39;49m\u001b[38;5;124;43m\"\u001b[39;49m\u001b[43m \u001b[49m\u001b[38;5;241;43m+\u001b[39;49m\u001b[43m \u001b[49m\u001b[43murlencode\u001b[49m\u001b[43m(\u001b[49m\u001b[43murl_parameters\u001b[49m\u001b[43m)\u001b[49m\u001b[43m,\u001b[49m\n\u001b[1;32m   1390\u001b[0m \u001b[43m    \u001b[49m\u001b[43mdata\u001b[49m\u001b[43m,\u001b[49m\n\u001b[1;32m   1391\u001b[0m \u001b[43m    \u001b[49m\u001b[43mclient\u001b[49m\u001b[38;5;241;43m=\u001b[39;49m\u001b[43mclient\u001b[49m\u001b[43m,\u001b[49m\n\u001b[1;32m   1392\u001b[0m \u001b[43m    \u001b[49m\u001b[43m_no_results\u001b[49m\u001b[38;5;241;43m=\u001b[39;49m\u001b[43m_no_results\u001b[49m\u001b[43m,\u001b[49m\n\u001b[1;32m   1393\u001b[0m \u001b[43m    \u001b[49m\u001b[43m_include_retry_params\u001b[49m\u001b[38;5;241;43m=\u001b[39;49m\u001b[38;5;28;43;01mTrue\u001b[39;49;00m\u001b[43m,\u001b[49m\n\u001b[1;32m   1394\u001b[0m \u001b[43m    \u001b[49m\u001b[43m_no_retry\u001b[49m\u001b[38;5;241;43m=\u001b[39;49m\u001b[43m_no_retry\u001b[49m\u001b[43m,\u001b[49m\n\u001b[1;32m   1395\u001b[0m \u001b[43m    \u001b[49m\u001b[43mtimeout\u001b[49m\u001b[38;5;241;43m=\u001b[39;49m\u001b[43mtimeout\u001b[49m\u001b[43m,\u001b[49m\n\u001b[1;32m   1396\u001b[0m \u001b[43m\u001b[49m\u001b[43m)\u001b[49m\n\u001b[1;32m   1398\u001b[0m \u001b[38;5;28;01mif\u001b[39;00m ret \u001b[38;5;129;01mis\u001b[39;00m \u001b[38;5;28;01mNone\u001b[39;00m:\n\u001b[1;32m   1399\u001b[0m     ret \u001b[38;5;241m=\u001b[39m {\u001b[38;5;124m\"\u001b[39m\u001b[38;5;124mdata\u001b[39m\u001b[38;5;124m\"\u001b[39m: {}}\n",
      "File \u001b[0;32m~/anaconda3/envs/snowpandas-dev-test/lib/python3.9/site-packages/snowflake/connector/network.py:502\u001b[0m, in \u001b[0;36mSnowflakeRestful.request\u001b[0;34m(self, url, body, method, client, timeout, _no_results, _include_retry_params, _no_retry)\u001b[0m\n\u001b[1;32m    500\u001b[0m     headers[HTTP_HEADER_SERVICE_NAME] \u001b[38;5;241m=\u001b[39m \u001b[38;5;28mself\u001b[39m\u001b[38;5;241m.\u001b[39m_connection\u001b[38;5;241m.\u001b[39mservice_name\n\u001b[1;32m    501\u001b[0m \u001b[38;5;28;01mif\u001b[39;00m method \u001b[38;5;241m==\u001b[39m \u001b[38;5;124m\"\u001b[39m\u001b[38;5;124mpost\u001b[39m\u001b[38;5;124m\"\u001b[39m:\n\u001b[0;32m--> 502\u001b[0m     \u001b[38;5;28;01mreturn\u001b[39;00m \u001b[38;5;28;43mself\u001b[39;49m\u001b[38;5;241;43m.\u001b[39;49m\u001b[43m_post_request\u001b[49m\u001b[43m(\u001b[49m\n\u001b[1;32m    503\u001b[0m \u001b[43m        \u001b[49m\u001b[43murl\u001b[49m\u001b[43m,\u001b[49m\n\u001b[1;32m    504\u001b[0m \u001b[43m        \u001b[49m\u001b[43mheaders\u001b[49m\u001b[43m,\u001b[49m\n\u001b[1;32m    505\u001b[0m \u001b[43m        \u001b[49m\u001b[43mjson\u001b[49m\u001b[38;5;241;43m.\u001b[39;49m\u001b[43mdumps\u001b[49m\u001b[43m(\u001b[49m\u001b[43mbody\u001b[49m\u001b[43m)\u001b[49m\u001b[43m,\u001b[49m\n\u001b[1;32m    506\u001b[0m \u001b[43m        \u001b[49m\u001b[43mtoken\u001b[49m\u001b[38;5;241;43m=\u001b[39;49m\u001b[38;5;28;43mself\u001b[39;49m\u001b[38;5;241;43m.\u001b[39;49m\u001b[43mtoken\u001b[49m\u001b[43m,\u001b[49m\n\u001b[1;32m    507\u001b[0m \u001b[43m        \u001b[49m\u001b[43m_no_results\u001b[49m\u001b[38;5;241;43m=\u001b[39;49m\u001b[43m_no_results\u001b[49m\u001b[43m,\u001b[49m\n\u001b[1;32m    508\u001b[0m \u001b[43m        \u001b[49m\u001b[43mtimeout\u001b[49m\u001b[38;5;241;43m=\u001b[39;49m\u001b[43mtimeout\u001b[49m\u001b[43m,\u001b[49m\n\u001b[1;32m    509\u001b[0m \u001b[43m        \u001b[49m\u001b[43m_include_retry_params\u001b[49m\u001b[38;5;241;43m=\u001b[39;49m\u001b[43m_include_retry_params\u001b[49m\u001b[43m,\u001b[49m\n\u001b[1;32m    510\u001b[0m \u001b[43m        \u001b[49m\u001b[43mno_retry\u001b[49m\u001b[38;5;241;43m=\u001b[39;49m\u001b[43m_no_retry\u001b[49m\u001b[43m,\u001b[49m\n\u001b[1;32m    511\u001b[0m \u001b[43m    \u001b[49m\u001b[43m)\u001b[49m\n\u001b[1;32m    512\u001b[0m \u001b[38;5;28;01melse\u001b[39;00m:\n\u001b[1;32m    513\u001b[0m     \u001b[38;5;28;01mreturn\u001b[39;00m \u001b[38;5;28mself\u001b[39m\u001b[38;5;241m.\u001b[39m_get_request(\n\u001b[1;32m    514\u001b[0m         url,\n\u001b[1;32m    515\u001b[0m         headers,\n\u001b[1;32m    516\u001b[0m         token\u001b[38;5;241m=\u001b[39m\u001b[38;5;28mself\u001b[39m\u001b[38;5;241m.\u001b[39mtoken,\n\u001b[1;32m    517\u001b[0m         timeout\u001b[38;5;241m=\u001b[39mtimeout,\n\u001b[1;32m    518\u001b[0m     )\n",
      "File \u001b[0;32m~/anaconda3/envs/snowpandas-dev-test/lib/python3.9/site-packages/snowflake/connector/network.py:750\u001b[0m, in \u001b[0;36mSnowflakeRestful._post_request\u001b[0;34m(self, url, headers, body, token, timeout, socket_timeout, _no_results, no_retry, _include_retry_params)\u001b[0m\n\u001b[1;32m    747\u001b[0m     ret \u001b[38;5;241m=\u001b[39m probe_connection(full_url)\n\u001b[1;32m    748\u001b[0m     pprint(ret)\n\u001b[0;32m--> 750\u001b[0m ret \u001b[38;5;241m=\u001b[39m \u001b[38;5;28;43mself\u001b[39;49m\u001b[38;5;241;43m.\u001b[39;49m\u001b[43mfetch\u001b[49m\u001b[43m(\u001b[49m\n\u001b[1;32m    751\u001b[0m \u001b[43m    \u001b[49m\u001b[38;5;124;43m\"\u001b[39;49m\u001b[38;5;124;43mpost\u001b[39;49m\u001b[38;5;124;43m\"\u001b[39;49m\u001b[43m,\u001b[49m\n\u001b[1;32m    752\u001b[0m \u001b[43m    \u001b[49m\u001b[43mfull_url\u001b[49m\u001b[43m,\u001b[49m\n\u001b[1;32m    753\u001b[0m \u001b[43m    \u001b[49m\u001b[43mheaders\u001b[49m\u001b[43m,\u001b[49m\n\u001b[1;32m    754\u001b[0m \u001b[43m    \u001b[49m\u001b[43mdata\u001b[49m\u001b[38;5;241;43m=\u001b[39;49m\u001b[43mbody\u001b[49m\u001b[43m,\u001b[49m\n\u001b[1;32m    755\u001b[0m \u001b[43m    \u001b[49m\u001b[43mtimeout\u001b[49m\u001b[38;5;241;43m=\u001b[39;49m\u001b[43mtimeout\u001b[49m\u001b[43m,\u001b[49m\n\u001b[1;32m    756\u001b[0m \u001b[43m    \u001b[49m\u001b[43mtoken\u001b[49m\u001b[38;5;241;43m=\u001b[39;49m\u001b[43mtoken\u001b[49m\u001b[43m,\u001b[49m\n\u001b[1;32m    757\u001b[0m \u001b[43m    \u001b[49m\u001b[43mno_retry\u001b[49m\u001b[38;5;241;43m=\u001b[39;49m\u001b[43mno_retry\u001b[49m\u001b[43m,\u001b[49m\n\u001b[1;32m    758\u001b[0m \u001b[43m    \u001b[49m\u001b[43m_include_retry_params\u001b[49m\u001b[38;5;241;43m=\u001b[39;49m\u001b[43m_include_retry_params\u001b[49m\u001b[43m,\u001b[49m\n\u001b[1;32m    759\u001b[0m \u001b[43m    \u001b[49m\u001b[43msocket_timeout\u001b[49m\u001b[38;5;241;43m=\u001b[39;49m\u001b[43msocket_timeout\u001b[49m\u001b[43m,\u001b[49m\n\u001b[1;32m    760\u001b[0m \u001b[43m\u001b[49m\u001b[43m)\u001b[49m\n\u001b[1;32m    761\u001b[0m logger\u001b[38;5;241m.\u001b[39mdebug(\n\u001b[1;32m    762\u001b[0m     \u001b[38;5;124m\"\u001b[39m\u001b[38;5;124mret[code] = \u001b[39m\u001b[38;5;132;01m{code}\u001b[39;00m\u001b[38;5;124m, after post request\u001b[39m\u001b[38;5;124m\"\u001b[39m\u001b[38;5;241m.\u001b[39mformat(\n\u001b[1;32m    763\u001b[0m         code\u001b[38;5;241m=\u001b[39m(ret\u001b[38;5;241m.\u001b[39mget(\u001b[38;5;124m\"\u001b[39m\u001b[38;5;124mcode\u001b[39m\u001b[38;5;124m\"\u001b[39m, \u001b[38;5;124m\"\u001b[39m\u001b[38;5;124mN/A\u001b[39m\u001b[38;5;124m\"\u001b[39m))\n\u001b[1;32m    764\u001b[0m     )\n\u001b[1;32m    765\u001b[0m )\n\u001b[1;32m    767\u001b[0m \u001b[38;5;28;01mif\u001b[39;00m ret\u001b[38;5;241m.\u001b[39mget(\u001b[38;5;124m\"\u001b[39m\u001b[38;5;124mcode\u001b[39m\u001b[38;5;124m\"\u001b[39m) \u001b[38;5;241m==\u001b[39m MASTER_TOKEN_EXPIRED_GS_CODE:\n",
      "File \u001b[0;32m~/anaconda3/envs/snowpandas-dev-test/lib/python3.9/site-packages/snowflake/connector/network.py:865\u001b[0m, in \u001b[0;36mSnowflakeRestful.fetch\u001b[0;34m(self, method, full_url, headers, data, timeout, **kwargs)\u001b[0m\n\u001b[1;32m    863\u001b[0m retry_ctx\u001b[38;5;241m.\u001b[39mset_start_time()\n\u001b[1;32m    864\u001b[0m \u001b[38;5;28;01mwhile\u001b[39;00m \u001b[38;5;28;01mTrue\u001b[39;00m:\n\u001b[0;32m--> 865\u001b[0m     ret \u001b[38;5;241m=\u001b[39m \u001b[38;5;28;43mself\u001b[39;49m\u001b[38;5;241;43m.\u001b[39;49m\u001b[43m_request_exec_wrapper\u001b[49m\u001b[43m(\u001b[49m\n\u001b[1;32m    866\u001b[0m \u001b[43m        \u001b[49m\u001b[43msession\u001b[49m\u001b[43m,\u001b[49m\u001b[43m \u001b[49m\u001b[43mmethod\u001b[49m\u001b[43m,\u001b[49m\u001b[43m \u001b[49m\u001b[43mfull_url\u001b[49m\u001b[43m,\u001b[49m\u001b[43m \u001b[49m\u001b[43mheaders\u001b[49m\u001b[43m,\u001b[49m\u001b[43m \u001b[49m\u001b[43mdata\u001b[49m\u001b[43m,\u001b[49m\u001b[43m \u001b[49m\u001b[43mretry_ctx\u001b[49m\u001b[43m,\u001b[49m\u001b[43m \u001b[49m\u001b[38;5;241;43m*\u001b[39;49m\u001b[38;5;241;43m*\u001b[39;49m\u001b[43mkwargs\u001b[49m\n\u001b[1;32m    867\u001b[0m \u001b[43m    \u001b[49m\u001b[43m)\u001b[49m\n\u001b[1;32m    868\u001b[0m     \u001b[38;5;28;01mif\u001b[39;00m ret \u001b[38;5;129;01mis\u001b[39;00m \u001b[38;5;129;01mnot\u001b[39;00m \u001b[38;5;28;01mNone\u001b[39;00m:\n\u001b[1;32m    869\u001b[0m         \u001b[38;5;28;01mreturn\u001b[39;00m ret\n",
      "File \u001b[0;32m~/anaconda3/envs/snowpandas-dev-test/lib/python3.9/site-packages/snowflake/connector/network.py:915\u001b[0m, in \u001b[0;36mSnowflakeRestful._request_exec_wrapper\u001b[0;34m(self, session, method, full_url, headers, data, retry_ctx, no_retry, token, **kwargs)\u001b[0m\n\u001b[1;32m    913\u001b[0m raise_raw_http_failure \u001b[38;5;241m=\u001b[39m kwargs\u001b[38;5;241m.\u001b[39mpop(\u001b[38;5;124m\"\u001b[39m\u001b[38;5;124mraise_raw_http_failure\u001b[39m\u001b[38;5;124m\"\u001b[39m, \u001b[38;5;28;01mFalse\u001b[39;00m)\n\u001b[1;32m    914\u001b[0m \u001b[38;5;28;01mtry\u001b[39;00m:\n\u001b[0;32m--> 915\u001b[0m     return_object \u001b[38;5;241m=\u001b[39m \u001b[38;5;28;43mself\u001b[39;49m\u001b[38;5;241;43m.\u001b[39;49m\u001b[43m_request_exec\u001b[49m\u001b[43m(\u001b[49m\n\u001b[1;32m    916\u001b[0m \u001b[43m        \u001b[49m\u001b[43msession\u001b[49m\u001b[38;5;241;43m=\u001b[39;49m\u001b[43msession\u001b[49m\u001b[43m,\u001b[49m\n\u001b[1;32m    917\u001b[0m \u001b[43m        \u001b[49m\u001b[43mmethod\u001b[49m\u001b[38;5;241;43m=\u001b[39;49m\u001b[43mmethod\u001b[49m\u001b[43m,\u001b[49m\n\u001b[1;32m    918\u001b[0m \u001b[43m        \u001b[49m\u001b[43mfull_url\u001b[49m\u001b[38;5;241;43m=\u001b[39;49m\u001b[43mfull_url\u001b[49m\u001b[43m,\u001b[49m\n\u001b[1;32m    919\u001b[0m \u001b[43m        \u001b[49m\u001b[43mheaders\u001b[49m\u001b[38;5;241;43m=\u001b[39;49m\u001b[43mheaders\u001b[49m\u001b[43m,\u001b[49m\n\u001b[1;32m    920\u001b[0m \u001b[43m        \u001b[49m\u001b[43mdata\u001b[49m\u001b[38;5;241;43m=\u001b[39;49m\u001b[43mdata\u001b[49m\u001b[43m,\u001b[49m\n\u001b[1;32m    921\u001b[0m \u001b[43m        \u001b[49m\u001b[43mtoken\u001b[49m\u001b[38;5;241;43m=\u001b[39;49m\u001b[43mtoken\u001b[49m\u001b[43m,\u001b[49m\n\u001b[1;32m    922\u001b[0m \u001b[43m        \u001b[49m\u001b[43mraise_raw_http_failure\u001b[49m\u001b[38;5;241;43m=\u001b[39;49m\u001b[43mraise_raw_http_failure\u001b[49m\u001b[43m,\u001b[49m\n\u001b[1;32m    923\u001b[0m \u001b[43m        \u001b[49m\u001b[38;5;241;43m*\u001b[39;49m\u001b[38;5;241;43m*\u001b[39;49m\u001b[43mkwargs\u001b[49m\u001b[43m,\u001b[49m\n\u001b[1;32m    924\u001b[0m \u001b[43m    \u001b[49m\u001b[43m)\u001b[49m\n\u001b[1;32m    925\u001b[0m     \u001b[38;5;28;01mif\u001b[39;00m return_object \u001b[38;5;129;01mis\u001b[39;00m \u001b[38;5;129;01mnot\u001b[39;00m \u001b[38;5;28;01mNone\u001b[39;00m:\n\u001b[1;32m    926\u001b[0m         \u001b[38;5;28;01mreturn\u001b[39;00m return_object\n",
      "File \u001b[0;32m~/anaconda3/envs/snowpandas-dev-test/lib/python3.9/site-packages/snowflake/connector/network.py:1082\u001b[0m, in \u001b[0;36mSnowflakeRestful._request_exec\u001b[0;34m(self, session, method, full_url, headers, data, token, catch_okta_unauthorized_error, is_raw_text, is_raw_binary, binary_data_handler, socket_timeout, is_okta_authentication, raise_raw_http_failure)\u001b[0m\n\u001b[1;32m   1078\u001b[0m download_start_time \u001b[38;5;241m=\u001b[39m get_time_millis()\n\u001b[1;32m   1079\u001b[0m \u001b[38;5;66;03m# socket timeout is constant. You should be able to receive\u001b[39;00m\n\u001b[1;32m   1080\u001b[0m \u001b[38;5;66;03m# the response within the time. If not, ConnectReadTimeout or\u001b[39;00m\n\u001b[1;32m   1081\u001b[0m \u001b[38;5;66;03m# ReadTimeout is raised.\u001b[39;00m\n\u001b[0;32m-> 1082\u001b[0m raw_ret \u001b[38;5;241m=\u001b[39m \u001b[43msession\u001b[49m\u001b[38;5;241;43m.\u001b[39;49m\u001b[43mrequest\u001b[49m\u001b[43m(\u001b[49m\n\u001b[1;32m   1083\u001b[0m \u001b[43m    \u001b[49m\u001b[43mmethod\u001b[49m\u001b[38;5;241;43m=\u001b[39;49m\u001b[43mmethod\u001b[49m\u001b[43m,\u001b[49m\n\u001b[1;32m   1084\u001b[0m \u001b[43m    \u001b[49m\u001b[43murl\u001b[49m\u001b[38;5;241;43m=\u001b[39;49m\u001b[43mfull_url\u001b[49m\u001b[43m,\u001b[49m\n\u001b[1;32m   1085\u001b[0m \u001b[43m    \u001b[49m\u001b[43mheaders\u001b[49m\u001b[38;5;241;43m=\u001b[39;49m\u001b[43mheaders\u001b[49m\u001b[43m,\u001b[49m\n\u001b[1;32m   1086\u001b[0m \u001b[43m    \u001b[49m\u001b[43mdata\u001b[49m\u001b[38;5;241;43m=\u001b[39;49m\u001b[43minput_data\u001b[49m\u001b[43m,\u001b[49m\n\u001b[1;32m   1087\u001b[0m \u001b[43m    \u001b[49m\u001b[43mtimeout\u001b[49m\u001b[38;5;241;43m=\u001b[39;49m\u001b[43msocket_timeout\u001b[49m\u001b[43m,\u001b[49m\n\u001b[1;32m   1088\u001b[0m \u001b[43m    \u001b[49m\u001b[43mverify\u001b[49m\u001b[38;5;241;43m=\u001b[39;49m\u001b[38;5;28;43;01mTrue\u001b[39;49;00m\u001b[43m,\u001b[49m\n\u001b[1;32m   1089\u001b[0m \u001b[43m    \u001b[49m\u001b[43mstream\u001b[49m\u001b[38;5;241;43m=\u001b[39;49m\u001b[43mis_raw_binary\u001b[49m\u001b[43m,\u001b[49m\n\u001b[1;32m   1090\u001b[0m \u001b[43m    \u001b[49m\u001b[43mauth\u001b[49m\u001b[38;5;241;43m=\u001b[39;49m\u001b[43mSnowflakeAuth\u001b[49m\u001b[43m(\u001b[49m\u001b[43mtoken\u001b[49m\u001b[43m)\u001b[49m\u001b[43m,\u001b[49m\n\u001b[1;32m   1091\u001b[0m \u001b[43m\u001b[49m\u001b[43m)\u001b[49m\n\u001b[1;32m   1092\u001b[0m download_end_time \u001b[38;5;241m=\u001b[39m get_time_millis()\n\u001b[1;32m   1094\u001b[0m \u001b[38;5;28;01mtry\u001b[39;00m:\n",
      "File \u001b[0;32m~/anaconda3/envs/snowpandas-dev-test/lib/python3.9/site-packages/snowflake/connector/vendored/requests/sessions.py:589\u001b[0m, in \u001b[0;36mSession.request\u001b[0;34m(self, method, url, params, data, headers, cookies, files, auth, timeout, allow_redirects, proxies, hooks, stream, verify, cert, json)\u001b[0m\n\u001b[1;32m    584\u001b[0m send_kwargs \u001b[38;5;241m=\u001b[39m {\n\u001b[1;32m    585\u001b[0m     \u001b[38;5;124m\"\u001b[39m\u001b[38;5;124mtimeout\u001b[39m\u001b[38;5;124m\"\u001b[39m: timeout,\n\u001b[1;32m    586\u001b[0m     \u001b[38;5;124m\"\u001b[39m\u001b[38;5;124mallow_redirects\u001b[39m\u001b[38;5;124m\"\u001b[39m: allow_redirects,\n\u001b[1;32m    587\u001b[0m }\n\u001b[1;32m    588\u001b[0m send_kwargs\u001b[38;5;241m.\u001b[39mupdate(settings)\n\u001b[0;32m--> 589\u001b[0m resp \u001b[38;5;241m=\u001b[39m \u001b[38;5;28;43mself\u001b[39;49m\u001b[38;5;241;43m.\u001b[39;49m\u001b[43msend\u001b[49m\u001b[43m(\u001b[49m\u001b[43mprep\u001b[49m\u001b[43m,\u001b[49m\u001b[43m \u001b[49m\u001b[38;5;241;43m*\u001b[39;49m\u001b[38;5;241;43m*\u001b[39;49m\u001b[43msend_kwargs\u001b[49m\u001b[43m)\u001b[49m\n\u001b[1;32m    591\u001b[0m \u001b[38;5;28;01mreturn\u001b[39;00m resp\n",
      "File \u001b[0;32m~/anaconda3/envs/snowpandas-dev-test/lib/python3.9/site-packages/snowflake/connector/vendored/requests/sessions.py:703\u001b[0m, in \u001b[0;36mSession.send\u001b[0;34m(self, request, **kwargs)\u001b[0m\n\u001b[1;32m    700\u001b[0m start \u001b[38;5;241m=\u001b[39m preferred_clock()\n\u001b[1;32m    702\u001b[0m \u001b[38;5;66;03m# Send the request\u001b[39;00m\n\u001b[0;32m--> 703\u001b[0m r \u001b[38;5;241m=\u001b[39m \u001b[43madapter\u001b[49m\u001b[38;5;241;43m.\u001b[39;49m\u001b[43msend\u001b[49m\u001b[43m(\u001b[49m\u001b[43mrequest\u001b[49m\u001b[43m,\u001b[49m\u001b[43m \u001b[49m\u001b[38;5;241;43m*\u001b[39;49m\u001b[38;5;241;43m*\u001b[39;49m\u001b[43mkwargs\u001b[49m\u001b[43m)\u001b[49m\n\u001b[1;32m    705\u001b[0m \u001b[38;5;66;03m# Total elapsed time of the request (approximately)\u001b[39;00m\n\u001b[1;32m    706\u001b[0m elapsed \u001b[38;5;241m=\u001b[39m preferred_clock() \u001b[38;5;241m-\u001b[39m start\n",
      "File \u001b[0;32m~/anaconda3/envs/snowpandas-dev-test/lib/python3.9/site-packages/snowflake/connector/vendored/requests/adapters.py:486\u001b[0m, in \u001b[0;36mHTTPAdapter.send\u001b[0;34m(self, request, stream, timeout, verify, cert, proxies)\u001b[0m\n\u001b[1;32m    483\u001b[0m     timeout \u001b[38;5;241m=\u001b[39m TimeoutSauce(connect\u001b[38;5;241m=\u001b[39mtimeout, read\u001b[38;5;241m=\u001b[39mtimeout)\n\u001b[1;32m    485\u001b[0m \u001b[38;5;28;01mtry\u001b[39;00m:\n\u001b[0;32m--> 486\u001b[0m     resp \u001b[38;5;241m=\u001b[39m \u001b[43mconn\u001b[49m\u001b[38;5;241;43m.\u001b[39;49m\u001b[43murlopen\u001b[49m\u001b[43m(\u001b[49m\n\u001b[1;32m    487\u001b[0m \u001b[43m        \u001b[49m\u001b[43mmethod\u001b[49m\u001b[38;5;241;43m=\u001b[39;49m\u001b[43mrequest\u001b[49m\u001b[38;5;241;43m.\u001b[39;49m\u001b[43mmethod\u001b[49m\u001b[43m,\u001b[49m\n\u001b[1;32m    488\u001b[0m \u001b[43m        \u001b[49m\u001b[43murl\u001b[49m\u001b[38;5;241;43m=\u001b[39;49m\u001b[43murl\u001b[49m\u001b[43m,\u001b[49m\n\u001b[1;32m    489\u001b[0m \u001b[43m        \u001b[49m\u001b[43mbody\u001b[49m\u001b[38;5;241;43m=\u001b[39;49m\u001b[43mrequest\u001b[49m\u001b[38;5;241;43m.\u001b[39;49m\u001b[43mbody\u001b[49m\u001b[43m,\u001b[49m\n\u001b[1;32m    490\u001b[0m \u001b[43m        \u001b[49m\u001b[43mheaders\u001b[49m\u001b[38;5;241;43m=\u001b[39;49m\u001b[43mrequest\u001b[49m\u001b[38;5;241;43m.\u001b[39;49m\u001b[43mheaders\u001b[49m\u001b[43m,\u001b[49m\n\u001b[1;32m    491\u001b[0m \u001b[43m        \u001b[49m\u001b[43mredirect\u001b[49m\u001b[38;5;241;43m=\u001b[39;49m\u001b[38;5;28;43;01mFalse\u001b[39;49;00m\u001b[43m,\u001b[49m\n\u001b[1;32m    492\u001b[0m \u001b[43m        \u001b[49m\u001b[43massert_same_host\u001b[49m\u001b[38;5;241;43m=\u001b[39;49m\u001b[38;5;28;43;01mFalse\u001b[39;49;00m\u001b[43m,\u001b[49m\n\u001b[1;32m    493\u001b[0m \u001b[43m        \u001b[49m\u001b[43mpreload_content\u001b[49m\u001b[38;5;241;43m=\u001b[39;49m\u001b[38;5;28;43;01mFalse\u001b[39;49;00m\u001b[43m,\u001b[49m\n\u001b[1;32m    494\u001b[0m \u001b[43m        \u001b[49m\u001b[43mdecode_content\u001b[49m\u001b[38;5;241;43m=\u001b[39;49m\u001b[38;5;28;43;01mFalse\u001b[39;49;00m\u001b[43m,\u001b[49m\n\u001b[1;32m    495\u001b[0m \u001b[43m        \u001b[49m\u001b[43mretries\u001b[49m\u001b[38;5;241;43m=\u001b[39;49m\u001b[38;5;28;43mself\u001b[39;49m\u001b[38;5;241;43m.\u001b[39;49m\u001b[43mmax_retries\u001b[49m\u001b[43m,\u001b[49m\n\u001b[1;32m    496\u001b[0m \u001b[43m        \u001b[49m\u001b[43mtimeout\u001b[49m\u001b[38;5;241;43m=\u001b[39;49m\u001b[43mtimeout\u001b[49m\u001b[43m,\u001b[49m\n\u001b[1;32m    497\u001b[0m \u001b[43m        \u001b[49m\u001b[43mchunked\u001b[49m\u001b[38;5;241;43m=\u001b[39;49m\u001b[43mchunked\u001b[49m\u001b[43m,\u001b[49m\n\u001b[1;32m    498\u001b[0m \u001b[43m    \u001b[49m\u001b[43m)\u001b[49m\n\u001b[1;32m    500\u001b[0m \u001b[38;5;28;01mexcept\u001b[39;00m (ProtocolError, \u001b[38;5;167;01mOSError\u001b[39;00m) \u001b[38;5;28;01mas\u001b[39;00m err:\n\u001b[1;32m    501\u001b[0m     \u001b[38;5;28;01mraise\u001b[39;00m \u001b[38;5;167;01mConnectionError\u001b[39;00m(err, request\u001b[38;5;241m=\u001b[39mrequest)\n",
      "File \u001b[0;32m~/anaconda3/envs/snowpandas-dev-test/lib/python3.9/site-packages/snowflake/connector/vendored/urllib3/connectionpool.py:715\u001b[0m, in \u001b[0;36mHTTPConnectionPool.urlopen\u001b[0;34m(self, method, url, body, headers, retries, redirect, assert_same_host, timeout, pool_timeout, release_conn, chunked, body_pos, **response_kw)\u001b[0m\n\u001b[1;32m    712\u001b[0m     \u001b[38;5;28mself\u001b[39m\u001b[38;5;241m.\u001b[39m_prepare_proxy(conn)\n\u001b[1;32m    714\u001b[0m \u001b[38;5;66;03m# Make the request on the httplib connection object.\u001b[39;00m\n\u001b[0;32m--> 715\u001b[0m httplib_response \u001b[38;5;241m=\u001b[39m \u001b[38;5;28;43mself\u001b[39;49m\u001b[38;5;241;43m.\u001b[39;49m\u001b[43m_make_request\u001b[49m\u001b[43m(\u001b[49m\n\u001b[1;32m    716\u001b[0m \u001b[43m    \u001b[49m\u001b[43mconn\u001b[49m\u001b[43m,\u001b[49m\n\u001b[1;32m    717\u001b[0m \u001b[43m    \u001b[49m\u001b[43mmethod\u001b[49m\u001b[43m,\u001b[49m\n\u001b[1;32m    718\u001b[0m \u001b[43m    \u001b[49m\u001b[43murl\u001b[49m\u001b[43m,\u001b[49m\n\u001b[1;32m    719\u001b[0m \u001b[43m    \u001b[49m\u001b[43mtimeout\u001b[49m\u001b[38;5;241;43m=\u001b[39;49m\u001b[43mtimeout_obj\u001b[49m\u001b[43m,\u001b[49m\n\u001b[1;32m    720\u001b[0m \u001b[43m    \u001b[49m\u001b[43mbody\u001b[49m\u001b[38;5;241;43m=\u001b[39;49m\u001b[43mbody\u001b[49m\u001b[43m,\u001b[49m\n\u001b[1;32m    721\u001b[0m \u001b[43m    \u001b[49m\u001b[43mheaders\u001b[49m\u001b[38;5;241;43m=\u001b[39;49m\u001b[43mheaders\u001b[49m\u001b[43m,\u001b[49m\n\u001b[1;32m    722\u001b[0m \u001b[43m    \u001b[49m\u001b[43mchunked\u001b[49m\u001b[38;5;241;43m=\u001b[39;49m\u001b[43mchunked\u001b[49m\u001b[43m,\u001b[49m\n\u001b[1;32m    723\u001b[0m \u001b[43m\u001b[49m\u001b[43m)\u001b[49m\n\u001b[1;32m    725\u001b[0m \u001b[38;5;66;03m# If we're going to release the connection in ``finally:``, then\u001b[39;00m\n\u001b[1;32m    726\u001b[0m \u001b[38;5;66;03m# the response doesn't need to know about the connection. Otherwise\u001b[39;00m\n\u001b[1;32m    727\u001b[0m \u001b[38;5;66;03m# it will also try to release it and we'll have a double-release\u001b[39;00m\n\u001b[1;32m    728\u001b[0m \u001b[38;5;66;03m# mess.\u001b[39;00m\n\u001b[1;32m    729\u001b[0m response_conn \u001b[38;5;241m=\u001b[39m conn \u001b[38;5;28;01mif\u001b[39;00m \u001b[38;5;129;01mnot\u001b[39;00m release_conn \u001b[38;5;28;01melse\u001b[39;00m \u001b[38;5;28;01mNone\u001b[39;00m\n",
      "File \u001b[0;32m~/anaconda3/envs/snowpandas-dev-test/lib/python3.9/site-packages/snowflake/connector/vendored/urllib3/connectionpool.py:467\u001b[0m, in \u001b[0;36mHTTPConnectionPool._make_request\u001b[0;34m(self, conn, method, url, timeout, chunked, **httplib_request_kw)\u001b[0m\n\u001b[1;32m    462\u001b[0m             httplib_response \u001b[38;5;241m=\u001b[39m conn\u001b[38;5;241m.\u001b[39mgetresponse()\n\u001b[1;32m    463\u001b[0m         \u001b[38;5;28;01mexcept\u001b[39;00m \u001b[38;5;167;01mBaseException\u001b[39;00m \u001b[38;5;28;01mas\u001b[39;00m e:\n\u001b[1;32m    464\u001b[0m             \u001b[38;5;66;03m# Remove the TypeError from the exception chain in\u001b[39;00m\n\u001b[1;32m    465\u001b[0m             \u001b[38;5;66;03m# Python 3 (including for exceptions like SystemExit).\u001b[39;00m\n\u001b[1;32m    466\u001b[0m             \u001b[38;5;66;03m# Otherwise it looks like a bug in the code.\u001b[39;00m\n\u001b[0;32m--> 467\u001b[0m             \u001b[43msix\u001b[49m\u001b[38;5;241;43m.\u001b[39;49m\u001b[43mraise_from\u001b[49m\u001b[43m(\u001b[49m\u001b[43me\u001b[49m\u001b[43m,\u001b[49m\u001b[43m \u001b[49m\u001b[38;5;28;43;01mNone\u001b[39;49;00m\u001b[43m)\u001b[49m\n\u001b[1;32m    468\u001b[0m \u001b[38;5;28;01mexcept\u001b[39;00m (SocketTimeout, BaseSSLError, SocketError) \u001b[38;5;28;01mas\u001b[39;00m e:\n\u001b[1;32m    469\u001b[0m     \u001b[38;5;28mself\u001b[39m\u001b[38;5;241m.\u001b[39m_raise_timeout(err\u001b[38;5;241m=\u001b[39me, url\u001b[38;5;241m=\u001b[39murl, timeout_value\u001b[38;5;241m=\u001b[39mread_timeout)\n",
      "File \u001b[0;32m<string>:3\u001b[0m, in \u001b[0;36mraise_from\u001b[0;34m(value, from_value)\u001b[0m\n",
      "File \u001b[0;32m~/anaconda3/envs/snowpandas-dev-test/lib/python3.9/site-packages/snowflake/connector/vendored/urllib3/connectionpool.py:462\u001b[0m, in \u001b[0;36mHTTPConnectionPool._make_request\u001b[0;34m(self, conn, method, url, timeout, chunked, **httplib_request_kw)\u001b[0m\n\u001b[1;32m    459\u001b[0m \u001b[38;5;28;01mexcept\u001b[39;00m \u001b[38;5;167;01mTypeError\u001b[39;00m:\n\u001b[1;32m    460\u001b[0m     \u001b[38;5;66;03m# Python 3\u001b[39;00m\n\u001b[1;32m    461\u001b[0m     \u001b[38;5;28;01mtry\u001b[39;00m:\n\u001b[0;32m--> 462\u001b[0m         httplib_response \u001b[38;5;241m=\u001b[39m \u001b[43mconn\u001b[49m\u001b[38;5;241;43m.\u001b[39;49m\u001b[43mgetresponse\u001b[49m\u001b[43m(\u001b[49m\u001b[43m)\u001b[49m\n\u001b[1;32m    463\u001b[0m     \u001b[38;5;28;01mexcept\u001b[39;00m \u001b[38;5;167;01mBaseException\u001b[39;00m \u001b[38;5;28;01mas\u001b[39;00m e:\n\u001b[1;32m    464\u001b[0m         \u001b[38;5;66;03m# Remove the TypeError from the exception chain in\u001b[39;00m\n\u001b[1;32m    465\u001b[0m         \u001b[38;5;66;03m# Python 3 (including for exceptions like SystemExit).\u001b[39;00m\n\u001b[1;32m    466\u001b[0m         \u001b[38;5;66;03m# Otherwise it looks like a bug in the code.\u001b[39;00m\n\u001b[1;32m    467\u001b[0m         six\u001b[38;5;241m.\u001b[39mraise_from(e, \u001b[38;5;28;01mNone\u001b[39;00m)\n",
      "File \u001b[0;32m~/anaconda3/envs/snowpandas-dev-test/lib/python3.9/http/client.py:1377\u001b[0m, in \u001b[0;36mHTTPConnection.getresponse\u001b[0;34m(self)\u001b[0m\n\u001b[1;32m   1375\u001b[0m \u001b[38;5;28;01mtry\u001b[39;00m:\n\u001b[1;32m   1376\u001b[0m     \u001b[38;5;28;01mtry\u001b[39;00m:\n\u001b[0;32m-> 1377\u001b[0m         \u001b[43mresponse\u001b[49m\u001b[38;5;241;43m.\u001b[39;49m\u001b[43mbegin\u001b[49m\u001b[43m(\u001b[49m\u001b[43m)\u001b[49m\n\u001b[1;32m   1378\u001b[0m     \u001b[38;5;28;01mexcept\u001b[39;00m \u001b[38;5;167;01mConnectionError\u001b[39;00m:\n\u001b[1;32m   1379\u001b[0m         \u001b[38;5;28mself\u001b[39m\u001b[38;5;241m.\u001b[39mclose()\n",
      "File \u001b[0;32m~/anaconda3/envs/snowpandas-dev-test/lib/python3.9/http/client.py:320\u001b[0m, in \u001b[0;36mHTTPResponse.begin\u001b[0;34m(self)\u001b[0m\n\u001b[1;32m    318\u001b[0m \u001b[38;5;66;03m# read until we get a non-100 response\u001b[39;00m\n\u001b[1;32m    319\u001b[0m \u001b[38;5;28;01mwhile\u001b[39;00m \u001b[38;5;28;01mTrue\u001b[39;00m:\n\u001b[0;32m--> 320\u001b[0m     version, status, reason \u001b[38;5;241m=\u001b[39m \u001b[38;5;28;43mself\u001b[39;49m\u001b[38;5;241;43m.\u001b[39;49m\u001b[43m_read_status\u001b[49m\u001b[43m(\u001b[49m\u001b[43m)\u001b[49m\n\u001b[1;32m    321\u001b[0m     \u001b[38;5;28;01mif\u001b[39;00m status \u001b[38;5;241m!=\u001b[39m CONTINUE:\n\u001b[1;32m    322\u001b[0m         \u001b[38;5;28;01mbreak\u001b[39;00m\n",
      "File \u001b[0;32m~/anaconda3/envs/snowpandas-dev-test/lib/python3.9/http/client.py:281\u001b[0m, in \u001b[0;36mHTTPResponse._read_status\u001b[0;34m(self)\u001b[0m\n\u001b[1;32m    280\u001b[0m \u001b[38;5;28;01mdef\u001b[39;00m \u001b[38;5;21m_read_status\u001b[39m(\u001b[38;5;28mself\u001b[39m):\n\u001b[0;32m--> 281\u001b[0m     line \u001b[38;5;241m=\u001b[39m \u001b[38;5;28mstr\u001b[39m(\u001b[38;5;28;43mself\u001b[39;49m\u001b[38;5;241;43m.\u001b[39;49m\u001b[43mfp\u001b[49m\u001b[38;5;241;43m.\u001b[39;49m\u001b[43mreadline\u001b[49m\u001b[43m(\u001b[49m\u001b[43m_MAXLINE\u001b[49m\u001b[43m \u001b[49m\u001b[38;5;241;43m+\u001b[39;49m\u001b[43m \u001b[49m\u001b[38;5;241;43m1\u001b[39;49m\u001b[43m)\u001b[49m, \u001b[38;5;124m\"\u001b[39m\u001b[38;5;124miso-8859-1\u001b[39m\u001b[38;5;124m\"\u001b[39m)\n\u001b[1;32m    282\u001b[0m     \u001b[38;5;28;01mif\u001b[39;00m \u001b[38;5;28mlen\u001b[39m(line) \u001b[38;5;241m>\u001b[39m _MAXLINE:\n\u001b[1;32m    283\u001b[0m         \u001b[38;5;28;01mraise\u001b[39;00m LineTooLong(\u001b[38;5;124m\"\u001b[39m\u001b[38;5;124mstatus line\u001b[39m\u001b[38;5;124m\"\u001b[39m)\n",
      "File \u001b[0;32m~/anaconda3/envs/snowpandas-dev-test/lib/python3.9/socket.py:704\u001b[0m, in \u001b[0;36mSocketIO.readinto\u001b[0;34m(self, b)\u001b[0m\n\u001b[1;32m    702\u001b[0m \u001b[38;5;28;01mwhile\u001b[39;00m \u001b[38;5;28;01mTrue\u001b[39;00m:\n\u001b[1;32m    703\u001b[0m     \u001b[38;5;28;01mtry\u001b[39;00m:\n\u001b[0;32m--> 704\u001b[0m         \u001b[38;5;28;01mreturn\u001b[39;00m \u001b[38;5;28;43mself\u001b[39;49m\u001b[38;5;241;43m.\u001b[39;49m\u001b[43m_sock\u001b[49m\u001b[38;5;241;43m.\u001b[39;49m\u001b[43mrecv_into\u001b[49m\u001b[43m(\u001b[49m\u001b[43mb\u001b[49m\u001b[43m)\u001b[49m\n\u001b[1;32m    705\u001b[0m     \u001b[38;5;28;01mexcept\u001b[39;00m timeout:\n\u001b[1;32m    706\u001b[0m         \u001b[38;5;28mself\u001b[39m\u001b[38;5;241m.\u001b[39m_timeout_occurred \u001b[38;5;241m=\u001b[39m \u001b[38;5;28;01mTrue\u001b[39;00m\n",
      "File \u001b[0;32m~/anaconda3/envs/snowpandas-dev-test/lib/python3.9/site-packages/snowflake/connector/vendored/urllib3/contrib/pyopenssl.py:330\u001b[0m, in \u001b[0;36mWrappedSocket.recv_into\u001b[0;34m(self, *args, **kwargs)\u001b[0m\n\u001b[1;32m    328\u001b[0m         \u001b[38;5;28;01mraise\u001b[39;00m\n\u001b[1;32m    329\u001b[0m \u001b[38;5;28;01mexcept\u001b[39;00m OpenSSL\u001b[38;5;241m.\u001b[39mSSL\u001b[38;5;241m.\u001b[39mWantReadError:\n\u001b[0;32m--> 330\u001b[0m     \u001b[38;5;28;01mif\u001b[39;00m \u001b[38;5;129;01mnot\u001b[39;00m \u001b[43mutil\u001b[49m\u001b[38;5;241;43m.\u001b[39;49m\u001b[43mwait_for_read\u001b[49m\u001b[43m(\u001b[49m\u001b[38;5;28;43mself\u001b[39;49m\u001b[38;5;241;43m.\u001b[39;49m\u001b[43msocket\u001b[49m\u001b[43m,\u001b[49m\u001b[43m \u001b[49m\u001b[38;5;28;43mself\u001b[39;49m\u001b[38;5;241;43m.\u001b[39;49m\u001b[43msocket\u001b[49m\u001b[38;5;241;43m.\u001b[39;49m\u001b[43mgettimeout\u001b[49m\u001b[43m(\u001b[49m\u001b[43m)\u001b[49m\u001b[43m)\u001b[49m:\n\u001b[1;32m    331\u001b[0m         \u001b[38;5;28;01mraise\u001b[39;00m timeout(\u001b[38;5;124m\"\u001b[39m\u001b[38;5;124mThe read operation timed out\u001b[39m\u001b[38;5;124m\"\u001b[39m)\n\u001b[1;32m    332\u001b[0m     \u001b[38;5;28;01melse\u001b[39;00m:\n",
      "File \u001b[0;32m~/anaconda3/envs/snowpandas-dev-test/lib/python3.9/site-packages/snowflake/connector/vendored/urllib3/util/wait.py:145\u001b[0m, in \u001b[0;36mwait_for_read\u001b[0;34m(sock, timeout)\u001b[0m\n\u001b[1;32m    141\u001b[0m \u001b[38;5;28;01mdef\u001b[39;00m \u001b[38;5;21mwait_for_read\u001b[39m(sock, timeout\u001b[38;5;241m=\u001b[39m\u001b[38;5;28;01mNone\u001b[39;00m):\n\u001b[1;32m    142\u001b[0m \u001b[38;5;250m    \u001b[39m\u001b[38;5;124;03m\"\"\"Waits for reading to be available on a given socket.\u001b[39;00m\n\u001b[1;32m    143\u001b[0m \u001b[38;5;124;03m    Returns True if the socket is readable, or False if the timeout expired.\u001b[39;00m\n\u001b[1;32m    144\u001b[0m \u001b[38;5;124;03m    \"\"\"\u001b[39;00m\n\u001b[0;32m--> 145\u001b[0m     \u001b[38;5;28;01mreturn\u001b[39;00m \u001b[43mwait_for_socket\u001b[49m\u001b[43m(\u001b[49m\u001b[43msock\u001b[49m\u001b[43m,\u001b[49m\u001b[43m \u001b[49m\u001b[43mread\u001b[49m\u001b[38;5;241;43m=\u001b[39;49m\u001b[38;5;28;43;01mTrue\u001b[39;49;00m\u001b[43m,\u001b[49m\u001b[43m \u001b[49m\u001b[43mtimeout\u001b[49m\u001b[38;5;241;43m=\u001b[39;49m\u001b[43mtimeout\u001b[49m\u001b[43m)\u001b[49m\n",
      "File \u001b[0;32m~/anaconda3/envs/snowpandas-dev-test/lib/python3.9/site-packages/snowflake/connector/vendored/urllib3/util/wait.py:106\u001b[0m, in \u001b[0;36mpoll_wait_for_socket\u001b[0;34m(sock, read, write, timeout)\u001b[0m\n\u001b[1;32m    103\u001b[0m         t \u001b[38;5;241m*\u001b[39m\u001b[38;5;241m=\u001b[39m \u001b[38;5;241m1000\u001b[39m\n\u001b[1;32m    104\u001b[0m     \u001b[38;5;28;01mreturn\u001b[39;00m poll_obj\u001b[38;5;241m.\u001b[39mpoll(t)\n\u001b[0;32m--> 106\u001b[0m \u001b[38;5;28;01mreturn\u001b[39;00m \u001b[38;5;28mbool\u001b[39m(\u001b[43m_retry_on_intr\u001b[49m\u001b[43m(\u001b[49m\u001b[43mdo_poll\u001b[49m\u001b[43m,\u001b[49m\u001b[43m \u001b[49m\u001b[43mtimeout\u001b[49m\u001b[43m)\u001b[49m)\n",
      "File \u001b[0;32m~/anaconda3/envs/snowpandas-dev-test/lib/python3.9/site-packages/snowflake/connector/vendored/urllib3/util/wait.py:43\u001b[0m, in \u001b[0;36m_retry_on_intr\u001b[0;34m(fn, timeout)\u001b[0m\n\u001b[1;32m     42\u001b[0m \u001b[38;5;28;01mdef\u001b[39;00m \u001b[38;5;21m_retry_on_intr\u001b[39m(fn, timeout):\n\u001b[0;32m---> 43\u001b[0m     \u001b[38;5;28;01mreturn\u001b[39;00m \u001b[43mfn\u001b[49m\u001b[43m(\u001b[49m\u001b[43mtimeout\u001b[49m\u001b[43m)\u001b[49m\n",
      "File \u001b[0;32m~/anaconda3/envs/snowpandas-dev-test/lib/python3.9/site-packages/snowflake/connector/vendored/urllib3/util/wait.py:104\u001b[0m, in \u001b[0;36mpoll_wait_for_socket.<locals>.do_poll\u001b[0;34m(t)\u001b[0m\n\u001b[1;32m    102\u001b[0m \u001b[38;5;28;01mif\u001b[39;00m t \u001b[38;5;129;01mis\u001b[39;00m \u001b[38;5;129;01mnot\u001b[39;00m \u001b[38;5;28;01mNone\u001b[39;00m:\n\u001b[1;32m    103\u001b[0m     t \u001b[38;5;241m*\u001b[39m\u001b[38;5;241m=\u001b[39m \u001b[38;5;241m1000\u001b[39m\n\u001b[0;32m--> 104\u001b[0m \u001b[38;5;28;01mreturn\u001b[39;00m \u001b[43mpoll_obj\u001b[49m\u001b[38;5;241;43m.\u001b[39;49m\u001b[43mpoll\u001b[49m\u001b[43m(\u001b[49m\u001b[43mt\u001b[49m\u001b[43m)\u001b[49m\n",
      "File \u001b[0;32m~/anaconda3/envs/snowpandas-dev-test/lib/python3.9/site-packages/snowflake/connector/cursor.py:689\u001b[0m, in \u001b[0;36mSnowflakeCursor._execute_helper.<locals>.interrupt_handler\u001b[0;34m(*_)\u001b[0m\n\u001b[1;32m    686\u001b[0m         \u001b[38;5;28;01mexcept\u001b[39;00m (\u001b[38;5;167;01mValueError\u001b[39;00m, \u001b[38;5;167;01mTypeError\u001b[39;00m):\n\u001b[1;32m    687\u001b[0m             \u001b[38;5;66;03m# ignore failures\u001b[39;00m\n\u001b[1;32m    688\u001b[0m             \u001b[38;5;28;01mpass\u001b[39;00m\n\u001b[0;32m--> 689\u001b[0m \u001b[38;5;28;01mraise\u001b[39;00m \u001b[38;5;167;01mKeyboardInterrupt\u001b[39;00m\n",
      "\u001b[0;31mKeyboardInterrupt\u001b[0m: "
     ]
    }
   ],
   "source": [
    "%%time\n",
    "\n",
    "result = df.groupby('C_NATIONKEY').apply(lambda group: group.C_CUSTKEY.iloc[0] + group.C_CUSTKEY.mean())"
   ]
  },
  {
   "cell_type": "markdown",
   "metadata": {},
   "source": [
    "## Let's switch the backend to python!"
   ]
  },
  {
   "cell_type": "markdown",
   "metadata": {},
   "source": [
    "We pay a one-time cost of a few seconds to load the data into memory."
   ]
  },
  {
   "cell_type": "code",
   "execution_count": 5,
   "metadata": {
    "scrolled": true
   },
   "outputs": [
    {
     "data": {
      "application/vnd.jupyter.widget-view+json": {
       "model_id": "a55dde664a464e95aa7611fd243c7b7b",
       "version_major": 2,
       "version_minor": 0
      },
      "text/plain": [
       "Transferring data from Snowflake to Pandas ...:   0%|          | 0/2 [00:00<?, ?it/s]"
      ]
     },
     "metadata": {},
     "output_type": "display_data"
    },
    {
     "name": "stdout",
     "output_type": "stream",
     "text": [
      "CPU times: user 799 ms, sys: 157 ms, total: 956 ms\n",
      "Wall time: 3.34 s\n"
     ]
    }
   ],
   "source": [
    "%%time\n",
    "\n",
    "df = df.move_to('Pandas')"
   ]
  },
  {
   "cell_type": "markdown",
   "metadata": {},
   "source": [
    "But now printing is extremely fast..."
   ]
  },
  {
   "cell_type": "code",
   "execution_count": 6,
   "metadata": {},
   "outputs": [
    {
     "data": {
      "text/plain": [
       "pandas.core.series.Series"
      ]
     },
     "execution_count": 6,
     "metadata": {},
     "output_type": "execute_result"
    }
   ],
   "source": [
    "type(df.dtypes)"
   ]
  },
  {
   "cell_type": "code",
   "execution_count": 7,
   "metadata": {},
   "outputs": [
    {
     "data": {
      "text/html": [
       "<div>\n",
       "<style scoped>\n",
       "    .dataframe tbody tr th:only-of-type {\n",
       "        vertical-align: middle;\n",
       "    }\n",
       "\n",
       "    .dataframe tbody tr th {\n",
       "        vertical-align: top;\n",
       "    }\n",
       "\n",
       "    .dataframe thead th {\n",
       "        text-align: right;\n",
       "    }\n",
       "</style>\n",
       "<table border=\"1\" class=\"dataframe\">\n",
       "  <thead>\n",
       "    <tr style=\"text-align: right;\">\n",
       "      <th></th>\n",
       "      <th>C_CUSTKEY</th>\n",
       "      <th>C_NAME</th>\n",
       "      <th>C_ADDRESS</th>\n",
       "      <th>C_NATIONKEY</th>\n",
       "      <th>C_PHONE</th>\n",
       "      <th>C_ACCTBAL</th>\n",
       "      <th>C_MKTSEGMENT</th>\n",
       "      <th>C_COMMENT</th>\n",
       "    </tr>\n",
       "  </thead>\n",
       "  <tbody>\n",
       "    <tr>\n",
       "      <th>0</th>\n",
       "      <td>30001</td>\n",
       "      <td>Customer#000030001</td>\n",
       "      <td>Ui1b,3Q71CiLTJn4MbVp,,YCZARIaNTelfst</td>\n",
       "      <td>4</td>\n",
       "      <td>14-526-204-4500</td>\n",
       "      <td>8848.47</td>\n",
       "      <td>MACHINERY</td>\n",
       "      <td>frays wake blithely enticingly ironic asymptote</td>\n",
       "    </tr>\n",
       "    <tr>\n",
       "      <th>1</th>\n",
       "      <td>30002</td>\n",
       "      <td>Customer#000030002</td>\n",
       "      <td>UVBoMtILkQu1J3v</td>\n",
       "      <td>11</td>\n",
       "      <td>21-340-653-9800</td>\n",
       "      <td>5221.81</td>\n",
       "      <td>MACHINERY</td>\n",
       "      <td>he slyly ironic pinto beans wake slyly above t...</td>\n",
       "    </tr>\n",
       "    <tr>\n",
       "      <th>2</th>\n",
       "      <td>30003</td>\n",
       "      <td>Customer#000030003</td>\n",
       "      <td>CuGi9fwKn8JdR</td>\n",
       "      <td>21</td>\n",
       "      <td>31-757-493-7525</td>\n",
       "      <td>3014.89</td>\n",
       "      <td>BUILDING</td>\n",
       "      <td>e furiously alongside of the requests. evenly ...</td>\n",
       "    </tr>\n",
       "    <tr>\n",
       "      <th>3</th>\n",
       "      <td>30004</td>\n",
       "      <td>Customer#000030004</td>\n",
       "      <td>tkR93ReOnf9zYeO</td>\n",
       "      <td>23</td>\n",
       "      <td>33-870-136-4375</td>\n",
       "      <td>3308.55</td>\n",
       "      <td>AUTOMOBILE</td>\n",
       "      <td>ssly bold deposits. final req</td>\n",
       "    </tr>\n",
       "    <tr>\n",
       "      <th>4</th>\n",
       "      <td>30005</td>\n",
       "      <td>Customer#000030005</td>\n",
       "      <td>pvq4uDoD8pEwpAE01aesCtbD9WU8qmlsvoFav5</td>\n",
       "      <td>9</td>\n",
       "      <td>19-144-468-5416</td>\n",
       "      <td>-278.54</td>\n",
       "      <td>MACHINERY</td>\n",
       "      <td>ructions behind the pinto beans x-ra</td>\n",
       "    </tr>\n",
       "    <tr>\n",
       "      <th>...</th>\n",
       "      <td>...</td>\n",
       "      <td>...</td>\n",
       "      <td>...</td>\n",
       "      <td>...</td>\n",
       "      <td>...</td>\n",
       "      <td>...</td>\n",
       "      <td>...</td>\n",
       "      <td>...</td>\n",
       "    </tr>\n",
       "    <tr>\n",
       "      <th>149995</th>\n",
       "      <td>29996</td>\n",
       "      <td>Customer#000029996</td>\n",
       "      <td>BnZVGZiAgcEImNm9iD</td>\n",
       "      <td>7</td>\n",
       "      <td>17-536-308-8025</td>\n",
       "      <td>4035.17</td>\n",
       "      <td>FURNITURE</td>\n",
       "      <td>ual instructions. bold, silent foxes nag blith...</td>\n",
       "    </tr>\n",
       "    <tr>\n",
       "      <th>149996</th>\n",
       "      <td>29997</td>\n",
       "      <td>Customer#000029997</td>\n",
       "      <td>lTbDYXdQ74JctD UbRbXCqF2b8</td>\n",
       "      <td>9</td>\n",
       "      <td>19-631-777-4123</td>\n",
       "      <td>2015.90</td>\n",
       "      <td>HOUSEHOLD</td>\n",
       "      <td>eodolites detect slyly alongside of the quickl...</td>\n",
       "    </tr>\n",
       "    <tr>\n",
       "      <th>149997</th>\n",
       "      <td>29998</td>\n",
       "      <td>Customer#000029998</td>\n",
       "      <td>ZxxiuDruzi98CcymR</td>\n",
       "      <td>23</td>\n",
       "      <td>33-619-315-9722</td>\n",
       "      <td>-810.56</td>\n",
       "      <td>FURNITURE</td>\n",
       "      <td>xpress packages. accounts sleep carefully iron...</td>\n",
       "    </tr>\n",
       "    <tr>\n",
       "      <th>149998</th>\n",
       "      <td>29999</td>\n",
       "      <td>Customer#000029999</td>\n",
       "      <td>CuPA4UpgTCYiXrBrpiSO D</td>\n",
       "      <td>12</td>\n",
       "      <td>22-824-951-8333</td>\n",
       "      <td>3865.14</td>\n",
       "      <td>FURNITURE</td>\n",
       "      <td>eposits-- accounts haggle across the slyly per...</td>\n",
       "    </tr>\n",
       "    <tr>\n",
       "      <th>149999</th>\n",
       "      <td>30000</td>\n",
       "      <td>Customer#000030000</td>\n",
       "      <td>sXiVJIRV4f4,MWk</td>\n",
       "      <td>22</td>\n",
       "      <td>32-391-639-5338</td>\n",
       "      <td>4437.43</td>\n",
       "      <td>BUILDING</td>\n",
       "      <td>ong the blithely special ideas: slyly regular ...</td>\n",
       "    </tr>\n",
       "  </tbody>\n",
       "</table>\n",
       "<p>150000 rows x 8 columns</p>\n",
       "</div>"
      ],
      "text/plain": [
       "        C_CUSTKEY              C_NAME                               C_ADDRESS  \\\n",
       "0           30001  Customer#000030001    Ui1b,3Q71CiLTJn4MbVp,,YCZARIaNTelfst   \n",
       "1           30002  Customer#000030002                         UVBoMtILkQu1J3v   \n",
       "2           30003  Customer#000030003                           CuGi9fwKn8JdR   \n",
       "3           30004  Customer#000030004                         tkR93ReOnf9zYeO   \n",
       "4           30005  Customer#000030005  pvq4uDoD8pEwpAE01aesCtbD9WU8qmlsvoFav5   \n",
       "...           ...                 ...                                     ...   \n",
       "149995      29996  Customer#000029996                      BnZVGZiAgcEImNm9iD   \n",
       "149996      29997  Customer#000029997              lTbDYXdQ74JctD UbRbXCqF2b8   \n",
       "149997      29998  Customer#000029998                       ZxxiuDruzi98CcymR   \n",
       "149998      29999  Customer#000029999                  CuPA4UpgTCYiXrBrpiSO D   \n",
       "149999      30000  Customer#000030000                         sXiVJIRV4f4,MWk   \n",
       "\n",
       "        C_NATIONKEY          C_PHONE  C_ACCTBAL C_MKTSEGMENT  \\\n",
       "0                 4  14-526-204-4500    8848.47    MACHINERY   \n",
       "1                11  21-340-653-9800    5221.81    MACHINERY   \n",
       "2                21  31-757-493-7525    3014.89     BUILDING   \n",
       "3                23  33-870-136-4375    3308.55   AUTOMOBILE   \n",
       "4                 9  19-144-468-5416    -278.54    MACHINERY   \n",
       "...             ...              ...        ...          ...   \n",
       "149995            7  17-536-308-8025    4035.17    FURNITURE   \n",
       "149996            9  19-631-777-4123    2015.90    HOUSEHOLD   \n",
       "149997           23  33-619-315-9722    -810.56    FURNITURE   \n",
       "149998           12  22-824-951-8333    3865.14    FURNITURE   \n",
       "149999           22  32-391-639-5338    4437.43     BUILDING   \n",
       "\n",
       "                                                C_COMMENT  \n",
       "0         frays wake blithely enticingly ironic asymptote  \n",
       "1       he slyly ironic pinto beans wake slyly above t...  \n",
       "2       e furiously alongside of the requests. evenly ...  \n",
       "3                           ssly bold deposits. final req  \n",
       "4                    ructions behind the pinto beans x-ra  \n",
       "...                                                   ...  \n",
       "149995  ual instructions. bold, silent foxes nag blith...  \n",
       "149996  eodolites detect slyly alongside of the quickl...  \n",
       "149997  xpress packages. accounts sleep carefully iron...  \n",
       "149998  eposits-- accounts haggle across the slyly per...  \n",
       "149999  ong the blithely special ideas: slyly regular ...  \n",
       "\n",
       "[150000 rows x 8 columns]"
      ]
     },
     "execution_count": 7,
     "metadata": {},
     "output_type": "execute_result"
    }
   ],
   "source": [
    "df"
   ]
  },
  {
   "cell_type": "markdown",
   "metadata": {},
   "source": [
    "And so are most things we can imagine doing with the data."
   ]
  },
  {
   "cell_type": "code",
   "execution_count": 8,
   "metadata": {},
   "outputs": [
    {
     "name": "stdout",
     "output_type": "stream",
     "text": [
      "C_NATIONKEY\n",
      "0     104809.648945\n",
      "1     104849.461925\n",
      "2     105879.897816\n",
      "3     104446.823588\n",
      "4     104679.314262\n",
      "5     104906.427251\n",
      "6     105917.388361\n",
      "7     104694.312288\n",
      "8     105173.743462\n",
      "9     105037.669210\n",
      "10    105448.956232\n",
      "11    104112.225725\n",
      "12    104829.006557\n",
      "13    106009.666832\n",
      "14    104419.615654\n",
      "15    105264.778247\n",
      "16    104199.408269\n",
      "17    105125.565188\n",
      "18    104305.006972\n",
      "19    105746.410656\n",
      "20    104615.581809\n",
      "21    105924.703395\n",
      "22    105530.506581\n",
      "23    105457.153718\n",
      "24    104223.723884\n",
      "dtype: float64\n",
      "CPU times: user 54.4 ms, sys: 7.43 ms, total: 61.8 ms\n",
      "Wall time: 59.7 ms\n"
     ]
    }
   ],
   "source": [
    "%%time\n",
    "\n",
    "result = df.groupby('C_NATIONKEY').apply(lambda group: group.C_CUSTKEY.iloc[0] + group.C_CUSTKEY.mean())\n",
    "print(result)"
   ]
  },
  {
   "cell_type": "markdown",
   "metadata": {},
   "source": [
    "When we're done with our transformations, we can write the results to Snowflake."
   ]
  },
  {
   "cell_type": "code",
   "execution_count": 10,
   "metadata": {},
   "outputs": [
    {
     "data": {
      "application/vnd.jupyter.widget-view+json": {
       "model_id": "5747bb39663147139476b073269ec04c",
       "version_major": 2,
       "version_minor": 0
      },
      "text/plain": [
       "Transferring data from Pandas to Snowflake ...:   0%|          | 0/2 [00:00<?, ?it/s]"
      ]
     },
     "metadata": {},
     "output_type": "display_data"
    },
    {
     "name": "stdout",
     "output_type": "stream",
     "text": [
      "CPU times: user 29.6 ms, sys: 7.31 ms, total: 36.9 ms\n",
      "Wall time: 767 ms\n"
     ]
    }
   ],
   "source": [
    "%%time\n",
    "\n",
    "snow_result = result.rename('result').move_to('Snowflake')"
   ]
  },
  {
   "cell_type": "code",
   "execution_count": 11,
   "metadata": {},
   "outputs": [
    {
     "name": "stdout",
     "output_type": "stream",
     "text": [
      "CPU times: user 20.9 ms, sys: 7.17 ms, total: 28.1 ms\n",
      "Wall time: 826 ms\n"
     ]
    }
   ],
   "source": [
    "%%time\n",
    "\n",
    "snow_result.to_snowflake('TEMP.MVASHISHTHA.RESULT', if_exists='replace', index=False)"
   ]
  },
  {
   "cell_type": "markdown",
   "metadata": {},
   "source": [
    "# Use case 2: Filtering out most of a large table, then using python"
   ]
  },
  {
   "cell_type": "markdown",
   "metadata": {},
   "source": [
    "## Setup"
   ]
  },
  {
   "cell_type": "markdown",
   "metadata": {},
   "source": [
    "In this example, we read the table `SAMPLE_DATA.TPCH_SF10.LINEITEM`, which is 60M rows and 1.3 GB."
   ]
  },
  {
   "cell_type": "code",
   "execution_count": 12,
   "metadata": {},
   "outputs": [
    {
     "name": "stderr",
     "output_type": "stream",
     "text": [
      "Snapshot source table/view 'SAMPLE_DATA.TPCH_SF10.LINEITEM' failed due to reason: `003029 (0A000): SQL compilation error:\n",
      "Cannot clone from a table that was imported from a share.'. Data from source table/view 'SAMPLE_DATA.TPCH_SF10.LINEITEM' is being copied into a new temporary table 'SNOWPARK_TEMP_TABLE_AQQ1QVOKYK' for snapshotting. DataFrame creation might take some time.\n"
     ]
    },
    {
     "name": "stdout",
     "output_type": "stream",
     "text": [
      "CPU times: user 70.4 ms, sys: 24.5 ms, total: 94.9 ms\n",
      "Wall time: 10.2 s\n"
     ]
    }
   ],
   "source": [
    "%%time\n",
    "\n",
    "df = pd.read_snowflake(\"SAMPLE_DATA.TPCH_SF10.LINEITEM\")"
   ]
  },
  {
   "cell_type": "markdown",
   "metadata": {},
   "source": [
    "The data is large, and pulling it all into pandas would take about 2.5 minutes..."
   ]
  },
  {
   "cell_type": "code",
   "execution_count": 18,
   "metadata": {},
   "outputs": [
    {
     "data": {
      "application/vnd.jupyter.widget-view+json": {
       "model_id": "05993c91522b4db6bfcfb62528c84cf9",
       "version_major": 2,
       "version_minor": 0
      },
      "text/plain": [
       "Transferring data from Snowflake to Pandas ...:   0%|          | 0/2 [00:00<?, ?it/s]"
      ]
     },
     "metadata": {},
     "output_type": "display_data"
    },
    {
     "data": {
      "text/html": [
       "<div>\n",
       "<style scoped>\n",
       "    .dataframe tbody tr th:only-of-type {\n",
       "        vertical-align: middle;\n",
       "    }\n",
       "\n",
       "    .dataframe tbody tr th {\n",
       "        vertical-align: top;\n",
       "    }\n",
       "\n",
       "    .dataframe thead th {\n",
       "        text-align: right;\n",
       "    }\n",
       "</style>\n",
       "<table border=\"1\" class=\"dataframe\">\n",
       "  <thead>\n",
       "    <tr style=\"text-align: right;\">\n",
       "      <th></th>\n",
       "      <th>L_ORDERKEY</th>\n",
       "      <th>L_PARTKEY</th>\n",
       "      <th>L_SUPPKEY</th>\n",
       "      <th>L_LINENUMBER</th>\n",
       "      <th>L_QUANTITY</th>\n",
       "      <th>L_EXTENDEDPRICE</th>\n",
       "      <th>L_DISCOUNT</th>\n",
       "      <th>L_TAX</th>\n",
       "      <th>L_RETURNFLAG</th>\n",
       "      <th>L_LINESTATUS</th>\n",
       "      <th>L_SHIPDATE</th>\n",
       "      <th>L_COMMITDATE</th>\n",
       "      <th>L_RECEIPTDATE</th>\n",
       "      <th>L_SHIPINSTRUCT</th>\n",
       "      <th>L_SHIPMODE</th>\n",
       "      <th>L_COMMENT</th>\n",
       "    </tr>\n",
       "  </thead>\n",
       "  <tbody>\n",
       "    <tr>\n",
       "      <th>0</th>\n",
       "      <td>56224388</td>\n",
       "      <td>804093</td>\n",
       "      <td>54110</td>\n",
       "      <td>2</td>\n",
       "      <td>5.0</td>\n",
       "      <td>4985.25</td>\n",
       "      <td>0.04</td>\n",
       "      <td>0.08</td>\n",
       "      <td>N</td>\n",
       "      <td>O</td>\n",
       "      <td>1998-04-25</td>\n",
       "      <td>1998-05-30</td>\n",
       "      <td>1998-05-24</td>\n",
       "      <td>COLLECT COD</td>\n",
       "      <td>MAIL</td>\n",
       "      <td>inst the exp</td>\n",
       "    </tr>\n",
       "    <tr>\n",
       "      <th>1</th>\n",
       "      <td>56224388</td>\n",
       "      <td>387466</td>\n",
       "      <td>87467</td>\n",
       "      <td>3</td>\n",
       "      <td>13.0</td>\n",
       "      <td>20194.85</td>\n",
       "      <td>0.04</td>\n",
       "      <td>0.04</td>\n",
       "      <td>N</td>\n",
       "      <td>O</td>\n",
       "      <td>1998-03-29</td>\n",
       "      <td>1998-04-15</td>\n",
       "      <td>1998-04-12</td>\n",
       "      <td>DELIVER IN PERSON</td>\n",
       "      <td>REG AIR</td>\n",
       "      <td>e regular, spe</td>\n",
       "    </tr>\n",
       "    <tr>\n",
       "      <th>2</th>\n",
       "      <td>56224388</td>\n",
       "      <td>127861</td>\n",
       "      <td>27862</td>\n",
       "      <td>4</td>\n",
       "      <td>26.0</td>\n",
       "      <td>49110.36</td>\n",
       "      <td>0.09</td>\n",
       "      <td>0.02</td>\n",
       "      <td>N</td>\n",
       "      <td>O</td>\n",
       "      <td>1998-05-14</td>\n",
       "      <td>1998-05-25</td>\n",
       "      <td>1998-06-06</td>\n",
       "      <td>TAKE BACK RETURN</td>\n",
       "      <td>MAIL</td>\n",
       "      <td>ve the final ideas cajole slyly</td>\n",
       "    </tr>\n",
       "    <tr>\n",
       "      <th>3</th>\n",
       "      <td>56224388</td>\n",
       "      <td>955237</td>\n",
       "      <td>55238</td>\n",
       "      <td>5</td>\n",
       "      <td>38.0</td>\n",
       "      <td>49103.22</td>\n",
       "      <td>0.10</td>\n",
       "      <td>0.01</td>\n",
       "      <td>N</td>\n",
       "      <td>O</td>\n",
       "      <td>1998-03-08</td>\n",
       "      <td>1998-04-19</td>\n",
       "      <td>1998-03-25</td>\n",
       "      <td>NONE</td>\n",
       "      <td>AIR</td>\n",
       "      <td>sts sleep around the slow</td>\n",
       "    </tr>\n",
       "    <tr>\n",
       "      <th>4</th>\n",
       "      <td>56224389</td>\n",
       "      <td>16386</td>\n",
       "      <td>41387</td>\n",
       "      <td>1</td>\n",
       "      <td>26.0</td>\n",
       "      <td>33861.88</td>\n",
       "      <td>0.04</td>\n",
       "      <td>0.00</td>\n",
       "      <td>A</td>\n",
       "      <td>F</td>\n",
       "      <td>1995-05-17</td>\n",
       "      <td>1995-06-14</td>\n",
       "      <td>1995-05-18</td>\n",
       "      <td>COLLECT COD</td>\n",
       "      <td>MAIL</td>\n",
       "      <td>ideas. slyly</td>\n",
       "    </tr>\n",
       "    <tr>\n",
       "      <th>...</th>\n",
       "      <td>...</td>\n",
       "      <td>...</td>\n",
       "      <td>...</td>\n",
       "      <td>...</td>\n",
       "      <td>...</td>\n",
       "      <td>...</td>\n",
       "      <td>...</td>\n",
       "      <td>...</td>\n",
       "      <td>...</td>\n",
       "      <td>...</td>\n",
       "      <td>...</td>\n",
       "      <td>...</td>\n",
       "      <td>...</td>\n",
       "      <td>...</td>\n",
       "      <td>...</td>\n",
       "      <td>...</td>\n",
       "    </tr>\n",
       "    <tr>\n",
       "      <th>59986047</th>\n",
       "      <td>59974884</td>\n",
       "      <td>889130</td>\n",
       "      <td>39147</td>\n",
       "      <td>3</td>\n",
       "      <td>24.0</td>\n",
       "      <td>26858.16</td>\n",
       "      <td>0.03</td>\n",
       "      <td>0.06</td>\n",
       "      <td>R</td>\n",
       "      <td>F</td>\n",
       "      <td>1993-01-10</td>\n",
       "      <td>1993-02-24</td>\n",
       "      <td>1993-01-18</td>\n",
       "      <td>DELIVER IN PERSON</td>\n",
       "      <td>RAIL</td>\n",
       "      <td>the carefully express fo</td>\n",
       "    </tr>\n",
       "    <tr>\n",
       "      <th>59986048</th>\n",
       "      <td>59974884</td>\n",
       "      <td>1596930</td>\n",
       "      <td>71976</td>\n",
       "      <td>4</td>\n",
       "      <td>3.0</td>\n",
       "      <td>6080.58</td>\n",
       "      <td>0.08</td>\n",
       "      <td>0.08</td>\n",
       "      <td>R</td>\n",
       "      <td>F</td>\n",
       "      <td>1993-02-14</td>\n",
       "      <td>1993-02-17</td>\n",
       "      <td>1993-03-15</td>\n",
       "      <td>COLLECT COD</td>\n",
       "      <td>AIR</td>\n",
       "      <td>ove the regularly ironic</td>\n",
       "    </tr>\n",
       "    <tr>\n",
       "      <th>59986049</th>\n",
       "      <td>59974884</td>\n",
       "      <td>1588342</td>\n",
       "      <td>13358</td>\n",
       "      <td>5</td>\n",
       "      <td>46.0</td>\n",
       "      <td>65792.42</td>\n",
       "      <td>0.08</td>\n",
       "      <td>0.06</td>\n",
       "      <td>R</td>\n",
       "      <td>F</td>\n",
       "      <td>1993-03-21</td>\n",
       "      <td>1993-03-04</td>\n",
       "      <td>1993-04-06</td>\n",
       "      <td>DELIVER IN PERSON</td>\n",
       "      <td>TRUCK</td>\n",
       "      <td>onic requests sleep acco</td>\n",
       "    </tr>\n",
       "    <tr>\n",
       "      <th>59986050</th>\n",
       "      <td>59974884</td>\n",
       "      <td>1249071</td>\n",
       "      <td>24108</td>\n",
       "      <td>6</td>\n",
       "      <td>44.0</td>\n",
       "      <td>44880.44</td>\n",
       "      <td>0.09</td>\n",
       "      <td>0.04</td>\n",
       "      <td>A</td>\n",
       "      <td>F</td>\n",
       "      <td>1993-02-07</td>\n",
       "      <td>1993-02-17</td>\n",
       "      <td>1993-02-20</td>\n",
       "      <td>DELIVER IN PERSON</td>\n",
       "      <td>TRUCK</td>\n",
       "      <td>about the ideas. bold</td>\n",
       "    </tr>\n",
       "    <tr>\n",
       "      <th>59986051</th>\n",
       "      <td>59974884</td>\n",
       "      <td>1125212</td>\n",
       "      <td>25213</td>\n",
       "      <td>7</td>\n",
       "      <td>16.0</td>\n",
       "      <td>19794.56</td>\n",
       "      <td>0.00</td>\n",
       "      <td>0.02</td>\n",
       "      <td>A</td>\n",
       "      <td>F</td>\n",
       "      <td>1993-03-11</td>\n",
       "      <td>1993-02-07</td>\n",
       "      <td>1993-04-07</td>\n",
       "      <td>DELIVER IN PERSON</td>\n",
       "      <td>RAIL</td>\n",
       "      <td>ffily pending requests nag. depe</td>\n",
       "    </tr>\n",
       "  </tbody>\n",
       "</table>\n",
       "<p>59986052 rows x 16 columns</p>\n",
       "</div>"
      ],
      "text/plain": [
       "          L_ORDERKEY  L_PARTKEY  L_SUPPKEY  L_LINENUMBER  L_QUANTITY  \\\n",
       "0           56224388     804093      54110             2         5.0   \n",
       "1           56224388     387466      87467             3        13.0   \n",
       "2           56224388     127861      27862             4        26.0   \n",
       "3           56224388     955237      55238             5        38.0   \n",
       "4           56224389      16386      41387             1        26.0   \n",
       "...              ...        ...        ...           ...         ...   \n",
       "59986047    59974884     889130      39147             3        24.0   \n",
       "59986048    59974884    1596930      71976             4         3.0   \n",
       "59986049    59974884    1588342      13358             5        46.0   \n",
       "59986050    59974884    1249071      24108             6        44.0   \n",
       "59986051    59974884    1125212      25213             7        16.0   \n",
       "\n",
       "          L_EXTENDEDPRICE  L_DISCOUNT  L_TAX L_RETURNFLAG L_LINESTATUS  \\\n",
       "0                 4985.25        0.04   0.08            N            O   \n",
       "1                20194.85        0.04   0.04            N            O   \n",
       "2                49110.36        0.09   0.02            N            O   \n",
       "3                49103.22        0.10   0.01            N            O   \n",
       "4                33861.88        0.04   0.00            A            F   \n",
       "...                   ...         ...    ...          ...          ...   \n",
       "59986047         26858.16        0.03   0.06            R            F   \n",
       "59986048          6080.58        0.08   0.08            R            F   \n",
       "59986049         65792.42        0.08   0.06            R            F   \n",
       "59986050         44880.44        0.09   0.04            A            F   \n",
       "59986051         19794.56        0.00   0.02            A            F   \n",
       "\n",
       "          L_SHIPDATE L_COMMITDATE L_RECEIPTDATE     L_SHIPINSTRUCT L_SHIPMODE  \\\n",
       "0         1998-04-25   1998-05-30    1998-05-24        COLLECT COD       MAIL   \n",
       "1         1998-03-29   1998-04-15    1998-04-12  DELIVER IN PERSON    REG AIR   \n",
       "2         1998-05-14   1998-05-25    1998-06-06   TAKE BACK RETURN       MAIL   \n",
       "3         1998-03-08   1998-04-19    1998-03-25               NONE        AIR   \n",
       "4         1995-05-17   1995-06-14    1995-05-18        COLLECT COD       MAIL   \n",
       "...              ...          ...           ...                ...        ...   \n",
       "59986047  1993-01-10   1993-02-24    1993-01-18  DELIVER IN PERSON       RAIL   \n",
       "59986048  1993-02-14   1993-02-17    1993-03-15        COLLECT COD        AIR   \n",
       "59986049  1993-03-21   1993-03-04    1993-04-06  DELIVER IN PERSON      TRUCK   \n",
       "59986050  1993-02-07   1993-02-17    1993-02-20  DELIVER IN PERSON      TRUCK   \n",
       "59986051  1993-03-11   1993-02-07    1993-04-07  DELIVER IN PERSON       RAIL   \n",
       "\n",
       "                                 L_COMMENT  \n",
       "0                             inst the exp  \n",
       "1                           e regular, spe  \n",
       "2         ve the final ideas cajole slyly   \n",
       "3                sts sleep around the slow  \n",
       "4                            ideas. slyly   \n",
       "...                                    ...  \n",
       "59986047          the carefully express fo  \n",
       "59986048         ove the regularly ironic   \n",
       "59986049          onic requests sleep acco  \n",
       "59986050            about the ideas. bold   \n",
       "59986051  ffily pending requests nag. depe  \n",
       "\n",
       "[59986052 rows x 16 columns]"
      ]
     },
     "execution_count": 18,
     "metadata": {},
     "output_type": "execute_result"
    }
   ],
   "source": [
    "#df.set_backend('Pandas')"
   ]
  },
  {
   "cell_type": "markdown",
   "metadata": {},
   "source": [
    "But we only need to work with a sample of the data, so we sample 2% of the data."
   ]
  },
  {
   "cell_type": "code",
   "execution_count": 13,
   "metadata": {},
   "outputs": [
    {
     "name": "stderr",
     "output_type": "stream",
     "text": [
      "WARNING:root:Snowpark pandas `sample` will create a temp table for sampled results to keep it deterministic.\n"
     ]
    },
    {
     "name": "stdout",
     "output_type": "stream",
     "text": [
      "CPU times: user 76.4 ms, sys: 15.9 ms, total: 92.3 ms\n",
      "Wall time: 4.18 s\n"
     ]
    }
   ],
   "source": [
    "%%time\n",
    "\n",
    "filtered = df.sample(frac=0.02)"
   ]
  },
  {
   "cell_type": "markdown",
   "metadata": {},
   "source": [
    "Now it's easier to fetch the data."
   ]
  },
  {
   "cell_type": "code",
   "execution_count": 15,
   "metadata": {},
   "outputs": [
    {
     "data": {
      "application/vnd.jupyter.widget-view+json": {
       "model_id": "8769f628d9aa450591a7adceaf433b66",
       "version_major": 2,
       "version_minor": 0
      },
      "text/plain": [
       "Transferring data from Snowflake to Pandas ...:   0%|          | 0/2 [00:00<?, ?it/s]"
      ]
     },
     "metadata": {},
     "output_type": "display_data"
    },
    {
     "name": "stdout",
     "output_type": "stream",
     "text": [
      "CPU times: user 2.36 s, sys: 396 ms, total: 2.75 s\n",
      "Wall time: 4.93 s\n"
     ]
    }
   ],
   "source": [
    "%%time\n",
    "\n",
    "python_filtered = filtered.move_to('PANDAS')"
   ]
  },
  {
   "cell_type": "markdown",
   "metadata": {},
   "source": [
    "Now we can do a complex operation on the filtered subset of the data."
   ]
  },
  {
   "cell_type": "code",
   "execution_count": 16,
   "metadata": {},
   "outputs": [
    {
     "name": "stdout",
     "output_type": "stream",
     "text": [
      "CPU times: user 254 ms, sys: 31.8 ms, total: 285 ms\n",
      "Wall time: 283 ms\n"
     ]
    },
    {
     "data": {
      "text/plain": [
       "L_SHIPMODE\n",
       "AIR        4.314149e+07\n",
       "FOB        4.319355e+07\n",
       "MAIL       4.317048e+07\n",
       "RAIL       4.314031e+07\n",
       "REG AIR    4.316588e+07\n",
       "SHIP       4.321064e+07\n",
       "TRUCK      4.317835e+07\n",
       "dtype: float64"
      ]
     },
     "execution_count": 16,
     "metadata": {},
     "output_type": "execute_result"
    }
   ],
   "source": [
    "%%time\n",
    "\n",
    "python_filtered.groupby('L_SHIPMODE').apply(lambda group: group.L_ORDERKEY.iloc[0] + group.L_ORDERKEY.mean())"
   ]
  },
  {
   "cell_type": "markdown",
   "metadata": {},
   "source": [
    "Doing the same operation on the filtered data in Snowflake would take much longer."
   ]
  },
  {
   "cell_type": "code",
   "execution_count": 17,
   "metadata": {},
   "outputs": [
    {
     "ename": "KeyboardInterrupt",
     "evalue": "",
     "output_type": "error",
     "traceback": [
      "\u001b[0;31m---------------------------------------------------------------------------\u001b[0m",
      "\u001b[0;31mKeyboardInterrupt\u001b[0m                         Traceback (most recent call last)",
      "File \u001b[0;32m<timed eval>:1\u001b[0m\n",
      "File \u001b[0;32m~/dev/snowpark-python/src/snowflake/snowpark/modin/plugin/_internal/telemetry.py:432\u001b[0m, in \u001b[0;36msnowpark_pandas_telemetry_method_decorator.<locals>.wrap\u001b[0;34m(*args, **kwargs)\u001b[0m\n\u001b[1;32m    425\u001b[0m \u001b[38;5;129m@functools\u001b[39m\u001b[38;5;241m.\u001b[39mwraps(func)\n\u001b[1;32m    426\u001b[0m \u001b[38;5;28;01mdef\u001b[39;00m \u001b[38;5;21mwrap\u001b[39m(\u001b[38;5;241m*\u001b[39margs, \u001b[38;5;241m*\u001b[39m\u001b[38;5;241m*\u001b[39mkwargs):  \u001b[38;5;66;03m# type: ignore\u001b[39;00m\n\u001b[1;32m    427\u001b[0m     \u001b[38;5;66;03m# add a `type: ignore` for this function definition because the\u001b[39;00m\n\u001b[0;32m   (...)\u001b[0m\n\u001b[1;32m    430\u001b[0m     \u001b[38;5;66;03m# hints in-line here. We'll fix up the type with a `cast` before\u001b[39;00m\n\u001b[1;32m    431\u001b[0m     \u001b[38;5;66;03m# returning the function.\u001b[39;00m\n\u001b[0;32m--> 432\u001b[0m     \u001b[38;5;28;01mreturn\u001b[39;00m \u001b[43m_telemetry_helper\u001b[49m\u001b[43m(\u001b[49m\n\u001b[1;32m    433\u001b[0m \u001b[43m        \u001b[49m\u001b[43mfunc\u001b[49m\u001b[38;5;241;43m=\u001b[39;49m\u001b[43mfunc\u001b[49m\u001b[43m,\u001b[49m\n\u001b[1;32m    434\u001b[0m \u001b[43m        \u001b[49m\u001b[43margs\u001b[49m\u001b[38;5;241;43m=\u001b[39;49m\u001b[43margs\u001b[49m\u001b[43m,\u001b[49m\n\u001b[1;32m    435\u001b[0m \u001b[43m        \u001b[49m\u001b[43mkwargs\u001b[49m\u001b[38;5;241;43m=\u001b[39;49m\u001b[43mkwargs\u001b[49m\u001b[43m,\u001b[49m\n\u001b[1;32m    436\u001b[0m \u001b[43m        \u001b[49m\u001b[43mis_standalone_function\u001b[49m\u001b[38;5;241;43m=\u001b[39;49m\u001b[38;5;28;43;01mFalse\u001b[39;49;00m\u001b[43m,\u001b[49m\n\u001b[1;32m    437\u001b[0m \u001b[43m        \u001b[49m\u001b[43mproperty_name\u001b[49m\u001b[38;5;241;43m=\u001b[39;49m\u001b[43mproperty_name\u001b[49m\u001b[43m,\u001b[49m\n\u001b[1;32m    438\u001b[0m \u001b[43m        \u001b[49m\u001b[43mproperty_method_type\u001b[49m\u001b[38;5;241;43m=\u001b[39;49m\u001b[43mproperty_method_type\u001b[49m\u001b[43m,\u001b[49m\n\u001b[1;32m    439\u001b[0m \u001b[43m    \u001b[49m\u001b[43m)\u001b[49m\n",
      "File \u001b[0;32m~/dev/snowpark-python/src/snowflake/snowpark/modin/plugin/_internal/telemetry.py:343\u001b[0m, in \u001b[0;36m_telemetry_helper\u001b[0;34m(func, args, kwargs, is_standalone_function, property_name, property_method_type)\u001b[0m\n\u001b[1;32m    337\u001b[0m \u001b[38;5;28;01mtry\u001b[39;00m:\n\u001b[1;32m    338\u001b[0m     \u001b[38;5;66;03m# query_history is a QueryHistory instance which is a Context Managers\u001b[39;00m\n\u001b[1;32m    339\u001b[0m     \u001b[38;5;66;03m# See example in https://github.com/snowflakedb/snowpark-python/blob/main/src/snowflake/snowpark/session.py#L2052\u001b[39;00m\n\u001b[1;32m    340\u001b[0m     \u001b[38;5;66;03m# Use `nullcontext` to handle `session` lacking `query_history` attribute without raising an exception.\u001b[39;00m\n\u001b[1;32m    341\u001b[0m     \u001b[38;5;66;03m# This prevents telemetry from interfering with regular API calls.\u001b[39;00m\n\u001b[1;32m    342\u001b[0m     \u001b[38;5;28;01mwith\u001b[39;00m \u001b[38;5;28mgetattr\u001b[39m(session, \u001b[38;5;124m\"\u001b[39m\u001b[38;5;124mquery_history\u001b[39m\u001b[38;5;124m\"\u001b[39m, nullcontext)() \u001b[38;5;28;01mas\u001b[39;00m query_history:\n\u001b[0;32m--> 343\u001b[0m         result \u001b[38;5;241m=\u001b[39m \u001b[43mfunc\u001b[49m\u001b[43m(\u001b[49m\u001b[38;5;241;43m*\u001b[39;49m\u001b[43margs\u001b[49m\u001b[43m,\u001b[49m\u001b[43m \u001b[49m\u001b[38;5;241;43m*\u001b[39;49m\u001b[38;5;241;43m*\u001b[39;49m\u001b[43mkwargs\u001b[49m\u001b[43m)\u001b[49m\n\u001b[1;32m    344\u001b[0m \u001b[38;5;28;01mexcept\u001b[39;00m \u001b[38;5;167;01mException\u001b[39;00m \u001b[38;5;28;01mas\u001b[39;00m e:\n\u001b[1;32m    345\u001b[0m     \u001b[38;5;66;03m# Send Telemetry and Raise Error\u001b[39;00m\n\u001b[1;32m    346\u001b[0m     _send_snowpark_pandas_telemetry_helper(\n\u001b[1;32m    347\u001b[0m         session\u001b[38;5;241m=\u001b[39msession,\n\u001b[1;32m    348\u001b[0m         telemetry_type\u001b[38;5;241m=\u001b[39merror_to_telemetry_type(e),\n\u001b[0;32m   (...)\u001b[0m\n\u001b[1;32m    356\u001b[0m         method_call_count\u001b[38;5;241m=\u001b[39mmethod_call_count,\n\u001b[1;32m    357\u001b[0m     )\n",
      "File \u001b[0;32m~/dev/snowpark-python/src/snowflake/snowpark/modin/plugin/extensions/groupby_overrides.py:250\u001b[0m, in \u001b[0;36mDataFrameGroupBy.apply\u001b[0;34m(self, func, include_groups, *args, **kwargs)\u001b[0m\n\u001b[1;32m    247\u001b[0m \u001b[38;5;28;01mif\u001b[39;00m \u001b[38;5;129;01mnot\u001b[39;00m \u001b[38;5;28mcallable\u001b[39m(func):\n\u001b[1;32m    248\u001b[0m     \u001b[38;5;28;01mraise\u001b[39;00m \u001b[38;5;167;01mNotImplementedError\u001b[39;00m(\u001b[38;5;124m\"\u001b[39m\u001b[38;5;124mNo support for non-callable `func`\u001b[39m\u001b[38;5;124m\"\u001b[39m)\n\u001b[1;32m    249\u001b[0m dataframe_result \u001b[38;5;241m=\u001b[39m pd\u001b[38;5;241m.\u001b[39mDataFrame(\n\u001b[0;32m--> 250\u001b[0m     query_compiler\u001b[38;5;241m=\u001b[39m\u001b[38;5;28;43mself\u001b[39;49m\u001b[38;5;241;43m.\u001b[39;49m\u001b[43m_query_compiler\u001b[49m\u001b[38;5;241;43m.\u001b[39;49m\u001b[43mgroupby_apply\u001b[49m\u001b[43m(\u001b[49m\n\u001b[1;32m    251\u001b[0m \u001b[43m        \u001b[49m\u001b[38;5;28;43mself\u001b[39;49m\u001b[38;5;241;43m.\u001b[39;49m\u001b[43m_by\u001b[49m\u001b[43m,\u001b[49m\n\u001b[1;32m    252\u001b[0m \u001b[43m        \u001b[49m\u001b[43magg_func\u001b[49m\u001b[38;5;241;43m=\u001b[39;49m\u001b[43mfunc\u001b[49m\u001b[43m,\u001b[49m\n\u001b[1;32m    253\u001b[0m \u001b[43m        \u001b[49m\u001b[43maxis\u001b[49m\u001b[38;5;241;43m=\u001b[39;49m\u001b[38;5;28;43mself\u001b[39;49m\u001b[38;5;241;43m.\u001b[39;49m\u001b[43m_axis\u001b[49m\u001b[43m,\u001b[49m\n\u001b[1;32m    254\u001b[0m \u001b[43m        \u001b[49m\u001b[43mgroupby_kwargs\u001b[49m\u001b[38;5;241;43m=\u001b[39;49m\u001b[38;5;28;43mself\u001b[39;49m\u001b[38;5;241;43m.\u001b[39;49m\u001b[43m_kwargs\u001b[49m\u001b[43m,\u001b[49m\n\u001b[1;32m    255\u001b[0m \u001b[43m        \u001b[49m\u001b[43magg_args\u001b[49m\u001b[38;5;241;43m=\u001b[39;49m\u001b[43margs\u001b[49m\u001b[43m,\u001b[49m\n\u001b[1;32m    256\u001b[0m \u001b[43m        \u001b[49m\u001b[43magg_kwargs\u001b[49m\u001b[38;5;241;43m=\u001b[39;49m\u001b[43mkwargs\u001b[49m\u001b[43m,\u001b[49m\n\u001b[1;32m    257\u001b[0m \u001b[43m        \u001b[49m\u001b[43mseries_groupby\u001b[49m\u001b[38;5;241;43m=\u001b[39;49m\u001b[38;5;28;43;01mFalse\u001b[39;49;00m\u001b[43m,\u001b[49m\n\u001b[1;32m    258\u001b[0m \u001b[43m        \u001b[49m\u001b[43minclude_groups\u001b[49m\u001b[38;5;241;43m=\u001b[39;49m\u001b[43minclude_groups\u001b[49m\u001b[43m,\u001b[49m\n\u001b[1;32m    259\u001b[0m \u001b[43m    \u001b[49m\u001b[43m)\u001b[49m\n\u001b[1;32m    260\u001b[0m )\n\u001b[1;32m    261\u001b[0m \u001b[38;5;28;01mif\u001b[39;00m dataframe_result\u001b[38;5;241m.\u001b[39mcolumns\u001b[38;5;241m.\u001b[39mequals(pandas\u001b[38;5;241m.\u001b[39mIndex([MODIN_UNNAMED_SERIES_LABEL])):\n\u001b[1;32m    262\u001b[0m     \u001b[38;5;28;01mreturn\u001b[39;00m dataframe_result\u001b[38;5;241m.\u001b[39msqueeze(axis\u001b[38;5;241m=\u001b[39m\u001b[38;5;241m1\u001b[39m)\n",
      "File \u001b[0;32m~/dev/snowpark-python/src/snowflake/snowpark/modin/plugin/compiler/snowflake_query_compiler.py:484\u001b[0m, in \u001b[0;36m_propagate_attrs_on_methods.<locals>.propagate_attrs_decorator.<locals>.wrap\u001b[0;34m(self, *args, **kwargs)\u001b[0m\n\u001b[1;32m    482\u001b[0m \u001b[38;5;129m@functools\u001b[39m\u001b[38;5;241m.\u001b[39mwraps(method)\n\u001b[1;32m    483\u001b[0m \u001b[38;5;28;01mdef\u001b[39;00m \u001b[38;5;21mwrap\u001b[39m(\u001b[38;5;28mself\u001b[39m, \u001b[38;5;241m*\u001b[39margs, \u001b[38;5;241m*\u001b[39m\u001b[38;5;241m*\u001b[39mkwargs):  \u001b[38;5;66;03m# type: ignore\u001b[39;00m\n\u001b[0;32m--> 484\u001b[0m     result \u001b[38;5;241m=\u001b[39m \u001b[43mmethod\u001b[49m\u001b[43m(\u001b[49m\u001b[38;5;28;43mself\u001b[39;49m\u001b[43m,\u001b[49m\u001b[43m \u001b[49m\u001b[38;5;241;43m*\u001b[39;49m\u001b[43margs\u001b[49m\u001b[43m,\u001b[49m\u001b[43m \u001b[49m\u001b[38;5;241;43m*\u001b[39;49m\u001b[38;5;241;43m*\u001b[39;49m\u001b[43mkwargs\u001b[49m\u001b[43m)\u001b[49m\n\u001b[1;32m    485\u001b[0m     \u001b[38;5;28;01mif\u001b[39;00m \u001b[38;5;28misinstance\u001b[39m(result, SnowflakeQueryCompiler) \u001b[38;5;129;01mand\u001b[39;00m \u001b[38;5;28mlen\u001b[39m(\u001b[38;5;28mself\u001b[39m\u001b[38;5;241m.\u001b[39m_attrs):\n\u001b[1;32m    486\u001b[0m         result\u001b[38;5;241m.\u001b[39m_attrs \u001b[38;5;241m=\u001b[39m copy\u001b[38;5;241m.\u001b[39mdeepcopy(\u001b[38;5;28mself\u001b[39m\u001b[38;5;241m.\u001b[39m_attrs)\n",
      "File \u001b[0;32m~/dev/modin/modin/logging/logger_decorator.py:149\u001b[0m, in \u001b[0;36menable_logging.<locals>.decorator.<locals>.run_and_log\u001b[0;34m(*args, **kwargs)\u001b[0m\n\u001b[1;32m    147\u001b[0m start_time \u001b[38;5;241m=\u001b[39m perf_counter()\n\u001b[1;32m    148\u001b[0m \u001b[38;5;28;01mif\u001b[39;00m LogMode\u001b[38;5;241m.\u001b[39mget() \u001b[38;5;241m==\u001b[39m \u001b[38;5;124m\"\u001b[39m\u001b[38;5;124mdisable\u001b[39m\u001b[38;5;124m\"\u001b[39m:\n\u001b[0;32m--> 149\u001b[0m     result \u001b[38;5;241m=\u001b[39m \u001b[43mobj\u001b[49m\u001b[43m(\u001b[49m\u001b[38;5;241;43m*\u001b[39;49m\u001b[43margs\u001b[49m\u001b[43m,\u001b[49m\u001b[43m \u001b[49m\u001b[38;5;241;43m*\u001b[39;49m\u001b[38;5;241;43m*\u001b[39;49m\u001b[43mkwargs\u001b[49m\u001b[43m)\u001b[49m\n\u001b[1;32m    150\u001b[0m     emit_metric(metric_name, perf_counter() \u001b[38;5;241m-\u001b[39m start_time)\n\u001b[1;32m    151\u001b[0m     \u001b[38;5;28;01mreturn\u001b[39;00m result\n",
      "File \u001b[0;32m~/dev/snowpark-python/src/snowflake/snowpark/modin/plugin/compiler/snowflake_query_compiler.py:4359\u001b[0m, in \u001b[0;36mSnowflakeQueryCompiler.groupby_apply\u001b[0;34m(self, by, agg_func, axis, groupby_kwargs, agg_args, agg_kwargs, series_groupby, include_groups, force_single_group, force_list_like_to_series)\u001b[0m\n\u001b[1;32m   4337\u001b[0m     \u001b[38;5;28;01mreturn\u001b[39;00m SnowflakeQueryCompiler(\n\u001b[1;32m   4338\u001b[0m         InternalFrame\u001b[38;5;241m.\u001b[39mcreate(\n\u001b[1;32m   4339\u001b[0m             ordered_dataframe\u001b[38;5;241m=\u001b[39mordered_dataframe,\n\u001b[0;32m   (...)\u001b[0m\n\u001b[1;32m   4351\u001b[0m         )\n\u001b[1;32m   4352\u001b[0m     )\n\u001b[1;32m   4354\u001b[0m \u001b[38;5;66;03m# NOTE we are keeping the cache_result for performance reasons. DO NOT\u001b[39;00m\n\u001b[1;32m   4355\u001b[0m \u001b[38;5;66;03m# REMOVE the cache_result unless you can prove that doing so will not\u001b[39;00m\n\u001b[1;32m   4356\u001b[0m \u001b[38;5;66;03m# materially slow down CI or individual groupby.apply() calls.\u001b[39;00m\n\u001b[1;32m   4357\u001b[0m \u001b[38;5;66;03m# TODO(SNOW-1345395): Investigate why and to what extent the cache_result\u001b[39;00m\n\u001b[1;32m   4358\u001b[0m \u001b[38;5;66;03m# is useful.\u001b[39;00m\n\u001b[0;32m-> 4359\u001b[0m ordered_dataframe \u001b[38;5;241m=\u001b[39m \u001b[43mcache_result\u001b[49m\u001b[43m(\u001b[49m\n\u001b[1;32m   4360\u001b[0m \u001b[43m    \u001b[49m\u001b[43mordered_dataframe\u001b[49m\u001b[38;5;241;43m.\u001b[39;49m\u001b[43mselect\u001b[49m\u001b[43m(\u001b[49m\n\u001b[1;32m   4361\u001b[0m \u001b[43m        \u001b[49m\u001b[38;5;241;43m*\u001b[39;49m\u001b[43mby_snowflake_quoted_identifiers_list\u001b[49m\u001b[43m,\u001b[49m\n\u001b[1;32m   4362\u001b[0m \u001b[43m        \u001b[49m\u001b[43mudtf\u001b[49m\u001b[43m(\u001b[49m\n\u001b[1;32m   4363\u001b[0m \u001b[43m            \u001b[49m\u001b[43mrow_position_snowflake_quoted_identifier\u001b[49m\u001b[43m,\u001b[49m\n\u001b[1;32m   4364\u001b[0m \u001b[43m            \u001b[49m\u001b[38;5;241;43m*\u001b[39;49m\u001b[43mby_snowflake_quoted_identifiers_list\u001b[49m\u001b[43m,\u001b[49m\n\u001b[1;32m   4365\u001b[0m \u001b[43m            \u001b[49m\u001b[38;5;241;43m*\u001b[39;49m\u001b[43mnew_internal_df\u001b[49m\u001b[38;5;241;43m.\u001b[39;49m\u001b[43mindex_column_snowflake_quoted_identifiers\u001b[49m\u001b[43m,\u001b[49m\n\u001b[1;32m   4366\u001b[0m \u001b[43m            \u001b[49m\u001b[38;5;241;43m*\u001b[39;49m\u001b[43minput_data_column_identifiers\u001b[49m\u001b[43m,\u001b[49m\n\u001b[1;32m   4367\u001b[0m \u001b[43m        \u001b[49m\u001b[43m)\u001b[49m\u001b[38;5;241;43m.\u001b[39;49m\u001b[43mover\u001b[49m\u001b[43m(\u001b[49m\n\u001b[1;32m   4368\u001b[0m \u001b[43m            \u001b[49m\u001b[43mpartition_by\u001b[49m\u001b[38;5;241;43m=\u001b[39;49m\u001b[38;5;28;43;01mNone\u001b[39;49;00m\n\u001b[1;32m   4369\u001b[0m \u001b[43m            \u001b[49m\u001b[38;5;28;43;01mif\u001b[39;49;00m\u001b[43m \u001b[49m\u001b[43mforce_single_group\u001b[49m\n\u001b[1;32m   4370\u001b[0m \u001b[43m            \u001b[49m\u001b[38;5;28;43;01melse\u001b[39;49;00m\u001b[43m \u001b[49m\u001b[43m[\u001b[49m\u001b[38;5;241;43m*\u001b[39;49m\u001b[43mby_snowflake_quoted_identifiers_list\u001b[49m\u001b[43m]\u001b[49m\u001b[43m,\u001b[49m\n\u001b[1;32m   4371\u001b[0m \u001b[43m            \u001b[49m\u001b[43morder_by\u001b[49m\u001b[38;5;241;43m=\u001b[39;49m\u001b[43mrow_position_snowflake_quoted_identifier\u001b[49m\u001b[43m,\u001b[49m\n\u001b[1;32m   4372\u001b[0m \u001b[43m        \u001b[49m\u001b[43m)\u001b[49m\u001b[43m,\u001b[49m\n\u001b[1;32m   4373\u001b[0m \u001b[43m    \u001b[49m\u001b[43m)\u001b[49m\n\u001b[1;32m   4374\u001b[0m \u001b[43m\u001b[49m\u001b[43m)\u001b[49m\n\u001b[1;32m   4376\u001b[0m \u001b[38;5;250m\u001b[39m\u001b[38;5;124;03m\"\"\"\u001b[39;00m\n\u001b[1;32m   4377\u001b[0m \u001b[38;5;124;03mAfter applying the udtf, the underlying Snowpark DataFrame contains the group keys, followed by columns representing the UDTF results:\u001b[39;00m\n\u001b[1;32m   4378\u001b[0m \n\u001b[0;32m   (...)\u001b[0m\n\u001b[1;32m   4418\u001b[0m \u001b[38;5;124;03m  of the original frame.\u001b[39;00m\n\u001b[1;32m   4419\u001b[0m \u001b[38;5;124;03m\"\"\"\u001b[39;00m\n\u001b[1;32m   4421\u001b[0m ordered_dataframe \u001b[38;5;241m=\u001b[39m ordered_dataframe\u001b[38;5;241m.\u001b[39mpivot(\n\u001b[1;32m   4422\u001b[0m     APPLY_LABEL_COLUMN_QUOTED_IDENTIFIER,\n\u001b[1;32m   4423\u001b[0m     \u001b[38;5;28;01mNone\u001b[39;00m,\n\u001b[1;32m   4424\u001b[0m     \u001b[38;5;28;01mNone\u001b[39;00m,\n\u001b[1;32m   4425\u001b[0m     min_(APPLY_VALUE_COLUMN_QUOTED_IDENTIFIER),\n\u001b[1;32m   4426\u001b[0m )\n",
      "File \u001b[0;32m~/dev/snowpark-python/src/snowflake/snowpark/modin/plugin/_internal/utils.py:1937\u001b[0m, in \u001b[0;36mcache_result\u001b[0;34m(ordered_dataframe)\u001b[0m\n\u001b[1;32m   1935\u001b[0m session \u001b[38;5;241m=\u001b[39m ordered_dataframe\u001b[38;5;241m.\u001b[39msession\n\u001b[1;32m   1936\u001b[0m temp_table_name \u001b[38;5;241m=\u001b[39m \u001b[38;5;124mf\u001b[39m\u001b[38;5;124m'\u001b[39m\u001b[38;5;132;01m{\u001b[39;00msession\u001b[38;5;241m.\u001b[39mget_current_database()\u001b[38;5;132;01m}\u001b[39;00m\u001b[38;5;124m.\u001b[39m\u001b[38;5;132;01m{\u001b[39;00msession\u001b[38;5;241m.\u001b[39mget_current_schema()\u001b[38;5;132;01m}\u001b[39;00m\u001b[38;5;124m.\u001b[39m\u001b[38;5;124m\"\u001b[39m\u001b[38;5;132;01m{\u001b[39;00mrandom_name_for_temp_object(TempObjectType\u001b[38;5;241m.\u001b[39mTABLE)\u001b[38;5;132;01m}\u001b[39;00m\u001b[38;5;124m\"\u001b[39m\u001b[38;5;124m'\u001b[39m\n\u001b[0;32m-> 1937\u001b[0m \u001b[43mordered_dataframe\u001b[49m\u001b[38;5;241;43m.\u001b[39;49m\u001b[43mwrite\u001b[49m\u001b[38;5;241;43m.\u001b[39;49m\u001b[43msave_as_table\u001b[49m\u001b[43m(\u001b[49m\n\u001b[1;32m   1938\u001b[0m \u001b[43m    \u001b[49m\u001b[43mtemp_table_name\u001b[49m\u001b[43m,\u001b[49m\n\u001b[1;32m   1939\u001b[0m \u001b[43m    \u001b[49m\u001b[43mmode\u001b[49m\u001b[38;5;241;43m=\u001b[39;49m\u001b[38;5;124;43m\"\u001b[39;49m\u001b[38;5;124;43merrorifexists\u001b[39;49m\u001b[38;5;124;43m\"\u001b[39;49m\u001b[43m,\u001b[49m\n\u001b[1;32m   1940\u001b[0m \u001b[43m    \u001b[49m\u001b[43mtable_type\u001b[49m\u001b[38;5;241;43m=\u001b[39;49m\u001b[38;5;124;43m\"\u001b[39;49m\u001b[38;5;124;43mtemporary\u001b[39;49m\u001b[38;5;124;43m\"\u001b[39;49m\u001b[43m,\u001b[49m\n\u001b[1;32m   1941\u001b[0m \u001b[43m    \u001b[49m\u001b[43mstatement_params\u001b[49m\u001b[38;5;241;43m=\u001b[39;49m\u001b[43mget_default_snowpark_pandas_statement_params\u001b[49m\u001b[43m(\u001b[49m\u001b[43m)\u001b[49m\u001b[43m,\u001b[49m\n\u001b[1;32m   1942\u001b[0m \u001b[43m\u001b[49m\u001b[43m)\u001b[49m\n\u001b[1;32m   1943\u001b[0m \u001b[38;5;28;01mreturn\u001b[39;00m OrderedDataFrame(\n\u001b[1;32m   1944\u001b[0m     DataFrameReference(session\u001b[38;5;241m.\u001b[39mtable(temp_table_name)),\n\u001b[1;32m   1945\u001b[0m     projected_column_snowflake_quoted_identifiers\u001b[38;5;241m=\u001b[39mordered_dataframe\u001b[38;5;241m.\u001b[39mprojected_column_snowflake_quoted_identifiers,\n\u001b[1;32m   1946\u001b[0m     ordering_columns\u001b[38;5;241m=\u001b[39mordered_dataframe\u001b[38;5;241m.\u001b[39mordering_columns,\n\u001b[1;32m   1947\u001b[0m     row_position_snowflake_quoted_identifier\u001b[38;5;241m=\u001b[39mordered_dataframe\u001b[38;5;241m.\u001b[39mrow_position_snowflake_quoted_identifier,\n\u001b[1;32m   1948\u001b[0m )\n",
      "File \u001b[0;32m~/dev/snowpark-python/src/snowflake/snowpark/_internal/telemetry.py:328\u001b[0m, in \u001b[0;36mdfw_collect_api_telemetry.<locals>.wrap\u001b[0;34m(*args, **kwargs)\u001b[0m\n\u001b[1;32m    326\u001b[0m \u001b[38;5;28;01mtry\u001b[39;00m:\n\u001b[1;32m    327\u001b[0m     \u001b[38;5;28;01mwith\u001b[39;00m ResourceUsageCollector() \u001b[38;5;28;01mas\u001b[39;00m resource_usage_collector:\n\u001b[0;32m--> 328\u001b[0m         result \u001b[38;5;241m=\u001b[39m \u001b[43mfunc\u001b[49m\u001b[43m(\u001b[49m\u001b[38;5;241;43m*\u001b[39;49m\u001b[43margs\u001b[49m\u001b[43m,\u001b[49m\u001b[43m \u001b[49m\u001b[38;5;241;43m*\u001b[39;49m\u001b[38;5;241;43m*\u001b[39;49m\u001b[43mkwargs\u001b[49m\u001b[43m)\u001b[49m\n\u001b[1;32m    329\u001b[0m     resource_usage \u001b[38;5;241m=\u001b[39m resource_usage_collector\u001b[38;5;241m.\u001b[39mget_resource_usage()\n\u001b[1;32m    330\u001b[0m \u001b[38;5;28;01mfinally\u001b[39;00m:\n",
      "File \u001b[0;32m~/dev/snowpark-python/src/snowflake/snowpark/_internal/utils.py:1063\u001b[0m, in \u001b[0;36mpublicapi.<locals>.call_wrapper\u001b[0;34m(*args, **kwargs)\u001b[0m\n\u001b[1;32m   1059\u001b[0m kwargs[\u001b[38;5;124m\"\u001b[39m\u001b[38;5;124m_emit_ast\u001b[39m\u001b[38;5;124m\"\u001b[39m] \u001b[38;5;241m=\u001b[39m is_ast_enabled()\n\u001b[1;32m   1061\u001b[0m \u001b[38;5;66;03m# TODO: Could modify internal docstring to display that users should not modify the _emit_ast parameter.\u001b[39;00m\n\u001b[0;32m-> 1063\u001b[0m \u001b[38;5;28;01mreturn\u001b[39;00m \u001b[43mfunc\u001b[49m\u001b[43m(\u001b[49m\u001b[38;5;241;43m*\u001b[39;49m\u001b[43margs\u001b[49m\u001b[43m,\u001b[49m\u001b[43m \u001b[49m\u001b[38;5;241;43m*\u001b[39;49m\u001b[38;5;241;43m*\u001b[39;49m\u001b[43mkwargs\u001b[49m\u001b[43m)\u001b[49m\n",
      "File \u001b[0;32m~/dev/snowpark-python/src/snowflake/snowpark/dataframe_writer.py:497\u001b[0m, in \u001b[0;36mDataFrameWriter.save_as_table\u001b[0;34m(self, table_name, mode, column_order, create_temp_table, table_type, clustering_keys, statement_params, block, comment, enable_schema_evolution, data_retention_time, max_data_extension_time, change_tracking, copy_grants, iceberg_config, _emit_ast)\u001b[0m\n\u001b[1;32m    479\u001b[0m create_table_logic_plan \u001b[38;5;241m=\u001b[39m SnowflakeCreateTable(\n\u001b[1;32m    480\u001b[0m     table_name,\n\u001b[1;32m    481\u001b[0m     column_names,\n\u001b[0;32m   (...)\u001b[0m\n\u001b[1;32m    494\u001b[0m     table_exists,\n\u001b[1;32m    495\u001b[0m )\n\u001b[1;32m    496\u001b[0m snowflake_plan \u001b[38;5;241m=\u001b[39m session\u001b[38;5;241m.\u001b[39m_analyzer\u001b[38;5;241m.\u001b[39mresolve(create_table_logic_plan)\n\u001b[0;32m--> 497\u001b[0m result \u001b[38;5;241m=\u001b[39m \u001b[43msession\u001b[49m\u001b[38;5;241;43m.\u001b[39;49m\u001b[43m_conn\u001b[49m\u001b[38;5;241;43m.\u001b[39;49m\u001b[43mexecute\u001b[49m\u001b[43m(\u001b[49m\n\u001b[1;32m    498\u001b[0m \u001b[43m    \u001b[49m\u001b[43msnowflake_plan\u001b[49m\u001b[43m,\u001b[49m\n\u001b[1;32m    499\u001b[0m \u001b[43m    \u001b[49m\u001b[43m_statement_params\u001b[49m\u001b[38;5;241;43m=\u001b[39;49m\u001b[43mstatement_params\u001b[49m\u001b[43m,\u001b[49m\n\u001b[1;32m    500\u001b[0m \u001b[43m    \u001b[49m\u001b[43mblock\u001b[49m\u001b[38;5;241;43m=\u001b[39;49m\u001b[43mblock\u001b[49m\u001b[43m,\u001b[49m\n\u001b[1;32m    501\u001b[0m \u001b[43m    \u001b[49m\u001b[43mdata_type\u001b[49m\u001b[38;5;241;43m=\u001b[39;49m\u001b[43m_AsyncResultType\u001b[49m\u001b[38;5;241;43m.\u001b[39;49m\u001b[43mNO_RESULT\u001b[49m\u001b[43m,\u001b[49m\n\u001b[1;32m    502\u001b[0m \u001b[43m    \u001b[49m\u001b[38;5;241;43m*\u001b[39;49m\u001b[38;5;241;43m*\u001b[39;49m\u001b[43mkwargs\u001b[49m\u001b[43m,\u001b[49m\n\u001b[1;32m    503\u001b[0m \u001b[43m\u001b[49m\u001b[43m)\u001b[49m\n\u001b[1;32m    504\u001b[0m \u001b[38;5;28;01mreturn\u001b[39;00m result \u001b[38;5;28;01mif\u001b[39;00m \u001b[38;5;129;01mnot\u001b[39;00m block \u001b[38;5;28;01melse\u001b[39;00m \u001b[38;5;28;01mNone\u001b[39;00m\n",
      "File \u001b[0;32m~/dev/snowpark-python/src/snowflake/snowpark/_internal/server_connection.py:624\u001b[0m, in \u001b[0;36mServerConnection.execute\u001b[0;34m(self, plan, to_pandas, to_iter, to_arrow, block, data_type, log_on_exception, case_sensitive, **kwargs)\u001b[0m\n\u001b[1;32m    614\u001b[0m \u001b[38;5;28;01mif\u001b[39;00m (\n\u001b[1;32m    615\u001b[0m     is_in_stored_procedure()\n\u001b[1;32m    616\u001b[0m     \u001b[38;5;129;01mand\u001b[39;00m \u001b[38;5;129;01mnot\u001b[39;00m block\n\u001b[0;32m   (...)\u001b[0m\n\u001b[1;32m    619\u001b[0m     )\n\u001b[1;32m    620\u001b[0m ):  \u001b[38;5;66;03m# pragma: no cover\u001b[39;00m\n\u001b[1;32m    621\u001b[0m     \u001b[38;5;28;01mraise\u001b[39;00m \u001b[38;5;167;01mNotImplementedError\u001b[39;00m(\n\u001b[1;32m    622\u001b[0m         \u001b[38;5;124m\"\u001b[39m\u001b[38;5;124mAsync query is not supported in stored procedure yet\u001b[39m\u001b[38;5;124m\"\u001b[39m\n\u001b[1;32m    623\u001b[0m     )\n\u001b[0;32m--> 624\u001b[0m result_set, result_meta \u001b[38;5;241m=\u001b[39m \u001b[38;5;28;43mself\u001b[39;49m\u001b[38;5;241;43m.\u001b[39;49m\u001b[43mget_result_set\u001b[49m\u001b[43m(\u001b[49m\n\u001b[1;32m    625\u001b[0m \u001b[43m    \u001b[49m\u001b[43mplan\u001b[49m\u001b[43m,\u001b[49m\n\u001b[1;32m    626\u001b[0m \u001b[43m    \u001b[49m\u001b[43mto_pandas\u001b[49m\u001b[43m,\u001b[49m\n\u001b[1;32m    627\u001b[0m \u001b[43m    \u001b[49m\u001b[43mto_iter\u001b[49m\u001b[43m,\u001b[49m\n\u001b[1;32m    628\u001b[0m \u001b[43m    \u001b[49m\u001b[38;5;241;43m*\u001b[39;49m\u001b[38;5;241;43m*\u001b[39;49m\u001b[43mkwargs\u001b[49m\u001b[43m,\u001b[49m\n\u001b[1;32m    629\u001b[0m \u001b[43m    \u001b[49m\u001b[43mblock\u001b[49m\u001b[38;5;241;43m=\u001b[39;49m\u001b[43mblock\u001b[49m\u001b[43m,\u001b[49m\n\u001b[1;32m    630\u001b[0m \u001b[43m    \u001b[49m\u001b[43mdata_type\u001b[49m\u001b[38;5;241;43m=\u001b[39;49m\u001b[43mdata_type\u001b[49m\u001b[43m,\u001b[49m\n\u001b[1;32m    631\u001b[0m \u001b[43m    \u001b[49m\u001b[43mlog_on_exception\u001b[49m\u001b[38;5;241;43m=\u001b[39;49m\u001b[43mlog_on_exception\u001b[49m\u001b[43m,\u001b[49m\n\u001b[1;32m    632\u001b[0m \u001b[43m    \u001b[49m\u001b[43mcase_sensitive\u001b[49m\u001b[38;5;241;43m=\u001b[39;49m\u001b[43mcase_sensitive\u001b[49m\u001b[43m,\u001b[49m\n\u001b[1;32m    633\u001b[0m \u001b[43m    \u001b[49m\u001b[43mto_arrow\u001b[49m\u001b[38;5;241;43m=\u001b[39;49m\u001b[43mto_arrow\u001b[49m\u001b[43m,\u001b[49m\n\u001b[1;32m    634\u001b[0m \u001b[43m\u001b[49m\u001b[43m)\u001b[49m\n\u001b[1;32m    635\u001b[0m \u001b[38;5;28;01mif\u001b[39;00m \u001b[38;5;129;01mnot\u001b[39;00m block:\n\u001b[1;32m    636\u001b[0m     \u001b[38;5;28;01mreturn\u001b[39;00m result_set\n",
      "File \u001b[0;32m~/dev/snowpark-python/src/snowflake/snowpark/_internal/analyzer/snowflake_plan.py:142\u001b[0m, in \u001b[0;36mSnowflakePlan.Decorator.wrap_exception.<locals>.wrap\u001b[0;34m(*args, **kwargs)\u001b[0m\n\u001b[1;32m    140\u001b[0m \u001b[38;5;28;01mdef\u001b[39;00m \u001b[38;5;21mwrap\u001b[39m(\u001b[38;5;241m*\u001b[39margs, \u001b[38;5;241m*\u001b[39m\u001b[38;5;241m*\u001b[39mkwargs):\n\u001b[1;32m    141\u001b[0m     \u001b[38;5;28;01mtry\u001b[39;00m:\n\u001b[0;32m--> 142\u001b[0m         \u001b[38;5;28;01mreturn\u001b[39;00m \u001b[43mfunc\u001b[49m\u001b[43m(\u001b[49m\u001b[38;5;241;43m*\u001b[39;49m\u001b[43margs\u001b[49m\u001b[43m,\u001b[49m\u001b[43m \u001b[49m\u001b[38;5;241;43m*\u001b[39;49m\u001b[38;5;241;43m*\u001b[39;49m\u001b[43mkwargs\u001b[49m\u001b[43m)\u001b[49m\n\u001b[1;32m    143\u001b[0m     \u001b[38;5;28;01mexcept\u001b[39;00m snowflake\u001b[38;5;241m.\u001b[39mconnector\u001b[38;5;241m.\u001b[39merrors\u001b[38;5;241m.\u001b[39mProgrammingError \u001b[38;5;28;01mas\u001b[39;00m e:\n\u001b[1;32m    144\u001b[0m         query \u001b[38;5;241m=\u001b[39m \u001b[38;5;28mgetattr\u001b[39m(e, \u001b[38;5;124m\"\u001b[39m\u001b[38;5;124mquery\u001b[39m\u001b[38;5;124m\"\u001b[39m, \u001b[38;5;28;01mNone\u001b[39;00m)\n",
      "File \u001b[0;32m~/dev/snowpark-python/src/snowflake/snowpark/_internal/server_connection.py:746\u001b[0m, in \u001b[0;36mServerConnection.get_result_set\u001b[0;34m(self, plan, to_pandas, to_iter, block, data_type, log_on_exception, case_sensitive, ignore_results, to_arrow, **kwargs)\u001b[0m\n\u001b[1;32m    744\u001b[0m     kwargs[DATAFRAME_AST_PARAMETER] \u001b[38;5;241m=\u001b[39m dataframe_ast\n\u001b[1;32m    745\u001b[0m is_final_query \u001b[38;5;241m=\u001b[39m i \u001b[38;5;241m==\u001b[39m \u001b[38;5;28mlen\u001b[39m(main_queries) \u001b[38;5;241m-\u001b[39m \u001b[38;5;241m1\u001b[39m\n\u001b[0;32m--> 746\u001b[0m result \u001b[38;5;241m=\u001b[39m \u001b[38;5;28;43mself\u001b[39;49m\u001b[38;5;241;43m.\u001b[39;49m\u001b[43mrun_query\u001b[49m\u001b[43m(\u001b[49m\n\u001b[1;32m    747\u001b[0m \u001b[43m    \u001b[49m\u001b[43mfinal_query\u001b[49m\u001b[43m,\u001b[49m\n\u001b[1;32m    748\u001b[0m \u001b[43m    \u001b[49m\u001b[43mto_pandas\u001b[49m\u001b[43m,\u001b[49m\n\u001b[1;32m    749\u001b[0m \u001b[43m    \u001b[49m\u001b[43mto_iter\u001b[49m\u001b[43m \u001b[49m\u001b[38;5;129;43;01mand\u001b[39;49;00m\u001b[43m \u001b[49m\u001b[43mis_final_query\u001b[49m\u001b[43m,\u001b[49m\n\u001b[1;32m    750\u001b[0m \u001b[43m    \u001b[49m\u001b[43mis_ddl_on_temp_object\u001b[49m\u001b[38;5;241;43m=\u001b[39;49m\u001b[43mquery\u001b[49m\u001b[38;5;241;43m.\u001b[39;49m\u001b[43mis_ddl_on_temp_object\u001b[49m\u001b[43m,\u001b[49m\n\u001b[1;32m    751\u001b[0m \u001b[43m    \u001b[49m\u001b[43mblock\u001b[49m\u001b[38;5;241;43m=\u001b[39;49m\u001b[38;5;129;43;01mnot\u001b[39;49;00m\u001b[43m \u001b[49m\u001b[43mis_last\u001b[49m\u001b[43m,\u001b[49m\n\u001b[1;32m    752\u001b[0m \u001b[43m    \u001b[49m\u001b[43mdata_type\u001b[49m\u001b[38;5;241;43m=\u001b[39;49m\u001b[43mdata_type\u001b[49m\u001b[43m,\u001b[49m\n\u001b[1;32m    753\u001b[0m \u001b[43m    \u001b[49m\u001b[43masync_job_plan\u001b[49m\u001b[38;5;241;43m=\u001b[39;49m\u001b[43mplan\u001b[49m\u001b[43m,\u001b[49m\n\u001b[1;32m    754\u001b[0m \u001b[43m    \u001b[49m\u001b[43mlog_on_exception\u001b[49m\u001b[38;5;241;43m=\u001b[39;49m\u001b[43mlog_on_exception\u001b[49m\u001b[43m,\u001b[49m\n\u001b[1;32m    755\u001b[0m \u001b[43m    \u001b[49m\u001b[43mcase_sensitive\u001b[49m\u001b[38;5;241;43m=\u001b[39;49m\u001b[43mcase_sensitive\u001b[49m\u001b[43m,\u001b[49m\n\u001b[1;32m    756\u001b[0m \u001b[43m    \u001b[49m\u001b[43mparams\u001b[49m\u001b[38;5;241;43m=\u001b[39;49m\u001b[43mquery\u001b[49m\u001b[38;5;241;43m.\u001b[39;49m\u001b[43mparams\u001b[49m\u001b[43m,\u001b[49m\n\u001b[1;32m    757\u001b[0m \u001b[43m    \u001b[49m\u001b[43mignore_results\u001b[49m\u001b[38;5;241;43m=\u001b[39;49m\u001b[43mignore_results\u001b[49m\u001b[43m,\u001b[49m\n\u001b[1;32m    758\u001b[0m \u001b[43m    \u001b[49m\u001b[43masync_post_actions\u001b[49m\u001b[38;5;241;43m=\u001b[39;49m\u001b[43mpost_actions\u001b[49m\u001b[43m,\u001b[49m\n\u001b[1;32m    759\u001b[0m \u001b[43m    \u001b[49m\u001b[43mto_arrow\u001b[49m\u001b[38;5;241;43m=\u001b[39;49m\u001b[43mto_arrow\u001b[49m\u001b[43m \u001b[49m\u001b[38;5;129;43;01mand\u001b[39;49;00m\u001b[43m \u001b[49m\u001b[43mis_final_query\u001b[49m\u001b[43m,\u001b[49m\n\u001b[1;32m    760\u001b[0m \u001b[43m    \u001b[49m\u001b[38;5;241;43m*\u001b[39;49m\u001b[38;5;241;43m*\u001b[39;49m\u001b[43mkwargs\u001b[49m\u001b[43m,\u001b[49m\n\u001b[1;32m    761\u001b[0m \u001b[43m\u001b[49m\u001b[43m)\u001b[49m\n\u001b[1;32m    762\u001b[0m placeholders[query\u001b[38;5;241m.\u001b[39mquery_id_place_holder] \u001b[38;5;241m=\u001b[39m (\n\u001b[1;32m    763\u001b[0m     result[\u001b[38;5;124m\"\u001b[39m\u001b[38;5;124msfqid\u001b[39m\u001b[38;5;124m\"\u001b[39m] \u001b[38;5;28;01mif\u001b[39;00m \u001b[38;5;129;01mnot\u001b[39;00m is_last \u001b[38;5;28;01melse\u001b[39;00m result\u001b[38;5;241m.\u001b[39mquery_id\n\u001b[1;32m    764\u001b[0m )\n\u001b[1;32m    765\u001b[0m result_meta \u001b[38;5;241m=\u001b[39m get_new_description(\u001b[38;5;28mself\u001b[39m\u001b[38;5;241m.\u001b[39m_cursor)\n",
      "File \u001b[0;32m~/dev/snowpark-python/src/snowflake/snowpark/_internal/server_connection.py:127\u001b[0m, in \u001b[0;36mServerConnection._Decorator.wrap_exception.<locals>.wrap\u001b[0;34m(*args, **kwargs)\u001b[0m\n\u001b[1;32m    125\u001b[0m     \u001b[38;5;28;01mraise\u001b[39;00m SnowparkClientExceptionMessages\u001b[38;5;241m.\u001b[39mSERVER_SESSION_HAS_BEEN_CLOSED()\n\u001b[1;32m    126\u001b[0m \u001b[38;5;28;01mtry\u001b[39;00m:\n\u001b[0;32m--> 127\u001b[0m     \u001b[38;5;28;01mreturn\u001b[39;00m \u001b[43mfunc\u001b[49m\u001b[43m(\u001b[49m\u001b[38;5;241;43m*\u001b[39;49m\u001b[43margs\u001b[49m\u001b[43m,\u001b[49m\u001b[43m \u001b[49m\u001b[38;5;241;43m*\u001b[39;49m\u001b[38;5;241;43m*\u001b[39;49m\u001b[43mkwargs\u001b[49m\u001b[43m)\u001b[49m\n\u001b[1;32m    128\u001b[0m \u001b[38;5;28;01mexcept\u001b[39;00m ReauthenticationRequest \u001b[38;5;28;01mas\u001b[39;00m ex:\n\u001b[1;32m    129\u001b[0m     \u001b[38;5;28;01mraise\u001b[39;00m SnowparkClientExceptionMessages\u001b[38;5;241m.\u001b[39mSERVER_SESSION_EXPIRED(\n\u001b[1;32m    130\u001b[0m         ex\u001b[38;5;241m.\u001b[39mcause\n\u001b[1;32m    131\u001b[0m     )\n",
      "File \u001b[0;32m~/dev/snowpark-python/src/snowflake/snowpark/_internal/server_connection.py:505\u001b[0m, in \u001b[0;36mServerConnection.run_query\u001b[0;34m(self, query, to_pandas, to_iter, is_ddl_on_temp_object, block, data_type, async_job_plan, log_on_exception, case_sensitive, params, num_statements, ignore_results, async_post_actions, to_arrow, **kwargs)\u001b[0m\n\u001b[1;32m    503\u001b[0m     kwargs[\u001b[38;5;124m\"\u001b[39m\u001b[38;5;124m_statement_params\u001b[39m\u001b[38;5;124m\"\u001b[39m][\u001b[38;5;124m\"\u001b[39m\u001b[38;5;124mSNOWPARK_SKIP_TXN_COMMIT_IN_DDL\u001b[39m\u001b[38;5;124m\"\u001b[39m] \u001b[38;5;241m=\u001b[39m \u001b[38;5;28;01mTrue\u001b[39;00m\n\u001b[1;32m    504\u001b[0m \u001b[38;5;28;01mif\u001b[39;00m block:\n\u001b[0;32m--> 505\u001b[0m     results_cursor \u001b[38;5;241m=\u001b[39m \u001b[38;5;28;43mself\u001b[39;49m\u001b[38;5;241;43m.\u001b[39;49m\u001b[43mexecute_and_notify_query_listener\u001b[49m\u001b[43m(\u001b[49m\n\u001b[1;32m    506\u001b[0m \u001b[43m        \u001b[49m\u001b[43mquery\u001b[49m\u001b[43m,\u001b[49m\u001b[43m \u001b[49m\u001b[43mparams\u001b[49m\u001b[38;5;241;43m=\u001b[39;49m\u001b[43mparams\u001b[49m\u001b[43m,\u001b[49m\u001b[43m \u001b[49m\u001b[38;5;241;43m*\u001b[39;49m\u001b[38;5;241;43m*\u001b[39;49m\u001b[43mkwargs\u001b[49m\n\u001b[1;32m    507\u001b[0m \u001b[43m    \u001b[49m\u001b[43m)\u001b[49m\n\u001b[1;32m    508\u001b[0m     logger\u001b[38;5;241m.\u001b[39mdebug(\u001b[38;5;124mf\u001b[39m\u001b[38;5;124m\"\u001b[39m\u001b[38;5;124mExecute query [queryID: \u001b[39m\u001b[38;5;132;01m{\u001b[39;00mresults_cursor\u001b[38;5;241m.\u001b[39msfqid\u001b[38;5;132;01m}\u001b[39;00m\u001b[38;5;124m] \u001b[39m\u001b[38;5;132;01m{\u001b[39;00mquery\u001b[38;5;132;01m}\u001b[39;00m\u001b[38;5;124m\"\u001b[39m)\n\u001b[1;32m    509\u001b[0m \u001b[38;5;28;01melse\u001b[39;00m:\n",
      "File \u001b[0;32m~/dev/snowpark-python/src/snowflake/snowpark/_internal/server_connection.py:437\u001b[0m, in \u001b[0;36mServerConnection.execute_and_notify_query_listener\u001b[0;34m(self, query, **kwargs)\u001b[0m\n\u001b[1;32m    434\u001b[0m     notify_kwargs[\u001b[38;5;124m\"\u001b[39m\u001b[38;5;124mdataframeAst\u001b[39m\u001b[38;5;124m\"\u001b[39m] \u001b[38;5;241m=\u001b[39m kwargs[DATAFRAME_AST_PARAMETER]\n\u001b[1;32m    436\u001b[0m \u001b[38;5;28;01mtry\u001b[39;00m:\n\u001b[0;32m--> 437\u001b[0m     results_cursor \u001b[38;5;241m=\u001b[39m \u001b[38;5;28;43mself\u001b[39;49m\u001b[38;5;241;43m.\u001b[39;49m\u001b[43m_cursor\u001b[49m\u001b[38;5;241;43m.\u001b[39;49m\u001b[43mexecute\u001b[49m\u001b[43m(\u001b[49m\u001b[43mquery\u001b[49m\u001b[43m,\u001b[49m\u001b[43m \u001b[49m\u001b[38;5;241;43m*\u001b[39;49m\u001b[38;5;241;43m*\u001b[39;49m\u001b[43mkwargs\u001b[49m\u001b[43m)\u001b[49m\n\u001b[1;32m    438\u001b[0m \u001b[38;5;28;01mexcept\u001b[39;00m \u001b[38;5;167;01mException\u001b[39;00m \u001b[38;5;28;01mas\u001b[39;00m ex:\n\u001b[1;32m    439\u001b[0m     notify_kwargs[\u001b[38;5;124m\"\u001b[39m\u001b[38;5;124mrequestId\u001b[39m\u001b[38;5;124m\"\u001b[39m] \u001b[38;5;241m=\u001b[39m \u001b[38;5;28;01mNone\u001b[39;00m\n",
      "File \u001b[0;32m~/anaconda3/envs/snowpandas-dev-test/lib/python3.9/site-packages/snowflake/connector/cursor.py:994\u001b[0m, in \u001b[0;36mSnowflakeCursor.execute\u001b[0;34m(self, command, params, _bind_stage, timeout, _exec_async, _no_retry, _do_reset, _put_callback, _put_azure_callback, _put_callback_output_stream, _get_callback, _get_azure_callback, _get_callback_output_stream, _show_progress_bar, _statement_params, _is_internal, _describe_only, _no_results, _is_put_get, _raise_put_get_error, _force_put_overwrite, _skip_upload_on_content_match, file_stream, num_statements, _force_qmark_paramstyle, _dataframe_ast)\u001b[0m\n\u001b[1;32m    987\u001b[0m     logger\u001b[38;5;241m.\u001b[39mdebug(\n\u001b[1;32m    988\u001b[0m         \u001b[38;5;124m\"\u001b[39m\u001b[38;5;124mquery was rewritten: org=\u001b[39m\u001b[38;5;132;01m%s\u001b[39;00m\u001b[38;5;124m, new=\u001b[39m\u001b[38;5;132;01m%s\u001b[39;00m\u001b[38;5;124m\"\u001b[39m,\n\u001b[1;32m    989\u001b[0m         \u001b[38;5;124m\"\u001b[39m\u001b[38;5;124m \u001b[39m\u001b[38;5;124m\"\u001b[39m\u001b[38;5;241m.\u001b[39mjoin(line\u001b[38;5;241m.\u001b[39mstrip() \u001b[38;5;28;01mfor\u001b[39;00m line \u001b[38;5;129;01min\u001b[39;00m query\u001b[38;5;241m.\u001b[39msplit(\u001b[38;5;124m\"\u001b[39m\u001b[38;5;130;01m\\n\u001b[39;00m\u001b[38;5;124m\"\u001b[39m)),\n\u001b[1;32m    990\u001b[0m         query1,\n\u001b[1;32m    991\u001b[0m     )\n\u001b[1;32m    992\u001b[0m     query \u001b[38;5;241m=\u001b[39m query1\n\u001b[0;32m--> 994\u001b[0m ret \u001b[38;5;241m=\u001b[39m \u001b[38;5;28;43mself\u001b[39;49m\u001b[38;5;241;43m.\u001b[39;49m\u001b[43m_execute_helper\u001b[49m\u001b[43m(\u001b[49m\u001b[43mquery\u001b[49m\u001b[43m,\u001b[49m\u001b[43m \u001b[49m\u001b[38;5;241;43m*\u001b[39;49m\u001b[38;5;241;43m*\u001b[39;49m\u001b[43mkwargs\u001b[49m\u001b[43m)\u001b[49m\n\u001b[1;32m    995\u001b[0m \u001b[38;5;28mself\u001b[39m\u001b[38;5;241m.\u001b[39m_sfqid \u001b[38;5;241m=\u001b[39m (\n\u001b[1;32m    996\u001b[0m     ret[\u001b[38;5;124m\"\u001b[39m\u001b[38;5;124mdata\u001b[39m\u001b[38;5;124m\"\u001b[39m][\u001b[38;5;124m\"\u001b[39m\u001b[38;5;124mqueryId\u001b[39m\u001b[38;5;124m\"\u001b[39m]\n\u001b[1;32m    997\u001b[0m     \u001b[38;5;28;01mif\u001b[39;00m \u001b[38;5;124m\"\u001b[39m\u001b[38;5;124mdata\u001b[39m\u001b[38;5;124m\"\u001b[39m \u001b[38;5;129;01min\u001b[39;00m ret \u001b[38;5;129;01mand\u001b[39;00m \u001b[38;5;124m\"\u001b[39m\u001b[38;5;124mqueryId\u001b[39m\u001b[38;5;124m\"\u001b[39m \u001b[38;5;129;01min\u001b[39;00m ret[\u001b[38;5;124m\"\u001b[39m\u001b[38;5;124mdata\u001b[39m\u001b[38;5;124m\"\u001b[39m]\n\u001b[1;32m    998\u001b[0m     \u001b[38;5;28;01melse\u001b[39;00m \u001b[38;5;28;01mNone\u001b[39;00m\n\u001b[1;32m    999\u001b[0m )\n\u001b[1;32m   1000\u001b[0m logger\u001b[38;5;241m.\u001b[39mdebug(\u001b[38;5;124mf\u001b[39m\u001b[38;5;124m\"\u001b[39m\u001b[38;5;124msfqid: \u001b[39m\u001b[38;5;132;01m{\u001b[39;00m\u001b[38;5;28mself\u001b[39m\u001b[38;5;241m.\u001b[39msfqid\u001b[38;5;132;01m}\u001b[39;00m\u001b[38;5;124m\"\u001b[39m)\n",
      "File \u001b[0;32m~/anaconda3/envs/snowpandas-dev-test/lib/python3.9/site-packages/snowflake/connector/cursor.py:700\u001b[0m, in \u001b[0;36mSnowflakeCursor._execute_helper\u001b[0;34m(self, query, timeout, statement_params, binding_params, binding_stage, is_internal, describe_only, _no_results, _is_put_get, _no_retry, dataframe_ast)\u001b[0m\n\u001b[1;32m    698\u001b[0m ret: \u001b[38;5;28mdict\u001b[39m[\u001b[38;5;28mstr\u001b[39m, Any] \u001b[38;5;241m=\u001b[39m {\u001b[38;5;124m\"\u001b[39m\u001b[38;5;124mdata\u001b[39m\u001b[38;5;124m\"\u001b[39m: {}}\n\u001b[1;32m    699\u001b[0m \u001b[38;5;28;01mtry\u001b[39;00m:\n\u001b[0;32m--> 700\u001b[0m     ret \u001b[38;5;241m=\u001b[39m \u001b[38;5;28;43mself\u001b[39;49m\u001b[38;5;241;43m.\u001b[39;49m\u001b[43m_connection\u001b[49m\u001b[38;5;241;43m.\u001b[39;49m\u001b[43mcmd_query\u001b[49m\u001b[43m(\u001b[49m\n\u001b[1;32m    701\u001b[0m \u001b[43m        \u001b[49m\u001b[43mquery\u001b[49m\u001b[43m,\u001b[49m\n\u001b[1;32m    702\u001b[0m \u001b[43m        \u001b[49m\u001b[38;5;28;43mself\u001b[39;49m\u001b[38;5;241;43m.\u001b[39;49m\u001b[43m_sequence_counter\u001b[49m\u001b[43m,\u001b[49m\n\u001b[1;32m    703\u001b[0m \u001b[43m        \u001b[49m\u001b[38;5;28;43mself\u001b[39;49m\u001b[38;5;241;43m.\u001b[39;49m\u001b[43m_request_id\u001b[49m\u001b[43m,\u001b[49m\n\u001b[1;32m    704\u001b[0m \u001b[43m        \u001b[49m\u001b[43mbinding_params\u001b[49m\u001b[38;5;241;43m=\u001b[39;49m\u001b[43mbinding_params\u001b[49m\u001b[43m,\u001b[49m\n\u001b[1;32m    705\u001b[0m \u001b[43m        \u001b[49m\u001b[43mbinding_stage\u001b[49m\u001b[38;5;241;43m=\u001b[39;49m\u001b[43mbinding_stage\u001b[49m\u001b[43m,\u001b[49m\n\u001b[1;32m    706\u001b[0m \u001b[43m        \u001b[49m\u001b[43mis_file_transfer\u001b[49m\u001b[38;5;241;43m=\u001b[39;49m\u001b[38;5;28;43mbool\u001b[39;49m\u001b[43m(\u001b[49m\u001b[38;5;28;43mself\u001b[39;49m\u001b[38;5;241;43m.\u001b[39;49m\u001b[43m_is_file_transfer\u001b[49m\u001b[43m)\u001b[49m\u001b[43m,\u001b[49m\n\u001b[1;32m    707\u001b[0m \u001b[43m        \u001b[49m\u001b[43mstatement_params\u001b[49m\u001b[38;5;241;43m=\u001b[39;49m\u001b[43mstatement_params\u001b[49m\u001b[43m,\u001b[49m\n\u001b[1;32m    708\u001b[0m \u001b[43m        \u001b[49m\u001b[43mis_internal\u001b[49m\u001b[38;5;241;43m=\u001b[39;49m\u001b[43mis_internal\u001b[49m\u001b[43m,\u001b[49m\n\u001b[1;32m    709\u001b[0m \u001b[43m        \u001b[49m\u001b[43mdescribe_only\u001b[49m\u001b[38;5;241;43m=\u001b[39;49m\u001b[43mdescribe_only\u001b[49m\u001b[43m,\u001b[49m\n\u001b[1;32m    710\u001b[0m \u001b[43m        \u001b[49m\u001b[43m_no_results\u001b[49m\u001b[38;5;241;43m=\u001b[39;49m\u001b[43m_no_results\u001b[49m\u001b[43m,\u001b[49m\n\u001b[1;32m    711\u001b[0m \u001b[43m        \u001b[49m\u001b[43m_no_retry\u001b[49m\u001b[38;5;241;43m=\u001b[39;49m\u001b[43m_no_retry\u001b[49m\u001b[43m,\u001b[49m\n\u001b[1;32m    712\u001b[0m \u001b[43m        \u001b[49m\u001b[43mtimeout\u001b[49m\u001b[38;5;241;43m=\u001b[39;49m\u001b[43mreal_timeout\u001b[49m\u001b[43m,\u001b[49m\n\u001b[1;32m    713\u001b[0m \u001b[43m        \u001b[49m\u001b[43mdataframe_ast\u001b[49m\u001b[38;5;241;43m=\u001b[39;49m\u001b[43mdataframe_ast\u001b[49m\u001b[43m,\u001b[49m\n\u001b[1;32m    714\u001b[0m \u001b[43m    \u001b[49m\u001b[43m)\u001b[49m\n\u001b[1;32m    715\u001b[0m \u001b[38;5;28;01mfinally\u001b[39;00m:\n\u001b[1;32m    716\u001b[0m     \u001b[38;5;28;01mtry\u001b[39;00m:\n",
      "File \u001b[0;32m~/anaconda3/envs/snowpandas-dev-test/lib/python3.9/site-packages/snowflake/connector/connection.py:1388\u001b[0m, in \u001b[0;36mSnowflakeConnection.cmd_query\u001b[0;34m(self, sql, sequence_counter, request_id, binding_params, binding_stage, is_file_transfer, statement_params, is_internal, describe_only, _no_results, _update_current_object, _no_retry, timeout, dataframe_ast)\u001b[0m\n\u001b[1;32m   1379\u001b[0m     logger\u001b[38;5;241m.\u001b[39mdebug(\n\u001b[1;32m   1380\u001b[0m         \u001b[38;5;124m\"\u001b[39m\u001b[38;5;124msql=[\u001b[39m\u001b[38;5;132;01m%s\u001b[39;00m\u001b[38;5;124m], sequence_id=[\u001b[39m\u001b[38;5;132;01m%s\u001b[39;00m\u001b[38;5;124m], is_file_transfer=[\u001b[39m\u001b[38;5;132;01m%s\u001b[39;00m\u001b[38;5;124m]\u001b[39m\u001b[38;5;124m\"\u001b[39m,\n\u001b[1;32m   1381\u001b[0m         \u001b[38;5;28mself\u001b[39m\u001b[38;5;241m.\u001b[39m_format_query_for_log(data[\u001b[38;5;124m\"\u001b[39m\u001b[38;5;124msqlText\u001b[39m\u001b[38;5;124m\"\u001b[39m]),\n\u001b[1;32m   1382\u001b[0m         data[\u001b[38;5;124m\"\u001b[39m\u001b[38;5;124msequenceId\u001b[39m\u001b[38;5;124m\"\u001b[39m],\n\u001b[1;32m   1383\u001b[0m         is_file_transfer,\n\u001b[1;32m   1384\u001b[0m     )\n\u001b[1;32m   1386\u001b[0m url_parameters \u001b[38;5;241m=\u001b[39m {REQUEST_ID: request_id}\n\u001b[0;32m-> 1388\u001b[0m ret \u001b[38;5;241m=\u001b[39m \u001b[38;5;28;43mself\u001b[39;49m\u001b[38;5;241;43m.\u001b[39;49m\u001b[43mrest\u001b[49m\u001b[38;5;241;43m.\u001b[39;49m\u001b[43mrequest\u001b[49m\u001b[43m(\u001b[49m\n\u001b[1;32m   1389\u001b[0m \u001b[43m    \u001b[49m\u001b[38;5;124;43m\"\u001b[39;49m\u001b[38;5;124;43m/queries/v1/query-request?\u001b[39;49m\u001b[38;5;124;43m\"\u001b[39;49m\u001b[43m \u001b[49m\u001b[38;5;241;43m+\u001b[39;49m\u001b[43m \u001b[49m\u001b[43murlencode\u001b[49m\u001b[43m(\u001b[49m\u001b[43murl_parameters\u001b[49m\u001b[43m)\u001b[49m\u001b[43m,\u001b[49m\n\u001b[1;32m   1390\u001b[0m \u001b[43m    \u001b[49m\u001b[43mdata\u001b[49m\u001b[43m,\u001b[49m\n\u001b[1;32m   1391\u001b[0m \u001b[43m    \u001b[49m\u001b[43mclient\u001b[49m\u001b[38;5;241;43m=\u001b[39;49m\u001b[43mclient\u001b[49m\u001b[43m,\u001b[49m\n\u001b[1;32m   1392\u001b[0m \u001b[43m    \u001b[49m\u001b[43m_no_results\u001b[49m\u001b[38;5;241;43m=\u001b[39;49m\u001b[43m_no_results\u001b[49m\u001b[43m,\u001b[49m\n\u001b[1;32m   1393\u001b[0m \u001b[43m    \u001b[49m\u001b[43m_include_retry_params\u001b[49m\u001b[38;5;241;43m=\u001b[39;49m\u001b[38;5;28;43;01mTrue\u001b[39;49;00m\u001b[43m,\u001b[49m\n\u001b[1;32m   1394\u001b[0m \u001b[43m    \u001b[49m\u001b[43m_no_retry\u001b[49m\u001b[38;5;241;43m=\u001b[39;49m\u001b[43m_no_retry\u001b[49m\u001b[43m,\u001b[49m\n\u001b[1;32m   1395\u001b[0m \u001b[43m    \u001b[49m\u001b[43mtimeout\u001b[49m\u001b[38;5;241;43m=\u001b[39;49m\u001b[43mtimeout\u001b[49m\u001b[43m,\u001b[49m\n\u001b[1;32m   1396\u001b[0m \u001b[43m\u001b[49m\u001b[43m)\u001b[49m\n\u001b[1;32m   1398\u001b[0m \u001b[38;5;28;01mif\u001b[39;00m ret \u001b[38;5;129;01mis\u001b[39;00m \u001b[38;5;28;01mNone\u001b[39;00m:\n\u001b[1;32m   1399\u001b[0m     ret \u001b[38;5;241m=\u001b[39m {\u001b[38;5;124m\"\u001b[39m\u001b[38;5;124mdata\u001b[39m\u001b[38;5;124m\"\u001b[39m: {}}\n",
      "File \u001b[0;32m~/anaconda3/envs/snowpandas-dev-test/lib/python3.9/site-packages/snowflake/connector/network.py:502\u001b[0m, in \u001b[0;36mSnowflakeRestful.request\u001b[0;34m(self, url, body, method, client, timeout, _no_results, _include_retry_params, _no_retry)\u001b[0m\n\u001b[1;32m    500\u001b[0m     headers[HTTP_HEADER_SERVICE_NAME] \u001b[38;5;241m=\u001b[39m \u001b[38;5;28mself\u001b[39m\u001b[38;5;241m.\u001b[39m_connection\u001b[38;5;241m.\u001b[39mservice_name\n\u001b[1;32m    501\u001b[0m \u001b[38;5;28;01mif\u001b[39;00m method \u001b[38;5;241m==\u001b[39m \u001b[38;5;124m\"\u001b[39m\u001b[38;5;124mpost\u001b[39m\u001b[38;5;124m\"\u001b[39m:\n\u001b[0;32m--> 502\u001b[0m     \u001b[38;5;28;01mreturn\u001b[39;00m \u001b[38;5;28;43mself\u001b[39;49m\u001b[38;5;241;43m.\u001b[39;49m\u001b[43m_post_request\u001b[49m\u001b[43m(\u001b[49m\n\u001b[1;32m    503\u001b[0m \u001b[43m        \u001b[49m\u001b[43murl\u001b[49m\u001b[43m,\u001b[49m\n\u001b[1;32m    504\u001b[0m \u001b[43m        \u001b[49m\u001b[43mheaders\u001b[49m\u001b[43m,\u001b[49m\n\u001b[1;32m    505\u001b[0m \u001b[43m        \u001b[49m\u001b[43mjson\u001b[49m\u001b[38;5;241;43m.\u001b[39;49m\u001b[43mdumps\u001b[49m\u001b[43m(\u001b[49m\u001b[43mbody\u001b[49m\u001b[43m)\u001b[49m\u001b[43m,\u001b[49m\n\u001b[1;32m    506\u001b[0m \u001b[43m        \u001b[49m\u001b[43mtoken\u001b[49m\u001b[38;5;241;43m=\u001b[39;49m\u001b[38;5;28;43mself\u001b[39;49m\u001b[38;5;241;43m.\u001b[39;49m\u001b[43mtoken\u001b[49m\u001b[43m,\u001b[49m\n\u001b[1;32m    507\u001b[0m \u001b[43m        \u001b[49m\u001b[43m_no_results\u001b[49m\u001b[38;5;241;43m=\u001b[39;49m\u001b[43m_no_results\u001b[49m\u001b[43m,\u001b[49m\n\u001b[1;32m    508\u001b[0m \u001b[43m        \u001b[49m\u001b[43mtimeout\u001b[49m\u001b[38;5;241;43m=\u001b[39;49m\u001b[43mtimeout\u001b[49m\u001b[43m,\u001b[49m\n\u001b[1;32m    509\u001b[0m \u001b[43m        \u001b[49m\u001b[43m_include_retry_params\u001b[49m\u001b[38;5;241;43m=\u001b[39;49m\u001b[43m_include_retry_params\u001b[49m\u001b[43m,\u001b[49m\n\u001b[1;32m    510\u001b[0m \u001b[43m        \u001b[49m\u001b[43mno_retry\u001b[49m\u001b[38;5;241;43m=\u001b[39;49m\u001b[43m_no_retry\u001b[49m\u001b[43m,\u001b[49m\n\u001b[1;32m    511\u001b[0m \u001b[43m    \u001b[49m\u001b[43m)\u001b[49m\n\u001b[1;32m    512\u001b[0m \u001b[38;5;28;01melse\u001b[39;00m:\n\u001b[1;32m    513\u001b[0m     \u001b[38;5;28;01mreturn\u001b[39;00m \u001b[38;5;28mself\u001b[39m\u001b[38;5;241m.\u001b[39m_get_request(\n\u001b[1;32m    514\u001b[0m         url,\n\u001b[1;32m    515\u001b[0m         headers,\n\u001b[1;32m    516\u001b[0m         token\u001b[38;5;241m=\u001b[39m\u001b[38;5;28mself\u001b[39m\u001b[38;5;241m.\u001b[39mtoken,\n\u001b[1;32m    517\u001b[0m         timeout\u001b[38;5;241m=\u001b[39mtimeout,\n\u001b[1;32m    518\u001b[0m     )\n",
      "File \u001b[0;32m~/anaconda3/envs/snowpandas-dev-test/lib/python3.9/site-packages/snowflake/connector/network.py:750\u001b[0m, in \u001b[0;36mSnowflakeRestful._post_request\u001b[0;34m(self, url, headers, body, token, timeout, socket_timeout, _no_results, no_retry, _include_retry_params)\u001b[0m\n\u001b[1;32m    747\u001b[0m     ret \u001b[38;5;241m=\u001b[39m probe_connection(full_url)\n\u001b[1;32m    748\u001b[0m     pprint(ret)\n\u001b[0;32m--> 750\u001b[0m ret \u001b[38;5;241m=\u001b[39m \u001b[38;5;28;43mself\u001b[39;49m\u001b[38;5;241;43m.\u001b[39;49m\u001b[43mfetch\u001b[49m\u001b[43m(\u001b[49m\n\u001b[1;32m    751\u001b[0m \u001b[43m    \u001b[49m\u001b[38;5;124;43m\"\u001b[39;49m\u001b[38;5;124;43mpost\u001b[39;49m\u001b[38;5;124;43m\"\u001b[39;49m\u001b[43m,\u001b[49m\n\u001b[1;32m    752\u001b[0m \u001b[43m    \u001b[49m\u001b[43mfull_url\u001b[49m\u001b[43m,\u001b[49m\n\u001b[1;32m    753\u001b[0m \u001b[43m    \u001b[49m\u001b[43mheaders\u001b[49m\u001b[43m,\u001b[49m\n\u001b[1;32m    754\u001b[0m \u001b[43m    \u001b[49m\u001b[43mdata\u001b[49m\u001b[38;5;241;43m=\u001b[39;49m\u001b[43mbody\u001b[49m\u001b[43m,\u001b[49m\n\u001b[1;32m    755\u001b[0m \u001b[43m    \u001b[49m\u001b[43mtimeout\u001b[49m\u001b[38;5;241;43m=\u001b[39;49m\u001b[43mtimeout\u001b[49m\u001b[43m,\u001b[49m\n\u001b[1;32m    756\u001b[0m \u001b[43m    \u001b[49m\u001b[43mtoken\u001b[49m\u001b[38;5;241;43m=\u001b[39;49m\u001b[43mtoken\u001b[49m\u001b[43m,\u001b[49m\n\u001b[1;32m    757\u001b[0m \u001b[43m    \u001b[49m\u001b[43mno_retry\u001b[49m\u001b[38;5;241;43m=\u001b[39;49m\u001b[43mno_retry\u001b[49m\u001b[43m,\u001b[49m\n\u001b[1;32m    758\u001b[0m \u001b[43m    \u001b[49m\u001b[43m_include_retry_params\u001b[49m\u001b[38;5;241;43m=\u001b[39;49m\u001b[43m_include_retry_params\u001b[49m\u001b[43m,\u001b[49m\n\u001b[1;32m    759\u001b[0m \u001b[43m    \u001b[49m\u001b[43msocket_timeout\u001b[49m\u001b[38;5;241;43m=\u001b[39;49m\u001b[43msocket_timeout\u001b[49m\u001b[43m,\u001b[49m\n\u001b[1;32m    760\u001b[0m \u001b[43m\u001b[49m\u001b[43m)\u001b[49m\n\u001b[1;32m    761\u001b[0m logger\u001b[38;5;241m.\u001b[39mdebug(\n\u001b[1;32m    762\u001b[0m     \u001b[38;5;124m\"\u001b[39m\u001b[38;5;124mret[code] = \u001b[39m\u001b[38;5;132;01m{code}\u001b[39;00m\u001b[38;5;124m, after post request\u001b[39m\u001b[38;5;124m\"\u001b[39m\u001b[38;5;241m.\u001b[39mformat(\n\u001b[1;32m    763\u001b[0m         code\u001b[38;5;241m=\u001b[39m(ret\u001b[38;5;241m.\u001b[39mget(\u001b[38;5;124m\"\u001b[39m\u001b[38;5;124mcode\u001b[39m\u001b[38;5;124m\"\u001b[39m, \u001b[38;5;124m\"\u001b[39m\u001b[38;5;124mN/A\u001b[39m\u001b[38;5;124m\"\u001b[39m))\n\u001b[1;32m    764\u001b[0m     )\n\u001b[1;32m    765\u001b[0m )\n\u001b[1;32m    767\u001b[0m \u001b[38;5;28;01mif\u001b[39;00m ret\u001b[38;5;241m.\u001b[39mget(\u001b[38;5;124m\"\u001b[39m\u001b[38;5;124mcode\u001b[39m\u001b[38;5;124m\"\u001b[39m) \u001b[38;5;241m==\u001b[39m MASTER_TOKEN_EXPIRED_GS_CODE:\n",
      "File \u001b[0;32m~/anaconda3/envs/snowpandas-dev-test/lib/python3.9/site-packages/snowflake/connector/network.py:865\u001b[0m, in \u001b[0;36mSnowflakeRestful.fetch\u001b[0;34m(self, method, full_url, headers, data, timeout, **kwargs)\u001b[0m\n\u001b[1;32m    863\u001b[0m retry_ctx\u001b[38;5;241m.\u001b[39mset_start_time()\n\u001b[1;32m    864\u001b[0m \u001b[38;5;28;01mwhile\u001b[39;00m \u001b[38;5;28;01mTrue\u001b[39;00m:\n\u001b[0;32m--> 865\u001b[0m     ret \u001b[38;5;241m=\u001b[39m \u001b[38;5;28;43mself\u001b[39;49m\u001b[38;5;241;43m.\u001b[39;49m\u001b[43m_request_exec_wrapper\u001b[49m\u001b[43m(\u001b[49m\n\u001b[1;32m    866\u001b[0m \u001b[43m        \u001b[49m\u001b[43msession\u001b[49m\u001b[43m,\u001b[49m\u001b[43m \u001b[49m\u001b[43mmethod\u001b[49m\u001b[43m,\u001b[49m\u001b[43m \u001b[49m\u001b[43mfull_url\u001b[49m\u001b[43m,\u001b[49m\u001b[43m \u001b[49m\u001b[43mheaders\u001b[49m\u001b[43m,\u001b[49m\u001b[43m \u001b[49m\u001b[43mdata\u001b[49m\u001b[43m,\u001b[49m\u001b[43m \u001b[49m\u001b[43mretry_ctx\u001b[49m\u001b[43m,\u001b[49m\u001b[43m \u001b[49m\u001b[38;5;241;43m*\u001b[39;49m\u001b[38;5;241;43m*\u001b[39;49m\u001b[43mkwargs\u001b[49m\n\u001b[1;32m    867\u001b[0m \u001b[43m    \u001b[49m\u001b[43m)\u001b[49m\n\u001b[1;32m    868\u001b[0m     \u001b[38;5;28;01mif\u001b[39;00m ret \u001b[38;5;129;01mis\u001b[39;00m \u001b[38;5;129;01mnot\u001b[39;00m \u001b[38;5;28;01mNone\u001b[39;00m:\n\u001b[1;32m    869\u001b[0m         \u001b[38;5;28;01mreturn\u001b[39;00m ret\n",
      "File \u001b[0;32m~/anaconda3/envs/snowpandas-dev-test/lib/python3.9/site-packages/snowflake/connector/network.py:915\u001b[0m, in \u001b[0;36mSnowflakeRestful._request_exec_wrapper\u001b[0;34m(self, session, method, full_url, headers, data, retry_ctx, no_retry, token, **kwargs)\u001b[0m\n\u001b[1;32m    913\u001b[0m raise_raw_http_failure \u001b[38;5;241m=\u001b[39m kwargs\u001b[38;5;241m.\u001b[39mpop(\u001b[38;5;124m\"\u001b[39m\u001b[38;5;124mraise_raw_http_failure\u001b[39m\u001b[38;5;124m\"\u001b[39m, \u001b[38;5;28;01mFalse\u001b[39;00m)\n\u001b[1;32m    914\u001b[0m \u001b[38;5;28;01mtry\u001b[39;00m:\n\u001b[0;32m--> 915\u001b[0m     return_object \u001b[38;5;241m=\u001b[39m \u001b[38;5;28;43mself\u001b[39;49m\u001b[38;5;241;43m.\u001b[39;49m\u001b[43m_request_exec\u001b[49m\u001b[43m(\u001b[49m\n\u001b[1;32m    916\u001b[0m \u001b[43m        \u001b[49m\u001b[43msession\u001b[49m\u001b[38;5;241;43m=\u001b[39;49m\u001b[43msession\u001b[49m\u001b[43m,\u001b[49m\n\u001b[1;32m    917\u001b[0m \u001b[43m        \u001b[49m\u001b[43mmethod\u001b[49m\u001b[38;5;241;43m=\u001b[39;49m\u001b[43mmethod\u001b[49m\u001b[43m,\u001b[49m\n\u001b[1;32m    918\u001b[0m \u001b[43m        \u001b[49m\u001b[43mfull_url\u001b[49m\u001b[38;5;241;43m=\u001b[39;49m\u001b[43mfull_url\u001b[49m\u001b[43m,\u001b[49m\n\u001b[1;32m    919\u001b[0m \u001b[43m        \u001b[49m\u001b[43mheaders\u001b[49m\u001b[38;5;241;43m=\u001b[39;49m\u001b[43mheaders\u001b[49m\u001b[43m,\u001b[49m\n\u001b[1;32m    920\u001b[0m \u001b[43m        \u001b[49m\u001b[43mdata\u001b[49m\u001b[38;5;241;43m=\u001b[39;49m\u001b[43mdata\u001b[49m\u001b[43m,\u001b[49m\n\u001b[1;32m    921\u001b[0m \u001b[43m        \u001b[49m\u001b[43mtoken\u001b[49m\u001b[38;5;241;43m=\u001b[39;49m\u001b[43mtoken\u001b[49m\u001b[43m,\u001b[49m\n\u001b[1;32m    922\u001b[0m \u001b[43m        \u001b[49m\u001b[43mraise_raw_http_failure\u001b[49m\u001b[38;5;241;43m=\u001b[39;49m\u001b[43mraise_raw_http_failure\u001b[49m\u001b[43m,\u001b[49m\n\u001b[1;32m    923\u001b[0m \u001b[43m        \u001b[49m\u001b[38;5;241;43m*\u001b[39;49m\u001b[38;5;241;43m*\u001b[39;49m\u001b[43mkwargs\u001b[49m\u001b[43m,\u001b[49m\n\u001b[1;32m    924\u001b[0m \u001b[43m    \u001b[49m\u001b[43m)\u001b[49m\n\u001b[1;32m    925\u001b[0m     \u001b[38;5;28;01mif\u001b[39;00m return_object \u001b[38;5;129;01mis\u001b[39;00m \u001b[38;5;129;01mnot\u001b[39;00m \u001b[38;5;28;01mNone\u001b[39;00m:\n\u001b[1;32m    926\u001b[0m         \u001b[38;5;28;01mreturn\u001b[39;00m return_object\n",
      "File \u001b[0;32m~/anaconda3/envs/snowpandas-dev-test/lib/python3.9/site-packages/snowflake/connector/network.py:1082\u001b[0m, in \u001b[0;36mSnowflakeRestful._request_exec\u001b[0;34m(self, session, method, full_url, headers, data, token, catch_okta_unauthorized_error, is_raw_text, is_raw_binary, binary_data_handler, socket_timeout, is_okta_authentication, raise_raw_http_failure)\u001b[0m\n\u001b[1;32m   1078\u001b[0m download_start_time \u001b[38;5;241m=\u001b[39m get_time_millis()\n\u001b[1;32m   1079\u001b[0m \u001b[38;5;66;03m# socket timeout is constant. You should be able to receive\u001b[39;00m\n\u001b[1;32m   1080\u001b[0m \u001b[38;5;66;03m# the response within the time. If not, ConnectReadTimeout or\u001b[39;00m\n\u001b[1;32m   1081\u001b[0m \u001b[38;5;66;03m# ReadTimeout is raised.\u001b[39;00m\n\u001b[0;32m-> 1082\u001b[0m raw_ret \u001b[38;5;241m=\u001b[39m \u001b[43msession\u001b[49m\u001b[38;5;241;43m.\u001b[39;49m\u001b[43mrequest\u001b[49m\u001b[43m(\u001b[49m\n\u001b[1;32m   1083\u001b[0m \u001b[43m    \u001b[49m\u001b[43mmethod\u001b[49m\u001b[38;5;241;43m=\u001b[39;49m\u001b[43mmethod\u001b[49m\u001b[43m,\u001b[49m\n\u001b[1;32m   1084\u001b[0m \u001b[43m    \u001b[49m\u001b[43murl\u001b[49m\u001b[38;5;241;43m=\u001b[39;49m\u001b[43mfull_url\u001b[49m\u001b[43m,\u001b[49m\n\u001b[1;32m   1085\u001b[0m \u001b[43m    \u001b[49m\u001b[43mheaders\u001b[49m\u001b[38;5;241;43m=\u001b[39;49m\u001b[43mheaders\u001b[49m\u001b[43m,\u001b[49m\n\u001b[1;32m   1086\u001b[0m \u001b[43m    \u001b[49m\u001b[43mdata\u001b[49m\u001b[38;5;241;43m=\u001b[39;49m\u001b[43minput_data\u001b[49m\u001b[43m,\u001b[49m\n\u001b[1;32m   1087\u001b[0m \u001b[43m    \u001b[49m\u001b[43mtimeout\u001b[49m\u001b[38;5;241;43m=\u001b[39;49m\u001b[43msocket_timeout\u001b[49m\u001b[43m,\u001b[49m\n\u001b[1;32m   1088\u001b[0m \u001b[43m    \u001b[49m\u001b[43mverify\u001b[49m\u001b[38;5;241;43m=\u001b[39;49m\u001b[38;5;28;43;01mTrue\u001b[39;49;00m\u001b[43m,\u001b[49m\n\u001b[1;32m   1089\u001b[0m \u001b[43m    \u001b[49m\u001b[43mstream\u001b[49m\u001b[38;5;241;43m=\u001b[39;49m\u001b[43mis_raw_binary\u001b[49m\u001b[43m,\u001b[49m\n\u001b[1;32m   1090\u001b[0m \u001b[43m    \u001b[49m\u001b[43mauth\u001b[49m\u001b[38;5;241;43m=\u001b[39;49m\u001b[43mSnowflakeAuth\u001b[49m\u001b[43m(\u001b[49m\u001b[43mtoken\u001b[49m\u001b[43m)\u001b[49m\u001b[43m,\u001b[49m\n\u001b[1;32m   1091\u001b[0m \u001b[43m\u001b[49m\u001b[43m)\u001b[49m\n\u001b[1;32m   1092\u001b[0m download_end_time \u001b[38;5;241m=\u001b[39m get_time_millis()\n\u001b[1;32m   1094\u001b[0m \u001b[38;5;28;01mtry\u001b[39;00m:\n",
      "File \u001b[0;32m~/anaconda3/envs/snowpandas-dev-test/lib/python3.9/site-packages/snowflake/connector/vendored/requests/sessions.py:589\u001b[0m, in \u001b[0;36mSession.request\u001b[0;34m(self, method, url, params, data, headers, cookies, files, auth, timeout, allow_redirects, proxies, hooks, stream, verify, cert, json)\u001b[0m\n\u001b[1;32m    584\u001b[0m send_kwargs \u001b[38;5;241m=\u001b[39m {\n\u001b[1;32m    585\u001b[0m     \u001b[38;5;124m\"\u001b[39m\u001b[38;5;124mtimeout\u001b[39m\u001b[38;5;124m\"\u001b[39m: timeout,\n\u001b[1;32m    586\u001b[0m     \u001b[38;5;124m\"\u001b[39m\u001b[38;5;124mallow_redirects\u001b[39m\u001b[38;5;124m\"\u001b[39m: allow_redirects,\n\u001b[1;32m    587\u001b[0m }\n\u001b[1;32m    588\u001b[0m send_kwargs\u001b[38;5;241m.\u001b[39mupdate(settings)\n\u001b[0;32m--> 589\u001b[0m resp \u001b[38;5;241m=\u001b[39m \u001b[38;5;28;43mself\u001b[39;49m\u001b[38;5;241;43m.\u001b[39;49m\u001b[43msend\u001b[49m\u001b[43m(\u001b[49m\u001b[43mprep\u001b[49m\u001b[43m,\u001b[49m\u001b[43m \u001b[49m\u001b[38;5;241;43m*\u001b[39;49m\u001b[38;5;241;43m*\u001b[39;49m\u001b[43msend_kwargs\u001b[49m\u001b[43m)\u001b[49m\n\u001b[1;32m    591\u001b[0m \u001b[38;5;28;01mreturn\u001b[39;00m resp\n",
      "File \u001b[0;32m~/anaconda3/envs/snowpandas-dev-test/lib/python3.9/site-packages/snowflake/connector/vendored/requests/sessions.py:703\u001b[0m, in \u001b[0;36mSession.send\u001b[0;34m(self, request, **kwargs)\u001b[0m\n\u001b[1;32m    700\u001b[0m start \u001b[38;5;241m=\u001b[39m preferred_clock()\n\u001b[1;32m    702\u001b[0m \u001b[38;5;66;03m# Send the request\u001b[39;00m\n\u001b[0;32m--> 703\u001b[0m r \u001b[38;5;241m=\u001b[39m \u001b[43madapter\u001b[49m\u001b[38;5;241;43m.\u001b[39;49m\u001b[43msend\u001b[49m\u001b[43m(\u001b[49m\u001b[43mrequest\u001b[49m\u001b[43m,\u001b[49m\u001b[43m \u001b[49m\u001b[38;5;241;43m*\u001b[39;49m\u001b[38;5;241;43m*\u001b[39;49m\u001b[43mkwargs\u001b[49m\u001b[43m)\u001b[49m\n\u001b[1;32m    705\u001b[0m \u001b[38;5;66;03m# Total elapsed time of the request (approximately)\u001b[39;00m\n\u001b[1;32m    706\u001b[0m elapsed \u001b[38;5;241m=\u001b[39m preferred_clock() \u001b[38;5;241m-\u001b[39m start\n",
      "File \u001b[0;32m~/anaconda3/envs/snowpandas-dev-test/lib/python3.9/site-packages/snowflake/connector/vendored/requests/adapters.py:486\u001b[0m, in \u001b[0;36mHTTPAdapter.send\u001b[0;34m(self, request, stream, timeout, verify, cert, proxies)\u001b[0m\n\u001b[1;32m    483\u001b[0m     timeout \u001b[38;5;241m=\u001b[39m TimeoutSauce(connect\u001b[38;5;241m=\u001b[39mtimeout, read\u001b[38;5;241m=\u001b[39mtimeout)\n\u001b[1;32m    485\u001b[0m \u001b[38;5;28;01mtry\u001b[39;00m:\n\u001b[0;32m--> 486\u001b[0m     resp \u001b[38;5;241m=\u001b[39m \u001b[43mconn\u001b[49m\u001b[38;5;241;43m.\u001b[39;49m\u001b[43murlopen\u001b[49m\u001b[43m(\u001b[49m\n\u001b[1;32m    487\u001b[0m \u001b[43m        \u001b[49m\u001b[43mmethod\u001b[49m\u001b[38;5;241;43m=\u001b[39;49m\u001b[43mrequest\u001b[49m\u001b[38;5;241;43m.\u001b[39;49m\u001b[43mmethod\u001b[49m\u001b[43m,\u001b[49m\n\u001b[1;32m    488\u001b[0m \u001b[43m        \u001b[49m\u001b[43murl\u001b[49m\u001b[38;5;241;43m=\u001b[39;49m\u001b[43murl\u001b[49m\u001b[43m,\u001b[49m\n\u001b[1;32m    489\u001b[0m \u001b[43m        \u001b[49m\u001b[43mbody\u001b[49m\u001b[38;5;241;43m=\u001b[39;49m\u001b[43mrequest\u001b[49m\u001b[38;5;241;43m.\u001b[39;49m\u001b[43mbody\u001b[49m\u001b[43m,\u001b[49m\n\u001b[1;32m    490\u001b[0m \u001b[43m        \u001b[49m\u001b[43mheaders\u001b[49m\u001b[38;5;241;43m=\u001b[39;49m\u001b[43mrequest\u001b[49m\u001b[38;5;241;43m.\u001b[39;49m\u001b[43mheaders\u001b[49m\u001b[43m,\u001b[49m\n\u001b[1;32m    491\u001b[0m \u001b[43m        \u001b[49m\u001b[43mredirect\u001b[49m\u001b[38;5;241;43m=\u001b[39;49m\u001b[38;5;28;43;01mFalse\u001b[39;49;00m\u001b[43m,\u001b[49m\n\u001b[1;32m    492\u001b[0m \u001b[43m        \u001b[49m\u001b[43massert_same_host\u001b[49m\u001b[38;5;241;43m=\u001b[39;49m\u001b[38;5;28;43;01mFalse\u001b[39;49;00m\u001b[43m,\u001b[49m\n\u001b[1;32m    493\u001b[0m \u001b[43m        \u001b[49m\u001b[43mpreload_content\u001b[49m\u001b[38;5;241;43m=\u001b[39;49m\u001b[38;5;28;43;01mFalse\u001b[39;49;00m\u001b[43m,\u001b[49m\n\u001b[1;32m    494\u001b[0m \u001b[43m        \u001b[49m\u001b[43mdecode_content\u001b[49m\u001b[38;5;241;43m=\u001b[39;49m\u001b[38;5;28;43;01mFalse\u001b[39;49;00m\u001b[43m,\u001b[49m\n\u001b[1;32m    495\u001b[0m \u001b[43m        \u001b[49m\u001b[43mretries\u001b[49m\u001b[38;5;241;43m=\u001b[39;49m\u001b[38;5;28;43mself\u001b[39;49m\u001b[38;5;241;43m.\u001b[39;49m\u001b[43mmax_retries\u001b[49m\u001b[43m,\u001b[49m\n\u001b[1;32m    496\u001b[0m \u001b[43m        \u001b[49m\u001b[43mtimeout\u001b[49m\u001b[38;5;241;43m=\u001b[39;49m\u001b[43mtimeout\u001b[49m\u001b[43m,\u001b[49m\n\u001b[1;32m    497\u001b[0m \u001b[43m        \u001b[49m\u001b[43mchunked\u001b[49m\u001b[38;5;241;43m=\u001b[39;49m\u001b[43mchunked\u001b[49m\u001b[43m,\u001b[49m\n\u001b[1;32m    498\u001b[0m \u001b[43m    \u001b[49m\u001b[43m)\u001b[49m\n\u001b[1;32m    500\u001b[0m \u001b[38;5;28;01mexcept\u001b[39;00m (ProtocolError, \u001b[38;5;167;01mOSError\u001b[39;00m) \u001b[38;5;28;01mas\u001b[39;00m err:\n\u001b[1;32m    501\u001b[0m     \u001b[38;5;28;01mraise\u001b[39;00m \u001b[38;5;167;01mConnectionError\u001b[39;00m(err, request\u001b[38;5;241m=\u001b[39mrequest)\n",
      "File \u001b[0;32m~/anaconda3/envs/snowpandas-dev-test/lib/python3.9/site-packages/snowflake/connector/vendored/urllib3/connectionpool.py:715\u001b[0m, in \u001b[0;36mHTTPConnectionPool.urlopen\u001b[0;34m(self, method, url, body, headers, retries, redirect, assert_same_host, timeout, pool_timeout, release_conn, chunked, body_pos, **response_kw)\u001b[0m\n\u001b[1;32m    712\u001b[0m     \u001b[38;5;28mself\u001b[39m\u001b[38;5;241m.\u001b[39m_prepare_proxy(conn)\n\u001b[1;32m    714\u001b[0m \u001b[38;5;66;03m# Make the request on the httplib connection object.\u001b[39;00m\n\u001b[0;32m--> 715\u001b[0m httplib_response \u001b[38;5;241m=\u001b[39m \u001b[38;5;28;43mself\u001b[39;49m\u001b[38;5;241;43m.\u001b[39;49m\u001b[43m_make_request\u001b[49m\u001b[43m(\u001b[49m\n\u001b[1;32m    716\u001b[0m \u001b[43m    \u001b[49m\u001b[43mconn\u001b[49m\u001b[43m,\u001b[49m\n\u001b[1;32m    717\u001b[0m \u001b[43m    \u001b[49m\u001b[43mmethod\u001b[49m\u001b[43m,\u001b[49m\n\u001b[1;32m    718\u001b[0m \u001b[43m    \u001b[49m\u001b[43murl\u001b[49m\u001b[43m,\u001b[49m\n\u001b[1;32m    719\u001b[0m \u001b[43m    \u001b[49m\u001b[43mtimeout\u001b[49m\u001b[38;5;241;43m=\u001b[39;49m\u001b[43mtimeout_obj\u001b[49m\u001b[43m,\u001b[49m\n\u001b[1;32m    720\u001b[0m \u001b[43m    \u001b[49m\u001b[43mbody\u001b[49m\u001b[38;5;241;43m=\u001b[39;49m\u001b[43mbody\u001b[49m\u001b[43m,\u001b[49m\n\u001b[1;32m    721\u001b[0m \u001b[43m    \u001b[49m\u001b[43mheaders\u001b[49m\u001b[38;5;241;43m=\u001b[39;49m\u001b[43mheaders\u001b[49m\u001b[43m,\u001b[49m\n\u001b[1;32m    722\u001b[0m \u001b[43m    \u001b[49m\u001b[43mchunked\u001b[49m\u001b[38;5;241;43m=\u001b[39;49m\u001b[43mchunked\u001b[49m\u001b[43m,\u001b[49m\n\u001b[1;32m    723\u001b[0m \u001b[43m\u001b[49m\u001b[43m)\u001b[49m\n\u001b[1;32m    725\u001b[0m \u001b[38;5;66;03m# If we're going to release the connection in ``finally:``, then\u001b[39;00m\n\u001b[1;32m    726\u001b[0m \u001b[38;5;66;03m# the response doesn't need to know about the connection. Otherwise\u001b[39;00m\n\u001b[1;32m    727\u001b[0m \u001b[38;5;66;03m# it will also try to release it and we'll have a double-release\u001b[39;00m\n\u001b[1;32m    728\u001b[0m \u001b[38;5;66;03m# mess.\u001b[39;00m\n\u001b[1;32m    729\u001b[0m response_conn \u001b[38;5;241m=\u001b[39m conn \u001b[38;5;28;01mif\u001b[39;00m \u001b[38;5;129;01mnot\u001b[39;00m release_conn \u001b[38;5;28;01melse\u001b[39;00m \u001b[38;5;28;01mNone\u001b[39;00m\n",
      "File \u001b[0;32m~/anaconda3/envs/snowpandas-dev-test/lib/python3.9/site-packages/snowflake/connector/vendored/urllib3/connectionpool.py:467\u001b[0m, in \u001b[0;36mHTTPConnectionPool._make_request\u001b[0;34m(self, conn, method, url, timeout, chunked, **httplib_request_kw)\u001b[0m\n\u001b[1;32m    462\u001b[0m             httplib_response \u001b[38;5;241m=\u001b[39m conn\u001b[38;5;241m.\u001b[39mgetresponse()\n\u001b[1;32m    463\u001b[0m         \u001b[38;5;28;01mexcept\u001b[39;00m \u001b[38;5;167;01mBaseException\u001b[39;00m \u001b[38;5;28;01mas\u001b[39;00m e:\n\u001b[1;32m    464\u001b[0m             \u001b[38;5;66;03m# Remove the TypeError from the exception chain in\u001b[39;00m\n\u001b[1;32m    465\u001b[0m             \u001b[38;5;66;03m# Python 3 (including for exceptions like SystemExit).\u001b[39;00m\n\u001b[1;32m    466\u001b[0m             \u001b[38;5;66;03m# Otherwise it looks like a bug in the code.\u001b[39;00m\n\u001b[0;32m--> 467\u001b[0m             \u001b[43msix\u001b[49m\u001b[38;5;241;43m.\u001b[39;49m\u001b[43mraise_from\u001b[49m\u001b[43m(\u001b[49m\u001b[43me\u001b[49m\u001b[43m,\u001b[49m\u001b[43m \u001b[49m\u001b[38;5;28;43;01mNone\u001b[39;49;00m\u001b[43m)\u001b[49m\n\u001b[1;32m    468\u001b[0m \u001b[38;5;28;01mexcept\u001b[39;00m (SocketTimeout, BaseSSLError, SocketError) \u001b[38;5;28;01mas\u001b[39;00m e:\n\u001b[1;32m    469\u001b[0m     \u001b[38;5;28mself\u001b[39m\u001b[38;5;241m.\u001b[39m_raise_timeout(err\u001b[38;5;241m=\u001b[39me, url\u001b[38;5;241m=\u001b[39murl, timeout_value\u001b[38;5;241m=\u001b[39mread_timeout)\n",
      "File \u001b[0;32m<string>:3\u001b[0m, in \u001b[0;36mraise_from\u001b[0;34m(value, from_value)\u001b[0m\n",
      "File \u001b[0;32m~/anaconda3/envs/snowpandas-dev-test/lib/python3.9/site-packages/snowflake/connector/vendored/urllib3/connectionpool.py:462\u001b[0m, in \u001b[0;36mHTTPConnectionPool._make_request\u001b[0;34m(self, conn, method, url, timeout, chunked, **httplib_request_kw)\u001b[0m\n\u001b[1;32m    459\u001b[0m \u001b[38;5;28;01mexcept\u001b[39;00m \u001b[38;5;167;01mTypeError\u001b[39;00m:\n\u001b[1;32m    460\u001b[0m     \u001b[38;5;66;03m# Python 3\u001b[39;00m\n\u001b[1;32m    461\u001b[0m     \u001b[38;5;28;01mtry\u001b[39;00m:\n\u001b[0;32m--> 462\u001b[0m         httplib_response \u001b[38;5;241m=\u001b[39m \u001b[43mconn\u001b[49m\u001b[38;5;241;43m.\u001b[39;49m\u001b[43mgetresponse\u001b[49m\u001b[43m(\u001b[49m\u001b[43m)\u001b[49m\n\u001b[1;32m    463\u001b[0m     \u001b[38;5;28;01mexcept\u001b[39;00m \u001b[38;5;167;01mBaseException\u001b[39;00m \u001b[38;5;28;01mas\u001b[39;00m e:\n\u001b[1;32m    464\u001b[0m         \u001b[38;5;66;03m# Remove the TypeError from the exception chain in\u001b[39;00m\n\u001b[1;32m    465\u001b[0m         \u001b[38;5;66;03m# Python 3 (including for exceptions like SystemExit).\u001b[39;00m\n\u001b[1;32m    466\u001b[0m         \u001b[38;5;66;03m# Otherwise it looks like a bug in the code.\u001b[39;00m\n\u001b[1;32m    467\u001b[0m         six\u001b[38;5;241m.\u001b[39mraise_from(e, \u001b[38;5;28;01mNone\u001b[39;00m)\n",
      "File \u001b[0;32m~/anaconda3/envs/snowpandas-dev-test/lib/python3.9/http/client.py:1377\u001b[0m, in \u001b[0;36mHTTPConnection.getresponse\u001b[0;34m(self)\u001b[0m\n\u001b[1;32m   1375\u001b[0m \u001b[38;5;28;01mtry\u001b[39;00m:\n\u001b[1;32m   1376\u001b[0m     \u001b[38;5;28;01mtry\u001b[39;00m:\n\u001b[0;32m-> 1377\u001b[0m         \u001b[43mresponse\u001b[49m\u001b[38;5;241;43m.\u001b[39;49m\u001b[43mbegin\u001b[49m\u001b[43m(\u001b[49m\u001b[43m)\u001b[49m\n\u001b[1;32m   1378\u001b[0m     \u001b[38;5;28;01mexcept\u001b[39;00m \u001b[38;5;167;01mConnectionError\u001b[39;00m:\n\u001b[1;32m   1379\u001b[0m         \u001b[38;5;28mself\u001b[39m\u001b[38;5;241m.\u001b[39mclose()\n",
      "File \u001b[0;32m~/anaconda3/envs/snowpandas-dev-test/lib/python3.9/http/client.py:320\u001b[0m, in \u001b[0;36mHTTPResponse.begin\u001b[0;34m(self)\u001b[0m\n\u001b[1;32m    318\u001b[0m \u001b[38;5;66;03m# read until we get a non-100 response\u001b[39;00m\n\u001b[1;32m    319\u001b[0m \u001b[38;5;28;01mwhile\u001b[39;00m \u001b[38;5;28;01mTrue\u001b[39;00m:\n\u001b[0;32m--> 320\u001b[0m     version, status, reason \u001b[38;5;241m=\u001b[39m \u001b[38;5;28;43mself\u001b[39;49m\u001b[38;5;241;43m.\u001b[39;49m\u001b[43m_read_status\u001b[49m\u001b[43m(\u001b[49m\u001b[43m)\u001b[49m\n\u001b[1;32m    321\u001b[0m     \u001b[38;5;28;01mif\u001b[39;00m status \u001b[38;5;241m!=\u001b[39m CONTINUE:\n\u001b[1;32m    322\u001b[0m         \u001b[38;5;28;01mbreak\u001b[39;00m\n",
      "File \u001b[0;32m~/anaconda3/envs/snowpandas-dev-test/lib/python3.9/http/client.py:281\u001b[0m, in \u001b[0;36mHTTPResponse._read_status\u001b[0;34m(self)\u001b[0m\n\u001b[1;32m    280\u001b[0m \u001b[38;5;28;01mdef\u001b[39;00m \u001b[38;5;21m_read_status\u001b[39m(\u001b[38;5;28mself\u001b[39m):\n\u001b[0;32m--> 281\u001b[0m     line \u001b[38;5;241m=\u001b[39m \u001b[38;5;28mstr\u001b[39m(\u001b[38;5;28;43mself\u001b[39;49m\u001b[38;5;241;43m.\u001b[39;49m\u001b[43mfp\u001b[49m\u001b[38;5;241;43m.\u001b[39;49m\u001b[43mreadline\u001b[49m\u001b[43m(\u001b[49m\u001b[43m_MAXLINE\u001b[49m\u001b[43m \u001b[49m\u001b[38;5;241;43m+\u001b[39;49m\u001b[43m \u001b[49m\u001b[38;5;241;43m1\u001b[39;49m\u001b[43m)\u001b[49m, \u001b[38;5;124m\"\u001b[39m\u001b[38;5;124miso-8859-1\u001b[39m\u001b[38;5;124m\"\u001b[39m)\n\u001b[1;32m    282\u001b[0m     \u001b[38;5;28;01mif\u001b[39;00m \u001b[38;5;28mlen\u001b[39m(line) \u001b[38;5;241m>\u001b[39m _MAXLINE:\n\u001b[1;32m    283\u001b[0m         \u001b[38;5;28;01mraise\u001b[39;00m LineTooLong(\u001b[38;5;124m\"\u001b[39m\u001b[38;5;124mstatus line\u001b[39m\u001b[38;5;124m\"\u001b[39m)\n",
      "File \u001b[0;32m~/anaconda3/envs/snowpandas-dev-test/lib/python3.9/socket.py:704\u001b[0m, in \u001b[0;36mSocketIO.readinto\u001b[0;34m(self, b)\u001b[0m\n\u001b[1;32m    702\u001b[0m \u001b[38;5;28;01mwhile\u001b[39;00m \u001b[38;5;28;01mTrue\u001b[39;00m:\n\u001b[1;32m    703\u001b[0m     \u001b[38;5;28;01mtry\u001b[39;00m:\n\u001b[0;32m--> 704\u001b[0m         \u001b[38;5;28;01mreturn\u001b[39;00m \u001b[38;5;28;43mself\u001b[39;49m\u001b[38;5;241;43m.\u001b[39;49m\u001b[43m_sock\u001b[49m\u001b[38;5;241;43m.\u001b[39;49m\u001b[43mrecv_into\u001b[49m\u001b[43m(\u001b[49m\u001b[43mb\u001b[49m\u001b[43m)\u001b[49m\n\u001b[1;32m    705\u001b[0m     \u001b[38;5;28;01mexcept\u001b[39;00m timeout:\n\u001b[1;32m    706\u001b[0m         \u001b[38;5;28mself\u001b[39m\u001b[38;5;241m.\u001b[39m_timeout_occurred \u001b[38;5;241m=\u001b[39m \u001b[38;5;28;01mTrue\u001b[39;00m\n",
      "File \u001b[0;32m~/anaconda3/envs/snowpandas-dev-test/lib/python3.9/site-packages/snowflake/connector/vendored/urllib3/contrib/pyopenssl.py:330\u001b[0m, in \u001b[0;36mWrappedSocket.recv_into\u001b[0;34m(self, *args, **kwargs)\u001b[0m\n\u001b[1;32m    328\u001b[0m         \u001b[38;5;28;01mraise\u001b[39;00m\n\u001b[1;32m    329\u001b[0m \u001b[38;5;28;01mexcept\u001b[39;00m OpenSSL\u001b[38;5;241m.\u001b[39mSSL\u001b[38;5;241m.\u001b[39mWantReadError:\n\u001b[0;32m--> 330\u001b[0m     \u001b[38;5;28;01mif\u001b[39;00m \u001b[38;5;129;01mnot\u001b[39;00m \u001b[43mutil\u001b[49m\u001b[38;5;241;43m.\u001b[39;49m\u001b[43mwait_for_read\u001b[49m\u001b[43m(\u001b[49m\u001b[38;5;28;43mself\u001b[39;49m\u001b[38;5;241;43m.\u001b[39;49m\u001b[43msocket\u001b[49m\u001b[43m,\u001b[49m\u001b[43m \u001b[49m\u001b[38;5;28;43mself\u001b[39;49m\u001b[38;5;241;43m.\u001b[39;49m\u001b[43msocket\u001b[49m\u001b[38;5;241;43m.\u001b[39;49m\u001b[43mgettimeout\u001b[49m\u001b[43m(\u001b[49m\u001b[43m)\u001b[49m\u001b[43m)\u001b[49m:\n\u001b[1;32m    331\u001b[0m         \u001b[38;5;28;01mraise\u001b[39;00m timeout(\u001b[38;5;124m\"\u001b[39m\u001b[38;5;124mThe read operation timed out\u001b[39m\u001b[38;5;124m\"\u001b[39m)\n\u001b[1;32m    332\u001b[0m     \u001b[38;5;28;01melse\u001b[39;00m:\n",
      "File \u001b[0;32m~/anaconda3/envs/snowpandas-dev-test/lib/python3.9/site-packages/snowflake/connector/vendored/urllib3/util/wait.py:145\u001b[0m, in \u001b[0;36mwait_for_read\u001b[0;34m(sock, timeout)\u001b[0m\n\u001b[1;32m    141\u001b[0m \u001b[38;5;28;01mdef\u001b[39;00m \u001b[38;5;21mwait_for_read\u001b[39m(sock, timeout\u001b[38;5;241m=\u001b[39m\u001b[38;5;28;01mNone\u001b[39;00m):\n\u001b[1;32m    142\u001b[0m \u001b[38;5;250m    \u001b[39m\u001b[38;5;124;03m\"\"\"Waits for reading to be available on a given socket.\u001b[39;00m\n\u001b[1;32m    143\u001b[0m \u001b[38;5;124;03m    Returns True if the socket is readable, or False if the timeout expired.\u001b[39;00m\n\u001b[1;32m    144\u001b[0m \u001b[38;5;124;03m    \"\"\"\u001b[39;00m\n\u001b[0;32m--> 145\u001b[0m     \u001b[38;5;28;01mreturn\u001b[39;00m \u001b[43mwait_for_socket\u001b[49m\u001b[43m(\u001b[49m\u001b[43msock\u001b[49m\u001b[43m,\u001b[49m\u001b[43m \u001b[49m\u001b[43mread\u001b[49m\u001b[38;5;241;43m=\u001b[39;49m\u001b[38;5;28;43;01mTrue\u001b[39;49;00m\u001b[43m,\u001b[49m\u001b[43m \u001b[49m\u001b[43mtimeout\u001b[49m\u001b[38;5;241;43m=\u001b[39;49m\u001b[43mtimeout\u001b[49m\u001b[43m)\u001b[49m\n",
      "File \u001b[0;32m~/anaconda3/envs/snowpandas-dev-test/lib/python3.9/site-packages/snowflake/connector/vendored/urllib3/util/wait.py:106\u001b[0m, in \u001b[0;36mpoll_wait_for_socket\u001b[0;34m(sock, read, write, timeout)\u001b[0m\n\u001b[1;32m    103\u001b[0m         t \u001b[38;5;241m*\u001b[39m\u001b[38;5;241m=\u001b[39m \u001b[38;5;241m1000\u001b[39m\n\u001b[1;32m    104\u001b[0m     \u001b[38;5;28;01mreturn\u001b[39;00m poll_obj\u001b[38;5;241m.\u001b[39mpoll(t)\n\u001b[0;32m--> 106\u001b[0m \u001b[38;5;28;01mreturn\u001b[39;00m \u001b[38;5;28mbool\u001b[39m(\u001b[43m_retry_on_intr\u001b[49m\u001b[43m(\u001b[49m\u001b[43mdo_poll\u001b[49m\u001b[43m,\u001b[49m\u001b[43m \u001b[49m\u001b[43mtimeout\u001b[49m\u001b[43m)\u001b[49m)\n",
      "File \u001b[0;32m~/anaconda3/envs/snowpandas-dev-test/lib/python3.9/site-packages/snowflake/connector/vendored/urllib3/util/wait.py:43\u001b[0m, in \u001b[0;36m_retry_on_intr\u001b[0;34m(fn, timeout)\u001b[0m\n\u001b[1;32m     42\u001b[0m \u001b[38;5;28;01mdef\u001b[39;00m \u001b[38;5;21m_retry_on_intr\u001b[39m(fn, timeout):\n\u001b[0;32m---> 43\u001b[0m     \u001b[38;5;28;01mreturn\u001b[39;00m \u001b[43mfn\u001b[49m\u001b[43m(\u001b[49m\u001b[43mtimeout\u001b[49m\u001b[43m)\u001b[49m\n",
      "File \u001b[0;32m~/anaconda3/envs/snowpandas-dev-test/lib/python3.9/site-packages/snowflake/connector/vendored/urllib3/util/wait.py:104\u001b[0m, in \u001b[0;36mpoll_wait_for_socket.<locals>.do_poll\u001b[0;34m(t)\u001b[0m\n\u001b[1;32m    102\u001b[0m \u001b[38;5;28;01mif\u001b[39;00m t \u001b[38;5;129;01mis\u001b[39;00m \u001b[38;5;129;01mnot\u001b[39;00m \u001b[38;5;28;01mNone\u001b[39;00m:\n\u001b[1;32m    103\u001b[0m     t \u001b[38;5;241m*\u001b[39m\u001b[38;5;241m=\u001b[39m \u001b[38;5;241m1000\u001b[39m\n\u001b[0;32m--> 104\u001b[0m \u001b[38;5;28;01mreturn\u001b[39;00m \u001b[43mpoll_obj\u001b[49m\u001b[38;5;241;43m.\u001b[39;49m\u001b[43mpoll\u001b[49m\u001b[43m(\u001b[49m\u001b[43mt\u001b[49m\u001b[43m)\u001b[49m\n",
      "File \u001b[0;32m~/anaconda3/envs/snowpandas-dev-test/lib/python3.9/site-packages/snowflake/connector/cursor.py:689\u001b[0m, in \u001b[0;36mSnowflakeCursor._execute_helper.<locals>.interrupt_handler\u001b[0;34m(*_)\u001b[0m\n\u001b[1;32m    686\u001b[0m         \u001b[38;5;28;01mexcept\u001b[39;00m (\u001b[38;5;167;01mValueError\u001b[39;00m, \u001b[38;5;167;01mTypeError\u001b[39;00m):\n\u001b[1;32m    687\u001b[0m             \u001b[38;5;66;03m# ignore failures\u001b[39;00m\n\u001b[1;32m    688\u001b[0m             \u001b[38;5;28;01mpass\u001b[39;00m\n\u001b[0;32m--> 689\u001b[0m \u001b[38;5;28;01mraise\u001b[39;00m \u001b[38;5;167;01mKeyboardInterrupt\u001b[39;00m\n",
      "\u001b[0;31mKeyboardInterrupt\u001b[0m: "
     ]
    }
   ],
   "source": [
    "%%time\n",
    "\n",
    "filtered.groupby('L_SHIPMODE').apply(lambda group: group.L_ORDERKEY.iloc[0] + group.L_ORDERKEY.mean())"
   ]
  },
  {
   "cell_type": "code",
   "execution_count": 27,
   "metadata": {},
   "outputs": [],
   "source": [
    "# Use case 3: Intermingling engines"
   ]
  },
  {
   "cell_type": "code",
   "execution_count": 2,
   "metadata": {},
   "outputs": [
    {
     "name": "stderr",
     "output_type": "stream",
     "text": [
      "Snapshot source table/view 'SAMPLE_DATA.TPCH_SF10.LINEITEM' failed due to reason: `003029 (0A000): SQL compilation error:\n",
      "Cannot clone from a table that was imported from a share.'. Data from source table/view 'SAMPLE_DATA.TPCH_SF10.LINEITEM' is being copied into a new temporary table 'SNOWPARK_TEMP_TABLE_2YYUP5L6KH' for snapshotting. DataFrame creation might take some time.\n"
     ]
    }
   ],
   "source": [
    "snow_df = pd.read_snowflake(\"SAMPLE_DATA.TPCH_SF10.LINEITEM\")"
   ]
  },
  {
   "cell_type": "code",
   "execution_count": 3,
   "metadata": {},
   "outputs": [
    {
     "data": {
      "application/vnd.jupyter.widget-view+json": {
       "model_id": "0f074a3a469c4c88bc0e1309e9760798",
       "version_major": 2,
       "version_minor": 0
      },
      "text/plain": [
       "Transferring data from Snowflake to Pandas ...:   0%|          | 0/2 [00:00<?, ?it/s]"
      ]
     },
     "metadata": {},
     "output_type": "display_data"
    },
    {
     "name": "stdout",
     "output_type": "stream",
     "text": [
      "CPU times: user 212 ms, sys: 84.8 ms, total: 297 ms\n",
      "Wall time: 1.5 s\n"
     ]
    },
    {
     "data": {
      "text/plain": [
       "L_SHIPMODE\n",
       "RAIL       8571844\n",
       "SHIP       8571402\n",
       "REG AIR    8570280\n",
       "FOB        8569760\n",
       "MAIL       8569053\n",
       "TRUCK      8567549\n",
       "AIR        8566164\n",
       "Name: count, dtype: int64"
      ]
     },
     "execution_count": 3,
     "metadata": {},
     "output_type": "execute_result"
    }
   ],
   "source": [
    "%%time\n",
    "\n",
    "native_df = snow_df['L_SHIPMODE'].value_counts().move_to('Pandas')\n",
    "native_df"
   ]
  },
  {
   "cell_type": "code",
   "execution_count": 7,
   "metadata": {},
   "outputs": [
    {
     "data": {
      "text/plain": [
       "Index(['L_ORDERKEY', 'L_PARTKEY', 'L_SUPPKEY', 'L_LINENUMBER', 'L_QUANTITY',\n",
       "       'L_EXTENDEDPRICE', 'L_DISCOUNT', 'L_TAX', 'L_RETURNFLAG',\n",
       "       'L_LINESTATUS', 'L_SHIPDATE', 'L_COMMITDATE', 'L_RECEIPTDATE',\n",
       "       'L_SHIPINSTRUCT', 'L_SHIPMODE', 'L_COMMENT'],\n",
       "      dtype='object')"
      ]
     },
     "execution_count": 7,
     "metadata": {},
     "output_type": "execute_result"
    }
   ],
   "source": [
    "snow_df.columns"
   ]
  },
  {
   "cell_type": "code",
   "execution_count": 12,
   "metadata": {},
   "outputs": [
    {
     "data": {
      "text/plain": [
       "'Snowflake'"
      ]
     },
     "execution_count": 12,
     "metadata": {},
     "output_type": "execute_result"
    }
   ],
   "source": [
    "snow_df.get_backend()"
   ]
  },
  {
   "cell_type": "code",
   "execution_count": 9,
   "metadata": {},
   "outputs": [
    {
     "data": {
      "text/plain": [
       "L_SHIPMODE\n",
       "RAIL       8571844\n",
       "SHIP       8571402\n",
       "REG AIR    8570280\n",
       "FOB        8569760\n",
       "MAIL       8569053\n",
       "TRUCK      8567549\n",
       "AIR        8566164\n",
       "Name: count, dtype: int64"
      ]
     },
     "execution_count": 9,
     "metadata": {},
     "output_type": "execute_result"
    }
   ],
   "source": [
    "native_df"
   ]
  },
  {
   "cell_type": "code",
   "execution_count": 10,
   "metadata": {},
   "outputs": [
    {
     "data": {
      "application/vnd.jupyter.widget-view+json": {
       "model_id": "948f70880b7d4e68b10cfe6958b31e05",
       "version_major": 2,
       "version_minor": 0
      },
      "text/plain": [
       "Transferring data from Pandas to Snowflake ...:   0%|          | 0/2 [00:00<?, ?it/s]"
      ]
     },
     "metadata": {},
     "output_type": "display_data"
    },
    {
     "data": {
      "text/html": [
       "<div>\n",
       "<style scoped>\n",
       "    .dataframe tbody tr th:only-of-type {\n",
       "        vertical-align: middle;\n",
       "    }\n",
       "\n",
       "    .dataframe tbody tr th {\n",
       "        vertical-align: top;\n",
       "    }\n",
       "\n",
       "    .dataframe thead th {\n",
       "        text-align: right;\n",
       "    }\n",
       "</style>\n",
       "<table border=\"1\" class=\"dataframe\">\n",
       "  <thead>\n",
       "    <tr style=\"text-align: right;\">\n",
       "      <th></th>\n",
       "      <th>L_ORDERKEY</th>\n",
       "      <th>L_PARTKEY</th>\n",
       "      <th>L_SUPPKEY</th>\n",
       "      <th>L_LINENUMBER</th>\n",
       "      <th>L_QUANTITY</th>\n",
       "      <th>L_EXTENDEDPRICE</th>\n",
       "      <th>L_DISCOUNT</th>\n",
       "      <th>L_TAX</th>\n",
       "      <th>L_RETURNFLAG</th>\n",
       "      <th>L_LINESTATUS</th>\n",
       "      <th>L_SHIPDATE</th>\n",
       "      <th>L_COMMITDATE</th>\n",
       "      <th>L_RECEIPTDATE</th>\n",
       "      <th>L_SHIPINSTRUCT</th>\n",
       "      <th>L_SHIPMODE</th>\n",
       "      <th>L_COMMENT</th>\n",
       "      <th>count</th>\n",
       "    </tr>\n",
       "  </thead>\n",
       "  <tbody>\n",
       "    <tr>\n",
       "      <th>0</th>\n",
       "      <td>27517350</td>\n",
       "      <td>1896835</td>\n",
       "      <td>71890</td>\n",
       "      <td>5</td>\n",
       "      <td>42.0</td>\n",
       "      <td>76933.08</td>\n",
       "      <td>0.08</td>\n",
       "      <td>0.08</td>\n",
       "      <td>R</td>\n",
       "      <td>F</td>\n",
       "      <td>1992-10-31</td>\n",
       "      <td>1992-10-17</td>\n",
       "      <td>1992-11-30</td>\n",
       "      <td>DELIVER IN PERSON</td>\n",
       "      <td>FOB</td>\n",
       "      <td>oxes unwind</td>\n",
       "      <td>8569760</td>\n",
       "    </tr>\n",
       "    <tr>\n",
       "      <th>1</th>\n",
       "      <td>27517351</td>\n",
       "      <td>665715</td>\n",
       "      <td>65716</td>\n",
       "      <td>1</td>\n",
       "      <td>22.0</td>\n",
       "      <td>36974.96</td>\n",
       "      <td>0.08</td>\n",
       "      <td>0.08</td>\n",
       "      <td>N</td>\n",
       "      <td>O</td>\n",
       "      <td>1997-03-15</td>\n",
       "      <td>1997-01-13</td>\n",
       "      <td>1997-03-18</td>\n",
       "      <td>COLLECT COD</td>\n",
       "      <td>AIR</td>\n",
       "      <td>e across the bli</td>\n",
       "      <td>8566164</td>\n",
       "    </tr>\n",
       "    <tr>\n",
       "      <th>2</th>\n",
       "      <td>27517351</td>\n",
       "      <td>666667</td>\n",
       "      <td>16680</td>\n",
       "      <td>2</td>\n",
       "      <td>39.0</td>\n",
       "      <td>63711.57</td>\n",
       "      <td>0.09</td>\n",
       "      <td>0.03</td>\n",
       "      <td>N</td>\n",
       "      <td>O</td>\n",
       "      <td>1997-04-11</td>\n",
       "      <td>1997-01-22</td>\n",
       "      <td>1997-04-24</td>\n",
       "      <td>COLLECT COD</td>\n",
       "      <td>TRUCK</td>\n",
       "      <td>beans sleep care</td>\n",
       "      <td>8567549</td>\n",
       "    </tr>\n",
       "    <tr>\n",
       "      <th>3</th>\n",
       "      <td>27517351</td>\n",
       "      <td>671029</td>\n",
       "      <td>71030</td>\n",
       "      <td>3</td>\n",
       "      <td>2.0</td>\n",
       "      <td>1999.98</td>\n",
       "      <td>0.03</td>\n",
       "      <td>0.06</td>\n",
       "      <td>N</td>\n",
       "      <td>O</td>\n",
       "      <td>1997-02-27</td>\n",
       "      <td>1997-02-18</td>\n",
       "      <td>1997-03-12</td>\n",
       "      <td>DELIVER IN PERSON</td>\n",
       "      <td>SHIP</td>\n",
       "      <td>ual theodolites. careful</td>\n",
       "      <td>8571402</td>\n",
       "    </tr>\n",
       "    <tr>\n",
       "      <th>4</th>\n",
       "      <td>27517351</td>\n",
       "      <td>1977061</td>\n",
       "      <td>2081</td>\n",
       "      <td>4</td>\n",
       "      <td>2.0</td>\n",
       "      <td>2275.94</td>\n",
       "      <td>0.07</td>\n",
       "      <td>0.01</td>\n",
       "      <td>N</td>\n",
       "      <td>O</td>\n",
       "      <td>1997-03-13</td>\n",
       "      <td>1997-02-21</td>\n",
       "      <td>1997-04-06</td>\n",
       "      <td>NONE</td>\n",
       "      <td>RAIL</td>\n",
       "      <td>uickly along th</td>\n",
       "      <td>8571844</td>\n",
       "    </tr>\n",
       "    <tr>\n",
       "      <th>...</th>\n",
       "      <td>...</td>\n",
       "      <td>...</td>\n",
       "      <td>...</td>\n",
       "      <td>...</td>\n",
       "      <td>...</td>\n",
       "      <td>...</td>\n",
       "      <td>...</td>\n",
       "      <td>...</td>\n",
       "      <td>...</td>\n",
       "      <td>...</td>\n",
       "      <td>...</td>\n",
       "      <td>...</td>\n",
       "      <td>...</td>\n",
       "      <td>...</td>\n",
       "      <td>...</td>\n",
       "      <td>...</td>\n",
       "      <td>...</td>\n",
       "    </tr>\n",
       "    <tr>\n",
       "      <th>59986047</th>\n",
       "      <td>19721668</td>\n",
       "      <td>1258271</td>\n",
       "      <td>33308</td>\n",
       "      <td>1</td>\n",
       "      <td>15.0</td>\n",
       "      <td>18438.15</td>\n",
       "      <td>0.01</td>\n",
       "      <td>0.04</td>\n",
       "      <td>N</td>\n",
       "      <td>O</td>\n",
       "      <td>1995-09-02</td>\n",
       "      <td>1995-07-14</td>\n",
       "      <td>1995-09-16</td>\n",
       "      <td>DELIVER IN PERSON</td>\n",
       "      <td>SHIP</td>\n",
       "      <td>l foxes detect carefully. slyly r</td>\n",
       "      <td>8571402</td>\n",
       "    </tr>\n",
       "    <tr>\n",
       "      <th>59986048</th>\n",
       "      <td>19721668</td>\n",
       "      <td>1753262</td>\n",
       "      <td>3297</td>\n",
       "      <td>2</td>\n",
       "      <td>38.0</td>\n",
       "      <td>49976.84</td>\n",
       "      <td>0.02</td>\n",
       "      <td>0.00</td>\n",
       "      <td>N</td>\n",
       "      <td>O</td>\n",
       "      <td>1995-07-17</td>\n",
       "      <td>1995-08-26</td>\n",
       "      <td>1995-08-15</td>\n",
       "      <td>NONE</td>\n",
       "      <td>RAIL</td>\n",
       "      <td>ly final pa</td>\n",
       "      <td>8571844</td>\n",
       "    </tr>\n",
       "    <tr>\n",
       "      <th>59986049</th>\n",
       "      <td>19721669</td>\n",
       "      <td>124306</td>\n",
       "      <td>24307</td>\n",
       "      <td>1</td>\n",
       "      <td>28.0</td>\n",
       "      <td>37248.40</td>\n",
       "      <td>0.02</td>\n",
       "      <td>0.08</td>\n",
       "      <td>A</td>\n",
       "      <td>F</td>\n",
       "      <td>1992-09-30</td>\n",
       "      <td>1992-09-21</td>\n",
       "      <td>1992-10-01</td>\n",
       "      <td>TAKE BACK RETURN</td>\n",
       "      <td>MAIL</td>\n",
       "      <td>ole carefully slyly final deposits. ca</td>\n",
       "      <td>8569053</td>\n",
       "    </tr>\n",
       "    <tr>\n",
       "      <th>59986050</th>\n",
       "      <td>19721669</td>\n",
       "      <td>1194302</td>\n",
       "      <td>44325</td>\n",
       "      <td>2</td>\n",
       "      <td>36.0</td>\n",
       "      <td>50265.00</td>\n",
       "      <td>0.03</td>\n",
       "      <td>0.04</td>\n",
       "      <td>R</td>\n",
       "      <td>F</td>\n",
       "      <td>1992-10-24</td>\n",
       "      <td>1992-08-26</td>\n",
       "      <td>1992-10-25</td>\n",
       "      <td>TAKE BACK RETURN</td>\n",
       "      <td>TRUCK</td>\n",
       "      <td>theodolites</td>\n",
       "      <td>8567549</td>\n",
       "    </tr>\n",
       "    <tr>\n",
       "      <th>59986051</th>\n",
       "      <td>19721669</td>\n",
       "      <td>623395</td>\n",
       "      <td>98414</td>\n",
       "      <td>3</td>\n",
       "      <td>24.0</td>\n",
       "      <td>31640.64</td>\n",
       "      <td>0.01</td>\n",
       "      <td>0.04</td>\n",
       "      <td>R</td>\n",
       "      <td>F</td>\n",
       "      <td>1992-07-28</td>\n",
       "      <td>1992-08-29</td>\n",
       "      <td>1992-08-22</td>\n",
       "      <td>COLLECT COD</td>\n",
       "      <td>SHIP</td>\n",
       "      <td>e quickly express requests. bold requests</td>\n",
       "      <td>8571402</td>\n",
       "    </tr>\n",
       "  </tbody>\n",
       "</table>\n",
       "<p>59986052 rows × 17 columns</p>\n",
       "</div>"
      ],
      "text/plain": [
       "          L_ORDERKEY  L_PARTKEY  L_SUPPKEY  L_LINENUMBER  L_QUANTITY  \\\n",
       "0           27517350    1896835      71890             5        42.0   \n",
       "1           27517351     665715      65716             1        22.0   \n",
       "2           27517351     666667      16680             2        39.0   \n",
       "3           27517351     671029      71030             3         2.0   \n",
       "4           27517351    1977061       2081             4         2.0   \n",
       "...              ...        ...        ...           ...         ...   \n",
       "59986047    19721668    1258271      33308             1        15.0   \n",
       "59986048    19721668    1753262       3297             2        38.0   \n",
       "59986049    19721669     124306      24307             1        28.0   \n",
       "59986050    19721669    1194302      44325             2        36.0   \n",
       "59986051    19721669     623395      98414             3        24.0   \n",
       "\n",
       "          L_EXTENDEDPRICE  L_DISCOUNT  L_TAX L_RETURNFLAG L_LINESTATUS  \\\n",
       "0                76933.08        0.08   0.08            R            F   \n",
       "1                36974.96        0.08   0.08            N            O   \n",
       "2                63711.57        0.09   0.03            N            O   \n",
       "3                 1999.98        0.03   0.06            N            O   \n",
       "4                 2275.94        0.07   0.01            N            O   \n",
       "...                   ...         ...    ...          ...          ...   \n",
       "59986047         18438.15        0.01   0.04            N            O   \n",
       "59986048         49976.84        0.02   0.00            N            O   \n",
       "59986049         37248.40        0.02   0.08            A            F   \n",
       "59986050         50265.00        0.03   0.04            R            F   \n",
       "59986051         31640.64        0.01   0.04            R            F   \n",
       "\n",
       "          L_SHIPDATE L_COMMITDATE L_RECEIPTDATE     L_SHIPINSTRUCT L_SHIPMODE  \\\n",
       "0         1992-10-31   1992-10-17    1992-11-30  DELIVER IN PERSON        FOB   \n",
       "1         1997-03-15   1997-01-13    1997-03-18        COLLECT COD        AIR   \n",
       "2         1997-04-11   1997-01-22    1997-04-24        COLLECT COD      TRUCK   \n",
       "3         1997-02-27   1997-02-18    1997-03-12  DELIVER IN PERSON       SHIP   \n",
       "4         1997-03-13   1997-02-21    1997-04-06               NONE       RAIL   \n",
       "...              ...          ...           ...                ...        ...   \n",
       "59986047  1995-09-02   1995-07-14    1995-09-16  DELIVER IN PERSON       SHIP   \n",
       "59986048  1995-07-17   1995-08-26    1995-08-15               NONE       RAIL   \n",
       "59986049  1992-09-30   1992-09-21    1992-10-01   TAKE BACK RETURN       MAIL   \n",
       "59986050  1992-10-24   1992-08-26    1992-10-25   TAKE BACK RETURN      TRUCK   \n",
       "59986051  1992-07-28   1992-08-29    1992-08-22        COLLECT COD       SHIP   \n",
       "\n",
       "                                           L_COMMENT    count  \n",
       "0                                       oxes unwind   8569760  \n",
       "1                                   e across the bli  8566164  \n",
       "2                                   beans sleep care  8567549  \n",
       "3                           ual theodolites. careful  8571402  \n",
       "4                                    uickly along th  8571844  \n",
       "...                                              ...      ...  \n",
       "59986047           l foxes detect carefully. slyly r  8571402  \n",
       "59986048                                 ly final pa  8571844  \n",
       "59986049      ole carefully slyly final deposits. ca  8569053  \n",
       "59986050                                theodolites   8567549  \n",
       "59986051  e quickly express requests. bold requests   8571402  \n",
       "\n",
       "[59986052 rows x 17 columns]"
      ]
     },
     "execution_count": 10,
     "metadata": {},
     "output_type": "execute_result"
    }
   ],
   "source": [
    "snow_df.merge(native_df, on=\"L_SHIPMODE\")"
   ]
  },
  {
   "cell_type": "code",
   "execution_count": 8,
   "metadata": {},
   "outputs": [
    {
     "name": "stdout",
     "output_type": "stream",
     "text": [
      "Initiating login request with your identity provider. A browser window should have opened for you to complete the login. If you can't see it, check existing browser windows, or your OS settings. Press CTRL+C to abort and try again...\n",
      "Going to open: https://snowbiz.okta.com/app/snowflake/exk8wfsfryJIn4IWZ2p7/sso/saml?SAMLRequest=jVJdc9owEPwrHvXZlgykIRogQ0MozpBAMJApb8KWQUGWXJ0cQ399ZT4y6UMyfdOcdm%2F3bq9zu8%2Bl98YNCK26KAwI8rhKdCrUposW86HfRh5YplImteJddOCAbnsdYLksaL%2B0WzXjv0sO1nONFND6o4tKo6hmIIAqlnOgNqFx%2F3FMGwGhDIAb6%2BTQmZKCcFpbawuKcVVVQdUMtNngBiEEkxvsUDXkG%2FogUXytURhtdaLlhbJ3M30iEWLSqiUcwilMz8QfQp1W8JXK%2BgQCOprPp%2F50Es%2BR179Md6cVlDk3MTdvIuGL2fhkAJyD%2BGnyMpos4vsAlK4yyXY80XlRWtctcC%2Bc8RRLvRFuR9Ggi4qdSAd2uFTL3LD16iEO5fS%2BPRPZ6%2Ffxq9iS9fO%2Btbnu%2F1yLKh4dfiXIW14SbdSJRgAlj1Sdo3Ul0rjySdNvhvPwhl6FNAyDNiEr5A1cjkIxe2RezNYW1%2BJPoHeWHc2xosDvvjHf79pVBpk5PESqFb2sGsU1BtC4jgmdLoUeDZje%2F87fwR9Z52N7cvuPBlMtRXLwhtrkzH4eTxiEx4pI%2FewIpTxnQvbT1HAAF5OUuroznFl309aUHOHeSfXfq%2B79BQ%3D%3D&RelayState=ver%3A1-hint%3A2050348631518-ETMsDgAAAZXtwgm7ABRBRVMvQ0JDL1BLQ1M1UGFkZGluZwEAABAAENwVn%2Bozcq1R%2F6KQ1dne8tcAAACQYlhQW3I%2FvLXfTpWosdqCbX3XJFgiayo6WCbhx8OrBgxQOZXlaTVSfCfm0c4IqoQgaViIZJq8ZjzZCKNiYKNi05BKIXOfn4wbVs0YOAN6vWJkP81P9vD4taxe7nXBDpQMf5wGctew6wVrCA%2BxVHMmee1nultSipYpfjxKKK4VsqfZADPvBpmthFt7u5fMVIGXABRvY2KxMroPZryTp99Yxb6prryT7A%3D%3D to authenticate...\n"
     ]
    },
    {
     "ename": "SnowparkSQLException",
     "evalue": "(1304): 01bb61e7-080f-702e-0001-dd47a26ef3df: 002003 (42S02): SQL compilation error:\nObject 'SNOWPARK_TEMP_TABLE_AVZFAMGLDDREADONLY' does not exist or not authorized.",
     "output_type": "error",
     "traceback": [
      "\u001b[0;31m---------------------------------------------------------------------------\u001b[0m",
      "\u001b[0;31mSnowparkSQLException\u001b[0m                      Traceback (most recent call last)",
      "Cell \u001b[0;32mIn[8], line 1\u001b[0m\n\u001b[0;32m----> 1\u001b[0m \u001b[43msnow_df\u001b[49m\u001b[38;5;241;43m.\u001b[39;49m\u001b[43mdtypes\u001b[49m\n",
      "File \u001b[0;32m~/dev/modin/modin/pandas/dataframe.py:2630\u001b[0m, in \u001b[0;36mDataFrame.__getattribute__\u001b[0;34m(self, item)\u001b[0m\n\u001b[1;32m   2628\u001b[0m     \u001b[38;5;28;01mif\u001b[39;00m extensions_result \u001b[38;5;129;01mis\u001b[39;00m \u001b[38;5;129;01mnot\u001b[39;00m sentinel:\n\u001b[1;32m   2629\u001b[0m         \u001b[38;5;28;01mreturn\u001b[39;00m extensions_result\n\u001b[0;32m-> 2630\u001b[0m \u001b[38;5;28;01mreturn\u001b[39;00m \u001b[38;5;28;43msuper\u001b[39;49m\u001b[43m(\u001b[49m\u001b[43m)\u001b[49m\u001b[38;5;241;43m.\u001b[39;49m\u001b[38;5;21;43m__getattribute__\u001b[39;49m\u001b[43m(\u001b[49m\u001b[43mitem\u001b[49m\u001b[43m)\u001b[49m\n",
      "File \u001b[0;32m~/dev/modin/modin/pandas/base.py:4360\u001b[0m, in \u001b[0;36mBasePandasDataset.__getattribute__\u001b[0;34m(self, item)\u001b[0m\n\u001b[1;32m   4357\u001b[0m     \u001b[38;5;28;01mif\u001b[39;00m extensions_result \u001b[38;5;129;01mis\u001b[39;00m \u001b[38;5;129;01mnot\u001b[39;00m sentinel:\n\u001b[1;32m   4358\u001b[0m         \u001b[38;5;28;01mreturn\u001b[39;00m extensions_result\n\u001b[0;32m-> 4360\u001b[0m attr \u001b[38;5;241m=\u001b[39m \u001b[38;5;28;43msuper\u001b[39;49m\u001b[43m(\u001b[49m\u001b[43m)\u001b[49m\u001b[38;5;241;43m.\u001b[39;49m\u001b[38;5;21;43m__getattribute__\u001b[39;49m\u001b[43m(\u001b[49m\u001b[43mitem\u001b[49m\u001b[43m)\u001b[49m\n\u001b[1;32m   4361\u001b[0m \u001b[38;5;28;01mif\u001b[39;00m item \u001b[38;5;129;01mnot\u001b[39;00m \u001b[38;5;129;01min\u001b[39;00m _DEFAULT_BEHAVIOUR \u001b[38;5;129;01mand\u001b[39;00m \u001b[38;5;129;01mnot\u001b[39;00m \u001b[38;5;28mself\u001b[39m\u001b[38;5;241m.\u001b[39m_query_compiler\u001b[38;5;241m.\u001b[39mlazy_shape:\n\u001b[1;32m   4362\u001b[0m     \u001b[38;5;66;03m# We default to pandas on empty DataFrames. This avoids a large amount of\u001b[39;00m\n\u001b[1;32m   4363\u001b[0m     \u001b[38;5;66;03m# pain in underlying implementation and returns a result immediately rather\u001b[39;00m\n\u001b[1;32m   4364\u001b[0m     \u001b[38;5;66;03m# than dealing with the edge cases that empty DataFrames have.\u001b[39;00m\n\u001b[1;32m   4365\u001b[0m     \u001b[38;5;28;01mif\u001b[39;00m \u001b[38;5;28mcallable\u001b[39m(attr) \u001b[38;5;129;01mand\u001b[39;00m \u001b[38;5;28mself\u001b[39m\u001b[38;5;241m.\u001b[39mempty \u001b[38;5;129;01mand\u001b[39;00m \u001b[38;5;28mhasattr\u001b[39m(\u001b[38;5;28mself\u001b[39m\u001b[38;5;241m.\u001b[39m_pandas_class, item):\n",
      "File \u001b[0;32m~/dev/modin/modin/pandas/dataframe.py:363\u001b[0m, in \u001b[0;36mDataFrame.dtypes\u001b[0;34m(self)\u001b[0m\n\u001b[1;32m    358\u001b[0m \u001b[38;5;129m@property\u001b[39m\n\u001b[1;32m    359\u001b[0m \u001b[38;5;28;01mdef\u001b[39;00m \u001b[38;5;21mdtypes\u001b[39m(\u001b[38;5;28mself\u001b[39m) \u001b[38;5;241m-\u001b[39m\u001b[38;5;241m>\u001b[39m pandas\u001b[38;5;241m.\u001b[39mSeries:  \u001b[38;5;66;03m# noqa: RT01, D200\u001b[39;00m\n\u001b[1;32m    360\u001b[0m \u001b[38;5;250m    \u001b[39m\u001b[38;5;124;03m\"\"\"\u001b[39;00m\n\u001b[1;32m    361\u001b[0m \u001b[38;5;124;03m    Return the dtypes in the ``DataFrame``.\u001b[39;00m\n\u001b[1;32m    362\u001b[0m \u001b[38;5;124;03m    \"\"\"\u001b[39;00m\n\u001b[0;32m--> 363\u001b[0m     \u001b[38;5;28;01mreturn\u001b[39;00m \u001b[38;5;28;43mself\u001b[39;49m\u001b[38;5;241;43m.\u001b[39;49m\u001b[43m_query_compiler\u001b[49m\u001b[38;5;241;43m.\u001b[39;49m\u001b[43mdtypes\u001b[49m\n",
      "File \u001b[0;32m~/dev/snowpark-python/src/snowflake/snowpark/modin/plugin/compiler/snowflake_query_compiler.py:485\u001b[0m, in \u001b[0;36m_propagate_attrs_on_methods.<locals>.propagate_attrs_decorator.<locals>.wrap\u001b[0;34m(self, *args, **kwargs)\u001b[0m\n\u001b[1;32m    483\u001b[0m \u001b[38;5;129m@functools\u001b[39m\u001b[38;5;241m.\u001b[39mwraps(method)\n\u001b[1;32m    484\u001b[0m \u001b[38;5;28;01mdef\u001b[39;00m \u001b[38;5;21mwrap\u001b[39m(\u001b[38;5;28mself\u001b[39m, \u001b[38;5;241m*\u001b[39margs, \u001b[38;5;241m*\u001b[39m\u001b[38;5;241m*\u001b[39mkwargs):  \u001b[38;5;66;03m# type: ignore\u001b[39;00m\n\u001b[0;32m--> 485\u001b[0m     result \u001b[38;5;241m=\u001b[39m \u001b[43mmethod\u001b[49m\u001b[43m(\u001b[49m\u001b[38;5;28;43mself\u001b[39;49m\u001b[43m,\u001b[49m\u001b[43m \u001b[49m\u001b[38;5;241;43m*\u001b[39;49m\u001b[43margs\u001b[49m\u001b[43m,\u001b[49m\u001b[43m \u001b[49m\u001b[38;5;241;43m*\u001b[39;49m\u001b[38;5;241;43m*\u001b[39;49m\u001b[43mkwargs\u001b[49m\u001b[43m)\u001b[49m\n\u001b[1;32m    486\u001b[0m     \u001b[38;5;28;01mif\u001b[39;00m \u001b[38;5;28misinstance\u001b[39m(result, SnowflakeQueryCompiler) \u001b[38;5;129;01mand\u001b[39;00m \u001b[38;5;28mlen\u001b[39m(\u001b[38;5;28mself\u001b[39m\u001b[38;5;241m.\u001b[39m_attrs):\n\u001b[1;32m    487\u001b[0m         result\u001b[38;5;241m.\u001b[39m_attrs \u001b[38;5;241m=\u001b[39m copy\u001b[38;5;241m.\u001b[39mdeepcopy(\u001b[38;5;28mself\u001b[39m\u001b[38;5;241m.\u001b[39m_attrs)\n",
      "File \u001b[0;32m~/dev/snowpark-python/src/snowflake/snowpark/modin/plugin/compiler/snowflake_query_compiler.py:668\u001b[0m, in \u001b[0;36mSnowflakeQueryCompiler.dtypes\u001b[0;34m(self)\u001b[0m\n\u001b[1;32m    657\u001b[0m \u001b[38;5;129m@property\u001b[39m\n\u001b[1;32m    658\u001b[0m \u001b[38;5;28;01mdef\u001b[39;00m \u001b[38;5;21mdtypes\u001b[39m(\u001b[38;5;28mself\u001b[39m) \u001b[38;5;241m-\u001b[39m\u001b[38;5;241m>\u001b[39m native_pd\u001b[38;5;241m.\u001b[39mSeries:\n\u001b[1;32m    659\u001b[0m \u001b[38;5;250m    \u001b[39m\u001b[38;5;124;03m\"\"\"\u001b[39;00m\n\u001b[1;32m    660\u001b[0m \u001b[38;5;124;03m    Get columns dtypes.\u001b[39;00m\n\u001b[1;32m    661\u001b[0m \n\u001b[0;32m   (...)\u001b[0m\n\u001b[1;32m    665\u001b[0m \u001b[38;5;124;03m        Series with dtypes of each column.\u001b[39;00m\n\u001b[1;32m    666\u001b[0m \u001b[38;5;124;03m    \"\"\"\u001b[39;00m\n\u001b[1;32m    667\u001b[0m     \u001b[38;5;28;01mreturn\u001b[39;00m native_pd\u001b[38;5;241m.\u001b[39mSeries(\n\u001b[0;32m--> 668\u001b[0m         data\u001b[38;5;241m=\u001b[39m\u001b[38;5;28;43mself\u001b[39;49m\u001b[38;5;241;43m.\u001b[39;49m\u001b[43m_get_dtypes\u001b[49m\u001b[43m(\u001b[49m\n\u001b[1;32m    669\u001b[0m \u001b[43m            \u001b[49m\u001b[38;5;28;43mself\u001b[39;49m\u001b[38;5;241;43m.\u001b[39;49m\u001b[43m_modin_frame\u001b[49m\u001b[38;5;241;43m.\u001b[39;49m\u001b[43mdata_column_snowflake_quoted_identifiers\u001b[49m\n\u001b[1;32m    670\u001b[0m \u001b[43m        \u001b[49m\u001b[43m)\u001b[49m,\n\u001b[1;32m    671\u001b[0m         index\u001b[38;5;241m=\u001b[39m\u001b[38;5;28mself\u001b[39m\u001b[38;5;241m.\u001b[39m_modin_frame\u001b[38;5;241m.\u001b[39mdata_columns_index,\n\u001b[1;32m    672\u001b[0m         dtype\u001b[38;5;241m=\u001b[39m\u001b[38;5;28mobject\u001b[39m,\n\u001b[1;32m    673\u001b[0m     )\n",
      "File \u001b[0;32m~/dev/modin/modin/logging/logger_decorator.py:149\u001b[0m, in \u001b[0;36menable_logging.<locals>.decorator.<locals>.run_and_log\u001b[0;34m(*args, **kwargs)\u001b[0m\n\u001b[1;32m    147\u001b[0m start_time \u001b[38;5;241m=\u001b[39m perf_counter()\n\u001b[1;32m    148\u001b[0m \u001b[38;5;28;01mif\u001b[39;00m LogMode\u001b[38;5;241m.\u001b[39mget() \u001b[38;5;241m==\u001b[39m \u001b[38;5;124m\"\u001b[39m\u001b[38;5;124mdisable\u001b[39m\u001b[38;5;124m\"\u001b[39m:\n\u001b[0;32m--> 149\u001b[0m     result \u001b[38;5;241m=\u001b[39m \u001b[43mobj\u001b[49m\u001b[43m(\u001b[49m\u001b[38;5;241;43m*\u001b[39;49m\u001b[43margs\u001b[49m\u001b[43m,\u001b[49m\u001b[43m \u001b[49m\u001b[38;5;241;43m*\u001b[39;49m\u001b[38;5;241;43m*\u001b[39;49m\u001b[43mkwargs\u001b[49m\u001b[43m)\u001b[49m\n\u001b[1;32m    150\u001b[0m     emit_metric(metric_name, perf_counter() \u001b[38;5;241m-\u001b[39m start_time)\n\u001b[1;32m    151\u001b[0m     \u001b[38;5;28;01mreturn\u001b[39;00m result\n",
      "File \u001b[0;32m~/dev/modin/modin/core/storage_formats/pandas/query_compiler_caster.py:219\u001b[0m, in \u001b[0;36mapply_argument_cast.<locals>.cast_args\u001b[0;34m(*args, **kwargs)\u001b[0m\n\u001b[1;32m    216\u001b[0m current_backend \u001b[38;5;241m=\u001b[39m obj_or_cls\u001b[38;5;241m.\u001b[39mget_backend()\n\u001b[1;32m    218\u001b[0m \u001b[38;5;28;01mif\u001b[39;00m result_backend \u001b[38;5;241m==\u001b[39m current_backend:\n\u001b[0;32m--> 219\u001b[0m     \u001b[38;5;28;01mreturn\u001b[39;00m \u001b[43mobj\u001b[49m\u001b[43m(\u001b[49m\u001b[38;5;241;43m*\u001b[39;49m\u001b[43margs\u001b[49m\u001b[43m,\u001b[49m\u001b[43m \u001b[49m\u001b[38;5;241;43m*\u001b[39;49m\u001b[38;5;241;43m*\u001b[39;49m\u001b[43mkwargs\u001b[49m\u001b[43m)\u001b[49m\n\u001b[1;32m    221\u001b[0m \u001b[38;5;66;03m# Import moved inside the function to avoid cyclic import\u001b[39;00m\n\u001b[1;32m    222\u001b[0m \u001b[38;5;28;01mfrom\u001b[39;00m \u001b[38;5;21;01mmodin\u001b[39;00m\u001b[38;5;21;01m.\u001b[39;00m\u001b[38;5;21;01mcore\u001b[39;00m\u001b[38;5;21;01m.\u001b[39;00m\u001b[38;5;21;01mexecution\u001b[39;00m\u001b[38;5;21;01m.\u001b[39;00m\u001b[38;5;21;01mdispatching\u001b[39;00m\u001b[38;5;21;01m.\u001b[39;00m\u001b[38;5;21;01mfactories\u001b[39;00m\u001b[38;5;21;01m.\u001b[39;00m\u001b[38;5;21;01mdispatcher\u001b[39;00m \u001b[38;5;28;01mimport\u001b[39;00m (\n\u001b[1;32m    223\u001b[0m     FactoryDispatcher,\n\u001b[1;32m    224\u001b[0m )\n",
      "File \u001b[0;32m~/dev/snowpark-python/src/snowflake/snowpark/modin/plugin/compiler/snowflake_query_compiler.py:645\u001b[0m, in \u001b[0;36mSnowflakeQueryCompiler._get_dtypes\u001b[0;34m(self, snowflake_quoted_identifiers)\u001b[0m\n\u001b[1;32m    633\u001b[0m \u001b[38;5;28;01mdef\u001b[39;00m \u001b[38;5;21m_get_dtypes\u001b[39m(\n\u001b[1;32m    634\u001b[0m     \u001b[38;5;28mself\u001b[39m, snowflake_quoted_identifiers: List[\u001b[38;5;28mstr\u001b[39m]\n\u001b[1;32m    635\u001b[0m ) \u001b[38;5;241m-\u001b[39m\u001b[38;5;241m>\u001b[39m List[Union[np\u001b[38;5;241m.\u001b[39mdtype, ExtensionDtype]]:\n\u001b[1;32m    636\u001b[0m \u001b[38;5;250m    \u001b[39m\u001b[38;5;124;03m\"\"\"\u001b[39;00m\n\u001b[1;32m    637\u001b[0m \u001b[38;5;124;03m    Get dtypes for the input columns.\u001b[39;00m\n\u001b[1;32m    638\u001b[0m \n\u001b[0;32m   (...)\u001b[0m\n\u001b[1;32m    643\u001b[0m \u001b[38;5;124;03m        a list of the dtypes.\u001b[39;00m\n\u001b[1;32m    644\u001b[0m \u001b[38;5;124;03m    \"\"\"\u001b[39;00m\n\u001b[0;32m--> 645\u001b[0m     type_map \u001b[38;5;241m=\u001b[39m \u001b[38;5;28;43mself\u001b[39;49m\u001b[38;5;241;43m.\u001b[39;49m\u001b[43m_modin_frame\u001b[49m\u001b[38;5;241;43m.\u001b[39;49m\u001b[43mquoted_identifier_to_snowflake_type\u001b[49m\u001b[43m(\u001b[49m\n\u001b[1;32m    646\u001b[0m \u001b[43m        \u001b[49m\u001b[43msnowflake_quoted_identifiers\u001b[49m\n\u001b[1;32m    647\u001b[0m \u001b[43m    \u001b[49m\u001b[43m)\u001b[49m\n\u001b[1;32m    648\u001b[0m     \u001b[38;5;28;01mreturn\u001b[39;00m [\n\u001b[1;32m    649\u001b[0m         \u001b[38;5;28mself\u001b[39m\u001b[38;5;241m.\u001b[39m_modin_frame\u001b[38;5;241m.\u001b[39mget_datetime64tz_from_timestamp_tz(i)\n\u001b[1;32m    650\u001b[0m         \u001b[38;5;28;01mif\u001b[39;00m t \u001b[38;5;241m==\u001b[39m TimestampType(TimestampTimeZone\u001b[38;5;241m.\u001b[39mTZ)\n\u001b[0;32m   (...)\u001b[0m\n\u001b[1;32m    654\u001b[0m         \u001b[38;5;28;01mfor\u001b[39;00m i, t \u001b[38;5;129;01min\u001b[39;00m type_map\u001b[38;5;241m.\u001b[39mitems()\n\u001b[1;32m    655\u001b[0m     ]\n",
      "File \u001b[0;32m~/dev/snowpark-python/src/snowflake/snowpark/modin/plugin/_internal/frame.py:409\u001b[0m, in \u001b[0;36mInternalFrame.quoted_identifier_to_snowflake_type\u001b[0;34m(self, identifiers)\u001b[0m\n\u001b[1;32m    405\u001b[0m         \u001b[38;5;28;01mreturn\u001b[39;00m cached_types\n\u001b[1;32m    407\u001b[0m all_identifier_to_type \u001b[38;5;241m=\u001b[39m {}\n\u001b[0;32m--> 409\u001b[0m \u001b[38;5;28;01mfor\u001b[39;00m f \u001b[38;5;129;01min\u001b[39;00m \u001b[38;5;28;43mself\u001b[39;49m\u001b[38;5;241;43m.\u001b[39;49m\u001b[43mordered_dataframe\u001b[49m\u001b[38;5;241;43m.\u001b[39;49m\u001b[43mschema\u001b[49m\u001b[38;5;241m.\u001b[39mfields:\n\u001b[1;32m    410\u001b[0m     \u001b[38;5;28mid\u001b[39m \u001b[38;5;241m=\u001b[39m f\u001b[38;5;241m.\u001b[39mcolumn_identifier\u001b[38;5;241m.\u001b[39mquoted_name\n\u001b[1;32m    411\u001b[0m     cached_type \u001b[38;5;241m=\u001b[39m snowpark_pandas_type_mapping\u001b[38;5;241m.\u001b[39mget(\u001b[38;5;28mid\u001b[39m, \u001b[38;5;28;01mNone\u001b[39;00m)\n",
      "File \u001b[0;32m~/dev/snowpark-python/src/snowflake/snowpark/modin/plugin/_internal/ordered_dataframe.py:467\u001b[0m, in \u001b[0;36mOrderedDataFrame.schema\u001b[0;34m(self)\u001b[0m\n\u001b[1;32m    462\u001b[0m \u001b[38;5;129m@property\u001b[39m\n\u001b[1;32m    463\u001b[0m \u001b[38;5;28;01mdef\u001b[39;00m \u001b[38;5;21mschema\u001b[39m(\u001b[38;5;28mself\u001b[39m) \u001b[38;5;241m-\u001b[39m\u001b[38;5;241m>\u001b[39m StructType:\n\u001b[1;32m    464\u001b[0m \u001b[38;5;250m    \u001b[39m\u001b[38;5;124;03m\"\"\"Get the schema of OrderedDataFrame. It only includes the schema of projected columns.\"\"\"\u001b[39;00m\n\u001b[1;32m    465\u001b[0m     quoted_identifier_to_field_mapping \u001b[38;5;241m=\u001b[39m {\n\u001b[1;32m    466\u001b[0m         field\u001b[38;5;241m.\u001b[39mcolumn_identifier\u001b[38;5;241m.\u001b[39mquoted_name: field\n\u001b[0;32m--> 467\u001b[0m         \u001b[38;5;28;01mfor\u001b[39;00m field \u001b[38;5;129;01min\u001b[39;00m \u001b[38;5;28;43mself\u001b[39;49m\u001b[38;5;241;43m.\u001b[39;49m\u001b[43m_dataframe_ref\u001b[49m\u001b[38;5;241;43m.\u001b[39;49m\u001b[43mschema\u001b[49m\u001b[38;5;241m.\u001b[39mfields\n\u001b[1;32m    468\u001b[0m     }\n\u001b[1;32m    469\u001b[0m     \u001b[38;5;28;01mreturn\u001b[39;00m StructType(\n\u001b[1;32m    470\u001b[0m         [\n\u001b[1;32m    471\u001b[0m             quoted_identifier_to_field_mapping[identifier]\n\u001b[0;32m   (...)\u001b[0m\n\u001b[1;32m    474\u001b[0m         ]\n\u001b[1;32m    475\u001b[0m     )\n",
      "File \u001b[0;32m~/dev/snowpark-python/src/snowflake/snowpark/modin/plugin/_internal/ordered_dataframe.py:157\u001b[0m, in \u001b[0;36mDataFrameReference.schema\u001b[0;34m(self)\u001b[0m\n\u001b[1;32m    149\u001b[0m \u001b[38;5;129m@property\u001b[39m\n\u001b[1;32m    150\u001b[0m \u001b[38;5;28;01mdef\u001b[39;00m \u001b[38;5;21mschema\u001b[39m(\u001b[38;5;28mself\u001b[39m) \u001b[38;5;241m-\u001b[39m\u001b[38;5;241m>\u001b[39m StructType:\n\u001b[1;32m    151\u001b[0m \u001b[38;5;250m    \u001b[39m\u001b[38;5;124;03m\"\"\"\u001b[39;00m\n\u001b[1;32m    152\u001b[0m \u001b[38;5;124;03m    Get the schema of the referenced SnowparkDataFrame.\u001b[39;00m\n\u001b[1;32m    153\u001b[0m \n\u001b[1;32m    154\u001b[0m \u001b[38;5;124;03m    Returns:\u001b[39;00m\n\u001b[1;32m    155\u001b[0m \u001b[38;5;124;03m        StructType: The schema of the referenced SnowparkDataFrame.\u001b[39;00m\n\u001b[1;32m    156\u001b[0m \u001b[38;5;124;03m    \"\"\"\u001b[39;00m\n\u001b[0;32m--> 157\u001b[0m     \u001b[38;5;28;01mreturn\u001b[39;00m \u001b[38;5;28;43mself\u001b[39;49m\u001b[38;5;241;43m.\u001b[39;49m\u001b[43msnowpark_dataframe\u001b[49m\u001b[38;5;241;43m.\u001b[39;49m\u001b[43mschema\u001b[49m\n",
      "File \u001b[0;32m~/anaconda3/envs/snowpandas-dev-test/lib/python3.9/functools.py:993\u001b[0m, in \u001b[0;36mcached_property.__get__\u001b[0;34m(self, instance, owner)\u001b[0m\n\u001b[1;32m    991\u001b[0m val \u001b[38;5;241m=\u001b[39m cache\u001b[38;5;241m.\u001b[39mget(\u001b[38;5;28mself\u001b[39m\u001b[38;5;241m.\u001b[39mattrname, _NOT_FOUND)\n\u001b[1;32m    992\u001b[0m \u001b[38;5;28;01mif\u001b[39;00m val \u001b[38;5;129;01mis\u001b[39;00m _NOT_FOUND:\n\u001b[0;32m--> 993\u001b[0m     val \u001b[38;5;241m=\u001b[39m \u001b[38;5;28;43mself\u001b[39;49m\u001b[38;5;241;43m.\u001b[39;49m\u001b[43mfunc\u001b[49m\u001b[43m(\u001b[49m\u001b[43minstance\u001b[49m\u001b[43m)\u001b[49m\n\u001b[1;32m    994\u001b[0m     \u001b[38;5;28;01mtry\u001b[39;00m:\n\u001b[1;32m    995\u001b[0m         cache[\u001b[38;5;28mself\u001b[39m\u001b[38;5;241m.\u001b[39mattrname] \u001b[38;5;241m=\u001b[39m val\n",
      "File \u001b[0;32m~/dev/snowpark-python/src/snowflake/snowpark/dataframe.py:6106\u001b[0m, in \u001b[0;36mDataFrame.schema\u001b[0;34m(self)\u001b[0m\n\u001b[1;32m   6101\u001b[0m \u001b[38;5;129m@cached_property\u001b[39m\n\u001b[1;32m   6102\u001b[0m \u001b[38;5;28;01mdef\u001b[39;00m \u001b[38;5;21mschema\u001b[39m(\u001b[38;5;28mself\u001b[39m) \u001b[38;5;241m-\u001b[39m\u001b[38;5;241m>\u001b[39m StructType:\n\u001b[1;32m   6103\u001b[0m \u001b[38;5;250m    \u001b[39m\u001b[38;5;124;03m\"\"\"The definition of the columns in this DataFrame (the \"relational schema\" for\u001b[39;00m\n\u001b[1;32m   6104\u001b[0m \u001b[38;5;124;03m    the DataFrame).\u001b[39;00m\n\u001b[1;32m   6105\u001b[0m \u001b[38;5;124;03m    \"\"\"\u001b[39;00m\n\u001b[0;32m-> 6106\u001b[0m     \u001b[38;5;28;01mreturn\u001b[39;00m StructType\u001b[38;5;241m.\u001b[39m_from_attributes(\u001b[38;5;28;43mself\u001b[39;49m\u001b[38;5;241;43m.\u001b[39;49m\u001b[43m_plan\u001b[49m\u001b[38;5;241;43m.\u001b[39;49m\u001b[43mattributes\u001b[49m)\n",
      "File \u001b[0;32m~/dev/snowpark-python/src/snowflake/snowpark/_internal/analyzer/snowflake_plan.py:372\u001b[0m, in \u001b[0;36mSnowflakePlan.attributes\u001b[0;34m(self)\u001b[0m\n\u001b[1;32m    368\u001b[0m     \u001b[38;5;28;01mreturn\u001b[39;00m \u001b[38;5;28mself\u001b[39m\u001b[38;5;241m.\u001b[39m_metadata\u001b[38;5;241m.\u001b[39mattributes\n\u001b[1;32m    369\u001b[0m \u001b[38;5;28;01massert\u001b[39;00m (\n\u001b[1;32m    370\u001b[0m     \u001b[38;5;28mself\u001b[39m\u001b[38;5;241m.\u001b[39mschema_query \u001b[38;5;129;01mis\u001b[39;00m \u001b[38;5;129;01mnot\u001b[39;00m \u001b[38;5;28;01mNone\u001b[39;00m\n\u001b[1;32m    371\u001b[0m ), \u001b[38;5;124m\"\u001b[39m\u001b[38;5;124mNo schema query is available for the SnowflakePlan\u001b[39m\u001b[38;5;124m\"\u001b[39m\n\u001b[0;32m--> 372\u001b[0m attributes \u001b[38;5;241m=\u001b[39m \u001b[43manalyze_attributes\u001b[49m\u001b[43m(\u001b[49m\u001b[38;5;28;43mself\u001b[39;49m\u001b[38;5;241;43m.\u001b[39;49m\u001b[43mschema_query\u001b[49m\u001b[43m,\u001b[49m\u001b[43m \u001b[49m\u001b[38;5;28;43mself\u001b[39;49m\u001b[38;5;241;43m.\u001b[39;49m\u001b[43msession\u001b[49m\u001b[43m)\u001b[49m\n\u001b[1;32m    373\u001b[0m \u001b[38;5;28mself\u001b[39m\u001b[38;5;241m.\u001b[39m_metadata \u001b[38;5;241m=\u001b[39m PlanMetadata(attributes\u001b[38;5;241m=\u001b[39mattributes, quoted_identifiers\u001b[38;5;241m=\u001b[39m\u001b[38;5;28;01mNone\u001b[39;00m)\n\u001b[1;32m    374\u001b[0m \u001b[38;5;66;03m# We need to cache attributes on SelectStatement too because df._plan is not\u001b[39;00m\n\u001b[1;32m    375\u001b[0m \u001b[38;5;66;03m# carried over to next SelectStatement (e.g., check the implementation of df.filter()).\u001b[39;00m\n",
      "File \u001b[0;32m~/dev/snowpark-python/src/snowflake/snowpark/_internal/analyzer/schema_utils.py:98\u001b[0m, in \u001b[0;36manalyze_attributes\u001b[0;34m(sql, session)\u001b[0m\n\u001b[1;32m     96\u001b[0m stack_trace \u001b[38;5;241m=\u001b[39m [frame\u001b[38;5;241m.\u001b[39mline \u001b[38;5;28;01mfor\u001b[39;00m frame \u001b[38;5;129;01min\u001b[39;00m stack] \u001b[38;5;28;01mif\u001b[39;00m \u001b[38;5;28mlen\u001b[39m(stack) \u001b[38;5;241m>\u001b[39m \u001b[38;5;241m0\u001b[39m \u001b[38;5;28;01melse\u001b[39;00m \u001b[38;5;28;01mNone\u001b[39;00m\n\u001b[1;32m     97\u001b[0m start_time \u001b[38;5;241m=\u001b[39m time\u001b[38;5;241m.\u001b[39mtime()\n\u001b[0;32m---> 98\u001b[0m attributes \u001b[38;5;241m=\u001b[39m \u001b[43msession\u001b[49m\u001b[38;5;241;43m.\u001b[39;49m\u001b[43m_get_result_attributes\u001b[49m\u001b[43m(\u001b[49m\u001b[43msql\u001b[49m\u001b[43m)\u001b[49m\n\u001b[1;32m     99\u001b[0m e2e_time \u001b[38;5;241m=\u001b[39m time\u001b[38;5;241m.\u001b[39mtime() \u001b[38;5;241m-\u001b[39m start_time\n\u001b[1;32m    100\u001b[0m session\u001b[38;5;241m.\u001b[39m_conn\u001b[38;5;241m.\u001b[39m_telemetry_client\u001b[38;5;241m.\u001b[39msend_describe_query_details(\n\u001b[1;32m    101\u001b[0m     session\u001b[38;5;241m.\u001b[39m_session_id, sql, e2e_time, stack_trace\n\u001b[1;32m    102\u001b[0m )\n",
      "File \u001b[0;32m~/dev/snowpark-python/src/snowflake/snowpark/session.py:2742\u001b[0m, in \u001b[0;36mSession._get_result_attributes\u001b[0;34m(self, query)\u001b[0m\n\u001b[1;32m   2741\u001b[0m \u001b[38;5;28;01mdef\u001b[39;00m \u001b[38;5;21m_get_result_attributes\u001b[39m(\u001b[38;5;28mself\u001b[39m, query: \u001b[38;5;28mstr\u001b[39m) \u001b[38;5;241m-\u001b[39m\u001b[38;5;241m>\u001b[39m List[Attribute]:\n\u001b[0;32m-> 2742\u001b[0m     \u001b[38;5;28;01mreturn\u001b[39;00m \u001b[38;5;28;43mself\u001b[39;49m\u001b[38;5;241;43m.\u001b[39;49m\u001b[43m_conn\u001b[49m\u001b[38;5;241;43m.\u001b[39;49m\u001b[43mget_result_attributes\u001b[49m\u001b[43m(\u001b[49m\u001b[43mquery\u001b[49m\u001b[43m)\u001b[49m\n",
      "File \u001b[0;32m~/dev/snowpark-python/src/snowflake/snowpark/_internal/analyzer/snowflake_plan.py:211\u001b[0m, in \u001b[0;36mSnowflakePlan.Decorator.wrap_exception.<locals>.wrap\u001b[0;34m(*args, **kwargs)\u001b[0m\n\u001b[1;32m    207\u001b[0m \u001b[38;5;28;01melse\u001b[39;00m:\n\u001b[1;32m    208\u001b[0m     ne \u001b[38;5;241m=\u001b[39m SnowparkClientExceptionMessages\u001b[38;5;241m.\u001b[39mSQL_EXCEPTION_FROM_PROGRAMMING_ERROR(\n\u001b[1;32m    209\u001b[0m         e\n\u001b[1;32m    210\u001b[0m     )\n\u001b[0;32m--> 211\u001b[0m     \u001b[38;5;28;01mraise\u001b[39;00m ne\u001b[38;5;241m.\u001b[39mwith_traceback(tb) \u001b[38;5;28;01mfrom\u001b[39;00m \u001b[38;5;28;01mNone\u001b[39;00m\n",
      "File \u001b[0;32m~/dev/snowpark-python/src/snowflake/snowpark/_internal/analyzer/snowflake_plan.py:142\u001b[0m, in \u001b[0;36mSnowflakePlan.Decorator.wrap_exception.<locals>.wrap\u001b[0;34m(*args, **kwargs)\u001b[0m\n\u001b[1;32m    140\u001b[0m \u001b[38;5;28;01mdef\u001b[39;00m \u001b[38;5;21mwrap\u001b[39m(\u001b[38;5;241m*\u001b[39margs, \u001b[38;5;241m*\u001b[39m\u001b[38;5;241m*\u001b[39mkwargs):\n\u001b[1;32m    141\u001b[0m     \u001b[38;5;28;01mtry\u001b[39;00m:\n\u001b[0;32m--> 142\u001b[0m         \u001b[38;5;28;01mreturn\u001b[39;00m \u001b[43mfunc\u001b[49m\u001b[43m(\u001b[49m\u001b[38;5;241;43m*\u001b[39;49m\u001b[43margs\u001b[49m\u001b[43m,\u001b[49m\u001b[43m \u001b[49m\u001b[38;5;241;43m*\u001b[39;49m\u001b[38;5;241;43m*\u001b[39;49m\u001b[43mkwargs\u001b[49m\u001b[43m)\u001b[49m\n\u001b[1;32m    143\u001b[0m     \u001b[38;5;28;01mexcept\u001b[39;00m snowflake\u001b[38;5;241m.\u001b[39mconnector\u001b[38;5;241m.\u001b[39merrors\u001b[38;5;241m.\u001b[39mProgrammingError \u001b[38;5;28;01mas\u001b[39;00m e:\n\u001b[1;32m    144\u001b[0m         query \u001b[38;5;241m=\u001b[39m \u001b[38;5;28mgetattr\u001b[39m(e, \u001b[38;5;124m\"\u001b[39m\u001b[38;5;124mquery\u001b[39m\u001b[38;5;124m\"\u001b[39m, \u001b[38;5;28;01mNone\u001b[39;00m)\n",
      "File \u001b[0;32m~/dev/snowpark-python/src/snowflake/snowpark/_internal/server_connection.py:272\u001b[0m, in \u001b[0;36mServerConnection.get_result_attributes\u001b[0;34m(self, query)\u001b[0m\n\u001b[1;32m    269\u001b[0m \u001b[38;5;129m@SnowflakePlan\u001b[39m\u001b[38;5;241m.\u001b[39mDecorator\u001b[38;5;241m.\u001b[39mwrap_exception\n\u001b[1;32m    270\u001b[0m \u001b[38;5;28;01mdef\u001b[39;00m \u001b[38;5;21mget_result_attributes\u001b[39m(\u001b[38;5;28mself\u001b[39m, query: \u001b[38;5;28mstr\u001b[39m) \u001b[38;5;241m-\u001b[39m\u001b[38;5;241m>\u001b[39m List[Attribute]:\n\u001b[1;32m    271\u001b[0m     \u001b[38;5;28;01mreturn\u001b[39;00m convert_result_meta_to_attribute(\n\u001b[0;32m--> 272\u001b[0m         \u001b[38;5;28;43mself\u001b[39;49m\u001b[38;5;241;43m.\u001b[39;49m\u001b[43m_run_new_describe\u001b[49m\u001b[43m(\u001b[49m\u001b[38;5;28;43mself\u001b[39;49m\u001b[38;5;241;43m.\u001b[39;49m\u001b[43m_cursor\u001b[49m\u001b[43m,\u001b[49m\u001b[43m \u001b[49m\u001b[43mquery\u001b[49m\u001b[43m)\u001b[49m, \u001b[38;5;28mself\u001b[39m\u001b[38;5;241m.\u001b[39mmax_string_size\n\u001b[1;32m    273\u001b[0m     )\n",
      "File \u001b[0;32m~/dev/snowpark-python/src/snowflake/snowpark/_internal/server_connection.py:278\u001b[0m, in \u001b[0;36mServerConnection._run_new_describe\u001b[0;34m(self, cursor, query, **kwargs)\u001b[0m\n\u001b[1;32m    275\u001b[0m \u001b[38;5;28;01mdef\u001b[39;00m \u001b[38;5;21m_run_new_describe\u001b[39m(\n\u001b[1;32m    276\u001b[0m     \u001b[38;5;28mself\u001b[39m, cursor: SnowflakeCursor, query: \u001b[38;5;28mstr\u001b[39m, \u001b[38;5;241m*\u001b[39m\u001b[38;5;241m*\u001b[39mkwargs: \u001b[38;5;28mdict\u001b[39m\n\u001b[1;32m    277\u001b[0m ) \u001b[38;5;241m-\u001b[39m\u001b[38;5;241m>\u001b[39m Union[List[ResultMetadata], List[\u001b[38;5;124m\"\u001b[39m\u001b[38;5;124mResultMetadataV2\u001b[39m\u001b[38;5;124m\"\u001b[39m]]:\n\u001b[0;32m--> 278\u001b[0m     result_metadata \u001b[38;5;241m=\u001b[39m \u001b[43mrun_new_describe\u001b[49m\u001b[43m(\u001b[49m\u001b[43mcursor\u001b[49m\u001b[43m,\u001b[49m\u001b[43m \u001b[49m\u001b[43mquery\u001b[49m\u001b[43m)\u001b[49m\n\u001b[1;32m    280\u001b[0m     \u001b[38;5;28;01mwith\u001b[39;00m \u001b[38;5;28mself\u001b[39m\u001b[38;5;241m.\u001b[39m_lock:\n\u001b[1;32m    281\u001b[0m         \u001b[38;5;28;01mfor\u001b[39;00m listener \u001b[38;5;129;01min\u001b[39;00m \u001b[38;5;28mfilter\u001b[39m(\n\u001b[1;32m    282\u001b[0m             \u001b[38;5;28;01mlambda\u001b[39;00m listener: \u001b[38;5;28mhasattr\u001b[39m(listener, \u001b[38;5;124m\"\u001b[39m\u001b[38;5;124minclude_describe\u001b[39m\u001b[38;5;124m\"\u001b[39m)\n\u001b[1;32m    283\u001b[0m             \u001b[38;5;129;01mand\u001b[39;00m listener\u001b[38;5;241m.\u001b[39minclude_describe,\n\u001b[1;32m    284\u001b[0m             \u001b[38;5;28mself\u001b[39m\u001b[38;5;241m.\u001b[39m_query_listeners,\n\u001b[1;32m    285\u001b[0m         ):\n",
      "File \u001b[0;32m~/dev/snowpark-python/src/snowflake/snowpark/_internal/analyzer/schema_utils.py:158\u001b[0m, in \u001b[0;36mrun_new_describe\u001b[0;34m(cursor, query)\u001b[0m\n\u001b[1;32m    153\u001b[0m \u001b[38;5;66;03m# ResultMetadataV2 may not currently be a type, depending on the connector\u001b[39;00m\n\u001b[1;32m    154\u001b[0m \u001b[38;5;66;03m# version, so the argument types are pyright ignored\u001b[39;00m\n\u001b[1;32m    156\u001b[0m \u001b[38;5;28;01mif\u001b[39;00m \u001b[38;5;28mhasattr\u001b[39m(cursor, \u001b[38;5;124m\"\u001b[39m\u001b[38;5;124m_describe_internal\u001b[39m\u001b[38;5;124m\"\u001b[39m):\n\u001b[1;32m    157\u001b[0m     \u001b[38;5;66;03m# Pyright does not perform narrowing here\u001b[39;00m\n\u001b[0;32m--> 158\u001b[0m     \u001b[38;5;28;01mreturn\u001b[39;00m \u001b[43mcursor\u001b[49m\u001b[38;5;241;43m.\u001b[39;49m\u001b[43m_describe_internal\u001b[49m\u001b[43m(\u001b[49m\u001b[43mquery\u001b[49m\u001b[43m)\u001b[49m  \u001b[38;5;66;03m# pyright: ignore\u001b[39;00m\n\u001b[1;32m    159\u001b[0m \u001b[38;5;28;01melse\u001b[39;00m:\n\u001b[1;32m    160\u001b[0m     \u001b[38;5;28;01mreturn\u001b[39;00m cursor\u001b[38;5;241m.\u001b[39mdescribe(query)\n",
      "File \u001b[0;32m~/anaconda3/envs/snowpandas-dev-test/lib/python3.9/site-packages/snowflake/connector/cursor.py:1144\u001b[0m, in \u001b[0;36mSnowflakeCursor._describe_internal\u001b[0;34m(self, *args, **kwargs)\u001b[0m\n\u001b[1;32m   1133\u001b[0m \u001b[38;5;250m\u001b[39m\u001b[38;5;124;03m\"\"\"Obtain the schema of the result without executing the query.\u001b[39;00m\n\u001b[1;32m   1134\u001b[0m \n\u001b[1;32m   1135\u001b[0m \u001b[38;5;124;03mThis function takes the same arguments as execute, please refer to that function\u001b[39;00m\n\u001b[0;32m   (...)\u001b[0m\n\u001b[1;32m   1141\u001b[0m \u001b[38;5;124;03m    The schema of the result, in the new result metadata format.\u001b[39;00m\n\u001b[1;32m   1142\u001b[0m \u001b[38;5;124;03m\"\"\"\u001b[39;00m\n\u001b[1;32m   1143\u001b[0m kwargs[\u001b[38;5;124m\"\u001b[39m\u001b[38;5;124m_describe_only\u001b[39m\u001b[38;5;124m\"\u001b[39m] \u001b[38;5;241m=\u001b[39m kwargs[\u001b[38;5;124m\"\u001b[39m\u001b[38;5;124m_is_internal\u001b[39m\u001b[38;5;124m\"\u001b[39m] \u001b[38;5;241m=\u001b[39m \u001b[38;5;28;01mTrue\u001b[39;00m\n\u001b[0;32m-> 1144\u001b[0m \u001b[38;5;28;43mself\u001b[39;49m\u001b[38;5;241;43m.\u001b[39;49m\u001b[43mexecute\u001b[49m\u001b[43m(\u001b[49m\u001b[38;5;241;43m*\u001b[39;49m\u001b[43margs\u001b[49m\u001b[43m,\u001b[49m\u001b[43m \u001b[49m\u001b[38;5;241;43m*\u001b[39;49m\u001b[38;5;241;43m*\u001b[39;49m\u001b[43mkwargs\u001b[49m\u001b[43m)\u001b[49m\n\u001b[1;32m   1145\u001b[0m \u001b[38;5;28;01mreturn\u001b[39;00m \u001b[38;5;28mself\u001b[39m\u001b[38;5;241m.\u001b[39m_description\n",
      "File \u001b[0;32m~/anaconda3/envs/snowpandas-dev-test/lib/python3.9/site-packages/snowflake/connector/cursor.py:1104\u001b[0m, in \u001b[0;36mSnowflakeCursor.execute\u001b[0;34m(self, command, params, _bind_stage, timeout, _exec_async, _no_retry, _do_reset, _put_callback, _put_azure_callback, _put_callback_output_stream, _get_callback, _get_azure_callback, _get_callback_output_stream, _show_progress_bar, _statement_params, _is_internal, _describe_only, _no_results, _is_put_get, _raise_put_get_error, _force_put_overwrite, _skip_upload_on_content_match, file_stream, num_statements, _force_qmark_paramstyle, _dataframe_ast)\u001b[0m\n\u001b[1;32m   1100\u001b[0m     is_integrity_error \u001b[38;5;241m=\u001b[39m (\n\u001b[1;32m   1101\u001b[0m         code \u001b[38;5;241m==\u001b[39m \u001b[38;5;124m\"\u001b[39m\u001b[38;5;124m100072\u001b[39m\u001b[38;5;124m\"\u001b[39m\n\u001b[1;32m   1102\u001b[0m     )  \u001b[38;5;66;03m# NULL result in a non-nullable column\u001b[39;00m\n\u001b[1;32m   1103\u001b[0m     error_class \u001b[38;5;241m=\u001b[39m IntegrityError \u001b[38;5;28;01mif\u001b[39;00m is_integrity_error \u001b[38;5;28;01melse\u001b[39;00m ProgrammingError\n\u001b[0;32m-> 1104\u001b[0m     \u001b[43mError\u001b[49m\u001b[38;5;241;43m.\u001b[39;49m\u001b[43merrorhandler_wrapper\u001b[49m\u001b[43m(\u001b[49m\u001b[38;5;28;43mself\u001b[39;49m\u001b[38;5;241;43m.\u001b[39;49m\u001b[43mconnection\u001b[49m\u001b[43m,\u001b[49m\u001b[43m \u001b[49m\u001b[38;5;28;43mself\u001b[39;49m\u001b[43m,\u001b[49m\u001b[43m \u001b[49m\u001b[43merror_class\u001b[49m\u001b[43m,\u001b[49m\u001b[43m \u001b[49m\u001b[43merrvalue\u001b[49m\u001b[43m)\u001b[49m\n\u001b[1;32m   1105\u001b[0m \u001b[38;5;28;01mreturn\u001b[39;00m \u001b[38;5;28mself\u001b[39m\n",
      "File \u001b[0;32m~/anaconda3/envs/snowpandas-dev-test/lib/python3.9/site-packages/snowflake/connector/errors.py:283\u001b[0m, in \u001b[0;36mError.errorhandler_wrapper\u001b[0;34m(connection, cursor, error_class, error_value)\u001b[0m\n\u001b[1;32m    260\u001b[0m \u001b[38;5;129m@staticmethod\u001b[39m\n\u001b[1;32m    261\u001b[0m \u001b[38;5;28;01mdef\u001b[39;00m \u001b[38;5;21merrorhandler_wrapper\u001b[39m(\n\u001b[1;32m    262\u001b[0m     connection: SnowflakeConnection \u001b[38;5;241m|\u001b[39m \u001b[38;5;28;01mNone\u001b[39;00m,\n\u001b[0;32m   (...)\u001b[0m\n\u001b[1;32m    265\u001b[0m     error_value: \u001b[38;5;28mdict\u001b[39m[\u001b[38;5;28mstr\u001b[39m, Any],\n\u001b[1;32m    266\u001b[0m ) \u001b[38;5;241m-\u001b[39m\u001b[38;5;241m>\u001b[39m \u001b[38;5;28;01mNone\u001b[39;00m:\n\u001b[1;32m    267\u001b[0m \u001b[38;5;250m    \u001b[39m\u001b[38;5;124;03m\"\"\"Error handler wrapper that calls the errorhandler method.\u001b[39;00m\n\u001b[1;32m    268\u001b[0m \n\u001b[1;32m    269\u001b[0m \u001b[38;5;124;03m    Args:\u001b[39;00m\n\u001b[0;32m   (...)\u001b[0m\n\u001b[1;32m    280\u001b[0m \u001b[38;5;124;03m        exception to the first handler in that order.\u001b[39;00m\n\u001b[1;32m    281\u001b[0m \u001b[38;5;124;03m    \"\"\"\u001b[39;00m\n\u001b[0;32m--> 283\u001b[0m     handed_over \u001b[38;5;241m=\u001b[39m \u001b[43mError\u001b[49m\u001b[38;5;241;43m.\u001b[39;49m\u001b[43mhand_to_other_handler\u001b[49m\u001b[43m(\u001b[49m\n\u001b[1;32m    284\u001b[0m \u001b[43m        \u001b[49m\u001b[43mconnection\u001b[49m\u001b[43m,\u001b[49m\n\u001b[1;32m    285\u001b[0m \u001b[43m        \u001b[49m\u001b[43mcursor\u001b[49m\u001b[43m,\u001b[49m\n\u001b[1;32m    286\u001b[0m \u001b[43m        \u001b[49m\u001b[43merror_class\u001b[49m\u001b[43m,\u001b[49m\n\u001b[1;32m    287\u001b[0m \u001b[43m        \u001b[49m\u001b[43merror_value\u001b[49m\u001b[43m,\u001b[49m\n\u001b[1;32m    288\u001b[0m \u001b[43m    \u001b[49m\u001b[43m)\u001b[49m\n\u001b[1;32m    289\u001b[0m     \u001b[38;5;28;01mif\u001b[39;00m \u001b[38;5;129;01mnot\u001b[39;00m handed_over:\n\u001b[1;32m    290\u001b[0m         \u001b[38;5;28;01mraise\u001b[39;00m Error\u001b[38;5;241m.\u001b[39merrorhandler_make_exception(\n\u001b[1;32m    291\u001b[0m             error_class,\n\u001b[1;32m    292\u001b[0m             error_value,\n\u001b[1;32m    293\u001b[0m         )\n",
      "File \u001b[0;32m~/anaconda3/envs/snowpandas-dev-test/lib/python3.9/site-packages/snowflake/connector/errors.py:338\u001b[0m, in \u001b[0;36mError.hand_to_other_handler\u001b[0;34m(connection, cursor, error_class, error_value)\u001b[0m\n\u001b[1;32m    336\u001b[0m \u001b[38;5;28;01mif\u001b[39;00m cursor \u001b[38;5;129;01mis\u001b[39;00m \u001b[38;5;129;01mnot\u001b[39;00m \u001b[38;5;28;01mNone\u001b[39;00m:\n\u001b[1;32m    337\u001b[0m     cursor\u001b[38;5;241m.\u001b[39mmessages\u001b[38;5;241m.\u001b[39mappend((error_class, error_value))\n\u001b[0;32m--> 338\u001b[0m     \u001b[43mcursor\u001b[49m\u001b[38;5;241;43m.\u001b[39;49m\u001b[43merrorhandler\u001b[49m\u001b[43m(\u001b[49m\u001b[43mconnection\u001b[49m\u001b[43m,\u001b[49m\u001b[43m \u001b[49m\u001b[43mcursor\u001b[49m\u001b[43m,\u001b[49m\u001b[43m \u001b[49m\u001b[43merror_class\u001b[49m\u001b[43m,\u001b[49m\u001b[43m \u001b[49m\u001b[43merror_value\u001b[49m\u001b[43m)\u001b[49m\n\u001b[1;32m    339\u001b[0m     \u001b[38;5;28;01mreturn\u001b[39;00m \u001b[38;5;28;01mTrue\u001b[39;00m\n\u001b[1;32m    340\u001b[0m \u001b[38;5;28;01melif\u001b[39;00m connection \u001b[38;5;129;01mis\u001b[39;00m \u001b[38;5;129;01mnot\u001b[39;00m \u001b[38;5;28;01mNone\u001b[39;00m:\n",
      "File \u001b[0;32m~/anaconda3/envs/snowpandas-dev-test/lib/python3.9/site-packages/snowflake/connector/errors.py:214\u001b[0m, in \u001b[0;36mError.default_errorhandler\u001b[0;34m(connection, cursor, error_class, error_value)\u001b[0m\n\u001b[1;32m    212\u001b[0m errno \u001b[38;5;241m=\u001b[39m error_value\u001b[38;5;241m.\u001b[39mget(\u001b[38;5;124m\"\u001b[39m\u001b[38;5;124merrno\u001b[39m\u001b[38;5;124m\"\u001b[39m)\n\u001b[1;32m    213\u001b[0m done_format_msg \u001b[38;5;241m=\u001b[39m error_value\u001b[38;5;241m.\u001b[39mget(\u001b[38;5;124m\"\u001b[39m\u001b[38;5;124mdone_format_msg\u001b[39m\u001b[38;5;124m\"\u001b[39m)\n\u001b[0;32m--> 214\u001b[0m \u001b[38;5;28;01mraise\u001b[39;00m error_class(\n\u001b[1;32m    215\u001b[0m     msg\u001b[38;5;241m=\u001b[39merror_value\u001b[38;5;241m.\u001b[39mget(\u001b[38;5;124m\"\u001b[39m\u001b[38;5;124mmsg\u001b[39m\u001b[38;5;124m\"\u001b[39m),\n\u001b[1;32m    216\u001b[0m     errno\u001b[38;5;241m=\u001b[39m\u001b[38;5;28;01mNone\u001b[39;00m \u001b[38;5;28;01mif\u001b[39;00m errno \u001b[38;5;129;01mis\u001b[39;00m \u001b[38;5;28;01mNone\u001b[39;00m \u001b[38;5;28;01melse\u001b[39;00m \u001b[38;5;28mint\u001b[39m(errno),\n\u001b[1;32m    217\u001b[0m     sqlstate\u001b[38;5;241m=\u001b[39merror_value\u001b[38;5;241m.\u001b[39mget(\u001b[38;5;124m\"\u001b[39m\u001b[38;5;124msqlstate\u001b[39m\u001b[38;5;124m\"\u001b[39m),\n\u001b[1;32m    218\u001b[0m     sfqid\u001b[38;5;241m=\u001b[39merror_value\u001b[38;5;241m.\u001b[39mget(\u001b[38;5;124m\"\u001b[39m\u001b[38;5;124msfqid\u001b[39m\u001b[38;5;124m\"\u001b[39m),\n\u001b[1;32m    219\u001b[0m     query\u001b[38;5;241m=\u001b[39merror_value\u001b[38;5;241m.\u001b[39mget(\u001b[38;5;124m\"\u001b[39m\u001b[38;5;124mquery\u001b[39m\u001b[38;5;124m\"\u001b[39m),\n\u001b[1;32m    220\u001b[0m     done_format_msg\u001b[38;5;241m=\u001b[39m(\n\u001b[1;32m    221\u001b[0m         \u001b[38;5;28;01mNone\u001b[39;00m \u001b[38;5;28;01mif\u001b[39;00m done_format_msg \u001b[38;5;129;01mis\u001b[39;00m \u001b[38;5;28;01mNone\u001b[39;00m \u001b[38;5;28;01melse\u001b[39;00m \u001b[38;5;28mbool\u001b[39m(done_format_msg)\n\u001b[1;32m    222\u001b[0m     ),\n\u001b[1;32m    223\u001b[0m     connection\u001b[38;5;241m=\u001b[39mconnection,\n\u001b[1;32m    224\u001b[0m     cursor\u001b[38;5;241m=\u001b[39mcursor,\n\u001b[1;32m    225\u001b[0m )\n",
      "\u001b[0;31mSnowparkSQLException\u001b[0m: (1304): 01bb61e7-080f-702e-0001-dd47a26ef3df: 002003 (42S02): SQL compilation error:\nObject 'SNOWPARK_TEMP_TABLE_AVZFAMGLDDREADONLY' does not exist or not authorized."
     ]
    }
   ],
   "source": [
    "snow_df.dtypes"
   ]
  },
  {
   "cell_type": "code",
   "execution_count": 9,
   "metadata": {},
   "outputs": [
    {
     "data": {
      "text/plain": [
       "dtype('int64')"
      ]
     },
     "execution_count": 9,
     "metadata": {},
     "output_type": "execute_result"
    }
   ],
   "source": [
    "native_df.dtypes"
   ]
  },
  {
   "cell_type": "markdown",
   "metadata": {},
   "source": [
    "# Move on read"
   ]
  },
  {
   "cell_type": "code",
   "execution_count": 1,
   "metadata": {},
   "outputs": [
    {
     "name": "stdout",
     "output_type": "stream",
     "text": [
      "Initiating login request with your identity provider. A browser window should have opened for you to complete the login. If you can't see it, check existing browser windows, or your OS settings. Press CTRL+C to abort and try again...\n",
      "Going to open: https://snowbiz.okta.com/app/snowflake/exk8wfsfryJIn4IWZ2p7/sso/saml?SAMLRequest=jVJdc9owEPwrHvUZSzbkSwNkHGgGNwRTbEInb8KWiQZbcnUyhvz6ynx00odk%2BqY57d7u3V7%2Ffl8Wzo5rEEoOkOcS5HCZqkzIzQAtk8fOLXLAMJmxQkk%2BQAcO6H7YB1YWFQ1q8yYX%2FHfNwTi2kQTafgxQrSVVDARQyUoO1KQ0Dp6n1HcJZQBcGyuHzpQMhNV6M6aiGDdN4zZdV%2BkN9gkhmNxhi2oh39AHieprjUoro1JVXCh7O9MnEh4mvVbCIqzC%2FEx8EPK0gq9U1icQ0EmSzDvzKE6QE1ymGykJdcl1zPVOpHy5mJ4MgHUQz6LVJFrG312QqskLtuWpKqva2G6ufeGcZ7hQG2F3FI4HqNqKbP0if04nlYanRbKJ3kdrFv16ejjsVj1yd9jl8Yz7QbCYR1xtU%2BS8XBL120RDgJqHss3R2BLxrzqk1yF%2B4t1Qck2veu51t%2FuKnLHNUUhmjsyL2dbiWry7amvY0RyrKvzXN%2Bb77W2TQ64PP0LZC1evfnWDARRuY0KnS6FHA3r4v%2FP38UfW%2Bdhmdv%2FheK4KkR6cR6VLZj6Px3O9Y0VknfwIpbxkogiyTHMAG1NRqGakOTP2po2uOcLDk%2Bq%2FVz38Aw%3D%3D&RelayState=ver%3A1-hint%3A2050348631518-ETMsDgAAAZX3eFopABRBRVMvQ0JDL1BLQ1M1UGFkZGluZwEAABAAEE4Hib8KmZzsnNLrLBzxg8cAAACQaEwbUzHmFMI5G3xtsBuceuFknpQrxIge2Z%2FPkrWTEX%2BG9J2N%2FrcPMTJwWA74YUh2efa%2BtmbRGSnbsLzZa5B9yK%2FnRo4cn89saDiYDhcRTptTjhPPxOeCvN45txtDIc7OSrtW63DXv06Q6rkFMljsgK1qBvJgPXUERf5DB9LEJCaxXZqailjGBx9mT4BhRYBdABTFadKCPuZinqfkT0q%2BDKV6kIV2cQ%3D%3D to authenticate...\n",
      "CPU times: user 1.66 s, sys: 2.58 s, total: 4.24 s\n",
      "Wall time: 6.06 s\n"
     ]
    }
   ],
   "source": [
    "%%time\n",
    "\n",
    "import snowflake.snowpark.modin.plugin\n",
    "import modin.pandas as pd\n",
    "import numpy as np\n",
    "import datetime\n",
    "import pandas as native_pd\n",
    "from snowflake.snowpark.session import Session; session = Session.builder.create()"
   ]
  },
  {
   "cell_type": "code",
   "execution_count": 2,
   "metadata": {},
   "outputs": [
    {
     "name": "stderr",
     "output_type": "stream",
     "text": [
      "Snapshot source table/view 'SAMPLE_DATA.TPCH_SF1.CUSTOMER' failed due to reason: `003029 (0A000): SQL compilation error:\n",
      "Cannot clone from a table that was imported from a share.'. Data from source table/view 'SAMPLE_DATA.TPCH_SF1.CUSTOMER' is being copied into a new temporary table 'SNOWPARK_TEMP_TABLE_Q1N3FXVBRG' for snapshotting. DataFrame creation might take some time.\n"
     ]
    },
    {
     "data": {
      "application/vnd.jupyter.widget-view+json": {
       "model_id": "664a3a0ff46d4ed88e18146ea8b42679",
       "version_major": 2,
       "version_minor": 0
      },
      "text/plain": [
       "Transferring data from Snowflake to Pandas ...:   0%|          | 0/2 [00:00<?, ?it/s]"
      ]
     },
     "metadata": {},
     "output_type": "display_data"
    }
   ],
   "source": [
    "df = pd.read_snowflake(\"SAMPLE_DATA.TPCH_SF1.CUSTOMER\")"
   ]
  },
  {
   "cell_type": "code",
   "execution_count": 3,
   "metadata": {},
   "outputs": [
    {
     "data": {
      "text/plain": [
       "'Pandas'"
      ]
     },
     "execution_count": 3,
     "metadata": {},
     "output_type": "execute_result"
    }
   ],
   "source": [
    "df.get_backend()"
   ]
  },
  {
   "cell_type": "code",
   "execution_count": 4,
   "metadata": {},
   "outputs": [
    {
     "data": {
      "text/html": [
       "<div>\n",
       "<style scoped>\n",
       "    .dataframe tbody tr th:only-of-type {\n",
       "        vertical-align: middle;\n",
       "    }\n",
       "\n",
       "    .dataframe tbody tr th {\n",
       "        vertical-align: top;\n",
       "    }\n",
       "\n",
       "    .dataframe thead th {\n",
       "        text-align: right;\n",
       "    }\n",
       "</style>\n",
       "<table border=\"1\" class=\"dataframe\">\n",
       "  <thead>\n",
       "    <tr style=\"text-align: right;\">\n",
       "      <th></th>\n",
       "      <th>C_CUSTKEY</th>\n",
       "      <th>C_NAME</th>\n",
       "      <th>C_ADDRESS</th>\n",
       "      <th>C_NATIONKEY</th>\n",
       "      <th>C_PHONE</th>\n",
       "      <th>C_ACCTBAL</th>\n",
       "      <th>C_MKTSEGMENT</th>\n",
       "      <th>C_COMMENT</th>\n",
       "    </tr>\n",
       "  </thead>\n",
       "  <tbody>\n",
       "    <tr>\n",
       "      <th>0</th>\n",
       "      <td>30001</td>\n",
       "      <td>Customer#000030001</td>\n",
       "      <td>Ui1b,3Q71CiLTJn4MbVp,,YCZARIaNTelfst</td>\n",
       "      <td>4</td>\n",
       "      <td>14-526-204-4500</td>\n",
       "      <td>8848.47</td>\n",
       "      <td>MACHINERY</td>\n",
       "      <td>frays wake blithely enticingly ironic asymptote</td>\n",
       "    </tr>\n",
       "    <tr>\n",
       "      <th>1</th>\n",
       "      <td>30002</td>\n",
       "      <td>Customer#000030002</td>\n",
       "      <td>UVBoMtILkQu1J3v</td>\n",
       "      <td>11</td>\n",
       "      <td>21-340-653-9800</td>\n",
       "      <td>5221.81</td>\n",
       "      <td>MACHINERY</td>\n",
       "      <td>he slyly ironic pinto beans wake slyly above t...</td>\n",
       "    </tr>\n",
       "    <tr>\n",
       "      <th>2</th>\n",
       "      <td>30003</td>\n",
       "      <td>Customer#000030003</td>\n",
       "      <td>CuGi9fwKn8JdR</td>\n",
       "      <td>21</td>\n",
       "      <td>31-757-493-7525</td>\n",
       "      <td>3014.89</td>\n",
       "      <td>BUILDING</td>\n",
       "      <td>e furiously alongside of the requests. evenly ...</td>\n",
       "    </tr>\n",
       "    <tr>\n",
       "      <th>3</th>\n",
       "      <td>30004</td>\n",
       "      <td>Customer#000030004</td>\n",
       "      <td>tkR93ReOnf9zYeO</td>\n",
       "      <td>23</td>\n",
       "      <td>33-870-136-4375</td>\n",
       "      <td>3308.55</td>\n",
       "      <td>AUTOMOBILE</td>\n",
       "      <td>ssly bold deposits. final req</td>\n",
       "    </tr>\n",
       "    <tr>\n",
       "      <th>4</th>\n",
       "      <td>30005</td>\n",
       "      <td>Customer#000030005</td>\n",
       "      <td>pvq4uDoD8pEwpAE01aesCtbD9WU8qmlsvoFav5</td>\n",
       "      <td>9</td>\n",
       "      <td>19-144-468-5416</td>\n",
       "      <td>-278.54</td>\n",
       "      <td>MACHINERY</td>\n",
       "      <td>ructions behind the pinto beans x-ra</td>\n",
       "    </tr>\n",
       "    <tr>\n",
       "      <th>...</th>\n",
       "      <td>...</td>\n",
       "      <td>...</td>\n",
       "      <td>...</td>\n",
       "      <td>...</td>\n",
       "      <td>...</td>\n",
       "      <td>...</td>\n",
       "      <td>...</td>\n",
       "      <td>...</td>\n",
       "    </tr>\n",
       "    <tr>\n",
       "      <th>149995</th>\n",
       "      <td>29996</td>\n",
       "      <td>Customer#000029996</td>\n",
       "      <td>BnZVGZiAgcEImNm9iD</td>\n",
       "      <td>7</td>\n",
       "      <td>17-536-308-8025</td>\n",
       "      <td>4035.17</td>\n",
       "      <td>FURNITURE</td>\n",
       "      <td>ual instructions. bold, silent foxes nag blith...</td>\n",
       "    </tr>\n",
       "    <tr>\n",
       "      <th>149996</th>\n",
       "      <td>29997</td>\n",
       "      <td>Customer#000029997</td>\n",
       "      <td>lTbDYXdQ74JctD UbRbXCqF2b8</td>\n",
       "      <td>9</td>\n",
       "      <td>19-631-777-4123</td>\n",
       "      <td>2015.90</td>\n",
       "      <td>HOUSEHOLD</td>\n",
       "      <td>eodolites detect slyly alongside of the quickl...</td>\n",
       "    </tr>\n",
       "    <tr>\n",
       "      <th>149997</th>\n",
       "      <td>29998</td>\n",
       "      <td>Customer#000029998</td>\n",
       "      <td>ZxxiuDruzi98CcymR</td>\n",
       "      <td>23</td>\n",
       "      <td>33-619-315-9722</td>\n",
       "      <td>-810.56</td>\n",
       "      <td>FURNITURE</td>\n",
       "      <td>xpress packages. accounts sleep carefully iron...</td>\n",
       "    </tr>\n",
       "    <tr>\n",
       "      <th>149998</th>\n",
       "      <td>29999</td>\n",
       "      <td>Customer#000029999</td>\n",
       "      <td>CuPA4UpgTCYiXrBrpiSO D</td>\n",
       "      <td>12</td>\n",
       "      <td>22-824-951-8333</td>\n",
       "      <td>3865.14</td>\n",
       "      <td>FURNITURE</td>\n",
       "      <td>eposits-- accounts haggle across the slyly per...</td>\n",
       "    </tr>\n",
       "    <tr>\n",
       "      <th>149999</th>\n",
       "      <td>30000</td>\n",
       "      <td>Customer#000030000</td>\n",
       "      <td>sXiVJIRV4f4,MWk</td>\n",
       "      <td>22</td>\n",
       "      <td>32-391-639-5338</td>\n",
       "      <td>4437.43</td>\n",
       "      <td>BUILDING</td>\n",
       "      <td>ong the blithely special ideas: slyly regular ...</td>\n",
       "    </tr>\n",
       "  </tbody>\n",
       "</table>\n",
       "<p>150000 rows x 8 columns</p>\n",
       "</div>"
      ],
      "text/plain": [
       "        C_CUSTKEY              C_NAME                               C_ADDRESS  \\\n",
       "0           30001  Customer#000030001    Ui1b,3Q71CiLTJn4MbVp,,YCZARIaNTelfst   \n",
       "1           30002  Customer#000030002                         UVBoMtILkQu1J3v   \n",
       "2           30003  Customer#000030003                           CuGi9fwKn8JdR   \n",
       "3           30004  Customer#000030004                         tkR93ReOnf9zYeO   \n",
       "4           30005  Customer#000030005  pvq4uDoD8pEwpAE01aesCtbD9WU8qmlsvoFav5   \n",
       "...           ...                 ...                                     ...   \n",
       "149995      29996  Customer#000029996                      BnZVGZiAgcEImNm9iD   \n",
       "149996      29997  Customer#000029997              lTbDYXdQ74JctD UbRbXCqF2b8   \n",
       "149997      29998  Customer#000029998                       ZxxiuDruzi98CcymR   \n",
       "149998      29999  Customer#000029999                  CuPA4UpgTCYiXrBrpiSO D   \n",
       "149999      30000  Customer#000030000                         sXiVJIRV4f4,MWk   \n",
       "\n",
       "        C_NATIONKEY          C_PHONE  C_ACCTBAL C_MKTSEGMENT  \\\n",
       "0                 4  14-526-204-4500    8848.47    MACHINERY   \n",
       "1                11  21-340-653-9800    5221.81    MACHINERY   \n",
       "2                21  31-757-493-7525    3014.89     BUILDING   \n",
       "3                23  33-870-136-4375    3308.55   AUTOMOBILE   \n",
       "4                 9  19-144-468-5416    -278.54    MACHINERY   \n",
       "...             ...              ...        ...          ...   \n",
       "149995            7  17-536-308-8025    4035.17    FURNITURE   \n",
       "149996            9  19-631-777-4123    2015.90    HOUSEHOLD   \n",
       "149997           23  33-619-315-9722    -810.56    FURNITURE   \n",
       "149998           12  22-824-951-8333    3865.14    FURNITURE   \n",
       "149999           22  32-391-639-5338    4437.43     BUILDING   \n",
       "\n",
       "                                                C_COMMENT  \n",
       "0         frays wake blithely enticingly ironic asymptote  \n",
       "1       he slyly ironic pinto beans wake slyly above t...  \n",
       "2       e furiously alongside of the requests. evenly ...  \n",
       "3                           ssly bold deposits. final req  \n",
       "4                    ructions behind the pinto beans x-ra  \n",
       "...                                                   ...  \n",
       "149995  ual instructions. bold, silent foxes nag blith...  \n",
       "149996  eodolites detect slyly alongside of the quickl...  \n",
       "149997  xpress packages. accounts sleep carefully iron...  \n",
       "149998  eposits-- accounts haggle across the slyly per...  \n",
       "149999  ong the blithely special ideas: slyly regular ...  \n",
       "\n",
       "[150000 rows x 8 columns]"
      ]
     },
     "execution_count": 4,
     "metadata": {},
     "output_type": "execute_result"
    }
   ],
   "source": [
    "df"
   ]
  },
  {
   "cell_type": "code",
   "execution_count": 5,
   "metadata": {},
   "outputs": [
    {
     "name": "stderr",
     "output_type": "stream",
     "text": [
      "Snapshot source table/view 'SAMPLE_DATA.TPCH_SF10.CUSTOMER' failed due to reason: `003029 (0A000): SQL compilation error:\n",
      "Cannot clone from a table that was imported from a share.'. Data from source table/view 'SAMPLE_DATA.TPCH_SF10.CUSTOMER' is being copied into a new temporary table 'SNOWPARK_TEMP_TABLE_BCG1A32YWB' for snapshotting. DataFrame creation might take some time.\n"
     ]
    }
   ],
   "source": [
    "df_big = pd.read_snowflake(\"SAMPLE_DATA.TPCH_SF10.CUSTOMER\")"
   ]
  },
  {
   "cell_type": "code",
   "execution_count": 6,
   "metadata": {},
   "outputs": [
    {
     "data": {
      "text/plain": [
       "'Snowflake'"
      ]
     },
     "execution_count": 6,
     "metadata": {},
     "output_type": "execute_result"
    }
   ],
   "source": [
    "df_big.get_backend()"
   ]
  },
  {
   "cell_type": "markdown",
   "metadata": {},
   "source": [
    "## In Memory Uses Local"
   ]
  },
  {
   "cell_type": "code",
   "execution_count": 4,
   "metadata": {},
   "outputs": [],
   "source": [
    "df = pd.DataFrame({'a': [1], 'b': [2]})"
   ]
  },
  {
   "cell_type": "code",
   "execution_count": 5,
   "metadata": {},
   "outputs": [
    {
     "data": {
      "text/plain": [
       "'Pandas'"
      ]
     },
     "execution_count": 5,
     "metadata": {},
     "output_type": "execute_result"
    }
   ],
   "source": [
    "df.get_backend()"
   ]
  },
  {
   "cell_type": "markdown",
   "metadata": {},
   "source": [
    "## Apply Switches using Rules"
   ]
  },
  {
   "cell_type": "code",
   "execution_count": 1,
   "metadata": {},
   "outputs": [
    {
     "name": "stdout",
     "output_type": "stream",
     "text": [
      "Initiating login request with your identity provider. A browser window should have opened for you to complete the login. If you can't see it, check existing browser windows, or your OS settings. Press CTRL+C to abort and try again...\n",
      "Going to open: https://snowbiz.okta.com/app/snowflake/exk8wfsfryJIn4IWZ2p7/sso/saml?SAMLRequest=jZLdbuIwEIVfJfJeJ04C%2FcECqiwUEUQLJVAq7tzEUBfHznocAvv064Sy6l602jtrfI79zZzp3h1z4RyYBq5kDwWejxwmU5Vxueuh1XLk3iIHDJUZFUqyHjoxQHf9LtBcFCQqzZtcsF8lA%2BPYhySQ5qKHSi2JosCBSJozICYlSfQwJaHnk0Iro1Il0CfL9w4KwLSxhBdLBtzivRlTEIyrqvKqlqf0Doe%2B72O%2Fg62qlvy46I%2B2py%2F0Afbbtd4qrHz%2BwfaTy%2FMIvsN6PYuAjJfLuTufJUvkRBfUgZJQ5kwnTB94ylaL6RkALEHyOFuPZ6vk3gOpqq2ge5aqvCiNfc2zJ7xlGRZqx23D8bCHij3PxNNh2urcF8HoRbSyKN9MZuJ5zUdPD4PJaajGLzP9nr8fskWwSpHzfEk0rBONAUoWyzpHY0t%2BeOX6bdcPl8ENCTskvPI619cb5AxtjlxS0zgvsDXiK%2F%2Ftqb2hDRwtCvyXG7Pj%2FrbawlafJrFsx%2BtNWNxgAIXrWNF5U0gDoPv%2F238Xf3Z9LNujnX88nCvB05MzUjqn5ut4Ai9oKjxzt42UsJxyEWWZZgA2JiFUNdCMGrvTRpcM4f7513%2B3uv8H&RelayState=ver%3A1-hint%3A2050348631518-ETMsDgAAAZX3jPjOABRBRVMvQ0JDL1BLQ1M1UGFkZGluZwEAABAAEAGYHxCS9OrqVcjanF5LlxkAAACQpTWsFWtnxAumqmdWmOYAOA1OZRLkrHlLb9T%2BxM37y%2FB3tJWIOuuam%2FYio3KF%2FT%2F9nILvn1nxdf%2F1R3nn0FW%2Bghlq3YCRpwu4PRY2Kwb5cQBRgn8OE3iaLsZLOsbeAESNqSS0aIMt6dCVlgQHDECkEyYA4MeihTsnjOyLmInqtcbU0X2dhzMDopWm5jnuILA%2BABQX28bGhNxCKiE%2B0dzqee8Be%2BUtzw%3D%3D to authenticate...\n"
     ]
    }
   ],
   "source": [
    "import snowflake.snowpark.modin.plugin\n",
    "import modin.pandas as pd\n",
    "import numpy as np\n",
    "import datetime\n",
    "import pandas as native_pd\n",
    "from snowflake.snowpark.session import Session; session = Session.builder.create()"
   ]
  },
  {
   "cell_type": "code",
   "execution_count": 2,
   "metadata": {},
   "outputs": [
    {
     "name": "stderr",
     "output_type": "stream",
     "text": [
      "Snapshot source table/view 'SAMPLE_DATA.TPCH_SF1.CUSTOMER' failed due to reason: `003029 (0A000): SQL compilation error:\n",
      "Cannot clone from a table that was imported from a share.'. Data from source table/view 'SAMPLE_DATA.TPCH_SF1.CUSTOMER' is being copied into a new temporary table 'SNOWPARK_TEMP_TABLE_A54PZK0QPN' for snapshotting. DataFrame creation might take some time.\n"
     ]
    },
    {
     "data": {
      "application/vnd.jupyter.widget-view+json": {
       "model_id": "173fa49f5c164576a2870776c037e0ef",
       "version_major": 2,
       "version_minor": 0
      },
      "text/plain": [
       "Transferring data from Snowflake to Pandas ...:   0%|          | 0/2 [00:00<?, ?it/s]"
      ]
     },
     "metadata": {},
     "output_type": "display_data"
    }
   ],
   "source": [
    "df_small = pd.read_snowflake(\"SAMPLE_DATA.TPCH_SF1.CUSTOMER\")"
   ]
  },
  {
   "cell_type": "code",
   "execution_count": 3,
   "metadata": {},
   "outputs": [
    {
     "data": {
      "application/vnd.jupyter.widget-view+json": {
       "model_id": "70a971c7c9ce47be89e1b2dd004402a8",
       "version_major": 2,
       "version_minor": 0
      },
      "text/plain": [
       "Transferring data from Pandas to Snowflake ...:   0%|          | 0/2 [00:00<?, ?it/s]"
      ]
     },
     "metadata": {},
     "output_type": "display_data"
    },
    {
     "data": {
      "application/vnd.jupyter.widget-view+json": {
       "model_id": "5153a07341634132a776f10a116f4a4c",
       "version_major": 2,
       "version_minor": 0
      },
      "text/plain": [
       "Transferring data from Pandas to Snowflake ...:   0%|          | 0/2 [00:00<?, ?it/s]"
      ]
     },
     "metadata": {},
     "output_type": "display_data"
    }
   ],
   "source": [
    "df_small.move_to(\"Snowflake\", inplace=True)"
   ]
  },
  {
   "cell_type": "code",
   "execution_count": 4,
   "metadata": {},
   "outputs": [
    {
     "data": {
      "text/plain": [
       "'Snowflake'"
      ]
     },
     "execution_count": 4,
     "metadata": {},
     "output_type": "execute_result"
    }
   ],
   "source": [
    "df_small.get_backend()"
   ]
  },
  {
   "cell_type": "code",
   "execution_count": 5,
   "metadata": {},
   "outputs": [
    {
     "data": {
      "application/vnd.jupyter.widget-view+json": {
       "model_id": "41ae11c70e924e2cb031f71819e2156f",
       "version_major": 2,
       "version_minor": 0
      },
      "text/plain": [
       "Transferring data from Snowflake to Pandas ...:   0%|          | 0/2 [00:00<?, ?it/s]"
      ]
     },
     "metadata": {},
     "output_type": "display_data"
    },
    {
     "name": "stderr",
     "output_type": "stream",
     "text": [
      "FutureWarning: the convert_dtype parameter is deprecated and will be removed in a future version.  Do ``ser.astype(object).apply()`` instead if you want ``convert_dtype=False``.\n"
     ]
    },
    {
     "data": {
      "application/vnd.jupyter.widget-view+json": {
       "model_id": "f1927bc962f44586841a6c4abf96e9d4",
       "version_major": 2,
       "version_minor": 0
      },
      "text/plain": [
       "Transferring data from Pandas to Snowflake ...:   0%|          | 0/2 [00:00<?, ?it/s]"
      ]
     },
     "metadata": {},
     "output_type": "display_data"
    }
   ],
   "source": [
    "df_small['C_NAME_NEW'] = df_small['C_NAME'].apply(lambda x: x + \" coffee\")"
   ]
  },
  {
   "cell_type": "code",
   "execution_count": 6,
   "metadata": {},
   "outputs": [
    {
     "data": {
      "text/plain": [
       "'Snowflake'"
      ]
     },
     "execution_count": 6,
     "metadata": {},
     "output_type": "execute_result"
    }
   ],
   "source": [
    "df_small.get_backend()"
   ]
  },
  {
   "cell_type": "code",
   "execution_count": 7,
   "metadata": {},
   "outputs": [
    {
     "data": {
      "text/html": [
       "<div>\n",
       "<style scoped>\n",
       "    .dataframe tbody tr th:only-of-type {\n",
       "        vertical-align: middle;\n",
       "    }\n",
       "\n",
       "    .dataframe tbody tr th {\n",
       "        vertical-align: top;\n",
       "    }\n",
       "\n",
       "    .dataframe thead th {\n",
       "        text-align: right;\n",
       "    }\n",
       "</style>\n",
       "<table border=\"1\" class=\"dataframe\">\n",
       "  <thead>\n",
       "    <tr style=\"text-align: right;\">\n",
       "      <th></th>\n",
       "      <th>C_CUSTKEY</th>\n",
       "      <th>C_NAME</th>\n",
       "      <th>C_ADDRESS</th>\n",
       "      <th>C_NATIONKEY</th>\n",
       "      <th>C_PHONE</th>\n",
       "      <th>C_ACCTBAL</th>\n",
       "      <th>C_MKTSEGMENT</th>\n",
       "      <th>C_COMMENT</th>\n",
       "      <th>C_NAME_NEW</th>\n",
       "    </tr>\n",
       "  </thead>\n",
       "  <tbody>\n",
       "    <tr>\n",
       "      <th>0</th>\n",
       "      <td>30001</td>\n",
       "      <td>Customer#000030001</td>\n",
       "      <td>Ui1b,3Q71CiLTJn4MbVp,,YCZARIaNTelfst</td>\n",
       "      <td>4</td>\n",
       "      <td>14-526-204-4500</td>\n",
       "      <td>8848.47</td>\n",
       "      <td>MACHINERY</td>\n",
       "      <td>frays wake blithely enticingly ironic asymptote</td>\n",
       "      <td>Customer#000030001 coffee</td>\n",
       "    </tr>\n",
       "    <tr>\n",
       "      <th>1</th>\n",
       "      <td>30002</td>\n",
       "      <td>Customer#000030002</td>\n",
       "      <td>UVBoMtILkQu1J3v</td>\n",
       "      <td>11</td>\n",
       "      <td>21-340-653-9800</td>\n",
       "      <td>5221.81</td>\n",
       "      <td>MACHINERY</td>\n",
       "      <td>he slyly ironic pinto beans wake slyly above t...</td>\n",
       "      <td>Customer#000030002 coffee</td>\n",
       "    </tr>\n",
       "    <tr>\n",
       "      <th>2</th>\n",
       "      <td>30003</td>\n",
       "      <td>Customer#000030003</td>\n",
       "      <td>CuGi9fwKn8JdR</td>\n",
       "      <td>21</td>\n",
       "      <td>31-757-493-7525</td>\n",
       "      <td>3014.89</td>\n",
       "      <td>BUILDING</td>\n",
       "      <td>e furiously alongside of the requests. evenly ...</td>\n",
       "      <td>Customer#000030003 coffee</td>\n",
       "    </tr>\n",
       "    <tr>\n",
       "      <th>3</th>\n",
       "      <td>30004</td>\n",
       "      <td>Customer#000030004</td>\n",
       "      <td>tkR93ReOnf9zYeO</td>\n",
       "      <td>23</td>\n",
       "      <td>33-870-136-4375</td>\n",
       "      <td>3308.55</td>\n",
       "      <td>AUTOMOBILE</td>\n",
       "      <td>ssly bold deposits. final req</td>\n",
       "      <td>Customer#000030004 coffee</td>\n",
       "    </tr>\n",
       "    <tr>\n",
       "      <th>4</th>\n",
       "      <td>30005</td>\n",
       "      <td>Customer#000030005</td>\n",
       "      <td>pvq4uDoD8pEwpAE01aesCtbD9WU8qmlsvoFav5</td>\n",
       "      <td>9</td>\n",
       "      <td>19-144-468-5416</td>\n",
       "      <td>-278.54</td>\n",
       "      <td>MACHINERY</td>\n",
       "      <td>ructions behind the pinto beans x-ra</td>\n",
       "      <td>Customer#000030005 coffee</td>\n",
       "    </tr>\n",
       "    <tr>\n",
       "      <th>...</th>\n",
       "      <td>...</td>\n",
       "      <td>...</td>\n",
       "      <td>...</td>\n",
       "      <td>...</td>\n",
       "      <td>...</td>\n",
       "      <td>...</td>\n",
       "      <td>...</td>\n",
       "      <td>...</td>\n",
       "      <td>...</td>\n",
       "    </tr>\n",
       "    <tr>\n",
       "      <th>149995</th>\n",
       "      <td>29996</td>\n",
       "      <td>Customer#000029996</td>\n",
       "      <td>BnZVGZiAgcEImNm9iD</td>\n",
       "      <td>7</td>\n",
       "      <td>17-536-308-8025</td>\n",
       "      <td>4035.17</td>\n",
       "      <td>FURNITURE</td>\n",
       "      <td>ual instructions. bold, silent foxes nag blith...</td>\n",
       "      <td>Customer#000029996 coffee</td>\n",
       "    </tr>\n",
       "    <tr>\n",
       "      <th>149996</th>\n",
       "      <td>29997</td>\n",
       "      <td>Customer#000029997</td>\n",
       "      <td>lTbDYXdQ74JctD UbRbXCqF2b8</td>\n",
       "      <td>9</td>\n",
       "      <td>19-631-777-4123</td>\n",
       "      <td>2015.90</td>\n",
       "      <td>HOUSEHOLD</td>\n",
       "      <td>eodolites detect slyly alongside of the quickl...</td>\n",
       "      <td>Customer#000029997 coffee</td>\n",
       "    </tr>\n",
       "    <tr>\n",
       "      <th>149997</th>\n",
       "      <td>29998</td>\n",
       "      <td>Customer#000029998</td>\n",
       "      <td>ZxxiuDruzi98CcymR</td>\n",
       "      <td>23</td>\n",
       "      <td>33-619-315-9722</td>\n",
       "      <td>-810.56</td>\n",
       "      <td>FURNITURE</td>\n",
       "      <td>xpress packages. accounts sleep carefully iron...</td>\n",
       "      <td>Customer#000029998 coffee</td>\n",
       "    </tr>\n",
       "    <tr>\n",
       "      <th>149998</th>\n",
       "      <td>29999</td>\n",
       "      <td>Customer#000029999</td>\n",
       "      <td>CuPA4UpgTCYiXrBrpiSO D</td>\n",
       "      <td>12</td>\n",
       "      <td>22-824-951-8333</td>\n",
       "      <td>3865.14</td>\n",
       "      <td>FURNITURE</td>\n",
       "      <td>eposits-- accounts haggle across the slyly per...</td>\n",
       "      <td>Customer#000029999 coffee</td>\n",
       "    </tr>\n",
       "    <tr>\n",
       "      <th>149999</th>\n",
       "      <td>30000</td>\n",
       "      <td>Customer#000030000</td>\n",
       "      <td>sXiVJIRV4f4,MWk</td>\n",
       "      <td>22</td>\n",
       "      <td>32-391-639-5338</td>\n",
       "      <td>4437.43</td>\n",
       "      <td>BUILDING</td>\n",
       "      <td>ong the blithely special ideas: slyly regular ...</td>\n",
       "      <td>Customer#000030000 coffee</td>\n",
       "    </tr>\n",
       "  </tbody>\n",
       "</table>\n",
       "<p>150000 rows × 9 columns</p>\n",
       "</div>"
      ],
      "text/plain": [
       "        C_CUSTKEY              C_NAME                               C_ADDRESS  \\\n",
       "0           30001  Customer#000030001    Ui1b,3Q71CiLTJn4MbVp,,YCZARIaNTelfst   \n",
       "1           30002  Customer#000030002                         UVBoMtILkQu1J3v   \n",
       "2           30003  Customer#000030003                           CuGi9fwKn8JdR   \n",
       "3           30004  Customer#000030004                         tkR93ReOnf9zYeO   \n",
       "4           30005  Customer#000030005  pvq4uDoD8pEwpAE01aesCtbD9WU8qmlsvoFav5   \n",
       "...           ...                 ...                                     ...   \n",
       "149995      29996  Customer#000029996                      BnZVGZiAgcEImNm9iD   \n",
       "149996      29997  Customer#000029997              lTbDYXdQ74JctD UbRbXCqF2b8   \n",
       "149997      29998  Customer#000029998                       ZxxiuDruzi98CcymR   \n",
       "149998      29999  Customer#000029999                  CuPA4UpgTCYiXrBrpiSO D   \n",
       "149999      30000  Customer#000030000                         sXiVJIRV4f4,MWk   \n",
       "\n",
       "        C_NATIONKEY          C_PHONE  C_ACCTBAL C_MKTSEGMENT  \\\n",
       "0                 4  14-526-204-4500    8848.47    MACHINERY   \n",
       "1                11  21-340-653-9800    5221.81    MACHINERY   \n",
       "2                21  31-757-493-7525    3014.89     BUILDING   \n",
       "3                23  33-870-136-4375    3308.55   AUTOMOBILE   \n",
       "4                 9  19-144-468-5416    -278.54    MACHINERY   \n",
       "...             ...              ...        ...          ...   \n",
       "149995            7  17-536-308-8025    4035.17    FURNITURE   \n",
       "149996            9  19-631-777-4123    2015.90    HOUSEHOLD   \n",
       "149997           23  33-619-315-9722    -810.56    FURNITURE   \n",
       "149998           12  22-824-951-8333    3865.14    FURNITURE   \n",
       "149999           22  32-391-639-5338    4437.43     BUILDING   \n",
       "\n",
       "                                                C_COMMENT  \\\n",
       "0         frays wake blithely enticingly ironic asymptote   \n",
       "1       he slyly ironic pinto beans wake slyly above t...   \n",
       "2       e furiously alongside of the requests. evenly ...   \n",
       "3                           ssly bold deposits. final req   \n",
       "4                    ructions behind the pinto beans x-ra   \n",
       "...                                                   ...   \n",
       "149995  ual instructions. bold, silent foxes nag blith...   \n",
       "149996  eodolites detect slyly alongside of the quickl...   \n",
       "149997  xpress packages. accounts sleep carefully iron...   \n",
       "149998  eposits-- accounts haggle across the slyly per...   \n",
       "149999  ong the blithely special ideas: slyly regular ...   \n",
       "\n",
       "                       C_NAME_NEW  \n",
       "0       Customer#000030001 coffee  \n",
       "1       Customer#000030002 coffee  \n",
       "2       Customer#000030003 coffee  \n",
       "3       Customer#000030004 coffee  \n",
       "4       Customer#000030005 coffee  \n",
       "...                           ...  \n",
       "149995  Customer#000029996 coffee  \n",
       "149996  Customer#000029997 coffee  \n",
       "149997  Customer#000029998 coffee  \n",
       "149998  Customer#000029999 coffee  \n",
       "149999  Customer#000030000 coffee  \n",
       "\n",
       "[150000 rows x 9 columns]"
      ]
     },
     "execution_count": 7,
     "metadata": {},
     "output_type": "execute_result"
    }
   ],
   "source": [
    "df_small"
   ]
  },
  {
   "cell_type": "code",
   "execution_count": 8,
   "metadata": {},
   "outputs": [
    {
     "data": {
      "application/vnd.jupyter.widget-view+json": {
       "model_id": "0d84b03a783040d7be4a50b42b5aee73",
       "version_major": 2,
       "version_minor": 0
      },
      "text/plain": [
       "Transferring data from Snowflake to Pandas ...:   0%|          | 0/2 [00:00<?, ?it/s]"
      ]
     },
     "metadata": {},
     "output_type": "display_data"
    },
    {
     "name": "stderr",
     "output_type": "stream",
     "text": [
      "FutureWarning: the convert_dtype parameter is deprecated and will be removed in a future version.  Do ``ser.astype(object).apply()`` instead if you want ``convert_dtype=False``.\n"
     ]
    }
   ],
   "source": [
    "mylocaldf = df_small['C_NAME'].apply(lambda x: x + \" coffee2\")"
   ]
  },
  {
   "cell_type": "code",
   "execution_count": 9,
   "metadata": {},
   "outputs": [
    {
     "data": {
      "text/plain": [
       "'Pandas'"
      ]
     },
     "execution_count": 9,
     "metadata": {},
     "output_type": "execute_result"
    }
   ],
   "source": [
    "mylocaldf.get_backend()"
   ]
  },
  {
   "cell_type": "code",
   "execution_count": 10,
   "metadata": {},
   "outputs": [
    {
     "data": {
      "text/plain": [
       "0         Customer#000030001 coffee2\n",
       "1         Customer#000030002 coffee2\n",
       "2         Customer#000030003 coffee2\n",
       "3         Customer#000030004 coffee2\n",
       "4         Customer#000030005 coffee2\n",
       "                     ...            \n",
       "149995    Customer#000029996 coffee2\n",
       "149996    Customer#000029997 coffee2\n",
       "149997    Customer#000029998 coffee2\n",
       "149998    Customer#000029999 coffee2\n",
       "149999    Customer#000030000 coffee2\n",
       "Name: C_NAME, Length: 150000, dtype: object"
      ]
     },
     "execution_count": 10,
     "metadata": {},
     "output_type": "execute_result"
    }
   ],
   "source": [
    "mylocaldf"
   ]
  },
  {
   "cell_type": "code",
   "execution_count": 11,
   "metadata": {},
   "outputs": [],
   "source": [
    "import logging; logging.getLogger(\"snowflake.snowpark\").setLevel(logging.DEBUG)\n",
    "for name in logging.root.manager.loggerDict:\n",
    "    logging.getLogger(name).addFilter(lambda record: \"The Snowpark DataFrame in DataFrameReference with id=\" not in record.getMessage())\n",
    "logging.basicConfig()"
   ]
  },
  {
   "cell_type": "code",
   "execution_count": 12,
   "metadata": {},
   "outputs": [
    {
     "name": "stderr",
     "output_type": "stream",
     "text": [
      "DEBUG:snowflake.snowpark._internal.server_connection:Execute query [queryID: 01bb6ca1-080f-7b4b-0001-dd47ca56274f]  CREATE  OR  REPLACE  SCOPED TEMPORARY  TABLE SNOWPARK_TEMP_TABLE_RESZT8N238(\"__index__\" BIGINT, \"C_CUSTKEY\" BIGINT, \"C_NAME\" STRING, \"C_ADDRESS\" STRING, \"C_NATIONKEY\" BIGINT, \"C_PHONE\" STRING, \"C_ACCTBAL\" DOUBLE, \"C_MKTSEGMENT\" STRING, \"C_COMMENT\" STRING, \"__row_position__\" BIGINT)  \n",
      "DEBUG:snowflake.snowpark._internal.server_connection:Execute batch insertion query  INSERT  INTO SNOWPARK_TEMP_TABLE_RESZT8N238(\"__index__\", \"C_CUSTKEY\", \"C_NAME\", \"C_ADDRESS\", \"C_NATIONKEY\", \"C_PHONE\", \"C_ACCTBAL\", \"C_MKTSEGMENT\", \"C_COMMENT\", \"__row_position__\") VALUES (?, ?, ?, ?, ?, ?, ?, ?, ?, ?)\n",
      "DEBUG:snowflake.snowpark._internal.server_connection:Execute query [queryID: 01bb6ca1-080f-776f-0001-dd47ca57c0f7]  CREATE  OR  REPLACE  SCOPED TEMPORARY  TABLE SNOWPARK_TEMP_TABLE_8HVJYJOBAR(\"__index__\" BIGINT, \"C_NAME\" STRING, \"__row_position__\" BIGINT)  \n",
      "DEBUG:snowflake.snowpark._internal.server_connection:Execute batch insertion query  INSERT  INTO SNOWPARK_TEMP_TABLE_8HVJYJOBAR(\"__index__\", \"C_NAME\", \"__row_position__\") VALUES (?, ?, ?)\n",
      "DEBUG:snowflake.snowpark._internal.server_connection:Execute query [queryID: 01bb6ca1-080f-7b4b-0001-dd47ca562a83]  SELECT count(1) OVER (  ) AS \"__row_count__\" FROM ( SELECT \"__index__\", \"C_CUSTKEY\", \"C_NAME\", \"C_ADDRESS\", \"C_NATIONKEY\", \"C_PHONE\", \"C_ACCTBAL\", \"C_MKTSEGMENT\", \"C_COMMENT\", \"__row_position__\", \"__index___jpa9\", \"C_NAME_3ibe\", \"__row_position___5nkh\", \"row_count_left\", \"col_matching\", iff((\"row_count_left\" = 0), \"__index___jpa9\", \"__index__\") AS \"__index___c3e9\", \"C_CUSTKEY\" AS \"C_CUSTKEY_qpdl\", \"C_NAME\" AS \"C_NAME_evg7\", \"C_ADDRESS\" AS \"C_ADDRESS_3j7h\", \"C_NATIONKEY\" AS \"C_NATIONKEY_iggr\", \"C_PHONE\" AS \"C_PHONE_udfo\", \"C_ACCTBAL\" AS \"C_ACCTBAL_f4pj\", \"C_MKTSEGMENT\" AS \"C_MKTSEGMENT_vnhq\", \"C_COMMENT\" AS \"C_COMMENT_1zpv\", \"C_NAME_3ibe\" AS \"C_NAME_NEW\" FROM ( SELECT \"__index__\", \"C_CUSTKEY\", \"C_NAME\", \"C_ADDRESS\", \"C_NATIONKEY\", \"C_PHONE\", \"C_ACCTBAL\", \"C_MKTSEGMENT\", \"C_COMMENT\", \"__row_position__\", \"__index___jpa9\", \"C_NAME_3ibe\", \"__row_position___5nkh\", coalesce((max(\"__row_position__\") OVER (  ) + 1), 0) AS \"row_count_left\", ((coalesce((max(\"__row_position__\") OVER (  ) + 1), 0) = coalesce((max(\"__row_position___5nkh\") OVER (  ) + 1), 0)) AND (coalesce((max(\"__row_position__\") OVER (  ) + 1), 0) = sum(iff((\"__row_position__\" = \"__row_position___5nkh\"), 1, 0)) OVER (  ))) AS \"col_matching\" FROM ( SELECT  *  FROM (( SELECT \"__index__\" AS \"__index__\", \"C_CUSTKEY\" AS \"C_CUSTKEY\", \"C_NAME\" AS \"C_NAME\", \"C_ADDRESS\" AS \"C_ADDRESS\", \"C_NATIONKEY\" AS \"C_NATIONKEY\", \"C_PHONE\" AS \"C_PHONE\", \"C_ACCTBAL\" AS \"C_ACCTBAL\", \"C_MKTSEGMENT\" AS \"C_MKTSEGMENT\", \"C_COMMENT\" AS \"C_COMMENT\", \"__row_position__\" AS \"__row_position__\" FROM ( SELECT  *  FROM (SNOWPARK_TEMP_TABLE_RESZT8N238))) AS SNOWPARK_LEFT FULL OUTER JOIN ( SELECT \"__index___jpa9\" AS \"__index___jpa9\", \"C_NAME_3ibe\" AS \"C_NAME_3ibe\", \"__row_position___5nkh\" AS \"__row_position___5nkh\" FROM ( SELECT \"__index__\" AS \"__index___jpa9\", \"C_NAME\" AS \"C_NAME_3ibe\", \"__row_position__\" AS \"__row_position___5nkh\" FROM ( SELECT  *  FROM (SNOWPARK_TEMP_TABLE_8HVJYJOBAR)))) AS SNOWPARK_RIGHT ON EQUAL_NULL(\"__index__\", \"__index___jpa9\")))) WHERE ((NOT \"col_matching\" OR (\"__row_position__\" = \"__row_position___5nkh\")) AND iff((\"row_count_left\" = 0), \"__row_position___5nkh\" IS NOT NULL, \"__row_position__\" IS NOT NULL))) LIMIT 1\n",
      "DEBUG:snowflake.snowpark._internal.server_connection:Execute query [queryID: 01bb6ca1-080f-776f-0001-dd47ca57c193]  DROP  TABLE  If  EXISTS SNOWPARK_TEMP_TABLE_Q9293B1J60\n",
      "DEBUG:snowflake.snowpark._internal.server_connection:Execute query [queryID: 01bb6ca1-080f-77b7-0001-dd47ca55e757]  DROP  TABLE  If  EXISTS SNOWPARK_TEMP_TABLE_AYY7O0CCJT\n"
     ]
    },
    {
     "data": {
      "application/vnd.jupyter.widget-view+json": {
       "model_id": "585ad9689607436d916f26d217951557",
       "version_major": 2,
       "version_minor": 0
      },
      "text/plain": [
       "Transferring data from Snowflake to Pandas ...:   0%|          | 0/2 [00:00<?, ?it/s]"
      ]
     },
     "metadata": {},
     "output_type": "display_data"
    },
    {
     "name": "stderr",
     "output_type": "stream",
     "text": [
      "DEBUG:snowflake.snowpark._internal.server_connection:Execute query [queryID: 01bb6ca1-080f-7b05-0001-dd47ca553df3]  CREATE  OR  REPLACE  SCOPED TEMPORARY  TABLE SNOWPARK_TEMP_TABLE_OHRQTM31WO(\"__index__\" BIGINT, \"C_CUSTKEY\" BIGINT, \"C_NAME\" STRING, \"C_ADDRESS\" STRING, \"C_NATIONKEY\" BIGINT, \"C_PHONE\" STRING, \"C_ACCTBAL\" DOUBLE, \"C_MKTSEGMENT\" STRING, \"C_COMMENT\" STRING, \"__row_position__\" BIGINT)  \n",
      "DEBUG:snowflake.snowpark._internal.server_connection:Execute batch insertion query  INSERT  INTO SNOWPARK_TEMP_TABLE_OHRQTM31WO(\"__index__\", \"C_CUSTKEY\", \"C_NAME\", \"C_ADDRESS\", \"C_NATIONKEY\", \"C_PHONE\", \"C_ACCTBAL\", \"C_MKTSEGMENT\", \"C_COMMENT\", \"__row_position__\") VALUES (?, ?, ?, ?, ?, ?, ?, ?, ?, ?)\n",
      "DEBUG:snowflake.snowpark._internal.server_connection:Execute query [queryID: 01bb6ca2-080f-7b4b-0001-dd47ca59e123]  CREATE  OR  REPLACE  SCOPED TEMPORARY  TABLE SNOWPARK_TEMP_TABLE_PZQ7Z1H382(\"__index__\" BIGINT, \"C_NAME\" STRING, \"__row_position__\" BIGINT)  \n",
      "DEBUG:snowflake.snowpark._internal.server_connection:Execute batch insertion query  INSERT  INTO SNOWPARK_TEMP_TABLE_PZQ7Z1H382(\"__index__\", \"C_NAME\", \"__row_position__\") VALUES (?, ?, ?)\n",
      "DEBUG:snowflake.snowpark._internal.server_connection:Execute query [queryID: 01bb6ca2-080f-7b05-0001-dd47ca59d1c7]  SELECT \"__index___c3e9\", \"C_NAME_evg7\" FROM ( SELECT \"__index__\", \"C_CUSTKEY\", \"C_NAME\", \"C_ADDRESS\", \"C_NATIONKEY\", \"C_PHONE\", \"C_ACCTBAL\", \"C_MKTSEGMENT\", \"C_COMMENT\", \"__row_position__\", \"__index___jpa9\", \"C_NAME_3ibe\", \"__row_position___5nkh\", \"row_count_left\", \"col_matching\", \"__index___c3e9\", \"C_CUSTKEY_qpdl\", \"C_NAME_evg7\", \"C_ADDRESS_3j7h\", \"C_NATIONKEY_iggr\", \"C_PHONE_udfo\", \"C_ACCTBAL_f4pj\", \"C_MKTSEGMENT_vnhq\", \"C_COMMENT_1zpv\", \"C_NAME_NEW\", (row_number() OVER (  ORDER BY \"__row_position__\" ASC NULLS LAST, \"__row_position___5nkh\" ASC NULLS LAST ) - 1) AS \"__row_position_9awr__\", count(1) OVER (  ) AS \"__row_count__\" FROM ( SELECT \"__index__\", \"C_CUSTKEY\", \"C_NAME\", \"C_ADDRESS\", \"C_NATIONKEY\", \"C_PHONE\", \"C_ACCTBAL\", \"C_MKTSEGMENT\", \"C_COMMENT\", \"__row_position__\", \"__index___jpa9\", \"C_NAME_3ibe\", \"__row_position___5nkh\", \"row_count_left\", \"col_matching\", iff((\"row_count_left\" = 0), \"__index___jpa9\", \"__index__\") AS \"__index___c3e9\", \"C_CUSTKEY\" AS \"C_CUSTKEY_qpdl\", \"C_NAME\" AS \"C_NAME_evg7\", \"C_ADDRESS\" AS \"C_ADDRESS_3j7h\", \"C_NATIONKEY\" AS \"C_NATIONKEY_iggr\", \"C_PHONE\" AS \"C_PHONE_udfo\", \"C_ACCTBAL\" AS \"C_ACCTBAL_f4pj\", \"C_MKTSEGMENT\" AS \"C_MKTSEGMENT_vnhq\", \"C_COMMENT\" AS \"C_COMMENT_1zpv\", \"C_NAME_3ibe\" AS \"C_NAME_NEW\" FROM ( SELECT \"__index__\", \"C_CUSTKEY\", \"C_NAME\", \"C_ADDRESS\", \"C_NATIONKEY\", \"C_PHONE\", \"C_ACCTBAL\", \"C_MKTSEGMENT\", \"C_COMMENT\", \"__row_position__\", \"__index___jpa9\", \"C_NAME_3ibe\", \"__row_position___5nkh\", coalesce((max(\"__row_position__\") OVER (  ) + 1), 0) AS \"row_count_left\", ((coalesce((max(\"__row_position__\") OVER (  ) + 1), 0) = coalesce((max(\"__row_position___5nkh\") OVER (  ) + 1), 0)) AND (coalesce((max(\"__row_position__\") OVER (  ) + 1), 0) = sum(iff((\"__row_position__\" = \"__row_position___5nkh\"), 1, 0)) OVER (  ))) AS \"col_matching\" FROM ( SELECT  *  FROM (( SELECT \"__index__\" AS \"__index__\", \"C_CUSTKEY\" AS \"C_CUSTKEY\", \"C_NAME\" AS \"C_NAME\", \"C_ADDRESS\" AS \"C_ADDRESS\", \"C_NATIONKEY\" AS \"C_NATIONKEY\", \"C_PHONE\" AS \"C_PHONE\", \"C_ACCTBAL\" AS \"C_ACCTBAL\", \"C_MKTSEGMENT\" AS \"C_MKTSEGMENT\", \"C_COMMENT\" AS \"C_COMMENT\", \"__row_position__\" AS \"__row_position__\" FROM ( SELECT  *  FROM (SNOWPARK_TEMP_TABLE_OHRQTM31WO))) AS SNOWPARK_LEFT FULL OUTER JOIN ( SELECT \"__index___jpa9\" AS \"__index___jpa9\", \"C_NAME_3ibe\" AS \"C_NAME_3ibe\", \"__row_position___5nkh\" AS \"__row_position___5nkh\" FROM ( SELECT \"__index__\" AS \"__index___jpa9\", \"C_NAME\" AS \"C_NAME_3ibe\", \"__row_position__\" AS \"__row_position___5nkh\" FROM ( SELECT  *  FROM (SNOWPARK_TEMP_TABLE_PZQ7Z1H382)))) AS SNOWPARK_RIGHT ON EQUAL_NULL(\"__index__\", \"__index___jpa9\")))) WHERE ((NOT \"col_matching\" OR (\"__row_position__\" = \"__row_position___5nkh\")) AND iff((\"row_count_left\" = 0), \"__row_position___5nkh\" IS NOT NULL, \"__row_position__\" IS NOT NULL)))) ORDER BY \"__row_position__\" ASC NULLS LAST, \"__row_position___5nkh\" ASC NULLS LAST\n",
      "DEBUG:snowflake.snowpark._internal.server_connection:Execute query [queryID: 01bb6ca2-080f-7b4b-0001-dd47ca59e30b]  DROP  TABLE  If  EXISTS SNOWPARK_TEMP_TABLE_O15EH5UWI6\n",
      "DEBUG:snowflake.snowpark._internal.server_connection:Execute query [queryID: 01bb6ca2-080f-776f-0001-dd47ca57c9d3]  DROP  TABLE  If  EXISTS SNOWPARK_TEMP_TABLE_DPK0VUUGQI\n",
      "FutureWarning: the convert_dtype parameter is deprecated and will be removed in a future version.  Do ``ser.astype(object).apply()`` instead if you want ``convert_dtype=False``.\n"
     ]
    },
    {
     "data": {
      "text/plain": [
       "0         Customer#000030001 coffee3\n",
       "1         Customer#000030002 coffee3\n",
       "2         Customer#000030003 coffee3\n",
       "3         Customer#000030004 coffee3\n",
       "4         Customer#000030005 coffee3\n",
       "                     ...            \n",
       "149995    Customer#000029996 coffee3\n",
       "149996    Customer#000029997 coffee3\n",
       "149997    Customer#000029998 coffee3\n",
       "149998    Customer#000029999 coffee3\n",
       "149999    Customer#000030000 coffee3\n",
       "Name: C_NAME, Length: 150000, dtype: object"
      ]
     },
     "execution_count": 12,
     "metadata": {},
     "output_type": "execute_result"
    }
   ],
   "source": [
    "df_small['C_NAME'].apply(lambda x: x + \" coffee3\")"
   ]
  },
  {
   "cell_type": "code",
   "execution_count": 16,
   "metadata": {},
   "outputs": [
    {
     "name": "stderr",
     "output_type": "stream",
     "text": [
      "DEBUG:snowflake.snowpark._internal.server_connection:Execute query [queryID: 01bb6ca5-080f-77b7-0001-dd47ca63f327]  CREATE  OR  REPLACE  SCOPED TEMPORARY  TABLE SNOWPARK_TEMP_TABLE_SPAC0BCX0E(\"__index__\" BIGINT, \"C_CUSTKEY\" BIGINT, \"C_NAME\" STRING, \"C_ADDRESS\" STRING, \"C_NATIONKEY\" BIGINT, \"C_PHONE\" STRING, \"C_ACCTBAL\" DOUBLE, \"C_MKTSEGMENT\" STRING, \"C_COMMENT\" STRING, \"__row_position__\" BIGINT)  \n",
      "DEBUG:snowflake.snowpark._internal.server_connection:Execute batch insertion query  INSERT  INTO SNOWPARK_TEMP_TABLE_SPAC0BCX0E(\"__index__\", \"C_CUSTKEY\", \"C_NAME\", \"C_ADDRESS\", \"C_NATIONKEY\", \"C_PHONE\", \"C_ACCTBAL\", \"C_MKTSEGMENT\", \"C_COMMENT\", \"__row_position__\") VALUES (?, ?, ?, ?, ?, ?, ?, ?, ?, ?)\n",
      "DEBUG:snowflake.snowpark._internal.server_connection:Execute query [queryID: 01bb6ca5-080f-7aa8-0001-dd47ca64351b]  CREATE  OR  REPLACE  SCOPED TEMPORARY  TABLE SNOWPARK_TEMP_TABLE_F794VAWEUH(\"__index__\" BIGINT, \"C_NAME\" STRING, \"__row_position__\" BIGINT)  \n",
      "DEBUG:snowflake.snowpark._internal.server_connection:Execute batch insertion query  INSERT  INTO SNOWPARK_TEMP_TABLE_F794VAWEUH(\"__index__\", \"C_NAME\", \"__row_position__\") VALUES (?, ?, ?)\n",
      "DEBUG:snowflake.snowpark._internal.server_connection:Execute query [queryID: 01bb6ca5-080f-77b7-0001-dd47ca63f747]  SELECT \"__index___c3e9\", \"C_CUSTKEY_qpdl\", \"C_NAME_evg7\", \"C_ADDRESS_3j7h\", \"C_NATIONKEY_iggr\", \"C_PHONE_udfo\", \"C_ACCTBAL_f4pj\", \"C_MKTSEGMENT_vnhq\", \"C_COMMENT_1zpv\", \"C_NAME_NEW\", \"__row_count__\" FROM ( SELECT \"__index___c3e9\", \"C_CUSTKEY\", \"C_NAME\", \"C_ADDRESS\", \"C_NATIONKEY\", \"C_PHONE\", \"C_ACCTBAL\", \"C_MKTSEGMENT\", \"C_COMMENT\", \"__row_position__\", \"__index___jpa9\", \"C_NAME_3ibe\", \"__row_position___5nkh\", \"C_CUSTKEY_qpdl\", \"C_NAME_evg7\", \"C_ADDRESS_3j7h\", \"C_NATIONKEY_iggr\", \"C_PHONE_udfo\", \"C_ACCTBAL_f4pj\", \"C_MKTSEGMENT_vnhq\", \"C_COMMENT_1zpv\", \"C_NAME_NEW\", (row_number() OVER (  ORDER BY \"__row_position__\" ASC NULLS LAST, \"__row_position___5nkh\" ASC NULLS LAST ) - 1) AS \"__row_position_9awr__\", count(1) OVER (  ) AS \"__row_count__\" FROM ( SELECT \"__index__\", \"C_CUSTKEY\", \"C_NAME\", \"C_ADDRESS\", \"C_NATIONKEY\", \"C_PHONE\", \"C_ACCTBAL\", \"C_MKTSEGMENT\", \"C_COMMENT\", \"__row_position__\", \"__index___jpa9\", \"C_NAME_3ibe\", \"__row_position___5nkh\", \"row_count_left\", \"col_matching\", iff((\"row_count_left\" = 0), \"__index___jpa9\", \"__index__\") AS \"__index___c3e9\", \"C_CUSTKEY\" AS \"C_CUSTKEY_qpdl\", \"C_NAME\" AS \"C_NAME_evg7\", \"C_ADDRESS\" AS \"C_ADDRESS_3j7h\", \"C_NATIONKEY\" AS \"C_NATIONKEY_iggr\", \"C_PHONE\" AS \"C_PHONE_udfo\", \"C_ACCTBAL\" AS \"C_ACCTBAL_f4pj\", \"C_MKTSEGMENT\" AS \"C_MKTSEGMENT_vnhq\", \"C_COMMENT\" AS \"C_COMMENT_1zpv\", \"C_NAME_3ibe\" AS \"C_NAME_NEW\" FROM ( SELECT \"__index__\", \"C_CUSTKEY\", \"C_NAME\", \"C_ADDRESS\", \"C_NATIONKEY\", \"C_PHONE\", \"C_ACCTBAL\", \"C_MKTSEGMENT\", \"C_COMMENT\", \"__row_position__\", \"__index___jpa9\", \"C_NAME_3ibe\", \"__row_position___5nkh\", coalesce((max(\"__row_position__\") OVER (  ) + 1), 0) AS \"row_count_left\", ((coalesce((max(\"__row_position__\") OVER (  ) + 1), 0) = coalesce((max(\"__row_position___5nkh\") OVER (  ) + 1), 0)) AND (coalesce((max(\"__row_position__\") OVER (  ) + 1), 0) = sum(iff((\"__row_position__\" = \"__row_position___5nkh\"), 1, 0)) OVER (  ))) AS \"col_matching\" FROM ( SELECT  *  FROM (( SELECT \"__index__\" AS \"__index__\", \"C_CUSTKEY\" AS \"C_CUSTKEY\", \"C_NAME\" AS \"C_NAME\", \"C_ADDRESS\" AS \"C_ADDRESS\", \"C_NATIONKEY\" AS \"C_NATIONKEY\", \"C_PHONE\" AS \"C_PHONE\", \"C_ACCTBAL\" AS \"C_ACCTBAL\", \"C_MKTSEGMENT\" AS \"C_MKTSEGMENT\", \"C_COMMENT\" AS \"C_COMMENT\", \"__row_position__\" AS \"__row_position__\" FROM ( SELECT  *  FROM (SNOWPARK_TEMP_TABLE_SPAC0BCX0E))) AS SNOWPARK_LEFT FULL OUTER JOIN ( SELECT \"__index___jpa9\" AS \"__index___jpa9\", \"C_NAME_3ibe\" AS \"C_NAME_3ibe\", \"__row_position___5nkh\" AS \"__row_position___5nkh\" FROM ( SELECT \"__index__\" AS \"__index___jpa9\", \"C_NAME\" AS \"C_NAME_3ibe\", \"__row_position__\" AS \"__row_position___5nkh\" FROM ( SELECT  *  FROM (SNOWPARK_TEMP_TABLE_F794VAWEUH)))) AS SNOWPARK_RIGHT ON EQUAL_NULL(\"__index__\", \"__index___jpa9\")))) WHERE ((NOT \"col_matching\" OR (\"__row_position__\" = \"__row_position___5nkh\")) AND iff((\"row_count_left\" = 0), \"__row_position___5nkh\" IS NOT NULL, \"__row_position__\" IS NOT NULL)))) WHERE ((\"__row_position_9awr__\" <= 31) OR (\"__row_position_9awr__\" >= (\"__row_count__\" - 31))) ORDER BY \"__row_position__\" ASC NULLS LAST, \"__row_position___5nkh\" ASC NULLS LAST\n",
      "DEBUG:snowflake.snowpark._internal.server_connection:Execute query [queryID: 01bb6ca5-080f-7b05-0001-dd47ca64db73]  DROP  TABLE  If  EXISTS SNOWPARK_TEMP_TABLE_8HY3NTHTRD\n",
      "DEBUG:snowflake.snowpark._internal.server_connection:Execute query [queryID: 01bb6ca5-080f-7b4b-0001-dd47ca6557bb]  DROP  TABLE  If  EXISTS SNOWPARK_TEMP_TABLE_PRQWK4S3CW\n",
      "DEBUG:snowflake.snowpark._internal.server_connection:Execute query [queryID: 01bb6ca6-080f-7b05-0001-dd47ca681197]  CREATE  OR  REPLACE  SCOPED TEMPORARY  TABLE SNOWPARK_TEMP_TABLE_K1BITLCYG4(\"__index__\" BIGINT, \"C_CUSTKEY\" BIGINT, \"C_NAME\" STRING, \"C_ADDRESS\" STRING, \"C_NATIONKEY\" BIGINT, \"C_PHONE\" STRING, \"C_ACCTBAL\" DOUBLE, \"C_MKTSEGMENT\" STRING, \"C_COMMENT\" STRING, \"__row_position__\" BIGINT)  \n",
      "DEBUG:snowflake.snowpark._internal.server_connection:Execute batch insertion query  INSERT  INTO SNOWPARK_TEMP_TABLE_K1BITLCYG4(\"__index__\", \"C_CUSTKEY\", \"C_NAME\", \"C_ADDRESS\", \"C_NATIONKEY\", \"C_PHONE\", \"C_ACCTBAL\", \"C_MKTSEGMENT\", \"C_COMMENT\", \"__row_position__\") VALUES (?, ?, ?, ?, ?, ?, ?, ?, ?, ?)\n",
      "DEBUG:snowflake.snowpark._internal.server_connection:Execute query [queryID: 01bb6ca6-080f-7b4b-0001-dd47ca655e97]  CREATE  OR  REPLACE  SCOPED TEMPORARY  TABLE SNOWPARK_TEMP_TABLE_JP83DPNTLQ(\"__index__\" BIGINT, \"C_NAME\" STRING, \"__row_position__\" BIGINT)  \n",
      "DEBUG:snowflake.snowpark._internal.server_connection:Execute batch insertion query  INSERT  INTO SNOWPARK_TEMP_TABLE_JP83DPNTLQ(\"__index__\", \"C_NAME\", \"__row_position__\") VALUES (?, ?, ?)\n",
      "DEBUG:snowflake.snowpark._internal.server_connection:Execute query [queryID: 01bb6ca6-080f-7b05-0001-dd47ca681463]  SELECT \"__index___c3e9\", \"C_CUSTKEY_qpdl\", \"C_NAME_evg7\", \"C_ADDRESS_3j7h\", \"C_NATIONKEY_iggr\", \"C_PHONE_udfo\", \"C_ACCTBAL_f4pj\", \"C_MKTSEGMENT_vnhq\", \"C_COMMENT_1zpv\", \"C_NAME_NEW\", \"__row_count__\" FROM ( SELECT \"__index___c3e9\", \"C_CUSTKEY\", \"C_NAME\", \"C_ADDRESS\", \"C_NATIONKEY\", \"C_PHONE\", \"C_ACCTBAL\", \"C_MKTSEGMENT\", \"C_COMMENT\", \"__row_position__\", \"__index___jpa9\", \"C_NAME_3ibe\", \"__row_position___5nkh\", \"C_CUSTKEY_qpdl\", \"C_NAME_evg7\", \"C_ADDRESS_3j7h\", \"C_NATIONKEY_iggr\", \"C_PHONE_udfo\", \"C_ACCTBAL_f4pj\", \"C_MKTSEGMENT_vnhq\", \"C_COMMENT_1zpv\", \"C_NAME_NEW\", (row_number() OVER (  ORDER BY \"__row_position__\" ASC NULLS LAST, \"__row_position___5nkh\" ASC NULLS LAST ) - 1) AS \"__row_position_9awr__\", count(1) OVER (  ) AS \"__row_count__\" FROM ( SELECT \"__index__\", \"C_CUSTKEY\", \"C_NAME\", \"C_ADDRESS\", \"C_NATIONKEY\", \"C_PHONE\", \"C_ACCTBAL\", \"C_MKTSEGMENT\", \"C_COMMENT\", \"__row_position__\", \"__index___jpa9\", \"C_NAME_3ibe\", \"__row_position___5nkh\", \"row_count_left\", \"col_matching\", iff((\"row_count_left\" = 0), \"__index___jpa9\", \"__index__\") AS \"__index___c3e9\", \"C_CUSTKEY\" AS \"C_CUSTKEY_qpdl\", \"C_NAME\" AS \"C_NAME_evg7\", \"C_ADDRESS\" AS \"C_ADDRESS_3j7h\", \"C_NATIONKEY\" AS \"C_NATIONKEY_iggr\", \"C_PHONE\" AS \"C_PHONE_udfo\", \"C_ACCTBAL\" AS \"C_ACCTBAL_f4pj\", \"C_MKTSEGMENT\" AS \"C_MKTSEGMENT_vnhq\", \"C_COMMENT\" AS \"C_COMMENT_1zpv\", \"C_NAME_3ibe\" AS \"C_NAME_NEW\" FROM ( SELECT \"__index__\", \"C_CUSTKEY\", \"C_NAME\", \"C_ADDRESS\", \"C_NATIONKEY\", \"C_PHONE\", \"C_ACCTBAL\", \"C_MKTSEGMENT\", \"C_COMMENT\", \"__row_position__\", \"__index___jpa9\", \"C_NAME_3ibe\", \"__row_position___5nkh\", coalesce((max(\"__row_position__\") OVER (  ) + 1), 0) AS \"row_count_left\", ((coalesce((max(\"__row_position__\") OVER (  ) + 1), 0) = coalesce((max(\"__row_position___5nkh\") OVER (  ) + 1), 0)) AND (coalesce((max(\"__row_position__\") OVER (  ) + 1), 0) = sum(iff((\"__row_position__\" = \"__row_position___5nkh\"), 1, 0)) OVER (  ))) AS \"col_matching\" FROM ( SELECT  *  FROM (( SELECT \"__index__\" AS \"__index__\", \"C_CUSTKEY\" AS \"C_CUSTKEY\", \"C_NAME\" AS \"C_NAME\", \"C_ADDRESS\" AS \"C_ADDRESS\", \"C_NATIONKEY\" AS \"C_NATIONKEY\", \"C_PHONE\" AS \"C_PHONE\", \"C_ACCTBAL\" AS \"C_ACCTBAL\", \"C_MKTSEGMENT\" AS \"C_MKTSEGMENT\", \"C_COMMENT\" AS \"C_COMMENT\", \"__row_position__\" AS \"__row_position__\" FROM ( SELECT  *  FROM (SNOWPARK_TEMP_TABLE_K1BITLCYG4))) AS SNOWPARK_LEFT FULL OUTER JOIN ( SELECT \"__index___jpa9\" AS \"__index___jpa9\", \"C_NAME_3ibe\" AS \"C_NAME_3ibe\", \"__row_position___5nkh\" AS \"__row_position___5nkh\" FROM ( SELECT \"__index__\" AS \"__index___jpa9\", \"C_NAME\" AS \"C_NAME_3ibe\", \"__row_position__\" AS \"__row_position___5nkh\" FROM ( SELECT  *  FROM (SNOWPARK_TEMP_TABLE_JP83DPNTLQ)))) AS SNOWPARK_RIGHT ON EQUAL_NULL(\"__index__\", \"__index___jpa9\")))) WHERE ((NOT \"col_matching\" OR (\"__row_position__\" = \"__row_position___5nkh\")) AND iff((\"row_count_left\" = 0), \"__row_position___5nkh\" IS NOT NULL, \"__row_position__\" IS NOT NULL)))) WHERE ((\"__row_position_9awr__\" <= 31) OR (\"__row_position_9awr__\" >= (\"__row_count__\" - 31))) ORDER BY \"__row_position__\" ASC NULLS LAST, \"__row_position___5nkh\" ASC NULLS LAST\n",
      "DEBUG:snowflake.snowpark._internal.server_connection:Execute query [queryID: 01bb6ca6-080f-7b4b-0001-dd47ca655f8b]  DROP  TABLE  If  EXISTS SNOWPARK_TEMP_TABLE_24SRHVN1OJ\n",
      "DEBUG:snowflake.snowpark._internal.server_connection:Execute query [queryID: 01bb6ca6-080f-776f-0001-dd47ca6853c3]  DROP  TABLE  If  EXISTS SNOWPARK_TEMP_TABLE_WPABDEUKPF\n"
     ]
    },
    {
     "data": {
      "text/html": [
       "<div>\n",
       "<style scoped>\n",
       "    .dataframe tbody tr th:only-of-type {\n",
       "        vertical-align: middle;\n",
       "    }\n",
       "\n",
       "    .dataframe tbody tr th {\n",
       "        vertical-align: top;\n",
       "    }\n",
       "\n",
       "    .dataframe thead th {\n",
       "        text-align: right;\n",
       "    }\n",
       "</style>\n",
       "<table border=\"1\" class=\"dataframe\">\n",
       "  <thead>\n",
       "    <tr style=\"text-align: right;\">\n",
       "      <th></th>\n",
       "      <th>C_CUSTKEY</th>\n",
       "      <th>C_NAME</th>\n",
       "      <th>C_ADDRESS</th>\n",
       "      <th>C_NATIONKEY</th>\n",
       "      <th>C_PHONE</th>\n",
       "      <th>C_ACCTBAL</th>\n",
       "      <th>C_MKTSEGMENT</th>\n",
       "      <th>C_COMMENT</th>\n",
       "      <th>C_NAME_NEW</th>\n",
       "    </tr>\n",
       "  </thead>\n",
       "  <tbody>\n",
       "    <tr>\n",
       "      <th>0</th>\n",
       "      <td>30001</td>\n",
       "      <td>Customer#000030001</td>\n",
       "      <td>Ui1b,3Q71CiLTJn4MbVp,,YCZARIaNTelfst</td>\n",
       "      <td>4</td>\n",
       "      <td>14-526-204-4500</td>\n",
       "      <td>8848.47</td>\n",
       "      <td>MACHINERY</td>\n",
       "      <td>frays wake blithely enticingly ironic asymptote</td>\n",
       "      <td>Customer#000030001 coffee</td>\n",
       "    </tr>\n",
       "    <tr>\n",
       "      <th>1</th>\n",
       "      <td>30002</td>\n",
       "      <td>Customer#000030002</td>\n",
       "      <td>UVBoMtILkQu1J3v</td>\n",
       "      <td>11</td>\n",
       "      <td>21-340-653-9800</td>\n",
       "      <td>5221.81</td>\n",
       "      <td>MACHINERY</td>\n",
       "      <td>he slyly ironic pinto beans wake slyly above t...</td>\n",
       "      <td>Customer#000030002 coffee</td>\n",
       "    </tr>\n",
       "    <tr>\n",
       "      <th>2</th>\n",
       "      <td>30003</td>\n",
       "      <td>Customer#000030003</td>\n",
       "      <td>CuGi9fwKn8JdR</td>\n",
       "      <td>21</td>\n",
       "      <td>31-757-493-7525</td>\n",
       "      <td>3014.89</td>\n",
       "      <td>BUILDING</td>\n",
       "      <td>e furiously alongside of the requests. evenly ...</td>\n",
       "      <td>Customer#000030003 coffee</td>\n",
       "    </tr>\n",
       "    <tr>\n",
       "      <th>3</th>\n",
       "      <td>30004</td>\n",
       "      <td>Customer#000030004</td>\n",
       "      <td>tkR93ReOnf9zYeO</td>\n",
       "      <td>23</td>\n",
       "      <td>33-870-136-4375</td>\n",
       "      <td>3308.55</td>\n",
       "      <td>AUTOMOBILE</td>\n",
       "      <td>ssly bold deposits. final req</td>\n",
       "      <td>Customer#000030004 coffee</td>\n",
       "    </tr>\n",
       "    <tr>\n",
       "      <th>4</th>\n",
       "      <td>30005</td>\n",
       "      <td>Customer#000030005</td>\n",
       "      <td>pvq4uDoD8pEwpAE01aesCtbD9WU8qmlsvoFav5</td>\n",
       "      <td>9</td>\n",
       "      <td>19-144-468-5416</td>\n",
       "      <td>-278.54</td>\n",
       "      <td>MACHINERY</td>\n",
       "      <td>ructions behind the pinto beans x-ra</td>\n",
       "      <td>Customer#000030005 coffee</td>\n",
       "    </tr>\n",
       "    <tr>\n",
       "      <th>...</th>\n",
       "      <td>...</td>\n",
       "      <td>...</td>\n",
       "      <td>...</td>\n",
       "      <td>...</td>\n",
       "      <td>...</td>\n",
       "      <td>...</td>\n",
       "      <td>...</td>\n",
       "      <td>...</td>\n",
       "      <td>...</td>\n",
       "    </tr>\n",
       "    <tr>\n",
       "      <th>149995</th>\n",
       "      <td>29996</td>\n",
       "      <td>Customer#000029996</td>\n",
       "      <td>BnZVGZiAgcEImNm9iD</td>\n",
       "      <td>7</td>\n",
       "      <td>17-536-308-8025</td>\n",
       "      <td>4035.17</td>\n",
       "      <td>FURNITURE</td>\n",
       "      <td>ual instructions. bold, silent foxes nag blith...</td>\n",
       "      <td>Customer#000029996 coffee</td>\n",
       "    </tr>\n",
       "    <tr>\n",
       "      <th>149996</th>\n",
       "      <td>29997</td>\n",
       "      <td>Customer#000029997</td>\n",
       "      <td>lTbDYXdQ74JctD UbRbXCqF2b8</td>\n",
       "      <td>9</td>\n",
       "      <td>19-631-777-4123</td>\n",
       "      <td>2015.90</td>\n",
       "      <td>HOUSEHOLD</td>\n",
       "      <td>eodolites detect slyly alongside of the quickl...</td>\n",
       "      <td>Customer#000029997 coffee</td>\n",
       "    </tr>\n",
       "    <tr>\n",
       "      <th>149997</th>\n",
       "      <td>29998</td>\n",
       "      <td>Customer#000029998</td>\n",
       "      <td>ZxxiuDruzi98CcymR</td>\n",
       "      <td>23</td>\n",
       "      <td>33-619-315-9722</td>\n",
       "      <td>-810.56</td>\n",
       "      <td>FURNITURE</td>\n",
       "      <td>xpress packages. accounts sleep carefully iron...</td>\n",
       "      <td>Customer#000029998 coffee</td>\n",
       "    </tr>\n",
       "    <tr>\n",
       "      <th>149998</th>\n",
       "      <td>29999</td>\n",
       "      <td>Customer#000029999</td>\n",
       "      <td>CuPA4UpgTCYiXrBrpiSO D</td>\n",
       "      <td>12</td>\n",
       "      <td>22-824-951-8333</td>\n",
       "      <td>3865.14</td>\n",
       "      <td>FURNITURE</td>\n",
       "      <td>eposits-- accounts haggle across the slyly per...</td>\n",
       "      <td>Customer#000029999 coffee</td>\n",
       "    </tr>\n",
       "    <tr>\n",
       "      <th>149999</th>\n",
       "      <td>30000</td>\n",
       "      <td>Customer#000030000</td>\n",
       "      <td>sXiVJIRV4f4,MWk</td>\n",
       "      <td>22</td>\n",
       "      <td>32-391-639-5338</td>\n",
       "      <td>4437.43</td>\n",
       "      <td>BUILDING</td>\n",
       "      <td>ong the blithely special ideas: slyly regular ...</td>\n",
       "      <td>Customer#000030000 coffee</td>\n",
       "    </tr>\n",
       "  </tbody>\n",
       "</table>\n",
       "<p>150000 rows × 9 columns</p>\n",
       "</div>"
      ],
      "text/plain": [
       "        C_CUSTKEY              C_NAME                               C_ADDRESS  \\\n",
       "0           30001  Customer#000030001    Ui1b,3Q71CiLTJn4MbVp,,YCZARIaNTelfst   \n",
       "1           30002  Customer#000030002                         UVBoMtILkQu1J3v   \n",
       "2           30003  Customer#000030003                           CuGi9fwKn8JdR   \n",
       "3           30004  Customer#000030004                         tkR93ReOnf9zYeO   \n",
       "4           30005  Customer#000030005  pvq4uDoD8pEwpAE01aesCtbD9WU8qmlsvoFav5   \n",
       "...           ...                 ...                                     ...   \n",
       "149995      29996  Customer#000029996                      BnZVGZiAgcEImNm9iD   \n",
       "149996      29997  Customer#000029997              lTbDYXdQ74JctD UbRbXCqF2b8   \n",
       "149997      29998  Customer#000029998                       ZxxiuDruzi98CcymR   \n",
       "149998      29999  Customer#000029999                  CuPA4UpgTCYiXrBrpiSO D   \n",
       "149999      30000  Customer#000030000                         sXiVJIRV4f4,MWk   \n",
       "\n",
       "        C_NATIONKEY          C_PHONE  C_ACCTBAL C_MKTSEGMENT  \\\n",
       "0                 4  14-526-204-4500    8848.47    MACHINERY   \n",
       "1                11  21-340-653-9800    5221.81    MACHINERY   \n",
       "2                21  31-757-493-7525    3014.89     BUILDING   \n",
       "3                23  33-870-136-4375    3308.55   AUTOMOBILE   \n",
       "4                 9  19-144-468-5416    -278.54    MACHINERY   \n",
       "...             ...              ...        ...          ...   \n",
       "149995            7  17-536-308-8025    4035.17    FURNITURE   \n",
       "149996            9  19-631-777-4123    2015.90    HOUSEHOLD   \n",
       "149997           23  33-619-315-9722    -810.56    FURNITURE   \n",
       "149998           12  22-824-951-8333    3865.14    FURNITURE   \n",
       "149999           22  32-391-639-5338    4437.43     BUILDING   \n",
       "\n",
       "                                                C_COMMENT  \\\n",
       "0         frays wake blithely enticingly ironic asymptote   \n",
       "1       he slyly ironic pinto beans wake slyly above t...   \n",
       "2       e furiously alongside of the requests. evenly ...   \n",
       "3                           ssly bold deposits. final req   \n",
       "4                    ructions behind the pinto beans x-ra   \n",
       "...                                                   ...   \n",
       "149995  ual instructions. bold, silent foxes nag blith...   \n",
       "149996  eodolites detect slyly alongside of the quickl...   \n",
       "149997  xpress packages. accounts sleep carefully iron...   \n",
       "149998  eposits-- accounts haggle across the slyly per...   \n",
       "149999  ong the blithely special ideas: slyly regular ...   \n",
       "\n",
       "                       C_NAME_NEW  \n",
       "0       Customer#000030001 coffee  \n",
       "1       Customer#000030002 coffee  \n",
       "2       Customer#000030003 coffee  \n",
       "3       Customer#000030004 coffee  \n",
       "4       Customer#000030005 coffee  \n",
       "...                           ...  \n",
       "149995  Customer#000029996 coffee  \n",
       "149996  Customer#000029997 coffee  \n",
       "149997  Customer#000029998 coffee  \n",
       "149998  Customer#000029999 coffee  \n",
       "149999  Customer#000030000 coffee  \n",
       "\n",
       "[150000 rows x 9 columns]"
      ]
     },
     "execution_count": 16,
     "metadata": {},
     "output_type": "execute_result"
    }
   ],
   "source": []
  },
  {
   "cell_type": "markdown",
   "metadata": {},
   "source": [
    "## describe "
   ]
  },
  {
   "cell_type": "code",
   "execution_count": 1,
   "metadata": {},
   "outputs": [
    {
     "name": "stdout",
     "output_type": "stream",
     "text": [
      "Initiating login request with your identity provider. A browser window should have opened for you to complete the login. If you can't see it, check existing browser windows, or your OS settings. Press CTRL+C to abort and try again...\n",
      "Going to open: https://snowbiz.okta.com/app/snowflake/exk8wfsfryJIn4IWZ2p7/sso/saml?SAMLRequest=jVJdc9owEPwrHvUZS4ChjgaTcaGZmISYgGmmvAlbJhpsydXJMfTXV%2Bajkz4k0zfNafd27%2FZGt4eycN64BqFkgLouQQ6XqcqE3AVondx1fOSAYTJjhZI8QEcO6HY8AlYWFQ1r8yqX%2FFfNwTi2kQTafgSo1pIqBgKoZCUHalK6CuePtOcSygC4NlYOXSgZCKv1akxFMW6axm36rtI73COEYHKDLaqFfEHvJKrPNSqtjEpVcaUc7EwfSHQx8VoJi7AKiwvxm5DnFXymsj2DgN4nyaKziFcJcsLrdBMloS65XnH9JlK%2BXj6eDYB1sHqKX%2B7j9eq7C1I1ecH2PFVlVRvbzbUvnPMMF2on7I6iaYCqvcgSL9LRYULMrB93hw%2Bbn%2FncDHMVPgzTerbcPsfh89b347msdilyflwT7bWJRgA1j2Sbo7El0ht0iNch%2FYT06eCGDjzX970NcqY2RyGZOTGvZluLW%2FHbVXvDTuZYVeG%2FvjE%2F7P0mh1wfZ5H0opdNr%2FqKARRuY0LnS6EnA3r8v%2FOP8HvW5die7P6j6UIVIj06d0qXzHwcT9ftnioi6%2BQnKOUlE0WYZZoD2JiKQjUTzZmxN210zREen1X%2FverxHw%3D%3D&RelayState=ver%3A1-hint%3A2050348631518-ETMsDgAAAZX5zjIEABRBRVMvQ0JDL1BLQ1M1UGFkZGluZwEAABAAEPVgJqSIw7XU5ngvMRgQzMwAAACQZX4svowkOJIvR7RuankhkMLL%2BHjQfK1juTOXI3B05dEfem%2Fatvq3h%2Br%2BYbZoVIOv8GvtsPi2YHkKVwo2nvhAx2BGjOdsfIw5SrT2bbZQilFLYLSS52Nd0ODWKZJtXWG%2Fnq4FreqW1koFDl1RqWCZ6RtBIHhpEZop2rNax6rweqcqjtrsdRSxHPxuOSwu8A6aABTkoxh%2BO6gGBxcCtzSDXFVmSVxa7Q%3D%3D to authenticate...\n"
     ]
    }
   ],
   "source": [
    "import snowflake.snowpark.modin.plugin\n",
    "import modin.pandas as pd\n",
    "import numpy as np\n",
    "import datetime\n",
    "import pandas as native_pd\n",
    "from snowflake.snowpark.session import Session; session = Session.builder.create()\n",
    "import logging; logging.getLogger(\"snowflake.snowpark\").setLevel(logging.DEBUG)\n",
    "for name in logging.root.manager.loggerDict:\n",
    "    logging.getLogger(name).addFilter(lambda record: \"The Snowpark DataFrame in DataFrameReference with id=\" not in record.getMessage())\n",
    "logging.basicConfig()"
   ]
  },
  {
   "cell_type": "code",
   "execution_count": 2,
   "metadata": {},
   "outputs": [
    {
     "name": "stderr",
     "output_type": "stream",
     "text": [
      "DEBUG:snowflake.snowpark._internal.server_connection:Execute query [queryID: 01bb6f0f-080f-7ec5-0001-dd47d41af3cb] SHOW PARAMETERS LIKE 'QUOTED_IDENTIFIERS_IGNORE_CASE' IN SESSION\n",
      "DEBUG:snowflake.snowpark._internal.server_connection:Execute query [queryID: 01bb6f0f-080f-7e73-0001-dd47d41ad63f] SHOW PARAMETERS LIKE 'QUOTED_IDENTIFIERS_IGNORE_CASE' IN SESSION\n",
      "DEBUG:snowflake.snowpark.modin.plugin._internal.utils:Failed to create read only table for SAMPLE_DATA.TPCH_SF1.CUSTOMER: (1304): 01bb6f0f-080f-7e76-0001-dd47d4189ee7: 003029 (0A000): SQL compilation error:\n",
      "Cannot clone from a table that was imported from a share.\n",
      "DEBUG:snowflake.snowpark._internal.server_connection:Execute query [queryID: 01bb6f0f-080f-7e6e-0001-dd47d41b052f] SHOW PARAMETERS LIKE 'QUOTED_IDENTIFIERS_IGNORE_CASE' IN SESSION\n",
      "WARNING:snowflake.snowpark.modin.plugin._internal.utils:Snapshot source table/view 'SAMPLE_DATA.TPCH_SF1.CUSTOMER' failed due to reason: `003029 (0A000): SQL compilation error:\n",
      "Cannot clone from a table that was imported from a share.'. Data from source table/view 'SAMPLE_DATA.TPCH_SF1.CUSTOMER' is being copied into a new temporary table 'SNOWPARK_TEMP_TABLE_PBRCLU20QN' for snapshotting. DataFrame creation might take some time.\n",
      "DEBUG:snowflake.snowpark._internal.server_connection:Execute query [queryID: 01bb6f0f-080f-7ec5-0001-dd47d41af3e3] CREATE OR REPLACE TEMPORARY TABLE SNOWPARK_TEMP_TABLE_PBRCLU20QN AS SELECT * FROM SAMPLE_DATA.TPCH_SF1.CUSTOMER\n",
      "DEBUG:snowflake.snowpark._internal.server_connection:Execute query [queryID: 01bb6f0f-080f-7e73-0001-dd47d41ad6e7] CREATE OR REPLACE TEMPORARY READ ONLY TABLE SNOWPARK_TEMP_TABLE_QDP4S4P44XREADONLY CLONE SNOWPARK_TEMP_TABLE_PBRCLU20QN\n",
      "DEBUG:snowflake.snowpark._internal.server_connection:Execute query [queryID: 01bb6f10-080f-7e6e-0001-dd47d41b0877]  SELECT count(1) AS \"COUNT(LITERAL())\" FROM (SELECT METADATA$ROW_POSITION as \"__row_position__\", \"C_CUSTKEY\", \"C_NAME\", \"C_ADDRESS\", \"C_NATIONKEY\", \"C_PHONE\", \"C_ACCTBAL\", \"C_MKTSEGMENT\", \"C_COMMENT\" FROM SNOWPARK_TEMP_TABLE_QDP4S4P44XREADONLY) LIMIT 1\n"
     ]
    },
    {
     "data": {
      "application/vnd.jupyter.widget-view+json": {
       "model_id": "7c8cfd05acd8492ba81fc18106fbf60a",
       "version_major": 2,
       "version_minor": 0
      },
      "text/plain": [
       "Transferring data from Snowflake to Pandas ...:   0%|          | 0/2 [00:00<?, ?it/s]"
      ]
     },
     "metadata": {},
     "output_type": "display_data"
    },
    {
     "name": "stderr",
     "output_type": "stream",
     "text": [
      "DEBUG:snowflake.snowpark._internal.server_connection:Execute query [queryID: 01bb6f10-080f-7e73-0001-dd47d41ad8df]  SELECT \"__row_position__\", \"C_CUSTKEY\", \"C_NAME\", \"C_ADDRESS\", \"C_NATIONKEY\", \"C_PHONE\", \"C_ACCTBAL\", \"C_MKTSEGMENT\", \"C_COMMENT\" FROM (SELECT METADATA$ROW_POSITION as \"__row_position__\", \"C_CUSTKEY\", \"C_NAME\", \"C_ADDRESS\", \"C_NATIONKEY\", \"C_PHONE\", \"C_ACCTBAL\", \"C_MKTSEGMENT\", \"C_COMMENT\" FROM SNOWPARK_TEMP_TABLE_QDP4S4P44XREADONLY) ORDER BY \"__row_position__\" ASC NULLS LAST\n"
     ]
    }
   ],
   "source": [
    "df_small = pd.read_snowflake(\"SAMPLE_DATA.TPCH_SF1.CUSTOMER\")"
   ]
  },
  {
   "cell_type": "code",
   "execution_count": 3,
   "metadata": {},
   "outputs": [
    {
     "data": {
      "application/vnd.jupyter.widget-view+json": {
       "model_id": "17d2ac69107c4362903300ad3de4830a",
       "version_major": 2,
       "version_minor": 0
      },
      "text/plain": [
       "Transferring data from Pandas to Snowflake ...:   0%|          | 0/2 [00:00<?, ?it/s]"
      ]
     },
     "metadata": {},
     "output_type": "display_data"
    },
    {
     "name": "stderr",
     "output_type": "stream",
     "text": [
      "DEBUG:snowflake.snowpark._internal.server_connection:Execute query [queryID: 01bb6f10-080f-7e76-0001-dd47d41d1197] SHOW PARAMETERS LIKE 'QUOTED_IDENTIFIERS_IGNORE_CASE' IN SESSION\n",
      "DEBUG:snowflake.snowpark._internal.server_connection:Execute query [queryID: 01bb6f10-080f-7ec5-0001-dd47d41d91db]  CREATE  OR  REPLACE  SCOPED TEMPORARY  TABLE SNOWPARK_TEMP_TABLE_KJXNZKYO2H(\"__index__\" BIGINT, \"C_CUSTKEY\" BIGINT, \"C_NAME\" STRING, \"C_ADDRESS\" STRING, \"C_NATIONKEY\" BIGINT, \"C_PHONE\" STRING, \"C_ACCTBAL\" DOUBLE, \"C_MKTSEGMENT\" STRING, \"C_COMMENT\" STRING, \"__row_position__\" BIGINT)  \n",
      "DEBUG:snowflake.snowpark._internal.server_connection:Execute batch insertion query  INSERT  INTO SNOWPARK_TEMP_TABLE_KJXNZKYO2H(\"__index__\", \"C_CUSTKEY\", \"C_NAME\", \"C_ADDRESS\", \"C_NATIONKEY\", \"C_PHONE\", \"C_ACCTBAL\", \"C_MKTSEGMENT\", \"C_COMMENT\", \"__row_position__\") VALUES (?, ?, ?, ?, ?, ?, ?, ?, ?, ?)\n",
      "DEBUG:snowflake.snowpark._internal.server_connection:Execute query [queryID: 01bb6f10-080f-7e76-0001-dd47d41d15ab]  CREATE  TEMPORARY  TABLE  \"TEMP\".\"PUBLIC\".\"SNOWPARK_TEMP_TABLE_WDY22YKGNO\"(\"__index__\" BIGINT, \"C_CUSTKEY\" BIGINT, \"C_NAME\" STRING(16777216), \"C_ADDRESS\" STRING(16777216), \"C_NATIONKEY\" BIGINT, \"C_PHONE\" STRING(16777216), \"C_ACCTBAL\" DOUBLE, \"C_MKTSEGMENT\" STRING(16777216), \"C_COMMENT\" STRING(16777216), \"__row_position__\" BIGINT)    AS  SELECT  *  FROM ( SELECT \"__index__\", \"C_CUSTKEY\", \"C_NAME\", \"C_ADDRESS\", \"C_NATIONKEY\", \"C_PHONE\", \"C_ACCTBAL\", \"C_MKTSEGMENT\", \"C_COMMENT\", \"__row_position__\" FROM ( SELECT  *  FROM (SNOWPARK_TEMP_TABLE_KJXNZKYO2H)))\n",
      "DEBUG:snowflake.snowpark._internal.server_connection:Execute query [queryID: 01bb6f10-080f-7e6e-0001-dd47d41d6583]  DROP  TABLE  If  EXISTS SNOWPARK_TEMP_TABLE_HG4WK5MAXA\n"
     ]
    },
    {
     "data": {
      "application/vnd.jupyter.widget-view+json": {
       "model_id": "20953ec5c29b4b28bc7119d6310b3e24",
       "version_major": 2,
       "version_minor": 0
      },
      "text/plain": [
       "Transferring data from Pandas to Snowflake ...:   0%|          | 0/2 [00:00<?, ?it/s]"
      ]
     },
     "metadata": {},
     "output_type": "display_data"
    },
    {
     "name": "stderr",
     "output_type": "stream",
     "text": [
      "DEBUG:snowflake.snowpark._internal.server_connection:Execute query [queryID: 01bb6f10-080f-7e73-0001-dd47d41c7d8b] SHOW PARAMETERS LIKE 'QUOTED_IDENTIFIERS_IGNORE_CASE' IN SESSION\n",
      "DEBUG:snowflake.snowpark._internal.server_connection:Execute query [queryID: 01bb6f10-080f-7e6e-0001-dd47d41d6797]  CREATE  OR  REPLACE  SCOPED TEMPORARY  TABLE SNOWPARK_TEMP_TABLE_1EHUC76Y8H(\"__index__\" BIGINT, \"C_CUSTKEY\" BIGINT, \"C_NAME\" STRING, \"C_ADDRESS\" STRING, \"C_NATIONKEY\" BIGINT, \"C_PHONE\" STRING, \"C_ACCTBAL\" DOUBLE, \"C_MKTSEGMENT\" STRING, \"C_COMMENT\" STRING, \"__row_position__\" BIGINT)  \n",
      "DEBUG:snowflake.snowpark._internal.server_connection:Execute batch insertion query  INSERT  INTO SNOWPARK_TEMP_TABLE_1EHUC76Y8H(\"__index__\", \"C_CUSTKEY\", \"C_NAME\", \"C_ADDRESS\", \"C_NATIONKEY\", \"C_PHONE\", \"C_ACCTBAL\", \"C_MKTSEGMENT\", \"C_COMMENT\", \"__row_position__\") VALUES (?, ?, ?, ?, ?, ?, ?, ?, ?, ?)\n",
      "DEBUG:snowflake.snowpark._internal.server_connection:Execute query [queryID: 01bb6f10-080f-7e73-0001-dd47d41ef2af]  CREATE  TEMPORARY  TABLE  \"TEMP\".\"PUBLIC\".\"SNOWPARK_TEMP_TABLE_NQ7IYAY45T\"(\"__index__\" BIGINT, \"C_CUSTKEY\" BIGINT, \"C_NAME\" STRING(16777216), \"C_ADDRESS\" STRING(16777216), \"C_NATIONKEY\" BIGINT, \"C_PHONE\" STRING(16777216), \"C_ACCTBAL\" DOUBLE, \"C_MKTSEGMENT\" STRING(16777216), \"C_COMMENT\" STRING(16777216), \"__row_position__\" BIGINT)    AS  SELECT  *  FROM ( SELECT \"__index__\", \"C_CUSTKEY\", \"C_NAME\", \"C_ADDRESS\", \"C_NATIONKEY\", \"C_PHONE\", \"C_ACCTBAL\", \"C_MKTSEGMENT\", \"C_COMMENT\", \"__row_position__\" FROM ( SELECT  *  FROM (SNOWPARK_TEMP_TABLE_1EHUC76Y8H)))\n",
      "DEBUG:snowflake.snowpark._internal.server_connection:Execute query [queryID: 01bb6f10-080f-7e76-0001-dd47d41d1b6b]  DROP  TABLE  If  EXISTS SNOWPARK_TEMP_TABLE_POOHLV3G1E\n"
     ]
    }
   ],
   "source": [
    "df_small.move_to('Snowflake', inplace=True)"
   ]
  },
  {
   "cell_type": "code",
   "execution_count": 4,
   "metadata": {},
   "outputs": [
    {
     "data": {
      "text/plain": [
       "'Snowflake'"
      ]
     },
     "execution_count": 4,
     "metadata": {},
     "output_type": "execute_result"
    }
   ],
   "source": [
    "df_small.get_backend()"
   ]
  },
  {
   "cell_type": "code",
   "execution_count": 5,
   "metadata": {},
   "outputs": [
    {
     "data": {
      "application/vnd.jupyter.widget-view+json": {
       "model_id": "546ffdd7d11d4bdb9dfe00b307d6218e",
       "version_major": 2,
       "version_minor": 0
      },
      "text/plain": [
       "Transferring data from Snowflake to Pandas ...:   0%|          | 0/2 [00:00<?, ?it/s]"
      ]
     },
     "metadata": {},
     "output_type": "display_data"
    },
    {
     "name": "stderr",
     "output_type": "stream",
     "text": [
      "DEBUG:snowflake.snowpark._internal.server_connection:Execute query [queryID: 01bb6f10-080f-7e73-0001-dd47d41ef55b]  SELECT \"__index__\", \"C_CUSTKEY\", \"C_NAME\", \"C_ADDRESS\", \"C_NATIONKEY\", \"C_PHONE\", \"C_ACCTBAL\", \"C_MKTSEGMENT\", \"C_COMMENT\" FROM \"TEMP\".\"PUBLIC\".\"SNOWPARK_TEMP_TABLE_WDY22YKGNO\" ORDER BY \"__row_position__\" ASC NULLS LAST\n"
     ]
    }
   ],
   "source": [
    "df_local = df_small.describe()"
   ]
  },
  {
   "cell_type": "code",
   "execution_count": 6,
   "metadata": {},
   "outputs": [
    {
     "data": {
      "text/plain": [
       "'Pandas'"
      ]
     },
     "execution_count": 6,
     "metadata": {},
     "output_type": "execute_result"
    }
   ],
   "source": [
    "df_small.get_backend()"
   ]
  },
  {
   "cell_type": "code",
   "execution_count": 7,
   "metadata": {},
   "outputs": [
    {
     "data": {
      "text/plain": [
       "'Pandas'"
      ]
     },
     "execution_count": 7,
     "metadata": {},
     "output_type": "execute_result"
    }
   ],
   "source": [
    "df_local.get_backend()"
   ]
  },
  {
   "cell_type": "code",
   "execution_count": 8,
   "metadata": {},
   "outputs": [
    {
     "data": {
      "text/html": [
       "<div>\n",
       "<style scoped>\n",
       "    .dataframe tbody tr th:only-of-type {\n",
       "        vertical-align: middle;\n",
       "    }\n",
       "\n",
       "    .dataframe tbody tr th {\n",
       "        vertical-align: top;\n",
       "    }\n",
       "\n",
       "    .dataframe thead th {\n",
       "        text-align: right;\n",
       "    }\n",
       "</style>\n",
       "<table border=\"1\" class=\"dataframe\">\n",
       "  <thead>\n",
       "    <tr style=\"text-align: right;\">\n",
       "      <th></th>\n",
       "      <th>C_CUSTKEY</th>\n",
       "      <th>C_NATIONKEY</th>\n",
       "      <th>C_ACCTBAL</th>\n",
       "    </tr>\n",
       "  </thead>\n",
       "  <tbody>\n",
       "    <tr>\n",
       "      <th>count</th>\n",
       "      <td>150000.000000</td>\n",
       "      <td>150000.000000</td>\n",
       "      <td>150000.000000</td>\n",
       "    </tr>\n",
       "    <tr>\n",
       "      <th>mean</th>\n",
       "      <td>75000.500000</td>\n",
       "      <td>12.006700</td>\n",
       "      <td>4495.512332</td>\n",
       "    </tr>\n",
       "    <tr>\n",
       "      <th>std</th>\n",
       "      <td>43301.414527</td>\n",
       "      <td>7.208184</td>\n",
       "      <td>3174.322370</td>\n",
       "    </tr>\n",
       "    <tr>\n",
       "      <th>min</th>\n",
       "      <td>1.000000</td>\n",
       "      <td>0.000000</td>\n",
       "      <td>-999.990000</td>\n",
       "    </tr>\n",
       "    <tr>\n",
       "      <th>25%</th>\n",
       "      <td>37500.750000</td>\n",
       "      <td>6.000000</td>\n",
       "      <td>1757.620000</td>\n",
       "    </tr>\n",
       "    <tr>\n",
       "      <th>50%</th>\n",
       "      <td>75000.500000</td>\n",
       "      <td>12.000000</td>\n",
       "      <td>4477.300000</td>\n",
       "    </tr>\n",
       "    <tr>\n",
       "      <th>75%</th>\n",
       "      <td>112500.250000</td>\n",
       "      <td>18.000000</td>\n",
       "      <td>7246.315000</td>\n",
       "    </tr>\n",
       "    <tr>\n",
       "      <th>max</th>\n",
       "      <td>150000.000000</td>\n",
       "      <td>24.000000</td>\n",
       "      <td>9999.990000</td>\n",
       "    </tr>\n",
       "  </tbody>\n",
       "</table>\n",
       "</div>"
      ],
      "text/plain": [
       "           C_CUSTKEY    C_NATIONKEY      C_ACCTBAL\n",
       "count  150000.000000  150000.000000  150000.000000\n",
       "mean    75000.500000      12.006700    4495.512332\n",
       "std     43301.414527       7.208184    3174.322370\n",
       "min         1.000000       0.000000    -999.990000\n",
       "25%     37500.750000       6.000000    1757.620000\n",
       "50%     75000.500000      12.000000    4477.300000\n",
       "75%    112500.250000      18.000000    7246.315000\n",
       "max    150000.000000      24.000000    9999.990000"
      ]
     },
     "execution_count": 8,
     "metadata": {},
     "output_type": "execute_result"
    }
   ],
   "source": [
    "df_local"
   ]
  },
  {
   "cell_type": "code",
   "execution_count": 9,
   "metadata": {},
   "outputs": [
    {
     "data": {
      "text/plain": [
       "C_CUSTKEY  C_NAME              C_ADDRESS                             C_NATIONKEY  C_PHONE          C_ACCTBAL  C_MKTSEGMENT  C_COMMENT                                                                                                     \n",
       "30001      Customer#000030001  Ui1b,3Q71CiLTJn4MbVp,,YCZARIaNTelfst  4            14-526-204-4500  8848.47    MACHINERY     frays wake blithely enticingly ironic asymptote                                                                   1\n",
       "130013     Customer#000130013  dQqMlji8Y O0VaMnK                     5            15-873-604-7722  9317.88    MACHINERY     ts. furiously special packages haggle inside the unusual p                                                        1\n",
       "129997     Customer#000129997  IXHqiCHQhy                            24           34-402-253-5780  6285.45    HOUSEHOLD     e furiously ironic dugouts haggle after the slyly regular pinto beans. even dependencies serv                     1\n",
       "129998     Customer#000129998  8Q0hEfpZLN0nkhrmNwUwCK3hvk 8J         22           32-242-900-9684  4602.12    AUTOMOBILE    longside of the foxes wake slyly regular pearls. blithely regular as                                              1\n",
       "129999     Customer#000129999  hBz97K5kzuJMFLbSW M                   22           32-367-938-7351  4801.59    HOUSEHOLD     s sleep furiously. platelets sleep slyly                                                                          1\n",
       "                                                                                                                                                                                                                                             ..\n",
       "92426      Customer#000092426  GDk8tGH3zPqQ5wyl2bspH9                9            19-127-768-2325  9520.78    HOUSEHOLD     lets. even foxes across the carefully unusual requests wake above the regular accounts.                           1\n",
       "92427      Customer#000092427  EMmtYuY38Dkw28tmpL9FiLc4              21           31-821-992-9251  7771.86    HOUSEHOLD     riously unusual requests detect always foxes. quickly regular packages sleep furiously above the blithely bold    1\n",
       "92428      Customer#000092428  HZx6Alqi5mPFZA6C4pHvwr8H2rKEp         4            14-403-810-5982  5676.85    FURNITURE     sly furiously regular attainments. slyly regular packages are carefully.                                          1\n",
       "92429      Customer#000092429  kAWasoq0AVx9efcCbxcMqgKteWNU zmBD5    6            16-478-938-8618  5797.64    BUILDING      ully across the carefully express requests. si                                                                    1\n",
       "30000      Customer#000030000  sXiVJIRV4f4,MWk                       22           32-391-639-5338  4437.43    BUILDING      ong the blithely special ideas: slyly regular instructions sleep slyly. express                                   1\n",
       "Name: count, Length: 150000, dtype: int64"
      ]
     },
     "execution_count": 9,
     "metadata": {},
     "output_type": "execute_result"
    }
   ],
   "source": [
    "df_small.value_counts()"
   ]
  },
  {
   "cell_type": "code",
   "execution_count": 10,
   "metadata": {},
   "outputs": [
    {
     "data": {
      "application/vnd.jupyter.widget-view+json": {
       "model_id": "c1f76afe0c32439f97dcb8ea4b1579f3",
       "version_major": 2,
       "version_minor": 0
      },
      "text/plain": [
       "Transferring data from Pandas to Snowflake ...:   0%|          | 0/2 [00:00<?, ?it/s]"
      ]
     },
     "metadata": {},
     "output_type": "display_data"
    },
    {
     "name": "stderr",
     "output_type": "stream",
     "text": [
      "DEBUG:snowflake.snowpark._internal.server_connection:Execute query [queryID: 01bb6f11-080f-7e76-0001-dd47d4202197] SHOW PARAMETERS LIKE 'QUOTED_IDENTIFIERS_IGNORE_CASE' IN SESSION\n",
      "DEBUG:snowflake.snowpark._internal.server_connection:Execute query [queryID: 01bb6f11-080f-7e73-0001-dd47d420e00b]  CREATE  OR  REPLACE  SCOPED TEMPORARY  TABLE SNOWPARK_TEMP_TABLE_QOXLZFV9FA(\"__index__\" BIGINT, \"C_CUSTKEY\" BIGINT, \"C_NAME\" STRING, \"C_ADDRESS\" STRING, \"C_NATIONKEY\" BIGINT, \"C_PHONE\" STRING, \"C_ACCTBAL\" DOUBLE, \"C_MKTSEGMENT\" STRING, \"C_COMMENT\" STRING, \"__row_position__\" BIGINT)  \n",
      "DEBUG:snowflake.snowpark._internal.server_connection:Execute batch insertion query  INSERT  INTO SNOWPARK_TEMP_TABLE_QOXLZFV9FA(\"__index__\", \"C_CUSTKEY\", \"C_NAME\", \"C_ADDRESS\", \"C_NATIONKEY\", \"C_PHONE\", \"C_ACCTBAL\", \"C_MKTSEGMENT\", \"C_COMMENT\", \"__row_position__\") VALUES (?, ?, ?, ?, ?, ?, ?, ?, ?, ?)\n",
      "DEBUG:snowflake.snowpark._internal.server_connection:Execute query [queryID: 01bb6f11-080f-7e6e-0001-dd47d42049d7]  CREATE  TEMPORARY  TABLE  \"TEMP\".\"PUBLIC\".\"SNOWPARK_TEMP_TABLE_5AP084MILI\"(\"__index__\" BIGINT, \"C_CUSTKEY\" BIGINT, \"C_NAME\" STRING(16777216), \"C_ADDRESS\" STRING(16777216), \"C_NATIONKEY\" BIGINT, \"C_PHONE\" STRING(16777216), \"C_ACCTBAL\" DOUBLE, \"C_MKTSEGMENT\" STRING(16777216), \"C_COMMENT\" STRING(16777216), \"__row_position__\" BIGINT)    AS  SELECT  *  FROM ( SELECT \"__index__\", \"C_CUSTKEY\", \"C_NAME\", \"C_ADDRESS\", \"C_NATIONKEY\", \"C_PHONE\", \"C_ACCTBAL\", \"C_MKTSEGMENT\", \"C_COMMENT\", \"__row_position__\" FROM ( SELECT  *  FROM (SNOWPARK_TEMP_TABLE_QOXLZFV9FA)))\n",
      "DEBUG:snowflake.snowpark._internal.server_connection:Execute query [queryID: 01bb6f11-080f-7ec5-0001-dd47d421522f]  DROP  TABLE  If  EXISTS SNOWPARK_TEMP_TABLE_27YBNDQDQ4\n"
     ]
    }
   ],
   "source": [
    "df_small_snow = df_small.move_to('Snowflake')"
   ]
  },
  {
   "cell_type": "code",
   "execution_count": 11,
   "metadata": {},
   "outputs": [
    {
     "data": {
      "application/vnd.jupyter.widget-view+json": {
       "model_id": "d8479d3ead6a4d57be13a431fbc9c23b",
       "version_major": 2,
       "version_minor": 0
      },
      "text/plain": [
       "Transferring data from Snowflake to Pandas ...:   0%|          | 0/2 [00:00<?, ?it/s]"
      ]
     },
     "metadata": {},
     "output_type": "display_data"
    },
    {
     "name": "stderr",
     "output_type": "stream",
     "text": [
      "DEBUG:snowflake.snowpark._internal.server_connection:Execute query [queryID: 01bb6f11-080f-7e76-0001-dd47d4202d03]  SELECT \"C_CUSTKEY_dsp0\", \"C_NAME_5giv\", \"C_ADDRESS_w842\", \"C_NATIONKEY_fvds\", \"C_PHONE_2td1\", \"C_ACCTBAL_fvtn\", \"C_MKTSEGMENT_pptc\", \"C_COMMENT_oe3h\", \"count\" FROM ( SELECT \"C_CUSTKEY_dsp0\", \"C_NAME_5giv\", \"C_ADDRESS_w842\", \"C_NATIONKEY_fvds\", \"C_PHONE_2td1\", \"C_ACCTBAL_fvtn\", \"C_MKTSEGMENT_pptc\", \"C_COMMENT_oe3h\", \"value_count_hgjh\", \"__row_position_drox__\", (row_number() OVER (  ORDER BY \"__row_position_drox__\" ASC NULLS LAST ) - 1) AS \"__row_position__\", \"value_count_hgjh\" AS \"count\" FROM ( SELECT \"C_CUSTKEY_dsp0\", \"C_NAME_5giv\", \"C_ADDRESS_w842\", \"C_NATIONKEY_fvds\", \"C_PHONE_2td1\", \"C_ACCTBAL_fvtn\", \"C_MKTSEGMENT_pptc\", \"C_COMMENT_oe3h\", count(\"value_count\") AS \"value_count_hgjh\", min(\"__row_position_drox__\") AS \"__row_position_drox__\" FROM ( SELECT \"__index__\", \"C_CUSTKEY\", \"C_NAME\", \"C_ADDRESS\", \"C_NATIONKEY\", \"C_PHONE\", \"C_ACCTBAL\", \"C_MKTSEGMENT\", \"C_COMMENT\", \"__row_position__\", \"value_count\", \"C_CUSTKEY_dsp0\", \"C_NAME_5giv\", \"C_ADDRESS_w842\", \"C_NATIONKEY_fvds\", \"C_PHONE_2td1\", \"C_ACCTBAL_fvtn\", \"C_MKTSEGMENT_pptc\", \"C_COMMENT_oe3h\", (row_number() OVER (  ORDER BY \"__row_position__\" ASC NULLS LAST ) - 1) AS \"__row_position_drox__\" FROM ( SELECT  *  FROM ( SELECT \"__index__\", \"C_CUSTKEY\", \"C_NAME\", \"C_ADDRESS\", \"C_NATIONKEY\", \"C_PHONE\", \"C_ACCTBAL\", \"C_MKTSEGMENT\", \"C_COMMENT\", \"__row_position__\", 1 :: INT AS \"value_count\", \"C_CUSTKEY\" AS \"C_CUSTKEY_dsp0\", \"C_NAME\" AS \"C_NAME_5giv\", \"C_ADDRESS\" AS \"C_ADDRESS_w842\", \"C_NATIONKEY\" AS \"C_NATIONKEY_fvds\", \"C_PHONE\" AS \"C_PHONE_2td1\", \"C_ACCTBAL\" AS \"C_ACCTBAL_fvtn\", \"C_MKTSEGMENT\" AS \"C_MKTSEGMENT_pptc\", \"C_COMMENT\" AS \"C_COMMENT_oe3h\" FROM \"TEMP\".\"PUBLIC\".\"SNOWPARK_TEMP_TABLE_5AP084MILI\") WHERE ((iff(((\"C_ACCTBAL_fvtn\" = 'NAN' :: FLOAT) OR \"C_ACCTBAL_fvtn\" IS NULL), 0, 1) + iff(\"C_NATIONKEY_fvds\" IS NULL, 0, 1) + iff(\"C_ADDRESS_w842\" IS NULL, 0, 1) + iff(\"C_NAME_5giv\" IS NULL, 0, 1) + iff(\"C_CUSTKEY_dsp0\" IS NULL, 0, 1) + iff(\"C_PHONE_2td1\" IS NULL, 0, 1) + iff(\"C_COMMENT_oe3h\" IS NULL, 0, 1) + iff(\"C_MKTSEGMENT_pptc\" IS NULL, 0, 1)) >= 8))) GROUP BY \"C_CUSTKEY_dsp0\", \"C_NAME_5giv\", \"C_ADDRESS_w842\", \"C_NATIONKEY_fvds\", \"C_PHONE_2td1\", \"C_ACCTBAL_fvtn\", \"C_MKTSEGMENT_pptc\", \"C_COMMENT_oe3h\")) ORDER BY \"value_count_hgjh\" DESC NULLS LAST, \"__row_position__\" ASC NULLS LAST\n"
     ]
    }
   ],
   "source": [
    "df_value_counts = df_small_snow.value_counts()"
   ]
  },
  {
   "cell_type": "code",
   "execution_count": 12,
   "metadata": {},
   "outputs": [
    {
     "data": {
      "text/plain": [
       "'Pandas'"
      ]
     },
     "execution_count": 12,
     "metadata": {},
     "output_type": "execute_result"
    }
   ],
   "source": [
    "df_value_counts.get_backend() # should be pandas"
   ]
  },
  {
   "cell_type": "code",
   "execution_count": 13,
   "metadata": {},
   "outputs": [
    {
     "data": {
      "text/plain": [
       "'Snowflake'"
      ]
     },
     "execution_count": 13,
     "metadata": {},
     "output_type": "execute_result"
    }
   ],
   "source": [
    "df_small_snow.get_backend() # should stay snowflake"
   ]
  },
  {
   "cell_type": "code",
   "execution_count": 14,
   "metadata": {},
   "outputs": [
    {
     "data": {
      "text/plain": [
       "C_CUSTKEY  C_NAME              C_ADDRESS                               C_NATIONKEY  C_PHONE          C_ACCTBAL  C_MKTSEGMENT  C_COMMENT                                                                                            \n",
       "30001      Customer#000030001  Ui1b,3Q71CiLTJn4MbVp,,YCZARIaNTelfst    4            14-526-204-4500   8848.47   MACHINERY     frays wake blithely enticingly ironic asymptote                                                          1\n",
       "30002      Customer#000030002  UVBoMtILkQu1J3v                         11           21-340-653-9800   5221.81   MACHINERY     he slyly ironic pinto beans wake slyly above the fluffily careful warthogs. even dependenci              1\n",
       "30003      Customer#000030003  CuGi9fwKn8JdR                           21           31-757-493-7525   3014.89   BUILDING      e furiously alongside of the requests. evenly even theodolites are quickly blithely i                    1\n",
       "30004      Customer#000030004  tkR93ReOnf9zYeO                         23           33-870-136-4375   3308.55   AUTOMOBILE    ssly bold deposits. final req                                                                            1\n",
       "30005      Customer#000030005  pvq4uDoD8pEwpAE01aesCtbD9WU8qmlsvoFav5  9            19-144-468-5416  -278.54    MACHINERY     ructions behind the pinto beans x-ra                                                                     1\n",
       "                                                                                                                                                                                                                                      ..\n",
       "29996      Customer#000029996  BnZVGZiAgcEImNm9iD                      7            17-536-308-8025   4035.17   FURNITURE     ual instructions. bold, silent foxes nag blithely. deposits among the unusual req                        1\n",
       "29997      Customer#000029997  lTbDYXdQ74JctD UbRbXCqF2b8              9            19-631-777-4123   2015.90   HOUSEHOLD     eodolites detect slyly alongside of the quickly final pinto beans                                        1\n",
       "29998      Customer#000029998  ZxxiuDruzi98CcymR                       23           33-619-315-9722  -810.56    FURNITURE     xpress packages. accounts sleep carefully ironic deposits.                                               1\n",
       "29999      Customer#000029999  CuPA4UpgTCYiXrBrpiSO D                  12           22-824-951-8333   3865.14   FURNITURE     eposits-- accounts haggle across the slyly permanent ideas. blithely express ideas haggle blithely. s    1\n",
       "30000      Customer#000030000  sXiVJIRV4f4,MWk                         22           32-391-639-5338   4437.43   BUILDING      ong the blithely special ideas: slyly regular instructions sleep slyly. express                          1\n",
       "Name: count, Length: 150000, dtype: int64"
      ]
     },
     "execution_count": 14,
     "metadata": {},
     "output_type": "execute_result"
    }
   ],
   "source": [
    "df_value_counts"
   ]
  },
  {
   "cell_type": "code",
   "execution_count": 15,
   "metadata": {},
   "outputs": [
    {
     "name": "stderr",
     "output_type": "stream",
     "text": [
      "DEBUG:snowflake.snowpark._internal.server_connection:Execute query [queryID: 01bb6ce7-080f-77b7-0001-dd47cb6753d3]  CREATE  OR  REPLACE  SCOPED TEMPORARY  TABLE SNOWPARK_TEMP_TABLE_5P532JKTIK(\"__index__\" BIGINT, \"C_CUSTKEY\" BIGINT, \"C_NAME\" STRING, \"C_ADDRESS\" STRING, \"C_NATIONKEY\" BIGINT, \"C_PHONE\" STRING, \"C_ACCTBAL\" DOUBLE, \"C_MKTSEGMENT\" STRING, \"C_COMMENT\" STRING, \"__row_position__\" BIGINT)  \n",
      "DEBUG:snowflake.snowpark._internal.server_connection:Execute batch insertion query  INSERT  INTO SNOWPARK_TEMP_TABLE_5P532JKTIK(\"__index__\", \"C_CUSTKEY\", \"C_NAME\", \"C_ADDRESS\", \"C_NATIONKEY\", \"C_PHONE\", \"C_ACCTBAL\", \"C_MKTSEGMENT\", \"C_COMMENT\", \"__row_position__\") VALUES (?, ?, ?, ?, ?, ?, ?, ?, ?, ?)\n",
      "DEBUG:snowflake.snowpark._internal.server_connection:Execute query [queryID: 01bb6ce7-080f-776f-0001-dd47cb66f7eb]  SELECT count(1) OVER (  ) AS \"__row_count__\" FROM ( SELECT  *  FROM (SNOWPARK_TEMP_TABLE_5P532JKTIK)) LIMIT 1\n",
      "DEBUG:snowflake.snowpark._internal.server_connection:Execute query [queryID: 01bb6ce7-080f-7aa8-0001-dd47cb663763]  DROP  TABLE  If  EXISTS SNOWPARK_TEMP_TABLE_07L6W7M3BC\n"
     ]
    },
    {
     "data": {
      "application/vnd.jupyter.widget-view+json": {
       "model_id": "65f13bb47ba1431aa2aeb2dcce6ca472",
       "version_major": 2,
       "version_minor": 0
      },
      "text/plain": [
       "Transferring data from Snowflake to Pandas ...:   0%|          | 0/2 [00:00<?, ?it/s]"
      ]
     },
     "metadata": {},
     "output_type": "display_data"
    },
    {
     "name": "stderr",
     "output_type": "stream",
     "text": [
      "DEBUG:snowflake.snowpark._internal.server_connection:Execute query [queryID: 01bb6ce7-080f-7b05-0001-dd47cb68c203]  CREATE  OR  REPLACE  SCOPED TEMPORARY  TABLE SNOWPARK_TEMP_TABLE_1NLAG3XN53(\"__index__\" BIGINT, \"C_CUSTKEY\" BIGINT, \"C_NAME\" STRING, \"C_ADDRESS\" STRING, \"C_NATIONKEY\" BIGINT, \"C_PHONE\" STRING, \"C_ACCTBAL\" DOUBLE, \"C_MKTSEGMENT\" STRING, \"C_COMMENT\" STRING, \"__row_position__\" BIGINT)  \n",
      "DEBUG:snowflake.snowpark._internal.server_connection:Execute batch insertion query  INSERT  INTO SNOWPARK_TEMP_TABLE_1NLAG3XN53(\"__index__\", \"C_CUSTKEY\", \"C_NAME\", \"C_ADDRESS\", \"C_NATIONKEY\", \"C_PHONE\", \"C_ACCTBAL\", \"C_MKTSEGMENT\", \"C_COMMENT\", \"__row_position__\") VALUES (?, ?, ?, ?, ?, ?, ?, ?, ?, ?)\n",
      "DEBUG:snowflake.snowpark._internal.server_connection:Execute query [queryID: 01bb6ce8-080f-77b7-0001-dd47cb67584f]  SELECT \"__index__\", \"C_CUSTKEY\", \"C_NAME\", \"C_ADDRESS\", \"C_NATIONKEY\", \"C_PHONE\", \"C_ACCTBAL\", \"C_MKTSEGMENT\", \"C_COMMENT\" FROM ( SELECT \"__index__\", \"C_CUSTKEY\", \"C_NAME\", \"C_ADDRESS\", \"C_NATIONKEY\", \"C_PHONE\", \"C_ACCTBAL\", \"C_MKTSEGMENT\", \"C_COMMENT\", \"__row_position__\", 1 :: INT AS \"value_count\", \"C_CUSTKEY\" AS \"C_CUSTKEY_yb95\", \"C_NAME\" AS \"C_NAME_jjj7\", \"C_ADDRESS\" AS \"C_ADDRESS_kk9k\", \"C_NATIONKEY\" AS \"C_NATIONKEY_3trm\", \"C_PHONE\" AS \"C_PHONE_vbr4\", \"C_ACCTBAL\" AS \"C_ACCTBAL_g5n9\", \"C_MKTSEGMENT\" AS \"C_MKTSEGMENT_u1u6\", \"C_COMMENT\" AS \"C_COMMENT_5p1k\", count(1) OVER (  ) AS \"__row_count__\" FROM ( SELECT  *  FROM (SNOWPARK_TEMP_TABLE_1NLAG3XN53))) ORDER BY \"__row_position__\" ASC NULLS LAST\n",
      "DEBUG:snowflake.snowpark._internal.server_connection:Execute query [queryID: 01bb6ce8-080f-776f-0001-dd47cb66fc6b]  DROP  TABLE  If  EXISTS SNOWPARK_TEMP_TABLE_GXV5QFHFDO\n"
     ]
    },
    {
     "ename": "TypeError",
     "evalue": "'Axes' object is not callable",
     "output_type": "error",
     "traceback": [
      "\u001b[0;31m---------------------------------------------------------------------------\u001b[0m",
      "\u001b[0;31mTypeError\u001b[0m                                 Traceback (most recent call last)",
      "Cell \u001b[0;32mIn[15], line 1\u001b[0m\n\u001b[0;32m----> 1\u001b[0m \u001b[43mdf_small_snow\u001b[49m\u001b[38;5;241;43m.\u001b[39;49m\u001b[43mplot\u001b[49m\u001b[43m(\u001b[49m\u001b[43mx\u001b[49m\u001b[38;5;241;43m=\u001b[39;49m\u001b[38;5;124;43m'\u001b[39;49m\u001b[38;5;124;43mC_CUSTKEY\u001b[39;49m\u001b[38;5;124;43m'\u001b[39;49m\u001b[43m,\u001b[49m\u001b[43m \u001b[49m\u001b[43my\u001b[49m\u001b[38;5;241;43m=\u001b[39;49m\u001b[38;5;124;43m'\u001b[39;49m\u001b[38;5;124;43mC_NATIONKEY\u001b[39;49m\u001b[38;5;124;43m'\u001b[39;49m\u001b[43m)\u001b[49m\n",
      "\u001b[0;31mTypeError\u001b[0m: 'Axes' object is not callable"
     ]
    },
    {
     "data": {
      "image/png": "[encoded data removed]",
      "text/plain": [
       "<Figure size 640x480 with 1 Axes>"
      ]
     },
     "metadata": {},
     "output_type": "display_data"
    }
   ],
   "source": [
    "df_small_snow.plot(x='C_CUSTKEY', y='C_NATIONKEY')"
   ]
  },
  {
   "cell_type": "code",
   "execution_count": 16,
   "metadata": {},
   "outputs": [
    {
     "data": {
      "text/plain": [
       "'Pandas'"
      ]
     },
     "execution_count": 16,
     "metadata": {},
     "output_type": "execute_result"
    }
   ],
   "source": [
    "df_small_snow.get_backend() # should be pandas"
   ]
  },
  {
   "cell_type": "code",
   "execution_count": null,
   "metadata": {},
   "outputs": [],
   "source": []
  }
 ],
 "metadata": {
  "kernelspec": {
   "display_name": "Python 3 (ipykernel)",
   "language": "python",
   "name": "python3"
  },
  "language_info": {
   "codemirror_mode": {
    "name": "ipython",
    "version": 3
   },
   "file_extension": ".py",
   "mimetype": "text/x-python",
   "name": "python",
   "nbconvert_exporter": "python",
   "pygments_lexer": "ipython3",
   "version": "3.9.18"
  }
 },
 "nbformat": 4,
 "nbformat_minor": 4
}
