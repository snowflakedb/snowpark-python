{
 "cells": [
  {
   "cell_type": "markdown",
   "id": "014b3af4-af71-4b9d-b6f4-c8f990c11d62",
   "metadata": {},
   "source": [
    "# Hybrid Execution Automatic Switching Demo"
   ]
  },
  {
   "cell_type": "code",
   "execution_count": 1,
   "id": "56f420d4-a934-409c-92b9-29d2427ce6c6",
   "metadata": {},
   "outputs": [
    {
     "name": "stderr",
     "output_type": "stream",
     "text": [
      "SyntaxWarning: \"is\" with a literal. Did you mean \"==\"?\n"
     ]
    },
    {
     "name": "stdout",
     "output_type": "stream",
     "text": [
      "Initiating login request with your identity provider. A browser window should have opened for you to complete the login. If you can't see it, check existing browser windows, or your OS settings. Press CTRL+C to abort and try again...\n",
      "Going to open: https://snowbiz.okta.com/app/snowflake/exk8wfsfryJIn4IWZ2p7/sso/saml?SAMLRequest=jVJdc9owEPwrHvUZSzZuQjRABkKYuA0fDaZMeVNsGVRkydXJMeTXR%2Bajkz4k0zfNafd27%2Fa6t%2FtCei%2FcgNCqhwKfII%2BrVGdCbXpomYxbHeSBZSpjUiveQwcO6LbfBVbIkg4qu1VP%2FE%2FFwXqukQLafPRQZRTVDARQxQoO1KZ0MZg80tAnlAFwY50cOlMyEE5ra21JMa7r2q%2FbvjYbHBJCMLnBDtVAvqB3EuXnGqXRVqdaXih7N9MHEgEmUSPhEE5hfiYOhTqt4DOV5xMI6EOSzFvz2SJB3uAy3Z1WUBXcLLh5ESlfPj2eDIBzsJjOVg%2Bz5eLeB6XrXLIdT3VRVtZ1890L5zzDUm%2BE21E86qFyJzJ4%2BC22hwkLZXudtK%2BHZTRedXbDH98jM%2Blsxeuvm%2Fv59GqVbzaDFHk%2FL4mGTaIxQMVj1eRoXYmEX1skagVREhIatWk78MMrskbeyOUoFLNH5sVsY%2FFZvPp6Z9nRHCtL%2FNc35vtdp84hN4dvsYri1TosrzGAxk1M6HQp9GjA9P93%2Fi5%2Bzzof29TtPx7NtRTpwRtrUzD7cTyBHxwrImvlRyjlBRNykGWGA7iYpNT1neHMupu2puII90%2Bq%2F151%2Fw0%3D&RelayState=ver%3A1-hint%3A2050423465438-ETMsDgAAAZY2Cvo8ABRBRVMvQ0JDL1BLQ1M1UGFkZGluZwEAABAAEBag09djkVoavrHIUi9rlz8AAACQbJnbLk3CvlmsbMLCXaEk9djyJLwZK1fb6akQdvTXPGaXYKP6axCt8aep41ZS264yBmFl5DjzgT%2Fb%2FxXYYdQsLfVGID14yBA3HLWtPXBOLxMaCCFRHjOaqkWcLqtm4z2SOdpi2ZJA1guEF2bYZwyeO%2BFdFVif3DDmKPCkW5TR1QBC0FsgZc%2BNntX91%2FPSBplDABR73TtoUNx6%2FX8HykKXin5JqOS2pQ%3D%3D to authenticate...\n"
     ]
    }
   ],
   "source": [
    "import snowflake.snowpark.modin.plugin\n",
    "import modin.pandas as pd\n",
    "import numpy as np\n",
    "import datetime\n",
    "import pandas as native_pd\n",
    "from snowflake.snowpark.session import Session; session = Session.builder.create()"
   ]
  },
  {
   "cell_type": "markdown",
   "id": "662115d3-ad0a-4fea-88ba-321a03ffdf3c",
   "metadata": {},
   "source": [
    "## Example 1: Working with small/inline-created dataframe is faster"
   ]
  },
  {
   "cell_type": "code",
   "execution_count": 2,
   "id": "1ad6a86c-ba58-443e-b48f-80a717eb8204",
   "metadata": {},
   "outputs": [],
   "source": [
    "us_holidays = [\n",
    "    (\"New Year's Day\", \"2025-01-01\"),\n",
    "    (\"Martin Luther King Jr. Day\", \"2025-01-20\"),\n",
    "    (\"Presidents' Day\", \"2025-02-17\"),\n",
    "    (\"Memorial Day\", \"2025-05-26\"),\n",
    "    (\"Juneteenth National Independence Day\", \"2025-06-19\"),\n",
    "    (\"Independence Day\", \"2025-07-04\"),\n",
    "    (\"Labor Day\", \"2025-09-01\"),\n",
    "    (\"Columbus Day\", \"2025-10-13\"),\n",
    "    (\"Veterans Day\", \"2025-11-11\"),\n",
    "    (\"Thanksgiving Day\", \"2025-11-27\"),\n",
    "    (\"Christmas Day\", \"2025-12-25\")\n",
    "]\n",
    "\n",
    "# Create DataFrame\n",
    "df_us_holidays = pd.DataFrame(us_holidays, columns=[\"Holiday\", \"Date\"])\n",
    "\n",
    "# Convert Date column to datetime\n",
    "df_us_holidays[\"Date\"] = pd.to_datetime(df_us_holidays[\"Date\"])"
   ]
  },
  {
   "cell_type": "code",
   "execution_count": 3,
   "id": "de09f690-e4e6-4aa3-bef5-bc96a389c3fd",
   "metadata": {},
   "outputs": [],
   "source": [
    "assert df_us_holidays.get_backend() == 'Pandas'  # with auto, we should expect this to be local"
   ]
  },
  {
   "cell_type": "code",
   "execution_count": 4,
   "id": "f05b150e-086f-4337-bd50-25db48bbeffb",
   "metadata": {},
   "outputs": [],
   "source": [
    "# Add new columns for transformations\n",
    "df_us_holidays[\"Day_of_Week\"] = df_us_holidays[\"Date\"].dt.day_name()\n",
    "df_us_holidays[\"Month\"] = df_us_holidays[\"Date\"].dt.month_name()"
   ]
  },
  {
   "cell_type": "code",
   "execution_count": 5,
   "id": "b4d304c3-54bc-4ab0-b792-df0e67566819",
   "metadata": {},
   "outputs": [
    {
     "data": {
      "text/html": [
       "<div>\n",
       "<style scoped>\n",
       "    .dataframe tbody tr th:only-of-type {\n",
       "        vertical-align: middle;\n",
       "    }\n",
       "\n",
       "    .dataframe tbody tr th {\n",
       "        vertical-align: top;\n",
       "    }\n",
       "\n",
       "    .dataframe thead th {\n",
       "        text-align: right;\n",
       "    }\n",
       "</style>\n",
       "<table border=\"1\" class=\"dataframe\">\n",
       "  <thead>\n",
       "    <tr style=\"text-align: right;\">\n",
       "      <th></th>\n",
       "      <th>Holiday</th>\n",
       "      <th>Date</th>\n",
       "      <th>Day_of_Week</th>\n",
       "      <th>Month</th>\n",
       "    </tr>\n",
       "  </thead>\n",
       "  <tbody>\n",
       "    <tr>\n",
       "      <th>0</th>\n",
       "      <td>New Year's Day</td>\n",
       "      <td>2025-01-01</td>\n",
       "      <td>Wednesday</td>\n",
       "      <td>January</td>\n",
       "    </tr>\n",
       "    <tr>\n",
       "      <th>1</th>\n",
       "      <td>Martin Luther King Jr. Day</td>\n",
       "      <td>2025-01-20</td>\n",
       "      <td>Monday</td>\n",
       "      <td>January</td>\n",
       "    </tr>\n",
       "    <tr>\n",
       "      <th>2</th>\n",
       "      <td>Presidents' Day</td>\n",
       "      <td>2025-02-17</td>\n",
       "      <td>Monday</td>\n",
       "      <td>February</td>\n",
       "    </tr>\n",
       "    <tr>\n",
       "      <th>3</th>\n",
       "      <td>Memorial Day</td>\n",
       "      <td>2025-05-26</td>\n",
       "      <td>Monday</td>\n",
       "      <td>May</td>\n",
       "    </tr>\n",
       "    <tr>\n",
       "      <th>4</th>\n",
       "      <td>Juneteenth National Independence Day</td>\n",
       "      <td>2025-06-19</td>\n",
       "      <td>Thursday</td>\n",
       "      <td>June</td>\n",
       "    </tr>\n",
       "    <tr>\n",
       "      <th>5</th>\n",
       "      <td>Independence Day</td>\n",
       "      <td>2025-07-04</td>\n",
       "      <td>Friday</td>\n",
       "      <td>July</td>\n",
       "    </tr>\n",
       "    <tr>\n",
       "      <th>6</th>\n",
       "      <td>Labor Day</td>\n",
       "      <td>2025-09-01</td>\n",
       "      <td>Monday</td>\n",
       "      <td>September</td>\n",
       "    </tr>\n",
       "    <tr>\n",
       "      <th>7</th>\n",
       "      <td>Columbus Day</td>\n",
       "      <td>2025-10-13</td>\n",
       "      <td>Monday</td>\n",
       "      <td>October</td>\n",
       "    </tr>\n",
       "    <tr>\n",
       "      <th>8</th>\n",
       "      <td>Veterans Day</td>\n",
       "      <td>2025-11-11</td>\n",
       "      <td>Tuesday</td>\n",
       "      <td>November</td>\n",
       "    </tr>\n",
       "    <tr>\n",
       "      <th>9</th>\n",
       "      <td>Thanksgiving Day</td>\n",
       "      <td>2025-11-27</td>\n",
       "      <td>Thursday</td>\n",
       "      <td>November</td>\n",
       "    </tr>\n",
       "    <tr>\n",
       "      <th>10</th>\n",
       "      <td>Christmas Day</td>\n",
       "      <td>2025-12-25</td>\n",
       "      <td>Thursday</td>\n",
       "      <td>December</td>\n",
       "    </tr>\n",
       "  </tbody>\n",
       "</table>\n",
       "</div>"
      ],
      "text/plain": [
       "                                 Holiday       Date Day_of_Week      Month\n",
       "0                         New Year's Day 2025-01-01   Wednesday    January\n",
       "1             Martin Luther King Jr. Day 2025-01-20      Monday    January\n",
       "2                        Presidents' Day 2025-02-17      Monday   February\n",
       "3                           Memorial Day 2025-05-26      Monday        May\n",
       "4   Juneteenth National Independence Day 2025-06-19    Thursday       June\n",
       "5                       Independence Day 2025-07-04      Friday       July\n",
       "6                              Labor Day 2025-09-01      Monday  September\n",
       "7                           Columbus Day 2025-10-13      Monday    October\n",
       "8                           Veterans Day 2025-11-11     Tuesday   November\n",
       "9                       Thanksgiving Day 2025-11-27    Thursday   November\n",
       "10                         Christmas Day 2025-12-25    Thursday   December"
      ]
     },
     "execution_count": 5,
     "metadata": {},
     "output_type": "execute_result"
    }
   ],
   "source": [
    "df_us_holidays"
   ]
  },
  {
   "cell_type": "code",
   "execution_count": 6,
   "id": "558479c6-11d3-42f0-990a-7914967ab66f",
   "metadata": {},
   "outputs": [
    {
     "name": "stdout",
     "output_type": "stream",
     "text": [
      "New Year's Day falls on Wednesday, January 1, 2025.\n",
      "Martin Luther King Jr. Day falls on Monday, January 20, 2025.\n",
      "Presidents' Day falls on Monday, February 17, 2025.\n",
      "Memorial Day falls on Monday, May 26, 2025.\n",
      "Juneteenth National Independence Day falls on Thursday, June 19, 2025.\n",
      "Independence Day falls on Friday, July 4, 2025.\n",
      "Labor Day falls on Monday, September 1, 2025.\n",
      "Columbus Day falls on Monday, October 13, 2025.\n",
      "Veterans Day falls on Tuesday, November 11, 2025.\n",
      "Thanksgiving Day falls on Thursday, November 27, 2025.\n",
      "Christmas Day falls on Thursday, December 25, 2025.\n",
      "CPU times: user 123 ms, sys: 6.53 ms, total: 129 ms\n",
      "Wall time: 126 ms\n"
     ]
    }
   ],
   "source": [
    "%%time\n",
    "#Note that without auto-switching, this took 2.5 min\n",
    "for index, row in df_us_holidays.iterrows():\n",
    "    print(f\"{row['Holiday']} falls on {row['Day_of_Week']}, {row['Month']} {row['Date'].day}, {row['Date'].year}.\")"
   ]
  },
  {
   "cell_type": "markdown",
   "id": "9f641537-49d6-4e39-9d28-c9eaf1b1f6af",
   "metadata": {},
   "source": [
    "Automatic engine switch happens when merged with large dataset."
   ]
  },
  {
   "cell_type": "code",
   "execution_count": 7,
   "id": "3a7514b5-d880-4f32-89a6-65360cfd2d76",
   "metadata": {},
   "outputs": [
    {
     "name": "stdout",
     "output_type": "stream",
     "text": [
      "Switcheroo: cost to move to pandas: 1000 cost to stay: 250\n"
     ]
    }
   ],
   "source": [
    "df_transactions = pd.read_snowflake(\"REVENUE_TRANSACTIONS\")"
   ]
  },
  {
   "cell_type": "code",
   "execution_count": 8,
   "id": "9ad40f90-255a-49aa-a267-493aa4ca7368",
   "metadata": {},
   "outputs": [],
   "source": [
    "df_transactions[\"DATE\"] = pd.to_datetime(df_transactions[\"DATE\"])"
   ]
  },
  {
   "cell_type": "code",
   "execution_count": 9,
   "id": "7153e869-e3c8-4786-a5be-f8ffc712d23b",
   "metadata": {},
   "outputs": [
    {
     "data": {
      "text/plain": [
       "(11, 10000000)"
      ]
     },
     "execution_count": 9,
     "metadata": {},
     "output_type": "execute_result"
    }
   ],
   "source": [
    "len(df_us_holidays), len(df_transactions)"
   ]
  },
  {
   "cell_type": "code",
   "execution_count": 10,
   "id": "88f77864-eb02-4899-895d-a5f3fe907650",
   "metadata": {},
   "outputs": [
    {
     "name": "stdout",
     "output_type": "stream",
     "text": [
      "BackendCostCalculator Results: Pandas:1000/1000,*Snowflake:500/10000000\n"
     ]
    },
    {
     "data": {
      "application/vnd.jupyter.widget-view+json": {
       "model_id": "2b2cd4e1865b429e910776972c69390e",
       "version_major": 2,
       "version_minor": 0
      },
      "text/plain": [
       "Transferring data from Pandas to Snowflake ...:   0%|          | 0/2 [00:00<?, ?it/s]"
      ]
     },
     "metadata": {},
     "output_type": "display_data"
    }
   ],
   "source": [
    "combined = pd.merge(df_us_holidays, df_transactions, left_on=\"Date\", right_on=\"DATE\")"
   ]
  },
  {
   "cell_type": "code",
   "execution_count": 11,
   "id": "3fbe1e1e-1b79-4053-9aaf-c4a55896ac17",
   "metadata": {},
   "outputs": [],
   "source": [
    "assert combined.get_backend() == 'Snowflake'"
   ]
  },
  {
   "cell_type": "markdown",
   "id": "15aae1a0-98b3-4c3d-a5f4-4c8d183161a0",
   "metadata": {},
   "source": [
    "### 💡 Automatic switching speeds up loops/iterations on small data + inline creation of dataframes"
   ]
  },
  {
   "cell_type": "markdown",
   "id": "db88d966-cd81-400f-b0c5-ceac5731aeba",
   "metadata": {},
   "source": [
    "## Example 2: When data is filtered the choice of engine changes"
   ]
  },
  {
   "cell_type": "markdown",
   "id": "24c6d9f6-6168-4f66-8441-5b3ea467e313",
   "metadata": {},
   "source": [
    "Run the following SQL to generate a synthetic dataset with 10M rows of transactions (from 2024-2025 current date)\n",
    "```sql\n",
    "CREATE OR REPLACE TABLE revenue_transactions (\n",
    "    Transaction_ID STRING,\n",
    "    Date DATE,\n",
    "    Revenue FLOAT\n",
    ");\n",
    "\n",
    "SET num_days = (SELECT DATEDIFF(DAY, '2024-01-01', CURRENT_DATE));\n",
    "INSERT INTO revenue_transactions (Transaction_ID, Date, Revenue)\n",
    "SELECT\n",
    "    UUID_STRING() AS Transaction_ID,\n",
    "    DATEADD(DAY, UNIFORM(0, $num_days, RANDOM()), '2024-01-01') AS Date,\n",
    "    UNIFORM(10, 1000, RANDOM()) AS Revenue\n",
    "FROM TABLE(GENERATOR(ROWCOUNT => 10000000));\n",
    "```"
   ]
  },
  {
   "cell_type": "code",
   "execution_count": 12,
   "id": "60810c7a-946a-42aa-aeee-85e7bf0497e8",
   "metadata": {},
   "outputs": [
    {
     "data": {
      "text/plain": [
       "[Row(number of rows inserted=10000000)]"
      ]
     },
     "execution_count": 12,
     "metadata": {},
     "output_type": "execute_result"
    }
   ],
   "source": [
    "# Run the following to generate a synthetic dataset with 10M rows of transactions (from 2024-2025 current date)\n",
    "session.sql('''\n",
    "CREATE OR REPLACE TABLE revenue_transactions (\n",
    "    Transaction_ID STRING,\n",
    "    Date DATE,\n",
    "    Revenue FLOAT\n",
    ");''').collect()\n",
    "session.sql('''SET num_days = (SELECT DATEDIFF(DAY, '2024-01-01', CURRENT_DATE));''').collect()\n",
    "session.sql('''INSERT INTO revenue_transactions (Transaction_ID, Date, Revenue)\n",
    "SELECT\n",
    "    UUID_STRING() AS Transaction_ID,\n",
    "    DATEADD(DAY, UNIFORM(0, $num_days, RANDOM()), '2024-01-01') AS Date,\n",
    "    UNIFORM(10, 1000, RANDOM()) AS Revenue\n",
    "FROM TABLE(GENERATOR(ROWCOUNT => 10000000));\n",
    "''').collect()"
   ]
  },
  {
   "cell_type": "code",
   "execution_count": 13,
   "id": "af2a3cd9-7d32-4242-a358-8dd5aee926dd",
   "metadata": {},
   "outputs": [
    {
     "name": "stdout",
     "output_type": "stream",
     "text": [
      "Switcheroo: cost to move to pandas: 1000 cost to stay: 250\n"
     ]
    }
   ],
   "source": [
    "df_transactions = pd.read_snowflake(\"REVENUE_TRANSACTIONS\")"
   ]
  },
  {
   "cell_type": "code",
   "execution_count": 14,
   "id": "0227e992-54cb-4c72-8fc1-69b69f1c9570",
   "metadata": {},
   "outputs": [
    {
     "data": {
      "text/plain": [
       "10000000"
      ]
     },
     "execution_count": 14,
     "metadata": {},
     "output_type": "execute_result"
    }
   ],
   "source": [
    "len(df_transactions)"
   ]
  },
  {
   "cell_type": "markdown",
   "id": "7dafef83-ee11-4f60-b17b-ce84cc29d854",
   "metadata": {},
   "source": [
    "Perform some operations on 10M rows with Snowflake"
   ]
  },
  {
   "cell_type": "code",
   "execution_count": 15,
   "id": "d9aa6dde-84db-41a8-9070-3d384a576f38",
   "metadata": {},
   "outputs": [],
   "source": [
    "df_transactions[\"DATE\"] = pd.to_datetime(df_transactions[\"DATE\"])"
   ]
  },
  {
   "cell_type": "code",
   "execution_count": 16,
   "id": "f2ae5759-2d39-482c-9fbd-bd937c2fbdfc",
   "metadata": {},
   "outputs": [
    {
     "name": "stdout",
     "output_type": "stream",
     "text": [
      "Switcheroo: cost to move to pandas: 1000 cost to stay: 250\n"
     ]
    },
    {
     "data": {
      "text/plain": [
       "DATE\n",
       "2024-01-01    10781619.0\n",
       "2024-01-02    10766823.0\n",
       "2024-01-03    10827368.0\n",
       "2024-01-04    10765155.0\n",
       "2024-01-05    10894097.0\n",
       "                 ...    \n",
       "2025-04-10    10731430.0\n",
       "2025-04-11    10708849.0\n",
       "2025-04-12    10805667.0\n",
       "2025-04-13    10753431.0\n",
       "2025-04-14    10739540.0\n",
       "Freq: None, Name: REVENUE, Length: 470, dtype: float64"
      ]
     },
     "execution_count": 16,
     "metadata": {},
     "output_type": "execute_result"
    }
   ],
   "source": [
    "df_transactions.groupby(\"DATE\").sum()[\"REVENUE\"]"
   ]
  },
  {
   "cell_type": "code",
   "execution_count": 17,
   "id": "824036de-5ac8-4990-8ab3-cd164c43eb2a",
   "metadata": {},
   "outputs": [],
   "source": [
    "assert df_transactions.get_backend() == \"Snowflake\""
   ]
  },
  {
   "cell_type": "markdown",
   "id": "733779ec-13d5-4c24-a874-3d21dfc5e759",
   "metadata": {},
   "source": [
    "So far everything has been happening in Snowflake, since we are working with the full dataset (10M rows). \n",
    "Next, we demonstrate what happens when we filter the data down to a smaller dataset below our 500k threshold for automatic switching. \n",
    "We showcase two was of doing the filtering: \n",
    "- Method 1: Filtering with pandas (lazy evaluation)\n",
    "- Method 2: Prefilter with SQL during dataframe creation "
   ]
  },
  {
   "cell_type": "code",
   "execution_count": 18,
   "id": "23cbfe75-dd9e-4272-b466-fdb0cc0f9e69",
   "metadata": {},
   "outputs": [],
   "source": [
    "df_transactions_filter1 = df_transactions[(df_transactions[\"DATE\"] >= pd.Timestamp.today().date() - pd.Timedelta('7 days')) & (df_transactions[\"DATE\"] < pd.Timestamp.today().date())]"
   ]
  },
  {
   "cell_type": "code",
   "execution_count": 19,
   "id": "588fe913-97c4-49ab-aa18-4b0ba7aadfa8",
   "metadata": {},
   "outputs": [
    {
     "data": {
      "text/plain": [
       "'Snowflake'"
      ]
     },
     "execution_count": 19,
     "metadata": {},
     "output_type": "execute_result"
    }
   ],
   "source": [
    "df_transactions_filter1.get_backend()"
   ]
  },
  {
   "cell_type": "code",
   "execution_count": 20,
   "id": "b19a4b9b-d1c9-4109-a7e5-6f834b0675b2",
   "metadata": {},
   "outputs": [
    {
     "data": {
      "text/plain": [
       "1000000000000000000000000000000000000000000"
      ]
     },
     "execution_count": 20,
     "metadata": {},
     "output_type": "execute_result"
    }
   ],
   "source": [
    "df_transactions_filter1._query_compiler._modin_frame.ordered_dataframe.row_count_upper_bound"
   ]
  },
  {
   "cell_type": "markdown",
   "id": "76b717a5-339d-4d99-a41c-6095504b0486",
   "metadata": {},
   "source": [
    "In this case, since the data is already in Snowflake, it stays in Snowflake even after the filtering."
   ]
  },
  {
   "cell_type": "code",
   "execution_count": 21,
   "id": "056b0400-4179-4ca7-acb7-1a2161702a74",
   "metadata": {},
   "outputs": [
    {
     "data": {
      "text/html": [
       "<div>\n",
       "<style scoped>\n",
       "    .dataframe tbody tr th:only-of-type {\n",
       "        vertical-align: middle;\n",
       "    }\n",
       "\n",
       "    .dataframe tbody tr th {\n",
       "        vertical-align: top;\n",
       "    }\n",
       "\n",
       "    .dataframe thead th {\n",
       "        text-align: right;\n",
       "    }\n",
       "</style>\n",
       "<table border=\"1\" class=\"dataframe\">\n",
       "  <thead>\n",
       "    <tr style=\"text-align: right;\">\n",
       "      <th></th>\n",
       "      <th>TRANSACTION_ID</th>\n",
       "      <th>DATE</th>\n",
       "      <th>REVENUE</th>\n",
       "    </tr>\n",
       "  </thead>\n",
       "  <tbody>\n",
       "    <tr>\n",
       "      <th>33</th>\n",
       "      <td>48a712ca-3f7c-42f7-a555-16cd8a059180</td>\n",
       "      <td>2025-04-13</td>\n",
       "      <td>322.0</td>\n",
       "    </tr>\n",
       "    <tr>\n",
       "      <th>95</th>\n",
       "      <td>9ccbfcd6-0876-470a-a9cb-fb8e5fc77819</td>\n",
       "      <td>2025-04-11</td>\n",
       "      <td>452.0</td>\n",
       "    </tr>\n",
       "    <tr>\n",
       "      <th>111</th>\n",
       "      <td>d8f67107-eeea-4891-a6f4-6d2064be59c4</td>\n",
       "      <td>2025-04-13</td>\n",
       "      <td>235.0</td>\n",
       "    </tr>\n",
       "    <tr>\n",
       "      <th>115</th>\n",
       "      <td>2469dc83-20f3-42e8-879a-de945f28bad1</td>\n",
       "      <td>2025-04-13</td>\n",
       "      <td>829.0</td>\n",
       "    </tr>\n",
       "    <tr>\n",
       "      <th>140</th>\n",
       "      <td>bc3abeef-cd56-455f-ad4d-6b29931b3b06</td>\n",
       "      <td>2025-04-09</td>\n",
       "      <td>526.0</td>\n",
       "    </tr>\n",
       "    <tr>\n",
       "      <th>...</th>\n",
       "      <td>...</td>\n",
       "      <td>...</td>\n",
       "      <td>...</td>\n",
       "    </tr>\n",
       "    <tr>\n",
       "      <th>9999392</th>\n",
       "      <td>ef5dc0c5-6503-4ada-a012-1a3de05020e3</td>\n",
       "      <td>2025-04-08</td>\n",
       "      <td>449.0</td>\n",
       "    </tr>\n",
       "    <tr>\n",
       "      <th>9999756</th>\n",
       "      <td>8acd4ab9-a13a-48cf-a3f5-f614fd068a00</td>\n",
       "      <td>2025-04-12</td>\n",
       "      <td>472.0</td>\n",
       "    </tr>\n",
       "    <tr>\n",
       "      <th>9999799</th>\n",
       "      <td>e2ec8d11-f497-4e64-9248-b46ffa0ae349</td>\n",
       "      <td>2025-04-08</td>\n",
       "      <td>195.0</td>\n",
       "    </tr>\n",
       "    <tr>\n",
       "      <th>9999911</th>\n",
       "      <td>9d375e0e-6071-43c9-8a05-2d3a96a91745</td>\n",
       "      <td>2025-04-13</td>\n",
       "      <td>860.0</td>\n",
       "    </tr>\n",
       "    <tr>\n",
       "      <th>9999966</th>\n",
       "      <td>2e2c8622-0698-46ca-89b4-e92b54e6ee82</td>\n",
       "      <td>2025-04-12</td>\n",
       "      <td>463.0</td>\n",
       "    </tr>\n",
       "  </tbody>\n",
       "</table>\n",
       "<p>149005 rows × 3 columns</p>\n",
       "</div>"
      ],
      "text/plain": [
       "                               TRANSACTION_ID       DATE  REVENUE\n",
       "33       48a712ca-3f7c-42f7-a555-16cd8a059180 2025-04-13    322.0\n",
       "95       9ccbfcd6-0876-470a-a9cb-fb8e5fc77819 2025-04-11    452.0\n",
       "111      d8f67107-eeea-4891-a6f4-6d2064be59c4 2025-04-13    235.0\n",
       "115      2469dc83-20f3-42e8-879a-de945f28bad1 2025-04-13    829.0\n",
       "140      bc3abeef-cd56-455f-ad4d-6b29931b3b06 2025-04-09    526.0\n",
       "...                                       ...        ...      ...\n",
       "9999392  ef5dc0c5-6503-4ada-a012-1a3de05020e3 2025-04-08    449.0\n",
       "9999756  8acd4ab9-a13a-48cf-a3f5-f614fd068a00 2025-04-12    472.0\n",
       "9999799  e2ec8d11-f497-4e64-9248-b46ffa0ae349 2025-04-08    195.0\n",
       "9999911  9d375e0e-6071-43c9-8a05-2d3a96a91745 2025-04-13    860.0\n",
       "9999966  2e2c8622-0698-46ca-89b4-e92b54e6ee82 2025-04-12    463.0\n",
       "\n",
       "[149005 rows x 3 columns]"
      ]
     },
     "execution_count": 21,
     "metadata": {},
     "output_type": "execute_result"
    }
   ],
   "source": [
    "df_transactions_filter1"
   ]
  },
  {
   "cell_type": "code",
   "execution_count": 22,
   "id": "098b0576-bd42-46c9-b4e6-667e673de18d",
   "metadata": {},
   "outputs": [
    {
     "data": {
      "text/plain": [
       "149005"
      ]
     },
     "execution_count": 22,
     "metadata": {},
     "output_type": "execute_result"
    }
   ],
   "source": [
    "df_transactions_filter1._query_compiler._modin_frame.ordered_dataframe.row_count_upper_bound"
   ]
  },
  {
   "cell_type": "code",
   "execution_count": 23,
   "id": "637a552d-2f66-4677-8294-4420e322332c",
   "metadata": {},
   "outputs": [
    {
     "data": {
      "text/html": [
       "<div>\n",
       "<style scoped>\n",
       "    .dataframe tbody tr th:only-of-type {\n",
       "        vertical-align: middle;\n",
       "    }\n",
       "\n",
       "    .dataframe tbody tr th {\n",
       "        vertical-align: top;\n",
       "    }\n",
       "\n",
       "    .dataframe thead th {\n",
       "        text-align: right;\n",
       "    }\n",
       "</style>\n",
       "<table border=\"1\" class=\"dataframe\">\n",
       "  <thead>\n",
       "    <tr style=\"text-align: right;\">\n",
       "      <th></th>\n",
       "      <th>TRANSACTION_ID</th>\n",
       "      <th>DATE</th>\n",
       "      <th>REVENUE</th>\n",
       "    </tr>\n",
       "  </thead>\n",
       "  <tbody>\n",
       "    <tr>\n",
       "      <th>33</th>\n",
       "      <td>48a712ca-3f7c-42f7-a555-16cd8a059180</td>\n",
       "      <td>2025-04-13</td>\n",
       "      <td>322.0</td>\n",
       "    </tr>\n",
       "    <tr>\n",
       "      <th>95</th>\n",
       "      <td>9ccbfcd6-0876-470a-a9cb-fb8e5fc77819</td>\n",
       "      <td>2025-04-11</td>\n",
       "      <td>452.0</td>\n",
       "    </tr>\n",
       "    <tr>\n",
       "      <th>111</th>\n",
       "      <td>d8f67107-eeea-4891-a6f4-6d2064be59c4</td>\n",
       "      <td>2025-04-13</td>\n",
       "      <td>235.0</td>\n",
       "    </tr>\n",
       "    <tr>\n",
       "      <th>115</th>\n",
       "      <td>2469dc83-20f3-42e8-879a-de945f28bad1</td>\n",
       "      <td>2025-04-13</td>\n",
       "      <td>829.0</td>\n",
       "    </tr>\n",
       "    <tr>\n",
       "      <th>140</th>\n",
       "      <td>bc3abeef-cd56-455f-ad4d-6b29931b3b06</td>\n",
       "      <td>2025-04-09</td>\n",
       "      <td>526.0</td>\n",
       "    </tr>\n",
       "    <tr>\n",
       "      <th>...</th>\n",
       "      <td>...</td>\n",
       "      <td>...</td>\n",
       "      <td>...</td>\n",
       "    </tr>\n",
       "    <tr>\n",
       "      <th>9999392</th>\n",
       "      <td>ef5dc0c5-6503-4ada-a012-1a3de05020e3</td>\n",
       "      <td>2025-04-08</td>\n",
       "      <td>449.0</td>\n",
       "    </tr>\n",
       "    <tr>\n",
       "      <th>9999756</th>\n",
       "      <td>8acd4ab9-a13a-48cf-a3f5-f614fd068a00</td>\n",
       "      <td>2025-04-12</td>\n",
       "      <td>472.0</td>\n",
       "    </tr>\n",
       "    <tr>\n",
       "      <th>9999799</th>\n",
       "      <td>e2ec8d11-f497-4e64-9248-b46ffa0ae349</td>\n",
       "      <td>2025-04-08</td>\n",
       "      <td>195.0</td>\n",
       "    </tr>\n",
       "    <tr>\n",
       "      <th>9999911</th>\n",
       "      <td>9d375e0e-6071-43c9-8a05-2d3a96a91745</td>\n",
       "      <td>2025-04-13</td>\n",
       "      <td>860.0</td>\n",
       "    </tr>\n",
       "    <tr>\n",
       "      <th>9999966</th>\n",
       "      <td>2e2c8622-0698-46ca-89b4-e92b54e6ee82</td>\n",
       "      <td>2025-04-12</td>\n",
       "      <td>463.0</td>\n",
       "    </tr>\n",
       "  </tbody>\n",
       "</table>\n",
       "<p>149005 rows × 3 columns</p>\n",
       "</div>"
      ],
      "text/plain": [
       "                               TRANSACTION_ID       DATE  REVENUE\n",
       "33       48a712ca-3f7c-42f7-a555-16cd8a059180 2025-04-13    322.0\n",
       "95       9ccbfcd6-0876-470a-a9cb-fb8e5fc77819 2025-04-11    452.0\n",
       "111      d8f67107-eeea-4891-a6f4-6d2064be59c4 2025-04-13    235.0\n",
       "115      2469dc83-20f3-42e8-879a-de945f28bad1 2025-04-13    829.0\n",
       "140      bc3abeef-cd56-455f-ad4d-6b29931b3b06 2025-04-09    526.0\n",
       "...                                       ...        ...      ...\n",
       "9999392  ef5dc0c5-6503-4ada-a012-1a3de05020e3 2025-04-08    449.0\n",
       "9999756  8acd4ab9-a13a-48cf-a3f5-f614fd068a00 2025-04-12    472.0\n",
       "9999799  e2ec8d11-f497-4e64-9248-b46ffa0ae349 2025-04-08    195.0\n",
       "9999911  9d375e0e-6071-43c9-8a05-2d3a96a91745 2025-04-13    860.0\n",
       "9999966  2e2c8622-0698-46ca-89b4-e92b54e6ee82 2025-04-12    463.0\n",
       "\n",
       "[149005 rows x 3 columns]"
      ]
     },
     "execution_count": 23,
     "metadata": {},
     "output_type": "execute_result"
    }
   ],
   "source": [
    "df_transactions_filter1"
   ]
  },
  {
   "cell_type": "code",
   "execution_count": 24,
   "id": "ac736209-3afd-4e67-9a8c-348711db9b35",
   "metadata": {},
   "outputs": [
    {
     "data": {
      "text/html": [
       "<div>\n",
       "<style scoped>\n",
       "    .dataframe tbody tr th:only-of-type {\n",
       "        vertical-align: middle;\n",
       "    }\n",
       "\n",
       "    .dataframe tbody tr th {\n",
       "        vertical-align: top;\n",
       "    }\n",
       "\n",
       "    .dataframe thead th {\n",
       "        text-align: right;\n",
       "    }\n",
       "</style>\n",
       "<table border=\"1\" class=\"dataframe\">\n",
       "  <thead>\n",
       "    <tr style=\"text-align: right;\">\n",
       "      <th></th>\n",
       "      <th>TRANSACTION_ID</th>\n",
       "      <th>DATE</th>\n",
       "      <th>REVENUE</th>\n",
       "    </tr>\n",
       "  </thead>\n",
       "  <tbody>\n",
       "    <tr>\n",
       "      <th>33</th>\n",
       "      <td>48a712ca-3f7c-42f7-a555-16cd8a059180</td>\n",
       "      <td>2025-04-13</td>\n",
       "      <td>322.0</td>\n",
       "    </tr>\n",
       "    <tr>\n",
       "      <th>95</th>\n",
       "      <td>9ccbfcd6-0876-470a-a9cb-fb8e5fc77819</td>\n",
       "      <td>2025-04-11</td>\n",
       "      <td>452.0</td>\n",
       "    </tr>\n",
       "    <tr>\n",
       "      <th>111</th>\n",
       "      <td>d8f67107-eeea-4891-a6f4-6d2064be59c4</td>\n",
       "      <td>2025-04-13</td>\n",
       "      <td>235.0</td>\n",
       "    </tr>\n",
       "    <tr>\n",
       "      <th>115</th>\n",
       "      <td>2469dc83-20f3-42e8-879a-de945f28bad1</td>\n",
       "      <td>2025-04-13</td>\n",
       "      <td>829.0</td>\n",
       "    </tr>\n",
       "    <tr>\n",
       "      <th>140</th>\n",
       "      <td>bc3abeef-cd56-455f-ad4d-6b29931b3b06</td>\n",
       "      <td>2025-04-09</td>\n",
       "      <td>526.0</td>\n",
       "    </tr>\n",
       "    <tr>\n",
       "      <th>...</th>\n",
       "      <td>...</td>\n",
       "      <td>...</td>\n",
       "      <td>...</td>\n",
       "    </tr>\n",
       "    <tr>\n",
       "      <th>9999392</th>\n",
       "      <td>ef5dc0c5-6503-4ada-a012-1a3de05020e3</td>\n",
       "      <td>2025-04-08</td>\n",
       "      <td>449.0</td>\n",
       "    </tr>\n",
       "    <tr>\n",
       "      <th>9999756</th>\n",
       "      <td>8acd4ab9-a13a-48cf-a3f5-f614fd068a00</td>\n",
       "      <td>2025-04-12</td>\n",
       "      <td>472.0</td>\n",
       "    </tr>\n",
       "    <tr>\n",
       "      <th>9999799</th>\n",
       "      <td>e2ec8d11-f497-4e64-9248-b46ffa0ae349</td>\n",
       "      <td>2025-04-08</td>\n",
       "      <td>195.0</td>\n",
       "    </tr>\n",
       "    <tr>\n",
       "      <th>9999911</th>\n",
       "      <td>9d375e0e-6071-43c9-8a05-2d3a96a91745</td>\n",
       "      <td>2025-04-13</td>\n",
       "      <td>860.0</td>\n",
       "    </tr>\n",
       "    <tr>\n",
       "      <th>9999966</th>\n",
       "      <td>2e2c8622-0698-46ca-89b4-e92b54e6ee82</td>\n",
       "      <td>2025-04-12</td>\n",
       "      <td>463.0</td>\n",
       "    </tr>\n",
       "  </tbody>\n",
       "</table>\n",
       "<p>149005 rows × 3 columns</p>\n",
       "</div>"
      ],
      "text/plain": [
       "                               TRANSACTION_ID       DATE  REVENUE\n",
       "33       48a712ca-3f7c-42f7-a555-16cd8a059180 2025-04-13    322.0\n",
       "95       9ccbfcd6-0876-470a-a9cb-fb8e5fc77819 2025-04-11    452.0\n",
       "111      d8f67107-eeea-4891-a6f4-6d2064be59c4 2025-04-13    235.0\n",
       "115      2469dc83-20f3-42e8-879a-de945f28bad1 2025-04-13    829.0\n",
       "140      bc3abeef-cd56-455f-ad4d-6b29931b3b06 2025-04-09    526.0\n",
       "...                                       ...        ...      ...\n",
       "9999392  ef5dc0c5-6503-4ada-a012-1a3de05020e3 2025-04-08    449.0\n",
       "9999756  8acd4ab9-a13a-48cf-a3f5-f614fd068a00 2025-04-12    472.0\n",
       "9999799  e2ec8d11-f497-4e64-9248-b46ffa0ae349 2025-04-08    195.0\n",
       "9999911  9d375e0e-6071-43c9-8a05-2d3a96a91745 2025-04-13    860.0\n",
       "9999966  2e2c8622-0698-46ca-89b4-e92b54e6ee82 2025-04-12    463.0\n",
       "\n",
       "[149005 rows x 3 columns]"
      ]
     },
     "execution_count": 24,
     "metadata": {},
     "output_type": "execute_result"
    }
   ],
   "source": [
    "# Repr should \n",
    "# (1) perform the repr\n",
    "# (2) update count on original data frame\n",
    "# (3) consider moving\n",
    "df_transactions_filter1 "
   ]
  },
  {
   "cell_type": "code",
   "execution_count": 25,
   "id": "dc87088a-dc85-43f5-8e66-8be46074f9a1",
   "metadata": {},
   "outputs": [],
   "source": [
    "# Do we want to check this eager\n",
    "# Do we expect that after a filter we check for a switcheroo case?\n",
    "# can we even do this move if the estimated row size is still the size of data table\n",
    "assert df_transactions_filter1.get_backend() == \"Snowflake\" "
   ]
  },
  {
   "cell_type": "code",
   "execution_count": 26,
   "id": "e454bdb7-2fff-4c52-ad18-6419e197dbf5",
   "metadata": {},
   "outputs": [
    {
     "name": "stderr",
     "output_type": "stream",
     "text": [
      "WARNING:snowflake.snowpark.modin.plugin.utils.warning_message:The current operation leads to materialization and can be slow if the data is large!\n"
     ]
    },
    {
     "name": "stdout",
     "output_type": "stream",
     "text": [
      "Date range: 2025-04-07 to 2025-04-13. Resulting dataset size: 149005\n"
     ]
    }
   ],
   "source": [
    "print(f\"Date range: {df_transactions_filter1['DATE'].min().date()} to {df_transactions_filter1['DATE'].max().date()}. Resulting dataset size: {len(df_transactions_filter1)}\")"
   ]
  },
  {
   "cell_type": "markdown",
   "id": "1e9d9f6c-dc87-42c7-8b3f-e19b36ea5897",
   "metadata": {},
   "source": [
    "Now let's perform filtering via SQL directly, so the dataframe upon creation is small."
   ]
  },
  {
   "cell_type": "code",
   "execution_count": 27,
   "id": "8cee902a-71d8-412b-83b7-ffbd53b8a4c9",
   "metadata": {},
   "outputs": [
    {
     "name": "stdout",
     "output_type": "stream",
     "text": [
      "Switcheroo: cost to move to pandas: 37 cost to stay: 750\n"
     ]
    },
    {
     "data": {
      "application/vnd.jupyter.widget-view+json": {
       "model_id": "afa605f050964f3fb1e6914419a473aa",
       "version_major": 2,
       "version_minor": 0
      },
      "text/plain": [
       "Transferring data from Snowflake to Pandas ...:   0%|          | 0/2 [00:00<?, ?it/s]"
      ]
     },
     "metadata": {},
     "output_type": "display_data"
    }
   ],
   "source": [
    "df_transactions_filter2 = pd.read_snowflake(\"SELECT * FROM revenue_transactions WHERE Date >= DATEADD( 'days', -7, current_date ) and Date < current_date\")"
   ]
  },
  {
   "cell_type": "code",
   "execution_count": 28,
   "id": "bf8d8f5c-8a1f-41d8-bed2-0b7f5f1778bc",
   "metadata": {},
   "outputs": [
    {
     "data": {
      "text/html": [
       "<div>\n",
       "<style scoped>\n",
       "    .dataframe tbody tr th:only-of-type {\n",
       "        vertical-align: middle;\n",
       "    }\n",
       "\n",
       "    .dataframe tbody tr th {\n",
       "        vertical-align: top;\n",
       "    }\n",
       "\n",
       "    .dataframe thead th {\n",
       "        text-align: right;\n",
       "    }\n",
       "</style>\n",
       "<table border=\"1\" class=\"dataframe\">\n",
       "  <thead>\n",
       "    <tr style=\"text-align: right;\">\n",
       "      <th></th>\n",
       "      <th>TRANSACTION_ID</th>\n",
       "      <th>DATE</th>\n",
       "      <th>REVENUE</th>\n",
       "    </tr>\n",
       "  </thead>\n",
       "  <tbody>\n",
       "    <tr>\n",
       "      <th>0</th>\n",
       "      <td>23ffd8b3-cc26-4c6c-b697-611d3fb3edd5</td>\n",
       "      <td>2025-04-07</td>\n",
       "      <td>825.0</td>\n",
       "    </tr>\n",
       "    <tr>\n",
       "      <th>1</th>\n",
       "      <td>c9f2f434-13b0-4337-b311-95b09e1b115b</td>\n",
       "      <td>2025-04-08</td>\n",
       "      <td>974.0</td>\n",
       "    </tr>\n",
       "    <tr>\n",
       "      <th>2</th>\n",
       "      <td>06a3fd2c-c531-4e49-8de3-982ebfee53eb</td>\n",
       "      <td>2025-04-11</td>\n",
       "      <td>281.0</td>\n",
       "    </tr>\n",
       "    <tr>\n",
       "      <th>3</th>\n",
       "      <td>03446aff-1f14-41e2-84a2-8201e9ba6ce6</td>\n",
       "      <td>2025-04-10</td>\n",
       "      <td>747.0</td>\n",
       "    </tr>\n",
       "    <tr>\n",
       "      <th>4</th>\n",
       "      <td>fee5a29a-7b15-4754-8328-81dd517bf502</td>\n",
       "      <td>2025-04-08</td>\n",
       "      <td>438.0</td>\n",
       "    </tr>\n",
       "    <tr>\n",
       "      <th>...</th>\n",
       "      <td>...</td>\n",
       "      <td>...</td>\n",
       "      <td>...</td>\n",
       "    </tr>\n",
       "    <tr>\n",
       "      <th>149000</th>\n",
       "      <td>4ec6e5b1-b450-4eb3-b27f-09708837af23</td>\n",
       "      <td>2025-04-09</td>\n",
       "      <td>224.0</td>\n",
       "    </tr>\n",
       "    <tr>\n",
       "      <th>149001</th>\n",
       "      <td>b7fe3db2-634c-4cbd-b9bc-f59a9a62eca1</td>\n",
       "      <td>2025-04-12</td>\n",
       "      <td>146.0</td>\n",
       "    </tr>\n",
       "    <tr>\n",
       "      <th>149002</th>\n",
       "      <td>14b09669-8f9b-46ca-850d-27e7966a325c</td>\n",
       "      <td>2025-04-13</td>\n",
       "      <td>424.0</td>\n",
       "    </tr>\n",
       "    <tr>\n",
       "      <th>149003</th>\n",
       "      <td>c2eeddfd-5d6a-436b-9853-aed04e4416b3</td>\n",
       "      <td>2025-04-07</td>\n",
       "      <td>481.0</td>\n",
       "    </tr>\n",
       "    <tr>\n",
       "      <th>149004</th>\n",
       "      <td>a9dd4c00-1755-4930-8598-b78e35de248a</td>\n",
       "      <td>2025-04-12</td>\n",
       "      <td>226.0</td>\n",
       "    </tr>\n",
       "  </tbody>\n",
       "</table>\n",
       "<p>149005 rows x 3 columns</p>\n",
       "</div>"
      ],
      "text/plain": [
       "                              TRANSACTION_ID        DATE  REVENUE\n",
       "0       23ffd8b3-cc26-4c6c-b697-611d3fb3edd5  2025-04-07    825.0\n",
       "1       c9f2f434-13b0-4337-b311-95b09e1b115b  2025-04-08    974.0\n",
       "2       06a3fd2c-c531-4e49-8de3-982ebfee53eb  2025-04-11    281.0\n",
       "3       03446aff-1f14-41e2-84a2-8201e9ba6ce6  2025-04-10    747.0\n",
       "4       fee5a29a-7b15-4754-8328-81dd517bf502  2025-04-08    438.0\n",
       "...                                      ...         ...      ...\n",
       "149000  4ec6e5b1-b450-4eb3-b27f-09708837af23  2025-04-09    224.0\n",
       "149001  b7fe3db2-634c-4cbd-b9bc-f59a9a62eca1  2025-04-12    146.0\n",
       "149002  14b09669-8f9b-46ca-850d-27e7966a325c  2025-04-13    424.0\n",
       "149003  c2eeddfd-5d6a-436b-9853-aed04e4416b3  2025-04-07    481.0\n",
       "149004  a9dd4c00-1755-4930-8598-b78e35de248a  2025-04-12    226.0\n",
       "\n",
       "[149005 rows x 3 columns]"
      ]
     },
     "execution_count": 28,
     "metadata": {},
     "output_type": "execute_result"
    }
   ],
   "source": [
    "df_transactions_filter2"
   ]
  },
  {
   "cell_type": "code",
   "execution_count": 29,
   "id": "eaaf8150-97bb-479f-acb4-d0a4767037db",
   "metadata": {},
   "outputs": [
    {
     "name": "stdout",
     "output_type": "stream",
     "text": [
      "Date range: 2025-04-07 to 2025-04-13. Resulting dataset size: 149005\n"
     ]
    }
   ],
   "source": [
    "# Verify the result is same as above\n",
    "print(f\"Date range: {df_transactions_filter2['DATE'].min()} to {df_transactions_filter2['DATE'].max()}. Resulting dataset size: {len(df_transactions_filter2)}\")"
   ]
  },
  {
   "cell_type": "code",
   "execution_count": 30,
   "id": "d9acb3c6-cf17-4440-bb87-03e5ae72107e",
   "metadata": {},
   "outputs": [],
   "source": [
    "assert df_transactions_filter2.get_backend() == \"Pandas\" "
   ]
  },
  {
   "cell_type": "code",
   "execution_count": 31,
   "id": "aca6e6b5-d640-4a7e-b60b-3eb1fd379bac",
   "metadata": {},
   "outputs": [
    {
     "data": {
      "text/plain": [
       "149005"
      ]
     },
     "execution_count": 31,
     "metadata": {},
     "output_type": "execute_result"
    }
   ],
   "source": [
    "len(df_transactions_filter2)"
   ]
  },
  {
   "cell_type": "markdown",
   "id": "e5972d8e-d5d9-4583-8719-415b71f32a8c",
   "metadata": {},
   "source": [
    "Once you are in pandas, you can still continue to perform the same operations: "
   ]
  },
  {
   "cell_type": "code",
   "execution_count": 32,
   "id": "abcc6f90-f883-49a8-b850-3bf5cadd31a6",
   "metadata": {},
   "outputs": [
    {
     "name": "stdout",
     "output_type": "stream",
     "text": [
      "CPU times: user 3 µs, sys: 0 ns, total: 3 µs\n",
      "Wall time: 6.91 µs\n",
      "Switcheroo: cost to move to pandas: 37 cost to stay: 750\n"
     ]
    },
    {
     "data": {
      "application/vnd.jupyter.widget-view+json": {
       "model_id": "1adef7d154da4975905ad65a704e0ab0",
       "version_major": 2,
       "version_minor": 0
      },
      "text/plain": [
       "Transferring data from Snowflake to Pandas ...:   0%|          | 0/2 [00:00<?, ?it/s]"
      ]
     },
     "metadata": {},
     "output_type": "display_data"
    },
    {
     "data": {
      "text/plain": [
       "DATE\n",
       "2025-04-07    10720785.0\n",
       "2025-04-08    10647216.0\n",
       "2025-04-09    10769646.0\n",
       "2025-04-10    10731430.0\n",
       "2025-04-11    10708849.0\n",
       "2025-04-12    10805667.0\n",
       "2025-04-13    10753431.0\n",
       "Freq: None, Name: REVENUE, dtype: float64"
      ]
     },
     "execution_count": 32,
     "metadata": {},
     "output_type": "execute_result"
    }
   ],
   "source": [
    "%time\n",
    "df_transactions_filter1.groupby(\"DATE\").sum()[\"REVENUE\"]"
   ]
  },
  {
   "cell_type": "code",
   "execution_count": 33,
   "id": "eaeca2aa-255d-4661-9615-e80b1d75c124",
   "metadata": {},
   "outputs": [
    {
     "data": {
      "text/plain": [
       "(149005, 3)"
      ]
     },
     "execution_count": 33,
     "metadata": {},
     "output_type": "execute_result"
    }
   ],
   "source": [
    "df_transactions_filter1.shape"
   ]
  },
  {
   "cell_type": "code",
   "execution_count": 34,
   "id": "9dd6ea59-9f26-4968-b652-cac35850c123",
   "metadata": {},
   "outputs": [
    {
     "name": "stdout",
     "output_type": "stream",
     "text": [
      "CPU times: user 2 µs, sys: 0 ns, total: 2 µs\n",
      "Wall time: 5.96 µs\n"
     ]
    },
    {
     "data": {
      "text/plain": [
       "DATE\n",
       "2025-04-07    10720785.0\n",
       "2025-04-08    10647216.0\n",
       "2025-04-09    10769646.0\n",
       "2025-04-10    10731430.0\n",
       "2025-04-11    10708849.0\n",
       "2025-04-12    10805667.0\n",
       "2025-04-13    10753431.0\n",
       "Name: REVENUE, dtype: float64"
      ]
     },
     "execution_count": 34,
     "metadata": {},
     "output_type": "execute_result"
    }
   ],
   "source": [
    "%time\n",
    "df_transactions_filter2.groupby(\"DATE\").sum()[\"REVENUE\"]"
   ]
  },
  {
   "cell_type": "markdown",
   "id": "021bba5b-6f50-48d8-85a4-189668a67fa8",
   "metadata": {},
   "source": [
    "### 💡 Automatic switching means that pandas work well for both small and large data"
   ]
  },
  {
   "cell_type": "markdown",
   "id": "ab88cfe0-936a-4fa0-ba01-1a7152781d2f",
   "metadata": {},
   "source": [
    "## Example 3: Performing Custom `apply` on small dataset\n",
    "\n",
    "Forecast using last year's transaction data via a custom apply function"
   ]
  },
  {
   "cell_type": "code",
   "execution_count": 35,
   "id": "33ef702a-60da-48a9-b1e6-90982879afcd",
   "metadata": {},
   "outputs": [],
   "source": [
    "start_date = pd.Timestamp(\"2025-10-01\")\n",
    "end_date = pd.Timestamp(\"2025-10-31\")"
   ]
  },
  {
   "cell_type": "code",
   "execution_count": 36,
   "id": "11a7f0e1-3db6-4a6e-97f3-d28e8d28cf53",
   "metadata": {},
   "outputs": [],
   "source": [
    "# Forecasting function using df.apply\n",
    "\n",
    "def forecast_revenue(df, start_date, end_date):\n",
    "    # Filter data from last year\n",
    "    df_filtered = df[(df[\"DATE\"] >= start_date - pd.Timedelta(days=365)) & (df[\"DATE\"] < start_date)]\n",
    "    \n",
    "    # Append future dates to daily_avg for prediction\n",
    "    future_dates = pd.date_range(start=start_date, end=end_date, freq=\"D\")\n",
    "    df_future = pd.DataFrame({\"DATE\": future_dates})\n",
    "\n",
    "    # Group by DATE and calculate the mean revenue\n",
    "    daily_avg = df_filtered.groupby(\"DATE\")[\"REVENUE\"].mean().reset_index()\n",
    "    daily_avg[\"DATE\"] = daily_avg[\"DATE\"].astype('datetime64[ns]')\n",
    "    # Merge future dates with predicted revenue, filling missing values\n",
    "    df_forecast = df_future.merge(daily_avg, on=\"DATE\", how=\"left\")\n",
    "    #breakpoint()\n",
    "    import numpy as np\n",
    "    # Fill missing predicted revenue with overall mean from last year\n",
    "    df_forecast[\"PREDICTED_REVENUE\"] = np.nan\n",
    "    df_forecast[\"PREDICTED_REVENUE\"].fillna(daily_avg[\"REVENUE\"].mean(), inplace=True)\n",
    "    df_forecast[\"PREDICTED_REVENUE\"] = df_forecast[\"PREDICTED_REVENUE\"].astype(\"float\")\n",
    "    return df_forecast"
   ]
  },
  {
   "cell_type": "code",
   "execution_count": 37,
   "id": "f41e2b38-fb3d-4b52-b115-f78048ff483c",
   "metadata": {},
   "outputs": [
    {
     "name": "stdout",
     "output_type": "stream",
     "text": [
      "Switcheroo: cost to move to pandas: 0 cost to stay: 750\n"
     ]
    },
    {
     "data": {
      "application/vnd.jupyter.widget-view+json": {
       "model_id": "d6f043e360294dac95e80b6e2b62ef20",
       "version_major": 2,
       "version_minor": 0
      },
      "text/plain": [
       "Transferring data from Snowflake to Pandas ...:   0%|          | 0/2 [00:00<?, ?it/s]"
      ]
     },
     "metadata": {},
     "output_type": "display_data"
    },
    {
     "data": {
      "text/plain": [
       "31"
      ]
     },
     "execution_count": 37,
     "metadata": {},
     "output_type": "execute_result"
    }
   ],
   "source": [
    "df_forecast = forecast_revenue(df_transactions, start_date, end_date)\n",
    "len(df_forecast)"
   ]
  },
  {
   "cell_type": "markdown",
   "id": "276513a5-bcad-4c41-bec0-585ebc5690a4",
   "metadata": {},
   "source": [
    "The resulting dataframe is very small, since it is only the 1-month window we're performing forecast on."
   ]
  },
  {
   "cell_type": "code",
   "execution_count": 38,
   "id": "dc5cf071-c8be-4543-b3b9-a23b844b18e0",
   "metadata": {},
   "outputs": [],
   "source": [
    "assert df_forecast.get_backend() == 'Pandas'"
   ]
  },
  {
   "cell_type": "code",
   "execution_count": 39,
   "id": "17271e32-0a0e-47aa-9701-38d35373f332",
   "metadata": {},
   "outputs": [],
   "source": [
    "def adjust_for_holiday_weekend(row):\n",
    "    # For national holidays, revenue down 5% since stores are closed. For weekends, revenue is up 5% due to increased activity.\n",
    "    if row[\"DATE\"].strftime('%Y-%m-%d') in list(df_us_holidays[\"Date\"].dt.strftime('%Y-%m-%d')): \n",
    "        return row[\"PREDICTED_REVENUE\"] * 0.95\n",
    "    elif row[\"DATE\"].weekday() == 5 or row[\"DATE\"].weekday() == 6: #Saturday/Sundays\n",
    "        return row[\"PREDICTED_REVENUE\"] * 1.05\n",
    "    return row[\"PREDICTED_REVENUE\"]"
   ]
  },
  {
   "cell_type": "code",
   "execution_count": 40,
   "id": "b17a06f7-9a55-4d7f-a862-3a73c16b3312",
   "metadata": {},
   "outputs": [
    {
     "data": {
      "text/html": [
       "<div>\n",
       "<style scoped>\n",
       "    .dataframe tbody tr th:only-of-type {\n",
       "        vertical-align: middle;\n",
       "    }\n",
       "\n",
       "    .dataframe tbody tr th {\n",
       "        vertical-align: top;\n",
       "    }\n",
       "\n",
       "    .dataframe thead th {\n",
       "        text-align: right;\n",
       "    }\n",
       "</style>\n",
       "<table border=\"1\" class=\"dataframe\">\n",
       "  <thead>\n",
       "    <tr style=\"text-align: right;\">\n",
       "      <th></th>\n",
       "      <th>DATE</th>\n",
       "      <th>PREDICTED_REVENUE</th>\n",
       "    </tr>\n",
       "  </thead>\n",
       "  <tbody>\n",
       "    <tr>\n",
       "      <th>0</th>\n",
       "      <td>2025-10-01</td>\n",
       "      <td>505.116721</td>\n",
       "    </tr>\n",
       "    <tr>\n",
       "      <th>1</th>\n",
       "      <td>2025-10-02</td>\n",
       "      <td>505.116721</td>\n",
       "    </tr>\n",
       "    <tr>\n",
       "      <th>2</th>\n",
       "      <td>2025-10-03</td>\n",
       "      <td>505.116721</td>\n",
       "    </tr>\n",
       "    <tr>\n",
       "      <th>3</th>\n",
       "      <td>2025-10-04</td>\n",
       "      <td>530.372557</td>\n",
       "    </tr>\n",
       "    <tr>\n",
       "      <th>4</th>\n",
       "      <td>2025-10-05</td>\n",
       "      <td>530.372557</td>\n",
       "    </tr>\n",
       "    <tr>\n",
       "      <th>5</th>\n",
       "      <td>2025-10-06</td>\n",
       "      <td>505.116721</td>\n",
       "    </tr>\n",
       "    <tr>\n",
       "      <th>6</th>\n",
       "      <td>2025-10-07</td>\n",
       "      <td>505.116721</td>\n",
       "    </tr>\n",
       "    <tr>\n",
       "      <th>7</th>\n",
       "      <td>2025-10-08</td>\n",
       "      <td>505.116721</td>\n",
       "    </tr>\n",
       "    <tr>\n",
       "      <th>8</th>\n",
       "      <td>2025-10-09</td>\n",
       "      <td>505.116721</td>\n",
       "    </tr>\n",
       "    <tr>\n",
       "      <th>9</th>\n",
       "      <td>2025-10-10</td>\n",
       "      <td>505.116721</td>\n",
       "    </tr>\n",
       "    <tr>\n",
       "      <th>10</th>\n",
       "      <td>2025-10-11</td>\n",
       "      <td>530.372557</td>\n",
       "    </tr>\n",
       "    <tr>\n",
       "      <th>11</th>\n",
       "      <td>2025-10-12</td>\n",
       "      <td>530.372557</td>\n",
       "    </tr>\n",
       "    <tr>\n",
       "      <th>12</th>\n",
       "      <td>2025-10-13</td>\n",
       "      <td>479.860884</td>\n",
       "    </tr>\n",
       "    <tr>\n",
       "      <th>13</th>\n",
       "      <td>2025-10-14</td>\n",
       "      <td>505.116721</td>\n",
       "    </tr>\n",
       "    <tr>\n",
       "      <th>14</th>\n",
       "      <td>2025-10-15</td>\n",
       "      <td>505.116721</td>\n",
       "    </tr>\n",
       "    <tr>\n",
       "      <th>15</th>\n",
       "      <td>2025-10-16</td>\n",
       "      <td>505.116721</td>\n",
       "    </tr>\n",
       "    <tr>\n",
       "      <th>16</th>\n",
       "      <td>2025-10-17</td>\n",
       "      <td>505.116721</td>\n",
       "    </tr>\n",
       "    <tr>\n",
       "      <th>17</th>\n",
       "      <td>2025-10-18</td>\n",
       "      <td>530.372557</td>\n",
       "    </tr>\n",
       "    <tr>\n",
       "      <th>18</th>\n",
       "      <td>2025-10-19</td>\n",
       "      <td>530.372557</td>\n",
       "    </tr>\n",
       "    <tr>\n",
       "      <th>19</th>\n",
       "      <td>2025-10-20</td>\n",
       "      <td>505.116721</td>\n",
       "    </tr>\n",
       "    <tr>\n",
       "      <th>20</th>\n",
       "      <td>2025-10-21</td>\n",
       "      <td>505.116721</td>\n",
       "    </tr>\n",
       "    <tr>\n",
       "      <th>21</th>\n",
       "      <td>2025-10-22</td>\n",
       "      <td>505.116721</td>\n",
       "    </tr>\n",
       "    <tr>\n",
       "      <th>22</th>\n",
       "      <td>2025-10-23</td>\n",
       "      <td>505.116721</td>\n",
       "    </tr>\n",
       "    <tr>\n",
       "      <th>23</th>\n",
       "      <td>2025-10-24</td>\n",
       "      <td>505.116721</td>\n",
       "    </tr>\n",
       "    <tr>\n",
       "      <th>24</th>\n",
       "      <td>2025-10-25</td>\n",
       "      <td>530.372557</td>\n",
       "    </tr>\n",
       "    <tr>\n",
       "      <th>25</th>\n",
       "      <td>2025-10-26</td>\n",
       "      <td>530.372557</td>\n",
       "    </tr>\n",
       "    <tr>\n",
       "      <th>26</th>\n",
       "      <td>2025-10-27</td>\n",
       "      <td>505.116721</td>\n",
       "    </tr>\n",
       "    <tr>\n",
       "      <th>27</th>\n",
       "      <td>2025-10-28</td>\n",
       "      <td>505.116721</td>\n",
       "    </tr>\n",
       "    <tr>\n",
       "      <th>28</th>\n",
       "      <td>2025-10-29</td>\n",
       "      <td>505.116721</td>\n",
       "    </tr>\n",
       "    <tr>\n",
       "      <th>29</th>\n",
       "      <td>2025-10-30</td>\n",
       "      <td>505.116721</td>\n",
       "    </tr>\n",
       "    <tr>\n",
       "      <th>30</th>\n",
       "      <td>2025-10-31</td>\n",
       "      <td>505.116721</td>\n",
       "    </tr>\n",
       "  </tbody>\n",
       "</table>\n",
       "</div>"
      ],
      "text/plain": [
       "         DATE  PREDICTED_REVENUE\n",
       "0  2025-10-01         505.116721\n",
       "1  2025-10-02         505.116721\n",
       "2  2025-10-03         505.116721\n",
       "3  2025-10-04         530.372557\n",
       "4  2025-10-05         530.372557\n",
       "5  2025-10-06         505.116721\n",
       "6  2025-10-07         505.116721\n",
       "7  2025-10-08         505.116721\n",
       "8  2025-10-09         505.116721\n",
       "9  2025-10-10         505.116721\n",
       "10 2025-10-11         530.372557\n",
       "11 2025-10-12         530.372557\n",
       "12 2025-10-13         479.860884\n",
       "13 2025-10-14         505.116721\n",
       "14 2025-10-15         505.116721\n",
       "15 2025-10-16         505.116721\n",
       "16 2025-10-17         505.116721\n",
       "17 2025-10-18         530.372557\n",
       "18 2025-10-19         530.372557\n",
       "19 2025-10-20         505.116721\n",
       "20 2025-10-21         505.116721\n",
       "21 2025-10-22         505.116721\n",
       "22 2025-10-23         505.116721\n",
       "23 2025-10-24         505.116721\n",
       "24 2025-10-25         530.372557\n",
       "25 2025-10-26         530.372557\n",
       "26 2025-10-27         505.116721\n",
       "27 2025-10-28         505.116721\n",
       "28 2025-10-29         505.116721\n",
       "29 2025-10-30         505.116721\n",
       "30 2025-10-31         505.116721"
      ]
     },
     "execution_count": 40,
     "metadata": {},
     "output_type": "execute_result"
    }
   ],
   "source": [
    "# Adjust for holidays using the apply function\n",
    "df_forecast[\"PREDICTED_REVENUE\"] = df_forecast.apply(adjust_for_holiday_weekend, axis=1)\n",
    "df_forecast[[\"DATE\",\"PREDICTED_REVENUE\"]]"
   ]
  },
  {
   "cell_type": "code",
   "execution_count": 41,
   "id": "c83c63b7-885a-4997-a404-ac99bb00aad0",
   "metadata": {},
   "outputs": [],
   "source": [
    "assert df_forecast.get_backend() == 'Pandas'"
   ]
  },
  {
   "cell_type": "code",
   "execution_count": 42,
   "id": "3337f57a-8b5d-42e5-9909-ebb0daf62c13",
   "metadata": {},
   "outputs": [
    {
     "name": "stdout",
     "output_type": "stream",
     "text": [
      "Altair takes in <class 'modin.pandas.dataframe.DataFrame'> with Pandas as backend, since we implement the dataframe interchange protocol\n"
     ]
    }
   ],
   "source": [
    "print(f\"Altair takes in {type(df_forecast)} with {df_forecast.get_backend()} as backend, since we implement the dataframe interchange protocol\")"
   ]
  },
  {
   "cell_type": "code",
   "execution_count": 43,
   "id": "15a869dc-cf91-4728-918e-f5dfc6713881",
   "metadata": {},
   "outputs": [
    {
     "ename": "ValueError",
     "evalue": "invalid literal for int() with base 10: ''",
     "output_type": "error",
     "traceback": [
      "\u001b[0;31m---------------------------------------------------------------------------\u001b[0m",
      "\u001b[0;31mValueError\u001b[0m                                Traceback (most recent call last)",
      "File \u001b[0;32m~/anaconda3/envs/snowpandas-dev-test/lib/python3.9/site-packages/altair/vegalite/v5/api.py:4033\u001b[0m, in \u001b[0;36mChart.to_dict\u001b[0;34m(self, validate, format, ignore, context)\u001b[0m\n\u001b[1;32m   4031\u001b[0m     copy\u001b[38;5;241m.\u001b[39mdata \u001b[38;5;241m=\u001b[39m core\u001b[38;5;241m.\u001b[39mInlineData(values\u001b[38;5;241m=\u001b[39m[{}])\n\u001b[1;32m   4032\u001b[0m     \u001b[38;5;28;01mreturn\u001b[39;00m \u001b[38;5;28msuper\u001b[39m(Chart, copy)\u001b[38;5;241m.\u001b[39mto_dict(\u001b[38;5;241m*\u001b[39m\u001b[38;5;241m*\u001b[39mkwds)\n\u001b[0;32m-> 4033\u001b[0m \u001b[38;5;28;01mreturn\u001b[39;00m \u001b[38;5;28;43msuper\u001b[39;49m\u001b[43m(\u001b[49m\u001b[43m)\u001b[49m\u001b[38;5;241;43m.\u001b[39;49m\u001b[43mto_dict\u001b[49m\u001b[43m(\u001b[49m\u001b[38;5;241;43m*\u001b[39;49m\u001b[38;5;241;43m*\u001b[39;49m\u001b[43mkwds\u001b[49m\u001b[43m)\u001b[49m\n",
      "File \u001b[0;32m~/anaconda3/envs/snowpandas-dev-test/lib/python3.9/site-packages/altair/vegalite/v5/api.py:1994\u001b[0m, in \u001b[0;36mTopLevelMixin.to_dict\u001b[0;34m(self, validate, format, ignore, context)\u001b[0m\n\u001b[1;32m   1992\u001b[0m \u001b[38;5;28;01mif\u001b[39;00m \u001b[38;5;129;01mnot\u001b[39;00m utils\u001b[38;5;241m.\u001b[39mis_undefined(original_data):\n\u001b[1;32m   1993\u001b[0m     \u001b[38;5;28;01mtry\u001b[39;00m:\n\u001b[0;32m-> 1994\u001b[0m         data \u001b[38;5;241m=\u001b[39m \u001b[43mnw\u001b[49m\u001b[38;5;241;43m.\u001b[39;49m\u001b[43mfrom_native\u001b[49m\u001b[43m(\u001b[49m\u001b[43moriginal_data\u001b[49m\u001b[43m,\u001b[49m\u001b[43m \u001b[49m\u001b[43meager_or_interchange_only\u001b[49m\u001b[38;5;241;43m=\u001b[39;49m\u001b[38;5;28;43;01mTrue\u001b[39;49;00m\u001b[43m)\u001b[49m\n\u001b[1;32m   1995\u001b[0m     \u001b[38;5;28;01mexcept\u001b[39;00m \u001b[38;5;167;01mTypeError\u001b[39;00m:\n\u001b[1;32m   1996\u001b[0m         \u001b[38;5;66;03m# Non-narwhalifiable type supported by Altair, such as dict\u001b[39;00m\n\u001b[1;32m   1997\u001b[0m         data \u001b[38;5;241m=\u001b[39m original_data\n",
      "File \u001b[0;32m~/anaconda3/envs/snowpandas-dev-test/lib/python3.9/site-packages/narwhals/stable/v1/__init__.py:1611\u001b[0m, in \u001b[0;36mfrom_native\u001b[0;34m(native_object, strict, pass_through, eager_only, eager_or_interchange_only, series_only, allow_series)\u001b[0m\n\u001b[1;32m   1605\u001b[0m     \u001b[38;5;28;01mreturn\u001b[39;00m native_object\n\u001b[1;32m   1607\u001b[0m pass_through \u001b[38;5;241m=\u001b[39m validate_strict_and_pass_though(\n\u001b[1;32m   1608\u001b[0m     strict, pass_through, pass_through_default\u001b[38;5;241m=\u001b[39m\u001b[38;5;28;01mFalse\u001b[39;00m, emit_deprecation_warning\u001b[38;5;241m=\u001b[39m\u001b[38;5;28;01mFalse\u001b[39;00m\n\u001b[1;32m   1609\u001b[0m )\n\u001b[0;32m-> 1611\u001b[0m result \u001b[38;5;241m=\u001b[39m \u001b[43m_from_native_impl\u001b[49m\u001b[43m(\u001b[49m\n\u001b[1;32m   1612\u001b[0m \u001b[43m    \u001b[49m\u001b[43mnative_object\u001b[49m\u001b[43m,\u001b[49m\n\u001b[1;32m   1613\u001b[0m \u001b[43m    \u001b[49m\u001b[43mpass_through\u001b[49m\u001b[38;5;241;43m=\u001b[39;49m\u001b[43mpass_through\u001b[49m\u001b[43m,\u001b[49m\n\u001b[1;32m   1614\u001b[0m \u001b[43m    \u001b[49m\u001b[43meager_only\u001b[49m\u001b[38;5;241;43m=\u001b[39;49m\u001b[43meager_only\u001b[49m\u001b[43m,\u001b[49m\n\u001b[1;32m   1615\u001b[0m \u001b[43m    \u001b[49m\u001b[43meager_or_interchange_only\u001b[49m\u001b[38;5;241;43m=\u001b[39;49m\u001b[43meager_or_interchange_only\u001b[49m\u001b[43m,\u001b[49m\n\u001b[1;32m   1616\u001b[0m \u001b[43m    \u001b[49m\u001b[43mseries_only\u001b[49m\u001b[38;5;241;43m=\u001b[39;49m\u001b[43mseries_only\u001b[49m\u001b[43m,\u001b[49m\n\u001b[1;32m   1617\u001b[0m \u001b[43m    \u001b[49m\u001b[43mallow_series\u001b[49m\u001b[38;5;241;43m=\u001b[39;49m\u001b[43mallow_series\u001b[49m\u001b[43m,\u001b[49m\n\u001b[1;32m   1618\u001b[0m \u001b[43m    \u001b[49m\u001b[43mversion\u001b[49m\u001b[38;5;241;43m=\u001b[39;49m\u001b[43mVersion\u001b[49m\u001b[38;5;241;43m.\u001b[39;49m\u001b[43mV1\u001b[49m\u001b[43m,\u001b[49m\n\u001b[1;32m   1619\u001b[0m \u001b[43m\u001b[49m\u001b[43m)\u001b[49m\n\u001b[1;32m   1620\u001b[0m \u001b[38;5;28;01mreturn\u001b[39;00m _stableify(result)\n",
      "File \u001b[0;32m~/anaconda3/envs/snowpandas-dev-test/lib/python3.9/site-packages/narwhals/translate.py:543\u001b[0m, in \u001b[0;36m_from_native_impl\u001b[0;34m(native_object, pass_through, eager_only, eager_or_interchange_only, series_only, allow_series, version)\u001b[0m\n\u001b[1;32m    537\u001b[0m             \u001b[38;5;28;01mraise\u001b[39;00m \u001b[38;5;167;01mTypeError\u001b[39;00m(msg)\n\u001b[1;32m    538\u001b[0m         \u001b[38;5;28;01mreturn\u001b[39;00m native_object\n\u001b[1;32m    539\u001b[0m     \u001b[38;5;28;01mreturn\u001b[39;00m DataFrame(\n\u001b[1;32m    540\u001b[0m         PandasLikeDataFrame(\n\u001b[1;32m    541\u001b[0m             native_object,\n\u001b[1;32m    542\u001b[0m             implementation\u001b[38;5;241m=\u001b[39mImplementation\u001b[38;5;241m.\u001b[39mMODIN,\n\u001b[0;32m--> 543\u001b[0m             backend_version\u001b[38;5;241m=\u001b[39m\u001b[43mparse_version\u001b[49m\u001b[43m(\u001b[49m\u001b[43mmpd\u001b[49m\u001b[43m)\u001b[49m,\n\u001b[1;32m    544\u001b[0m             version\u001b[38;5;241m=\u001b[39mversion,\n\u001b[1;32m    545\u001b[0m             validate_column_names\u001b[38;5;241m=\u001b[39m\u001b[38;5;28;01mTrue\u001b[39;00m,\n\u001b[1;32m    546\u001b[0m         ),\n\u001b[1;32m    547\u001b[0m         level\u001b[38;5;241m=\u001b[39m\u001b[38;5;124m\"\u001b[39m\u001b[38;5;124mfull\u001b[39m\u001b[38;5;124m\"\u001b[39m,\n\u001b[1;32m    548\u001b[0m     )\n\u001b[1;32m    549\u001b[0m \u001b[38;5;28;01melif\u001b[39;00m is_modin_series(native_object):  \u001b[38;5;66;03m# pragma: no cover\u001b[39;00m\n\u001b[1;32m    550\u001b[0m     \u001b[38;5;28;01mfrom\u001b[39;00m \u001b[38;5;21;01mnarwhals\u001b[39;00m\u001b[38;5;21;01m.\u001b[39;00m\u001b[38;5;21;01m_pandas_like\u001b[39;00m\u001b[38;5;21;01m.\u001b[39;00m\u001b[38;5;21;01mseries\u001b[39;00m \u001b[38;5;28;01mimport\u001b[39;00m PandasLikeSeries\n",
      "File \u001b[0;32m~/anaconda3/envs/snowpandas-dev-test/lib/python3.9/site-packages/narwhals/utils.py:687\u001b[0m, in \u001b[0;36mparse_version\u001b[0;34m(version)\u001b[0m\n\u001b[1;32m    685\u001b[0m version_str \u001b[38;5;241m=\u001b[39m version \u001b[38;5;28;01mif\u001b[39;00m \u001b[38;5;28misinstance\u001b[39m(version, \u001b[38;5;28mstr\u001b[39m) \u001b[38;5;28;01melse\u001b[39;00m version\u001b[38;5;241m.\u001b[39m__version__\n\u001b[1;32m    686\u001b[0m version_str \u001b[38;5;241m=\u001b[39m re\u001b[38;5;241m.\u001b[39msub(\u001b[38;5;124mr\u001b[39m\u001b[38;5;124m\"\u001b[39m\u001b[38;5;124m(\u001b[39m\u001b[38;5;124m\\\u001b[39m\u001b[38;5;124mD?dev.*$)\u001b[39m\u001b[38;5;124m\"\u001b[39m, \u001b[38;5;124m\"\u001b[39m\u001b[38;5;124m\"\u001b[39m, version_str)\n\u001b[0;32m--> 687\u001b[0m \u001b[38;5;28;01mreturn\u001b[39;00m \u001b[38;5;28;43mtuple\u001b[39;49m\u001b[43m(\u001b[49m\u001b[38;5;28;43mint\u001b[39;49m\u001b[43m(\u001b[49m\u001b[43mre\u001b[49m\u001b[38;5;241;43m.\u001b[39;49m\u001b[43msub\u001b[49m\u001b[43m(\u001b[49m\u001b[38;5;124;43mr\u001b[39;49m\u001b[38;5;124;43m\"\u001b[39;49m\u001b[38;5;124;43m\\\u001b[39;49m\u001b[38;5;124;43mD\u001b[39;49m\u001b[38;5;124;43m\"\u001b[39;49m\u001b[43m,\u001b[49m\u001b[43m \u001b[49m\u001b[38;5;124;43m\"\u001b[39;49m\u001b[38;5;124;43m\"\u001b[39;49m\u001b[43m,\u001b[49m\u001b[43m \u001b[49m\u001b[43mv\u001b[49m\u001b[43m)\u001b[49m\u001b[43m)\u001b[49m\u001b[43m \u001b[49m\u001b[38;5;28;43;01mfor\u001b[39;49;00m\u001b[43m \u001b[49m\u001b[43mv\u001b[49m\u001b[43m \u001b[49m\u001b[38;5;129;43;01min\u001b[39;49;00m\u001b[43m \u001b[49m\u001b[43mversion_str\u001b[49m\u001b[38;5;241;43m.\u001b[39;49m\u001b[43msplit\u001b[49m\u001b[43m(\u001b[49m\u001b[38;5;124;43m\"\u001b[39;49m\u001b[38;5;124;43m.\u001b[39;49m\u001b[38;5;124;43m\"\u001b[39;49m\u001b[43m)\u001b[49m\u001b[43m)\u001b[49m\n",
      "File \u001b[0;32m~/anaconda3/envs/snowpandas-dev-test/lib/python3.9/site-packages/narwhals/utils.py:687\u001b[0m, in \u001b[0;36m<genexpr>\u001b[0;34m(.0)\u001b[0m\n\u001b[1;32m    685\u001b[0m version_str \u001b[38;5;241m=\u001b[39m version \u001b[38;5;28;01mif\u001b[39;00m \u001b[38;5;28misinstance\u001b[39m(version, \u001b[38;5;28mstr\u001b[39m) \u001b[38;5;28;01melse\u001b[39;00m version\u001b[38;5;241m.\u001b[39m__version__\n\u001b[1;32m    686\u001b[0m version_str \u001b[38;5;241m=\u001b[39m re\u001b[38;5;241m.\u001b[39msub(\u001b[38;5;124mr\u001b[39m\u001b[38;5;124m\"\u001b[39m\u001b[38;5;124m(\u001b[39m\u001b[38;5;124m\\\u001b[39m\u001b[38;5;124mD?dev.*$)\u001b[39m\u001b[38;5;124m\"\u001b[39m, \u001b[38;5;124m\"\u001b[39m\u001b[38;5;124m\"\u001b[39m, version_str)\n\u001b[0;32m--> 687\u001b[0m \u001b[38;5;28;01mreturn\u001b[39;00m \u001b[38;5;28mtuple\u001b[39m(\u001b[38;5;28;43mint\u001b[39;49m\u001b[43m(\u001b[49m\u001b[43mre\u001b[49m\u001b[38;5;241;43m.\u001b[39;49m\u001b[43msub\u001b[49m\u001b[43m(\u001b[49m\u001b[38;5;124;43mr\u001b[39;49m\u001b[38;5;124;43m\"\u001b[39;49m\u001b[38;5;124;43m\\\u001b[39;49m\u001b[38;5;124;43mD\u001b[39;49m\u001b[38;5;124;43m\"\u001b[39;49m\u001b[43m,\u001b[49m\u001b[43m \u001b[49m\u001b[38;5;124;43m\"\u001b[39;49m\u001b[38;5;124;43m\"\u001b[39;49m\u001b[43m,\u001b[49m\u001b[43m \u001b[49m\u001b[43mv\u001b[49m\u001b[43m)\u001b[49m\u001b[43m)\u001b[49m \u001b[38;5;28;01mfor\u001b[39;00m v \u001b[38;5;129;01min\u001b[39;00m version_str\u001b[38;5;241m.\u001b[39msplit(\u001b[38;5;124m\"\u001b[39m\u001b[38;5;124m.\u001b[39m\u001b[38;5;124m\"\u001b[39m))\n",
      "\u001b[0;31mValueError\u001b[0m: invalid literal for int() with base 10: ''"
     ]
    },
    {
     "data": {
      "text/plain": [
       "alt.Chart(...)"
      ]
     },
     "execution_count": 43,
     "metadata": {},
     "output_type": "execute_result"
    }
   ],
   "source": [
    "import altair as alt\n",
    "alt.data_transformers.disable_max_rows()\n",
    "\n",
    "chart_predicted = alt.Chart(df_forecast).mark_line(color='blue').encode(\n",
    "    x='monthdate(DATE):T',\n",
    "    y=alt.Y('PREDICTED_REVENUE:Q',scale=alt.Scale(domain=[470, 550])),\n",
    "    tooltip=['DATE', 'PREDICTED_REVENUE']\n",
    ")\n",
    "chart_predicted"
   ]
  },
  {
   "cell_type": "code",
   "execution_count": 44,
   "id": "57f6d2c8-44ab-4ced-9a34-bc2b56277423",
   "metadata": {},
   "outputs": [
    {
     "name": "stdout",
     "output_type": "stream",
     "text": [
      "Switcheroo: cost to move to pandas: 0 cost to stay: 750\n"
     ]
    },
    {
     "data": {
      "application/vnd.jupyter.widget-view+json": {
       "model_id": "f284a7ef565c4ed4bb20ab3fb9e11bd0",
       "version_major": 2,
       "version_minor": 0
      },
      "text/plain": [
       "Transferring data from Snowflake to Pandas ...:   0%|          | 0/2 [00:00<?, ?it/s]"
      ]
     },
     "metadata": {},
     "output_type": "display_data"
    }
   ],
   "source": [
    "df_transactions_filtered = df_transactions[\n",
    "    (df_transactions[\"DATE\"] >= start_date - pd.Timedelta(days=365)) &\n",
    "    (df_transactions[\"DATE\"] < end_date - pd.Timedelta(days=365))\n",
    "]\n",
    "df_transactions_filtered_groupby = df_transactions_filtered.groupby(\"DATE\")[\"REVENUE\"].mean().reset_index()"
   ]
  },
  {
   "cell_type": "code",
   "execution_count": 45,
   "id": "07066876-b894-4d80-8cab-cac2efc54fc2",
   "metadata": {},
   "outputs": [
    {
     "name": "stdout",
     "output_type": "stream",
     "text": [
      "Altair takes in <class 'modin.pandas.dataframe.DataFrame'> with Pandas as backend, since we implement the dataframe interchange protocol\n"
     ]
    }
   ],
   "source": [
    "print(f\"Altair takes in {type(df_transactions_filtered_groupby)} with {df_transactions_filtered_groupby.get_backend()} as backend, since we implement the dataframe interchange protocol\")"
   ]
  },
  {
   "cell_type": "code",
   "execution_count": 46,
   "id": "02653381-f6ca-4c87-a654-31df9fbba223",
   "metadata": {},
   "outputs": [
    {
     "ename": "ValueError",
     "evalue": "invalid literal for int() with base 10: ''",
     "output_type": "error",
     "traceback": [
      "\u001b[0;31m---------------------------------------------------------------------------\u001b[0m",
      "\u001b[0;31mValueError\u001b[0m                                Traceback (most recent call last)",
      "File \u001b[0;32m~/anaconda3/envs/snowpandas-dev-test/lib/python3.9/site-packages/altair/vegalite/v5/api.py:4033\u001b[0m, in \u001b[0;36mChart.to_dict\u001b[0;34m(self, validate, format, ignore, context)\u001b[0m\n\u001b[1;32m   4031\u001b[0m     copy\u001b[38;5;241m.\u001b[39mdata \u001b[38;5;241m=\u001b[39m core\u001b[38;5;241m.\u001b[39mInlineData(values\u001b[38;5;241m=\u001b[39m[{}])\n\u001b[1;32m   4032\u001b[0m     \u001b[38;5;28;01mreturn\u001b[39;00m \u001b[38;5;28msuper\u001b[39m(Chart, copy)\u001b[38;5;241m.\u001b[39mto_dict(\u001b[38;5;241m*\u001b[39m\u001b[38;5;241m*\u001b[39mkwds)\n\u001b[0;32m-> 4033\u001b[0m \u001b[38;5;28;01mreturn\u001b[39;00m \u001b[38;5;28;43msuper\u001b[39;49m\u001b[43m(\u001b[49m\u001b[43m)\u001b[49m\u001b[38;5;241;43m.\u001b[39;49m\u001b[43mto_dict\u001b[49m\u001b[43m(\u001b[49m\u001b[38;5;241;43m*\u001b[39;49m\u001b[38;5;241;43m*\u001b[39;49m\u001b[43mkwds\u001b[49m\u001b[43m)\u001b[49m\n",
      "File \u001b[0;32m~/anaconda3/envs/snowpandas-dev-test/lib/python3.9/site-packages/altair/vegalite/v5/api.py:1994\u001b[0m, in \u001b[0;36mTopLevelMixin.to_dict\u001b[0;34m(self, validate, format, ignore, context)\u001b[0m\n\u001b[1;32m   1992\u001b[0m \u001b[38;5;28;01mif\u001b[39;00m \u001b[38;5;129;01mnot\u001b[39;00m utils\u001b[38;5;241m.\u001b[39mis_undefined(original_data):\n\u001b[1;32m   1993\u001b[0m     \u001b[38;5;28;01mtry\u001b[39;00m:\n\u001b[0;32m-> 1994\u001b[0m         data \u001b[38;5;241m=\u001b[39m \u001b[43mnw\u001b[49m\u001b[38;5;241;43m.\u001b[39;49m\u001b[43mfrom_native\u001b[49m\u001b[43m(\u001b[49m\u001b[43moriginal_data\u001b[49m\u001b[43m,\u001b[49m\u001b[43m \u001b[49m\u001b[43meager_or_interchange_only\u001b[49m\u001b[38;5;241;43m=\u001b[39;49m\u001b[38;5;28;43;01mTrue\u001b[39;49;00m\u001b[43m)\u001b[49m\n\u001b[1;32m   1995\u001b[0m     \u001b[38;5;28;01mexcept\u001b[39;00m \u001b[38;5;167;01mTypeError\u001b[39;00m:\n\u001b[1;32m   1996\u001b[0m         \u001b[38;5;66;03m# Non-narwhalifiable type supported by Altair, such as dict\u001b[39;00m\n\u001b[1;32m   1997\u001b[0m         data \u001b[38;5;241m=\u001b[39m original_data\n",
      "File \u001b[0;32m~/anaconda3/envs/snowpandas-dev-test/lib/python3.9/site-packages/narwhals/stable/v1/__init__.py:1611\u001b[0m, in \u001b[0;36mfrom_native\u001b[0;34m(native_object, strict, pass_through, eager_only, eager_or_interchange_only, series_only, allow_series)\u001b[0m\n\u001b[1;32m   1605\u001b[0m     \u001b[38;5;28;01mreturn\u001b[39;00m native_object\n\u001b[1;32m   1607\u001b[0m pass_through \u001b[38;5;241m=\u001b[39m validate_strict_and_pass_though(\n\u001b[1;32m   1608\u001b[0m     strict, pass_through, pass_through_default\u001b[38;5;241m=\u001b[39m\u001b[38;5;28;01mFalse\u001b[39;00m, emit_deprecation_warning\u001b[38;5;241m=\u001b[39m\u001b[38;5;28;01mFalse\u001b[39;00m\n\u001b[1;32m   1609\u001b[0m )\n\u001b[0;32m-> 1611\u001b[0m result \u001b[38;5;241m=\u001b[39m \u001b[43m_from_native_impl\u001b[49m\u001b[43m(\u001b[49m\n\u001b[1;32m   1612\u001b[0m \u001b[43m    \u001b[49m\u001b[43mnative_object\u001b[49m\u001b[43m,\u001b[49m\n\u001b[1;32m   1613\u001b[0m \u001b[43m    \u001b[49m\u001b[43mpass_through\u001b[49m\u001b[38;5;241;43m=\u001b[39;49m\u001b[43mpass_through\u001b[49m\u001b[43m,\u001b[49m\n\u001b[1;32m   1614\u001b[0m \u001b[43m    \u001b[49m\u001b[43meager_only\u001b[49m\u001b[38;5;241;43m=\u001b[39;49m\u001b[43meager_only\u001b[49m\u001b[43m,\u001b[49m\n\u001b[1;32m   1615\u001b[0m \u001b[43m    \u001b[49m\u001b[43meager_or_interchange_only\u001b[49m\u001b[38;5;241;43m=\u001b[39;49m\u001b[43meager_or_interchange_only\u001b[49m\u001b[43m,\u001b[49m\n\u001b[1;32m   1616\u001b[0m \u001b[43m    \u001b[49m\u001b[43mseries_only\u001b[49m\u001b[38;5;241;43m=\u001b[39;49m\u001b[43mseries_only\u001b[49m\u001b[43m,\u001b[49m\n\u001b[1;32m   1617\u001b[0m \u001b[43m    \u001b[49m\u001b[43mallow_series\u001b[49m\u001b[38;5;241;43m=\u001b[39;49m\u001b[43mallow_series\u001b[49m\u001b[43m,\u001b[49m\n\u001b[1;32m   1618\u001b[0m \u001b[43m    \u001b[49m\u001b[43mversion\u001b[49m\u001b[38;5;241;43m=\u001b[39;49m\u001b[43mVersion\u001b[49m\u001b[38;5;241;43m.\u001b[39;49m\u001b[43mV1\u001b[49m\u001b[43m,\u001b[49m\n\u001b[1;32m   1619\u001b[0m \u001b[43m\u001b[49m\u001b[43m)\u001b[49m\n\u001b[1;32m   1620\u001b[0m \u001b[38;5;28;01mreturn\u001b[39;00m _stableify(result)\n",
      "File \u001b[0;32m~/anaconda3/envs/snowpandas-dev-test/lib/python3.9/site-packages/narwhals/translate.py:543\u001b[0m, in \u001b[0;36m_from_native_impl\u001b[0;34m(native_object, pass_through, eager_only, eager_or_interchange_only, series_only, allow_series, version)\u001b[0m\n\u001b[1;32m    537\u001b[0m             \u001b[38;5;28;01mraise\u001b[39;00m \u001b[38;5;167;01mTypeError\u001b[39;00m(msg)\n\u001b[1;32m    538\u001b[0m         \u001b[38;5;28;01mreturn\u001b[39;00m native_object\n\u001b[1;32m    539\u001b[0m     \u001b[38;5;28;01mreturn\u001b[39;00m DataFrame(\n\u001b[1;32m    540\u001b[0m         PandasLikeDataFrame(\n\u001b[1;32m    541\u001b[0m             native_object,\n\u001b[1;32m    542\u001b[0m             implementation\u001b[38;5;241m=\u001b[39mImplementation\u001b[38;5;241m.\u001b[39mMODIN,\n\u001b[0;32m--> 543\u001b[0m             backend_version\u001b[38;5;241m=\u001b[39m\u001b[43mparse_version\u001b[49m\u001b[43m(\u001b[49m\u001b[43mmpd\u001b[49m\u001b[43m)\u001b[49m,\n\u001b[1;32m    544\u001b[0m             version\u001b[38;5;241m=\u001b[39mversion,\n\u001b[1;32m    545\u001b[0m             validate_column_names\u001b[38;5;241m=\u001b[39m\u001b[38;5;28;01mTrue\u001b[39;00m,\n\u001b[1;32m    546\u001b[0m         ),\n\u001b[1;32m    547\u001b[0m         level\u001b[38;5;241m=\u001b[39m\u001b[38;5;124m\"\u001b[39m\u001b[38;5;124mfull\u001b[39m\u001b[38;5;124m\"\u001b[39m,\n\u001b[1;32m    548\u001b[0m     )\n\u001b[1;32m    549\u001b[0m \u001b[38;5;28;01melif\u001b[39;00m is_modin_series(native_object):  \u001b[38;5;66;03m# pragma: no cover\u001b[39;00m\n\u001b[1;32m    550\u001b[0m     \u001b[38;5;28;01mfrom\u001b[39;00m \u001b[38;5;21;01mnarwhals\u001b[39;00m\u001b[38;5;21;01m.\u001b[39;00m\u001b[38;5;21;01m_pandas_like\u001b[39;00m\u001b[38;5;21;01m.\u001b[39;00m\u001b[38;5;21;01mseries\u001b[39;00m \u001b[38;5;28;01mimport\u001b[39;00m PandasLikeSeries\n",
      "File \u001b[0;32m~/anaconda3/envs/snowpandas-dev-test/lib/python3.9/site-packages/narwhals/utils.py:687\u001b[0m, in \u001b[0;36mparse_version\u001b[0;34m(version)\u001b[0m\n\u001b[1;32m    685\u001b[0m version_str \u001b[38;5;241m=\u001b[39m version \u001b[38;5;28;01mif\u001b[39;00m \u001b[38;5;28misinstance\u001b[39m(version, \u001b[38;5;28mstr\u001b[39m) \u001b[38;5;28;01melse\u001b[39;00m version\u001b[38;5;241m.\u001b[39m__version__\n\u001b[1;32m    686\u001b[0m version_str \u001b[38;5;241m=\u001b[39m re\u001b[38;5;241m.\u001b[39msub(\u001b[38;5;124mr\u001b[39m\u001b[38;5;124m\"\u001b[39m\u001b[38;5;124m(\u001b[39m\u001b[38;5;124m\\\u001b[39m\u001b[38;5;124mD?dev.*$)\u001b[39m\u001b[38;5;124m\"\u001b[39m, \u001b[38;5;124m\"\u001b[39m\u001b[38;5;124m\"\u001b[39m, version_str)\n\u001b[0;32m--> 687\u001b[0m \u001b[38;5;28;01mreturn\u001b[39;00m \u001b[38;5;28;43mtuple\u001b[39;49m\u001b[43m(\u001b[49m\u001b[38;5;28;43mint\u001b[39;49m\u001b[43m(\u001b[49m\u001b[43mre\u001b[49m\u001b[38;5;241;43m.\u001b[39;49m\u001b[43msub\u001b[49m\u001b[43m(\u001b[49m\u001b[38;5;124;43mr\u001b[39;49m\u001b[38;5;124;43m\"\u001b[39;49m\u001b[38;5;124;43m\\\u001b[39;49m\u001b[38;5;124;43mD\u001b[39;49m\u001b[38;5;124;43m\"\u001b[39;49m\u001b[43m,\u001b[49m\u001b[43m \u001b[49m\u001b[38;5;124;43m\"\u001b[39;49m\u001b[38;5;124;43m\"\u001b[39;49m\u001b[43m,\u001b[49m\u001b[43m \u001b[49m\u001b[43mv\u001b[49m\u001b[43m)\u001b[49m\u001b[43m)\u001b[49m\u001b[43m \u001b[49m\u001b[38;5;28;43;01mfor\u001b[39;49;00m\u001b[43m \u001b[49m\u001b[43mv\u001b[49m\u001b[43m \u001b[49m\u001b[38;5;129;43;01min\u001b[39;49;00m\u001b[43m \u001b[49m\u001b[43mversion_str\u001b[49m\u001b[38;5;241;43m.\u001b[39;49m\u001b[43msplit\u001b[49m\u001b[43m(\u001b[49m\u001b[38;5;124;43m\"\u001b[39;49m\u001b[38;5;124;43m.\u001b[39;49m\u001b[38;5;124;43m\"\u001b[39;49m\u001b[43m)\u001b[49m\u001b[43m)\u001b[49m\n",
      "File \u001b[0;32m~/anaconda3/envs/snowpandas-dev-test/lib/python3.9/site-packages/narwhals/utils.py:687\u001b[0m, in \u001b[0;36m<genexpr>\u001b[0;34m(.0)\u001b[0m\n\u001b[1;32m    685\u001b[0m version_str \u001b[38;5;241m=\u001b[39m version \u001b[38;5;28;01mif\u001b[39;00m \u001b[38;5;28misinstance\u001b[39m(version, \u001b[38;5;28mstr\u001b[39m) \u001b[38;5;28;01melse\u001b[39;00m version\u001b[38;5;241m.\u001b[39m__version__\n\u001b[1;32m    686\u001b[0m version_str \u001b[38;5;241m=\u001b[39m re\u001b[38;5;241m.\u001b[39msub(\u001b[38;5;124mr\u001b[39m\u001b[38;5;124m\"\u001b[39m\u001b[38;5;124m(\u001b[39m\u001b[38;5;124m\\\u001b[39m\u001b[38;5;124mD?dev.*$)\u001b[39m\u001b[38;5;124m\"\u001b[39m, \u001b[38;5;124m\"\u001b[39m\u001b[38;5;124m\"\u001b[39m, version_str)\n\u001b[0;32m--> 687\u001b[0m \u001b[38;5;28;01mreturn\u001b[39;00m \u001b[38;5;28mtuple\u001b[39m(\u001b[38;5;28;43mint\u001b[39;49m\u001b[43m(\u001b[49m\u001b[43mre\u001b[49m\u001b[38;5;241;43m.\u001b[39;49m\u001b[43msub\u001b[49m\u001b[43m(\u001b[49m\u001b[38;5;124;43mr\u001b[39;49m\u001b[38;5;124;43m\"\u001b[39;49m\u001b[38;5;124;43m\\\u001b[39;49m\u001b[38;5;124;43mD\u001b[39;49m\u001b[38;5;124;43m\"\u001b[39;49m\u001b[43m,\u001b[49m\u001b[43m \u001b[49m\u001b[38;5;124;43m\"\u001b[39;49m\u001b[38;5;124;43m\"\u001b[39;49m\u001b[43m,\u001b[49m\u001b[43m \u001b[49m\u001b[43mv\u001b[49m\u001b[43m)\u001b[49m\u001b[43m)\u001b[49m \u001b[38;5;28;01mfor\u001b[39;00m v \u001b[38;5;129;01min\u001b[39;00m version_str\u001b[38;5;241m.\u001b[39msplit(\u001b[38;5;124m\"\u001b[39m\u001b[38;5;124m.\u001b[39m\u001b[38;5;124m\"\u001b[39m))\n",
      "\u001b[0;31mValueError\u001b[0m: invalid literal for int() with base 10: ''"
     ]
    },
    {
     "data": {
      "text/plain": [
       "alt.Chart(...)"
      ]
     },
     "execution_count": 46,
     "metadata": {},
     "output_type": "execute_result"
    }
   ],
   "source": [
    "df_forecast_labeled = df_forecast.copy()\n",
    "df_forecast_labeled['Label'] = 'Predicted Revenue'\n",
    "df_forecast_labeled = df_forecast_labeled.rename(columns={'PREDICTED_REVENUE': 'Value'})\n",
    "\n",
    "df_last_year_labeled = df_transactions_filtered_groupby.copy()\n",
    "df_last_year_labeled['Label'] = 'Revenue'\n",
    "df_last_year_labeled = df_last_year_labeled.rename(columns={'REVENUE': 'Value'})\n",
    "\n",
    "# Combine\n",
    "combined_df = pd.concat([\n",
    "    df_forecast_labeled[['DATE', 'Value', 'Label']],\n",
    "    df_last_year_labeled[['DATE', 'Value', 'Label']]\n",
    "])\n",
    "\n",
    "# Plot with Value on X and color based on Label\n",
    "final_chart = alt.Chart(combined_df).mark_line().encode(\n",
    "    y=alt.Y('Value:Q',scale=alt.Scale(domain=[470, 550])),\n",
    "    x='monthdate(DATE):T',\n",
    "    color=alt.Color('Label:N', legend=alt.Legend(title='Type')),\n",
    "    tooltip=['DATE', 'Value', 'Label']\n",
    ").properties(\n",
    "    title='Revenue vs Predicted Revenue (by Value)'\n",
    ")\n",
    "\n",
    "final_chart"
   ]
  },
  {
   "cell_type": "markdown",
   "id": "ac8d72d1-f718-4037-bada-df87a51eff74",
   "metadata": {},
   "source": [
    "### 💡 Apply on small dataset is much faster with automatic switching running with pandas locally."
   ]
  }
 ],
 "metadata": {
  "kernelspec": {
   "display_name": "Python 3 (ipykernel)",
   "language": "python",
   "name": "python3"
  },
  "language_info": {
   "codemirror_mode": {
    "name": "ipython",
    "version": 3
   },
   "file_extension": ".py",
   "mimetype": "text/x-python",
   "name": "python",
   "nbconvert_exporter": "python",
   "pygments_lexer": "ipython3",
   "version": "3.9.18"
  }
 },
 "nbformat": 4,
 "nbformat_minor": 5
}
