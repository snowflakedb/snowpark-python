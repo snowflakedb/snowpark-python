{
 "cells": [
  {
   "cell_type": "markdown",
   "id": "014b3af4-af71-4b9d-b6f4-c8f990c11d62",
   "metadata": {},
   "source": [
    "# Hybrid Execution Automatic Switching Demo"
   ]
  },
  {
   "cell_type": "code",
   "execution_count": 1,
   "id": "56f420d4-a934-409c-92b9-29d2427ce6c6",
   "metadata": {},
   "outputs": [
    {
     "name": "stdout",
     "output_type": "stream",
     "text": [
      "Initiating login request with your identity provider. A browser window should have opened for you to complete the login. If you can't see it, check existing browser windows, or your OS settings. Press CTRL+C to abort and try again...\n",
      "Going to open: https://snowbiz.okta.com/app/snowflake/exk8wfsfryJIn4IWZ2p7/sso/saml?SAMLRequest=jVJdb%2BIwEPwrke%2BZOEnTQi2gogXUVL2SI%2BHQ8eYmDlg4ds7rEOivP4ePU%2FvQqm%2FWemZndmf7d%2FtSODumgSs5QL7rIYfJTOVcrgdokU47PeSAoTKnQkk2QAcG6G7YB1qKioxqs5Fz9rdmYBzbSAJpPwao1pIoChyIpCUDYjKSjH4%2Bk8D1CAVg2lg5dKbkwK3WxpiKYNw0jdtcuUqvceB5HvZusUW1kB%2FonUT1tUallVGZEhfK3s70iYSPvbCVsAirEJ%2BJ91yeVvCVyusJBOQxTeNOPEtS5Iwu0z0oCXXJdML0jmdsMX8%2BGQDrIHmZLR9ni2TiglRNIeiWZaqsamO7ufaFC5Zjodbc7igaD1C15XlcxImYxzvanWxpPu9drVZLGUM4mjzNbvZ7%2FraZVofZLr7%2F9SdDzu9LokGbaARQs0i2ORpb8oLrjhd2%2FDD1b4l%2FQ65Dt9cNVsgZ2xy5pObIvJhtLb7yN1dtDT2ao1WF%2F%2FvGbL%2FtNQUU%2BvAUyTBaroKqiwEUbmNCp0shRwN6%2BN35%2B%2Fg963xsL3b%2F0ThWgmcHZ6p0Sc3n8fiuf6zwvFMcoYSVlItRnmsGYGMSQjUPmlFjb9romiE8PKl%2BvOrhPw%3D%3D&RelayState=ver%3A1-hint%3A2050423465438-ETMsDgAAAZY1u6%2FXABRBRVMvQ0JDL1BLQ1M1UGFkZGluZwEAABAAEKxEyUtEBhHc2um0ZHltu6YAAACQF68X8TIJQcpcuO%2BCx7gGXsmVdrzjXCfABn3SZIpHy87wgXCEidD91GqLZX4R99%2FYKHchuETJoB1KhZO3hYgVz5MFUrqYw2THL%2BpPDMH6dgR5VZQl2aJvYVNUMvaJnvZQPcbZCEWqLreGirFiee7%2FnuCLdEL0SKMDJAM3Gjp78AlDRr8HGE9ERySSJ1czL2e4ABRcNYRYUoGkjzFbW3AbJOUWq9qm8Q%3D%3D to authenticate...\n"
     ]
    }
   ],
   "source": [
    "import snowflake.snowpark.modin.plugin\n",
    "import modin.pandas as pd\n",
    "import numpy as np\n",
    "import datetime\n",
    "import pandas as native_pd\n",
    "from snowflake.snowpark.session import Session; session = Session.builder.create()"
   ]
  },
  {
   "cell_type": "markdown",
   "id": "662115d3-ad0a-4fea-88ba-321a03ffdf3c",
   "metadata": {},
   "source": [
    "## Example 1: Working with small/inline-created dataframe is faster"
   ]
  },
  {
   "cell_type": "code",
   "execution_count": 2,
   "id": "1ad6a86c-ba58-443e-b48f-80a717eb8204",
   "metadata": {},
   "outputs": [],
   "source": [
    "us_holidays = [\n",
    "    (\"New Year's Day\", \"2025-01-01\"),\n",
    "    (\"Martin Luther King Jr. Day\", \"2025-01-20\"),\n",
    "    (\"Presidents' Day\", \"2025-02-17\"),\n",
    "    (\"Memorial Day\", \"2025-05-26\"),\n",
    "    (\"Juneteenth National Independence Day\", \"2025-06-19\"),\n",
    "    (\"Independence Day\", \"2025-07-04\"),\n",
    "    (\"Labor Day\", \"2025-09-01\"),\n",
    "    (\"Columbus Day\", \"2025-10-13\"),\n",
    "    (\"Veterans Day\", \"2025-11-11\"),\n",
    "    (\"Thanksgiving Day\", \"2025-11-27\"),\n",
    "    (\"Christmas Day\", \"2025-12-25\")\n",
    "]\n",
    "\n",
    "# Create DataFrame\n",
    "df_us_holidays = pd.DataFrame(us_holidays, columns=[\"Holiday\", \"Date\"])\n",
    "\n",
    "# Convert Date column to datetime\n",
    "df_us_holidays[\"Date\"] = pd.to_datetime(df_us_holidays[\"Date\"])"
   ]
  },
  {
   "cell_type": "code",
   "execution_count": 3,
   "id": "de09f690-e4e6-4aa3-bef5-bc96a389c3fd",
   "metadata": {},
   "outputs": [],
   "source": [
    "assert df_us_holidays.get_backend() == 'Pandas'  # with auto, we should expect this to be local"
   ]
  },
  {
   "cell_type": "code",
   "execution_count": 4,
   "id": "f05b150e-086f-4337-bd50-25db48bbeffb",
   "metadata": {},
   "outputs": [],
   "source": [
    "# Add new columns for transformations\n",
    "df_us_holidays[\"Day_of_Week\"] = df_us_holidays[\"Date\"].dt.day_name()\n",
    "df_us_holidays[\"Month\"] = df_us_holidays[\"Date\"].dt.month_name()"
   ]
  },
  {
   "cell_type": "code",
   "execution_count": 5,
   "id": "b4d304c3-54bc-4ab0-b792-df0e67566819",
   "metadata": {},
   "outputs": [
    {
     "data": {
      "text/html": [
       "<div>\n",
       "<style scoped>\n",
       "    .dataframe tbody tr th:only-of-type {\n",
       "        vertical-align: middle;\n",
       "    }\n",
       "\n",
       "    .dataframe tbody tr th {\n",
       "        vertical-align: top;\n",
       "    }\n",
       "\n",
       "    .dataframe thead th {\n",
       "        text-align: right;\n",
       "    }\n",
       "</style>\n",
       "<table border=\"1\" class=\"dataframe\">\n",
       "  <thead>\n",
       "    <tr style=\"text-align: right;\">\n",
       "      <th></th>\n",
       "      <th>Holiday</th>\n",
       "      <th>Date</th>\n",
       "      <th>Day_of_Week</th>\n",
       "      <th>Month</th>\n",
       "    </tr>\n",
       "  </thead>\n",
       "  <tbody>\n",
       "    <tr>\n",
       "      <th>0</th>\n",
       "      <td>New Year's Day</td>\n",
       "      <td>2025-01-01</td>\n",
       "      <td>Wednesday</td>\n",
       "      <td>January</td>\n",
       "    </tr>\n",
       "    <tr>\n",
       "      <th>1</th>\n",
       "      <td>Martin Luther King Jr. Day</td>\n",
       "      <td>2025-01-20</td>\n",
       "      <td>Monday</td>\n",
       "      <td>January</td>\n",
       "    </tr>\n",
       "    <tr>\n",
       "      <th>2</th>\n",
       "      <td>Presidents' Day</td>\n",
       "      <td>2025-02-17</td>\n",
       "      <td>Monday</td>\n",
       "      <td>February</td>\n",
       "    </tr>\n",
       "    <tr>\n",
       "      <th>3</th>\n",
       "      <td>Memorial Day</td>\n",
       "      <td>2025-05-26</td>\n",
       "      <td>Monday</td>\n",
       "      <td>May</td>\n",
       "    </tr>\n",
       "    <tr>\n",
       "      <th>4</th>\n",
       "      <td>Juneteenth National Independence Day</td>\n",
       "      <td>2025-06-19</td>\n",
       "      <td>Thursday</td>\n",
       "      <td>June</td>\n",
       "    </tr>\n",
       "    <tr>\n",
       "      <th>5</th>\n",
       "      <td>Independence Day</td>\n",
       "      <td>2025-07-04</td>\n",
       "      <td>Friday</td>\n",
       "      <td>July</td>\n",
       "    </tr>\n",
       "    <tr>\n",
       "      <th>6</th>\n",
       "      <td>Labor Day</td>\n",
       "      <td>2025-09-01</td>\n",
       "      <td>Monday</td>\n",
       "      <td>September</td>\n",
       "    </tr>\n",
       "    <tr>\n",
       "      <th>7</th>\n",
       "      <td>Columbus Day</td>\n",
       "      <td>2025-10-13</td>\n",
       "      <td>Monday</td>\n",
       "      <td>October</td>\n",
       "    </tr>\n",
       "    <tr>\n",
       "      <th>8</th>\n",
       "      <td>Veterans Day</td>\n",
       "      <td>2025-11-11</td>\n",
       "      <td>Tuesday</td>\n",
       "      <td>November</td>\n",
       "    </tr>\n",
       "    <tr>\n",
       "      <th>9</th>\n",
       "      <td>Thanksgiving Day</td>\n",
       "      <td>2025-11-27</td>\n",
       "      <td>Thursday</td>\n",
       "      <td>November</td>\n",
       "    </tr>\n",
       "    <tr>\n",
       "      <th>10</th>\n",
       "      <td>Christmas Day</td>\n",
       "      <td>2025-12-25</td>\n",
       "      <td>Thursday</td>\n",
       "      <td>December</td>\n",
       "    </tr>\n",
       "  </tbody>\n",
       "</table>\n",
       "</div>"
      ],
      "text/plain": [
       "                                 Holiday       Date Day_of_Week      Month\n",
       "0                         New Year's Day 2025-01-01   Wednesday    January\n",
       "1             Martin Luther King Jr. Day 2025-01-20      Monday    January\n",
       "2                        Presidents' Day 2025-02-17      Monday   February\n",
       "3                           Memorial Day 2025-05-26      Monday        May\n",
       "4   Juneteenth National Independence Day 2025-06-19    Thursday       June\n",
       "5                       Independence Day 2025-07-04      Friday       July\n",
       "6                              Labor Day 2025-09-01      Monday  September\n",
       "7                           Columbus Day 2025-10-13      Monday    October\n",
       "8                           Veterans Day 2025-11-11     Tuesday   November\n",
       "9                       Thanksgiving Day 2025-11-27    Thursday   November\n",
       "10                         Christmas Day 2025-12-25    Thursday   December"
      ]
     },
     "execution_count": 5,
     "metadata": {},
     "output_type": "execute_result"
    }
   ],
   "source": [
    "df_us_holidays"
   ]
  },
  {
   "cell_type": "code",
   "execution_count": 6,
   "id": "558479c6-11d3-42f0-990a-7914967ab66f",
   "metadata": {},
   "outputs": [
    {
     "name": "stdout",
     "output_type": "stream",
     "text": [
      "New Year's Day falls on Wednesday, January 1, 2025.\n",
      "Martin Luther King Jr. Day falls on Monday, January 20, 2025.\n",
      "Presidents' Day falls on Monday, February 17, 2025.\n",
      "Memorial Day falls on Monday, May 26, 2025.\n",
      "Juneteenth National Independence Day falls on Thursday, June 19, 2025.\n",
      "Independence Day falls on Friday, July 4, 2025.\n",
      "Labor Day falls on Monday, September 1, 2025.\n",
      "Columbus Day falls on Monday, October 13, 2025.\n",
      "Veterans Day falls on Tuesday, November 11, 2025.\n",
      "Thanksgiving Day falls on Thursday, November 27, 2025.\n",
      "Christmas Day falls on Thursday, December 25, 2025.\n",
      "CPU times: user 108 ms, sys: 6.45 ms, total: 114 ms\n",
      "Wall time: 119 ms\n"
     ]
    }
   ],
   "source": [
    "%%time\n",
    "#Note that without auto-switching, this took 2.5 min\n",
    "for index, row in df_us_holidays.iterrows():\n",
    "    print(f\"{row['Holiday']} falls on {row['Day_of_Week']}, {row['Month']} {row['Date'].day}, {row['Date'].year}.\")"
   ]
  },
  {
   "cell_type": "markdown",
   "id": "9f641537-49d6-4e39-9d28-c9eaf1b1f6af",
   "metadata": {},
   "source": [
    "Automatic engine switch happens when merged with large dataset."
   ]
  },
  {
   "cell_type": "code",
   "execution_count": 7,
   "id": "3a7514b5-d880-4f32-89a6-65360cfd2d76",
   "metadata": {},
   "outputs": [],
   "source": [
    "df_transactions = pd.read_snowflake(\"REVENUE_TRANSACTIONS\")"
   ]
  },
  {
   "cell_type": "code",
   "execution_count": 8,
   "id": "9ad40f90-255a-49aa-a267-493aa4ca7368",
   "metadata": {},
   "outputs": [],
   "source": [
    "df_transactions[\"DATE\"] = pd.to_datetime(df_transactions[\"DATE\"])"
   ]
  },
  {
   "cell_type": "code",
   "execution_count": 9,
   "id": "7153e869-e3c8-4786-a5be-f8ffc712d23b",
   "metadata": {},
   "outputs": [
    {
     "data": {
      "text/plain": [
       "(11, 10000000)"
      ]
     },
     "execution_count": 9,
     "metadata": {},
     "output_type": "execute_result"
    }
   ],
   "source": [
    "len(df_us_holidays), len(df_transactions)"
   ]
  },
  {
   "cell_type": "code",
   "execution_count": 10,
   "id": "88f77864-eb02-4899-895d-a5f3fe907650",
   "metadata": {},
   "outputs": [
    {
     "data": {
      "application/vnd.jupyter.widget-view+json": {
       "model_id": "0dae7217d73245c981cac32c592f16c4",
       "version_major": 2,
       "version_minor": 0
      },
      "text/plain": [
       "Transferring data from Pandas to Snowflake ...:   0%|          | 0/2 [00:00<?, ?it/s]"
      ]
     },
     "metadata": {},
     "output_type": "display_data"
    }
   ],
   "source": [
    "combined = pd.merge(df_us_holidays, df_transactions, left_on=\"Date\", right_on=\"DATE\")"
   ]
  },
  {
   "cell_type": "code",
   "execution_count": 11,
   "id": "3fbe1e1e-1b79-4053-9aaf-c4a55896ac17",
   "metadata": {},
   "outputs": [],
   "source": [
    "assert combined.get_backend() == 'Snowflake'"
   ]
  },
  {
   "cell_type": "markdown",
   "id": "15aae1a0-98b3-4c3d-a5f4-4c8d183161a0",
   "metadata": {},
   "source": [
    "### 💡 Automatic switching speeds up loops/iterations on small data + inline creation of dataframes"
   ]
  },
  {
   "cell_type": "markdown",
   "id": "db88d966-cd81-400f-b0c5-ceac5731aeba",
   "metadata": {},
   "source": [
    "## Example 2: When data is filtered the choice of engine changes"
   ]
  },
  {
   "cell_type": "markdown",
   "id": "24c6d9f6-6168-4f66-8441-5b3ea467e313",
   "metadata": {},
   "source": [
    "Run the following SQL to generate a synthetic dataset with 10M rows of transactions (from 2024-2025 current date)\n",
    "```sql\n",
    "CREATE OR REPLACE TABLE revenue_transactions (\n",
    "    Transaction_ID STRING,\n",
    "    Date DATE,\n",
    "    Revenue FLOAT\n",
    ");\n",
    "\n",
    "SET num_days = (SELECT DATEDIFF(DAY, '2024-01-01', CURRENT_DATE));\n",
    "INSERT INTO revenue_transactions (Transaction_ID, Date, Revenue)\n",
    "SELECT\n",
    "    UUID_STRING() AS Transaction_ID,\n",
    "    DATEADD(DAY, UNIFORM(0, $num_days, RANDOM()), '2024-01-01') AS Date,\n",
    "    UNIFORM(10, 1000, RANDOM()) AS Revenue\n",
    "FROM TABLE(GENERATOR(ROWCOUNT => 10000000));\n",
    "```"
   ]
  },
  {
   "cell_type": "code",
   "execution_count": 12,
   "id": "60810c7a-946a-42aa-aeee-85e7bf0497e8",
   "metadata": {},
   "outputs": [
    {
     "data": {
      "text/plain": [
       "[Row(number of rows inserted=10000000)]"
      ]
     },
     "execution_count": 12,
     "metadata": {},
     "output_type": "execute_result"
    }
   ],
   "source": [
    "# Run the following to generate a synthetic dataset with 10M rows of transactions (from 2024-2025 current date)\n",
    "session.sql('''\n",
    "CREATE OR REPLACE TABLE revenue_transactions (\n",
    "    Transaction_ID STRING,\n",
    "    Date DATE,\n",
    "    Revenue FLOAT\n",
    ");''').collect()\n",
    "session.sql('''SET num_days = (SELECT DATEDIFF(DAY, '2024-01-01', CURRENT_DATE));''').collect()\n",
    "session.sql('''INSERT INTO revenue_transactions (Transaction_ID, Date, Revenue)\n",
    "SELECT\n",
    "    UUID_STRING() AS Transaction_ID,\n",
    "    DATEADD(DAY, UNIFORM(0, $num_days, RANDOM()), '2024-01-01') AS Date,\n",
    "    UNIFORM(10, 1000, RANDOM()) AS Revenue\n",
    "FROM TABLE(GENERATOR(ROWCOUNT => 10000000));\n",
    "''').collect()"
   ]
  },
  {
   "cell_type": "code",
   "execution_count": 13,
   "id": "af2a3cd9-7d32-4242-a358-8dd5aee926dd",
   "metadata": {},
   "outputs": [],
   "source": [
    "df_transactions = pd.read_snowflake(\"REVENUE_TRANSACTIONS\")"
   ]
  },
  {
   "cell_type": "code",
   "execution_count": 14,
   "id": "0227e992-54cb-4c72-8fc1-69b69f1c9570",
   "metadata": {},
   "outputs": [
    {
     "data": {
      "text/plain": [
       "10000000"
      ]
     },
     "execution_count": 14,
     "metadata": {},
     "output_type": "execute_result"
    }
   ],
   "source": [
    "len(df_transactions)"
   ]
  },
  {
   "cell_type": "markdown",
   "id": "7dafef83-ee11-4f60-b17b-ce84cc29d854",
   "metadata": {},
   "source": [
    "Perform some operations on 10M rows with Snowflake"
   ]
  },
  {
   "cell_type": "code",
   "execution_count": 15,
   "id": "d9aa6dde-84db-41a8-9070-3d384a576f38",
   "metadata": {},
   "outputs": [],
   "source": [
    "df_transactions[\"DATE\"] = pd.to_datetime(df_transactions[\"DATE\"])"
   ]
  },
  {
   "cell_type": "code",
   "execution_count": 16,
   "id": "f2ae5759-2d39-482c-9fbd-bd937c2fbdfc",
   "metadata": {},
   "outputs": [
    {
     "data": {
      "text/plain": [
       "DATE\n",
       "2024-01-01    10660935.0\n",
       "2024-01-02    10731968.0\n",
       "2024-01-03    10594935.0\n",
       "2024-01-04    10788194.0\n",
       "2024-01-05    10730112.0\n",
       "                 ...    \n",
       "2025-04-10    10801029.0\n",
       "2025-04-11    10851369.0\n",
       "2025-04-12    10598843.0\n",
       "2025-04-13    10868851.0\n",
       "2025-04-14    10623021.0\n",
       "Freq: None, Name: REVENUE, Length: 470, dtype: float64"
      ]
     },
     "execution_count": 16,
     "metadata": {},
     "output_type": "execute_result"
    }
   ],
   "source": [
    "df_transactions.groupby(\"DATE\").sum()[\"REVENUE\"]"
   ]
  },
  {
   "cell_type": "code",
   "execution_count": 17,
   "id": "824036de-5ac8-4990-8ab3-cd164c43eb2a",
   "metadata": {},
   "outputs": [],
   "source": [
    "assert df_transactions.get_backend() == \"Snowflake\""
   ]
  },
  {
   "cell_type": "markdown",
   "id": "733779ec-13d5-4c24-a874-3d21dfc5e759",
   "metadata": {},
   "source": [
    "So far everything has been happening in Snowflake, since we are working with the full dataset (10M rows). \n",
    "Next, we demonstrate what happens when we filter the data down to a smaller dataset below our 500k threshold for automatic switching. \n",
    "We showcase two was of doing the filtering: \n",
    "- Method 1: Filtering with pandas (lazy evaluation)\n",
    "- Method 2: Prefilter with SQL during dataframe creation "
   ]
  },
  {
   "cell_type": "code",
   "execution_count": 18,
   "id": "23cbfe75-dd9e-4272-b466-fdb0cc0f9e69",
   "metadata": {},
   "outputs": [],
   "source": [
    "df_transactions_filter1 = df_transactions[(df_transactions[\"DATE\"] >= pd.Timestamp.today().date() - pd.Timedelta('7 days')) & (df_transactions[\"DATE\"] < pd.Timestamp.today().date())]"
   ]
  },
  {
   "cell_type": "code",
   "execution_count": 19,
   "id": "588fe913-97c4-49ab-aa18-4b0ba7aadfa8",
   "metadata": {},
   "outputs": [
    {
     "data": {
      "text/plain": [
       "'Snowflake'"
      ]
     },
     "execution_count": 19,
     "metadata": {},
     "output_type": "execute_result"
    }
   ],
   "source": [
    "df_transactions_filter1.get_backend()"
   ]
  },
  {
   "cell_type": "code",
   "execution_count": 20,
   "id": "b19a4b9b-d1c9-4109-a7e5-6f834b0675b2",
   "metadata": {},
   "outputs": [
    {
     "data": {
      "text/plain": [
       "1000000000000000000000000000000000000000000"
      ]
     },
     "execution_count": 20,
     "metadata": {},
     "output_type": "execute_result"
    }
   ],
   "source": [
    "df_transactions_filter1._query_compiler._modin_frame.ordered_dataframe.row_count_upper_bound"
   ]
  },
  {
   "cell_type": "markdown",
   "id": "76b717a5-339d-4d99-a41c-6095504b0486",
   "metadata": {},
   "source": [
    "In this case, since the data is already in Snowflake, it stays in Snowflake even after the filtering."
   ]
  },
  {
   "cell_type": "code",
   "execution_count": 21,
   "id": "056b0400-4179-4ca7-acb7-1a2161702a74",
   "metadata": {},
   "outputs": [
    {
     "data": {
      "text/html": [
       "<div>\n",
       "<style scoped>\n",
       "    .dataframe tbody tr th:only-of-type {\n",
       "        vertical-align: middle;\n",
       "    }\n",
       "\n",
       "    .dataframe tbody tr th {\n",
       "        vertical-align: top;\n",
       "    }\n",
       "\n",
       "    .dataframe thead th {\n",
       "        text-align: right;\n",
       "    }\n",
       "</style>\n",
       "<table border=\"1\" class=\"dataframe\">\n",
       "  <thead>\n",
       "    <tr style=\"text-align: right;\">\n",
       "      <th></th>\n",
       "      <th>TRANSACTION_ID</th>\n",
       "      <th>DATE</th>\n",
       "      <th>REVENUE</th>\n",
       "    </tr>\n",
       "  </thead>\n",
       "  <tbody>\n",
       "    <tr>\n",
       "      <th>24</th>\n",
       "      <td>07c3ef12-cb1f-4906-bb20-234f0f35ac94</td>\n",
       "      <td>2025-04-10</td>\n",
       "      <td>890.0</td>\n",
       "    </tr>\n",
       "    <tr>\n",
       "      <th>42</th>\n",
       "      <td>a7503c1c-d54f-415b-9590-ddbdfb6f9bbe</td>\n",
       "      <td>2025-04-11</td>\n",
       "      <td>522.0</td>\n",
       "    </tr>\n",
       "    <tr>\n",
       "      <th>181</th>\n",
       "      <td>446e89a9-c6df-4b18-a740-1bb0da864966</td>\n",
       "      <td>2025-04-11</td>\n",
       "      <td>474.0</td>\n",
       "    </tr>\n",
       "    <tr>\n",
       "      <th>219</th>\n",
       "      <td>c317bab9-5915-4025-8238-01c4707eb7be</td>\n",
       "      <td>2025-04-08</td>\n",
       "      <td>884.0</td>\n",
       "    </tr>\n",
       "    <tr>\n",
       "      <th>487</th>\n",
       "      <td>1899a4db-9dd7-40be-b72b-d0a187614104</td>\n",
       "      <td>2025-04-07</td>\n",
       "      <td>713.0</td>\n",
       "    </tr>\n",
       "    <tr>\n",
       "      <th>...</th>\n",
       "      <td>...</td>\n",
       "      <td>...</td>\n",
       "      <td>...</td>\n",
       "    </tr>\n",
       "    <tr>\n",
       "      <th>9999546</th>\n",
       "      <td>998c3146-8bdf-4ee5-bccc-68a395f2e63b</td>\n",
       "      <td>2025-04-08</td>\n",
       "      <td>820.0</td>\n",
       "    </tr>\n",
       "    <tr>\n",
       "      <th>9999569</th>\n",
       "      <td>750b1a46-8fd9-493e-ba87-42e61d2a1500</td>\n",
       "      <td>2025-04-10</td>\n",
       "      <td>741.0</td>\n",
       "    </tr>\n",
       "    <tr>\n",
       "      <th>9999848</th>\n",
       "      <td>989bf6cd-2091-464a-a78a-41ecffcb2bef</td>\n",
       "      <td>2025-04-12</td>\n",
       "      <td>487.0</td>\n",
       "    </tr>\n",
       "    <tr>\n",
       "      <th>9999897</th>\n",
       "      <td>f32da7ef-5279-4a2f-962f-94a593c1982d</td>\n",
       "      <td>2025-04-09</td>\n",
       "      <td>742.0</td>\n",
       "    </tr>\n",
       "    <tr>\n",
       "      <th>9999924</th>\n",
       "      <td>4f7998ed-ade4-4092-a385-273cbe490087</td>\n",
       "      <td>2025-04-13</td>\n",
       "      <td>647.0</td>\n",
       "    </tr>\n",
       "  </tbody>\n",
       "</table>\n",
       "<p>148818 rows × 3 columns</p>\n",
       "</div>"
      ],
      "text/plain": [
       "                               TRANSACTION_ID       DATE  REVENUE\n",
       "24       07c3ef12-cb1f-4906-bb20-234f0f35ac94 2025-04-10    890.0\n",
       "42       a7503c1c-d54f-415b-9590-ddbdfb6f9bbe 2025-04-11    522.0\n",
       "181      446e89a9-c6df-4b18-a740-1bb0da864966 2025-04-11    474.0\n",
       "219      c317bab9-5915-4025-8238-01c4707eb7be 2025-04-08    884.0\n",
       "487      1899a4db-9dd7-40be-b72b-d0a187614104 2025-04-07    713.0\n",
       "...                                       ...        ...      ...\n",
       "9999546  998c3146-8bdf-4ee5-bccc-68a395f2e63b 2025-04-08    820.0\n",
       "9999569  750b1a46-8fd9-493e-ba87-42e61d2a1500 2025-04-10    741.0\n",
       "9999848  989bf6cd-2091-464a-a78a-41ecffcb2bef 2025-04-12    487.0\n",
       "9999897  f32da7ef-5279-4a2f-962f-94a593c1982d 2025-04-09    742.0\n",
       "9999924  4f7998ed-ade4-4092-a385-273cbe490087 2025-04-13    647.0\n",
       "\n",
       "[148818 rows x 3 columns]"
      ]
     },
     "execution_count": 21,
     "metadata": {},
     "output_type": "execute_result"
    }
   ],
   "source": [
    "df_transactions_filter1"
   ]
  },
  {
   "cell_type": "code",
   "execution_count": 22,
   "id": "098b0576-bd42-46c9-b4e6-667e673de18d",
   "metadata": {},
   "outputs": [
    {
     "data": {
      "text/plain": [
       "148818"
      ]
     },
     "execution_count": 22,
     "metadata": {},
     "output_type": "execute_result"
    }
   ],
   "source": [
    "df_transactions_filter1._query_compiler._modin_frame.ordered_dataframe.row_count_upper_bound"
   ]
  },
  {
   "cell_type": "code",
   "execution_count": 23,
   "id": "637a552d-2f66-4677-8294-4420e322332c",
   "metadata": {},
   "outputs": [
    {
     "data": {
      "text/html": [
       "<div>\n",
       "<style scoped>\n",
       "    .dataframe tbody tr th:only-of-type {\n",
       "        vertical-align: middle;\n",
       "    }\n",
       "\n",
       "    .dataframe tbody tr th {\n",
       "        vertical-align: top;\n",
       "    }\n",
       "\n",
       "    .dataframe thead th {\n",
       "        text-align: right;\n",
       "    }\n",
       "</style>\n",
       "<table border=\"1\" class=\"dataframe\">\n",
       "  <thead>\n",
       "    <tr style=\"text-align: right;\">\n",
       "      <th></th>\n",
       "      <th>TRANSACTION_ID</th>\n",
       "      <th>DATE</th>\n",
       "      <th>REVENUE</th>\n",
       "    </tr>\n",
       "  </thead>\n",
       "  <tbody>\n",
       "    <tr>\n",
       "      <th>24</th>\n",
       "      <td>07c3ef12-cb1f-4906-bb20-234f0f35ac94</td>\n",
       "      <td>2025-04-10</td>\n",
       "      <td>890.0</td>\n",
       "    </tr>\n",
       "    <tr>\n",
       "      <th>42</th>\n",
       "      <td>a7503c1c-d54f-415b-9590-ddbdfb6f9bbe</td>\n",
       "      <td>2025-04-11</td>\n",
       "      <td>522.0</td>\n",
       "    </tr>\n",
       "    <tr>\n",
       "      <th>181</th>\n",
       "      <td>446e89a9-c6df-4b18-a740-1bb0da864966</td>\n",
       "      <td>2025-04-11</td>\n",
       "      <td>474.0</td>\n",
       "    </tr>\n",
       "    <tr>\n",
       "      <th>219</th>\n",
       "      <td>c317bab9-5915-4025-8238-01c4707eb7be</td>\n",
       "      <td>2025-04-08</td>\n",
       "      <td>884.0</td>\n",
       "    </tr>\n",
       "    <tr>\n",
       "      <th>487</th>\n",
       "      <td>1899a4db-9dd7-40be-b72b-d0a187614104</td>\n",
       "      <td>2025-04-07</td>\n",
       "      <td>713.0</td>\n",
       "    </tr>\n",
       "    <tr>\n",
       "      <th>...</th>\n",
       "      <td>...</td>\n",
       "      <td>...</td>\n",
       "      <td>...</td>\n",
       "    </tr>\n",
       "    <tr>\n",
       "      <th>9999546</th>\n",
       "      <td>998c3146-8bdf-4ee5-bccc-68a395f2e63b</td>\n",
       "      <td>2025-04-08</td>\n",
       "      <td>820.0</td>\n",
       "    </tr>\n",
       "    <tr>\n",
       "      <th>9999569</th>\n",
       "      <td>750b1a46-8fd9-493e-ba87-42e61d2a1500</td>\n",
       "      <td>2025-04-10</td>\n",
       "      <td>741.0</td>\n",
       "    </tr>\n",
       "    <tr>\n",
       "      <th>9999848</th>\n",
       "      <td>989bf6cd-2091-464a-a78a-41ecffcb2bef</td>\n",
       "      <td>2025-04-12</td>\n",
       "      <td>487.0</td>\n",
       "    </tr>\n",
       "    <tr>\n",
       "      <th>9999897</th>\n",
       "      <td>f32da7ef-5279-4a2f-962f-94a593c1982d</td>\n",
       "      <td>2025-04-09</td>\n",
       "      <td>742.0</td>\n",
       "    </tr>\n",
       "    <tr>\n",
       "      <th>9999924</th>\n",
       "      <td>4f7998ed-ade4-4092-a385-273cbe490087</td>\n",
       "      <td>2025-04-13</td>\n",
       "      <td>647.0</td>\n",
       "    </tr>\n",
       "  </tbody>\n",
       "</table>\n",
       "<p>148818 rows × 3 columns</p>\n",
       "</div>"
      ],
      "text/plain": [
       "                               TRANSACTION_ID       DATE  REVENUE\n",
       "24       07c3ef12-cb1f-4906-bb20-234f0f35ac94 2025-04-10    890.0\n",
       "42       a7503c1c-d54f-415b-9590-ddbdfb6f9bbe 2025-04-11    522.0\n",
       "181      446e89a9-c6df-4b18-a740-1bb0da864966 2025-04-11    474.0\n",
       "219      c317bab9-5915-4025-8238-01c4707eb7be 2025-04-08    884.0\n",
       "487      1899a4db-9dd7-40be-b72b-d0a187614104 2025-04-07    713.0\n",
       "...                                       ...        ...      ...\n",
       "9999546  998c3146-8bdf-4ee5-bccc-68a395f2e63b 2025-04-08    820.0\n",
       "9999569  750b1a46-8fd9-493e-ba87-42e61d2a1500 2025-04-10    741.0\n",
       "9999848  989bf6cd-2091-464a-a78a-41ecffcb2bef 2025-04-12    487.0\n",
       "9999897  f32da7ef-5279-4a2f-962f-94a593c1982d 2025-04-09    742.0\n",
       "9999924  4f7998ed-ade4-4092-a385-273cbe490087 2025-04-13    647.0\n",
       "\n",
       "[148818 rows x 3 columns]"
      ]
     },
     "execution_count": 23,
     "metadata": {},
     "output_type": "execute_result"
    }
   ],
   "source": [
    "df_transactions_filter1"
   ]
  },
  {
   "cell_type": "code",
   "execution_count": 24,
   "id": "ac736209-3afd-4e67-9a8c-348711db9b35",
   "metadata": {},
   "outputs": [
    {
     "data": {
      "text/html": [
       "<div>\n",
       "<style scoped>\n",
       "    .dataframe tbody tr th:only-of-type {\n",
       "        vertical-align: middle;\n",
       "    }\n",
       "\n",
       "    .dataframe tbody tr th {\n",
       "        vertical-align: top;\n",
       "    }\n",
       "\n",
       "    .dataframe thead th {\n",
       "        text-align: right;\n",
       "    }\n",
       "</style>\n",
       "<table border=\"1\" class=\"dataframe\">\n",
       "  <thead>\n",
       "    <tr style=\"text-align: right;\">\n",
       "      <th></th>\n",
       "      <th>TRANSACTION_ID</th>\n",
       "      <th>DATE</th>\n",
       "      <th>REVENUE</th>\n",
       "    </tr>\n",
       "  </thead>\n",
       "  <tbody>\n",
       "    <tr>\n",
       "      <th>24</th>\n",
       "      <td>07c3ef12-cb1f-4906-bb20-234f0f35ac94</td>\n",
       "      <td>2025-04-10</td>\n",
       "      <td>890.0</td>\n",
       "    </tr>\n",
       "    <tr>\n",
       "      <th>42</th>\n",
       "      <td>a7503c1c-d54f-415b-9590-ddbdfb6f9bbe</td>\n",
       "      <td>2025-04-11</td>\n",
       "      <td>522.0</td>\n",
       "    </tr>\n",
       "    <tr>\n",
       "      <th>181</th>\n",
       "      <td>446e89a9-c6df-4b18-a740-1bb0da864966</td>\n",
       "      <td>2025-04-11</td>\n",
       "      <td>474.0</td>\n",
       "    </tr>\n",
       "    <tr>\n",
       "      <th>219</th>\n",
       "      <td>c317bab9-5915-4025-8238-01c4707eb7be</td>\n",
       "      <td>2025-04-08</td>\n",
       "      <td>884.0</td>\n",
       "    </tr>\n",
       "    <tr>\n",
       "      <th>487</th>\n",
       "      <td>1899a4db-9dd7-40be-b72b-d0a187614104</td>\n",
       "      <td>2025-04-07</td>\n",
       "      <td>713.0</td>\n",
       "    </tr>\n",
       "    <tr>\n",
       "      <th>...</th>\n",
       "      <td>...</td>\n",
       "      <td>...</td>\n",
       "      <td>...</td>\n",
       "    </tr>\n",
       "    <tr>\n",
       "      <th>9999546</th>\n",
       "      <td>998c3146-8bdf-4ee5-bccc-68a395f2e63b</td>\n",
       "      <td>2025-04-08</td>\n",
       "      <td>820.0</td>\n",
       "    </tr>\n",
       "    <tr>\n",
       "      <th>9999569</th>\n",
       "      <td>750b1a46-8fd9-493e-ba87-42e61d2a1500</td>\n",
       "      <td>2025-04-10</td>\n",
       "      <td>741.0</td>\n",
       "    </tr>\n",
       "    <tr>\n",
       "      <th>9999848</th>\n",
       "      <td>989bf6cd-2091-464a-a78a-41ecffcb2bef</td>\n",
       "      <td>2025-04-12</td>\n",
       "      <td>487.0</td>\n",
       "    </tr>\n",
       "    <tr>\n",
       "      <th>9999897</th>\n",
       "      <td>f32da7ef-5279-4a2f-962f-94a593c1982d</td>\n",
       "      <td>2025-04-09</td>\n",
       "      <td>742.0</td>\n",
       "    </tr>\n",
       "    <tr>\n",
       "      <th>9999924</th>\n",
       "      <td>4f7998ed-ade4-4092-a385-273cbe490087</td>\n",
       "      <td>2025-04-13</td>\n",
       "      <td>647.0</td>\n",
       "    </tr>\n",
       "  </tbody>\n",
       "</table>\n",
       "<p>148818 rows × 3 columns</p>\n",
       "</div>"
      ],
      "text/plain": [
       "                               TRANSACTION_ID       DATE  REVENUE\n",
       "24       07c3ef12-cb1f-4906-bb20-234f0f35ac94 2025-04-10    890.0\n",
       "42       a7503c1c-d54f-415b-9590-ddbdfb6f9bbe 2025-04-11    522.0\n",
       "181      446e89a9-c6df-4b18-a740-1bb0da864966 2025-04-11    474.0\n",
       "219      c317bab9-5915-4025-8238-01c4707eb7be 2025-04-08    884.0\n",
       "487      1899a4db-9dd7-40be-b72b-d0a187614104 2025-04-07    713.0\n",
       "...                                       ...        ...      ...\n",
       "9999546  998c3146-8bdf-4ee5-bccc-68a395f2e63b 2025-04-08    820.0\n",
       "9999569  750b1a46-8fd9-493e-ba87-42e61d2a1500 2025-04-10    741.0\n",
       "9999848  989bf6cd-2091-464a-a78a-41ecffcb2bef 2025-04-12    487.0\n",
       "9999897  f32da7ef-5279-4a2f-962f-94a593c1982d 2025-04-09    742.0\n",
       "9999924  4f7998ed-ade4-4092-a385-273cbe490087 2025-04-13    647.0\n",
       "\n",
       "[148818 rows x 3 columns]"
      ]
     },
     "execution_count": 24,
     "metadata": {},
     "output_type": "execute_result"
    }
   ],
   "source": [
    "# Repr should \n",
    "# (1) perform the repr\n",
    "# (2) update count on original data frame\n",
    "# (3) consider moving\n",
    "df_transactions_filter1 "
   ]
  },
  {
   "cell_type": "code",
   "execution_count": 25,
   "id": "dc87088a-dc85-43f5-8e66-8be46074f9a1",
   "metadata": {},
   "outputs": [],
   "source": [
    "# Do we want to check this eager\n",
    "# Do we expect that after a filter we check for a switcheroo case?\n",
    "# can we even do this move if the estimated row size is still the size of data table\n",
    "assert df_transactions_filter1.get_backend() == \"Snowflake\" "
   ]
  },
  {
   "cell_type": "code",
   "execution_count": 26,
   "id": "e454bdb7-2fff-4c52-ad18-6419e197dbf5",
   "metadata": {},
   "outputs": [
    {
     "name": "stderr",
     "output_type": "stream",
     "text": [
      "WARNING:snowflake.snowpark.modin.plugin.utils.warning_message:The current operation leads to materialization and can be slow if the data is large!\n"
     ]
    },
    {
     "name": "stdout",
     "output_type": "stream",
     "text": [
      "Date range: 2025-04-07 to 2025-04-13. Resulting dataset size: 148818\n"
     ]
    }
   ],
   "source": [
    "print(f\"Date range: {df_transactions_filter1['DATE'].min().date()} to {df_transactions_filter1['DATE'].max().date()}. Resulting dataset size: {len(df_transactions_filter1)}\")"
   ]
  },
  {
   "cell_type": "markdown",
   "id": "1e9d9f6c-dc87-42c7-8b3f-e19b36ea5897",
   "metadata": {},
   "source": [
    "Now let's perform filtering via SQL directly, so the dataframe upon creation is small."
   ]
  },
  {
   "cell_type": "code",
   "execution_count": 27,
   "id": "8cee902a-71d8-412b-83b7-ffbd53b8a4c9",
   "metadata": {},
   "outputs": [
    {
     "data": {
      "application/vnd.jupyter.widget-view+json": {
       "model_id": "6317b8793e834457aa3bd23e67eaa394",
       "version_major": 2,
       "version_minor": 0
      },
      "text/plain": [
       "Transferring data from Snowflake to Pandas ...:   0%|          | 0/2 [00:00<?, ?it/s]"
      ]
     },
     "metadata": {},
     "output_type": "display_data"
    }
   ],
   "source": [
    "df_transactions_filter2 = pd.read_snowflake(\"SELECT * FROM revenue_transactions WHERE Date >= DATEADD( 'days', -7, current_date ) and Date < current_date\")"
   ]
  },
  {
   "cell_type": "code",
   "execution_count": 28,
   "id": "bf8d8f5c-8a1f-41d8-bed2-0b7f5f1778bc",
   "metadata": {},
   "outputs": [
    {
     "data": {
      "text/html": [
       "<div>\n",
       "<style scoped>\n",
       "    .dataframe tbody tr th:only-of-type {\n",
       "        vertical-align: middle;\n",
       "    }\n",
       "\n",
       "    .dataframe tbody tr th {\n",
       "        vertical-align: top;\n",
       "    }\n",
       "\n",
       "    .dataframe thead th {\n",
       "        text-align: right;\n",
       "    }\n",
       "</style>\n",
       "<table border=\"1\" class=\"dataframe\">\n",
       "  <thead>\n",
       "    <tr style=\"text-align: right;\">\n",
       "      <th></th>\n",
       "      <th>TRANSACTION_ID</th>\n",
       "      <th>DATE</th>\n",
       "      <th>REVENUE</th>\n",
       "    </tr>\n",
       "  </thead>\n",
       "  <tbody>\n",
       "    <tr>\n",
       "      <th>0</th>\n",
       "      <td>e7390a6e-a92f-4b40-b909-377d70d9e3ef</td>\n",
       "      <td>2025-04-12</td>\n",
       "      <td>103.0</td>\n",
       "    </tr>\n",
       "    <tr>\n",
       "      <th>1</th>\n",
       "      <td>3a4bb9a2-0056-46e4-abb2-4cf237106bad</td>\n",
       "      <td>2025-04-08</td>\n",
       "      <td>33.0</td>\n",
       "    </tr>\n",
       "    <tr>\n",
       "      <th>2</th>\n",
       "      <td>7e1bd805-c3e9-40e8-96b4-7327fbcfc3c1</td>\n",
       "      <td>2025-04-09</td>\n",
       "      <td>275.0</td>\n",
       "    </tr>\n",
       "    <tr>\n",
       "      <th>3</th>\n",
       "      <td>69239b21-67b8-4d5f-8b2d-c6226f2b2b22</td>\n",
       "      <td>2025-04-12</td>\n",
       "      <td>183.0</td>\n",
       "    </tr>\n",
       "    <tr>\n",
       "      <th>4</th>\n",
       "      <td>5d9c41e5-c8dd-4e44-92a0-b7fb4612fb23</td>\n",
       "      <td>2025-04-13</td>\n",
       "      <td>467.0</td>\n",
       "    </tr>\n",
       "    <tr>\n",
       "      <th>...</th>\n",
       "      <td>...</td>\n",
       "      <td>...</td>\n",
       "      <td>...</td>\n",
       "    </tr>\n",
       "    <tr>\n",
       "      <th>148813</th>\n",
       "      <td>706a5b69-d68d-4acb-bbf1-2d4944119f95</td>\n",
       "      <td>2025-04-10</td>\n",
       "      <td>591.0</td>\n",
       "    </tr>\n",
       "    <tr>\n",
       "      <th>148814</th>\n",
       "      <td>192025fc-aa38-44de-9931-ee49fa64b000</td>\n",
       "      <td>2025-04-09</td>\n",
       "      <td>500.0</td>\n",
       "    </tr>\n",
       "    <tr>\n",
       "      <th>148815</th>\n",
       "      <td>9bb6ad3b-4835-451e-95fa-fdbaa90753fa</td>\n",
       "      <td>2025-04-07</td>\n",
       "      <td>514.0</td>\n",
       "    </tr>\n",
       "    <tr>\n",
       "      <th>148816</th>\n",
       "      <td>cc125215-983f-46c4-bb2f-f5f2f2c510ce</td>\n",
       "      <td>2025-04-08</td>\n",
       "      <td>16.0</td>\n",
       "    </tr>\n",
       "    <tr>\n",
       "      <th>148817</th>\n",
       "      <td>d0b5665c-f0d3-4b05-899b-e55c222327b0</td>\n",
       "      <td>2025-04-08</td>\n",
       "      <td>490.0</td>\n",
       "    </tr>\n",
       "  </tbody>\n",
       "</table>\n",
       "<p>148818 rows x 3 columns</p>\n",
       "</div>"
      ],
      "text/plain": [
       "                              TRANSACTION_ID        DATE  REVENUE\n",
       "0       e7390a6e-a92f-4b40-b909-377d70d9e3ef  2025-04-12    103.0\n",
       "1       3a4bb9a2-0056-46e4-abb2-4cf237106bad  2025-04-08     33.0\n",
       "2       7e1bd805-c3e9-40e8-96b4-7327fbcfc3c1  2025-04-09    275.0\n",
       "3       69239b21-67b8-4d5f-8b2d-c6226f2b2b22  2025-04-12    183.0\n",
       "4       5d9c41e5-c8dd-4e44-92a0-b7fb4612fb23  2025-04-13    467.0\n",
       "...                                      ...         ...      ...\n",
       "148813  706a5b69-d68d-4acb-bbf1-2d4944119f95  2025-04-10    591.0\n",
       "148814  192025fc-aa38-44de-9931-ee49fa64b000  2025-04-09    500.0\n",
       "148815  9bb6ad3b-4835-451e-95fa-fdbaa90753fa  2025-04-07    514.0\n",
       "148816  cc125215-983f-46c4-bb2f-f5f2f2c510ce  2025-04-08     16.0\n",
       "148817  d0b5665c-f0d3-4b05-899b-e55c222327b0  2025-04-08    490.0\n",
       "\n",
       "[148818 rows x 3 columns]"
      ]
     },
     "execution_count": 28,
     "metadata": {},
     "output_type": "execute_result"
    }
   ],
   "source": [
    "df_transactions_filter2"
   ]
  },
  {
   "cell_type": "code",
   "execution_count": 29,
   "id": "eaaf8150-97bb-479f-acb4-d0a4767037db",
   "metadata": {},
   "outputs": [
    {
     "name": "stdout",
     "output_type": "stream",
     "text": [
      "Date range: 2025-04-07 to 2025-04-13. Resulting dataset size: 148818\n"
     ]
    }
   ],
   "source": [
    "# Verify the result is same as above\n",
    "print(f\"Date range: {df_transactions_filter2['DATE'].min()} to {df_transactions_filter2['DATE'].max()}. Resulting dataset size: {len(df_transactions_filter2)}\")"
   ]
  },
  {
   "cell_type": "code",
   "execution_count": 30,
   "id": "d9acb3c6-cf17-4440-bb87-03e5ae72107e",
   "metadata": {},
   "outputs": [],
   "source": [
    "assert df_transactions_filter2.get_backend() == \"Pandas\" "
   ]
  },
  {
   "cell_type": "code",
   "execution_count": 31,
   "id": "aca6e6b5-d640-4a7e-b60b-3eb1fd379bac",
   "metadata": {},
   "outputs": [
    {
     "data": {
      "text/plain": [
       "148818"
      ]
     },
     "execution_count": 31,
     "metadata": {},
     "output_type": "execute_result"
    }
   ],
   "source": [
    "len(df_transactions_filter2)"
   ]
  },
  {
   "cell_type": "markdown",
   "id": "e5972d8e-d5d9-4583-8719-415b71f32a8c",
   "metadata": {},
   "source": [
    "Once you are in pandas, you can still continue to perform the same operations: "
   ]
  },
  {
   "cell_type": "code",
   "execution_count": 32,
   "id": "abcc6f90-f883-49a8-b850-3bf5cadd31a6",
   "metadata": {},
   "outputs": [
    {
     "name": "stdout",
     "output_type": "stream",
     "text": [
      "CPU times: user 1 µs, sys: 0 ns, total: 1 µs\n",
      "Wall time: 2.15 µs\n"
     ]
    },
    {
     "data": {
      "application/vnd.jupyter.widget-view+json": {
       "model_id": "0742a0e6515a4eb186f3cc51f97e9895",
       "version_major": 2,
       "version_minor": 0
      },
      "text/plain": [
       "Transferring data from Snowflake to Pandas ...:   0%|          | 0/2 [00:00<?, ?it/s]"
      ]
     },
     "metadata": {},
     "output_type": "display_data"
    },
    {
     "data": {
      "text/plain": [
       "DATE\n",
       "2025-04-07    10658040.0\n",
       "2025-04-08    10684281.0\n",
       "2025-04-09    10772216.0\n",
       "2025-04-10    10801029.0\n",
       "2025-04-11    10851369.0\n",
       "2025-04-12    10598843.0\n",
       "2025-04-13    10868851.0\n",
       "Freq: None, Name: REVENUE, dtype: float64"
      ]
     },
     "execution_count": 32,
     "metadata": {},
     "output_type": "execute_result"
    }
   ],
   "source": [
    "%time\n",
    "df_transactions_filter1.groupby(\"DATE\").sum()[\"REVENUE\"]"
   ]
  },
  {
   "cell_type": "code",
   "execution_count": 33,
   "id": "eaeca2aa-255d-4661-9615-e80b1d75c124",
   "metadata": {},
   "outputs": [
    {
     "data": {
      "text/plain": [
       "(148818, 3)"
      ]
     },
     "execution_count": 33,
     "metadata": {},
     "output_type": "execute_result"
    }
   ],
   "source": [
    "df_transactions_filter1.shape"
   ]
  },
  {
   "cell_type": "code",
   "execution_count": 34,
   "id": "9dd6ea59-9f26-4968-b652-cac35850c123",
   "metadata": {},
   "outputs": [
    {
     "name": "stdout",
     "output_type": "stream",
     "text": [
      "CPU times: user 1e+03 ns, sys: 0 ns, total: 1e+03 ns\n",
      "Wall time: 2.86 µs\n"
     ]
    },
    {
     "data": {
      "text/plain": [
       "DATE\n",
       "2025-04-07    10658040.0\n",
       "2025-04-08    10684281.0\n",
       "2025-04-09    10772216.0\n",
       "2025-04-10    10801029.0\n",
       "2025-04-11    10851369.0\n",
       "2025-04-12    10598843.0\n",
       "2025-04-13    10868851.0\n",
       "Name: REVENUE, dtype: float64"
      ]
     },
     "execution_count": 34,
     "metadata": {},
     "output_type": "execute_result"
    }
   ],
   "source": [
    "%time\n",
    "df_transactions_filter2.groupby(\"DATE\").sum()[\"REVENUE\"]"
   ]
  },
  {
   "cell_type": "markdown",
   "id": "021bba5b-6f50-48d8-85a4-189668a67fa8",
   "metadata": {},
   "source": [
    "### 💡 Automatic switching means that pandas work well for both small and large data"
   ]
  },
  {
   "cell_type": "markdown",
   "id": "ab88cfe0-936a-4fa0-ba01-1a7152781d2f",
   "metadata": {},
   "source": [
    "## Example 3: Performing Custom `apply` on small dataset\n",
    "\n",
    "Forecast using last year's transaction data via a custom apply function"
   ]
  },
  {
   "cell_type": "code",
   "execution_count": 35,
   "id": "33ef702a-60da-48a9-b1e6-90982879afcd",
   "metadata": {},
   "outputs": [],
   "source": [
    "start_date = pd.Timestamp(\"2025-10-01\")\n",
    "end_date = pd.Timestamp(\"2025-10-31\")"
   ]
  },
  {
   "cell_type": "code",
   "execution_count": 36,
   "id": "11a7f0e1-3db6-4a6e-97f3-d28e8d28cf53",
   "metadata": {},
   "outputs": [],
   "source": [
    "# Forecasting function using df.apply\n",
    "\n",
    "def forecast_revenue(df, start_date, end_date):\n",
    "    # Filter data from last year\n",
    "    df_filtered = df[(df[\"DATE\"] >= start_date - pd.Timedelta(days=365)) & (df[\"DATE\"] < start_date)]\n",
    "    \n",
    "    # Append future dates to daily_avg for prediction\n",
    "    future_dates = pd.date_range(start=start_date, end=end_date, freq=\"D\")\n",
    "    df_future = pd.DataFrame({\"DATE\": future_dates})\n",
    "\n",
    "    # Group by DATE and calculate the mean revenue\n",
    "    daily_avg = df_filtered.groupby(\"DATE\")[\"REVENUE\"].mean().reset_index()\n",
    "    daily_avg[\"DATE\"] = daily_avg[\"DATE\"].astype('datetime64[ns]')\n",
    "    # Merge future dates with predicted revenue, filling missing values\n",
    "    df_forecast = df_future.merge(daily_avg, on=\"DATE\", how=\"left\")\n",
    "    #breakpoint()\n",
    "    import numpy as np\n",
    "    # Fill missing predicted revenue with overall mean from last year\n",
    "    df_forecast[\"PREDICTED_REVENUE\"] = np.nan\n",
    "    df_forecast[\"PREDICTED_REVENUE\"].fillna(daily_avg[\"REVENUE\"].mean(), inplace=True)\n",
    "    df_forecast[\"PREDICTED_REVENUE\"] = df_forecast[\"PREDICTED_REVENUE\"].astype(\"float\")\n",
    "    return df_forecast"
   ]
  },
  {
   "cell_type": "code",
   "execution_count": 37,
   "id": "f41e2b38-fb3d-4b52-b115-f78048ff483c",
   "metadata": {},
   "outputs": [
    {
     "data": {
      "application/vnd.jupyter.widget-view+json": {
       "model_id": "e0946baa2dd44d63821a7f65eba02a8f",
       "version_major": 2,
       "version_minor": 0
      },
      "text/plain": [
       "Transferring data from Snowflake to Pandas ...:   0%|          | 0/2 [00:00<?, ?it/s]"
      ]
     },
     "metadata": {},
     "output_type": "display_data"
    },
    {
     "data": {
      "text/plain": [
       "31"
      ]
     },
     "execution_count": 37,
     "metadata": {},
     "output_type": "execute_result"
    }
   ],
   "source": [
    "df_forecast = forecast_revenue(df_transactions, start_date, end_date)\n",
    "len(df_forecast)"
   ]
  },
  {
   "cell_type": "markdown",
   "id": "276513a5-bcad-4c41-bec0-585ebc5690a4",
   "metadata": {},
   "source": [
    "The resulting dataframe is very small, since it is only the 1-month window we're performing forecast on."
   ]
  },
  {
   "cell_type": "code",
   "execution_count": 38,
   "id": "dc5cf071-c8be-4543-b3b9-a23b844b18e0",
   "metadata": {},
   "outputs": [],
   "source": [
    "assert df_forecast.get_backend() == 'Pandas'"
   ]
  },
  {
   "cell_type": "code",
   "execution_count": 39,
   "id": "17271e32-0a0e-47aa-9701-38d35373f332",
   "metadata": {},
   "outputs": [],
   "source": [
    "def adjust_for_holiday_weekend(row):\n",
    "    # For national holidays, revenue down 5% since stores are closed. For weekends, revenue is up 5% due to increased activity.\n",
    "    if row[\"DATE\"].strftime('%Y-%m-%d') in list(df_us_holidays[\"Date\"].dt.strftime('%Y-%m-%d')): \n",
    "        return row[\"PREDICTED_REVENUE\"] * 0.95\n",
    "    elif row[\"DATE\"].weekday() == 5 or row[\"DATE\"].weekday() == 6: #Saturday/Sundays\n",
    "        return row[\"PREDICTED_REVENUE\"] * 1.05\n",
    "    return row[\"PREDICTED_REVENUE\"]"
   ]
  },
  {
   "cell_type": "code",
   "execution_count": 40,
   "id": "b17a06f7-9a55-4d7f-a862-3a73c16b3312",
   "metadata": {},
   "outputs": [
    {
     "data": {
      "text/html": [
       "<div>\n",
       "<style scoped>\n",
       "    .dataframe tbody tr th:only-of-type {\n",
       "        vertical-align: middle;\n",
       "    }\n",
       "\n",
       "    .dataframe tbody tr th {\n",
       "        vertical-align: top;\n",
       "    }\n",
       "\n",
       "    .dataframe thead th {\n",
       "        text-align: right;\n",
       "    }\n",
       "</style>\n",
       "<table border=\"1\" class=\"dataframe\">\n",
       "  <thead>\n",
       "    <tr style=\"text-align: right;\">\n",
       "      <th></th>\n",
       "      <th>DATE</th>\n",
       "      <th>PREDICTED_REVENUE</th>\n",
       "    </tr>\n",
       "  </thead>\n",
       "  <tbody>\n",
       "    <tr>\n",
       "      <th>0</th>\n",
       "      <td>2025-10-01</td>\n",
       "      <td>505.041309</td>\n",
       "    </tr>\n",
       "    <tr>\n",
       "      <th>1</th>\n",
       "      <td>2025-10-02</td>\n",
       "      <td>505.041309</td>\n",
       "    </tr>\n",
       "    <tr>\n",
       "      <th>2</th>\n",
       "      <td>2025-10-03</td>\n",
       "      <td>505.041309</td>\n",
       "    </tr>\n",
       "    <tr>\n",
       "      <th>3</th>\n",
       "      <td>2025-10-04</td>\n",
       "      <td>530.293374</td>\n",
       "    </tr>\n",
       "    <tr>\n",
       "      <th>4</th>\n",
       "      <td>2025-10-05</td>\n",
       "      <td>530.293374</td>\n",
       "    </tr>\n",
       "    <tr>\n",
       "      <th>5</th>\n",
       "      <td>2025-10-06</td>\n",
       "      <td>505.041309</td>\n",
       "    </tr>\n",
       "    <tr>\n",
       "      <th>6</th>\n",
       "      <td>2025-10-07</td>\n",
       "      <td>505.041309</td>\n",
       "    </tr>\n",
       "    <tr>\n",
       "      <th>7</th>\n",
       "      <td>2025-10-08</td>\n",
       "      <td>505.041309</td>\n",
       "    </tr>\n",
       "    <tr>\n",
       "      <th>8</th>\n",
       "      <td>2025-10-09</td>\n",
       "      <td>505.041309</td>\n",
       "    </tr>\n",
       "    <tr>\n",
       "      <th>9</th>\n",
       "      <td>2025-10-10</td>\n",
       "      <td>505.041309</td>\n",
       "    </tr>\n",
       "    <tr>\n",
       "      <th>10</th>\n",
       "      <td>2025-10-11</td>\n",
       "      <td>530.293374</td>\n",
       "    </tr>\n",
       "    <tr>\n",
       "      <th>11</th>\n",
       "      <td>2025-10-12</td>\n",
       "      <td>530.293374</td>\n",
       "    </tr>\n",
       "    <tr>\n",
       "      <th>12</th>\n",
       "      <td>2025-10-13</td>\n",
       "      <td>479.789243</td>\n",
       "    </tr>\n",
       "    <tr>\n",
       "      <th>13</th>\n",
       "      <td>2025-10-14</td>\n",
       "      <td>505.041309</td>\n",
       "    </tr>\n",
       "    <tr>\n",
       "      <th>14</th>\n",
       "      <td>2025-10-15</td>\n",
       "      <td>505.041309</td>\n",
       "    </tr>\n",
       "    <tr>\n",
       "      <th>15</th>\n",
       "      <td>2025-10-16</td>\n",
       "      <td>505.041309</td>\n",
       "    </tr>\n",
       "    <tr>\n",
       "      <th>16</th>\n",
       "      <td>2025-10-17</td>\n",
       "      <td>505.041309</td>\n",
       "    </tr>\n",
       "    <tr>\n",
       "      <th>17</th>\n",
       "      <td>2025-10-18</td>\n",
       "      <td>530.293374</td>\n",
       "    </tr>\n",
       "    <tr>\n",
       "      <th>18</th>\n",
       "      <td>2025-10-19</td>\n",
       "      <td>530.293374</td>\n",
       "    </tr>\n",
       "    <tr>\n",
       "      <th>19</th>\n",
       "      <td>2025-10-20</td>\n",
       "      <td>505.041309</td>\n",
       "    </tr>\n",
       "    <tr>\n",
       "      <th>20</th>\n",
       "      <td>2025-10-21</td>\n",
       "      <td>505.041309</td>\n",
       "    </tr>\n",
       "    <tr>\n",
       "      <th>21</th>\n",
       "      <td>2025-10-22</td>\n",
       "      <td>505.041309</td>\n",
       "    </tr>\n",
       "    <tr>\n",
       "      <th>22</th>\n",
       "      <td>2025-10-23</td>\n",
       "      <td>505.041309</td>\n",
       "    </tr>\n",
       "    <tr>\n",
       "      <th>23</th>\n",
       "      <td>2025-10-24</td>\n",
       "      <td>505.041309</td>\n",
       "    </tr>\n",
       "    <tr>\n",
       "      <th>24</th>\n",
       "      <td>2025-10-25</td>\n",
       "      <td>530.293374</td>\n",
       "    </tr>\n",
       "    <tr>\n",
       "      <th>25</th>\n",
       "      <td>2025-10-26</td>\n",
       "      <td>530.293374</td>\n",
       "    </tr>\n",
       "    <tr>\n",
       "      <th>26</th>\n",
       "      <td>2025-10-27</td>\n",
       "      <td>505.041309</td>\n",
       "    </tr>\n",
       "    <tr>\n",
       "      <th>27</th>\n",
       "      <td>2025-10-28</td>\n",
       "      <td>505.041309</td>\n",
       "    </tr>\n",
       "    <tr>\n",
       "      <th>28</th>\n",
       "      <td>2025-10-29</td>\n",
       "      <td>505.041309</td>\n",
       "    </tr>\n",
       "    <tr>\n",
       "      <th>29</th>\n",
       "      <td>2025-10-30</td>\n",
       "      <td>505.041309</td>\n",
       "    </tr>\n",
       "    <tr>\n",
       "      <th>30</th>\n",
       "      <td>2025-10-31</td>\n",
       "      <td>505.041309</td>\n",
       "    </tr>\n",
       "  </tbody>\n",
       "</table>\n",
       "</div>"
      ],
      "text/plain": [
       "         DATE  PREDICTED_REVENUE\n",
       "0  2025-10-01         505.041309\n",
       "1  2025-10-02         505.041309\n",
       "2  2025-10-03         505.041309\n",
       "3  2025-10-04         530.293374\n",
       "4  2025-10-05         530.293374\n",
       "5  2025-10-06         505.041309\n",
       "6  2025-10-07         505.041309\n",
       "7  2025-10-08         505.041309\n",
       "8  2025-10-09         505.041309\n",
       "9  2025-10-10         505.041309\n",
       "10 2025-10-11         530.293374\n",
       "11 2025-10-12         530.293374\n",
       "12 2025-10-13         479.789243\n",
       "13 2025-10-14         505.041309\n",
       "14 2025-10-15         505.041309\n",
       "15 2025-10-16         505.041309\n",
       "16 2025-10-17         505.041309\n",
       "17 2025-10-18         530.293374\n",
       "18 2025-10-19         530.293374\n",
       "19 2025-10-20         505.041309\n",
       "20 2025-10-21         505.041309\n",
       "21 2025-10-22         505.041309\n",
       "22 2025-10-23         505.041309\n",
       "23 2025-10-24         505.041309\n",
       "24 2025-10-25         530.293374\n",
       "25 2025-10-26         530.293374\n",
       "26 2025-10-27         505.041309\n",
       "27 2025-10-28         505.041309\n",
       "28 2025-10-29         505.041309\n",
       "29 2025-10-30         505.041309\n",
       "30 2025-10-31         505.041309"
      ]
     },
     "execution_count": 40,
     "metadata": {},
     "output_type": "execute_result"
    }
   ],
   "source": [
    "# Adjust for holidays using the apply function\n",
    "df_forecast[\"PREDICTED_REVENUE\"] = df_forecast.apply(adjust_for_holiday_weekend, axis=1)\n",
    "df_forecast[[\"DATE\",\"PREDICTED_REVENUE\"]]"
   ]
  },
  {
   "cell_type": "code",
   "execution_count": 41,
   "id": "c83c63b7-885a-4997-a404-ac99bb00aad0",
   "metadata": {},
   "outputs": [],
   "source": [
    "assert df_forecast.get_backend() == 'Pandas'"
   ]
  },
  {
   "cell_type": "code",
   "execution_count": 42,
   "id": "3337f57a-8b5d-42e5-9909-ebb0daf62c13",
   "metadata": {},
   "outputs": [
    {
     "name": "stdout",
     "output_type": "stream",
     "text": [
      "Altair takes in <class 'modin.pandas.dataframe.DataFrame'> with Pandas as backend, since we implement the dataframe interchange protocol\n"
     ]
    }
   ],
   "source": [
    "print(f\"Altair takes in {type(df_forecast)} with {df_forecast.get_backend()} as backend, since we implement the dataframe interchange protocol\")"
   ]
  },
  {
   "cell_type": "code",
   "execution_count": 43,
   "id": "15a869dc-cf91-4728-918e-f5dfc6713881",
   "metadata": {},
   "outputs": [
    {
     "name": "stderr",
     "output_type": "stream",
     "text": [
      "FutureWarning: Starting with pandas version 3.0 all arguments of to_dict except for the argument 'orient' will be keyword-only.\n"
     ]
    },
    {
     "data": {
      "text/html": [
       "\n",
       "<style>\n",
       "  #altair-viz-ac5509a18cbc4b62bc954b7a614935b6.vega-embed {\n",
       "    width: 100%;\n",
       "    display: flex;\n",
       "  }\n",
       "\n",
       "  #altair-viz-ac5509a18cbc4b62bc954b7a614935b6.vega-embed details,\n",
       "  #altair-viz-ac5509a18cbc4b62bc954b7a614935b6.vega-embed details summary {\n",
       "    position: relative;\n",
       "  }\n",
       "</style>\n",
       "<div id=\"altair-viz-ac5509a18cbc4b62bc954b7a614935b6\"></div>\n",
       "<script type=\"text/javascript\">\n",
       "  var VEGA_DEBUG = (typeof VEGA_DEBUG == \"undefined\") ? {} : VEGA_DEBUG;\n",
       "  (function(spec, embedOpt){\n",
       "    let outputDiv = document.currentScript.previousElementSibling;\n",
       "    if (outputDiv.id !== \"altair-viz-ac5509a18cbc4b62bc954b7a614935b6\") {\n",
       "      outputDiv = document.getElementById(\"altair-viz-ac5509a18cbc4b62bc954b7a614935b6\");\n",
       "    }\n",
       "\n",
       "    const paths = {\n",
       "      \"vega\": \"https://cdn.jsdelivr.net/npm/vega@5?noext\",\n",
       "      \"vega-lib\": \"https://cdn.jsdelivr.net/npm/vega-lib?noext\",\n",
       "      \"vega-lite\": \"https://cdn.jsdelivr.net/npm/vega-lite@5.20.1?noext\",\n",
       "      \"vega-embed\": \"https://cdn.jsdelivr.net/npm/vega-embed@6?noext\",\n",
       "    };\n",
       "\n",
       "    function maybeLoadScript(lib, version) {\n",
       "      var key = `${lib.replace(\"-\", \"\")}_version`;\n",
       "      return (VEGA_DEBUG[key] == version) ?\n",
       "        Promise.resolve(paths[lib]) :\n",
       "        new Promise(function(resolve, reject) {\n",
       "          var s = document.createElement('script');\n",
       "          document.getElementsByTagName(\"head\")[0].appendChild(s);\n",
       "          s.async = true;\n",
       "          s.onload = () => {\n",
       "            VEGA_DEBUG[key] = version;\n",
       "            return resolve(paths[lib]);\n",
       "          };\n",
       "          s.onerror = () => reject(`Error loading script: ${paths[lib]}`);\n",
       "          s.src = paths[lib];\n",
       "        });\n",
       "    }\n",
       "\n",
       "    function showError(err) {\n",
       "      outputDiv.innerHTML = `<div class=\"error\" style=\"color:red;\">${err}</div>`;\n",
       "      throw err;\n",
       "    }\n",
       "\n",
       "    function displayChart(vegaEmbed) {\n",
       "      vegaEmbed(outputDiv, spec, embedOpt)\n",
       "        .catch(err => showError(`Javascript Error: ${err.message}<br>This usually means there's a typo in your chart specification. See the javascript console for the full traceback.`));\n",
       "    }\n",
       "\n",
       "    if(typeof define === \"function\" && define.amd) {\n",
       "      requirejs.config({paths});\n",
       "      let deps = [\"vega-embed\"];\n",
       "      require(deps, displayChart, err => showError(`Error loading script: ${err.message}`));\n",
       "    } else {\n",
       "      maybeLoadScript(\"vega\", \"5\")\n",
       "        .then(() => maybeLoadScript(\"vega-lite\", \"5.20.1\"))\n",
       "        .then(() => maybeLoadScript(\"vega-embed\", \"6\"))\n",
       "        .catch(showError)\n",
       "        .then(() => displayChart(vegaEmbed));\n",
       "    }\n",
       "  })({\"config\": {\"view\": {\"continuousWidth\": 300, \"continuousHeight\": 300}}, \"data\": {\"name\": \"data-a7b374b2e79bc1a488ddce3ef46b82c7\"}, \"mark\": {\"type\": \"line\", \"color\": \"blue\"}, \"encoding\": {\"tooltip\": [{\"field\": \"DATE\", \"type\": \"temporal\"}, {\"field\": \"PREDICTED_REVENUE\", \"type\": \"quantitative\"}], \"x\": {\"field\": \"DATE\", \"timeUnit\": \"monthdate\", \"type\": \"temporal\"}, \"y\": {\"field\": \"PREDICTED_REVENUE\", \"scale\": {\"domain\": [470, 550]}, \"type\": \"quantitative\"}}, \"$schema\": \"https://vega.github.io/schema/vega-lite/v5.20.1.json\", \"datasets\": {\"data-a7b374b2e79bc1a488ddce3ef46b82c7\": [{\"DATE\": \"2025-10-01T00:00:00.000000\", \"REVENUE\": NaN, \"PREDICTED_REVENUE\": 505.04130881461344}, {\"DATE\": \"2025-10-02T00:00:00.000000\", \"REVENUE\": NaN, \"PREDICTED_REVENUE\": 505.04130881461344}, {\"DATE\": \"2025-10-03T00:00:00.000000\", \"REVENUE\": NaN, \"PREDICTED_REVENUE\": 505.04130881461344}, {\"DATE\": \"2025-10-04T00:00:00.000000\", \"REVENUE\": NaN, \"PREDICTED_REVENUE\": 530.2933742553441}, {\"DATE\": \"2025-10-05T00:00:00.000000\", \"REVENUE\": NaN, \"PREDICTED_REVENUE\": 530.2933742553441}, {\"DATE\": \"2025-10-06T00:00:00.000000\", \"REVENUE\": NaN, \"PREDICTED_REVENUE\": 505.04130881461344}, {\"DATE\": \"2025-10-07T00:00:00.000000\", \"REVENUE\": NaN, \"PREDICTED_REVENUE\": 505.04130881461344}, {\"DATE\": \"2025-10-08T00:00:00.000000\", \"REVENUE\": NaN, \"PREDICTED_REVENUE\": 505.04130881461344}, {\"DATE\": \"2025-10-09T00:00:00.000000\", \"REVENUE\": NaN, \"PREDICTED_REVENUE\": 505.04130881461344}, {\"DATE\": \"2025-10-10T00:00:00.000000\", \"REVENUE\": NaN, \"PREDICTED_REVENUE\": 505.04130881461344}, {\"DATE\": \"2025-10-11T00:00:00.000000\", \"REVENUE\": NaN, \"PREDICTED_REVENUE\": 530.2933742553441}, {\"DATE\": \"2025-10-12T00:00:00.000000\", \"REVENUE\": NaN, \"PREDICTED_REVENUE\": 530.2933742553441}, {\"DATE\": \"2025-10-13T00:00:00.000000\", \"REVENUE\": NaN, \"PREDICTED_REVENUE\": 479.78924337388275}, {\"DATE\": \"2025-10-14T00:00:00.000000\", \"REVENUE\": NaN, \"PREDICTED_REVENUE\": 505.04130881461344}, {\"DATE\": \"2025-10-15T00:00:00.000000\", \"REVENUE\": NaN, \"PREDICTED_REVENUE\": 505.04130881461344}, {\"DATE\": \"2025-10-16T00:00:00.000000\", \"REVENUE\": NaN, \"PREDICTED_REVENUE\": 505.04130881461344}, {\"DATE\": \"2025-10-17T00:00:00.000000\", \"REVENUE\": NaN, \"PREDICTED_REVENUE\": 505.04130881461344}, {\"DATE\": \"2025-10-18T00:00:00.000000\", \"REVENUE\": NaN, \"PREDICTED_REVENUE\": 530.2933742553441}, {\"DATE\": \"2025-10-19T00:00:00.000000\", \"REVENUE\": NaN, \"PREDICTED_REVENUE\": 530.2933742553441}, {\"DATE\": \"2025-10-20T00:00:00.000000\", \"REVENUE\": NaN, \"PREDICTED_REVENUE\": 505.04130881461344}, {\"DATE\": \"2025-10-21T00:00:00.000000\", \"REVENUE\": NaN, \"PREDICTED_REVENUE\": 505.04130881461344}, {\"DATE\": \"2025-10-22T00:00:00.000000\", \"REVENUE\": NaN, \"PREDICTED_REVENUE\": 505.04130881461344}, {\"DATE\": \"2025-10-23T00:00:00.000000\", \"REVENUE\": NaN, \"PREDICTED_REVENUE\": 505.04130881461344}, {\"DATE\": \"2025-10-24T00:00:00.000000\", \"REVENUE\": NaN, \"PREDICTED_REVENUE\": 505.04130881461344}, {\"DATE\": \"2025-10-25T00:00:00.000000\", \"REVENUE\": NaN, \"PREDICTED_REVENUE\": 530.2933742553441}, {\"DATE\": \"2025-10-26T00:00:00.000000\", \"REVENUE\": NaN, \"PREDICTED_REVENUE\": 530.2933742553441}, {\"DATE\": \"2025-10-27T00:00:00.000000\", \"REVENUE\": NaN, \"PREDICTED_REVENUE\": 505.04130881461344}, {\"DATE\": \"2025-10-28T00:00:00.000000\", \"REVENUE\": NaN, \"PREDICTED_REVENUE\": 505.04130881461344}, {\"DATE\": \"2025-10-29T00:00:00.000000\", \"REVENUE\": NaN, \"PREDICTED_REVENUE\": 505.04130881461344}, {\"DATE\": \"2025-10-30T00:00:00.000000\", \"REVENUE\": NaN, \"PREDICTED_REVENUE\": 505.04130881461344}, {\"DATE\": \"2025-10-31T00:00:00.000000\", \"REVENUE\": NaN, \"PREDICTED_REVENUE\": 505.04130881461344}]}}, {\"mode\": \"vega-lite\"});\n",
       "</script>"
      ],
      "text/plain": [
       "alt.Chart(...)"
      ]
     },
     "execution_count": 43,
     "metadata": {},
     "output_type": "execute_result"
    }
   ],
   "source": [
    "import altair as alt\n",
    "alt.data_transformers.disable_max_rows()\n",
    "\n",
    "chart_predicted = alt.Chart(df_forecast).mark_line(color='blue').encode(\n",
    "    x='monthdate(DATE):T',\n",
    "    y=alt.Y('PREDICTED_REVENUE:Q',scale=alt.Scale(domain=[470, 550])),\n",
    "    tooltip=['DATE', 'PREDICTED_REVENUE']\n",
    ")\n",
    "chart_predicted"
   ]
  },
  {
   "cell_type": "code",
   "execution_count": 44,
   "id": "57f6d2c8-44ab-4ced-9a34-bc2b56277423",
   "metadata": {},
   "outputs": [
    {
     "data": {
      "application/vnd.jupyter.widget-view+json": {
       "model_id": "65046536b4ca42fdb15cb0838183548c",
       "version_major": 2,
       "version_minor": 0
      },
      "text/plain": [
       "Transferring data from Snowflake to Pandas ...:   0%|          | 0/2 [00:00<?, ?it/s]"
      ]
     },
     "metadata": {},
     "output_type": "display_data"
    }
   ],
   "source": [
    "df_transactions_filtered = df_transactions[\n",
    "    (df_transactions[\"DATE\"] >= start_date - pd.Timedelta(days=365)) &\n",
    "    (df_transactions[\"DATE\"] < end_date - pd.Timedelta(days=365))\n",
    "]\n",
    "df_transactions_filtered_groupby = df_transactions_filtered.groupby(\"DATE\")[\"REVENUE\"].mean().reset_index()"
   ]
  },
  {
   "cell_type": "code",
   "execution_count": 45,
   "id": "07066876-b894-4d80-8cab-cac2efc54fc2",
   "metadata": {},
   "outputs": [
    {
     "name": "stdout",
     "output_type": "stream",
     "text": [
      "Altair takes in <class 'modin.pandas.dataframe.DataFrame'> with Pandas as backend, since we implement the dataframe interchange protocol\n"
     ]
    }
   ],
   "source": [
    "print(f\"Altair takes in {type(df_transactions_filtered_groupby)} with {df_transactions_filtered_groupby.get_backend()} as backend, since we implement the dataframe interchange protocol\")"
   ]
  },
  {
   "cell_type": "code",
   "execution_count": 46,
   "id": "02653381-f6ca-4c87-a654-31df9fbba223",
   "metadata": {},
   "outputs": [
    {
     "name": "stderr",
     "output_type": "stream",
     "text": [
      "FutureWarning: Starting with pandas version 3.0 all arguments of to_dict except for the argument 'orient' will be keyword-only.\n"
     ]
    },
    {
     "data": {
      "text/html": [
       "\n",
       "<style>\n",
       "  #altair-viz-b5f1c3cf604b45afa31a413fb7aae674.vega-embed {\n",
       "    width: 100%;\n",
       "    display: flex;\n",
       "  }\n",
       "\n",
       "  #altair-viz-b5f1c3cf604b45afa31a413fb7aae674.vega-embed details,\n",
       "  #altair-viz-b5f1c3cf604b45afa31a413fb7aae674.vega-embed details summary {\n",
       "    position: relative;\n",
       "  }\n",
       "</style>\n",
       "<div id=\"altair-viz-b5f1c3cf604b45afa31a413fb7aae674\"></div>\n",
       "<script type=\"text/javascript\">\n",
       "  var VEGA_DEBUG = (typeof VEGA_DEBUG == \"undefined\") ? {} : VEGA_DEBUG;\n",
       "  (function(spec, embedOpt){\n",
       "    let outputDiv = document.currentScript.previousElementSibling;\n",
       "    if (outputDiv.id !== \"altair-viz-b5f1c3cf604b45afa31a413fb7aae674\") {\n",
       "      outputDiv = document.getElementById(\"altair-viz-b5f1c3cf604b45afa31a413fb7aae674\");\n",
       "    }\n",
       "\n",
       "    const paths = {\n",
       "      \"vega\": \"https://cdn.jsdelivr.net/npm/vega@5?noext\",\n",
       "      \"vega-lib\": \"https://cdn.jsdelivr.net/npm/vega-lib?noext\",\n",
       "      \"vega-lite\": \"https://cdn.jsdelivr.net/npm/vega-lite@5.20.1?noext\",\n",
       "      \"vega-embed\": \"https://cdn.jsdelivr.net/npm/vega-embed@6?noext\",\n",
       "    };\n",
       "\n",
       "    function maybeLoadScript(lib, version) {\n",
       "      var key = `${lib.replace(\"-\", \"\")}_version`;\n",
       "      return (VEGA_DEBUG[key] == version) ?\n",
       "        Promise.resolve(paths[lib]) :\n",
       "        new Promise(function(resolve, reject) {\n",
       "          var s = document.createElement('script');\n",
       "          document.getElementsByTagName(\"head\")[0].appendChild(s);\n",
       "          s.async = true;\n",
       "          s.onload = () => {\n",
       "            VEGA_DEBUG[key] = version;\n",
       "            return resolve(paths[lib]);\n",
       "          };\n",
       "          s.onerror = () => reject(`Error loading script: ${paths[lib]}`);\n",
       "          s.src = paths[lib];\n",
       "        });\n",
       "    }\n",
       "\n",
       "    function showError(err) {\n",
       "      outputDiv.innerHTML = `<div class=\"error\" style=\"color:red;\">${err}</div>`;\n",
       "      throw err;\n",
       "    }\n",
       "\n",
       "    function displayChart(vegaEmbed) {\n",
       "      vegaEmbed(outputDiv, spec, embedOpt)\n",
       "        .catch(err => showError(`Javascript Error: ${err.message}<br>This usually means there's a typo in your chart specification. See the javascript console for the full traceback.`));\n",
       "    }\n",
       "\n",
       "    if(typeof define === \"function\" && define.amd) {\n",
       "      requirejs.config({paths});\n",
       "      let deps = [\"vega-embed\"];\n",
       "      require(deps, displayChart, err => showError(`Error loading script: ${err.message}`));\n",
       "    } else {\n",
       "      maybeLoadScript(\"vega\", \"5\")\n",
       "        .then(() => maybeLoadScript(\"vega-lite\", \"5.20.1\"))\n",
       "        .then(() => maybeLoadScript(\"vega-embed\", \"6\"))\n",
       "        .catch(showError)\n",
       "        .then(() => displayChart(vegaEmbed));\n",
       "    }\n",
       "  })({\"config\": {\"view\": {\"continuousWidth\": 300, \"continuousHeight\": 300}}, \"data\": {\"name\": \"data-b36f82258293c12146a15360688bc5d1\"}, \"mark\": {\"type\": \"line\"}, \"encoding\": {\"color\": {\"field\": \"Label\", \"legend\": {\"title\": \"Type\"}, \"type\": \"nominal\"}, \"tooltip\": [{\"field\": \"DATE\", \"type\": \"temporal\"}, {\"field\": \"Value\", \"type\": \"quantitative\"}, {\"field\": \"Label\", \"type\": \"nominal\"}], \"x\": {\"field\": \"DATE\", \"timeUnit\": \"monthdate\", \"type\": \"temporal\"}, \"y\": {\"field\": \"Value\", \"scale\": {\"domain\": [470, 550]}, \"type\": \"quantitative\"}}, \"title\": \"Revenue vs Predicted Revenue (by Value)\", \"$schema\": \"https://vega.github.io/schema/vega-lite/v5.20.1.json\", \"datasets\": {\"data-b36f82258293c12146a15360688bc5d1\": [{\"DATE\": \"2025-10-01T00:00:00.000000\", \"Value\": 505.04130881461344, \"Label\": \"Predicted Revenue\"}, {\"DATE\": \"2025-10-02T00:00:00.000000\", \"Value\": 505.04130881461344, \"Label\": \"Predicted Revenue\"}, {\"DATE\": \"2025-10-03T00:00:00.000000\", \"Value\": 505.04130881461344, \"Label\": \"Predicted Revenue\"}, {\"DATE\": \"2025-10-04T00:00:00.000000\", \"Value\": 530.2933742553441, \"Label\": \"Predicted Revenue\"}, {\"DATE\": \"2025-10-05T00:00:00.000000\", \"Value\": 530.2933742553441, \"Label\": \"Predicted Revenue\"}, {\"DATE\": \"2025-10-06T00:00:00.000000\", \"Value\": 505.04130881461344, \"Label\": \"Predicted Revenue\"}, {\"DATE\": \"2025-10-07T00:00:00.000000\", \"Value\": 505.04130881461344, \"Label\": \"Predicted Revenue\"}, {\"DATE\": \"2025-10-08T00:00:00.000000\", \"Value\": 505.04130881461344, \"Label\": \"Predicted Revenue\"}, {\"DATE\": \"2025-10-09T00:00:00.000000\", \"Value\": 505.04130881461344, \"Label\": \"Predicted Revenue\"}, {\"DATE\": \"2025-10-10T00:00:00.000000\", \"Value\": 505.04130881461344, \"Label\": \"Predicted Revenue\"}, {\"DATE\": \"2025-10-11T00:00:00.000000\", \"Value\": 530.2933742553441, \"Label\": \"Predicted Revenue\"}, {\"DATE\": \"2025-10-12T00:00:00.000000\", \"Value\": 530.2933742553441, \"Label\": \"Predicted Revenue\"}, {\"DATE\": \"2025-10-13T00:00:00.000000\", \"Value\": 479.78924337388275, \"Label\": \"Predicted Revenue\"}, {\"DATE\": \"2025-10-14T00:00:00.000000\", \"Value\": 505.04130881461344, \"Label\": \"Predicted Revenue\"}, {\"DATE\": \"2025-10-15T00:00:00.000000\", \"Value\": 505.04130881461344, \"Label\": \"Predicted Revenue\"}, {\"DATE\": \"2025-10-16T00:00:00.000000\", \"Value\": 505.04130881461344, \"Label\": \"Predicted Revenue\"}, {\"DATE\": \"2025-10-17T00:00:00.000000\", \"Value\": 505.04130881461344, \"Label\": \"Predicted Revenue\"}, {\"DATE\": \"2025-10-18T00:00:00.000000\", \"Value\": 530.2933742553441, \"Label\": \"Predicted Revenue\"}, {\"DATE\": \"2025-10-19T00:00:00.000000\", \"Value\": 530.2933742553441, \"Label\": \"Predicted Revenue\"}, {\"DATE\": \"2025-10-20T00:00:00.000000\", \"Value\": 505.04130881461344, \"Label\": \"Predicted Revenue\"}, {\"DATE\": \"2025-10-21T00:00:00.000000\", \"Value\": 505.04130881461344, \"Label\": \"Predicted Revenue\"}, {\"DATE\": \"2025-10-22T00:00:00.000000\", \"Value\": 505.04130881461344, \"Label\": \"Predicted Revenue\"}, {\"DATE\": \"2025-10-23T00:00:00.000000\", \"Value\": 505.04130881461344, \"Label\": \"Predicted Revenue\"}, {\"DATE\": \"2025-10-24T00:00:00.000000\", \"Value\": 505.04130881461344, \"Label\": \"Predicted Revenue\"}, {\"DATE\": \"2025-10-25T00:00:00.000000\", \"Value\": 530.2933742553441, \"Label\": \"Predicted Revenue\"}, {\"DATE\": \"2025-10-26T00:00:00.000000\", \"Value\": 530.2933742553441, \"Label\": \"Predicted Revenue\"}, {\"DATE\": \"2025-10-27T00:00:00.000000\", \"Value\": 505.04130881461344, \"Label\": \"Predicted Revenue\"}, {\"DATE\": \"2025-10-28T00:00:00.000000\", \"Value\": 505.04130881461344, \"Label\": \"Predicted Revenue\"}, {\"DATE\": \"2025-10-29T00:00:00.000000\", \"Value\": 505.04130881461344, \"Label\": \"Predicted Revenue\"}, {\"DATE\": \"2025-10-30T00:00:00.000000\", \"Value\": 505.04130881461344, \"Label\": \"Predicted Revenue\"}, {\"DATE\": \"2025-10-31T00:00:00.000000\", \"Value\": 505.04130881461344, \"Label\": \"Predicted Revenue\"}, {\"DATE\": \"2024-10-01T00:00:00.000000\", \"Value\": 505.00168665667167, \"Label\": \"Revenue\"}, {\"DATE\": \"2024-10-02T00:00:00.000000\", \"Value\": 504.4668417596848, \"Label\": \"Revenue\"}, {\"DATE\": \"2024-10-03T00:00:00.000000\", \"Value\": 505.86088480485034, \"Label\": \"Revenue\"}, {\"DATE\": \"2024-10-04T00:00:00.000000\", \"Value\": 503.7737942808365, \"Label\": \"Revenue\"}, {\"DATE\": \"2024-10-05T00:00:00.000000\", \"Value\": 508.0572980058047, \"Label\": \"Revenue\"}, {\"DATE\": \"2024-10-06T00:00:00.000000\", \"Value\": 505.4971294117647, \"Label\": \"Revenue\"}, {\"DATE\": \"2024-10-07T00:00:00.000000\", \"Value\": 501.8025966773698, \"Label\": \"Revenue\"}, {\"DATE\": \"2024-10-08T00:00:00.000000\", \"Value\": 504.5817192399926, \"Label\": \"Revenue\"}, {\"DATE\": \"2024-10-09T00:00:00.000000\", \"Value\": 506.97700774181516, \"Label\": \"Revenue\"}, {\"DATE\": \"2024-10-10T00:00:00.000000\", \"Value\": 504.8965080259082, \"Label\": \"Revenue\"}, {\"DATE\": \"2024-10-11T00:00:00.000000\", \"Value\": 509.93574997643066, \"Label\": \"Revenue\"}, {\"DATE\": \"2024-10-12T00:00:00.000000\", \"Value\": 507.8203913393661, \"Label\": \"Revenue\"}, {\"DATE\": \"2024-10-13T00:00:00.000000\", \"Value\": 504.7627786904483, \"Label\": \"Revenue\"}, {\"DATE\": \"2024-10-14T00:00:00.000000\", \"Value\": 500.1845571748879, \"Label\": \"Revenue\"}, {\"DATE\": \"2024-10-15T00:00:00.000000\", \"Value\": 507.7159971476111, \"Label\": \"Revenue\"}, {\"DATE\": \"2024-10-16T00:00:00.000000\", \"Value\": 503.7332041038249, \"Label\": \"Revenue\"}, {\"DATE\": \"2024-10-17T00:00:00.000000\", \"Value\": 504.740695887093, \"Label\": \"Revenue\"}, {\"DATE\": \"2024-10-18T00:00:00.000000\", \"Value\": 504.64504689468527, \"Label\": \"Revenue\"}, {\"DATE\": \"2024-10-19T00:00:00.000000\", \"Value\": 503.02183178632316, \"Label\": \"Revenue\"}, {\"DATE\": \"2024-10-20T00:00:00.000000\", \"Value\": 509.2270403332702, \"Label\": \"Revenue\"}, {\"DATE\": \"2024-10-21T00:00:00.000000\", \"Value\": 506.1239030406527, \"Label\": \"Revenue\"}, {\"DATE\": \"2024-10-22T00:00:00.000000\", \"Value\": 503.71474480151227, \"Label\": \"Revenue\"}, {\"DATE\": \"2024-10-23T00:00:00.000000\", \"Value\": 504.3840438199571, \"Label\": \"Revenue\"}, {\"DATE\": \"2024-10-24T00:00:00.000000\", \"Value\": 507.2503751641343, \"Label\": \"Revenue\"}, {\"DATE\": \"2024-10-25T00:00:00.000000\", \"Value\": 505.5168102640944, \"Label\": \"Revenue\"}, {\"DATE\": \"2024-10-26T00:00:00.000000\", \"Value\": 504.02669181796745, \"Label\": \"Revenue\"}, {\"DATE\": \"2024-10-27T00:00:00.000000\", \"Value\": 506.0821081309596, \"Label\": \"Revenue\"}, {\"DATE\": \"2024-10-28T00:00:00.000000\", \"Value\": 504.3088693680929, \"Label\": \"Revenue\"}, {\"DATE\": \"2024-10-29T00:00:00.000000\", \"Value\": 502.32733642647474, \"Label\": \"Revenue\"}, {\"DATE\": \"2024-10-30T00:00:00.000000\", \"Value\": 503.22541761579345, \"Label\": \"Revenue\"}]}}, {\"mode\": \"vega-lite\"});\n",
       "</script>"
      ],
      "text/plain": [
       "alt.Chart(...)"
      ]
     },
     "execution_count": 46,
     "metadata": {},
     "output_type": "execute_result"
    }
   ],
   "source": [
    "df_forecast_labeled = df_forecast.copy()\n",
    "df_forecast_labeled['Label'] = 'Predicted Revenue'\n",
    "df_forecast_labeled = df_forecast_labeled.rename(columns={'PREDICTED_REVENUE': 'Value'})\n",
    "\n",
    "df_last_year_labeled = df_transactions_filtered_groupby.copy()\n",
    "df_last_year_labeled['Label'] = 'Revenue'\n",
    "df_last_year_labeled = df_last_year_labeled.rename(columns={'REVENUE': 'Value'})\n",
    "\n",
    "# Combine\n",
    "combined_df = pd.concat([\n",
    "    df_forecast_labeled[['DATE', 'Value', 'Label']],\n",
    "    df_last_year_labeled[['DATE', 'Value', 'Label']]\n",
    "])\n",
    "\n",
    "# Plot with Value on X and color based on Label\n",
    "final_chart = alt.Chart(combined_df).mark_line().encode(\n",
    "    y=alt.Y('Value:Q',scale=alt.Scale(domain=[470, 550])),\n",
    "    x='monthdate(DATE):T',\n",
    "    color=alt.Color('Label:N', legend=alt.Legend(title='Type')),\n",
    "    tooltip=['DATE', 'Value', 'Label']\n",
    ").properties(\n",
    "    title='Revenue vs Predicted Revenue (by Value)'\n",
    ")\n",
    "\n",
    "final_chart"
   ]
  },
  {
   "cell_type": "markdown",
   "id": "ac8d72d1-f718-4037-bada-df87a51eff74",
   "metadata": {},
   "source": [
    "### 💡 Apply on small dataset is much faster with automatic switching running with pandas locally."
   ]
  },
  {
   "cell_type": "markdown",
   "id": "09ee2cb3",
   "metadata": {},
   "source": []
  }
 ],
 "metadata": {
  "kernelspec": {
   "display_name": "Python 3 (ipykernel)",
   "language": "python",
   "name": "python3"
  },
  "language_info": {
   "codemirror_mode": {
    "name": "ipython",
    "version": 3
   },
   "file_extension": ".py",
   "mimetype": "text/x-python",
   "name": "python",
   "nbconvert_exporter": "python",
   "pygments_lexer": "ipython3",
   "version": "3.9.18"
  }
 },
 "nbformat": 4,
 "nbformat_minor": 5
}
