{
 "cells": [
  {
   "cell_type": "markdown",
   "id": "014b3af4-af71-4b9d-b6f4-c8f990c11d62",
   "metadata": {},
   "source": [
    "# Hybrid Execution Build Verification Test\n",
    "\n",
    "In this demo, we will show how you can develop a robust pandas pipelines at all data scales. You will see how pandas on Snowflake intelligently determines whether to execute queries locally with regular pandas or run directly in Snowflake. This allows you to rapidly iterate with your pandas workflows for testing and development on small datasets, while futureproofing your pipelines when you scale up to production data."
   ]
  },
  {
   "cell_type": "code",
   "execution_count": 1,
   "id": "56f420d4-a934-409c-92b9-29d2427ce6c6",
   "metadata": {},
   "outputs": [
    {
     "name": "stdout",
     "output_type": "stream",
     "text": [
      "Initiating login request with your identity provider. A browser window should have opened for you to complete the login. If you can't see it, check existing browser windows, or your OS settings. Press CTRL+C to abort and try again...\n",
      "Going to open: https://snowbiz.okta.com/app/snowflake/exk8wfsfryJIn4IWZ2p7/sso/saml?SAMLRequest=jZLdctowEIVfxaNeY9kOf9EAGQqlmCbgBChN7oQtExVZcrRyDHn6yiZkkotkeqdZnSN9u2d7V4dMOM9MA1eyj3zXQw6TsUq43PXRejVpdJEDhsqECiVZHx0ZoKtBD2gmcjIszKO8Y08FA%2BPYhySQ%2BqKPCi2JosCBSJoxICYmy%2BHNNQlcj%2BRaGRUrgd5ZvnZQAKaNJTxbEuAW79GYnGBclqVbXrhK73DgeR72LrFVVZJvZ%2F3B9vSJ3sdes9JbhZVHr2zfuTyN4Cus7UkEZLpaRY1osVwhZ3hGHSkJRcb0kulnHrP13fUJACzBcr7YTBfr5Q8XpCpTQfcsVlleGPuaa084ZQkWasdtw%2BG4j%2FI9T27%2FxtFehvRl1L7fxhvZ2cyKP9ub2abrq3nKf03vy8mF4LfJz2aMnN%2FnRIMq0RCgYKGscjS25AWthtdqBJerwCfNNmkFbtvrPCBnbHPkkpraeYatELf8xVV7Q2s4muf4jRuzw75bppDq4yyUzXDzEOQdDKBwFSs6bQqpAfTgf%2Fvv4feu12Wb2%2FmH40gJHh%2BdidIZNZ%2FH47t%2BXeFJI62lhGWUi2GSaAZgYxJClSPNqLE7bXTBEB6cfv241YN%2F&RelayState=ver%3A1-hint%3A2050502271106-ETMsDgAAAZceAyc%2BABRBRVMvQ0JDL1BLQ1M1UGFkZGluZwEAABAAEKfdN4ZxrDhc6qcRLKp55CUAAACQ%2FhvnMONt3352G%2F%2BewE0ru1S%2BrLnK0ms7ZneM9XRhbHJQEMxsKtEo8MwVmzamMNAp0UvknRIsrcwO0E0LyrlfyBPKy%2FZOmaThczlbOMmr3Ow9vSQY3yExDyDY3oiltqqCQ%2Fh3XkaTNBDasNsdbvQYEPULik7RHfYvkivZW7jYDf9%2BDLpbWu06RaxPOunE8nYhABRfxI%2B8YUZ26Yw%2B6q478Xam1p8o0w%3D%3D to authenticate...\n"
     ]
    }
   ],
   "source": [
    "import snowflake.snowpark.modin.plugin\n",
    "import modin.pandas as pd\n",
    "import numpy as np\n",
    "import datetime\n",
    "import pandas as native_pd\n",
    "from time import perf_counter\n",
    "from snowflake.snowpark.session import Session; session = Session.builder.create()"
   ]
  },
  {
   "cell_type": "markdown",
   "id": "22b532c8-afc6-4b79-9dff-047bc9432b4f",
   "metadata": {},
   "source": [
    "## read_csv loads into pandas"
   ]
  },
  {
   "cell_type": "code",
   "execution_count": 2,
   "id": "03634f6c-d9fc-44a4-b77e-51df5fe11d59",
   "metadata": {},
   "outputs": [],
   "source": [
    "fruits = pd.read_csv('data.csv')\n",
    "fruits.get_backend()\n",
    "assert fruits.get_backend() == \"Pandas\""
   ]
  },
  {
   "cell_type": "code",
   "execution_count": 3,
   "id": "8068f8b4-fd0a-43e1-a68d-87f7d1b30d22",
   "metadata": {},
   "outputs": [
    {
     "data": {
      "text/html": [
       "<div>\n",
       "<style scoped>\n",
       "    .dataframe tbody tr th:only-of-type {\n",
       "        vertical-align: middle;\n",
       "    }\n",
       "\n",
       "    .dataframe tbody tr th {\n",
       "        vertical-align: top;\n",
       "    }\n",
       "\n",
       "    .dataframe thead th {\n",
       "        text-align: right;\n",
       "    }\n",
       "</style>\n",
       "<table border=\"1\" class=\"dataframe\">\n",
       "  <thead>\n",
       "    <tr style=\"text-align: right;\">\n",
       "      <th></th>\n",
       "      <th>fruit</th>\n",
       "      <th>score</th>\n",
       "    </tr>\n",
       "  </thead>\n",
       "  <tbody>\n",
       "    <tr>\n",
       "      <th>0</th>\n",
       "      <td>apple</td>\n",
       "      <td>1</td>\n",
       "    </tr>\n",
       "    <tr>\n",
       "      <th>1</th>\n",
       "      <td>orange</td>\n",
       "      <td>2</td>\n",
       "    </tr>\n",
       "    <tr>\n",
       "      <th>2</th>\n",
       "      <td>melon</td>\n",
       "      <td>3</td>\n",
       "    </tr>\n",
       "    <tr>\n",
       "      <th>3</th>\n",
       "      <td>grape</td>\n",
       "      <td>4</td>\n",
       "    </tr>\n",
       "    <tr>\n",
       "      <th>4</th>\n",
       "      <td>raisin</td>\n",
       "      <td>-1</td>\n",
       "    </tr>\n",
       "  </tbody>\n",
       "</table>\n",
       "</div>"
      ],
      "text/plain": [
       "    fruit   score\n",
       "0   apple       1\n",
       "1  orange       2\n",
       "2   melon       3\n",
       "3   grape       4\n",
       "4  raisin      -1"
      ]
     },
     "execution_count": 3,
     "metadata": {},
     "output_type": "execute_result"
    }
   ],
   "source": [
    "fruits"
   ]
  },
  {
   "cell_type": "code",
   "execution_count": 4,
   "id": "6932f458-b4da-4873-8b52-3c85476a921d",
   "metadata": {},
   "outputs": [],
   "source": [
    "df = pd.read_csv(\"s3://sfquickstarts/intro-to-machine-learning-with-snowpark-ml-for-python/diamonds.csv\")\n",
    "assert df.get_backend() == \"Pandas\""
   ]
  },
  {
   "cell_type": "markdown",
   "id": "662115d3-ad0a-4fea-88ba-321a03ffdf3c",
   "metadata": {},
   "source": [
    "## inline data is in pandas"
   ]
  },
  {
   "cell_type": "code",
   "execution_count": 5,
   "id": "1ad6a86c-ba58-443e-b48f-80a717eb8204",
   "metadata": {},
   "outputs": [],
   "source": [
    "us_holidays = [\n",
    "    (\"New Year's Day\", \"2025-01-01\"),\n",
    "    (\"Martin Luther King Jr. Day\", \"2025-01-20\"),\n",
    "    (\"Presidents' Day\", \"2025-02-17\"),\n",
    "    (\"Memorial Day\", \"2025-05-26\"),\n",
    "    (\"Juneteenth National Independence Day\", \"2025-06-19\"),\n",
    "    (\"Independence Day\", \"2025-07-04\"),\n",
    "    (\"Labor Day\", \"2025-09-01\"),\n",
    "    (\"Columbus Day\", \"2025-10-13\"),\n",
    "    (\"Veterans Day\", \"2025-11-11\"),\n",
    "    (\"Thanksgiving Day\", \"2025-11-27\"),\n",
    "    (\"Christmas Day\", \"2025-12-25\")\n",
    "]\n",
    "\n",
    "# Create DataFrame\n",
    "df_us_holidays = pd.DataFrame(us_holidays, columns=[\"Holiday\", \"Date\"])\n",
    "\n",
    "# Convert Date column to datetime\n",
    "df_us_holidays[\"Date\"] = pd.to_datetime(df_us_holidays[\"Date\"])"
   ]
  },
  {
   "cell_type": "code",
   "execution_count": 6,
   "id": "de09f690-e4e6-4aa3-bef5-bc96a389c3fd",
   "metadata": {},
   "outputs": [],
   "source": [
    "assert df_us_holidays.get_backend() == 'Pandas'  # with auto, we should expect this to be local"
   ]
  },
  {
   "cell_type": "code",
   "execution_count": 7,
   "id": "f05b150e-086f-4337-bd50-25db48bbeffb",
   "metadata": {},
   "outputs": [],
   "source": [
    "# Add new columns for transformations\n",
    "df_us_holidays[\"Day_of_Week\"] = df_us_holidays[\"Date\"].dt.day_name()\n",
    "df_us_holidays[\"Month\"] = df_us_holidays[\"Date\"].dt.month_name()"
   ]
  },
  {
   "cell_type": "code",
   "execution_count": 8,
   "id": "b4d304c3-54bc-4ab0-b792-df0e67566819",
   "metadata": {},
   "outputs": [
    {
     "data": {
      "text/html": [
       "<div>\n",
       "<style scoped>\n",
       "    .dataframe tbody tr th:only-of-type {\n",
       "        vertical-align: middle;\n",
       "    }\n",
       "\n",
       "    .dataframe tbody tr th {\n",
       "        vertical-align: top;\n",
       "    }\n",
       "\n",
       "    .dataframe thead th {\n",
       "        text-align: right;\n",
       "    }\n",
       "</style>\n",
       "<table border=\"1\" class=\"dataframe\">\n",
       "  <thead>\n",
       "    <tr style=\"text-align: right;\">\n",
       "      <th></th>\n",
       "      <th>Holiday</th>\n",
       "      <th>Date</th>\n",
       "      <th>Day_of_Week</th>\n",
       "      <th>Month</th>\n",
       "    </tr>\n",
       "  </thead>\n",
       "  <tbody>\n",
       "    <tr>\n",
       "      <th>0</th>\n",
       "      <td>New Year's Day</td>\n",
       "      <td>2025-01-01</td>\n",
       "      <td>Wednesday</td>\n",
       "      <td>January</td>\n",
       "    </tr>\n",
       "    <tr>\n",
       "      <th>1</th>\n",
       "      <td>Martin Luther King Jr. Day</td>\n",
       "      <td>2025-01-20</td>\n",
       "      <td>Monday</td>\n",
       "      <td>January</td>\n",
       "    </tr>\n",
       "    <tr>\n",
       "      <th>2</th>\n",
       "      <td>Presidents' Day</td>\n",
       "      <td>2025-02-17</td>\n",
       "      <td>Monday</td>\n",
       "      <td>February</td>\n",
       "    </tr>\n",
       "    <tr>\n",
       "      <th>3</th>\n",
       "      <td>Memorial Day</td>\n",
       "      <td>2025-05-26</td>\n",
       "      <td>Monday</td>\n",
       "      <td>May</td>\n",
       "    </tr>\n",
       "    <tr>\n",
       "      <th>4</th>\n",
       "      <td>Juneteenth National Independence Day</td>\n",
       "      <td>2025-06-19</td>\n",
       "      <td>Thursday</td>\n",
       "      <td>June</td>\n",
       "    </tr>\n",
       "    <tr>\n",
       "      <th>5</th>\n",
       "      <td>Independence Day</td>\n",
       "      <td>2025-07-04</td>\n",
       "      <td>Friday</td>\n",
       "      <td>July</td>\n",
       "    </tr>\n",
       "    <tr>\n",
       "      <th>6</th>\n",
       "      <td>Labor Day</td>\n",
       "      <td>2025-09-01</td>\n",
       "      <td>Monday</td>\n",
       "      <td>September</td>\n",
       "    </tr>\n",
       "    <tr>\n",
       "      <th>7</th>\n",
       "      <td>Columbus Day</td>\n",
       "      <td>2025-10-13</td>\n",
       "      <td>Monday</td>\n",
       "      <td>October</td>\n",
       "    </tr>\n",
       "    <tr>\n",
       "      <th>8</th>\n",
       "      <td>Veterans Day</td>\n",
       "      <td>2025-11-11</td>\n",
       "      <td>Tuesday</td>\n",
       "      <td>November</td>\n",
       "    </tr>\n",
       "    <tr>\n",
       "      <th>9</th>\n",
       "      <td>Thanksgiving Day</td>\n",
       "      <td>2025-11-27</td>\n",
       "      <td>Thursday</td>\n",
       "      <td>November</td>\n",
       "    </tr>\n",
       "    <tr>\n",
       "      <th>10</th>\n",
       "      <td>Christmas Day</td>\n",
       "      <td>2025-12-25</td>\n",
       "      <td>Thursday</td>\n",
       "      <td>December</td>\n",
       "    </tr>\n",
       "  </tbody>\n",
       "</table>\n",
       "</div>"
      ],
      "text/plain": [
       "                                 Holiday       Date Day_of_Week      Month\n",
       "0                         New Year's Day 2025-01-01   Wednesday    January\n",
       "1             Martin Luther King Jr. Day 2025-01-20      Monday    January\n",
       "2                        Presidents' Day 2025-02-17      Monday   February\n",
       "3                           Memorial Day 2025-05-26      Monday        May\n",
       "4   Juneteenth National Independence Day 2025-06-19    Thursday       June\n",
       "5                       Independence Day 2025-07-04      Friday       July\n",
       "6                              Labor Day 2025-09-01      Monday  September\n",
       "7                           Columbus Day 2025-10-13      Monday    October\n",
       "8                           Veterans Day 2025-11-11     Tuesday   November\n",
       "9                       Thanksgiving Day 2025-11-27    Thursday   November\n",
       "10                         Christmas Day 2025-12-25    Thursday   December"
      ]
     },
     "execution_count": 8,
     "metadata": {},
     "output_type": "execute_result"
    }
   ],
   "source": [
    "df_us_holidays"
   ]
  },
  {
   "cell_type": "code",
   "execution_count": 9,
   "id": "29c2e23e-d119-4300-9af2-e2f82d4bddc3",
   "metadata": {},
   "outputs": [
    {
     "data": {
      "text/html": [
       "<div>\n",
       "<style scoped>\n",
       "    .dataframe tbody tr th:only-of-type {\n",
       "        vertical-align: middle;\n",
       "    }\n",
       "\n",
       "    .dataframe tbody tr th {\n",
       "        vertical-align: top;\n",
       "    }\n",
       "\n",
       "    .dataframe thead th {\n",
       "        text-align: right;\n",
       "    }\n",
       "</style>\n",
       "<table border=\"1\" class=\"dataframe\">\n",
       "  <thead>\n",
       "    <tr style=\"text-align: right;\">\n",
       "      <th></th>\n",
       "      <th></th>\n",
       "      <th></th>\n",
       "      <th></th>\n",
       "      <th>candidate</th>\n",
       "      <th>mode</th>\n",
       "      <th>metric</th>\n",
       "      <th>value</th>\n",
       "    </tr>\n",
       "    <tr>\n",
       "      <th>source</th>\n",
       "      <th>decision</th>\n",
       "      <th>api</th>\n",
       "      <th>index</th>\n",
       "      <th></th>\n",
       "      <th></th>\n",
       "      <th></th>\n",
       "      <th></th>\n",
       "    </tr>\n",
       "  </thead>\n",
       "  <tbody>\n",
       "    <tr>\n",
       "      <th rowspan=\"3\" valign=\"top\">fruits = pd.read_csv('data.csv')</th>\n",
       "      <th rowspan=\"3\" valign=\"top\">Pandas</th>\n",
       "      <th rowspan=\"3\" valign=\"top\">None.read_csv</th>\n",
       "      <th>4</th>\n",
       "      <td>Pandas</td>\n",
       "      <td>auto</td>\n",
       "      <td>move_to_cost</td>\n",
       "      <td>0.0</td>\n",
       "    </tr>\n",
       "    <tr>\n",
       "      <th>5</th>\n",
       "      <td>Pandas</td>\n",
       "      <td>auto</td>\n",
       "      <td>other_execute_cost</td>\n",
       "      <td>0.0</td>\n",
       "    </tr>\n",
       "    <tr>\n",
       "      <th>6</th>\n",
       "      <td>Pandas</td>\n",
       "      <td>auto</td>\n",
       "      <td>delta</td>\n",
       "      <td>-750.0</td>\n",
       "    </tr>\n",
       "    <tr>\n",
       "      <th rowspan=\"3\" valign=\"top\">df = pd.read_csv(\"s3://sfquickstarts/intro-to-machine-learning-with-snowpark-ml-for-python/diamonds.csv\")</th>\n",
       "      <th rowspan=\"3\" valign=\"top\">Pandas</th>\n",
       "      <th rowspan=\"3\" valign=\"top\">None.read_csv</th>\n",
       "      <th>12</th>\n",
       "      <td>Pandas</td>\n",
       "      <td>auto</td>\n",
       "      <td>move_to_cost</td>\n",
       "      <td>0.0</td>\n",
       "    </tr>\n",
       "    <tr>\n",
       "      <th>13</th>\n",
       "      <td>Pandas</td>\n",
       "      <td>auto</td>\n",
       "      <td>other_execute_cost</td>\n",
       "      <td>0.0</td>\n",
       "    </tr>\n",
       "    <tr>\n",
       "      <th>14</th>\n",
       "      <td>Pandas</td>\n",
       "      <td>auto</td>\n",
       "      <td>delta</td>\n",
       "      <td>-750.0</td>\n",
       "    </tr>\n",
       "    <tr>\n",
       "      <th rowspan=\"3\" valign=\"top\">df_us_holidays = pd.DataFrame(us_holidays, columns=[\"Holiday\", \"Date\"])</th>\n",
       "      <th rowspan=\"3\" valign=\"top\">Pandas</th>\n",
       "      <th rowspan=\"3\" valign=\"top\">DataFrame.__init__</th>\n",
       "      <th>20</th>\n",
       "      <td>Pandas</td>\n",
       "      <td>auto</td>\n",
       "      <td>move_to_cost</td>\n",
       "      <td>0.0</td>\n",
       "    </tr>\n",
       "    <tr>\n",
       "      <th>21</th>\n",
       "      <td>Pandas</td>\n",
       "      <td>auto</td>\n",
       "      <td>other_execute_cost</td>\n",
       "      <td>0.0</td>\n",
       "    </tr>\n",
       "    <tr>\n",
       "      <th>22</th>\n",
       "      <td>Pandas</td>\n",
       "      <td>auto</td>\n",
       "      <td>delta</td>\n",
       "      <td>-100.0</td>\n",
       "    </tr>\n",
       "  </tbody>\n",
       "</table>\n",
       "</div>"
      ],
      "text/plain": [
       "                                                                                     candidate  \\\n",
       "source                                             decision api                index             \n",
       "fruits = pd.read_csv('data.csv')                   Pandas   None.read_csv      4        Pandas   \n",
       "                                                                               5        Pandas   \n",
       "                                                                               6        Pandas   \n",
       "df = pd.read_csv(\"s3://sfquickstarts/intro-to-m... Pandas   None.read_csv      12       Pandas   \n",
       "                                                                               13       Pandas   \n",
       "                                                                               14       Pandas   \n",
       "df_us_holidays = pd.DataFrame(us_holidays, colu... Pandas   DataFrame.__init__ 20       Pandas   \n",
       "                                                                               21       Pandas   \n",
       "                                                                               22       Pandas   \n",
       "\n",
       "                                                                                      mode  \\\n",
       "source                                             decision api                index         \n",
       "fruits = pd.read_csv('data.csv')                   Pandas   None.read_csv      4      auto   \n",
       "                                                                               5      auto   \n",
       "                                                                               6      auto   \n",
       "df = pd.read_csv(\"s3://sfquickstarts/intro-to-m... Pandas   None.read_csv      12     auto   \n",
       "                                                                               13     auto   \n",
       "                                                                               14     auto   \n",
       "df_us_holidays = pd.DataFrame(us_holidays, colu... Pandas   DataFrame.__init__ 20     auto   \n",
       "                                                                               21     auto   \n",
       "                                                                               22     auto   \n",
       "\n",
       "                                                                                                  metric  \\\n",
       "source                                             decision api                index                       \n",
       "fruits = pd.read_csv('data.csv')                   Pandas   None.read_csv      4            move_to_cost   \n",
       "                                                                               5      other_execute_cost   \n",
       "                                                                               6                   delta   \n",
       "df = pd.read_csv(\"s3://sfquickstarts/intro-to-m... Pandas   None.read_csv      12           move_to_cost   \n",
       "                                                                               13     other_execute_cost   \n",
       "                                                                               14                  delta   \n",
       "df_us_holidays = pd.DataFrame(us_holidays, colu... Pandas   DataFrame.__init__ 20           move_to_cost   \n",
       "                                                                               21     other_execute_cost   \n",
       "                                                                               22                  delta   \n",
       "\n",
       "                                                                                      value  \n",
       "source                                             decision api                index         \n",
       "fruits = pd.read_csv('data.csv')                   Pandas   None.read_csv      4        0.0  \n",
       "                                                                               5        0.0  \n",
       "                                                                               6     -750.0  \n",
       "df = pd.read_csv(\"s3://sfquickstarts/intro-to-m... Pandas   None.read_csv      12       0.0  \n",
       "                                                                               13       0.0  \n",
       "                                                                               14    -750.0  \n",
       "df_us_holidays = pd.DataFrame(us_holidays, colu... Pandas   DataFrame.__init__ 20       0.0  \n",
       "                                                                               21       0.0  \n",
       "                                                                               22    -100.0  "
      ]
     },
     "execution_count": 9,
     "metadata": {},
     "output_type": "execute_result"
    }
   ],
   "source": [
    "pd.explain()"
   ]
  },
  {
   "cell_type": "code",
   "execution_count": 10,
   "id": "558479c6-11d3-42f0-990a-7914967ab66f",
   "metadata": {},
   "outputs": [
    {
     "name": "stdout",
     "output_type": "stream",
     "text": [
      "New Year's Day falls on Wednesday, January 1, 2025.\n",
      "Martin Luther King Jr. Day falls on Monday, January 20, 2025.\n",
      "Presidents' Day falls on Monday, February 17, 2025.\n",
      "Memorial Day falls on Monday, May 26, 2025.\n",
      "Juneteenth National Independence Day falls on Thursday, June 19, 2025.\n",
      "Independence Day falls on Friday, July 4, 2025.\n",
      "Labor Day falls on Monday, September 1, 2025.\n",
      "Columbus Day falls on Monday, October 13, 2025.\n",
      "Veterans Day falls on Tuesday, November 11, 2025.\n",
      "Thanksgiving Day falls on Thursday, November 27, 2025.\n",
      "Christmas Day falls on Thursday, December 25, 2025.\n",
      "CPU times: user 142 ms, sys: 4.91 ms, total: 147 ms\n",
      "Wall time: 145 ms\n"
     ]
    }
   ],
   "source": [
    "%%time\n",
    "#Note that without auto-switching, this took 2.5 min\n",
    "for index, row in df_us_holidays.iterrows():\n",
    "    print(f\"{row['Holiday']} falls on {row['Day_of_Week']}, {row['Month']} {row['Date'].day}, {row['Date'].year}.\")"
   ]
  },
  {
   "cell_type": "markdown",
   "id": "15aae1a0-98b3-4c3d-a5f4-4c8d183161a0",
   "metadata": {},
   "source": [
    "### 💡 Automatic switching speeds up loops/iterations on small data + inline creation of dataframes"
   ]
  },
  {
   "cell_type": "markdown",
   "id": "db88d966-cd81-400f-b0c5-ceac5731aeba",
   "metadata": {},
   "source": [
    "## Example 2: When data is filtered the choice of engine changes"
   ]
  },
  {
   "cell_type": "markdown",
   "id": "24c6d9f6-6168-4f66-8441-5b3ea467e313",
   "metadata": {},
   "source": [
    "Run the following SQL to generate a synthetic dataset with 10M rows of transactions (from 2024-2025 current date)\n",
    "```sql\n",
    "CREATE OR REPLACE TABLE revenue_transactions (\n",
    "    Transaction_ID STRING,\n",
    "    Date DATE,\n",
    "    Revenue FLOAT\n",
    ");\n",
    "\n",
    "SET num_days = (SELECT DATEDIFF(DAY, '2024-01-01', CURRENT_DATE));\n",
    "INSERT INTO revenue_transactions (Transaction_ID, Date, Revenue)\n",
    "SELECT\n",
    "    UUID_STRING() AS Transaction_ID,\n",
    "    DATEADD(DAY, UNIFORM(0, $num_days, RANDOM()), '2024-01-01') AS Date,\n",
    "    UNIFORM(10, 1000, RANDOM()) AS Revenue\n",
    "FROM TABLE(GENERATOR(ROWCOUNT => 10000000));\n",
    "```"
   ]
  },
  {
   "cell_type": "code",
   "execution_count": 11,
   "id": "da82055d-74ed-4ec6-b6cc-886753d10cba",
   "metadata": {},
   "outputs": [
    {
     "data": {
      "text/plain": [
       "[Row(number of rows inserted=10000000)]"
      ]
     },
     "execution_count": 11,
     "metadata": {},
     "output_type": "execute_result"
    }
   ],
   "source": [
    "# Run the following to generate a synthetic dataset with 10M rows of transactions (from 2024-2025 current date)\n",
    "session.sql('''\n",
    "CREATE OR REPLACE TABLE revenue_transactions (\n",
    "    Transaction_ID STRING,\n",
    "    Date DATE,\n",
    "    Revenue FLOAT\n",
    ");''').collect()\n",
    "session.sql('''SET num_days = (SELECT DATEDIFF(DAY, '2024-01-01', CURRENT_DATE));''').collect()\n",
    "session.sql('''INSERT INTO revenue_transactions (Transaction_ID, Date, Revenue)\n",
    "SELECT\n",
    "    UUID_STRING() AS Transaction_ID,\n",
    "    DATEADD(DAY, UNIFORM(0, $num_days, RANDOM()), '2024-01-01') AS Date,\n",
    "    UNIFORM(10, 1000, RANDOM()) AS Revenue\n",
    "FROM TABLE(GENERATOR(ROWCOUNT => 10000000));\n",
    "''').collect()"
   ]
  },
  {
   "cell_type": "code",
   "execution_count": 12,
   "id": "af2a3cd9-7d32-4242-a358-8dd5aee926dd",
   "metadata": {},
   "outputs": [],
   "source": [
    "df_transactions = pd.read_snowflake(\"REVENUE_TRANSACTIONS\")"
   ]
  },
  {
   "cell_type": "code",
   "execution_count": 13,
   "id": "0227e992-54cb-4c72-8fc1-69b69f1c9570",
   "metadata": {},
   "outputs": [
    {
     "name": "stdout",
     "output_type": "stream",
     "text": [
      "The dataset size is 10000000 and the data is located in Snowflake.\n"
     ]
    }
   ],
   "source": [
    "print(f\"The dataset size is {len(df_transactions)} and the data is located in {df_transactions.get_backend()}.\")"
   ]
  },
  {
   "cell_type": "code",
   "execution_count": 14,
   "id": "fa13a851-b9a3-49a7-91c2-7795def50e97",
   "metadata": {},
   "outputs": [
    {
     "data": {
      "text/html": [
       "<div>\n",
       "<style scoped>\n",
       "    .dataframe tbody tr th:only-of-type {\n",
       "        vertical-align: middle;\n",
       "    }\n",
       "\n",
       "    .dataframe tbody tr th {\n",
       "        vertical-align: top;\n",
       "    }\n",
       "\n",
       "    .dataframe thead th {\n",
       "        text-align: right;\n",
       "    }\n",
       "</style>\n",
       "<table border=\"1\" class=\"dataframe\">\n",
       "  <thead>\n",
       "    <tr style=\"text-align: right;\">\n",
       "      <th></th>\n",
       "      <th></th>\n",
       "      <th></th>\n",
       "      <th></th>\n",
       "      <th>candidate</th>\n",
       "      <th>mode</th>\n",
       "      <th>metric</th>\n",
       "      <th>value</th>\n",
       "    </tr>\n",
       "    <tr>\n",
       "      <th>source</th>\n",
       "      <th>decision</th>\n",
       "      <th>api</th>\n",
       "      <th>index</th>\n",
       "      <th></th>\n",
       "      <th></th>\n",
       "      <th></th>\n",
       "      <th></th>\n",
       "    </tr>\n",
       "  </thead>\n",
       "  <tbody>\n",
       "    <tr>\n",
       "      <th rowspan=\"3\" valign=\"top\">fruits = pd.read_csv('data.csv')</th>\n",
       "      <th rowspan=\"3\" valign=\"top\">Pandas</th>\n",
       "      <th rowspan=\"3\" valign=\"top\">None.read_csv</th>\n",
       "      <th>4</th>\n",
       "      <td>Pandas</td>\n",
       "      <td>auto</td>\n",
       "      <td>move_to_cost</td>\n",
       "      <td>0.0</td>\n",
       "    </tr>\n",
       "    <tr>\n",
       "      <th>5</th>\n",
       "      <td>Pandas</td>\n",
       "      <td>auto</td>\n",
       "      <td>other_execute_cost</td>\n",
       "      <td>0.0</td>\n",
       "    </tr>\n",
       "    <tr>\n",
       "      <th>6</th>\n",
       "      <td>Pandas</td>\n",
       "      <td>auto</td>\n",
       "      <td>delta</td>\n",
       "      <td>-750.0</td>\n",
       "    </tr>\n",
       "    <tr>\n",
       "      <th rowspan=\"3\" valign=\"top\">df = pd.read_csv(\"s3://sfquickstarts/intro-to-machine-learning-with-snowpark-ml-for-python/diamonds.csv\")</th>\n",
       "      <th rowspan=\"3\" valign=\"top\">Pandas</th>\n",
       "      <th rowspan=\"3\" valign=\"top\">None.read_csv</th>\n",
       "      <th>12</th>\n",
       "      <td>Pandas</td>\n",
       "      <td>auto</td>\n",
       "      <td>move_to_cost</td>\n",
       "      <td>0.0</td>\n",
       "    </tr>\n",
       "    <tr>\n",
       "      <th>13</th>\n",
       "      <td>Pandas</td>\n",
       "      <td>auto</td>\n",
       "      <td>other_execute_cost</td>\n",
       "      <td>0.0</td>\n",
       "    </tr>\n",
       "    <tr>\n",
       "      <th>14</th>\n",
       "      <td>Pandas</td>\n",
       "      <td>auto</td>\n",
       "      <td>delta</td>\n",
       "      <td>-750.0</td>\n",
       "    </tr>\n",
       "    <tr>\n",
       "      <th rowspan=\"3\" valign=\"top\">df_us_holidays = pd.DataFrame(us_holidays, columns=[\"Holiday\", \"Date\"])</th>\n",
       "      <th rowspan=\"3\" valign=\"top\">Pandas</th>\n",
       "      <th rowspan=\"3\" valign=\"top\">DataFrame.__init__</th>\n",
       "      <th>20</th>\n",
       "      <td>Pandas</td>\n",
       "      <td>auto</td>\n",
       "      <td>move_to_cost</td>\n",
       "      <td>0.0</td>\n",
       "    </tr>\n",
       "    <tr>\n",
       "      <th>21</th>\n",
       "      <td>Pandas</td>\n",
       "      <td>auto</td>\n",
       "      <td>other_execute_cost</td>\n",
       "      <td>0.0</td>\n",
       "    </tr>\n",
       "    <tr>\n",
       "      <th>22</th>\n",
       "      <td>Pandas</td>\n",
       "      <td>auto</td>\n",
       "      <td>delta</td>\n",
       "      <td>-100.0</td>\n",
       "    </tr>\n",
       "    <tr>\n",
       "      <th rowspan=\"6\" valign=\"top\">df_transactions = pd.read_snowflake(\"REVENUE_TRANSACTIONS\")</th>\n",
       "      <th rowspan=\"3\" valign=\"top\">Pandas</th>\n",
       "      <th rowspan=\"3\" valign=\"top\">DataFrame.__init__</th>\n",
       "      <th>28</th>\n",
       "      <td>Pandas</td>\n",
       "      <td>auto</td>\n",
       "      <td>move_to_cost</td>\n",
       "      <td>0.0</td>\n",
       "    </tr>\n",
       "    <tr>\n",
       "      <th>29</th>\n",
       "      <td>Pandas</td>\n",
       "      <td>auto</td>\n",
       "      <td>other_execute_cost</td>\n",
       "      <td>0.0</td>\n",
       "    </tr>\n",
       "    <tr>\n",
       "      <th>30</th>\n",
       "      <td>Pandas</td>\n",
       "      <td>auto</td>\n",
       "      <td>delta</td>\n",
       "      <td>-1000.0</td>\n",
       "    </tr>\n",
       "    <tr>\n",
       "      <th rowspan=\"3\" valign=\"top\">Snowflake</th>\n",
       "      <th rowspan=\"3\" valign=\"top\">None.read_snowflake</th>\n",
       "      <th>36</th>\n",
       "      <td>Pandas</td>\n",
       "      <td>auto</td>\n",
       "      <td>move_to_cost</td>\n",
       "      <td>1000.0</td>\n",
       "    </tr>\n",
       "    <tr>\n",
       "      <th>37</th>\n",
       "      <td>Pandas</td>\n",
       "      <td>auto</td>\n",
       "      <td>other_execute_cost</td>\n",
       "      <td>0.0</td>\n",
       "    </tr>\n",
       "    <tr>\n",
       "      <th>38</th>\n",
       "      <td>Pandas</td>\n",
       "      <td>auto</td>\n",
       "      <td>delta</td>\n",
       "      <td>900.0</td>\n",
       "    </tr>\n",
       "  </tbody>\n",
       "</table>\n",
       "</div>"
      ],
      "text/plain": [
       "                                                                                       candidate  \\\n",
       "source                                             decision  api                 index             \n",
       "fruits = pd.read_csv('data.csv')                   Pandas    None.read_csv       4        Pandas   \n",
       "                                                                                 5        Pandas   \n",
       "                                                                                 6        Pandas   \n",
       "df = pd.read_csv(\"s3://sfquickstarts/intro-to-m... Pandas    None.read_csv       12       Pandas   \n",
       "                                                                                 13       Pandas   \n",
       "                                                                                 14       Pandas   \n",
       "df_us_holidays = pd.DataFrame(us_holidays, colu... Pandas    DataFrame.__init__  20       Pandas   \n",
       "                                                                                 21       Pandas   \n",
       "                                                                                 22       Pandas   \n",
       "df_transactions = pd.read_snowflake(\"REVENUE_TR... Pandas    DataFrame.__init__  28       Pandas   \n",
       "                                                                                 29       Pandas   \n",
       "                                                                                 30       Pandas   \n",
       "                                                   Snowflake None.read_snowflake 36       Pandas   \n",
       "                                                                                 37       Pandas   \n",
       "                                                                                 38       Pandas   \n",
       "\n",
       "                                                                                        mode  \\\n",
       "source                                             decision  api                 index         \n",
       "fruits = pd.read_csv('data.csv')                   Pandas    None.read_csv       4      auto   \n",
       "                                                                                 5      auto   \n",
       "                                                                                 6      auto   \n",
       "df = pd.read_csv(\"s3://sfquickstarts/intro-to-m... Pandas    None.read_csv       12     auto   \n",
       "                                                                                 13     auto   \n",
       "                                                                                 14     auto   \n",
       "df_us_holidays = pd.DataFrame(us_holidays, colu... Pandas    DataFrame.__init__  20     auto   \n",
       "                                                                                 21     auto   \n",
       "                                                                                 22     auto   \n",
       "df_transactions = pd.read_snowflake(\"REVENUE_TR... Pandas    DataFrame.__init__  28     auto   \n",
       "                                                                                 29     auto   \n",
       "                                                                                 30     auto   \n",
       "                                                   Snowflake None.read_snowflake 36     auto   \n",
       "                                                                                 37     auto   \n",
       "                                                                                 38     auto   \n",
       "\n",
       "                                                                                                    metric  \\\n",
       "source                                             decision  api                 index                       \n",
       "fruits = pd.read_csv('data.csv')                   Pandas    None.read_csv       4            move_to_cost   \n",
       "                                                                                 5      other_execute_cost   \n",
       "                                                                                 6                   delta   \n",
       "df = pd.read_csv(\"s3://sfquickstarts/intro-to-m... Pandas    None.read_csv       12           move_to_cost   \n",
       "                                                                                 13     other_execute_cost   \n",
       "                                                                                 14                  delta   \n",
       "df_us_holidays = pd.DataFrame(us_holidays, colu... Pandas    DataFrame.__init__  20           move_to_cost   \n",
       "                                                                                 21     other_execute_cost   \n",
       "                                                                                 22                  delta   \n",
       "df_transactions = pd.read_snowflake(\"REVENUE_TR... Pandas    DataFrame.__init__  28           move_to_cost   \n",
       "                                                                                 29     other_execute_cost   \n",
       "                                                                                 30                  delta   \n",
       "                                                   Snowflake None.read_snowflake 36           move_to_cost   \n",
       "                                                                                 37     other_execute_cost   \n",
       "                                                                                 38                  delta   \n",
       "\n",
       "                                                                                         value  \n",
       "source                                             decision  api                 index          \n",
       "fruits = pd.read_csv('data.csv')                   Pandas    None.read_csv       4         0.0  \n",
       "                                                                                 5         0.0  \n",
       "                                                                                 6      -750.0  \n",
       "df = pd.read_csv(\"s3://sfquickstarts/intro-to-m... Pandas    None.read_csv       12        0.0  \n",
       "                                                                                 13        0.0  \n",
       "                                                                                 14     -750.0  \n",
       "df_us_holidays = pd.DataFrame(us_holidays, colu... Pandas    DataFrame.__init__  20        0.0  \n",
       "                                                                                 21        0.0  \n",
       "                                                                                 22     -100.0  \n",
       "df_transactions = pd.read_snowflake(\"REVENUE_TR... Pandas    DataFrame.__init__  28        0.0  \n",
       "                                                                                 29        0.0  \n",
       "                                                                                 30    -1000.0  \n",
       "                                                   Snowflake None.read_snowflake 36     1000.0  \n",
       "                                                                                 37        0.0  \n",
       "                                                                                 38      900.0  "
      ]
     },
     "execution_count": 14,
     "metadata": {},
     "output_type": "execute_result"
    }
   ],
   "source": [
    "pd.explain()"
   ]
  },
  {
   "cell_type": "markdown",
   "id": "7dafef83-ee11-4f60-b17b-ce84cc29d854",
   "metadata": {},
   "source": [
    "Perform some operations on 10M rows with Snowflake"
   ]
  },
  {
   "cell_type": "code",
   "execution_count": 15,
   "id": "d9aa6dde-84db-41a8-9070-3d384a576f38",
   "metadata": {},
   "outputs": [],
   "source": [
    "df_transactions[\"DATE\"] = pd.to_datetime(df_transactions[\"DATE\"])"
   ]
  },
  {
   "cell_type": "code",
   "execution_count": 16,
   "id": "f2ae5759-2d39-482c-9fbd-bd937c2fbdfc",
   "metadata": {},
   "outputs": [
    {
     "name": "stdout",
     "output_type": "stream",
     "text": [
      "CPU times: user 64.1 ms, sys: 8.95 ms, total: 73.1 ms\n",
      "Wall time: 215 ms\n"
     ]
    },
    {
     "data": {
      "text/plain": [
       "DATE\n",
       "2024-01-01    9778454.0\n",
       "2024-01-02    9797011.0\n",
       "2024-01-03    9814284.0\n",
       "2024-01-04    9774611.0\n",
       "2024-01-05    9827905.0\n",
       "                ...    \n",
       "2025-05-25    9748948.0\n",
       "2025-05-26    9827152.0\n",
       "2025-05-27    9866154.0\n",
       "2025-05-28    9837595.0\n",
       "2025-05-29    9796763.0\n",
       "Freq: None, Name: REVENUE, Length: 515, dtype: float64"
      ]
     },
     "execution_count": 16,
     "metadata": {},
     "output_type": "execute_result"
    }
   ],
   "source": [
    "%%time\n",
    "df_transactions.groupby(\"DATE\").sum()[\"REVENUE\"]"
   ]
  },
  {
   "cell_type": "code",
   "execution_count": 17,
   "id": "824036de-5ac8-4990-8ab3-cd164c43eb2a",
   "metadata": {},
   "outputs": [],
   "source": [
    "assert df_transactions.get_backend() == \"Snowflake\""
   ]
  },
  {
   "cell_type": "code",
   "execution_count": 18,
   "id": "7703d2fa-4d65-42b6-91a3-b56716aa94f6",
   "metadata": {},
   "outputs": [
    {
     "data": {
      "text/html": [
       "<div>\n",
       "<style scoped>\n",
       "    .dataframe tbody tr th:only-of-type {\n",
       "        vertical-align: middle;\n",
       "    }\n",
       "\n",
       "    .dataframe tbody tr th {\n",
       "        vertical-align: top;\n",
       "    }\n",
       "\n",
       "    .dataframe thead th {\n",
       "        text-align: right;\n",
       "    }\n",
       "</style>\n",
       "<table border=\"1\" class=\"dataframe\">\n",
       "  <thead>\n",
       "    <tr style=\"text-align: right;\">\n",
       "      <th></th>\n",
       "      <th></th>\n",
       "      <th></th>\n",
       "      <th></th>\n",
       "      <th>candidate</th>\n",
       "      <th>mode</th>\n",
       "      <th>metric</th>\n",
       "      <th>value</th>\n",
       "    </tr>\n",
       "    <tr>\n",
       "      <th>source</th>\n",
       "      <th>decision</th>\n",
       "      <th>api</th>\n",
       "      <th>index</th>\n",
       "      <th></th>\n",
       "      <th></th>\n",
       "      <th></th>\n",
       "      <th></th>\n",
       "    </tr>\n",
       "  </thead>\n",
       "  <tbody>\n",
       "    <tr>\n",
       "      <th rowspan=\"8\" valign=\"top\">df_transactions[\"DATE\"] = pd.to_datetime(df_transactions[\"DATE\"])</th>\n",
       "      <th rowspan=\"8\" valign=\"top\">Pandas</th>\n",
       "      <th rowspan=\"2\" valign=\"top\">DataFrame.__init__</th>\n",
       "      <th>45</th>\n",
       "      <td>Pandas</td>\n",
       "      <td>auto</td>\n",
       "      <td>other_execute_cost</td>\n",
       "      <td>0.0</td>\n",
       "    </tr>\n",
       "    <tr>\n",
       "      <th>46</th>\n",
       "      <td>Pandas</td>\n",
       "      <td>auto</td>\n",
       "      <td>delta</td>\n",
       "      <td>-1000.0</td>\n",
       "    </tr>\n",
       "    <tr>\n",
       "      <th rowspan=\"6\" valign=\"top\">Series.__init__</th>\n",
       "      <th>52</th>\n",
       "      <td>Pandas</td>\n",
       "      <td>auto</td>\n",
       "      <td>move_to_cost</td>\n",
       "      <td>0.0</td>\n",
       "    </tr>\n",
       "    <tr>\n",
       "      <th>53</th>\n",
       "      <td>Pandas</td>\n",
       "      <td>auto</td>\n",
       "      <td>other_execute_cost</td>\n",
       "      <td>0.0</td>\n",
       "    </tr>\n",
       "    <tr>\n",
       "      <th>54</th>\n",
       "      <td>Pandas</td>\n",
       "      <td>auto</td>\n",
       "      <td>delta</td>\n",
       "      <td>-1000.0</td>\n",
       "    </tr>\n",
       "    <tr>\n",
       "      <th>60</th>\n",
       "      <td>Pandas</td>\n",
       "      <td>auto</td>\n",
       "      <td>move_to_cost</td>\n",
       "      <td>0.0</td>\n",
       "    </tr>\n",
       "    <tr>\n",
       "      <th>61</th>\n",
       "      <td>Pandas</td>\n",
       "      <td>auto</td>\n",
       "      <td>other_execute_cost</td>\n",
       "      <td>0.0</td>\n",
       "    </tr>\n",
       "    <tr>\n",
       "      <th>62</th>\n",
       "      <td>Pandas</td>\n",
       "      <td>auto</td>\n",
       "      <td>delta</td>\n",
       "      <td>-1000.0</td>\n",
       "    </tr>\n",
       "    <tr>\n",
       "      <th rowspan=\"12\" valign=\"top\">&lt;unknown&gt;</th>\n",
       "      <th rowspan=\"12\" valign=\"top\">Snowflake</th>\n",
       "      <th rowspan=\"3\" valign=\"top\">DataFrame.__init__</th>\n",
       "      <th>68</th>\n",
       "      <td>Pandas</td>\n",
       "      <td>auto</td>\n",
       "      <td>move_to_cost</td>\n",
       "      <td>0.0</td>\n",
       "    </tr>\n",
       "    <tr>\n",
       "      <th>69</th>\n",
       "      <td>Pandas</td>\n",
       "      <td>auto</td>\n",
       "      <td>other_execute_cost</td>\n",
       "      <td>1000.0</td>\n",
       "    </tr>\n",
       "    <tr>\n",
       "      <th>70</th>\n",
       "      <td>Pandas</td>\n",
       "      <td>auto</td>\n",
       "      <td>delta</td>\n",
       "      <td>0.0</td>\n",
       "    </tr>\n",
       "    <tr>\n",
       "      <th rowspan=\"3\" valign=\"top\">DataFrameGroupBy.sum</th>\n",
       "      <th>76</th>\n",
       "      <td>Pandas</td>\n",
       "      <td>auto</td>\n",
       "      <td>move_to_cost</td>\n",
       "      <td>1000.0</td>\n",
       "    </tr>\n",
       "    <tr>\n",
       "      <th>77</th>\n",
       "      <td>Pandas</td>\n",
       "      <td>auto</td>\n",
       "      <td>other_execute_cost</td>\n",
       "      <td>1000.0</td>\n",
       "    </tr>\n",
       "    <tr>\n",
       "      <th>78</th>\n",
       "      <td>Pandas</td>\n",
       "      <td>auto</td>\n",
       "      <td>delta</td>\n",
       "      <td>0.0</td>\n",
       "    </tr>\n",
       "    <tr>\n",
       "      <th rowspan=\"3\" valign=\"top\">DataFrame.__init__</th>\n",
       "      <th>84</th>\n",
       "      <td>Pandas</td>\n",
       "      <td>auto</td>\n",
       "      <td>move_to_cost</td>\n",
       "      <td>0.0</td>\n",
       "    </tr>\n",
       "    <tr>\n",
       "      <th>85</th>\n",
       "      <td>Pandas</td>\n",
       "      <td>auto</td>\n",
       "      <td>other_execute_cost</td>\n",
       "      <td>1000.0</td>\n",
       "    </tr>\n",
       "    <tr>\n",
       "      <th>86</th>\n",
       "      <td>Pandas</td>\n",
       "      <td>auto</td>\n",
       "      <td>delta</td>\n",
       "      <td>0.0</td>\n",
       "    </tr>\n",
       "    <tr>\n",
       "      <th rowspan=\"3\" valign=\"top\">Series.__init__</th>\n",
       "      <th>92</th>\n",
       "      <td>Pandas</td>\n",
       "      <td>auto</td>\n",
       "      <td>move_to_cost</td>\n",
       "      <td>0.0</td>\n",
       "    </tr>\n",
       "    <tr>\n",
       "      <th>93</th>\n",
       "      <td>Pandas</td>\n",
       "      <td>auto</td>\n",
       "      <td>other_execute_cost</td>\n",
       "      <td>1000.0</td>\n",
       "    </tr>\n",
       "    <tr>\n",
       "      <th>94</th>\n",
       "      <td>Pandas</td>\n",
       "      <td>auto</td>\n",
       "      <td>delta</td>\n",
       "      <td>0.0</td>\n",
       "    </tr>\n",
       "  </tbody>\n",
       "</table>\n",
       "</div>"
      ],
      "text/plain": [
       "                                                                                        candidate  \\\n",
       "source                                             decision  api                  index             \n",
       "df_transactions[\"DATE\"] = pd.to_datetime(df_tra... Pandas    DataFrame.__init__   45       Pandas   \n",
       "                                                                                  46       Pandas   \n",
       "                                                             Series.__init__      52       Pandas   \n",
       "                                                                                  53       Pandas   \n",
       "                                                                                  54       Pandas   \n",
       "                                                                                  60       Pandas   \n",
       "                                                                                  61       Pandas   \n",
       "                                                                                  62       Pandas   \n",
       "<unknown>                                          Snowflake DataFrame.__init__   68       Pandas   \n",
       "                                                                                  69       Pandas   \n",
       "                                                                                  70       Pandas   \n",
       "                                                             DataFrameGroupBy.sum 76       Pandas   \n",
       "                                                                                  77       Pandas   \n",
       "                                                                                  78       Pandas   \n",
       "                                                             DataFrame.__init__   84       Pandas   \n",
       "                                                                                  85       Pandas   \n",
       "                                                                                  86       Pandas   \n",
       "                                                             Series.__init__      92       Pandas   \n",
       "                                                                                  93       Pandas   \n",
       "                                                                                  94       Pandas   \n",
       "\n",
       "                                                                                         mode  \\\n",
       "source                                             decision  api                  index         \n",
       "df_transactions[\"DATE\"] = pd.to_datetime(df_tra... Pandas    DataFrame.__init__   45     auto   \n",
       "                                                                                  46     auto   \n",
       "                                                             Series.__init__      52     auto   \n",
       "                                                                                  53     auto   \n",
       "                                                                                  54     auto   \n",
       "                                                                                  60     auto   \n",
       "                                                                                  61     auto   \n",
       "                                                                                  62     auto   \n",
       "<unknown>                                          Snowflake DataFrame.__init__   68     auto   \n",
       "                                                                                  69     auto   \n",
       "                                                                                  70     auto   \n",
       "                                                             DataFrameGroupBy.sum 76     auto   \n",
       "                                                                                  77     auto   \n",
       "                                                                                  78     auto   \n",
       "                                                             DataFrame.__init__   84     auto   \n",
       "                                                                                  85     auto   \n",
       "                                                                                  86     auto   \n",
       "                                                             Series.__init__      92     auto   \n",
       "                                                                                  93     auto   \n",
       "                                                                                  94     auto   \n",
       "\n",
       "                                                                                                     metric  \\\n",
       "source                                             decision  api                  index                       \n",
       "df_transactions[\"DATE\"] = pd.to_datetime(df_tra... Pandas    DataFrame.__init__   45     other_execute_cost   \n",
       "                                                                                  46                  delta   \n",
       "                                                             Series.__init__      52           move_to_cost   \n",
       "                                                                                  53     other_execute_cost   \n",
       "                                                                                  54                  delta   \n",
       "                                                                                  60           move_to_cost   \n",
       "                                                                                  61     other_execute_cost   \n",
       "                                                                                  62                  delta   \n",
       "<unknown>                                          Snowflake DataFrame.__init__   68           move_to_cost   \n",
       "                                                                                  69     other_execute_cost   \n",
       "                                                                                  70                  delta   \n",
       "                                                             DataFrameGroupBy.sum 76           move_to_cost   \n",
       "                                                                                  77     other_execute_cost   \n",
       "                                                                                  78                  delta   \n",
       "                                                             DataFrame.__init__   84           move_to_cost   \n",
       "                                                                                  85     other_execute_cost   \n",
       "                                                                                  86                  delta   \n",
       "                                                             Series.__init__      92           move_to_cost   \n",
       "                                                                                  93     other_execute_cost   \n",
       "                                                                                  94                  delta   \n",
       "\n",
       "                                                                                          value  \n",
       "source                                             decision  api                  index          \n",
       "df_transactions[\"DATE\"] = pd.to_datetime(df_tra... Pandas    DataFrame.__init__   45        0.0  \n",
       "                                                                                  46    -1000.0  \n",
       "                                                             Series.__init__      52        0.0  \n",
       "                                                                                  53        0.0  \n",
       "                                                                                  54    -1000.0  \n",
       "                                                                                  60        0.0  \n",
       "                                                                                  61        0.0  \n",
       "                                                                                  62    -1000.0  \n",
       "<unknown>                                          Snowflake DataFrame.__init__   68        0.0  \n",
       "                                                                                  69     1000.0  \n",
       "                                                                                  70        0.0  \n",
       "                                                             DataFrameGroupBy.sum 76     1000.0  \n",
       "                                                                                  77     1000.0  \n",
       "                                                                                  78        0.0  \n",
       "                                                             DataFrame.__init__   84        0.0  \n",
       "                                                                                  85     1000.0  \n",
       "                                                                                  86        0.0  \n",
       "                                                             Series.__init__      92        0.0  \n",
       "                                                                                  93     1000.0  \n",
       "                                                                                  94        0.0  "
      ]
     },
     "execution_count": 18,
     "metadata": {},
     "output_type": "execute_result"
    }
   ],
   "source": [
    "pd.explain()"
   ]
  },
  {
   "cell_type": "markdown",
   "id": "733779ec-13d5-4c24-a874-3d21dfc5e759",
   "metadata": {},
   "source": [
    "So far everything has been happening in Snowflake, since we are working with the full dataset (10M rows). \n",
    "Next, we demonstrate what happens when we filter the data down to a smaller dataset below our data size threshold for automatic engine switching. \n",
    "First, let's perform the filtering directly with pandas. "
   ]
  },
  {
   "cell_type": "code",
   "execution_count": 19,
   "id": "23cbfe75-dd9e-4272-b466-fdb0cc0f9e69",
   "metadata": {},
   "outputs": [],
   "source": [
    "df_transactions_filter1 = df_transactions[(df_transactions[\"DATE\"] >= pd.Timestamp.today().date() - pd.Timedelta('7 days')) & (df_transactions[\"DATE\"] < pd.Timestamp.today().date())]"
   ]
  },
  {
   "cell_type": "code",
   "execution_count": 20,
   "id": "dc87088a-dc85-43f5-8e66-8be46074f9a1",
   "metadata": {},
   "outputs": [],
   "source": [
    "assert df_transactions_filter1.get_backend() == \"Snowflake\""
   ]
  },
  {
   "cell_type": "code",
   "execution_count": 21,
   "id": "e454bdb7-2fff-4c52-ad18-6419e197dbf5",
   "metadata": {},
   "outputs": [
    {
     "name": "stderr",
     "output_type": "stream",
     "text": [
      "WARNING:snowflake.snowpark.modin.plugin.utils.warning_message:The current operation leads to materialization and can be slow if the data is large!\n"
     ]
    },
    {
     "name": "stdout",
     "output_type": "stream",
     "text": [
      "Date range: 2025-05-22 to 2025-05-28. Resulting dataset size: 135811\n"
     ]
    }
   ],
   "source": [
    "print(f\"Date range: {df_transactions_filter1['DATE'].min().date()} to {df_transactions_filter1['DATE'].max().date()}. Resulting dataset size: {len(df_transactions_filter1)}\")"
   ]
  },
  {
   "cell_type": "markdown",
   "id": "4e416386-07f9-4604-940b-56923d73d463",
   "metadata": {},
   "source": [
    "Now that we have a smaller dataframe, this happens in pandas."
   ]
  },
  {
   "cell_type": "code",
   "execution_count": 22,
   "id": "abcc6f90-f883-49a8-b850-3bf5cadd31a6",
   "metadata": {},
   "outputs": [
    {
     "name": "stdout",
     "output_type": "stream",
     "text": [
      "CPU times: user 3 μs, sys: 1e+03 ns, total: 4 μs\n",
      "Wall time: 9.3 μs\n"
     ]
    },
    {
     "data": {
      "application/vnd.jupyter.widget-view+json": {
       "model_id": "1e4c16f6952b4d56afd828b677e06765",
       "version_major": 2,
       "version_minor": 0
      },
      "text/plain": [
       "Transferring data from Snowflake to Pandas for 'DataFrameGroupBy.sum' with max estimated shape 7x2:   0%|     …"
      ]
     },
     "metadata": {},
     "output_type": "display_data"
    }
   ],
   "source": [
    "%time\n",
    "df_transactions_filter1 = df_transactions_filter1.groupby(\"DATE\").sum()[\"REVENUE\"]"
   ]
  },
  {
   "cell_type": "code",
   "execution_count": 23,
   "id": "a1d151b6-1c48-4d27-a19b-c429abb48f4b",
   "metadata": {},
   "outputs": [],
   "source": [
    "assert df_transactions_filter1.get_backend()==\"Pandas\""
   ]
  },
  {
   "cell_type": "markdown",
   "id": "1e9d9f6c-dc87-42c7-8b3f-e19b36ea5897",
   "metadata": {},
   "source": [
    "We saw what happens when we filter with pandas. Now let's look at what happens if we perform filtering via SQL directly in the `read_snowflake` command, so the dataframe upon creation is small."
   ]
  },
  {
   "cell_type": "code",
   "execution_count": 24,
   "id": "8cee902a-71d8-412b-83b7-ffbd53b8a4c9",
   "metadata": {},
   "outputs": [
    {
     "data": {
      "application/vnd.jupyter.widget-view+json": {
       "model_id": "27585eaef09849b2b5adc4c19b4a8f2a",
       "version_major": 2,
       "version_minor": 0
      },
      "text/plain": [
       "Transferring data from Snowflake to Pandas for 'None.read_snowflake' with max estimated shape 135811x3:   0%| …"
      ]
     },
     "metadata": {},
     "output_type": "display_data"
    }
   ],
   "source": [
    "df_transactions_filter2 = pd.read_snowflake(\"SELECT * FROM revenue_transactions WHERE Date >= DATEADD( 'days', -7, current_date ) and Date < current_date\")"
   ]
  },
  {
   "cell_type": "code",
   "execution_count": 25,
   "id": "f024f0ff-b9d7-4c67-9fba-e98b1336300f",
   "metadata": {},
   "outputs": [],
   "source": [
    "assert df_transactions_filter2.get_backend()==\"Pandas\""
   ]
  },
  {
   "cell_type": "code",
   "execution_count": 26,
   "id": "eaaf8150-97bb-479f-acb4-d0a4767037db",
   "metadata": {},
   "outputs": [
    {
     "name": "stdout",
     "output_type": "stream",
     "text": [
      "Date range: 2025-05-22 to 2025-05-28. Resulting dataset size: 135811\n"
     ]
    }
   ],
   "source": [
    "# Verify the result is same as above\n",
    "print(f\"Date range: {df_transactions_filter2['DATE'].min()} to {df_transactions_filter2['DATE'].max()}. Resulting dataset size: {len(df_transactions_filter2)}\")"
   ]
  },
  {
   "cell_type": "markdown",
   "id": "e5972d8e-d5d9-4583-8719-415b71f32a8c",
   "metadata": {},
   "source": [
    "Once you are in pandas, you can still continue to perform the same operations: "
   ]
  },
  {
   "cell_type": "code",
   "execution_count": 27,
   "id": "9dd6ea59-9f26-4968-b652-cac35850c123",
   "metadata": {},
   "outputs": [
    {
     "name": "stdout",
     "output_type": "stream",
     "text": [
      "CPU times: user 1 μs, sys: 0 ns, total: 1 μs\n",
      "Wall time: 4.05 μs\n"
     ]
    },
    {
     "data": {
      "text/plain": [
       "DATE\n",
       "2025-05-22    9897879.0\n",
       "2025-05-23    9763143.0\n",
       "2025-05-24    9740137.0\n",
       "2025-05-25    9748948.0\n",
       "2025-05-26    9827152.0\n",
       "2025-05-27    9866154.0\n",
       "2025-05-28    9837595.0\n",
       "Name: REVENUE, dtype: float64"
      ]
     },
     "execution_count": 27,
     "metadata": {},
     "output_type": "execute_result"
    }
   ],
   "source": [
    "%time\n",
    "df_transactions_filter2.groupby(\"DATE\").sum()[\"REVENUE\"]"
   ]
  },
  {
   "cell_type": "code",
   "execution_count": 28,
   "id": "9f187ff8-dd87-4640-803e-0ca7e4867e7d",
   "metadata": {},
   "outputs": [],
   "source": [
    "assert df_transactions_filter2.get_backend() == 'Pandas'"
   ]
  },
  {
   "cell_type": "markdown",
   "id": "021bba5b-6f50-48d8-85a4-189668a67fa8",
   "metadata": {},
   "source": [
    "### 💡 Automatic switching means that pandas work well for both small and large data"
   ]
  },
  {
   "cell_type": "markdown",
   "id": "9f641537-49d6-4e39-9d28-c9eaf1b1f6af",
   "metadata": {},
   "source": [
    "## Example 3: Combining small and large datasets in the same workflow\n",
    "\n",
    "Soemtimes you are working with multiple dataframes of different sizes and you need to join them together, what happens in this scenario?\n",
    "When two dataframes are joined and the two dataframe are coming from different engine, we automatically determine what is the most optimal way to move the data to minimize the cost of data movement.\n",
    "\n",
    "Continuing with our `df_transactions` and `df_us_holidays` dataset."
   ]
  },
  {
   "cell_type": "code",
   "execution_count": 29,
   "id": "3a7514b5-d880-4f32-89a6-65360cfd2d76",
   "metadata": {},
   "outputs": [
    {
     "name": "stdout",
     "output_type": "stream",
     "text": [
      "Quick recap:\n",
      "- df_transactions is 10000000 rows and the data is located in Snowflake.\n",
      "- df_us_holidays is 11 rows and the data is located in Pandas.\n"
     ]
    }
   ],
   "source": [
    "print(\"Quick recap:\")\n",
    "print(f\"- df_transactions is {len(df_transactions)} rows and the data is located in {df_transactions.get_backend()}.\")\n",
    "print(f\"- df_us_holidays is {len(df_us_holidays)} rows and the data is located in {df_us_holidays.get_backend()}.\")"
   ]
  },
  {
   "cell_type": "code",
   "execution_count": 30,
   "id": "9ad40f90-255a-49aa-a267-493aa4ca7368",
   "metadata": {},
   "outputs": [],
   "source": [
    "df_transactions[\"DATE\"] = pd.to_datetime(df_transactions[\"DATE\"])"
   ]
  },
  {
   "cell_type": "markdown",
   "id": "d272bf76-8aa6-449a-abb7-cfeff35d2cc2",
   "metadata": {},
   "source": [
    "Since `df_us_holidays` is much smaller than `df_transactions`, we moved `df_us_holidays` to Snowflake where `df_transactions` is, to perform the operation."
   ]
  },
  {
   "cell_type": "code",
   "execution_count": 31,
   "id": "88f77864-eb02-4899-895d-a5f3fe907650",
   "metadata": {},
   "outputs": [
    {
     "data": {
      "application/vnd.jupyter.widget-view+json": {
       "model_id": "c31be6c00aed42e38ce417a047760519",
       "version_major": 2,
       "version_minor": 0
      },
      "text/plain": [
       "Transferring data from Pandas to Snowflake for 'None.merge' with max estimated shape 11x4:   0%|          | 0/…"
      ]
     },
     "metadata": {},
     "output_type": "display_data"
    }
   ],
   "source": [
    "combined = pd.merge(df_us_holidays, df_transactions, left_on=\"Date\", right_on=\"DATE\")"
   ]
  },
  {
   "cell_type": "code",
   "execution_count": 32,
   "id": "3fbe1e1e-1b79-4053-9aaf-c4a55896ac17",
   "metadata": {},
   "outputs": [],
   "source": [
    "assert combined.get_backend() == \"Snowflake\""
   ]
  },
  {
   "cell_type": "markdown",
   "id": "7c2b0dc6-96c5-4e7a-8e00-cc26281bccb0",
   "metadata": {},
   "source": [
    "### 💡 When we combine multiple dataframes running in different locations, pandas on Snowflake automatically determines where to move the data."
   ]
  },
  {
   "cell_type": "markdown",
   "id": "ab88cfe0-936a-4fa0-ba01-1a7152781d2f",
   "metadata": {},
   "source": [
    "## Example 4: Performing custom `apply` on small dataset\n",
    "\n",
    "apply is known to be slow in Snowpark pandas since it is implemented as UDF/UDTF, which often comes with a fixed startup time.\n",
    "Here, we show an example of how performing `apply` on a small dataset is faster with local pandas. \n",
    "\n",
    "In this example, we want to forecast using last year's transaction data via a custom apply function. "
   ]
  },
  {
   "cell_type": "code",
   "execution_count": 33,
   "id": "11a7f0e1-3db6-4a6e-97f3-d28e8d28cf53",
   "metadata": {},
   "outputs": [],
   "source": [
    "def forecast_revenue(df, start_date, end_date):\n",
    "    # Filter data from last year\n",
    "    df_filtered = df[(df[\"DATE\"] >= start_date - pd.Timedelta(days=365)) & (df[\"DATE\"] < start_date)]\n",
    "    # Append future dates to daily_avg for prediction\n",
    "    future_dates = pd.date_range(start=start_date, end=end_date, freq=\"D\")\n",
    "    df_future = pd.DataFrame({\"DATE\": future_dates})\n",
    "\n",
    "    # Group by DATE and calculate the mean revenue\n",
    "    daily_avg = df_filtered.groupby(\"DATE\")[\"REVENUE\"].mean().reset_index()\n",
    "    daily_avg[\"DATE\"] = daily_avg[\"DATE\"].astype('datetime64[ns]')\n",
    "    # Merge future dates with predicted revenue, filling missing values\n",
    "    df_forecast = df_future.merge(daily_avg, on=\"DATE\", how=\"left\")\n",
    "    import numpy as np\n",
    "    # Fill missing predicted revenue with overall mean from last year\n",
    "    df_forecast[\"PREDICTED_REVENUE\"] = np.nan\n",
    "    df_forecast[\"PREDICTED_REVENUE\"].fillna(daily_avg[\"REVENUE\"].mean(), inplace=True)\n",
    "    df_forecast[\"PREDICTED_REVENUE\"] = df_forecast[\"PREDICTED_REVENUE\"].astype(\"float\")\n",
    "    return df_forecast"
   ]
  },
  {
   "cell_type": "markdown",
   "id": "c3749373-0500-4df2-8f55-7e5024e7051e",
   "metadata": {},
   "source": [
    "First, let's use the `forecast_revenue` function to get the forecast in the date range, based on last year's revenue numbers."
   ]
  },
  {
   "cell_type": "code",
   "execution_count": 34,
   "id": "33ef702a-60da-48a9-b1e6-90982879afcd",
   "metadata": {},
   "outputs": [
    {
     "data": {
      "application/vnd.jupyter.widget-view+json": {
       "model_id": "8d5d8ee5d18f4eebbba6b97cf4488940",
       "version_major": 2,
       "version_minor": 0
      },
      "text/plain": [
       "Transferring data from Snowflake to Pandas for 'DataFrameGroupBy.mean' with max estimated shape 241x1:   0%|  …"
      ]
     },
     "metadata": {},
     "output_type": "display_data"
    }
   ],
   "source": [
    "start_date = pd.Timestamp(\"2025-10-01\")\n",
    "end_date = pd.Timestamp(\"2025-10-31\")\n",
    "df_forecast = forecast_revenue(df_transactions, start_date, end_date)"
   ]
  },
  {
   "cell_type": "markdown",
   "id": "276513a5-bcad-4c41-bec0-585ebc5690a4",
   "metadata": {},
   "source": [
    "The resulting dataframe is very small, since it is only the 1-month window we're performing forecast on, so the backend is running on pandas locally."
   ]
  },
  {
   "cell_type": "code",
   "execution_count": 35,
   "id": "dc5cf071-c8be-4543-b3b9-a23b844b18e0",
   "metadata": {},
   "outputs": [],
   "source": [
    "assert df_forecast.get_backend() == 'Pandas'"
   ]
  },
  {
   "cell_type": "code",
   "execution_count": 36,
   "id": "17271e32-0a0e-47aa-9701-38d35373f332",
   "metadata": {},
   "outputs": [],
   "source": [
    "def adjust_for_holiday_weekend(row):\n",
    "    # For national holidays, revenue down 5% since stores are closed. For weekends, revenue is up 5% due to increased activity.\n",
    "    if row[\"DATE\"].strftime('%Y-%m-%d') in list(df_us_holidays[\"Date\"].dt.strftime('%Y-%m-%d')): \n",
    "        return row[\"PREDICTED_REVENUE\"] * 0.95\n",
    "    elif row[\"DATE\"].weekday() == 5 or row[\"DATE\"].weekday() == 6: #Saturday/Sundays\n",
    "        return row[\"PREDICTED_REVENUE\"] * 1.05\n",
    "    return row[\"PREDICTED_REVENUE\"]"
   ]
  },
  {
   "cell_type": "markdown",
   "id": "7ea50fe2-0633-4b4a-9e51-4cf284b915f1",
   "metadata": {},
   "source": [
    "Now if we run `apply` on this dataframe. It will be running with local pandas."
   ]
  },
  {
   "cell_type": "code",
   "execution_count": 37,
   "id": "b17a06f7-9a55-4d7f-a862-3a73c16b3312",
   "metadata": {},
   "outputs": [],
   "source": [
    "# Adjust for holidays using the apply function\n",
    "df_forecast[\"PREDICTED_REVENUE\"] = df_forecast.apply(adjust_for_holiday_weekend, axis=1)"
   ]
  },
  {
   "cell_type": "code",
   "execution_count": 38,
   "id": "c83c63b7-885a-4997-a404-ac99bb00aad0",
   "metadata": {},
   "outputs": [],
   "source": [
    "assert df_forecast.get_backend() == 'Pandas'"
   ]
  },
  {
   "cell_type": "code",
   "execution_count": 39,
   "id": "241afafc-aee4-4c25-8bc9-79c0feba5024",
   "metadata": {},
   "outputs": [],
   "source": [
    "#TODO: Waiting on environment settings\n",
    "from modin.config.envvars import NativePandasMaxRows\n",
    "NativePandasMaxRows.put(10)"
   ]
  },
  {
   "cell_type": "code",
   "execution_count": 40,
   "id": "655d2649-8805-4a9d-a7be-a27b95eedcfc",
   "metadata": {},
   "outputs": [
    {
     "data": {
      "application/vnd.jupyter.widget-view+json": {
       "model_id": "a21107a06d564ce989809b59988afc8c",
       "version_major": 2,
       "version_minor": 0
      },
      "text/plain": [
       "Transferring data from Pandas to Snowflake with max estimated shape 20x2:   0%|          | 0/2 [00:00<?, ?it/s…"
      ]
     },
     "metadata": {},
     "output_type": "display_data"
    }
   ],
   "source": [
    "df_small = pd.DataFrame({'a': [1]*20, 'b': [2]*20}).move_to('Snowflake')"
   ]
  },
  {
   "cell_type": "code",
   "execution_count": 41,
   "id": "23c363d9-1c46-447d-8ae0-ffcc478658be",
   "metadata": {},
   "outputs": [],
   "source": [
    "assert df_small.get_backend() == 'Snowflake'"
   ]
  },
  {
   "cell_type": "code",
   "execution_count": 42,
   "id": "db48d6da-8566-4b12-ae4a-28254c5e7eb4",
   "metadata": {},
   "outputs": [],
   "source": [
    "df_small = df_small.apply(lambda x : x + 1)"
   ]
  },
  {
   "cell_type": "code",
   "execution_count": 43,
   "id": "58ff18c5-80d0-48bd-a360-e9087711c17a",
   "metadata": {},
   "outputs": [],
   "source": [
    "assert df_small.get_backend() == 'Snowflake'"
   ]
  },
  {
   "cell_type": "code",
   "execution_count": 44,
   "id": "2e1425a9-cf16-478b-a461-467c19912729",
   "metadata": {},
   "outputs": [
    {
     "data": {
      "application/vnd.jupyter.widget-view+json": {
       "model_id": "266a2df642c3428a82e6cec5a04d3fc0",
       "version_major": 2,
       "version_minor": 0
      },
      "text/plain": [
       "Transferring data from Snowflake to Pandas for 'DataFrame.apply' with max estimated shape 5x2:   0%|          …"
      ]
     },
     "metadata": {},
     "output_type": "display_data"
    }
   ],
   "source": [
    "df_small = df_small.head(5)\n",
    "df_small = df_small.apply(lambda x : x + 1)"
   ]
  },
  {
   "cell_type": "code",
   "execution_count": 45,
   "id": "8dae22e1-bc54-4dcf-8448-f1c2e45e2a26",
   "metadata": {},
   "outputs": [],
   "source": [
    "assert df_small.get_backend() == 'Pandas'"
   ]
  },
  {
   "cell_type": "code",
   "execution_count": 46,
   "id": "1bcc492c-6faf-4c2e-9d8a-ab4196397495",
   "metadata": {},
   "outputs": [],
   "source": [
    "NativePandasMaxRows.put(10_000_000)"
   ]
  },
  {
   "cell_type": "code",
   "execution_count": 47,
   "id": "ed1265c3-ef42-428c-8604-a4e5b66fca9f",
   "metadata": {},
   "outputs": [
    {
     "data": {
      "text/html": [
       "<div>\n",
       "<style scoped>\n",
       "    .dataframe tbody tr th:only-of-type {\n",
       "        vertical-align: middle;\n",
       "    }\n",
       "\n",
       "    .dataframe tbody tr th {\n",
       "        vertical-align: top;\n",
       "    }\n",
       "\n",
       "    .dataframe thead th {\n",
       "        text-align: right;\n",
       "    }\n",
       "</style>\n",
       "<table border=\"1\" class=\"dataframe\">\n",
       "  <thead>\n",
       "    <tr style=\"text-align: right;\">\n",
       "      <th></th>\n",
       "      <th></th>\n",
       "      <th></th>\n",
       "      <th></th>\n",
       "      <th>candidate</th>\n",
       "      <th>mode</th>\n",
       "      <th>metric</th>\n",
       "      <th>value</th>\n",
       "    </tr>\n",
       "    <tr>\n",
       "      <th>source</th>\n",
       "      <th>decision</th>\n",
       "      <th>api</th>\n",
       "      <th>index</th>\n",
       "      <th></th>\n",
       "      <th></th>\n",
       "      <th></th>\n",
       "      <th></th>\n",
       "    </tr>\n",
       "  </thead>\n",
       "  <tbody>\n",
       "    <tr>\n",
       "      <th rowspan=\"4\" valign=\"top\">df_small = df_small.apply(lambda x : x + 1)</th>\n",
       "      <th rowspan=\"4\" valign=\"top\">Snowflake</th>\n",
       "      <th>DataFrame.apply</th>\n",
       "      <th>421</th>\n",
       "      <td>Pandas</td>\n",
       "      <td>auto</td>\n",
       "      <td>delta</td>\n",
       "      <td>250.0</td>\n",
       "    </tr>\n",
       "    <tr>\n",
       "      <th rowspan=\"3\" valign=\"top\">DataFrame.__init__</th>\n",
       "      <th>427</th>\n",
       "      <td>Pandas</td>\n",
       "      <td>auto</td>\n",
       "      <td>move_to_cost</td>\n",
       "      <td>0.0</td>\n",
       "    </tr>\n",
       "    <tr>\n",
       "      <th>428</th>\n",
       "      <td>Pandas</td>\n",
       "      <td>auto</td>\n",
       "      <td>other_execute_cost</td>\n",
       "      <td>1000.0</td>\n",
       "    </tr>\n",
       "    <tr>\n",
       "      <th>429</th>\n",
       "      <td>Pandas</td>\n",
       "      <td>auto</td>\n",
       "      <td>delta</td>\n",
       "      <td>0.0</td>\n",
       "    </tr>\n",
       "    <tr>\n",
       "      <th rowspan=\"3\" valign=\"top\">df_small = df_small.head(5)</th>\n",
       "      <th rowspan=\"3\" valign=\"top\">Pandas</th>\n",
       "      <th rowspan=\"3\" valign=\"top\">DataFrame.__init__</th>\n",
       "      <th>435</th>\n",
       "      <td>Pandas</td>\n",
       "      <td>auto</td>\n",
       "      <td>move_to_cost</td>\n",
       "      <td>0.0</td>\n",
       "    </tr>\n",
       "    <tr>\n",
       "      <th>436</th>\n",
       "      <td>Pandas</td>\n",
       "      <td>auto</td>\n",
       "      <td>other_execute_cost</td>\n",
       "      <td>0.0</td>\n",
       "    </tr>\n",
       "    <tr>\n",
       "      <th>437</th>\n",
       "      <td>Pandas</td>\n",
       "      <td>auto</td>\n",
       "      <td>delta</td>\n",
       "      <td>-1000.0</td>\n",
       "    </tr>\n",
       "    <tr>\n",
       "      <th rowspan=\"3\" valign=\"top\">df_small = df_small.apply(lambda x : x + 1)</th>\n",
       "      <th rowspan=\"3\" valign=\"top\">Pandas</th>\n",
       "      <th rowspan=\"3\" valign=\"top\">DataFrame.apply</th>\n",
       "      <th>443</th>\n",
       "      <td>Pandas</td>\n",
       "      <td>auto</td>\n",
       "      <td>move_to_cost</td>\n",
       "      <td>0.0</td>\n",
       "    </tr>\n",
       "    <tr>\n",
       "      <th>444</th>\n",
       "      <td>Pandas</td>\n",
       "      <td>auto</td>\n",
       "      <td>other_execute_cost</td>\n",
       "      <td>0.0</td>\n",
       "    </tr>\n",
       "    <tr>\n",
       "      <th>445</th>\n",
       "      <td>Pandas</td>\n",
       "      <td>auto</td>\n",
       "      <td>delta</td>\n",
       "      <td>-750.0</td>\n",
       "    </tr>\n",
       "  </tbody>\n",
       "</table>\n",
       "</div>"
      ],
      "text/plain": [
       "                                                                               candidate  \\\n",
       "source                                      decision  api                index             \n",
       "df_small = df_small.apply(lambda x : x + 1) Snowflake DataFrame.apply    421      Pandas   \n",
       "                                                      DataFrame.__init__ 427      Pandas   \n",
       "                                                                         428      Pandas   \n",
       "                                                                         429      Pandas   \n",
       "df_small = df_small.head(5)                 Pandas    DataFrame.__init__ 435      Pandas   \n",
       "                                                                         436      Pandas   \n",
       "                                                                         437      Pandas   \n",
       "df_small = df_small.apply(lambda x : x + 1) Pandas    DataFrame.apply    443      Pandas   \n",
       "                                                                         444      Pandas   \n",
       "                                                                         445      Pandas   \n",
       "\n",
       "                                                                                mode  \\\n",
       "source                                      decision  api                index         \n",
       "df_small = df_small.apply(lambda x : x + 1) Snowflake DataFrame.apply    421    auto   \n",
       "                                                      DataFrame.__init__ 427    auto   \n",
       "                                                                         428    auto   \n",
       "                                                                         429    auto   \n",
       "df_small = df_small.head(5)                 Pandas    DataFrame.__init__ 435    auto   \n",
       "                                                                         436    auto   \n",
       "                                                                         437    auto   \n",
       "df_small = df_small.apply(lambda x : x + 1) Pandas    DataFrame.apply    443    auto   \n",
       "                                                                         444    auto   \n",
       "                                                                         445    auto   \n",
       "\n",
       "                                                                                            metric  \\\n",
       "source                                      decision  api                index                       \n",
       "df_small = df_small.apply(lambda x : x + 1) Snowflake DataFrame.apply    421                 delta   \n",
       "                                                      DataFrame.__init__ 427          move_to_cost   \n",
       "                                                                         428    other_execute_cost   \n",
       "                                                                         429                 delta   \n",
       "df_small = df_small.head(5)                 Pandas    DataFrame.__init__ 435          move_to_cost   \n",
       "                                                                         436    other_execute_cost   \n",
       "                                                                         437                 delta   \n",
       "df_small = df_small.apply(lambda x : x + 1) Pandas    DataFrame.apply    443          move_to_cost   \n",
       "                                                                         444    other_execute_cost   \n",
       "                                                                         445                 delta   \n",
       "\n",
       "                                                                                 value  \n",
       "source                                      decision  api                index          \n",
       "df_small = df_small.apply(lambda x : x + 1) Snowflake DataFrame.apply    421     250.0  \n",
       "                                                      DataFrame.__init__ 427       0.0  \n",
       "                                                                         428    1000.0  \n",
       "                                                                         429       0.0  \n",
       "df_small = df_small.head(5)                 Pandas    DataFrame.__init__ 435       0.0  \n",
       "                                                                         436       0.0  \n",
       "                                                                         437   -1000.0  \n",
       "df_small = df_small.apply(lambda x : x + 1) Pandas    DataFrame.apply    443       0.0  \n",
       "                                                                         444       0.0  \n",
       "                                                                         445    -750.0  "
      ]
     },
     "execution_count": 47,
     "metadata": {},
     "output_type": "execute_result"
    }
   ],
   "source": [
    "pd.explain(last=10)"
   ]
  },
  {
   "cell_type": "markdown",
   "id": "82cbbf9d",
   "metadata": {},
   "source": [
    "# bug fix from bug bash, May 2, 2025: constructing dataframe or series out of snowflake df or series should not cuase data to move (\"Jonathan Shi passing a Series/DF to the DF constructor triggers surprising moves (in)\")"
   ]
  },
  {
   "cell_type": "code",
   "execution_count": 48,
   "id": "ccfb359d",
   "metadata": {},
   "outputs": [
    {
     "data": {
      "application/vnd.jupyter.widget-view+json": {
       "model_id": "8b1466c94c4a4bf7ac5d14b381691350",
       "version_major": 2,
       "version_minor": 0
      },
      "text/plain": [
       "Transferring data from Pandas to Snowflake with max estimated shape 10x1:   0%|          | 0/2 [00:00<?, ?it/s…"
      ]
     },
     "metadata": {},
     "output_type": "display_data"
    }
   ],
   "source": [
    "input_df = pd.DataFrame(list(range(10))).move_to('snowflake')\n",
    "assert input_df.get_backend() == 'Snowflake'\n",
    "assert pd.DataFrame(input_df).get_backend() == 'Snowflake'\n",
    "assert pd.DataFrame({'col0': input_df[0]}).get_backend() == 'Snowflake'\n",
    "assert pd.DataFrame(input_df[0]).get_backend() == 'Snowflake'\n",
    "\n",
    "pandas_df  = pd.DataFrame(list(range(10)))\n",
    "assert pandas_df.get_backend() == 'Pandas'\n",
    "assert pd.DataFrame(pandas_df).get_backend() == 'Pandas'\n",
    "assert pd.DataFrame({'col0': pandas_df[0]}).get_backend() == 'Pandas'\n",
    "assert pd.DataFrame(pandas_df[0]).get_backend() == 'Pandas'\n",
    "\n"
   ]
  },
  {
   "cell_type": "markdown",
   "id": "f9d724dc",
   "metadata": {},
   "source": [
    "# Test that post-op switch for groupby agg works"
   ]
  },
  {
   "cell_type": "code",
   "execution_count": 49,
   "id": "50ab4535",
   "metadata": {},
   "outputs": [
    {
     "data": {
      "application/vnd.jupyter.widget-view+json": {
       "model_id": "4257ae6634e848cca75aa61fff67dea0",
       "version_major": 2,
       "version_minor": 0
      },
      "text/plain": [
       "Transferring data from Pandas to Snowflake with max estimated shape 2x2:   0%|          | 0/2 [00:00<?, ?it/s]"
      ]
     },
     "metadata": {},
     "output_type": "display_data"
    },
    {
     "name": "stdout",
     "output_type": "stream",
     "text": [
      "Testing var\n"
     ]
    },
    {
     "data": {
      "application/vnd.jupyter.widget-view+json": {
       "model_id": "6fbe601804dc487fb247f4fcca0f54f4",
       "version_major": 2,
       "version_minor": 0
      },
      "text/plain": [
       "Transferring data from Snowflake to Pandas for 'DataFrameGroupBy.var' with max estimated shape 2x1:   0%|     …"
      ]
     },
     "metadata": {},
     "output_type": "display_data"
    },
    {
     "data": {
      "application/vnd.jupyter.widget-view+json": {
       "model_id": "60d14f25d9a048d992e15166c09b7871",
       "version_major": 2,
       "version_minor": 0
      },
      "text/plain": [
       "Transferring data from Snowflake to Pandas for 'DataFrameGroupBy.var' with max estimated shape 2x1:   0%|     …"
      ]
     },
     "metadata": {},
     "output_type": "display_data"
    },
    {
     "name": "stdout",
     "output_type": "stream",
     "text": [
      "Testing std\n"
     ]
    },
    {
     "data": {
      "application/vnd.jupyter.widget-view+json": {
       "model_id": "c09e7779d6d34c41ad6cff3004d081bd",
       "version_major": 2,
       "version_minor": 0
      },
      "text/plain": [
       "Transferring data from Snowflake to Pandas for 'DataFrameGroupBy.std' with max estimated shape 2x1:   0%|     …"
      ]
     },
     "metadata": {},
     "output_type": "display_data"
    },
    {
     "data": {
      "application/vnd.jupyter.widget-view+json": {
       "model_id": "932ddd00ec8b4562983182a8c76a08d0",
       "version_major": 2,
       "version_minor": 0
      },
      "text/plain": [
       "Transferring data from Snowflake to Pandas for 'DataFrameGroupBy.std' with max estimated shape 2x1:   0%|     …"
      ]
     },
     "metadata": {},
     "output_type": "display_data"
    },
    {
     "name": "stdout",
     "output_type": "stream",
     "text": [
      "Testing sum\n"
     ]
    },
    {
     "data": {
      "application/vnd.jupyter.widget-view+json": {
       "model_id": "ccd194b3c0f945c9994e854b97bb4b77",
       "version_major": 2,
       "version_minor": 0
      },
      "text/plain": [
       "Transferring data from Snowflake to Pandas for 'DataFrameGroupBy.sum' with max estimated shape 2x1:   0%|     …"
      ]
     },
     "metadata": {},
     "output_type": "display_data"
    },
    {
     "data": {
      "application/vnd.jupyter.widget-view+json": {
       "model_id": "4c3c9cee879f49d0842c98fcc843ad5d",
       "version_major": 2,
       "version_minor": 0
      },
      "text/plain": [
       "Transferring data from Snowflake to Pandas for 'DataFrameGroupBy.sum' with max estimated shape 2x1:   0%|     …"
      ]
     },
     "metadata": {},
     "output_type": "display_data"
    },
    {
     "name": "stdout",
     "output_type": "stream",
     "text": [
      "Testing max\n"
     ]
    },
    {
     "data": {
      "application/vnd.jupyter.widget-view+json": {
       "model_id": "4fc445dff4cc4718a63f2f132a757bca",
       "version_major": 2,
       "version_minor": 0
      },
      "text/plain": [
       "Transferring data from Snowflake to Pandas for 'DataFrameGroupBy.max' with max estimated shape 2x1:   0%|     …"
      ]
     },
     "metadata": {},
     "output_type": "display_data"
    },
    {
     "data": {
      "application/vnd.jupyter.widget-view+json": {
       "model_id": "a13475f6e7aa4545b3d90c10bf419a10",
       "version_major": 2,
       "version_minor": 0
      },
      "text/plain": [
       "Transferring data from Snowflake to Pandas for 'DataFrameGroupBy.max' with max estimated shape 2x1:   0%|     …"
      ]
     },
     "metadata": {},
     "output_type": "display_data"
    },
    {
     "name": "stdout",
     "output_type": "stream",
     "text": [
      "Testing mean\n"
     ]
    },
    {
     "data": {
      "application/vnd.jupyter.widget-view+json": {
       "model_id": "c674937cf4ba41779fb7971b88a3a8a6",
       "version_major": 2,
       "version_minor": 0
      },
      "text/plain": [
       "Transferring data from Snowflake to Pandas for 'DataFrameGroupBy.mean' with max estimated shape 2x1:   0%|    …"
      ]
     },
     "metadata": {},
     "output_type": "display_data"
    },
    {
     "data": {
      "application/vnd.jupyter.widget-view+json": {
       "model_id": "6f29afc6603d40d885be1cb6751ff335",
       "version_major": 2,
       "version_minor": 0
      },
      "text/plain": [
       "Transferring data from Snowflake to Pandas for 'DataFrameGroupBy.mean' with max estimated shape 2x1:   0%|    …"
      ]
     },
     "metadata": {},
     "output_type": "display_data"
    },
    {
     "name": "stdout",
     "output_type": "stream",
     "text": [
      "Testing min\n"
     ]
    },
    {
     "data": {
      "application/vnd.jupyter.widget-view+json": {
       "model_id": "f6e13b62267a4a5498283705d73e3ff4",
       "version_major": 2,
       "version_minor": 0
      },
      "text/plain": [
       "Transferring data from Snowflake to Pandas for 'DataFrameGroupBy.min' with max estimated shape 2x1:   0%|     …"
      ]
     },
     "metadata": {},
     "output_type": "display_data"
    },
    {
     "data": {
      "application/vnd.jupyter.widget-view+json": {
       "model_id": "f73c3d0bb45149d1939dcc4a1a9df652",
       "version_major": 2,
       "version_minor": 0
      },
      "text/plain": [
       "Transferring data from Snowflake to Pandas for 'DataFrameGroupBy.min' with max estimated shape 2x1:   0%|     …"
      ]
     },
     "metadata": {},
     "output_type": "display_data"
    },
    {
     "name": "stdout",
     "output_type": "stream",
     "text": [
      "Testing count\n"
     ]
    },
    {
     "data": {
      "application/vnd.jupyter.widget-view+json": {
       "model_id": "7a6b3cfef8ed467e8b69ce7b20ee28d8",
       "version_major": 2,
       "version_minor": 0
      },
      "text/plain": [
       "Transferring data from Snowflake to Pandas for 'DataFrameGroupBy.count' with max estimated shape 2x1:   0%|   …"
      ]
     },
     "metadata": {},
     "output_type": "display_data"
    },
    {
     "data": {
      "application/vnd.jupyter.widget-view+json": {
       "model_id": "0246859aeebe4d12aad92590c87465e0",
       "version_major": 2,
       "version_minor": 0
      },
      "text/plain": [
       "Transferring data from Snowflake to Pandas for 'DataFrameGroupBy.count' with max estimated shape 2x1:   0%|   …"
      ]
     },
     "metadata": {},
     "output_type": "display_data"
    },
    {
     "name": "stdout",
     "output_type": "stream",
     "text": [
      "Testing nunique\n"
     ]
    },
    {
     "data": {
      "application/vnd.jupyter.widget-view+json": {
       "model_id": "ac8c23ef3d154dd595dfc009dceda7d0",
       "version_major": 2,
       "version_minor": 0
      },
      "text/plain": [
       "Transferring data from Snowflake to Pandas for 'DataFrameGroupBy.nunique' with max estimated shape 2x1:   0%| …"
      ]
     },
     "metadata": {},
     "output_type": "display_data"
    },
    {
     "data": {
      "application/vnd.jupyter.widget-view+json": {
       "model_id": "95a392881f6646429635fe96207927c8",
       "version_major": 2,
       "version_minor": 0
      },
      "text/plain": [
       "Transferring data from Snowflake to Pandas for 'DataFrameGroupBy.nunique' with max estimated shape 2x1:   0%| …"
      ]
     },
     "metadata": {},
     "output_type": "display_data"
    }
   ],
   "source": [
    "groupby_reductions  =  (\n",
    "    # skip tail because of bug in upstream snowpark-python:\n",
    "    # pd.DataFrame([[0, 1], [2, 3]]).groupby(0)[1].tail() fails with\n",
    "    # some indexing error.\n",
    "    # \"tail\",\n",
    "    \"var\",\n",
    "    \"std\",\n",
    "    \"sum\",\n",
    "    # \"sem\",\n",
    "    \"max\",\n",
    "    \"mean\",\n",
    "    \"min\",\n",
    "    \"count\",\n",
    "    \"nunique\",\n",
    ")\n",
    "\n",
    "small_snow_df = pd.DataFrame([[0, 1], [2, 3]]).move_to('snowflake')\n",
    "\n",
    "for operation in groupby_reductions:\n",
    "    print(f\"Testing {operation}\")\n",
    "    assert small_snow_df.get_backend() == 'Snowflake'    \n",
    "    dataframe_groupby_result = getattr(small_snow_df.groupby(0), operation)()\n",
    "    assert dataframe_groupby_result.get_backend() == 'Pandas'\n",
    "    assert small_snow_df.get_backend() == 'Snowflake'\n",
    "    series_groupby_result = getattr(small_snow_df.groupby(0)[1], operation)()\n",
    "    assert series_groupby_result.get_backend() == 'Pandas'\n",
    "    assert small_snow_df.get_backend() == 'Snowflake'\n"
   ]
  },
  {
   "cell_type": "markdown",
   "id": "bd67be18",
   "metadata": {},
   "source": [
    "# df and series to_pandas() should be available on pandas backend: https://snowflakecomputing.atlassian.net/browse/SNOW-2106995"
   ]
  },
  {
   "cell_type": "code",
   "execution_count": 3,
   "id": "aab5f4c3",
   "metadata": {},
   "outputs": [],
   "source": [
    "df = pd.DataFrame({'a': [1, 2, 3], 'b': [4, 5, 6]})\n",
    "assert df.get_backend() == 'Pandas'\n",
    "assert df.to_pandas().equals(df._to_pandas())\n",
    "assert df['a'].to_pandas().equals(df['a']._to_pandas())"
   ]
  },
  {
   "cell_type": "code",
   "execution_count": null,
   "id": "b220a767",
   "metadata": {},
   "outputs": [],
   "source": []
  }
 ],
 "metadata": {
  "kernelspec": {
   "display_name": "Python 3 (ipykernel)",
   "language": "python",
   "name": "python3"
  },
  "language_info": {
   "codemirror_mode": {
    "name": "ipython",
    "version": 3
   },
   "file_extension": ".py",
   "mimetype": "text/x-python",
   "name": "python",
   "nbconvert_exporter": "python",
   "pygments_lexer": "ipython3",
   "version": "3.11.11"
  }
 },
 "nbformat": 4,
 "nbformat_minor": 5
}
