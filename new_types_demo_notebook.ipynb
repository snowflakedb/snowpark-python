{
 "cells": [
  {
   "cell_type": "code",
   "execution_count": 1,
   "metadata": {},
   "outputs": [],
   "source": [
    "import modin.pandas as pd\n",
    "import snowflake.snowpark.modin.plugin\n",
    "import numpy as np\n",
    "import pandas as native_pd\n",
    "from snowflake.snowpark.session import Session; session = Session.builder.create()\n",
    "# import logging; logging.getLogger(\"snowflake.snowpark\").setLevel(logging.DEBUG)\n",
    "\n",
    "import warnings\n",
    "warnings.filterwarnings('ignore', category=FutureWarning, message='.*Setting an item of incompatible dtype is deprecated.*')\n"
   ]
  },
  {
   "cell_type": "code",
   "execution_count": 2,
   "metadata": {},
   "outputs": [],
   "source": [
    "df = pd.DataFrame(\n",
    "    [\n",
    "        [pd.Timestamp(year=2020,month=11,day=11,second=30),\n",
    "         pd.Timestamp(year=2019,month=10,day=10,second=1),\n",
    "         pd.Timestamp(year=2024, month=7, day=24)\n",
    "         ]])"
   ]
  },
  {
   "cell_type": "code",
   "execution_count": 3,
   "metadata": {},
   "outputs": [
    {
     "name": "stdout",
     "output_type": "stream",
     "text": [
      "                    0                   1          2\n",
      "0 2020-11-11 00:00:30 2019-10-10 00:00:01 2024-07-24\n"
     ]
    }
   ],
   "source": [
    "print(df)"
   ]
  },
  {
   "cell_type": "markdown",
   "metadata": {},
   "source": [
    "# subtract two timestamps"
   ]
  },
  {
   "cell_type": "code",
   "execution_count": 4,
   "metadata": {},
   "outputs": [],
   "source": [
    "timedelta = df[0] - df[1]"
   ]
  },
  {
   "cell_type": "code",
   "execution_count": 6,
   "metadata": {},
   "outputs": [
    {
     "name": "stdout",
     "output_type": "stream",
     "text": [
      "0   398 days 00:00:29\n",
      "dtype: timedelta64[ns]\n"
     ]
    }
   ],
   "source": [
    "# and we can print the timedelta\n",
    "print(timedelta)"
   ]
  },
  {
   "cell_type": "markdown",
   "metadata": {},
   "source": [
    "# add timestamp to timedelta"
   ]
  },
  {
   "cell_type": "code",
   "execution_count": 7,
   "metadata": {},
   "outputs": [
    {
     "name": "stdout",
     "output_type": "stream",
     "text": [
      "0   2025-08-26 00:00:29\n",
      "dtype: datetime64[ns]\n"
     ]
    }
   ],
   "source": [
    "print(df[2] + timedelta)\n"
   ]
  },
  {
   "cell_type": "markdown",
   "metadata": {},
   "source": [
    "# adding two timedelta to get a new timedelta"
   ]
  },
  {
   "cell_type": "code",
   "execution_count": 8,
   "metadata": {},
   "outputs": [
    {
     "name": "stdout",
     "output_type": "stream",
     "text": [
      "0   796 days 00:00:58\n",
      "dtype: timedelta64[ns]\n"
     ]
    }
   ],
   "source": [
    "timedelta_sum = timedelta + timedelta\n",
    "print(timedelta_sum)"
   ]
  },
  {
   "cell_type": "markdown",
   "metadata": {},
   "source": [
    "# take max of timedelta column"
   ]
  },
  {
   "cell_type": "code",
   "execution_count": 9,
   "metadata": {},
   "outputs": [
    {
     "name": "stdout",
     "output_type": "stream",
     "text": [
      "398 days 00:00:29\n"
     ]
    }
   ],
   "source": [
    "print(timedelta.max())"
   ]
  }
 ],
 "metadata": {
  "kernelspec": {
   "display_name": "snowpark-python-dev",
   "language": "python",
   "name": "python3"
  },
  "language_info": {
   "codemirror_mode": {
    "name": "ipython",
    "version": 3
   },
   "file_extension": ".py",
   "mimetype": "text/x-python",
   "name": "python",
   "nbconvert_exporter": "python",
   "pygments_lexer": "ipython3",
   "version": "3.9.19"
  }
 },
 "nbformat": 4,
 "nbformat_minor": 2
}
