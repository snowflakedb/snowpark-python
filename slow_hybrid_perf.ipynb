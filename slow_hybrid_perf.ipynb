{
 "cells": [
  {
   "cell_type": "code",
   "execution_count": null,
   "id": "aa362216",
   "metadata": {},
   "outputs": [],
   "source": [
    "import modin.pandas as pd\n",
    "import snowflake.snowpark.modin.plugin\n",
    "import numpy as np\n",
    "import datetime\n",
    "import pandas as native_pd\n",
    "from snowflake.snowpark.session import Session\n",
    "\n",
    "session = Session.builder.create()\n",
    "\n",
    "import logging\n",
    "logging.getLogger(\"snowflake.snowpark\").setLevel(logging.DEBUG)\n",
    "logging.basicConfig()"
   ]
  },
  {
   "cell_type": "code",
   "execution_count": null,
   "id": "d27c1beb",
   "metadata": {},
   "outputs": [],
   "source": [
    "\n",
    "# df1_pandas = native_pd.DataFrame([list(range(10)) for _ in range(1000)])\n",
    "# pd.DataFrame(df1_pandas).to_snowflake('z', if_exists='replace')\n",
    "\n",
    "\n",
    "df2 = pd.read_snowflake(\"z\")\n",
    "df1 = pd.read_snowflake(\"z\")\n"
   ]
  },
  {
   "cell_type": "code",
   "execution_count": null,
   "id": "d45b557b",
   "metadata": {},
   "outputs": [],
   "source": [
    "\n",
    "\n",
    "result = df1.merge(df2, how=\"cross\")\n",
    "# self.move_to('snowflake') takes a reallllly long time (nvm 16 seconds later?)\n",
    "# ok it's inconsistent sometimes it's a really long time.\n",
    "# 7 seconds to loop through rows of dataframe, then 9 seconds of session.create_dataframe()\n",
    "# actually writing to snowflake takes 54 seconds. about 45 seconds of that goes into batch insert, something like 4 seconds goes into copying result to snowflake.\n",
    "import time\n",
    "result.to_snowflake(\"temp_table_name\", if_exists=\"replace\", table_type=\"temp\")\n",
    "print(f'to_snowflake() done at {time.time()}')\n"
   ]
  },
  {
   "cell_type": "code",
   "execution_count": null,
   "id": "2a90954d",
   "metadata": {},
   "outputs": [],
   "source": []
  }
 ],
 "metadata": {
  "kernelspec": {
   "display_name": "snowpark-python-dev",
   "language": "python",
   "name": "python3"
  },
  "language_info": {
   "codemirror_mode": {
    "name": "ipython",
    "version": 3
   },
   "file_extension": ".py",
   "mimetype": "text/x-python",
   "name": "python",
   "nbconvert_exporter": "python",
   "pygments_lexer": "ipython3",
   "version": "3.9.21"
  }
 },
 "nbformat": 4,
 "nbformat_minor": 5
}
