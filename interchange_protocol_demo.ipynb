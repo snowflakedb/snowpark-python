{
 "cells": [
  {
   "cell_type": "code",
   "execution_count": 1,
   "metadata": {},
   "outputs": [],
   "source": [
    "import modin.pandas as pd\n",
    "import snowflake.snowpark.modin.plugin\n",
    "import numpy as np\n",
    "import datetime\n",
    "import pandas as native_pd\n",
    "import logging; logging.getLogger(\"snowflake.snowpark\").setLevel(logging.DEBUG)\n",
    "from snowflake.snowpark.session import Session; session = Session.builder.create()\n"
   ]
  },
  {
   "cell_type": "code",
   "execution_count": 2,
   "metadata": {},
   "outputs": [
    {
     "name": "stderr",
     "output_type": "stream",
     "text": [
      "DEBUG:snowflake.snowpark._internal.server_connection:Execute query [queryID: 01ba3315-080e-cc92-000c-a908525bcccb]  SELECT \"__index__\", \"0\", \"1\" FROM ( SELECT $1 AS \"__index__\", $2 AS \"0\", $3 AS \"1\", $4 AS \"__row_position__\" FROM  VALUES (0 :: INT, 1 :: INT, 2 :: INT, 0 :: INT), (1 :: INT, 3 :: INT, 4 :: INT, 1 :: INT)) ORDER BY \"__row_position__\" ASC NULLS LAST\n"
     ]
    },
    {
     "data": {
      "application/vnd.plotly.v1+json": {
       "config": {
        "plotlyServerURL": "https://plot.ly"
       },
       "data": [
        {
         "hovertemplate": "variable=0<br>index=%{x}<br>value=%{y}<extra></extra>",
         "legendgroup": "0",
         "marker": {
          "color": "#636efa",
          "symbol": "circle"
         },
         "mode": "markers",
         "name": "0",
         "orientation": "v",
         "showlegend": true,
         "type": "scatter",
         "x": [
          0,
          1
         ],
         "xaxis": "x",
         "y": [
          1,
          3
         ],
         "yaxis": "y"
        },
        {
         "hovertemplate": "variable=1<br>index=%{x}<br>value=%{y}<extra></extra>",
         "legendgroup": "1",
         "marker": {
          "color": "#EF553B",
          "symbol": "circle"
         },
         "mode": "markers",
         "name": "1",
         "orientation": "v",
         "showlegend": true,
         "type": "scatter",
         "x": [
          0,
          1
         ],
         "xaxis": "x",
         "y": [
          2,
          4
         ],
         "yaxis": "y"
        }
       ],
       "layout": {
        "legend": {
         "title": {
          "text": "variable"
         },
         "tracegroupgap": 0
        },
        "margin": {
         "t": 60
        },
        "template": {
         "data": {
          "bar": [
           {
            "error_x": {
             "color": "#2a3f5f"
            },
            "error_y": {
             "color": "#2a3f5f"
            },
            "marker": {
             "line": {
              "color": "#E5ECF6",
              "width": 0.5
             },
             "pattern": {
              "fillmode": "overlay",
              "size": 10,
              "solidity": 0.2
             }
            },
            "type": "bar"
           }
          ],
          "barpolar": [
           {
            "marker": {
             "line": {
              "color": "#E5ECF6",
              "width": 0.5
             },
             "pattern": {
              "fillmode": "overlay",
              "size": 10,
              "solidity": 0.2
             }
            },
            "type": "barpolar"
           }
          ],
          "carpet": [
           {
            "aaxis": {
             "endlinecolor": "#2a3f5f",
             "gridcolor": "white",
             "linecolor": "white",
             "minorgridcolor": "white",
             "startlinecolor": "#2a3f5f"
            },
            "baxis": {
             "endlinecolor": "#2a3f5f",
             "gridcolor": "white",
             "linecolor": "white",
             "minorgridcolor": "white",
             "startlinecolor": "#2a3f5f"
            },
            "type": "carpet"
           }
          ],
          "choropleth": [
           {
            "colorbar": {
             "outlinewidth": 0,
             "ticks": ""
            },
            "type": "choropleth"
           }
          ],
          "contour": [
           {
            "colorbar": {
             "outlinewidth": 0,
             "ticks": ""
            },
            "colorscale": [
             [
              0,
              "#0d0887"
             ],
             [
              0.1111111111111111,
              "#46039f"
             ],
             [
              0.2222222222222222,
              "#7201a8"
             ],
             [
              0.3333333333333333,
              "#9c179e"
             ],
             [
              0.4444444444444444,
              "#bd3786"
             ],
             [
              0.5555555555555556,
              "#d8576b"
             ],
             [
              0.6666666666666666,
              "#ed7953"
             ],
             [
              0.7777777777777778,
              "#fb9f3a"
             ],
             [
              0.8888888888888888,
              "#fdca26"
             ],
             [
              1,
              "#f0f921"
             ]
            ],
            "type": "contour"
           }
          ],
          "contourcarpet": [
           {
            "colorbar": {
             "outlinewidth": 0,
             "ticks": ""
            },
            "type": "contourcarpet"
           }
          ],
          "heatmap": [
           {
            "colorbar": {
             "outlinewidth": 0,
             "ticks": ""
            },
            "colorscale": [
             [
              0,
              "#0d0887"
             ],
             [
              0.1111111111111111,
              "#46039f"
             ],
             [
              0.2222222222222222,
              "#7201a8"
             ],
             [
              0.3333333333333333,
              "#9c179e"
             ],
             [
              0.4444444444444444,
              "#bd3786"
             ],
             [
              0.5555555555555556,
              "#d8576b"
             ],
             [
              0.6666666666666666,
              "#ed7953"
             ],
             [
              0.7777777777777778,
              "#fb9f3a"
             ],
             [
              0.8888888888888888,
              "#fdca26"
             ],
             [
              1,
              "#f0f921"
             ]
            ],
            "type": "heatmap"
           }
          ],
          "heatmapgl": [
           {
            "colorbar": {
             "outlinewidth": 0,
             "ticks": ""
            },
            "colorscale": [
             [
              0,
              "#0d0887"
             ],
             [
              0.1111111111111111,
              "#46039f"
             ],
             [
              0.2222222222222222,
              "#7201a8"
             ],
             [
              0.3333333333333333,
              "#9c179e"
             ],
             [
              0.4444444444444444,
              "#bd3786"
             ],
             [
              0.5555555555555556,
              "#d8576b"
             ],
             [
              0.6666666666666666,
              "#ed7953"
             ],
             [
              0.7777777777777778,
              "#fb9f3a"
             ],
             [
              0.8888888888888888,
              "#fdca26"
             ],
             [
              1,
              "#f0f921"
             ]
            ],
            "type": "heatmapgl"
           }
          ],
          "histogram": [
           {
            "marker": {
             "pattern": {
              "fillmode": "overlay",
              "size": 10,
              "solidity": 0.2
             }
            },
            "type": "histogram"
           }
          ],
          "histogram2d": [
           {
            "colorbar": {
             "outlinewidth": 0,
             "ticks": ""
            },
            "colorscale": [
             [
              0,
              "#0d0887"
             ],
             [
              0.1111111111111111,
              "#46039f"
             ],
             [
              0.2222222222222222,
              "#7201a8"
             ],
             [
              0.3333333333333333,
              "#9c179e"
             ],
             [
              0.4444444444444444,
              "#bd3786"
             ],
             [
              0.5555555555555556,
              "#d8576b"
             ],
             [
              0.6666666666666666,
              "#ed7953"
             ],
             [
              0.7777777777777778,
              "#fb9f3a"
             ],
             [
              0.8888888888888888,
              "#fdca26"
             ],
             [
              1,
              "#f0f921"
             ]
            ],
            "type": "histogram2d"
           }
          ],
          "histogram2dcontour": [
           {
            "colorbar": {
             "outlinewidth": 0,
             "ticks": ""
            },
            "colorscale": [
             [
              0,
              "#0d0887"
             ],
             [
              0.1111111111111111,
              "#46039f"
             ],
             [
              0.2222222222222222,
              "#7201a8"
             ],
             [
              0.3333333333333333,
              "#9c179e"
             ],
             [
              0.4444444444444444,
              "#bd3786"
             ],
             [
              0.5555555555555556,
              "#d8576b"
             ],
             [
              0.6666666666666666,
              "#ed7953"
             ],
             [
              0.7777777777777778,
              "#fb9f3a"
             ],
             [
              0.8888888888888888,
              "#fdca26"
             ],
             [
              1,
              "#f0f921"
             ]
            ],
            "type": "histogram2dcontour"
           }
          ],
          "mesh3d": [
           {
            "colorbar": {
             "outlinewidth": 0,
             "ticks": ""
            },
            "type": "mesh3d"
           }
          ],
          "parcoords": [
           {
            "line": {
             "colorbar": {
              "outlinewidth": 0,
              "ticks": ""
             }
            },
            "type": "parcoords"
           }
          ],
          "pie": [
           {
            "automargin": true,
            "type": "pie"
           }
          ],
          "scatter": [
           {
            "fillpattern": {
             "fillmode": "overlay",
             "size": 10,
             "solidity": 0.2
            },
            "type": "scatter"
           }
          ],
          "scatter3d": [
           {
            "line": {
             "colorbar": {
              "outlinewidth": 0,
              "ticks": ""
             }
            },
            "marker": {
             "colorbar": {
              "outlinewidth": 0,
              "ticks": ""
             }
            },
            "type": "scatter3d"
           }
          ],
          "scattercarpet": [
           {
            "marker": {
             "colorbar": {
              "outlinewidth": 0,
              "ticks": ""
             }
            },
            "type": "scattercarpet"
           }
          ],
          "scattergeo": [
           {
            "marker": {
             "colorbar": {
              "outlinewidth": 0,
              "ticks": ""
             }
            },
            "type": "scattergeo"
           }
          ],
          "scattergl": [
           {
            "marker": {
             "colorbar": {
              "outlinewidth": 0,
              "ticks": ""
             }
            },
            "type": "scattergl"
           }
          ],
          "scattermapbox": [
           {
            "marker": {
             "colorbar": {
              "outlinewidth": 0,
              "ticks": ""
             }
            },
            "type": "scattermapbox"
           }
          ],
          "scatterpolar": [
           {
            "marker": {
             "colorbar": {
              "outlinewidth": 0,
              "ticks": ""
             }
            },
            "type": "scatterpolar"
           }
          ],
          "scatterpolargl": [
           {
            "marker": {
             "colorbar": {
              "outlinewidth": 0,
              "ticks": ""
             }
            },
            "type": "scatterpolargl"
           }
          ],
          "scatterternary": [
           {
            "marker": {
             "colorbar": {
              "outlinewidth": 0,
              "ticks": ""
             }
            },
            "type": "scatterternary"
           }
          ],
          "surface": [
           {
            "colorbar": {
             "outlinewidth": 0,
             "ticks": ""
            },
            "colorscale": [
             [
              0,
              "#0d0887"
             ],
             [
              0.1111111111111111,
              "#46039f"
             ],
             [
              0.2222222222222222,
              "#7201a8"
             ],
             [
              0.3333333333333333,
              "#9c179e"
             ],
             [
              0.4444444444444444,
              "#bd3786"
             ],
             [
              0.5555555555555556,
              "#d8576b"
             ],
             [
              0.6666666666666666,
              "#ed7953"
             ],
             [
              0.7777777777777778,
              "#fb9f3a"
             ],
             [
              0.8888888888888888,
              "#fdca26"
             ],
             [
              1,
              "#f0f921"
             ]
            ],
            "type": "surface"
           }
          ],
          "table": [
           {
            "cells": {
             "fill": {
              "color": "#EBF0F8"
             },
             "line": {
              "color": "white"
             }
            },
            "header": {
             "fill": {
              "color": "#C8D4E3"
             },
             "line": {
              "color": "white"
             }
            },
            "type": "table"
           }
          ]
         },
         "layout": {
          "annotationdefaults": {
           "arrowcolor": "#2a3f5f",
           "arrowhead": 0,
           "arrowwidth": 1
          },
          "autotypenumbers": "strict",
          "coloraxis": {
           "colorbar": {
            "outlinewidth": 0,
            "ticks": ""
           }
          },
          "colorscale": {
           "diverging": [
            [
             0,
             "#8e0152"
            ],
            [
             0.1,
             "#c51b7d"
            ],
            [
             0.2,
             "#de77ae"
            ],
            [
             0.3,
             "#f1b6da"
            ],
            [
             0.4,
             "#fde0ef"
            ],
            [
             0.5,
             "#f7f7f7"
            ],
            [
             0.6,
             "#e6f5d0"
            ],
            [
             0.7,
             "#b8e186"
            ],
            [
             0.8,
             "#7fbc41"
            ],
            [
             0.9,
             "#4d9221"
            ],
            [
             1,
             "#276419"
            ]
           ],
           "sequential": [
            [
             0,
             "#0d0887"
            ],
            [
             0.1111111111111111,
             "#46039f"
            ],
            [
             0.2222222222222222,
             "#7201a8"
            ],
            [
             0.3333333333333333,
             "#9c179e"
            ],
            [
             0.4444444444444444,
             "#bd3786"
            ],
            [
             0.5555555555555556,
             "#d8576b"
            ],
            [
             0.6666666666666666,
             "#ed7953"
            ],
            [
             0.7777777777777778,
             "#fb9f3a"
            ],
            [
             0.8888888888888888,
             "#fdca26"
            ],
            [
             1,
             "#f0f921"
            ]
           ],
           "sequentialminus": [
            [
             0,
             "#0d0887"
            ],
            [
             0.1111111111111111,
             "#46039f"
            ],
            [
             0.2222222222222222,
             "#7201a8"
            ],
            [
             0.3333333333333333,
             "#9c179e"
            ],
            [
             0.4444444444444444,
             "#bd3786"
            ],
            [
             0.5555555555555556,
             "#d8576b"
            ],
            [
             0.6666666666666666,
             "#ed7953"
            ],
            [
             0.7777777777777778,
             "#fb9f3a"
            ],
            [
             0.8888888888888888,
             "#fdca26"
            ],
            [
             1,
             "#f0f921"
            ]
           ]
          },
          "colorway": [
           "#636efa",
           "#EF553B",
           "#00cc96",
           "#ab63fa",
           "#FFA15A",
           "#19d3f3",
           "#FF6692",
           "#B6E880",
           "#FF97FF",
           "#FECB52"
          ],
          "font": {
           "color": "#2a3f5f"
          },
          "geo": {
           "bgcolor": "white",
           "lakecolor": "white",
           "landcolor": "#E5ECF6",
           "showlakes": true,
           "showland": true,
           "subunitcolor": "white"
          },
          "hoverlabel": {
           "align": "left"
          },
          "hovermode": "closest",
          "mapbox": {
           "style": "light"
          },
          "paper_bgcolor": "white",
          "plot_bgcolor": "#E5ECF6",
          "polar": {
           "angularaxis": {
            "gridcolor": "white",
            "linecolor": "white",
            "ticks": ""
           },
           "bgcolor": "#E5ECF6",
           "radialaxis": {
            "gridcolor": "white",
            "linecolor": "white",
            "ticks": ""
           }
          },
          "scene": {
           "xaxis": {
            "backgroundcolor": "#E5ECF6",
            "gridcolor": "white",
            "gridwidth": 2,
            "linecolor": "white",
            "showbackground": true,
            "ticks": "",
            "zerolinecolor": "white"
           },
           "yaxis": {
            "backgroundcolor": "#E5ECF6",
            "gridcolor": "white",
            "gridwidth": 2,
            "linecolor": "white",
            "showbackground": true,
            "ticks": "",
            "zerolinecolor": "white"
           },
           "zaxis": {
            "backgroundcolor": "#E5ECF6",
            "gridcolor": "white",
            "gridwidth": 2,
            "linecolor": "white",
            "showbackground": true,
            "ticks": "",
            "zerolinecolor": "white"
           }
          },
          "shapedefaults": {
           "line": {
            "color": "#2a3f5f"
           }
          },
          "ternary": {
           "aaxis": {
            "gridcolor": "white",
            "linecolor": "white",
            "ticks": ""
           },
           "baxis": {
            "gridcolor": "white",
            "linecolor": "white",
            "ticks": ""
           },
           "bgcolor": "#E5ECF6",
           "caxis": {
            "gridcolor": "white",
            "linecolor": "white",
            "ticks": ""
           }
          },
          "title": {
           "x": 0.05
          },
          "xaxis": {
           "automargin": true,
           "gridcolor": "white",
           "linecolor": "white",
           "ticks": "",
           "title": {
            "standoff": 15
           },
           "zerolinecolor": "white",
           "zerolinewidth": 2
          },
          "yaxis": {
           "automargin": true,
           "gridcolor": "white",
           "linecolor": "white",
           "ticks": "",
           "title": {
            "standoff": 15
           },
           "zerolinecolor": "white",
           "zerolinewidth": 2
          }
         }
        },
        "xaxis": {
         "anchor": "y",
         "domain": [
          0,
          1
         ],
         "title": {
          "text": "index"
         }
        },
        "yaxis": {
         "anchor": "x",
         "domain": [
          0,
          1
         ],
         "title": {
          "text": "value"
         }
        }
       }
      }
     },
     "metadata": {},
     "output_type": "display_data"
    }
   ],
   "source": [
    "import plotly.express as px\n",
    "\n",
    "px.scatter(pd.DataFrame([[1, 2], [3, 4]]))"
   ]
  },
  {
   "cell_type": "code",
   "execution_count": 3,
   "metadata": {},
   "outputs": [
    {
     "name": "stderr",
     "output_type": "stream",
     "text": [
      "DEBUG:snowflake.snowpark._internal.server_connection:Execute query [queryID: 01ba3317-080e-cdfe-000c-a908525fb1af]  SELECT \"__index__\", \"feature1\", \"feature2\" FROM ( SELECT \"__index__\", \"feature1\", \"feature2\", \"__row_position__\" FROM ( SELECT $1 AS \"__index__\", $2 AS \"feature1\", $3 AS \"feature2\", $4 AS \"target\", $5 AS \"__row_position__\" FROM  VALUES (0 :: INT, 1 :: INT, 2 :: INT, 0 :: INT, 0 :: INT), (1 :: INT, 5 :: INT, 4 :: INT, 0 :: INT, 1 :: INT), (2 :: INT, 3 :: INT, 1 :: INT, 1 :: INT, 2 :: INT), (3 :: INT, 4 :: INT, 3 :: INT, 0 :: INT, 3 :: INT), (4 :: INT, 4 :: INT, 5 :: INT, 1 :: INT, 4 :: INT), (5 :: INT, 6 :: INT, 7 :: INT, 1 :: INT, 5 :: INT), (6 :: INT, 7 :: INT, 6 :: INT, 1 :: INT, 6 :: INT), (7 :: INT, 2 :: INT, 3 :: INT, 0 :: INT, 7 :: INT), (8 :: INT, 9 :: INT, 10 :: INT, 1 :: INT, 8 :: INT), (9 :: INT, 70 :: INT, 9 :: INT, 0 :: INT, 9 :: INT)) WHERE (((\"__row_position__\" >= 0) AND (\"__row_position__\" <= (8 - 1))) AND TRUE) LIMIT 8) ORDER BY \"__row_position__\" ASC NULLS LAST\n",
      "DEBUG:snowflake.snowpark._internal.server_connection:Execute query [queryID: 01ba3317-080e-cc93-000c-a908525fa757]  SELECT \"__index__\", \"feature1\", \"feature2\" FROM ( SELECT \"__index__\", \"feature1\", \"feature2\", \"__row_position__\" FROM ( SELECT $1 AS \"__index__\", $2 AS \"feature1\", $3 AS \"feature2\", $4 AS \"target\", $5 AS \"__row_position__\" FROM  VALUES (0 :: INT, 1 :: INT, 2 :: INT, 0 :: INT, 0 :: INT), (1 :: INT, 5 :: INT, 4 :: INT, 0 :: INT, 1 :: INT), (2 :: INT, 3 :: INT, 1 :: INT, 1 :: INT, 2 :: INT), (3 :: INT, 4 :: INT, 3 :: INT, 0 :: INT, 3 :: INT), (4 :: INT, 4 :: INT, 5 :: INT, 1 :: INT, 4 :: INT), (5 :: INT, 6 :: INT, 7 :: INT, 1 :: INT, 5 :: INT), (6 :: INT, 7 :: INT, 6 :: INT, 1 :: INT, 6 :: INT), (7 :: INT, 2 :: INT, 3 :: INT, 0 :: INT, 7 :: INT), (8 :: INT, 9 :: INT, 10 :: INT, 1 :: INT, 8 :: INT), (9 :: INT, 70 :: INT, 9 :: INT, 0 :: INT, 9 :: INT)) WHERE (((\"__row_position__\" >= 0) AND (\"__row_position__\" <= (8 - 1))) AND TRUE) LIMIT 8) ORDER BY \"__row_position__\" ASC NULLS LAST\n",
      "DEBUG:snowflake.snowpark._internal.server_connection:Execute query [queryID: 01ba3317-080e-cc92-000c-a908525fc05f]  SELECT \"__index__\", \"target\" FROM ( SELECT \"__index__\", \"target\", \"__row_position__\" FROM ( SELECT $1 AS \"__index__\", $2 AS \"feature1\", $3 AS \"feature2\", $4 AS \"target\", $5 AS \"__row_position__\" FROM  VALUES (0 :: INT, 1 :: INT, 2 :: INT, 0 :: INT, 0 :: INT), (1 :: INT, 5 :: INT, 4 :: INT, 0 :: INT, 1 :: INT), (2 :: INT, 3 :: INT, 1 :: INT, 1 :: INT, 2 :: INT), (3 :: INT, 4 :: INT, 3 :: INT, 0 :: INT, 3 :: INT), (4 :: INT, 4 :: INT, 5 :: INT, 1 :: INT, 4 :: INT), (5 :: INT, 6 :: INT, 7 :: INT, 1 :: INT, 5 :: INT), (6 :: INT, 7 :: INT, 6 :: INT, 1 :: INT, 6 :: INT), (7 :: INT, 2 :: INT, 3 :: INT, 0 :: INT, 7 :: INT), (8 :: INT, 9 :: INT, 10 :: INT, 1 :: INT, 8 :: INT), (9 :: INT, 70 :: INT, 9 :: INT, 0 :: INT, 9 :: INT)) WHERE (((\"__row_position__\" >= 0) AND (\"__row_position__\" <= (8 - 1))) AND TRUE) LIMIT 8) ORDER BY \"__row_position__\" ASC NULLS LAST\n",
      "DEBUG:snowflake.snowpark._internal.server_connection:Execute query [queryID: 01ba3317-080e-d0dd-000c-a908525f9f57]  SELECT \"__index__\", \"feature1\", \"feature2\" FROM ( SELECT \"__index__\", \"feature1\", \"feature2\", \"__row_position__\", count(1) OVER (  ) AS \"__row_count__\" FROM ( SELECT $1 AS \"__index__\", $2 AS \"feature1\", $3 AS \"feature2\", $4 AS \"target\", $5 AS \"__row_position__\" FROM  VALUES (0 :: INT, 1 :: INT, 2 :: INT, 0 :: INT, 0 :: INT), (1 :: INT, 5 :: INT, 4 :: INT, 0 :: INT, 1 :: INT), (2 :: INT, 3 :: INT, 1 :: INT, 1 :: INT, 2 :: INT), (3 :: INT, 4 :: INT, 3 :: INT, 0 :: INT, 3 :: INT), (4 :: INT, 4 :: INT, 5 :: INT, 1 :: INT, 4 :: INT), (5 :: INT, 6 :: INT, 7 :: INT, 1 :: INT, 5 :: INT), (6 :: INT, 7 :: INT, 6 :: INT, 1 :: INT, 6 :: INT), (7 :: INT, 2 :: INT, 3 :: INT, 0 :: INT, 7 :: INT), (8 :: INT, 9 :: INT, 10 :: INT, 1 :: INT, 8 :: INT), (9 :: INT, 70 :: INT, 9 :: INT, 0 :: INT, 9 :: INT))) WHERE (((\"__row_position__\" >= 8) AND (\"__row_position__\" <= (\"__row_count__\" - 1))) AND TRUE) ORDER BY \"__row_position__\" ASC NULLS LAST\n",
      "DEBUG:snowflake.snowpark._internal.server_connection:Execute query [queryID: 01ba3317-080e-cdfe-000c-a908525fb2b3]  SELECT \"__index__\", \"feature1\", \"feature2\" FROM ( SELECT \"__index__\", \"feature1\", \"feature2\", \"__row_position__\", count(1) OVER (  ) AS \"__row_count__\" FROM ( SELECT $1 AS \"__index__\", $2 AS \"feature1\", $3 AS \"feature2\", $4 AS \"target\", $5 AS \"__row_position__\" FROM  VALUES (0 :: INT, 1 :: INT, 2 :: INT, 0 :: INT, 0 :: INT), (1 :: INT, 5 :: INT, 4 :: INT, 0 :: INT, 1 :: INT), (2 :: INT, 3 :: INT, 1 :: INT, 1 :: INT, 2 :: INT), (3 :: INT, 4 :: INT, 3 :: INT, 0 :: INT, 3 :: INT), (4 :: INT, 4 :: INT, 5 :: INT, 1 :: INT, 4 :: INT), (5 :: INT, 6 :: INT, 7 :: INT, 1 :: INT, 5 :: INT), (6 :: INT, 7 :: INT, 6 :: INT, 1 :: INT, 6 :: INT), (7 :: INT, 2 :: INT, 3 :: INT, 0 :: INT, 7 :: INT), (8 :: INT, 9 :: INT, 10 :: INT, 1 :: INT, 8 :: INT), (9 :: INT, 70 :: INT, 9 :: INT, 0 :: INT, 9 :: INT))) WHERE (((\"__row_position__\" >= 8) AND (\"__row_position__\" <= (\"__row_count__\" - 1))) AND TRUE) ORDER BY \"__row_position__\" ASC NULLS LAST\n",
      "DEBUG:snowflake.snowpark._internal.server_connection:Execute query [queryID: 01ba3317-080e-cc92-000c-a908525fc0e7]  SELECT count(1) OVER (  ) AS \"__row_count_doo8__\" FROM ( SELECT  *  FROM ( SELECT \"__index__\", \"feature1\", \"feature2\", \"__row_position__\", count(1) OVER (  ) AS \"__row_count__\" FROM ( SELECT $1 AS \"__index__\", $2 AS \"feature1\", $3 AS \"feature2\", $4 AS \"target\", $5 AS \"__row_position__\" FROM  VALUES (0 :: INT, 1 :: INT, 2 :: INT, 0 :: INT, 0 :: INT), (1 :: INT, 5 :: INT, 4 :: INT, 0 :: INT, 1 :: INT), (2 :: INT, 3 :: INT, 1 :: INT, 1 :: INT, 2 :: INT), (3 :: INT, 4 :: INT, 3 :: INT, 0 :: INT, 3 :: INT), (4 :: INT, 4 :: INT, 5 :: INT, 1 :: INT, 4 :: INT), (5 :: INT, 6 :: INT, 7 :: INT, 1 :: INT, 5 :: INT), (6 :: INT, 7 :: INT, 6 :: INT, 1 :: INT, 6 :: INT), (7 :: INT, 2 :: INT, 3 :: INT, 0 :: INT, 7 :: INT), (8 :: INT, 9 :: INT, 10 :: INT, 1 :: INT, 8 :: INT), (9 :: INT, 70 :: INT, 9 :: INT, 0 :: INT, 9 :: INT))) WHERE (((\"__row_position__\" >= 8) AND (\"__row_position__\" <= (\"__row_count__\" - 1))) AND TRUE)) LIMIT 1\n"
     ]
    },
    {
     "data": {
      "text/plain": [
       "array([1, 1])"
      ]
     },
     "execution_count": 3,
     "metadata": {},
     "output_type": "execute_result"
    }
   ],
   "source": [
    "from sklearn.discriminant_analysis import LinearDiscriminantAnalysis\n",
    "\n",
    "df = pd.DataFrame(\n",
    "    {\n",
    "        \"feature1\": [1, 5, 3, 4, 4, 6, 7, 2, 9, 70],\n",
    "        \"feature2\": [2, 4, 1, 3, 5, 7, 6, 3, 10, 9],\n",
    "        \"target\": [0, 0, 1, 0, 1, 1, 1, 0, 1, 0],\n",
    "    }\n",
    ")\n",
    "\n",
    "train_size = 8\n",
    "X = df[[\"feature1\", \"feature2\"]]\n",
    "y = df[\"target\"]\n",
    "train_size = 8\n",
    "X_train, X_test = X.iloc[:train_size], X.iloc[train_size:]\n",
    "y_train = y.iloc[:train_size]\n",
    "LinearDiscriminantAnalysis().fit(X_train, y_train).predict(X_test)\n"
   ]
  }
 ],
 "metadata": {
  "kernelspec": {
   "display_name": "snowpark-python-dev",
   "language": "python",
   "name": "python3"
  },
  "language_info": {
   "codemirror_mode": {
    "name": "ipython",
    "version": 3
   },
   "file_extension": ".py",
   "mimetype": "text/x-python",
   "name": "python",
   "nbconvert_exporter": "python",
   "pygments_lexer": "ipython3",
   "version": "3.9.19"
  }
 },
 "nbformat": 4,
 "nbformat_minor": 2
}
