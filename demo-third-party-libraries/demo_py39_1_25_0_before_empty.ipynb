{
 "cells": [
  {
   "cell_type": "markdown",
   "id": "73d3cbf6",
   "metadata": {},
   "source": [
    "# Setup"
   ]
  },
  {
   "cell_type": "code",
   "execution_count": null,
   "id": "0ce74b74-7979-41cd-8c31-14c6a3ec8d4e",
   "metadata": {
    "ExecuteTime": {
     "end_time": "2025-02-18T00:30:18.695170Z",
     "start_time": "2025-02-18T00:30:15.735874Z"
    }
   },
   "outputs": [],
   "source": [
    "from snowflake.snowpark import Session\n",
    "import modin.pandas as pd\n",
    "import snowflake.snowpark.modin.plugin\n",
    "session = Session.builder.getOrCreate()"
   ]
  },
  {
   "cell_type": "markdown",
   "id": "2bf48d04",
   "metadata": {},
   "source": [
    "## plotly"
   ]
  },
  {
   "cell_type": "markdown",
   "id": "6c7f924d",
   "metadata": {},
   "source": [
    "### Cannot plot with `plotly.express.scatter()`"
   ]
  },
  {
   "cell_type": "code",
   "execution_count": null,
   "id": "4b494d84-731b-441e-a6ac-65e59c1d2fba",
   "metadata": {
    "ExecuteTime": {
     "end_time": "2025-02-18T00:30:28.558651Z",
     "start_time": "2025-02-18T00:30:28.452731Z"
    }
   },
   "outputs": [],
   "source": [
    "import plotly.express as px\n",
    "\n",
    "df  = pd.DataFrame([[1, 2], [3, 4]])\n",
    "\n",
    "px.scatter(df)"
   ]
  },
  {
   "cell_type": "markdown",
   "id": "67ca732d",
   "metadata": {},
   "source": [
    "### workaround: convert Snowpark pandas dataframe to pandas explicitly"
   ]
  },
  {
   "cell_type": "code",
   "execution_count": null,
   "id": "3166abe0",
   "metadata": {},
   "outputs": [],
   "source": [
    "px.scatter(df.to_pandas())"
   ]
  },
  {
   "cell_type": "markdown",
   "id": "91797ef2",
   "metadata": {},
   "source": [
    "## scikit-learn"
   ]
  },
  {
   "cell_type": "markdown",
   "id": "843d8f8d",
   "metadata": {},
   "source": [
    "### cannot fit a model "
   ]
  },
  {
   "cell_type": "code",
   "execution_count": null,
   "id": "29e7537e-8cc8-4fc8-8d31-7ce827b35153",
   "metadata": {},
   "outputs": [],
   "source": [
    "from sklearn.discriminant_analysis import LinearDiscriminantAnalysis\n",
    "\n",
    "df = pd.DataFrame(\n",
    "    {\n",
    "        \"feature1\": [1, 5, 3, 4, 4, 6, 7, 2, 9, 70],\n",
    "        \"feature2\": [2, 4, 1, 3, 5, 7, 6, 3, 10, 9],\n",
    "        \"target\": [0, 0, 1, 0, 1, 1, 1, 0, 1, 0],\n",
    "    }\n",
    ")\n",
    "\n",
    "train_size = 8\n",
    "X = df[[\"feature1\", \"feature2\"]]\n",
    "y = df[\"target\"]\n",
    "train_size = 8\n",
    "X_train, X_test = X.iloc[:train_size], X.iloc[train_size:]\n",
    "y_train = y.iloc[:train_size]\n",
    "\n",
    "\n",
    "LinearDiscriminantAnalysis().fit(X_train, y_train)"
   ]
  },
  {
   "cell_type": "markdown",
   "id": "1b25121d-df9a-4d3e-ad50-6cc50f1f3718",
   "metadata": {},
   "source": [
    "### Workaround: convert Snowpark pandas inputs to pandas explicitly"
   ]
  },
  {
   "cell_type": "code",
   "execution_count": null,
   "id": "371afbe1-fac1-4604-a42a-a9c728280db3",
   "metadata": {},
   "outputs": [],
   "source": [
    "LinearDiscriminantAnalysis().fit(X_train.to_pandas(), y_train.to_pandas()).predict(X_test.to_pandas())"
   ]
  },
  {
   "cell_type": "code",
   "execution_count": null,
   "id": "4a79f7fd",
   "metadata": {},
   "outputs": [],
   "source": []
  }
 ],
 "metadata": {
  "kernelspec": {
   "display_name": "demo-py39-1.25.0-before",
   "language": "python",
   "name": "python3"
  },
  "language_info": {
   "codemirror_mode": {
    "name": "ipython",
    "version": 3
   },
   "file_extension": ".py",
   "mimetype": "text/x-python",
   "name": "python",
   "nbconvert_exporter": "python",
   "pygments_lexer": "ipython3",
   "version": "3.9.21"
  }
 },
 "nbformat": 4,
 "nbformat_minor": 5
}
