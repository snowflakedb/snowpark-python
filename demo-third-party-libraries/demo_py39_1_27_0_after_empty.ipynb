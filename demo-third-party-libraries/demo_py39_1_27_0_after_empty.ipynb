{
 "cells": [
  {
   "cell_type": "markdown",
   "id": "4df0fe1e",
   "metadata": {},
   "source": [
    "# Setup"
   ]
  },
  {
   "cell_type": "code",
   "execution_count": null,
   "id": "13b83544-1a4f-4298-905e-8aa3578426b0",
   "metadata": {},
   "outputs": [],
   "source": [
    "from snowflake.snowpark import Session\n",
    "import modin.pandas as pd\n",
    "import snowflake.snowpark.modin.plugin\n",
    "import numpy as np\n",
    "\n",
    "session = Session.builder.getOrCreate()"
   ]
  },
  {
   "cell_type": "markdown",
   "id": "23e9d89b-1ccb-4056-a737-6df02fb5e3fd",
   "metadata": {},
   "source": [
    "# Visualizing and Predicting House Price with plotly and scikit-learn"
   ]
  },
  {
   "cell_type": "code",
   "execution_count": null,
   "id": "50b85004-001f-46ac-89b8-a097ee58669f",
   "metadata": {},
   "outputs": [],
   "source": [
    "np.random.seed(42)\n",
    "\n",
    "data = {\n",
    "    'square_feet': np.random.randint(500, 1000, size=100),\n",
    "    'num_rooms': np.random.randint(2, 5, size=100),\n",
    "    'price': np.random.randint(100000, 500000, size=100)\n",
    "}\n",
    "\n",
    "df = pd.DataFrame(data)\n"
   ]
  },
  {
   "cell_type": "code",
   "execution_count": null,
   "id": "c1583831-59ce-4c68-81a6-65f257c6db03",
   "metadata": {},
   "outputs": [],
   "source": [
    "import plotly.express as px\n",
    "fig = px.scatter(df, x='square_feet', y='price', color='num_rooms', \n",
    "                 size='num_rooms', title=\"House Price vs Square Feet\",\n",
    "                 labels={'square_feet': 'Square Footage', 'price': 'Price ($)', 'num_rooms': 'Number of Rooms'})\n",
    "fig.show()"
   ]
  },
  {
   "cell_type": "code",
   "execution_count": null,
   "id": "27dcd1be-1159-43e9-9ec1-a15cc319c2d9",
   "metadata": {},
   "outputs": [],
   "source": [
    "from sklearn.model_selection import train_test_split"
   ]
  },
  {
   "cell_type": "code",
   "execution_count": null,
   "id": "d950b806-d85c-44fb-8ba0-58cdde9af17b",
   "metadata": {},
   "outputs": [],
   "source": [
    "X = df[['square_feet', 'num_rooms']]\n",
    "y = df['price']\n",
    "\n",
    "X_train, X_test, y_train, y_test = train_test_split(X, y, test_size=0.2, random_state=42)"
   ]
  },
  {
   "cell_type": "code",
   "execution_count": null,
   "id": "d3c4105d-a3f6-4ed7-a07a-497fb7d5d35e",
   "metadata": {},
   "outputs": [],
   "source": [
    "from sklearn.linear_model import LinearRegression\n",
    "\n",
    "model = LinearRegression()\n",
    "model.fit(X_train, y_train)"
   ]
  },
  {
   "cell_type": "code",
   "execution_count": null,
   "id": "c7e9098d-5e26-45e2-99f5-3734f997e787",
   "metadata": {},
   "outputs": [],
   "source": [
    "from sklearn.metrics import mean_squared_error\n",
    "\n",
    "y_pred = model.predict(X_test)\n",
    "\n",
    "mse = mean_squared_error(y_test, y_pred)\n",
    "rmse = np.sqrt(mse)\n",
    "\n",
    "print(f\"Root Mean Squared Error (RMSE): {rmse:.2f}\")"
   ]
  },
  {
   "cell_type": "code",
   "execution_count": null,
   "id": "ce0727bd-ee8d-4208-a4bc-7aad525d1745",
   "metadata": {},
   "outputs": [],
   "source": [
    "results_df = pd.DataFrame({\n",
    "    'True Price': y_test,\n",
    "    'Predicted Price': y_pred\n",
    "})\n",
    "\n",
    "fig2 = px.scatter(results_df, x='True Price', y='Predicted Price', \n",
    "                  title=\"True Price vs Predicted Price\", \n",
    "                  labels={'True Price': 'True Price ($)', 'Predicted Price': 'Predicted Price ($)'},\n",
    "                 )\n",
    "\n",
    "fig2.add_shape(\n",
    "    type='line',\n",
    "    x0=results_df['True Price'].min(), x1=results_df['True Price'].max(),\n",
    "    y0=results_df['True Price'].min(), y1=results_df['True Price'].max(),\n",
    "    line=dict(color='Red', dash='dash')\n",
    ")\n",
    "\n",
    "fig2.show()"
   ]
  },
  {
   "cell_type": "code",
   "execution_count": null,
   "id": "d9a800cc",
   "metadata": {},
   "outputs": [],
   "source": []
  }
 ],
 "metadata": {
  "kernelspec": {
   "display_name": "demo-py39-1.27.0-after",
   "language": "python",
   "name": "python3"
  },
  "language_info": {
   "codemirror_mode": {
    "name": "ipython",
    "version": 3
   },
   "file_extension": ".py",
   "mimetype": "text/x-python",
   "name": "python",
   "nbconvert_exporter": "python",
   "pygments_lexer": "ipython3",
   "version": "3.9.21"
  }
 },
 "nbformat": 4,
 "nbformat_minor": 5
}
