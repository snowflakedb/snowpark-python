{
 "cells": [
  {
   "cell_type": "markdown",
   "id": "143e5d4a-ca70-4ac8-a61e-be7c93c17d20",
   "metadata": {},
   "source": [
    "# Snowpark pandas Time series / date functionality"
   ]
  },
  {
   "cell_type": "code",
   "execution_count": 13,
   "id": "5ece8277-dc52-40f3-913f-1a3145df6bdc",
   "metadata": {},
   "outputs": [],
   "source": [
    "from pathlib import Path\n",
    "import sys\n",
    "from snowflake.snowpark import Session\n",
    "import modin.pandas as pd\n",
    "import snowflake.snowpark.modin.plugin\n",
    "\n",
    "connection_parameters_path = str(Path(\"__file__\").absolute().parent.parent.parent.parent)\n",
    "sys.path.append(connection_parameters_path)\n",
    "from tests.parameters import CONNECTION_PARAMETERS\n",
    "\n",
    "session = Session.builder.configs(CONNECTION_PARAMETERS).create()"
   ]
  },
  {
   "cell_type": "code",
   "execution_count": 14,
   "id": "c127fb50-c570-46fb-a074-6e8eb3ede058",
   "metadata": {},
   "outputs": [],
   "source": [
    "import datetime\n",
    "import numpy as np"
   ]
  },
  {
   "cell_type": "markdown",
   "id": "02d7afa0-0224-4033-b2c7-465b67642201",
   "metadata": {},
   "source": [
    "### Parsing time series information from various sources and formats"
   ]
  },
  {
   "cell_type": "code",
   "execution_count": 15,
   "id": "8d5f4a0a-fe5c-4a94-94ba-f16d258f92a6",
   "metadata": {},
   "outputs": [
    {
     "data": {
      "text/plain": [
       "DatetimeIndex(['2018-01-01', '2018-01-01', '2018-01-01'], dtype='datetime64[ns]', freq=None)"
      ]
     },
     "execution_count": 15,
     "metadata": {},
     "output_type": "execute_result"
    }
   ],
   "source": [
    "dti = pd.to_datetime(\n",
    "    [\"1/1/2018\", np.datetime64(\"2018-01-01\"), datetime.datetime(2018, 1, 1)]\n",
    ")\n",
    "dti"
   ]
  },
  {
   "cell_type": "markdown",
   "id": "1df6a98f-a79b-4e90-b314-0cdf4f94fbfd",
   "metadata": {},
   "source": [
    "### Generate sequences of fixed-frequency dates and time spans"
   ]
  },
  {
   "cell_type": "code",
   "execution_count": 16,
   "id": "28d01637-1093-43ea-a791-bc167243530e",
   "metadata": {},
   "outputs": [
    {
     "ename": "SnowparkSessionException",
     "evalue": "(1409): More than one active session is detected. When you call function 'udf' or use decorator '@udf', you must specify the 'session' parameter if you created multiple sessions.Alternatively, you can use 'session.udf.register' to register UDFs",
     "output_type": "error",
     "traceback": [
      "\u001b[0;31m---------------------------------------------------------------------------\u001b[0m",
      "\u001b[0;31mSnowparkSessionException\u001b[0m                  Traceback (most recent call last)",
      "Cell \u001b[0;32mIn[16], line 1\u001b[0m\n\u001b[0;32m----> 1\u001b[0m dti \u001b[38;5;241m=\u001b[39m \u001b[43mpd\u001b[49m\u001b[38;5;241;43m.\u001b[39;49m\u001b[43mdate_range\u001b[49m\u001b[43m(\u001b[49m\u001b[38;5;124;43m\"\u001b[39;49m\u001b[38;5;124;43m2018-01-01\u001b[39;49m\u001b[38;5;124;43m\"\u001b[39;49m\u001b[43m,\u001b[49m\u001b[43m \u001b[49m\u001b[43mperiods\u001b[49m\u001b[38;5;241;43m=\u001b[39;49m\u001b[38;5;241;43m3\u001b[39;49m\u001b[43m,\u001b[49m\u001b[43m \u001b[49m\u001b[43mfreq\u001b[49m\u001b[38;5;241;43m=\u001b[39;49m\u001b[38;5;124;43m\"\u001b[39;49m\u001b[38;5;124;43mh\u001b[39;49m\u001b[38;5;124;43m\"\u001b[39;49m\u001b[43m)\u001b[49m\n\u001b[1;32m      2\u001b[0m dti\n",
      "File \u001b[0;32m~/Desktop/snowpark-python/src/snowflake/snowpark/modin/plugin/_internal/telemetry.py:454\u001b[0m, in \u001b[0;36msnowpark_pandas_telemetry_standalone_function_decorator.<locals>.wrap\u001b[0;34m(*args, **kwargs)\u001b[0m\n\u001b[1;32m    447\u001b[0m \u001b[38;5;129m@functools\u001b[39m\u001b[38;5;241m.\u001b[39mwraps(func)\n\u001b[1;32m    448\u001b[0m \u001b[38;5;28;01mdef\u001b[39;00m \u001b[38;5;21mwrap\u001b[39m(\u001b[38;5;241m*\u001b[39margs, \u001b[38;5;241m*\u001b[39m\u001b[38;5;241m*\u001b[39mkwargs):  \u001b[38;5;66;03m# type: ignore\u001b[39;00m\n\u001b[1;32m    449\u001b[0m     \u001b[38;5;66;03m# add a `type: ignore` for this function definition because the\u001b[39;00m\n\u001b[0;32m   (...)\u001b[0m\n\u001b[1;32m    452\u001b[0m     \u001b[38;5;66;03m# hints in-line here. We'll fix up the type with a `cast` before\u001b[39;00m\n\u001b[1;32m    453\u001b[0m     \u001b[38;5;66;03m# returning the function.\u001b[39;00m\n\u001b[0;32m--> 454\u001b[0m     \u001b[38;5;28;01mreturn\u001b[39;00m \u001b[43m_telemetry_helper\u001b[49m\u001b[43m(\u001b[49m\n\u001b[1;32m    455\u001b[0m \u001b[43m        \u001b[49m\u001b[43mfunc\u001b[49m\u001b[38;5;241;43m=\u001b[39;49m\u001b[43mfunc\u001b[49m\u001b[43m,\u001b[49m\n\u001b[1;32m    456\u001b[0m \u001b[43m        \u001b[49m\u001b[43margs\u001b[49m\u001b[38;5;241;43m=\u001b[39;49m\u001b[43margs\u001b[49m\u001b[43m,\u001b[49m\n\u001b[1;32m    457\u001b[0m \u001b[43m        \u001b[49m\u001b[43mkwargs\u001b[49m\u001b[38;5;241;43m=\u001b[39;49m\u001b[43mkwargs\u001b[49m\u001b[43m,\u001b[49m\n\u001b[1;32m    458\u001b[0m \u001b[43m        \u001b[49m\u001b[43mis_standalone_function\u001b[49m\u001b[38;5;241;43m=\u001b[39;49m\u001b[38;5;28;43;01mTrue\u001b[39;49;00m\u001b[43m,\u001b[49m\n\u001b[1;32m    459\u001b[0m \u001b[43m    \u001b[49m\u001b[43m)\u001b[49m\n",
      "File \u001b[0;32m~/Desktop/snowpark-python/src/snowflake/snowpark/modin/plugin/_internal/telemetry.py:283\u001b[0m, in \u001b[0;36m_telemetry_helper\u001b[0;34m(func, args, kwargs, is_standalone_function, property_name, property_method_type)\u001b[0m\n\u001b[1;32m    281\u001b[0m         session \u001b[38;5;241m=\u001b[39m snowflake\u001b[38;5;241m.\u001b[39msnowpark\u001b[38;5;241m.\u001b[39msession\u001b[38;5;241m.\u001b[39m_get_active_session()\n\u001b[1;32m    282\u001b[0m     \u001b[38;5;28;01mexcept\u001b[39;00m SnowparkSessionException:\n\u001b[0;32m--> 283\u001b[0m         \u001b[38;5;28;01mreturn\u001b[39;00m \u001b[43m_run_func_helper\u001b[49m\u001b[43m(\u001b[49m\u001b[43mfunc\u001b[49m\u001b[43m,\u001b[49m\u001b[43m \u001b[49m\u001b[43margs\u001b[49m\u001b[43m,\u001b[49m\u001b[43m \u001b[49m\u001b[43mkwargs\u001b[49m\u001b[43m)\u001b[49m\n\u001b[1;32m    284\u001b[0m     class_prefix \u001b[38;5;241m=\u001b[39m (\n\u001b[1;32m    285\u001b[0m         func\u001b[38;5;241m.\u001b[39m\u001b[38;5;18m__module__\u001b[39m\u001b[38;5;241m.\u001b[39msplit(\u001b[38;5;124m\"\u001b[39m\u001b[38;5;124m.\u001b[39m\u001b[38;5;124m\"\u001b[39m)[\u001b[38;5;241m-\u001b[39m\u001b[38;5;241m1\u001b[39m]\n\u001b[1;32m    286\u001b[0m         \u001b[38;5;28;01mif\u001b[39;00m is_standalone_function\n\u001b[1;32m    287\u001b[0m         \u001b[38;5;28;01melse\u001b[39;00m args[\u001b[38;5;241m0\u001b[39m]\u001b[38;5;241m.\u001b[39m\u001b[38;5;18m__name__\u001b[39m\n\u001b[1;32m    288\u001b[0m     )\n\u001b[1;32m    289\u001b[0m \u001b[38;5;66;03m# Else the decorated func is an instance method:\u001b[39;00m\n\u001b[1;32m    290\u001b[0m \u001b[38;5;28;01melse\u001b[39;00m:\n",
      "File \u001b[0;32m~/Desktop/snowpark-python/src/snowflake/snowpark/modin/plugin/_internal/telemetry.py:182\u001b[0m, in \u001b[0;36m_run_func_helper\u001b[0;34m(func, args, kwargs)\u001b[0m\n\u001b[1;32m    177\u001b[0m     \u001b[38;5;28;01mreturn\u001b[39;00m func(\u001b[38;5;241m*\u001b[39margs, \u001b[38;5;241m*\u001b[39m\u001b[38;5;241m*\u001b[39mkwargs)\n\u001b[1;32m    178\u001b[0m \u001b[38;5;28;01mexcept\u001b[39;00m \u001b[38;5;167;01mException\u001b[39;00m \u001b[38;5;28;01mas\u001b[39;00m e:\n\u001b[1;32m    179\u001b[0m     \u001b[38;5;66;03m# Raise error caused by func, i.e. the api call\u001b[39;00m\n\u001b[1;32m    180\u001b[0m     \u001b[38;5;66;03m# while suppressing Telemetry caused exceptions like SnowparkSessionException from telemetry in the stack trace.\u001b[39;00m\n\u001b[1;32m    181\u001b[0m     \u001b[38;5;66;03m# This prevents from adding telemetry error messages to regular API calls error messages.\u001b[39;00m\n\u001b[0;32m--> 182\u001b[0m     \u001b[38;5;28;01mraise\u001b[39;00m e \u001b[38;5;28;01mfrom\u001b[39;00m \u001b[38;5;28;01mNone\u001b[39;00m\n",
      "File \u001b[0;32m~/Desktop/snowpark-python/src/snowflake/snowpark/modin/plugin/_internal/telemetry.py:177\u001b[0m, in \u001b[0;36m_run_func_helper\u001b[0;34m(func, args, kwargs)\u001b[0m\n\u001b[1;32m    165\u001b[0m \u001b[38;5;250m\u001b[39m\u001b[38;5;124;03m\"\"\"\u001b[39;00m\n\u001b[1;32m    166\u001b[0m \u001b[38;5;124;03mThe helper function that run func, suppressing the possible previous telemetry exception context.\u001b[39;00m\n\u001b[1;32m    167\u001b[0m \n\u001b[0;32m   (...)\u001b[0m\n\u001b[1;32m    174\u001b[0m \u001b[38;5;124;03m    The return value of the function\u001b[39;00m\n\u001b[1;32m    175\u001b[0m \u001b[38;5;124;03m\"\"\"\u001b[39;00m\n\u001b[1;32m    176\u001b[0m \u001b[38;5;28;01mtry\u001b[39;00m:\n\u001b[0;32m--> 177\u001b[0m     \u001b[38;5;28;01mreturn\u001b[39;00m \u001b[43mfunc\u001b[49m\u001b[43m(\u001b[49m\u001b[38;5;241;43m*\u001b[39;49m\u001b[43margs\u001b[49m\u001b[43m,\u001b[49m\u001b[43m \u001b[49m\u001b[38;5;241;43m*\u001b[39;49m\u001b[38;5;241;43m*\u001b[39;49m\u001b[43mkwargs\u001b[49m\u001b[43m)\u001b[49m\n\u001b[1;32m    178\u001b[0m \u001b[38;5;28;01mexcept\u001b[39;00m \u001b[38;5;167;01mException\u001b[39;00m \u001b[38;5;28;01mas\u001b[39;00m e:\n\u001b[1;32m    179\u001b[0m     \u001b[38;5;66;03m# Raise error caused by func, i.e. the api call\u001b[39;00m\n\u001b[1;32m    180\u001b[0m     \u001b[38;5;66;03m# while suppressing Telemetry caused exceptions like SnowparkSessionException from telemetry in the stack trace.\u001b[39;00m\n\u001b[1;32m    181\u001b[0m     \u001b[38;5;66;03m# This prevents from adding telemetry error messages to regular API calls error messages.\u001b[39;00m\n\u001b[1;32m    182\u001b[0m     \u001b[38;5;28;01mraise\u001b[39;00m e \u001b[38;5;28;01mfrom\u001b[39;00m \u001b[38;5;28;01mNone\u001b[39;00m\n",
      "File \u001b[0;32m~/Desktop/snowpark-python/src/snowflake/snowpark/modin/pandas/general.py:2159\u001b[0m, in \u001b[0;36mdate_range\u001b[0;34m(start, end, periods, freq, tz, normalize, name, inclusive, **kwargs)\u001b[0m\n\u001b[1;32m   2155\u001b[0m \u001b[38;5;66;03m# If a timezone is not explicitly given via `tz`, see if one can be inferred from the `start` and `end` endpoints.\u001b[39;00m\n\u001b[1;32m   2156\u001b[0m \u001b[38;5;66;03m# If more than one of these inputs provides a timezone, require that they all agree.\u001b[39;00m\n\u001b[1;32m   2157\u001b[0m tz \u001b[38;5;241m=\u001b[39m _infer_tz_from_endpoints(start, end, tz)\n\u001b[0;32m-> 2159\u001b[0m qc \u001b[38;5;241m=\u001b[39m \u001b[43mSnowflakeQueryCompiler\u001b[49m\u001b[38;5;241;43m.\u001b[39;49m\u001b[43mfrom_date_range\u001b[49m\u001b[43m(\u001b[49m\n\u001b[1;32m   2160\u001b[0m \u001b[43m    \u001b[49m\u001b[43mstart\u001b[49m\u001b[38;5;241;43m=\u001b[39;49m\u001b[43mstart\u001b[49m\u001b[43m,\u001b[49m\n\u001b[1;32m   2161\u001b[0m \u001b[43m    \u001b[49m\u001b[43mend\u001b[49m\u001b[38;5;241;43m=\u001b[39;49m\u001b[43mend\u001b[49m\u001b[43m,\u001b[49m\n\u001b[1;32m   2162\u001b[0m \u001b[43m    \u001b[49m\u001b[43mperiods\u001b[49m\u001b[38;5;241;43m=\u001b[39;49m\u001b[43mperiods\u001b[49m\u001b[43m,\u001b[49m\n\u001b[1;32m   2163\u001b[0m \u001b[43m    \u001b[49m\u001b[43mfreq\u001b[49m\u001b[38;5;241;43m=\u001b[39;49m\u001b[43mfreq\u001b[49m\u001b[43m,\u001b[49m\n\u001b[1;32m   2164\u001b[0m \u001b[43m    \u001b[49m\u001b[43mtz\u001b[49m\u001b[38;5;241;43m=\u001b[39;49m\u001b[43mtz\u001b[49m\u001b[43m,\u001b[49m\n\u001b[1;32m   2165\u001b[0m \u001b[43m    \u001b[49m\u001b[43mleft_inclusive\u001b[49m\u001b[38;5;241;43m=\u001b[39;49m\u001b[43mleft_inclusive\u001b[49m\u001b[43m,\u001b[49m\n\u001b[1;32m   2166\u001b[0m \u001b[43m    \u001b[49m\u001b[43mright_inclusive\u001b[49m\u001b[38;5;241;43m=\u001b[39;49m\u001b[43mright_inclusive\u001b[49m\u001b[43m,\u001b[49m\n\u001b[1;32m   2167\u001b[0m \u001b[43m\u001b[49m\u001b[43m)\u001b[49m\n\u001b[1;32m   2168\u001b[0m \u001b[38;5;66;03m# Set date range as index column.\u001b[39;00m\n\u001b[1;32m   2169\u001b[0m qc \u001b[38;5;241m=\u001b[39m qc\u001b[38;5;241m.\u001b[39mset_index_from_columns(qc\u001b[38;5;241m.\u001b[39mcolumns\u001b[38;5;241m.\u001b[39mtolist(), include_index\u001b[38;5;241m=\u001b[39m\u001b[38;5;28;01mFalse\u001b[39;00m)\n",
      "File \u001b[0;32m~/Desktop/snowpark-python/venv/lib/python3.10/site-packages/modin/logging/logger_decorator.py:125\u001b[0m, in \u001b[0;36menable_logging.<locals>.decorator.<locals>.run_and_log\u001b[0;34m(*args, **kwargs)\u001b[0m\n\u001b[1;32m    110\u001b[0m \u001b[38;5;250m\u001b[39m\u001b[38;5;124;03m\"\"\"\u001b[39;00m\n\u001b[1;32m    111\u001b[0m \u001b[38;5;124;03mCompute function with logging if Modin logging is enabled.\u001b[39;00m\n\u001b[1;32m    112\u001b[0m \n\u001b[0;32m   (...)\u001b[0m\n\u001b[1;32m    122\u001b[0m \u001b[38;5;124;03mAny\u001b[39;00m\n\u001b[1;32m    123\u001b[0m \u001b[38;5;124;03m\"\"\"\u001b[39;00m\n\u001b[1;32m    124\u001b[0m \u001b[38;5;28;01mif\u001b[39;00m LogMode\u001b[38;5;241m.\u001b[39mget() \u001b[38;5;241m==\u001b[39m \u001b[38;5;124m\"\u001b[39m\u001b[38;5;124mdisable\u001b[39m\u001b[38;5;124m\"\u001b[39m:\n\u001b[0;32m--> 125\u001b[0m     \u001b[38;5;28;01mreturn\u001b[39;00m \u001b[43mobj\u001b[49m\u001b[43m(\u001b[49m\u001b[38;5;241;43m*\u001b[39;49m\u001b[43margs\u001b[49m\u001b[43m,\u001b[49m\u001b[43m \u001b[49m\u001b[38;5;241;43m*\u001b[39;49m\u001b[38;5;241;43m*\u001b[39;49m\u001b[43mkwargs\u001b[49m\u001b[43m)\u001b[49m\n\u001b[1;32m    127\u001b[0m logger \u001b[38;5;241m=\u001b[39m get_logger()\n\u001b[1;32m    128\u001b[0m logger\u001b[38;5;241m.\u001b[39mlog(log_level, start_line)\n",
      "File \u001b[0;32m~/Desktop/snowpark-python/src/snowflake/snowpark/modin/plugin/compiler/snowflake_query_compiler.py:668\u001b[0m, in \u001b[0;36mSnowflakeQueryCompiler.from_date_range\u001b[0;34m(cls, start, end, periods, freq, tz, left_inclusive, right_inclusive)\u001b[0m\n\u001b[1;32m    665\u001b[0m         end \u001b[38;5;241m=\u001b[39m end\u001b[38;5;241m.\u001b[39mtz_localize(\u001b[38;5;28;01mNone\u001b[39;00m)\n\u001b[1;32m    666\u001b[0m \u001b[38;5;28;01mif\u001b[39;00m \u001b[38;5;28misinstance\u001b[39m(freq, Tick):\n\u001b[1;32m    667\u001b[0m     \u001b[38;5;66;03m# generate nanosecond values\u001b[39;00m\n\u001b[0;32m--> 668\u001b[0m     ns_values \u001b[38;5;241m=\u001b[39m \u001b[43mgenerator_utils\u001b[49m\u001b[38;5;241;43m.\u001b[39;49m\u001b[43mgenerate_regular_range\u001b[49m\u001b[43m(\u001b[49m\n\u001b[1;32m    669\u001b[0m \u001b[43m        \u001b[49m\u001b[43mstart\u001b[49m\u001b[43m,\u001b[49m\u001b[43m \u001b[49m\u001b[43mend\u001b[49m\u001b[43m,\u001b[49m\u001b[43m \u001b[49m\u001b[43mperiods\u001b[49m\u001b[43m,\u001b[49m\u001b[43m \u001b[49m\u001b[43mfreq\u001b[49m\n\u001b[1;32m    670\u001b[0m \u001b[43m    \u001b[49m\u001b[43m)\u001b[49m\n\u001b[1;32m    671\u001b[0m     dt_values \u001b[38;5;241m=\u001b[39m ns_values\u001b[38;5;241m.\u001b[39mseries_to_datetime()\n\u001b[1;32m    672\u001b[0m \u001b[38;5;28;01melse\u001b[39;00m:\n",
      "File \u001b[0;32m~/Desktop/snowpark-python/src/snowflake/snowpark/modin/plugin/_internal/generator_utils.py:71\u001b[0m, in \u001b[0;36mgenerate_regular_range\u001b[0;34m(start, end, periods, freq)\u001b[0m\n\u001b[1;32m     67\u001b[0m \u001b[38;5;28;01melse\u001b[39;00m:\n\u001b[1;32m     68\u001b[0m     \u001b[38;5;28;01mraise\u001b[39;00m \u001b[38;5;167;01mValueError\u001b[39;00m(  \u001b[38;5;66;03m# pragma: no cover\u001b[39;00m\n\u001b[1;32m     69\u001b[0m         \u001b[38;5;124m\"\u001b[39m\u001b[38;5;124mat least \u001b[39m\u001b[38;5;124m'\u001b[39m\u001b[38;5;124mstart\u001b[39m\u001b[38;5;124m'\u001b[39m\u001b[38;5;124m or \u001b[39m\u001b[38;5;124m'\u001b[39m\u001b[38;5;124mend\u001b[39m\u001b[38;5;124m'\u001b[39m\u001b[38;5;124m should be specified if a \u001b[39m\u001b[38;5;124m'\u001b[39m\u001b[38;5;124mperiod\u001b[39m\u001b[38;5;124m'\u001b[39m\u001b[38;5;124m is given.\u001b[39m\u001b[38;5;124m\"\u001b[39m\n\u001b[1;32m     70\u001b[0m     )\n\u001b[0;32m---> 71\u001b[0m \u001b[38;5;28;01mreturn\u001b[39;00m \u001b[43mgenerate_range\u001b[49m\u001b[43m(\u001b[49m\u001b[43mb\u001b[49m\u001b[43m,\u001b[49m\u001b[43m \u001b[49m\u001b[43me\u001b[49m\u001b[43m,\u001b[49m\u001b[43m \u001b[49m\u001b[43mstride\u001b[49m\u001b[43m)\u001b[49m\n",
      "File \u001b[0;32m~/Desktop/snowpark-python/src/snowflake/snowpark/modin/plugin/_internal/generator_utils.py:127\u001b[0m, in \u001b[0;36mgenerate_range\u001b[0;34m(start, end, step)\u001b[0m\n\u001b[1;32m    110\u001b[0m \u001b[38;5;28;01mdef\u001b[39;00m \u001b[38;5;21mgenerate_range\u001b[39m(\n\u001b[1;32m    111\u001b[0m     start: \u001b[38;5;28mint\u001b[39m,\n\u001b[1;32m    112\u001b[0m     end: Optional[\u001b[38;5;28mint\u001b[39m],\n\u001b[1;32m    113\u001b[0m     step: \u001b[38;5;28mint\u001b[39m,\n\u001b[1;32m    114\u001b[0m ) \u001b[38;5;241m-\u001b[39m\u001b[38;5;241m>\u001b[39m \u001b[38;5;124m\"\u001b[39m\u001b[38;5;124msnowflake_query_compiler.SnowflakeQueryCompiler\u001b[39m\u001b[38;5;124m\"\u001b[39m:\n\u001b[1;32m    115\u001b[0m \u001b[38;5;250m    \u001b[39m\u001b[38;5;124;03m\"\"\"\u001b[39;00m\n\u001b[1;32m    116\u001b[0m \u001b[38;5;124;03m    Use `session.range` to generate values in range and represent in a query compiler\u001b[39;00m\n\u001b[1;32m    117\u001b[0m \n\u001b[0;32m   (...)\u001b[0m\n\u001b[1;32m    124\u001b[0m \u001b[38;5;124;03m        The query compiler containing int values\u001b[39;00m\n\u001b[1;32m    125\u001b[0m \u001b[38;5;124;03m    \"\"\"\u001b[39;00m\n\u001b[1;32m    126\u001b[0m     \u001b[38;5;28;01mreturn\u001b[39;00m _create_qc_from_snowpark_dataframe(\n\u001b[0;32m--> 127\u001b[0m         \u001b[43mget_active_session\u001b[49m\u001b[43m(\u001b[49m\u001b[43m)\u001b[49m\u001b[38;5;241m.\u001b[39mrange(start, end, step)\n\u001b[1;32m    128\u001b[0m     )\n",
      "File \u001b[0;32m~/Desktop/snowpark-python/src/snowflake/snowpark/context.py:32\u001b[0m, in \u001b[0;36mget_active_session\u001b[0;34m()\u001b[0m\n\u001b[1;32m     24\u001b[0m \u001b[38;5;28;01mdef\u001b[39;00m \u001b[38;5;21mget_active_session\u001b[39m() \u001b[38;5;241m-\u001b[39m\u001b[38;5;241m>\u001b[39m \u001b[38;5;124m\"\u001b[39m\u001b[38;5;124msnowflake.snowpark.Session\u001b[39m\u001b[38;5;124m\"\u001b[39m:\n\u001b[1;32m     25\u001b[0m \u001b[38;5;250m    \u001b[39m\u001b[38;5;124;03m\"\"\"Returns the current active Snowpark session.\u001b[39;00m\n\u001b[1;32m     26\u001b[0m \n\u001b[1;32m     27\u001b[0m \u001b[38;5;124;03m    Raises: SnowparkSessionException: If there is more than one active session or no active sessions.\u001b[39;00m\n\u001b[0;32m   (...)\u001b[0m\n\u001b[1;32m     30\u001b[0m \u001b[38;5;124;03m        A :class:`Session` object for the current session.\u001b[39;00m\n\u001b[1;32m     31\u001b[0m \u001b[38;5;124;03m    \"\"\"\u001b[39;00m\n\u001b[0;32m---> 32\u001b[0m     \u001b[38;5;28;01mreturn\u001b[39;00m \u001b[43msnowflake\u001b[49m\u001b[38;5;241;43m.\u001b[39;49m\u001b[43msnowpark\u001b[49m\u001b[38;5;241;43m.\u001b[39;49m\u001b[43msession\u001b[49m\u001b[38;5;241;43m.\u001b[39;49m\u001b[43m_get_active_session\u001b[49m\u001b[43m(\u001b[49m\u001b[43m)\u001b[49m\n",
      "File \u001b[0;32m~/Desktop/snowpark-python/src/snowflake/snowpark/session.py:217\u001b[0m, in \u001b[0;36m_get_active_session\u001b[0;34m()\u001b[0m\n\u001b[1;32m    215\u001b[0m     \u001b[38;5;28;01mreturn\u001b[39;00m \u001b[38;5;28mnext\u001b[39m(\u001b[38;5;28miter\u001b[39m(_active_sessions))\n\u001b[1;32m    216\u001b[0m \u001b[38;5;28;01melif\u001b[39;00m \u001b[38;5;28mlen\u001b[39m(_active_sessions) \u001b[38;5;241m>\u001b[39m \u001b[38;5;241m1\u001b[39m:\n\u001b[0;32m--> 217\u001b[0m     \u001b[38;5;28;01mraise\u001b[39;00m SnowparkClientExceptionMessages\u001b[38;5;241m.\u001b[39mMORE_THAN_ONE_ACTIVE_SESSIONS()\n\u001b[1;32m    218\u001b[0m \u001b[38;5;28;01melse\u001b[39;00m:\n\u001b[1;32m    219\u001b[0m     \u001b[38;5;28;01mraise\u001b[39;00m SnowparkClientExceptionMessages\u001b[38;5;241m.\u001b[39mSERVER_NO_DEFAULT_SESSION()\n",
      "\u001b[0;31mSnowparkSessionException\u001b[0m: (1409): More than one active session is detected. When you call function 'udf' or use decorator '@udf', you must specify the 'session' parameter if you created multiple sessions.Alternatively, you can use 'session.udf.register' to register UDFs"
     ]
    }
   ],
   "source": [
    "dti = pd.date_range(\"2018-01-01\", periods=3, freq=\"h\")\n",
    "dti"
   ]
  },
  {
   "cell_type": "markdown",
   "id": "727ff6dd-9af1-4abd-a276-6042bf3b6878",
   "metadata": {},
   "source": [
    "### Manipulating and converting date times with timezone information"
   ]
  },
  {
   "cell_type": "code",
   "execution_count": null,
   "id": "1f2c79bc-2a9e-41f0-ab36-44fcc20d119a",
   "metadata": {},
   "outputs": [],
   "source": [
    "# TODO SNOW-1635620: uncomment when TimeDelta is implemented\n",
    "#dti = dti.tz_localize(\"UTC\")"
   ]
  },
  {
   "cell_type": "code",
   "execution_count": null,
   "id": "d7916dfa-9716-47e4-92a8-c3c852a3d802",
   "metadata": {},
   "outputs": [],
   "source": [
    "# TODO SNOW-1635620: uncomment when TimeDelta is implemented\n",
    "#dti.tz_convert(\"US/Pacific\")"
   ]
  },
  {
   "cell_type": "markdown",
   "id": "ed3c83b4-e048-4dbb-8d94-25cb0ee62e66",
   "metadata": {},
   "source": [
    "### Resampling or converting a time series to a particular frequency"
   ]
  },
  {
   "cell_type": "code",
   "execution_count": null,
   "id": "5aa8cd79-521b-42ee-a3a6-66be36603bcb",
   "metadata": {},
   "outputs": [],
   "source": [
    "idx = pd.date_range(\"2018-01-01\", periods=5, freq=\"h\")\n",
    "ts = pd.Series(range(len(idx)), index=idx)\n",
    "ts"
   ]
  },
  {
   "cell_type": "code",
   "execution_count": null,
   "id": "796c954c-7f60-441b-b85e-1098824fae4b",
   "metadata": {},
   "outputs": [],
   "source": [
    "ts.resample(\"2h\").mean()"
   ]
  },
  {
   "cell_type": "markdown",
   "id": "e873f69d-e8b5-423f-9f0e-b019d37e15df",
   "metadata": {},
   "source": [
    "### Performing date and time arithmetic with absolute or relative time increments"
   ]
  },
  {
   "cell_type": "code",
   "execution_count": null,
   "id": "e7272da8-eae8-4e31-8a61-2f442a6780e0",
   "metadata": {},
   "outputs": [],
   "source": [
    "friday = pd.Timestamp(\"2018-01-05\")\n",
    "friday.day_name()"
   ]
  },
  {
   "cell_type": "code",
   "execution_count": null,
   "id": "b69cb16a-9fc7-46fe-a6f6-a6a1ce635dc5",
   "metadata": {},
   "outputs": [],
   "source": [
    "saturday = friday + pd.Timedelta(\"1 day\")\n",
    "saturday.day_name()"
   ]
  },
  {
   "cell_type": "code",
   "execution_count": null,
   "id": "064f4271-9485-497d-b176-b39d4f75248c",
   "metadata": {},
   "outputs": [],
   "source": [
    "monday = friday + pd.offsets.BDay()\n",
    "monday.day_name()"
   ]
  },
  {
   "cell_type": "code",
   "execution_count": null,
   "id": "86bf9469-b7d3-44fc-900e-cfd67a065842",
   "metadata": {},
   "outputs": [],
   "source": [
    "rng = pd.date_range(\"2012-01-01\", \"2012-01-03\")\n",
    "ts = pd.Series(range(len(rng)), index=rng)\n",
    "ts = ts[:5]\n",
    "ts.shift(1)"
   ]
  },
  {
   "cell_type": "markdown",
   "id": "1a42453c-bea7-470a-be57-650f42fea9a5",
   "metadata": {},
   "source": [
    "### Time Series-related instance methods"
   ]
  },
  {
   "cell_type": "markdown",
   "id": "86658f09-80b8-42a5-a108-efc4dddfdb09",
   "metadata": {},
   "source": [
    "### From timestamps to epoch"
   ]
  },
  {
   "cell_type": "code",
   "execution_count": null,
   "id": "0e4e6063-a60f-4a70-adca-2cb9b3b101f8",
   "metadata": {},
   "outputs": [],
   "source": [
    "stamps = pd.date_range(\"2012-10-08 18:15:05\", periods=4, freq=\"D\")\n",
    "stamps"
   ]
  },
  {
   "cell_type": "code",
   "execution_count": null,
   "id": "f4a38e8b-abcb-49c6-839d-01e4215d7d7a",
   "metadata": {},
   "outputs": [],
   "source": [
    "# TODO SNOW-1635620: uncomment when TimeDelta is implemented\n",
    "# (stamps - pd.Timestamp(\"1970-01-01\")) // pd.Timedelta(\"1s\")"
   ]
  },
  {
   "cell_type": "markdown",
   "id": "9b5b10c8-e72f-4405-bdeb-1bced14c8edf",
   "metadata": {},
   "source": [
    "### DateOffset objects"
   ]
  },
  {
   "cell_type": "code",
   "execution_count": null,
   "id": "1febbd6a-1b57-4e6a-a48a-3eac565ad61d",
   "metadata": {},
   "outputs": [],
   "source": [
    "ts = pd.Timestamp(\"2016-10-30 00:00:00\", tz=\"Europe/Helsinki\")\n",
    "\n",
    "ts + pd.Timedelta(days=1)"
   ]
  },
  {
   "cell_type": "code",
   "execution_count": null,
   "id": "b8d03fb0-826f-4698-a6d0-f2b63f7d38dc",
   "metadata": {},
   "outputs": [],
   "source": [
    "ts + pd.DateOffset(days=1)"
   ]
  },
  {
   "cell_type": "markdown",
   "id": "00d1f5cf-c073-4c60-949b-404953b80000",
   "metadata": {},
   "source": [
    "### Timestamp Binary Operations"
   ]
  },
  {
   "cell_type": "code",
   "execution_count": null,
   "id": "dd818a8d-97c1-46f3-b29f-499ba92f22ae",
   "metadata": {},
   "outputs": [],
   "source": [
    "pd.to_datetime('2018-10-26 12:00:00') - pd.to_datetime('2017-09-25 09:00:00')"
   ]
  },
  {
   "cell_type": "code",
   "execution_count": null,
   "id": "7c9a87d2-7883-46a6-8433-dfa5900ca9b0",
   "metadata": {},
   "outputs": [],
   "source": [
    "pd.Timestamp(\"2014-08-01 10:00\") - pd.Timestamp(\"2014-07-26 03:00\")"
   ]
  },
  {
   "cell_type": "code",
   "execution_count": null,
   "id": "e78454b1-0d4c-42bc-a127-b21a4a7f09cf",
   "metadata": {},
   "outputs": [],
   "source": [
    "pd.Timestamp(year=2017, month=1, day=1, hour=12) - pd.Timestamp(year=2015, month=2, day=19, hour=9)"
   ]
  },
  {
   "cell_type": "code",
   "execution_count": null,
   "id": "2534d141-1862-4901-ba70-7ed73ab9abdd",
   "metadata": {},
   "outputs": [],
   "source": [
    "(pd.to_datetime(\"2018-8-26 15:09:02\") - pd.to_datetime('2018-09-26 12:00:00'))"
   ]
  },
  {
   "cell_type": "code",
   "execution_count": null,
   "id": "8665a37e-15c0-44fb-9cb6-cb11cd9b495d",
   "metadata": {},
   "outputs": [],
   "source": []
  }
 ],
 "metadata": {
  "kernelspec": {
   "display_name": "Python 3 (ipykernel)",
   "language": "python",
   "name": "python3"
  },
  "language_info": {
   "codemirror_mode": {
    "name": "ipython",
    "version": 3
   },
   "file_extension": ".py",
   "mimetype": "text/x-python",
   "name": "python",
   "nbconvert_exporter": "python",
   "pygments_lexer": "ipython3",
   "version": "3.10.11"
  }
 },
 "nbformat": 4,
 "nbformat_minor": 5
}
