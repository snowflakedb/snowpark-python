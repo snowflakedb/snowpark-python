{
 "cells": [
  {
   "cell_type": "markdown",
   "id": "143e5d4a-ca70-4ac8-a61e-be7c93c17d20",
   "metadata": {},
   "source": [
    "# Snowpark pandas Time series / date functionality"
   ]
  },
  {
   "cell_type": "code",
   "execution_count": 1,
   "id": "5ece8277-dc52-40f3-913f-1a3145df6bdc",
   "metadata": {},
   "outputs": [],
   "source": [
    "from pathlib import Path\n",
    "import sys\n",
    "from snowflake.snowpark import Session\n",
    "import modin.pandas as pd\n",
    "import snowflake.snowpark.modin.plugin\n",
    "\n",
    "connection_parameters_path = str(Path(\"__file__\").absolute().parent.parent.parent.parent)\n",
    "sys.path.append(connection_parameters_path)\n",
    "from tests.parameters import CONNECTION_PARAMETERS\n",
    "\n",
    "session = Session.builder.configs(CONNECTION_PARAMETERS).create()"
   ]
  },
  {
   "cell_type": "code",
   "execution_count": 2,
   "id": "c127fb50-c570-46fb-a074-6e8eb3ede058",
   "metadata": {},
   "outputs": [],
   "source": [
    "import datetime\n",
    "import numpy as np"
   ]
  },
  {
   "cell_type": "markdown",
   "id": "02d7afa0-0224-4033-b2c7-465b67642201",
   "metadata": {},
   "source": [
    "### Parsing time series information from various sources and formats"
   ]
  },
  {
   "cell_type": "code",
   "execution_count": 3,
   "id": "8d5f4a0a-fe5c-4a94-94ba-f16d258f92a6",
   "metadata": {},
   "outputs": [
    {
     "name": "stderr",
     "output_type": "stream",
     "text": [
      "`to_datetime` implementation has mismatches with pandas:\n",
      "Snowpark pandas to_datetime uses Snowflake's automatic format detection to convert string to datetime when a format is not provided. In this case Snowflake's auto format may yield different result values compared to pandas..\n"
     ]
    },
    {
     "data": {
      "text/plain": [
       "DatetimeIndex(['2018-01-01', '2018-01-01', '2018-01-01'], dtype='datetime64[ns]', freq=None)"
      ]
     },
     "execution_count": 3,
     "metadata": {},
     "output_type": "execute_result"
    }
   ],
   "source": [
    "dti = pd.to_datetime(\n",
    "    [\"1/1/2018\", np.datetime64(\"2018-01-01\"), datetime.datetime(2018, 1, 1)]\n",
    ")\n",
    "dti"
   ]
  },
  {
   "cell_type": "markdown",
   "id": "1df6a98f-a79b-4e90-b314-0cdf4f94fbfd",
   "metadata": {},
   "source": [
    "### Generate sequences of fixed-frequency dates and time spans"
   ]
  },
  {
   "cell_type": "code",
   "execution_count": 17,
   "id": "28d01637-1093-43ea-a791-bc167243530e",
   "metadata": {},
   "outputs": [
    {
     "data": {
      "text/plain": [
       "DatetimeIndex(['2018-01-01 00:00:00', '2018-01-01 01:00:00',\n",
       "               '2018-01-01 02:00:00'],\n",
       "              dtype='datetime64[ns]', freq=None)"
      ]
     },
     "execution_count": 17,
     "metadata": {},
     "output_type": "execute_result"
    }
   ],
   "source": [
    "dti = pd.date_range(\"2018-01-01\", periods=3, freq=\"h\")\n",
    "dti"
   ]
  },
  {
   "cell_type": "markdown",
   "id": "727ff6dd-9af1-4abd-a276-6042bf3b6878",
   "metadata": {},
   "source": [
    "### Manipulating and converting date times with timezone information"
   ]
  },
  {
   "cell_type": "code",
   "execution_count": 5,
   "id": "1f2c79bc-2a9e-41f0-ab36-44fcc20d119a",
   "metadata": {},
   "outputs": [],
   "source": [
    "# TODO SNOW-1635620: uncomment when TimeDelta is implemented\n",
    "#dti = dti.tz_localize(\"UTC\")"
   ]
  },
  {
   "cell_type": "code",
   "execution_count": 6,
   "id": "d7916dfa-9716-47e4-92a8-c3c852a3d802",
   "metadata": {},
   "outputs": [],
   "source": [
    "# TODO SNOW-1635620: uncomment when TimeDelta is implemented\n",
    "#dti.tz_convert(\"US/Pacific\")"
   ]
  },
  {
   "cell_type": "markdown",
   "id": "ed3c83b4-e048-4dbb-8d94-25cb0ee62e66",
   "metadata": {},
   "source": [
    "### Resampling or converting a time series to a particular frequency"
   ]
  },
  {
   "cell_type": "code",
   "execution_count": 7,
   "id": "5aa8cd79-521b-42ee-a3a6-66be36603bcb",
   "metadata": {},
   "outputs": [
    {
     "data": {
      "text/plain": [
       "2018-01-01 00:00:00    0\n",
       "2018-01-01 01:00:00    1\n",
       "2018-01-01 02:00:00    2\n",
       "2018-01-01 03:00:00    3\n",
       "2018-01-01 04:00:00    4\n",
       "Freq: None, dtype: int64"
      ]
     },
     "execution_count": 7,
     "metadata": {},
     "output_type": "execute_result"
    }
   ],
   "source": [
    "idx = pd.date_range(\"2018-01-01\", periods=5, freq=\"h\")\n",
    "ts = pd.Series(range(len(idx)), index=idx)\n",
    "ts"
   ]
  },
  {
   "cell_type": "code",
   "execution_count": 8,
   "id": "796c954c-7f60-441b-b85e-1098824fae4b",
   "metadata": {},
   "outputs": [
    {
     "data": {
      "text/plain": [
       "2018-01-01 00:00:00    0.5\n",
       "2018-01-01 02:00:00    2.5\n",
       "2018-01-01 04:00:00    4.0\n",
       "Freq: None, dtype: float64"
      ]
     },
     "execution_count": 8,
     "metadata": {},
     "output_type": "execute_result"
    }
   ],
   "source": [
    "ts.resample(\"2h\").mean()"
   ]
  },
  {
   "cell_type": "markdown",
   "id": "e873f69d-e8b5-423f-9f0e-b019d37e15df",
   "metadata": {},
   "source": [
    "### Performing date and time arithmetic with absolute or relative time increments"
   ]
  },
  {
   "cell_type": "code",
   "execution_count": 9,
   "id": "e7272da8-eae8-4e31-8a61-2f442a6780e0",
   "metadata": {},
   "outputs": [
    {
     "data": {
      "text/plain": [
       "'Friday'"
      ]
     },
     "execution_count": 9,
     "metadata": {},
     "output_type": "execute_result"
    }
   ],
   "source": [
    "friday = pd.Timestamp(\"2018-01-05\")\n",
    "friday.day_name()"
   ]
  },
  {
   "cell_type": "code",
   "execution_count": 10,
   "id": "b69cb16a-9fc7-46fe-a6f6-a6a1ce635dc5",
   "metadata": {},
   "outputs": [
    {
     "data": {
      "text/plain": [
       "'Saturday'"
      ]
     },
     "execution_count": 10,
     "metadata": {},
     "output_type": "execute_result"
    }
   ],
   "source": [
    "saturday = friday + pd.Timedelta(\"1 day\")\n",
    "saturday.day_name()"
   ]
  },
  {
   "cell_type": "code",
   "execution_count": 11,
   "id": "064f4271-9485-497d-b176-b39d4f75248c",
   "metadata": {},
   "outputs": [
    {
     "data": {
      "text/plain": [
       "'Monday'"
      ]
     },
     "execution_count": 11,
     "metadata": {},
     "output_type": "execute_result"
    }
   ],
   "source": [
    "monday = friday + pd.offsets.BDay()\n",
    "monday.day_name()"
   ]
  },
  {
   "cell_type": "code",
   "execution_count": 12,
   "id": "86bf9469-b7d3-44fc-900e-cfd67a065842",
   "metadata": {},
   "outputs": [
    {
     "data": {
      "text/plain": [
       "2012-01-01    NaN\n",
       "2012-01-02    0.0\n",
       "2012-01-03    1.0\n",
       "Freq: None, dtype: float64"
      ]
     },
     "execution_count": 12,
     "metadata": {},
     "output_type": "execute_result"
    }
   ],
   "source": [
    "rng = pd.date_range(\"2012-01-01\", \"2012-01-03\")\n",
    "ts = pd.Series(range(len(rng)), index=rng)\n",
    "ts = ts[:5]\n",
    "ts.shift(1)"
   ]
  },
  {
   "cell_type": "markdown",
   "id": "1a42453c-bea7-470a-be57-650f42fea9a5",
   "metadata": {},
   "source": [
    "### Time Series-related instance methods"
   ]
  },
  {
   "cell_type": "markdown",
   "id": "86658f09-80b8-42a5-a108-efc4dddfdb09",
   "metadata": {},
   "source": [
    "### From timestamps to epoch"
   ]
  },
  {
   "cell_type": "code",
   "execution_count": 13,
   "id": "0e4e6063-a60f-4a70-adca-2cb9b3b101f8",
   "metadata": {},
   "outputs": [
    {
     "data": {
      "text/plain": [
       "DatetimeIndex(['2012-10-08 18:15:05', '2012-10-09 18:15:05',\n",
       "               '2012-10-10 18:15:05', '2012-10-11 18:15:05'],\n",
       "              dtype='datetime64[ns]', freq=None)"
      ]
     },
     "execution_count": 13,
     "metadata": {},
     "output_type": "execute_result"
    }
   ],
   "source": [
    "stamps = pd.date_range(\"2012-10-08 18:15:05\", periods=4, freq=\"D\")\n",
    "stamps"
   ]
  },
  {
   "cell_type": "code",
   "execution_count": 14,
   "id": "f4a38e8b-abcb-49c6-839d-01e4215d7d7a",
   "metadata": {},
   "outputs": [],
   "source": [
    "# TODO SNOW-1635620: uncomment when TimeDelta is implemented\n",
    "# (stamps - pd.Timestamp(\"1970-01-01\")) // pd.Timedelta(\"1s\")"
   ]
  },
  {
   "cell_type": "markdown",
   "id": "9b5b10c8-e72f-4405-bdeb-1bced14c8edf",
   "metadata": {},
   "source": [
    "### DateOffset objects"
   ]
  },
  {
   "cell_type": "code",
   "execution_count": 15,
   "id": "1febbd6a-1b57-4e6a-a48a-3eac565ad61d",
   "metadata": {},
   "outputs": [
    {
     "data": {
      "text/plain": [
       "Timestamp('2016-10-30 23:00:00+0200', tz='Europe/Helsinki')"
      ]
     },
     "execution_count": 15,
     "metadata": {},
     "output_type": "execute_result"
    }
   ],
   "source": [
    "ts = pd.Timestamp(\"2016-10-30 00:00:00\", tz=\"Europe/Helsinki\")\n",
    "\n",
    "ts + pd.Timedelta(days=1)"
   ]
  },
  {
   "cell_type": "code",
   "execution_count": 16,
   "id": "b8d03fb0-826f-4698-a6d0-f2b63f7d38dc",
   "metadata": {},
   "outputs": [
    {
     "data": {
      "text/plain": [
       "Timestamp('2016-10-31 00:00:00+0200', tz='Europe/Helsinki')"
      ]
     },
     "execution_count": 16,
     "metadata": {},
     "output_type": "execute_result"
    }
   ],
   "source": [
    "ts + pd.DateOffset(days=1)"
   ]
  }
 ],
 "metadata": {
  "kernelspec": {
   "display_name": "Python 3 (ipykernel)",
   "language": "python",
   "name": "python3"
  },
  "language_info": {
   "codemirror_mode": {
    "name": "ipython",
    "version": 3
   },
   "file_extension": ".py",
   "mimetype": "text/x-python",
   "name": "python",
   "nbconvert_exporter": "python",
   "pygments_lexer": "ipython3",
   "version": "3.10.11"
  }
 },
 "nbformat": 4,
 "nbformat_minor": 5
}
