{
 "cells": [
  {
   "cell_type": "markdown",
   "id": "143e5d4a-ca70-4ac8-a61e-be7c93c17d20",
   "metadata": {},
   "source": [
    "# Snowpark pandas Time series / date functionality"
   ]
  },
  {
   "cell_type": "code",
   "execution_count": 1,
   "id": "5ece8277-dc52-40f3-913f-1a3145df6bdc",
   "metadata": {
    "execution": {
     "iopub.execute_input": "2024-08-28T17:27:35.535408Z",
     "iopub.status.busy": "2024-08-28T17:27:35.535052Z",
     "iopub.status.idle": "2024-08-28T17:27:36.951326Z",
     "shell.execute_reply": "2024-08-28T17:27:36.950877Z"
    }
   },
   "outputs": [],
   "source": [
    "from pathlib import Path\n",
    "import sys\n",
    "from snowflake.snowpark import Session\n",
    "import modin.pandas as pd\n",
    "import snowflake.snowpark.modin.plugin\n",
    "\n",
    "connection_parameters_path = str(Path(\"__file__\").absolute().parent.parent.parent.parent)\n",
    "sys.path.append(connection_parameters_path)\n",
    "from tests.parameters import CONNECTION_PARAMETERS\n",
    "\n",
    "session = Session.builder.configs(CONNECTION_PARAMETERS).create()"
   ]
  },
  {
   "cell_type": "code",
   "execution_count": 2,
   "id": "c127fb50-c570-46fb-a074-6e8eb3ede058",
   "metadata": {
    "execution": {
     "iopub.execute_input": "2024-08-28T17:27:36.953723Z",
     "iopub.status.busy": "2024-08-28T17:27:36.953532Z",
     "iopub.status.idle": "2024-08-28T17:27:36.955730Z",
     "shell.execute_reply": "2024-08-28T17:27:36.955323Z"
    }
   },
   "outputs": [],
   "source": [
    "import datetime\n",
    "import numpy as np"
   ]
  },
  {
   "cell_type": "markdown",
   "id": "02d7afa0-0224-4033-b2c7-465b67642201",
   "metadata": {},
   "source": [
    "### Parsing time series information from various sources and formats"
   ]
  },
  {
   "cell_type": "code",
   "execution_count": 3,
   "id": "8d5f4a0a-fe5c-4a94-94ba-f16d258f92a6",
   "metadata": {
    "execution": {
     "iopub.execute_input": "2024-08-28T17:27:36.958090Z",
     "iopub.status.busy": "2024-08-28T17:27:36.957962Z",
     "iopub.status.idle": "2024-08-28T17:27:37.441073Z",
     "shell.execute_reply": "2024-08-28T17:27:37.440761Z"
    }
   },
   "outputs": [
    {
     "name": "stderr",
     "output_type": "stream",
     "text": [
      "`to_datetime` implementation has mismatches with pandas:\n",
      "Snowpark pandas to_datetime uses Snowflake's automatic format detection to convert string to datetime when a format is not provided. In this case Snowflake's auto format may yield different result values compared to pandas..\n"
     ]
    },
    {
     "data": {
      "text/plain": [
       "DatetimeIndex(['2018-01-01', '2018-01-01', '2018-01-01'], dtype='datetime64[ns]', freq=None)"
      ]
     },
     "execution_count": 3,
     "metadata": {},
     "output_type": "execute_result"
    }
   ],
   "source": [
    "dti = pd.to_datetime(\n",
    "    [\"1/1/2018\", np.datetime64(\"2018-01-01\"), datetime.datetime(2018, 1, 1)]\n",
    ")\n",
    "dti"
   ]
  },
  {
   "cell_type": "markdown",
   "id": "1df6a98f-a79b-4e90-b314-0cdf4f94fbfd",
   "metadata": {},
   "source": [
    "### Generate sequences of fixed-frequency dates and time spans"
   ]
  },
  {
   "cell_type": "code",
   "execution_count": 4,
   "id": "28d01637-1093-43ea-a791-bc167243530e",
   "metadata": {
    "execution": {
     "iopub.execute_input": "2024-08-28T17:27:37.443821Z",
     "iopub.status.busy": "2024-08-28T17:27:37.443686Z",
     "iopub.status.idle": "2024-08-28T17:27:37.973506Z",
     "shell.execute_reply": "2024-08-28T17:27:37.973040Z"
    }
   },
   "outputs": [
    {
     "data": {
      "text/plain": [
       "DatetimeIndex(['2018-01-01 00:00:00', '2018-01-01 01:00:00',\n",
       "               '2018-01-01 02:00:00'],\n",
       "              dtype='datetime64[ns]', freq=None)"
      ]
     },
     "execution_count": 4,
     "metadata": {},
     "output_type": "execute_result"
    }
   ],
   "source": [
    "dti = pd.date_range(\"2018-01-01\", periods=3, freq=\"h\")\n",
    "dti"
   ]
  },
  {
   "cell_type": "markdown",
   "id": "727ff6dd-9af1-4abd-a276-6042bf3b6878",
   "metadata": {},
   "source": [
    "### Manipulating and converting date times with timezone information"
   ]
  },
  {
   "cell_type": "code",
   "execution_count": 5,
   "id": "1f2c79bc-2a9e-41f0-ab36-44fcc20d119a",
   "metadata": {
    "execution": {
     "iopub.execute_input": "2024-08-28T17:27:37.976832Z",
     "iopub.status.busy": "2024-08-28T17:27:37.976629Z",
     "iopub.status.idle": "2024-08-28T17:27:37.978940Z",
     "shell.execute_reply": "2024-08-28T17:27:37.978566Z"
    }
   },
   "outputs": [],
   "source": [
    "# TODO SNOW-1635620: uncomment when TimeDelta is implemented\n",
    "#dti = dti.tz_localize(\"UTC\")"
   ]
  },
  {
   "cell_type": "code",
   "execution_count": 6,
   "id": "d7916dfa-9716-47e4-92a8-c3c852a3d802",
   "metadata": {
    "execution": {
     "iopub.execute_input": "2024-08-28T17:27:37.981235Z",
     "iopub.status.busy": "2024-08-28T17:27:37.981056Z",
     "iopub.status.idle": "2024-08-28T17:27:37.983005Z",
     "shell.execute_reply": "2024-08-28T17:27:37.982681Z"
    }
   },
   "outputs": [],
   "source": [
    "# TODO SNOW-1635620: uncomment when TimeDelta is implemented\n",
    "#dti.tz_convert(\"US/Pacific\")"
   ]
  },
  {
   "cell_type": "markdown",
   "id": "ed3c83b4-e048-4dbb-8d94-25cb0ee62e66",
   "metadata": {},
   "source": [
    "### Resampling or converting a time series to a particular frequency"
   ]
  },
  {
   "cell_type": "code",
   "execution_count": 7,
   "id": "5aa8cd79-521b-42ee-a3a6-66be36603bcb",
   "metadata": {
    "execution": {
     "iopub.execute_input": "2024-08-28T17:27:37.985074Z",
     "iopub.status.busy": "2024-08-28T17:27:37.984931Z",
     "iopub.status.idle": "2024-08-28T17:27:39.127895Z",
     "shell.execute_reply": "2024-08-28T17:27:39.127293Z"
    }
   },
   "outputs": [
    {
     "data": {
      "text/plain": [
       "2018-01-01 00:00:00    0\n",
       "2018-01-01 01:00:00    1\n",
       "2018-01-01 02:00:00    2\n",
       "2018-01-01 03:00:00    3\n",
       "2018-01-01 04:00:00    4\n",
       "Freq: None, dtype: int64"
      ]
     },
     "execution_count": 7,
     "metadata": {},
     "output_type": "execute_result"
    }
   ],
   "source": [
    "idx = pd.date_range(\"2018-01-01\", periods=5, freq=\"h\")\n",
    "ts = pd.Series(range(len(idx)), index=idx)\n",
    "ts"
   ]
  },
  {
   "cell_type": "code",
   "execution_count": 8,
   "id": "796c954c-7f60-441b-b85e-1098824fae4b",
   "metadata": {
    "execution": {
     "iopub.execute_input": "2024-08-28T17:27:39.131539Z",
     "iopub.status.busy": "2024-08-28T17:27:39.131194Z",
     "iopub.status.idle": "2024-08-28T17:27:39.966782Z",
     "shell.execute_reply": "2024-08-28T17:27:39.966293Z"
    }
   },
   "outputs": [
    {
     "data": {
      "text/plain": [
       "2018-01-01 00:00:00    0.5\n",
       "2018-01-01 02:00:00    2.5\n",
       "2018-01-01 04:00:00    4.0\n",
       "Freq: None, dtype: float64"
      ]
     },
     "execution_count": 8,
     "metadata": {},
     "output_type": "execute_result"
    }
   ],
   "source": [
    "ts.resample(\"2h\").mean()"
   ]
  },
  {
   "cell_type": "markdown",
   "id": "e873f69d-e8b5-423f-9f0e-b019d37e15df",
   "metadata": {},
   "source": [
    "### Performing date and time arithmetic with absolute or relative time increments"
   ]
  },
  {
   "cell_type": "code",
   "execution_count": 9,
   "id": "e7272da8-eae8-4e31-8a61-2f442a6780e0",
   "metadata": {
    "execution": {
     "iopub.execute_input": "2024-08-28T17:27:39.969410Z",
     "iopub.status.busy": "2024-08-28T17:27:39.969229Z",
     "iopub.status.idle": "2024-08-28T17:27:39.972019Z",
     "shell.execute_reply": "2024-08-28T17:27:39.971689Z"
    }
   },
   "outputs": [
    {
     "data": {
      "text/plain": [
       "'Friday'"
      ]
     },
     "execution_count": 9,
     "metadata": {},
     "output_type": "execute_result"
    }
   ],
   "source": [
    "friday = pd.Timestamp(\"2018-01-05\")\n",
    "friday.day_name()"
   ]
  },
  {
   "cell_type": "code",
   "execution_count": 10,
   "id": "b69cb16a-9fc7-46fe-a6f6-a6a1ce635dc5",
   "metadata": {
    "execution": {
     "iopub.execute_input": "2024-08-28T17:27:39.974318Z",
     "iopub.status.busy": "2024-08-28T17:27:39.974172Z",
     "iopub.status.idle": "2024-08-28T17:27:39.976711Z",
     "shell.execute_reply": "2024-08-28T17:27:39.976411Z"
    }
   },
   "outputs": [
    {
     "data": {
      "text/plain": [
       "'Saturday'"
      ]
     },
     "execution_count": 10,
     "metadata": {},
     "output_type": "execute_result"
    }
   ],
   "source": [
    "saturday = friday + pd.Timedelta(\"1 day\")\n",
    "saturday.day_name()"
   ]
  },
  {
   "cell_type": "code",
   "execution_count": 11,
   "id": "064f4271-9485-497d-b176-b39d4f75248c",
   "metadata": {
    "execution": {
     "iopub.execute_input": "2024-08-28T17:27:39.979219Z",
     "iopub.status.busy": "2024-08-28T17:27:39.979068Z",
     "iopub.status.idle": "2024-08-28T17:27:39.981624Z",
     "shell.execute_reply": "2024-08-28T17:27:39.981354Z"
    }
   },
   "outputs": [
    {
     "data": {
      "text/plain": [
       "'Monday'"
      ]
     },
     "execution_count": 11,
     "metadata": {},
     "output_type": "execute_result"
    }
   ],
   "source": [
    "monday = friday + pd.offsets.BDay()\n",
    "monday.day_name()"
   ]
  },
  {
   "cell_type": "code",
   "execution_count": 12,
   "id": "86bf9469-b7d3-44fc-900e-cfd67a065842",
   "metadata": {
    "execution": {
     "iopub.execute_input": "2024-08-28T17:27:39.983587Z",
     "iopub.status.busy": "2024-08-28T17:27:39.983443Z",
     "iopub.status.idle": "2024-08-28T17:27:40.913877Z",
     "shell.execute_reply": "2024-08-28T17:27:40.913560Z"
    }
   },
   "outputs": [
    {
     "data": {
      "text/plain": [
       "2012-01-01    NaN\n",
       "2012-01-02    0.0\n",
       "2012-01-03    1.0\n",
       "Freq: None, dtype: float64"
      ]
     },
     "execution_count": 12,
     "metadata": {},
     "output_type": "execute_result"
    }
   ],
   "source": [
    "rng = pd.date_range(\"2012-01-01\", \"2012-01-03\")\n",
    "ts = pd.Series(range(len(rng)), index=rng)\n",
    "ts = ts[:5]\n",
    "ts.shift(1)"
   ]
  },
  {
   "cell_type": "markdown",
   "id": "1a42453c-bea7-470a-be57-650f42fea9a5",
   "metadata": {},
   "source": [
    "### Time Series-related instance methods"
   ]
  },
  {
   "cell_type": "markdown",
   "id": "86658f09-80b8-42a5-a108-efc4dddfdb09",
   "metadata": {},
   "source": [
    "### From timestamps to epoch"
   ]
  },
  {
   "cell_type": "code",
   "execution_count": 13,
   "id": "0e4e6063-a60f-4a70-adca-2cb9b3b101f8",
   "metadata": {
    "execution": {
     "iopub.execute_input": "2024-08-28T17:27:40.916090Z",
     "iopub.status.busy": "2024-08-28T17:27:40.915940Z",
     "iopub.status.idle": "2024-08-28T17:27:41.359184Z",
     "shell.execute_reply": "2024-08-28T17:27:41.358781Z"
    }
   },
   "outputs": [
    {
     "data": {
      "text/plain": [
       "DatetimeIndex(['2012-10-08 18:15:05', '2012-10-09 18:15:05',\n",
       "               '2012-10-10 18:15:05', '2012-10-11 18:15:05'],\n",
       "              dtype='datetime64[ns]', freq=None)"
      ]
     },
     "execution_count": 13,
     "metadata": {},
     "output_type": "execute_result"
    }
   ],
   "source": [
    "stamps = pd.date_range(\"2012-10-08 18:15:05\", periods=4, freq=\"D\")\n",
    "stamps"
   ]
  },
  {
   "cell_type": "code",
   "execution_count": 14,
   "id": "f4a38e8b-abcb-49c6-839d-01e4215d7d7a",
   "metadata": {
    "execution": {
     "iopub.execute_input": "2024-08-28T17:27:41.361646Z",
     "iopub.status.busy": "2024-08-28T17:27:41.361457Z",
     "iopub.status.idle": "2024-08-28T17:27:41.363485Z",
     "shell.execute_reply": "2024-08-28T17:27:41.363091Z"
    }
   },
   "outputs": [],
   "source": [
    "# TODO SNOW-1635620: uncomment when TimeDelta is implemented\n",
    "# (stamps - pd.Timestamp(\"1970-01-01\")) // pd.Timedelta(\"1s\")"
   ]
  },
  {
   "cell_type": "markdown",
   "id": "9b5b10c8-e72f-4405-bdeb-1bced14c8edf",
   "metadata": {},
   "source": [
    "### DateOffset objects"
   ]
  },
  {
   "cell_type": "code",
   "execution_count": 15,
   "id": "1febbd6a-1b57-4e6a-a48a-3eac565ad61d",
   "metadata": {
    "execution": {
     "iopub.execute_input": "2024-08-28T17:27:41.365775Z",
     "iopub.status.busy": "2024-08-28T17:27:41.365599Z",
     "iopub.status.idle": "2024-08-28T17:27:41.413954Z",
     "shell.execute_reply": "2024-08-28T17:27:41.413683Z"
    }
   },
   "outputs": [
    {
     "data": {
      "text/plain": [
       "Timestamp('2016-10-30 23:00:00+0200', tz='Europe/Helsinki')"
      ]
     },
     "execution_count": 15,
     "metadata": {},
     "output_type": "execute_result"
    }
   ],
   "source": [
    "ts = pd.Timestamp(\"2016-10-30 00:00:00\", tz=\"Europe/Helsinki\")\n",
    "\n",
    "ts + pd.Timedelta(days=1)"
   ]
  },
  {
   "cell_type": "code",
   "execution_count": 16,
   "id": "b8d03fb0-826f-4698-a6d0-f2b63f7d38dc",
   "metadata": {
    "execution": {
     "iopub.execute_input": "2024-08-28T17:27:41.415634Z",
     "iopub.status.busy": "2024-08-28T17:27:41.415523Z",
     "iopub.status.idle": "2024-08-28T17:27:41.417793Z",
     "shell.execute_reply": "2024-08-28T17:27:41.417561Z"
    }
   },
   "outputs": [
    {
     "data": {
      "text/plain": [
       "Timestamp('2016-10-31 00:00:00+0200', tz='Europe/Helsinki')"
      ]
     },
     "execution_count": 16,
     "metadata": {},
     "output_type": "execute_result"
    }
   ],
   "source": [
    "ts + pd.DateOffset(days=1)"
   ]
  },
  {
   "cell_type": "markdown",
   "id": "00d1f5cf-c073-4c60-949b-404953b80000",
   "metadata": {},
   "source": [
    "### Timestamp Binary Operations"
   ]
  },
  {
   "cell_type": "code",
   "execution_count": 17,
   "id": "dd818a8d-97c1-46f3-b29f-499ba92f22ae",
   "metadata": {
    "execution": {
     "iopub.execute_input": "2024-08-28T17:27:41.419736Z",
     "iopub.status.busy": "2024-08-28T17:27:41.419620Z",
     "iopub.status.idle": "2024-08-28T17:27:42.097520Z",
     "shell.execute_reply": "2024-08-28T17:27:42.097100Z"
    }
   },
   "outputs": [
    {
     "data": {
      "text/plain": [
       "Timedelta('396 days 03:00:00')"
      ]
     },
     "execution_count": 17,
     "metadata": {},
     "output_type": "execute_result"
    }
   ],
   "source": [
    "pd.to_datetime('2018-10-26 12:00:00') - pd.to_datetime('2017-09-25 09:00:00')"
   ]
  },
  {
   "cell_type": "code",
   "execution_count": 18,
   "id": "7c9a87d2-7883-46a6-8433-dfa5900ca9b0",
   "metadata": {
    "execution": {
     "iopub.execute_input": "2024-08-28T17:27:42.099835Z",
     "iopub.status.busy": "2024-08-28T17:27:42.099657Z",
     "iopub.status.idle": "2024-08-28T17:27:42.102502Z",
     "shell.execute_reply": "2024-08-28T17:27:42.102144Z"
    }
   },
   "outputs": [
    {
     "data": {
      "text/plain": [
       "Timedelta('6 days 07:00:00')"
      ]
     },
     "execution_count": 18,
     "metadata": {},
     "output_type": "execute_result"
    }
   ],
   "source": [
    "pd.Timestamp(\"2014-08-01 10:00\") - pd.Timestamp(\"2014-07-26 03:00\")"
   ]
  },
  {
   "cell_type": "code",
   "execution_count": 19,
   "id": "e78454b1-0d4c-42bc-a127-b21a4a7f09cf",
   "metadata": {
    "execution": {
     "iopub.execute_input": "2024-08-28T17:27:42.104922Z",
     "iopub.status.busy": "2024-08-28T17:27:42.104781Z",
     "iopub.status.idle": "2024-08-28T17:27:42.107600Z",
     "shell.execute_reply": "2024-08-28T17:27:42.107293Z"
    }
   },
   "outputs": [
    {
     "data": {
      "text/plain": [
       "Timedelta('682 days 03:00:00')"
      ]
     },
     "execution_count": 19,
     "metadata": {},
     "output_type": "execute_result"
    }
   ],
   "source": [
    "pd.Timestamp(year=2017, month=1, day=1, hour=12) - pd.Timestamp(year=2015, month=2, day=19, hour=9)"
   ]
  },
  {
   "cell_type": "code",
   "execution_count": 20,
   "id": "2534d141-1862-4901-ba70-7ed73ab9abdd",
   "metadata": {
    "execution": {
     "iopub.execute_input": "2024-08-28T17:27:42.109761Z",
     "iopub.status.busy": "2024-08-28T17:27:42.109628Z",
     "iopub.status.idle": "2024-08-28T17:27:42.763799Z",
     "shell.execute_reply": "2024-08-28T17:27:42.763158Z"
    }
   },
   "outputs": [
    {
     "data": {
      "text/plain": [
       "Timedelta('-31 days +03:09:02')"
      ]
     },
     "execution_count": 20,
     "metadata": {},
     "output_type": "execute_result"
    }
   ],
   "source": [
    "(pd.to_datetime(\"2018-8-26 15:09:02\") - pd.to_datetime('2018-09-26 12:00:00'))"
   ]
  },
  {
   "cell_type": "code",
   "execution_count": null,
   "id": "8665a37e-15c0-44fb-9cb6-cb11cd9b495d",
   "metadata": {},
   "outputs": [],
   "source": []
  }
 ],
 "metadata": {
  "kernelspec": {
   "display_name": "Python 3 (ipykernel)",
   "language": "python",
   "name": "python3"
  },
  "language_info": {
   "codemirror_mode": {
    "name": "ipython",
    "version": 3
   },
   "file_extension": ".py",
   "mimetype": "text/x-python",
   "name": "python",
   "nbconvert_exporter": "python",
   "pygments_lexer": "ipython3",
   "version": "3.9.18"
  }
 },
 "nbformat": 4,
 "nbformat_minor": 5
}
