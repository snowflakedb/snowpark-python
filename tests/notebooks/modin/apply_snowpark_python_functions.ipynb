{
 "cells": [
  {
   "cell_type": "code",
   "execution_count": 1,
   "id": "4ef9430f-9701-4ce1-8fe1-44ad09702b8e",
   "metadata": {},
   "outputs": [],
   "source": [
    "import modin.pandas as pd\n",
    "import snowflake.snowpark.modin.plugin\n",
    "import pandas as native_pd\n",
    "import json\n",
    "from snowflake.snowpark import Session\n",
    "# Create Snowflake Session object\n",
    "from pathlib import Path\n",
    "import sys\n",
    "connection_parameters_path = str(Path(\"__file__\").absolute().parent.parent.parent.parent)\n",
    "sys.path.append(connection_parameters_path)\n",
    "from tests.parameters import CONNECTION_PARAMETERS\n",
    "\n",
    "session = Session.builder.configs(CONNECTION_PARAMETERS).create()"
   ]
  },
  {
   "cell_type": "markdown",
   "id": "3e625ff3-7922-43f1-9ce4-7938ef9cd398",
   "metadata": {},
   "source": [
    "## JSON Operations"
   ]
  },
  {
   "cell_type": "code",
   "execution_count": 2,
   "id": "e14d2f84-567e-4277-b84e-90ead5de60dc",
   "metadata": {},
   "outputs": [
    {
     "data": {
      "text/html": [
       "<div>\n",
       "<style scoped>\n",
       "    .dataframe tbody tr th:only-of-type {\n",
       "        vertical-align: middle;\n",
       "    }\n",
       "\n",
       "    .dataframe tbody tr th {\n",
       "        vertical-align: top;\n",
       "    }\n",
       "\n",
       "    .dataframe thead th {\n",
       "        text-align: right;\n",
       "    }\n",
       "</style>\n",
       "<table border=\"1\" class=\"dataframe\">\n",
       "  <thead>\n",
       "    <tr style=\"text-align: right;\">\n",
       "      <th></th>\n",
       "      <th>id</th>\n",
       "      <th>json_col</th>\n",
       "    </tr>\n",
       "  </thead>\n",
       "  <tbody>\n",
       "    <tr>\n",
       "      <th>0</th>\n",
       "      <td>1</td>\n",
       "      <td>{'age': 30, 'name': 'Alice'}</td>\n",
       "    </tr>\n",
       "    <tr>\n",
       "      <th>1</th>\n",
       "      <td>2</td>\n",
       "      <td>{'age': 25, 'name': 'Bob'}</td>\n",
       "    </tr>\n",
       "  </tbody>\n",
       "</table>\n",
       "</div>"
      ],
      "text/plain": [
       "   id                      json_col\n",
       "0   1  {'age': 30, 'name': 'Alice'}\n",
       "1   2    {'age': 25, 'name': 'Bob'}"
      ]
     },
     "execution_count": 2,
     "metadata": {},
     "output_type": "execute_result"
    }
   ],
   "source": [
    "df = pd.DataFrame({\n",
    "    'id': [1, 2],\n",
    "    'json_col': [{'name': 'Alice', 'age': 30}, {'name': 'Bob', 'age': 25}]\n",
    "})\n",
    "df"
   ]
  },
  {
   "cell_type": "code",
   "execution_count": 3,
   "id": "5a1174af-d6ae-4aaf-a7d9-59889622b203",
   "metadata": {},
   "outputs": [
    {
     "name": "stderr",
     "output_type": "stream",
     "text": [
      "WARNING:snowflake.snowpark.modin.plugin.utils.warning_message:The argument `convert_dtype` of `apply` has been ignored by Snowpark pandas API:\n",
      "convert_dtype is ignored in Snowflake backend.\n"
     ]
    },
    {
     "data": {
      "text/html": [
       "<div>\n",
       "<style scoped>\n",
       "    .dataframe tbody tr th:only-of-type {\n",
       "        vertical-align: middle;\n",
       "    }\n",
       "\n",
       "    .dataframe tbody tr th {\n",
       "        vertical-align: top;\n",
       "    }\n",
       "\n",
       "    .dataframe thead th {\n",
       "        text-align: right;\n",
       "    }\n",
       "</style>\n",
       "<table border=\"1\" class=\"dataframe\">\n",
       "  <thead>\n",
       "    <tr style=\"text-align: right;\">\n",
       "      <th></th>\n",
       "      <th>id</th>\n",
       "      <th>json_col</th>\n",
       "      <th>name</th>\n",
       "      <th>age</th>\n",
       "    </tr>\n",
       "  </thead>\n",
       "  <tbody>\n",
       "    <tr>\n",
       "      <th>0</th>\n",
       "      <td>1</td>\n",
       "      <td>{'age': 30, 'name': 'Alice'}</td>\n",
       "      <td>Alice</td>\n",
       "      <td>30</td>\n",
       "    </tr>\n",
       "    <tr>\n",
       "      <th>1</th>\n",
       "      <td>2</td>\n",
       "      <td>{'age': 25, 'name': 'Bob'}</td>\n",
       "      <td>Bob</td>\n",
       "      <td>25</td>\n",
       "    </tr>\n",
       "  </tbody>\n",
       "</table>\n",
       "</div>"
      ],
      "text/plain": [
       "   id                      json_col   name  age\n",
       "0   1  {'age': 30, 'name': 'Alice'}  Alice   30\n",
       "1   2    {'age': 25, 'name': 'Bob'}    Bob   25"
      ]
     },
     "execution_count": 3,
     "metadata": {},
     "output_type": "execute_result"
    }
   ],
   "source": [
    "# Extract the value associated with the 'name' key\n",
    "from snowflake.snowpark.functions import get, lit\n",
    "df['name'] = df['json_col'].apply(get, args=[lit('name')]) # sf.get function will call SQL get \n",
    "df['age'] = df['json_col'].apply(get, args=[lit('age')]) # sf.func is a more general function builder \n",
    "df"
   ]
  },
  {
   "cell_type": "code",
   "execution_count": 4,
   "id": "f269abba-6ae6-4e08-853d-059cc28524eb",
   "metadata": {},
   "outputs": [
    {
     "data": {
      "text/html": [
       "<div>\n",
       "<style scoped>\n",
       "    .dataframe tbody tr th:only-of-type {\n",
       "        vertical-align: middle;\n",
       "    }\n",
       "\n",
       "    .dataframe tbody tr th {\n",
       "        vertical-align: top;\n",
       "    }\n",
       "\n",
       "    .dataframe thead th {\n",
       "        text-align: right;\n",
       "    }\n",
       "</style>\n",
       "<table border=\"1\" class=\"dataframe\">\n",
       "  <thead>\n",
       "    <tr style=\"text-align: right;\">\n",
       "      <th></th>\n",
       "      <th>id</th>\n",
       "      <th>json_col</th>\n",
       "      <th>name</th>\n",
       "      <th>age</th>\n",
       "      <th>rename</th>\n",
       "    </tr>\n",
       "  </thead>\n",
       "  <tbody>\n",
       "    <tr>\n",
       "      <th>0</th>\n",
       "      <td>1</td>\n",
       "      <td>{'age': 30, 'name': 'Alice'}</td>\n",
       "      <td>Alice</td>\n",
       "      <td>30</td>\n",
       "      <td>Alice</td>\n",
       "    </tr>\n",
       "    <tr>\n",
       "      <th>1</th>\n",
       "      <td>2</td>\n",
       "      <td>{'age': 25, 'name': 'Bob'}</td>\n",
       "      <td>Bob</td>\n",
       "      <td>25</td>\n",
       "      <td>John</td>\n",
       "    </tr>\n",
       "  </tbody>\n",
       "</table>\n",
       "</div>"
      ],
      "text/plain": [
       "   id                      json_col   name  age rename\n",
       "0   1  {'age': 30, 'name': 'Alice'}  Alice   30  Alice\n",
       "1   2    {'age': 25, 'name': 'Bob'}    Bob   25   John"
      ]
     },
     "execution_count": 4,
     "metadata": {},
     "output_type": "execute_result"
    }
   ],
   "source": [
    "from snowflake.snowpark.functions import replace\n",
    "df[\"rename\"] = df.name.apply(replace, args=[\"Bob\", \"John\"])\n",
    "df"
   ]
  },
  {
   "cell_type": "code",
   "execution_count": 5,
   "id": "b5523cfc-3d71-4f3b-b6e0-2ee2d0c21042",
   "metadata": {},
   "outputs": [
    {
     "data": {
      "text/plain": [
       "25"
      ]
     },
     "execution_count": 5,
     "metadata": {},
     "output_type": "execute_result"
    }
   ],
   "source": [
    "from snowflake.snowpark.functions import min\n",
    "df.age.agg(min)"
   ]
  },
  {
   "cell_type": "markdown",
   "id": "933e27e1-31cf-483c-bec8-6e9f7a07424d",
   "metadata": {},
   "source": [
    "## Cortex "
   ]
  },
  {
   "cell_type": "code",
   "execution_count": 6,
   "id": "c9549b2e-9839-4f91-9ac5-d7c7c249df7f",
   "metadata": {},
   "outputs": [
    {
     "data": {
      "text/plain": [
       "0            how old are you\n",
       "1          what is your name\n",
       "2    how many days in a week\n",
       "dtype: object"
      ]
     },
     "execution_count": 6,
     "metadata": {},
     "output_type": "execute_result"
    }
   ],
   "source": [
    "series = pd.Series([\n",
    "    \"how old are you\",\n",
    "    \"what is your name\",\n",
    "    \"how many days in a week\"\n",
    "])\n",
    "series"
   ]
  },
  {
   "cell_type": "code",
   "execution_count": 7,
   "id": "3f5b01db-044a-41ee-9356-f400c20043e0",
   "metadata": {},
   "outputs": [
    {
     "data": {
      "text/plain": [
       "0    多大成年齢你?\n",
       "1      那你名何?\n",
       "2     一週何日間?\n",
       "dtype: object"
      ]
     },
     "execution_count": 7,
     "metadata": {},
     "output_type": "execute_result"
    }
   ],
   "source": [
    "from snowflake.snowpark.functions import cortex_translate\n",
    "series.apply(cortex_translate, args=[\"en\", \"zh_CN\"])"
   ]
  },
  {
   "cell_type": "code",
   "execution_count": 8,
   "id": "abbf1ab8-86fb-45e7-b3a3-b4391680971c",
   "metadata": {},
   "outputs": [
    {
     "data": {
      "text/plain": [
       "0           ¿Cuántos años tienes?\n",
       "1                ¿Cómo te llamas?\n",
       "2    ¿Cuántos días en una semana?\n",
       "dtype: object"
      ]
     },
     "execution_count": 8,
     "metadata": {},
     "output_type": "execute_result"
    }
   ],
   "source": [
    "series.apply(cortex_translate, args=[\"en\", \"es\"])"
   ]
  },
  {
   "cell_type": "code",
   "execution_count": 9,
   "id": "3a6f915c-258c-4fc8-9447-b73d7c5ab643",
   "metadata": {},
   "outputs": [
    {
     "data": {
      "text/html": [
       "<div>\n",
       "<style scoped>\n",
       "    .dataframe tbody tr th:only-of-type {\n",
       "        vertical-align: middle;\n",
       "    }\n",
       "\n",
       "    .dataframe tbody tr th {\n",
       "        vertical-align: top;\n",
       "    }\n",
       "\n",
       "    .dataframe thead th {\n",
       "        text-align: right;\n",
       "    }\n",
       "</style>\n",
       "<table border=\"1\" class=\"dataframe\">\n",
       "  <thead>\n",
       "    <tr style=\"text-align: right;\">\n",
       "      <th></th>\n",
       "      <th>prompt</th>\n",
       "    </tr>\n",
       "  </thead>\n",
       "  <tbody>\n",
       "    <tr>\n",
       "      <th>0</th>\n",
       "      <td>What model am I using right now?</td>\n",
       "    </tr>\n",
       "    <tr>\n",
       "      <th>1</th>\n",
       "      <td>What is Snowpark pandas API?</td>\n",
       "    </tr>\n",
       "    <tr>\n",
       "      <th>2</th>\n",
       "      <td>Can you show me an example pandas dataframe?</td>\n",
       "    </tr>\n",
       "  </tbody>\n",
       "</table>\n",
       "</div>"
      ],
      "text/plain": [
       "                                         prompt\n",
       "0              What model am I using right now?\n",
       "1                  What is Snowpark pandas API?\n",
       "2  Can you show me an example pandas dataframe?"
      ]
     },
     "execution_count": 9,
     "metadata": {},
     "output_type": "execute_result"
    }
   ],
   "source": [
    "df = pd.DataFrame({\"prompt\": [\n",
    "    \"What model am I using right now?\",\n",
    "    \"What is Snowpark pandas API?\",\n",
    "    \"Can you show me an example pandas dataframe?\"\n",
    "]})\n",
    "df"
   ]
  },
  {
   "cell_type": "code",
   "execution_count": 11,
   "id": "043947d3-01e4-4cbd-9a14-b49af0eae0a3",
   "metadata": {},
   "outputs": [],
   "source": [
    "from snowflake.snowpark.functions import cortex_complete\n",
    "df[\"answer\"] = df.prompt.apply(cortex_complete, args=[\"snowflake-arctic\"])"
   ]
  },
  {
   "cell_type": "code",
   "execution_count": 12,
   "id": "24527f06-269e-4e0b-a515-97fc5af328eb",
   "metadata": {},
   "outputs": [
    {
     "data": {
      "text/html": [
       "<table border=\"1\" class=\"dataframe\">\n",
       "  <thead>\n",
       "    <tr style=\"text-align: right;\">\n",
       "      <th></th>\n",
       "      <th>prompt</th>\n",
       "      <th>answer</th>\n",
       "    </tr>\n",
       "  </thead>\n",
       "  <tbody>\n",
       "    <tr>\n",
       "      <th>0</th>\n",
       "      <td>What model am I using right now?</td>\n",
       "      <td>I don't have access to your current device or software. Please specify the type of device or software you are using, and I'll try my best to identify the model.</td>\n",
       "    </tr>\n",
       "    <tr>\n",
       "      <th>1</th>\n",
       "      <td>What is Snowpark pandas API?</td>\n",
       "      <td>Snowpark Pandas API is an extension of the Snowpark API, which is a library developed by Snowflake to enable data scientists, data engineers, and developers to interact with Snowflake's Data Cloud using familiar programming constructs such as DataFrames and APIs. The Snowpark Pandas API specifically allows users to work with Pandas DataFrames within the Snowflake environment, enabling them to leverage the powerful data manipulation and analysis capabilities of Pandas while working with data stored in Snowflake.<br><br>This API provides a seamless experience for users who are already familiar with Pandas and want to work with their data stored in Snowflake without having to learn a new library or language. It also allows users to take advantage of the scalability and performance of the Snowflake platform when working with large datasets.</td>\n",
       "    </tr>\n",
       "    <tr>\n",
       "      <th>2</th>\n",
       "      <td>Can you show me an example pandas dataframe?</td>\n",
       "      <td>Sure! Here's an example of a pandas DataFrame:<br><br>```python<br>import pandas as pd<br><br>data = {<br>    'apples': [3, 2, 0, 1], <br>    'oranges': [0, 3, 7, 2]<br>}<br><br>purchases = pd.DataFrame(data)<br><br>print(purchases)<br>```<br><br>This will output:<br><br>```<br>   apples  oranges<br>0       3        0<br>1       2        3<br>2       0        7<br>3       1        2<br>```<br><br>This DataFrame has two columns ('apples' and 'oranges') and four rows, each representing a purchase of apples and oranges. The numbers in the table indicate the quantity of each fruit purchased.</td>\n",
       "    </tr>\n",
       "  </tbody>\n",
       "</table>"
      ],
      "text/plain": [
       "<IPython.core.display.HTML object>"
      ]
     },
     "metadata": {},
     "output_type": "display_data"
    }
   ],
   "source": [
    "from IPython.display import display, HTML\n",
    "\n",
    "def pretty_print(df):\n",
    "    return display( HTML( df.to_html().replace(\"\\\\n\",\"<br>\") ) )\n",
    "\n",
    "# Set display options to show full text\n",
    "pd.set_option('display.max_colwidth', None)\n",
    "pretty_print(df.to_pandas())"
   ]
  },
  {
   "cell_type": "code",
   "execution_count": null,
   "id": "3014faea-3996-463a-8ab4-f8c12d2a109f",
   "metadata": {},
   "outputs": [],
   "source": []
  }
 ],
 "metadata": {
  "kernelspec": {
   "display_name": "Python 3 (ipykernel)",
   "language": "python",
   "name": "python3"
  },
  "language_info": {
   "codemirror_mode": {
    "name": "ipython",
    "version": 3
   },
   "file_extension": ".py",
   "mimetype": "text/x-python",
   "name": "python",
   "nbconvert_exporter": "python",
   "pygments_lexer": "ipython3",
   "version": "3.9.18"
  }
 },
 "nbformat": 4,
 "nbformat_minor": 5
}
