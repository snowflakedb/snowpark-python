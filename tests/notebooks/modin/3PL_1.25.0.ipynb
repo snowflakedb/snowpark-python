{
 "cells": [
  {
   "cell_type": "code",
   "execution_count": 1,
   "id": "0ce74b74-7979-41cd-8c31-14c6a3ec8d4e",
   "metadata": {
    "ExecuteTime": {
     "end_time": "2025-02-18T00:30:18.695170Z",
     "start_time": "2025-02-18T00:30:15.735874Z"
    }
   },
   "outputs": [],
   "source": [
    "from snowflake.snowpark import Session\n",
    "import modin.pandas as pd\n",
    "import snowflake.snowpark.modin.plugin\n",
    "from pathlib import Path\n",
    "import sys\n",
    "connection_parameters_path = str(Path('__file__').absolute().parent.parent.parent.parent)\n",
    "sys.path.append(connection_parameters_path)\n",
    "from tests.parameters import CONNECTION_PARAMETERS\n",
    "\n",
    "session = Session.builder.configs(CONNECTION_PARAMETERS).create()"
   ]
  },
  {
   "cell_type": "code",
   "execution_count": 3,
   "id": "d9873515-ba59-4620-93d4-72b09497e920",
   "metadata": {
    "ExecuteTime": {
     "end_time": "2025-02-18T00:30:20.065191Z",
     "start_time": "2025-02-18T00:30:20.057657Z"
    }
   },
   "outputs": [
    {
     "data": {
      "text/plain": [
       "'1.25.0'"
      ]
     },
     "execution_count": 3,
     "metadata": {},
     "output_type": "execute_result"
    }
   ],
   "source": [
    "snowflake.snowpark.__version__"
   ]
  },
  {
   "cell_type": "code",
   "execution_count": null,
   "id": "4b494d84-731b-441e-a6ac-65e59c1d2fba",
   "metadata": {
    "ExecuteTime": {
     "end_time": "2025-02-18T00:30:28.558651Z",
     "start_time": "2025-02-18T00:30:28.452731Z"
    }
   },
   "outputs": [],
   "source": [
    "import plotly.express as px"
   ]
  },
  {
   "cell_type": "code",
   "execution_count": null,
   "id": "2c6e0457-e98c-489d-9d53-133cc316fe11",
   "metadata": {},
   "outputs": [],
   "source": [
    "pd.DataFrame([[1, 2], [3, 4]])"
   ]
  },
  {
   "cell_type": "code",
   "execution_count": null,
   "id": "d1876902-6767-4b54-889f-e58c9312f1ec",
   "metadata": {},
   "outputs": [],
   "source": [
    "px.scatter(pd.DataFrame([[1, 2], [3, 4]]))"
   ]
  },
  {
   "cell_type": "code",
   "execution_count": null,
   "id": "29e7537e-8cc8-4fc8-8d31-7ce827b35153",
   "metadata": {},
   "outputs": [],
   "source": [
    "from sklearn.discriminant_analysis import LinearDiscriminantAnalysis\n",
    "\n",
    "df = pd.DataFrame(\n",
    "    {\n",
    "        \"feature1\": [1, 5, 3, 4, 4, 6, 7, 2, 9, 70],\n",
    "        \"feature2\": [2, 4, 1, 3, 5, 7, 6, 3, 10, 9],\n",
    "        \"target\": [0, 0, 1, 0, 1, 1, 1, 0, 1, 0],\n",
    "    }\n",
    ")\n",
    "\n",
    "train_size = 8\n",
    "X = df[[\"feature1\", \"feature2\"]]\n",
    "y = df[\"target\"]\n",
    "train_size = 8\n",
    "X_train, X_test = X.iloc[:train_size], X.iloc[train_size:]\n",
    "y_train = y.iloc[:train_size]"
   ]
  },
  {
   "cell_type": "code",
   "execution_count": null,
   "id": "1b25121d-df9a-4d3e-ad50-6cc50f1f3718",
   "metadata": {},
   "outputs": [],
   "source": [
    "LinearDiscriminantAnalysis().fit(X_train, y_train).predict(X_test)"
   ]
  },
  {
   "cell_type": "code",
   "execution_count": null,
   "id": "371afbe1-fac1-4604-a42a-a9c728280db3",
   "metadata": {},
   "outputs": [],
   "source": [
    "LinearDiscriminantAnalysis().fit(X_train.to_pandas(), y_train.to_pandas()).predict(X_test.to_pandas())"
   ]
  },
  {
   "cell_type": "code",
   "execution_count": null,
   "id": "08bbc612-5385-42cc-8aac-68a95d37fbbd",
   "metadata": {},
   "outputs": [],
   "source": []
  }
 ],
 "metadata": {
  "kernelspec": {
   "display_name": "Python 3 (ipykernel)",
   "language": "python",
   "name": "python3"
  },
  "language_info": {
   "codemirror_mode": {
    "name": "ipython",
    "version": 3
   },
   "file_extension": ".py",
   "mimetype": "text/x-python",
   "name": "python",
   "nbconvert_exporter": "python",
   "pygments_lexer": "ipython3",
   "version": "3.10.16"
  }
 },
 "nbformat": 4,
 "nbformat_minor": 5
}
