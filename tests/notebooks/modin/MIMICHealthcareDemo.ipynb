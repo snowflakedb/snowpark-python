{
 "cells": [
  {
   "cell_type": "markdown",
   "id": "320e4130-b4ac-4eb3-bf09-289c797609c4",
   "metadata": {},
   "source": [
    "## Using Snowpark pandas for Healthcare Data Analysis"
   ]
  },
  {
   "cell_type": "markdown",
   "id": "6a6ce75c-4527-487f-9eea-505f39c96165",
   "metadata": {},
   "source": [
    "With the growth of electronic health records, healthcare providers store, process, and analyze information about patients, their medical history, treatment, and outcomes. Effective analysis of electronic health records has shown to improve the patient care experience, support clinical decision-making, and advance the frontiers of medical research.\n",
    "\n",
    "In this notebook, we will walk through a real-world analysis scenario of how you can use Snowpark pandas to analyze electronic health records directly in Snowflake.\n",
    "\n",
    "\n",
    "### The MIMIC-III Clinical Dataset\n",
    "\n",
    "In this blog post, we will be looking at the [MIMIC-III demo dataset](https://physionet.org/content/mimiciii-demo/1.4/). The MIMIC-III Clinical Database contains deidentified health-related data of patients who stayed in an intensive care unit (ICU) at the Beth Israel Deaconess Medical Center in Boston. The demo dataset contains records for 100 patients across three tables `PATIENTS`, `ICUSTAYS`, and `ADMISSIONS`. \n",
    "\n",
    "Citation: \n",
    "```\n",
    "Johnson, A. E. W., Pollard, T. J., Shen, L., Lehman, L. H., Feng, M., Ghassemi, M., Moody, B., Szolovits, P., Celi, L. A., & Mark, R. G. (2016). MIMIC-III, a freely accessible critical care database. Scientific data, 3, 160035.\n",
    "```"
   ]
  },
  {
   "cell_type": "code",
   "execution_count": 1,
   "id": "90243e71-4cf0-4971-a95e-3f29e12449fc",
   "metadata": {
    "tags": []
   },
   "outputs": [],
   "source": [
    "from pathlib import Path\n",
    "import sys\n",
    "from snowflake.snowpark import Session\n",
    "import modin.pandas as pd\n",
    "import snowflake.snowpark.modin.plugin\n",
    "\n",
    "connection_parameters_path = str(Path(\"__file__\").absolute().parent.parent.parent.parent)\n",
    "sys.path.append(connection_parameters_path)\n",
    "from tests.parameters import CONNECTION_PARAMETERS\n",
    "\n",
    "session = Session.builder.configs(CONNECTION_PARAMETERS).create()"
   ]
  },
  {
   "cell_type": "markdown",
   "id": "ae81c74d-f1d4-4067-9ef2-5031a34caf09",
   "metadata": {},
   "source": [
    "Once we have connected to the warehouse, we can use the pd.read_csv command to read in our ICUSTAYS and PATIENTS data."
   ]
  },
  {
   "cell_type": "code",
   "execution_count": 2,
   "id": "c309356f-14f8-469a-9257-b944b8951410",
   "metadata": {
    "tags": []
   },
   "outputs": [],
   "source": [
    "icu = pd.read_csv('data/ICUSTAYS.csv')\n",
    "patients = pd.read_csv('data/PATIENTS.csv')"
   ]
  },
  {
   "cell_type": "markdown",
   "id": "36bf114a-bcd2-4b2e-aad7-563a472fd114",
   "metadata": {},
   "source": [
    "Now we have connected to the two tables in our warehouse, we can operate on it just like you typically do with any pandas dataframe. Here, we join the two tables on the patient identifier `subject_id`."
   ]
  },
  {
   "cell_type": "code",
   "execution_count": 3,
   "id": "68823bb5-fcd1-4f92-b767-e5ac83dc3df7",
   "metadata": {
    "tags": []
   },
   "outputs": [],
   "source": [
    "df = patients.merge(icu,on=\"subject_id\")"
   ]
  },
  {
   "cell_type": "markdown",
   "id": "324347fd-3ec6-4c6a-a132-6a85964771d0",
   "metadata": {},
   "source": [
    "We drop the `row_id` columns, which is just a record ID from the database."
   ]
  },
  {
   "cell_type": "markdown",
   "id": "3688ff29-25b4-4e23-885a-ed290bfd3166",
   "metadata": {
    "tags": []
   },
   "source": [
    "### Exploratory Data Analysis: Dataset Overview"
   ]
  },
  {
   "cell_type": "markdown",
   "id": "9d903497-4805-43ee-82ec-2acc0c4afa34",
   "metadata": {
    "tags": []
   },
   "source": [
    "Exploratory data analysis is a important first step in any data science project that help uncover trends, patterns, and insights that inform subsequent analyses.\n",
    "\n",
    "To start off, let's look at the descriptive statistics to get an overview of the dataset."
   ]
  },
  {
   "cell_type": "code",
   "execution_count": 4,
   "id": "9a7fc3b9-50db-49da-a18a-8865a3356f31",
   "metadata": {
    "tags": []
   },
   "outputs": [
    {
     "data": {
      "text/html": [
       "<div>\n",
       "<style scoped>\n",
       "    .dataframe tbody tr th:only-of-type {\n",
       "        vertical-align: middle;\n",
       "    }\n",
       "\n",
       "    .dataframe tbody tr th {\n",
       "        vertical-align: top;\n",
       "    }\n",
       "\n",
       "    .dataframe thead th {\n",
       "        text-align: right;\n",
       "    }\n",
       "</style>\n",
       "<table border=\"1\" class=\"dataframe\">\n",
       "  <thead>\n",
       "    <tr style=\"text-align: right;\">\n",
       "      <th></th>\n",
       "      <th>row_id_x</th>\n",
       "      <th>subject_id</th>\n",
       "      <th>expire_flag</th>\n",
       "      <th>row_id_y</th>\n",
       "      <th>hadm_id</th>\n",
       "      <th>icustay_id</th>\n",
       "      <th>first_wardid</th>\n",
       "      <th>last_wardid</th>\n",
       "      <th>los</th>\n",
       "    </tr>\n",
       "  </thead>\n",
       "  <tbody>\n",
       "    <tr>\n",
       "      <th>count</th>\n",
       "      <td>136.000000</td>\n",
       "      <td>136.000000</td>\n",
       "      <td>136.0</td>\n",
       "      <td>136.000000</td>\n",
       "      <td>136.000000</td>\n",
       "      <td>136.000000</td>\n",
       "      <td>136.000000</td>\n",
       "      <td>136.000000</td>\n",
       "      <td>136.000000</td>\n",
       "    </tr>\n",
       "    <tr>\n",
       "      <th>mean</th>\n",
       "      <td>21893.161765</td>\n",
       "      <td>28263.485294</td>\n",
       "      <td>1.0</td>\n",
       "      <td>29370.316176</td>\n",
       "      <td>153259.566176</td>\n",
       "      <td>250980.470588</td>\n",
       "      <td>34.470588</td>\n",
       "      <td>34.022059</td>\n",
       "      <td>4.452457</td>\n",
       "    </tr>\n",
       "    <tr>\n",
       "      <th>std</th>\n",
       "      <td>10862.069562</td>\n",
       "      <td>16008.281510</td>\n",
       "      <td>0.0</td>\n",
       "      <td>14550.435239</td>\n",
       "      <td>28054.220280</td>\n",
       "      <td>28455.125832</td>\n",
       "      <td>18.876182</td>\n",
       "      <td>19.280951</td>\n",
       "      <td>6.196828</td>\n",
       "    </tr>\n",
       "    <tr>\n",
       "      <th>min</th>\n",
       "      <td>9467.000000</td>\n",
       "      <td>10006.000000</td>\n",
       "      <td>1.0</td>\n",
       "      <td>12742.000000</td>\n",
       "      <td>100375.000000</td>\n",
       "      <td>201006.000000</td>\n",
       "      <td>7.000000</td>\n",
       "      <td>7.000000</td>\n",
       "      <td>0.105900</td>\n",
       "    </tr>\n",
       "    <tr>\n",
       "      <th>25%</th>\n",
       "      <td>9545.750000</td>\n",
       "      <td>10089.750000</td>\n",
       "      <td>1.0</td>\n",
       "      <td>12826.750000</td>\n",
       "      <td>129028.000000</td>\n",
       "      <td>224359.250000</td>\n",
       "      <td>14.750000</td>\n",
       "      <td>14.000000</td>\n",
       "      <td>1.233525</td>\n",
       "    </tr>\n",
       "    <tr>\n",
       "      <th>50%</th>\n",
       "      <td>30874.500000</td>\n",
       "      <td>40307.000000</td>\n",
       "      <td>1.0</td>\n",
       "      <td>41427.000000</td>\n",
       "      <td>157724.000000</td>\n",
       "      <td>250055.000000</td>\n",
       "      <td>33.000000</td>\n",
       "      <td>33.000000</td>\n",
       "      <td>2.111450</td>\n",
       "    </tr>\n",
       "    <tr>\n",
       "      <th>75%</th>\n",
       "      <td>31373.750000</td>\n",
       "      <td>42207.000000</td>\n",
       "      <td>1.0</td>\n",
       "      <td>42073.750000</td>\n",
       "      <td>174896.500000</td>\n",
       "      <td>277279.250000</td>\n",
       "      <td>52.000000</td>\n",
       "      <td>52.000000</td>\n",
       "      <td>4.329050</td>\n",
       "    </tr>\n",
       "    <tr>\n",
       "      <th>max</th>\n",
       "      <td>31872.000000</td>\n",
       "      <td>44228.000000</td>\n",
       "      <td>1.0</td>\n",
       "      <td>42714.000000</td>\n",
       "      <td>199395.000000</td>\n",
       "      <td>298685.000000</td>\n",
       "      <td>57.000000</td>\n",
       "      <td>57.000000</td>\n",
       "      <td>35.406500</td>\n",
       "    </tr>\n",
       "  </tbody>\n",
       "</table>\n",
       "</div>"
      ],
      "text/plain": [
       "           row_id_x    subject_id  expire_flag      row_id_y        hadm_id  \\\n",
       "count    136.000000    136.000000        136.0    136.000000     136.000000   \n",
       "mean   21893.161765  28263.485294          1.0  29370.316176  153259.566176   \n",
       "std    10862.069562  16008.281510          0.0  14550.435239   28054.220280   \n",
       "min     9467.000000  10006.000000          1.0  12742.000000  100375.000000   \n",
       "25%     9545.750000  10089.750000          1.0  12826.750000  129028.000000   \n",
       "50%    30874.500000  40307.000000          1.0  41427.000000  157724.000000   \n",
       "75%    31373.750000  42207.000000          1.0  42073.750000  174896.500000   \n",
       "max    31872.000000  44228.000000          1.0  42714.000000  199395.000000   \n",
       "\n",
       "          icustay_id  first_wardid  last_wardid         los  \n",
       "count     136.000000    136.000000   136.000000  136.000000  \n",
       "mean   250980.470588     34.470588    34.022059    4.452457  \n",
       "std     28455.125832     18.876182    19.280951    6.196828  \n",
       "min    201006.000000      7.000000     7.000000    0.105900  \n",
       "25%    224359.250000     14.750000    14.000000    1.233525  \n",
       "50%    250055.000000     33.000000    33.000000    2.111450  \n",
       "75%    277279.250000     52.000000    52.000000    4.329050  \n",
       "max    298685.000000     57.000000    57.000000   35.406500  "
      ]
     },
     "execution_count": 4,
     "metadata": {},
     "output_type": "execute_result"
    }
   ],
   "source": [
    "df.describe()"
   ]
  },
  {
   "cell_type": "markdown",
   "id": "64c23611-2a6f-41bb-ae5d-d58c22340737",
   "metadata": {},
   "source": [
    "Next, we print out a summary of our dataframe including the data types and non-null values of each column."
   ]
  },
  {
   "cell_type": "code",
   "execution_count": 5,
   "id": "7692a0af-de2f-42d1-9110-15ce104c2c5c",
   "metadata": {
    "tags": []
   },
   "outputs": [
    {
     "name": "stdout",
     "output_type": "stream",
     "text": [
      "<class 'snowflake.snowpark.modin.pandas.dataframe.DataFrame'>\n",
      "SnowflakeIndex\n",
      "Data columns (total 19 columns):\n",
      " #   Column          Non-Null Count  Dtype  \n",
      "---  --------------  --------------  -----  \n",
      " 0   row_id_x        136 non-null    int64\n",
      " 1   subject_id      136 non-null    int64\n",
      " 2   gender          136 non-null    object\n",
      " 3   dob             136 non-null    object\n",
      " 4   dod             136 non-null    object\n",
      " 5   dod_hosp        88 non-null     object\n",
      " 6   dod_ssn         108 non-null    object\n",
      " 7   expire_flag     136 non-null    int64\n",
      " 8   row_id_y        136 non-null    int64\n",
      " 9   hadm_id         136 non-null    int64\n",
      " 10  icustay_id      136 non-null    int64\n",
      " 11  dbsource        136 non-null    object\n",
      " 12  first_careunit  136 non-null    object\n",
      " 13  last_careunit   136 non-null    object\n",
      " 14  first_wardid    136 non-null    int64\n",
      " 15  last_wardid     136 non-null    int64\n",
      " 16  intime          136 non-null    object\n",
      " 17  outtime         136 non-null    object\n",
      " 18  los             136 non-null    float64\n",
      "dtypes: object(10), int64(8), float64(1)\n",
      "memory usage: 0.0 bytes\n"
     ]
    }
   ],
   "source": [
    "df.info()"
   ]
  },
  {
   "cell_type": "markdown",
   "id": "86949b99-ee09-4f80-aede-61fc6de6c2a8",
   "metadata": {},
   "source": [
    "We want to understand the correlation between the patient's age and their average length of stay in the ICU. To do this, we must first convert the timestamps into datetime objects."
   ]
  },
  {
   "cell_type": "code",
   "execution_count": 6,
   "id": "5344da61-915d-43cf-894a-484876450748",
   "metadata": {},
   "outputs": [
    {
     "name": "stderr",
     "output_type": "stream",
     "text": [
      "WARNING:snowflake.snowpark.modin.plugin.utils.warning_message:`to_datetime` implementation has mismatches with pandas:\n",
      "Snowpark pandas to_datetime uses Snowflake's automatic format detection to convert string to datetime when a format is not provided. In this case Snowflake's auto format may yield different result values compared to pandas..\n"
     ]
    }
   ],
   "source": [
    "df[\"intime\"] = pd.to_datetime(df[\"intime\"])\n",
    "df[\"outtime\"] = pd.to_datetime(df[\"outtime\"])\n",
    "df[\"dob\"] = pd.to_datetime(df[\"dob\"])"
   ]
  },
  {
   "cell_type": "markdown",
   "id": "ef662f05-08ba-4239-8f14-a92f561386ad",
   "metadata": {
    "tags": []
   },
   "source": [
    "Then to compute the patient's length of stay, we simply subtract the the time the patient exits the ICU (`outtime`) from the time they enter (`intime`)."
   ]
  },
  {
   "cell_type": "code",
   "execution_count": 7,
   "id": "5f72ca6b-ae9a-4a68-a391-83b065785004",
   "metadata": {
    "tags": []
   },
   "outputs": [],
   "source": [
    "# TODO SNOW-1635620: uncomment when TimeDelta is implemented\n",
    "# df[\"length_of_stay\"] = (df[\"outtime\"]-df[\"intime\"])/pd.Timedelta('1 hour')"
   ]
  },
  {
   "cell_type": "code",
   "execution_count": 8,
   "id": "ecc19928-1d3a-49b8-bc0d-4270e53bfc4c",
   "metadata": {},
   "outputs": [],
   "source": [
    "# TODO SNOW-1635620: uncomment when TimeDelta is implemented\n",
    "# df[\"age\"] = df[\"intime\"].dt.year-df[\"dob\"].dt.year"
   ]
  },
  {
   "cell_type": "markdown",
   "id": "b66ea947-8204-4ba7-b453-43430a0311e7",
   "metadata": {},
   "source": [
    "Finally, we filter out outlier entries where age is listed as above 100."
   ]
  },
  {
   "cell_type": "code",
   "execution_count": 9,
   "id": "50c62f3f-a804-4efd-89bb-cf689a870055",
   "metadata": {
    "tags": []
   },
   "outputs": [],
   "source": [
    "# TODO SNOW-1635620: uncomment when TimeDelta is implemented\n",
    "# df = df[df[\"age\"]<100]"
   ]
  },
  {
   "cell_type": "markdown",
   "id": "00395e03-1357-487c-b3d9-58e2d6372d56",
   "metadata": {
    "tags": []
   },
   "source": [
    "To look at the correlation between these variables, we plot them on a scatterplot."
   ]
  },
  {
   "cell_type": "code",
   "execution_count": 10,
   "id": "66ac1e04-4581-4292-8b7a-b88faa76edf5",
   "metadata": {
    "tags": []
   },
   "outputs": [],
   "source": [
    "# TODO SNOW-1635620: uncomment when TimeDelta is implemented\n",
    "# df.plot(\"age\",\"length_of_stay\",kind=\"scatter\")"
   ]
  },
  {
   "cell_type": "markdown",
   "id": "debf1c42-f981-4f2b-8cb0-905f6ba14412",
   "metadata": {},
   "source": [
    "We see here that there is a concentrated cluster of ICU patients between 50-90 and most patients don't stay for more than 200 hours, but there are some wild outliers to this distribution."
   ]
  },
  {
   "cell_type": "markdown",
   "id": "4b55a21b-81f4-4b69-b1bd-9363f0367b88",
   "metadata": {},
   "source": [
    "---"
   ]
  },
  {
   "cell_type": "markdown",
   "id": "5fae36c1-8c10-48ef-8de4-323d8ce1cbec",
   "metadata": {},
   "source": [
    "Outside of the ICU stay information, we also want to look at the hospital admissions record to understand what happened *before* the patients were admitted to the ICU. "
   ]
  },
  {
   "cell_type": "code",
   "execution_count": 11,
   "id": "17b76fe7-4d6d-4eb4-bebe-55cc643b69f3",
   "metadata": {
    "tags": []
   },
   "outputs": [],
   "source": [
    "admissions = pd.read_csv(\"data/ADMISSIONS.csv\")"
   ]
  },
  {
   "cell_type": "markdown",
   "id": "a469aa20-0a4e-4451-862b-3170bb05e450",
   "metadata": {},
   "source": [
    "Here, we incorporate the admissions table to look at how long the patient stayed at the hospital before they were admitted to the ICU. "
   ]
  },
  {
   "cell_type": "code",
   "execution_count": 12,
   "id": "8514feca-f6b3-4186-bd32-ef07ba8efed4",
   "metadata": {
    "tags": []
   },
   "outputs": [],
   "source": [
    "df = df.merge(admissions,on=[\"hadm_id\",\"subject_id\"])"
   ]
  },
  {
   "cell_type": "code",
   "execution_count": 13,
   "id": "bf8025c3-8657-41a7-8feb-6afab251ccfd",
   "metadata": {
    "tags": []
   },
   "outputs": [],
   "source": [
    "# TODO SNOW-1635620: uncomment when TimeDelta is implemented\n",
    "# df[\"pre_icu_length_of_stay\"]= (df[\"intime\"]-df[\"admittime\"])/pd.Timedelta('1 day')"
   ]
  },
  {
   "cell_type": "markdown",
   "id": "f1f76750-cbfe-4809-875f-08f7b394c5ac",
   "metadata": {
    "tags": []
   },
   "source": [
    "By plotting the distribution of pre-ICU length of stay, we learn that most patients were admitted to the ICU within a day of being admitted to the hospital. This reflects the fact that ICU typically caters to patients with severe or life-threatening conditions requiring immediate attention."
   ]
  },
  {
   "cell_type": "code",
   "execution_count": 14,
   "id": "60ba61f7-fa60-4a6d-8b06-1282d2f64382",
   "metadata": {
    "tags": []
   },
   "outputs": [],
   "source": [
    "# TODO SNOW-1635620: uncomment when TimeDelta is implemented\n",
    "# df[\"pre_icu_length_of_stay\"].hist()"
   ]
  },
  {
   "cell_type": "code",
   "execution_count": 15,
   "id": "5cdeb9af-660a-4daa-98c5-f9e86699e9bd",
   "metadata": {
    "tags": []
   },
   "outputs": [],
   "source": [
    "# TODO SNOW-1635620: uncomment when TimeDelta is implemented\n",
    "# print(f\"Percentage of ICU admissions within 1 day: \\\n",
    "#         {len(df[df['pre_icu_length_of_stay']<1])/len(df)*100:.2f}%\")"
   ]
  },
  {
   "cell_type": "markdown",
   "id": "e754e277-bb7a-4a9c-a81a-01fc0bff60df",
   "metadata": {},
   "source": [
    "### Working with Text: Parsing through clinical diagnosis"
   ]
  },
  {
   "cell_type": "markdown",
   "id": "d3a6921b-4104-4327-9699-fe058d2ad9ef",
   "metadata": {},
   "source": [
    "Electronic health records can include both structured data (such as clinical measurements of temperature, blood pressure, etc.) and unstructured data (such as imaging, physician notes, etc.). For example, take a look at the [`diagnosis` column](https://mimic.mit.edu/docs/iii/tables/admissions/#diagnosis), which contains free-text diagnosis assigned by the clinician:"
   ]
  },
  {
   "cell_type": "code",
   "execution_count": 16,
   "id": "2b704957-4b20-41a9-abbb-1d963a0ea0d2",
   "metadata": {
    "tags": []
   },
   "outputs": [
    {
     "data": {
      "text/plain": [
       "0                                                 SEPSIS\n",
       "1                                            HEPATITIS B\n",
       "2                                                 SEPSIS\n",
       "3                                       HUMERAL FRACTURE\n",
       "4                                    ALCOHOLIC HEPATITIS\n",
       "                             ...                        \n",
       "131                                 PERICARDIAL EFFUSION\n",
       "132                                ALTERED MENTAL STATUS\n",
       "133    ACUTE RESPIRATORY DISTRESS SYNDROME;ACUTE RENA...\n",
       "134                                          BRADYCARDIA\n",
       "135                                          CHOLANGITIS\n",
       "Name: diagnosis, Length: 136, dtype: object"
      ]
     },
     "execution_count": 16,
     "metadata": {},
     "output_type": "execute_result"
    }
   ],
   "source": [
    "df.diagnosis"
   ]
  },
  {
   "cell_type": "markdown",
   "id": "53b578a7-0e72-4793-b363-1df5ac3d8ec9",
   "metadata": {},
   "source": [
    "Thankfully, it is easy to work with text data in pandas, since pandas comes with a [convenient set of functions](https://pandas.pydata.org/docs/user_guide/text.html) for operating with string and object type columns. \n",
    "\n",
    "Here, we normalize the text by replacing special characters and custom separators with spaces. Then we combine all diagnosis of all the patients together to determine what is the top 5 words that are used in the diagnosis."
   ]
  },
  {
   "cell_type": "code",
   "execution_count": 17,
   "id": "1748639f-04b5-45e6-b836-2433b66fa29d",
   "metadata": {
    "tags": []
   },
   "outputs": [
    {
     "data": {
      "text/plain": [
       "0                                                 SEPSIS\n",
       "1                                            HEPATITIS B\n",
       "2                                                 SEPSIS\n",
       "3                                       HUMERAL FRACTURE\n",
       "4                                    ALCOHOLIC HEPATITIS\n",
       "                             ...                        \n",
       "131                                 PERICARDIAL EFFUSION\n",
       "132                                ALTERED MENTAL STATUS\n",
       "133    ACUTE RESPIRATORY DISTRESS SYNDROME ACUTE RENA...\n",
       "134                                          BRADYCARDIA\n",
       "135                                          CHOLANGITIS\n",
       "Name: diagnosis, Length: 136, dtype: object"
      ]
     },
     "execution_count": 17,
     "metadata": {},
     "output_type": "execute_result"
    }
   ],
   "source": [
    "df.diagnosis = df.diagnosis.str.replace(\";\",\" \").str.strip()\n",
    "subs = {\"\\\\\":\" \", \"-\":\"\", \"/\":\"\", \"?\":\"\"}\n",
    "for s in subs.keys(): \n",
    "    all_diagnosis_str = df.diagnosis.replace(s, subs[s])\n",
    "    \n",
    "all_diagnosis_str"
   ]
  },
  {
   "cell_type": "code",
   "execution_count": 18,
   "id": "24a34764-f442-4cc1-8b87-ed96ace34651",
   "metadata": {
    "tags": []
   },
   "outputs": [
    {
     "data": {
      "text/plain": [
       "[('SEPSIS', 10),\n",
       " ('PNEUMONIA', 8),\n",
       " ('CONGESTIVE HEART FAILURE', 5),\n",
       " ('FEVER', 4),\n",
       " ('SHORTNESS OF BREATH', 4)]"
      ]
     },
     "execution_count": 18,
     "metadata": {},
     "output_type": "execute_result"
    }
   ],
   "source": [
    "import collections\n",
    "c = collections.Counter(all_diagnosis_str)\n",
    "c.most_common(5)"
   ]
  },
  {
   "cell_type": "code",
   "execution_count": 19,
   "id": "96753257-acd4-4ba9-b81b-19dc0a2af53c",
   "metadata": {
    "tags": []
   },
   "outputs": [
    {
     "name": "stdout",
     "output_type": "stream",
     "text": [
      "Top 5 most common diagnostic terms are: ['SEPSIS', 'PNEUMONIA', 'CONGESTIVE HEART FAILURE', 'FEVER', 'SHORTNESS OF BREATH']\n"
     ]
    }
   ],
   "source": [
    "top_5_keyword = sorted(c, key=c.get, reverse=True)[:5]\n",
    "print(f\"Top 5 most common diagnostic terms are: {top_5_keyword}\")"
   ]
  },
  {
   "cell_type": "markdown",
   "id": "e621db1a-d5b5-403c-8b1d-801ae96e84bf",
   "metadata": {
    "tags": []
   },
   "source": [
    "Based on these top five words, we create a binary feature that indicates the presence of each diagnostic term. "
   ]
  },
  {
   "cell_type": "code",
   "execution_count": 20,
   "id": "2d26eee2-671a-4ff8-ac22-62612c1a1ced",
   "metadata": {
    "tags": []
   },
   "outputs": [],
   "source": [
    "for keyword in top_5_keyword:\n",
    "    df[keyword]=df['diagnosis'].str.contains(keyword)"
   ]
  },
  {
   "cell_type": "markdown",
   "id": "2efde8c8-f661-4984-8f37-4e79dcc35086",
   "metadata": {},
   "source": [
    "### Machine Learning: Mortality prediction of ICU Patients"
   ]
  },
  {
   "cell_type": "markdown",
   "id": "74b295bc-41db-4cda-b143-7bc6cd640e09",
   "metadata": {},
   "source": [
    "[Survivial analysis](https://www.nature.com/articles/s41746-022-00679-6) and [mortality prediction](https://www.ncbi.nlm.nih.gov/pmc/articles/PMC4321691/) are common use cases by researchers and clinicians for analyzing electronic health data, especially as it pertains to ICU stays.\n",
    "\n",
    "Now with all the diagnostic features we created, we build a basic machine learning model to predict the likelihood of survival of patients. "
   ]
  },
  {
   "cell_type": "markdown",
   "id": "bafb693f-03dc-4376-81ec-e891e5cb5b6e",
   "metadata": {},
   "source": [
    "The `hospital_expire_flag` is a binary attribute that captures whether a patient died in the hospital. By printing out the [value counts](https://pandas.pydata.org/docs/reference/api/pandas.Series.value_counts.html) of this attribute, we see that about a third of ICU patients die in the hospital. "
   ]
  },
  {
   "cell_type": "code",
   "execution_count": 21,
   "id": "21aef8ae-47d8-4c77-8e04-270304c41d4e",
   "metadata": {
    "tags": []
   },
   "outputs": [
    {
     "data": {
      "text/plain": [
       "hospital_expire_flag\n",
       "0    90\n",
       "1    46\n",
       "Name: count, dtype: int64"
      ]
     },
     "execution_count": 21,
     "metadata": {},
     "output_type": "execute_result"
    }
   ],
   "source": [
    "df[\"hospital_expire_flag\"].value_counts()"
   ]
  },
  {
   "cell_type": "markdown",
   "id": "3611f957-131c-4537-b79d-03026a109046",
   "metadata": {
    "tags": []
   },
   "source": [
    "We build a binary classification model, where `X` is our features (i.e., presence of diagnostic terms) and `y` is the target (i.e., predict if patient dies in the hospital). "
   ]
  },
  {
   "cell_type": "code",
   "execution_count": 22,
   "id": "2d11b951-5b4c-4a98-ae4c-883fbccd56a7",
   "metadata": {
    "tags": []
   },
   "outputs": [],
   "source": [
    "X = df[top_5_keyword].astype(int)\n",
    "y = df['hospital_expire_flag']"
   ]
  },
  {
   "cell_type": "code",
   "execution_count": 23,
   "id": "35155531-c8ff-4ed1-9a3e-e457176f9f20",
   "metadata": {
    "tags": []
   },
   "outputs": [
    {
     "data": {
      "text/html": [
       "<div>\n",
       "<style scoped>\n",
       "    .dataframe tbody tr th:only-of-type {\n",
       "        vertical-align: middle;\n",
       "    }\n",
       "\n",
       "    .dataframe tbody tr th {\n",
       "        vertical-align: top;\n",
       "    }\n",
       "\n",
       "    .dataframe thead th {\n",
       "        text-align: right;\n",
       "    }\n",
       "</style>\n",
       "<table border=\"1\" class=\"dataframe\">\n",
       "  <thead>\n",
       "    <tr style=\"text-align: right;\">\n",
       "      <th></th>\n",
       "      <th>SEPSIS</th>\n",
       "      <th>PNEUMONIA</th>\n",
       "      <th>CONGESTIVE HEART FAILURE</th>\n",
       "      <th>FEVER</th>\n",
       "      <th>SHORTNESS OF BREATH</th>\n",
       "    </tr>\n",
       "  </thead>\n",
       "  <tbody>\n",
       "    <tr>\n",
       "      <th>0</th>\n",
       "      <td>1</td>\n",
       "      <td>0</td>\n",
       "      <td>0</td>\n",
       "      <td>0</td>\n",
       "      <td>0</td>\n",
       "    </tr>\n",
       "    <tr>\n",
       "      <th>1</th>\n",
       "      <td>0</td>\n",
       "      <td>0</td>\n",
       "      <td>0</td>\n",
       "      <td>0</td>\n",
       "      <td>0</td>\n",
       "    </tr>\n",
       "    <tr>\n",
       "      <th>2</th>\n",
       "      <td>1</td>\n",
       "      <td>0</td>\n",
       "      <td>0</td>\n",
       "      <td>0</td>\n",
       "      <td>0</td>\n",
       "    </tr>\n",
       "    <tr>\n",
       "      <th>3</th>\n",
       "      <td>0</td>\n",
       "      <td>0</td>\n",
       "      <td>0</td>\n",
       "      <td>0</td>\n",
       "      <td>0</td>\n",
       "    </tr>\n",
       "    <tr>\n",
       "      <th>4</th>\n",
       "      <td>0</td>\n",
       "      <td>0</td>\n",
       "      <td>0</td>\n",
       "      <td>0</td>\n",
       "      <td>0</td>\n",
       "    </tr>\n",
       "    <tr>\n",
       "      <th>...</th>\n",
       "      <td>...</td>\n",
       "      <td>...</td>\n",
       "      <td>...</td>\n",
       "      <td>...</td>\n",
       "      <td>...</td>\n",
       "    </tr>\n",
       "    <tr>\n",
       "      <th>131</th>\n",
       "      <td>0</td>\n",
       "      <td>0</td>\n",
       "      <td>0</td>\n",
       "      <td>0</td>\n",
       "      <td>0</td>\n",
       "    </tr>\n",
       "    <tr>\n",
       "      <th>132</th>\n",
       "      <td>0</td>\n",
       "      <td>0</td>\n",
       "      <td>0</td>\n",
       "      <td>0</td>\n",
       "      <td>0</td>\n",
       "    </tr>\n",
       "    <tr>\n",
       "      <th>133</th>\n",
       "      <td>0</td>\n",
       "      <td>0</td>\n",
       "      <td>0</td>\n",
       "      <td>0</td>\n",
       "      <td>0</td>\n",
       "    </tr>\n",
       "    <tr>\n",
       "      <th>134</th>\n",
       "      <td>0</td>\n",
       "      <td>0</td>\n",
       "      <td>0</td>\n",
       "      <td>0</td>\n",
       "      <td>0</td>\n",
       "    </tr>\n",
       "    <tr>\n",
       "      <th>135</th>\n",
       "      <td>0</td>\n",
       "      <td>0</td>\n",
       "      <td>0</td>\n",
       "      <td>0</td>\n",
       "      <td>0</td>\n",
       "    </tr>\n",
       "  </tbody>\n",
       "</table>\n",
       "<p>136 rows × 5 columns</p>\n",
       "</div>"
      ],
      "text/plain": [
       "     SEPSIS  PNEUMONIA  CONGESTIVE HEART FAILURE  FEVER  SHORTNESS OF BREATH\n",
       "0         1          0                         0      0                    0\n",
       "1         0          0                         0      0                    0\n",
       "2         1          0                         0      0                    0\n",
       "3         0          0                         0      0                    0\n",
       "4         0          0                         0      0                    0\n",
       "..      ...        ...                       ...    ...                  ...\n",
       "131       0          0                         0      0                    0\n",
       "132       0          0                         0      0                    0\n",
       "133       0          0                         0      0                    0\n",
       "134       0          0                         0      0                    0\n",
       "135       0          0                         0      0                    0\n",
       "\n",
       "[136 rows x 5 columns]"
      ]
     },
     "execution_count": 23,
     "metadata": {},
     "output_type": "execute_result"
    }
   ],
   "source": [
    "X"
   ]
  },
  {
   "cell_type": "code",
   "execution_count": 24,
   "id": "b8c41494-755a-485b-8119-9dfff98213df",
   "metadata": {
    "tags": []
   },
   "outputs": [
    {
     "data": {
      "text/plain": [
       "0      0\n",
       "1      1\n",
       "2      1\n",
       "3      0\n",
       "4      1\n",
       "      ..\n",
       "131    0\n",
       "132    1\n",
       "133    0\n",
       "134    0\n",
       "135    0\n",
       "Name: hospital_expire_flag, Length: 136, dtype: int8"
      ]
     },
     "execution_count": 24,
     "metadata": {},
     "output_type": "execute_result"
    }
   ],
   "source": [
    "y"
   ]
  },
  {
   "cell_type": "markdown",
   "id": "2472fba7-c3ff-4546-93c9-117c61207eef",
   "metadata": {
    "tags": []
   },
   "source": [
    "We split the data into training and test sets. We will hold out 10% of the data for testing the model and use the remaining dataset for training.\n",
    "\n",
    "Also, Snowpark pandas does not yet support third party libraries like scikit-learn so we convert to pandas."
   ]
  },
  {
   "cell_type": "code",
   "execution_count": 25,
   "id": "62d79c9b9a1e3fca",
   "metadata": {
    "collapsed": false,
    "jupyter": {
     "outputs_hidden": false
    }
   },
   "outputs": [],
   "source": [
    "X, y = X.to_pandas(), y.to_pandas()"
   ]
  },
  {
   "cell_type": "code",
   "execution_count": 26,
   "id": "719049a4-0a5b-45da-bbd5-8ff073c95a93",
   "metadata": {
    "tags": []
   },
   "outputs": [],
   "source": [
    "from sklearn.model_selection import train_test_split\n",
    "X_train, X_test, y_train, y_test = train_test_split(X, y,\n",
    "                                   test_size= 0.1,random_state=0)"
   ]
  },
  {
   "cell_type": "markdown",
   "id": "04d26fc8-af43-4f9e-ba75-9db01def50fd",
   "metadata": {},
   "source": [
    "We fit a basic [Naive Bayes classifier](https://scikit-learn.org/stable/modules/naive_bayes.html#naive-bayes) and evaluate the model predictions."
   ]
  },
  {
   "cell_type": "code",
   "execution_count": 27,
   "id": "9e1f2052-7405-496c-b4de-76e031978cb5",
   "metadata": {
    "tags": []
   },
   "outputs": [
    {
     "data": {
      "text/html": [
       "<style>#sk-container-id-1 {\n",
       "  /* Definition of color scheme common for light and dark mode */\n",
       "  --sklearn-color-text: black;\n",
       "  --sklearn-color-line: gray;\n",
       "  /* Definition of color scheme for unfitted estimators */\n",
       "  --sklearn-color-unfitted-level-0: #fff5e6;\n",
       "  --sklearn-color-unfitted-level-1: #f6e4d2;\n",
       "  --sklearn-color-unfitted-level-2: #ffe0b3;\n",
       "  --sklearn-color-unfitted-level-3: chocolate;\n",
       "  /* Definition of color scheme for fitted estimators */\n",
       "  --sklearn-color-fitted-level-0: #f0f8ff;\n",
       "  --sklearn-color-fitted-level-1: #d4ebff;\n",
       "  --sklearn-color-fitted-level-2: #b3dbfd;\n",
       "  --sklearn-color-fitted-level-3: cornflowerblue;\n",
       "\n",
       "  /* Specific color for light theme */\n",
       "  --sklearn-color-text-on-default-background: var(--sg-text-color, var(--theme-code-foreground, var(--jp-content-font-color1, black)));\n",
       "  --sklearn-color-background: var(--sg-background-color, var(--theme-background, var(--jp-layout-color0, white)));\n",
       "  --sklearn-color-border-box: var(--sg-text-color, var(--theme-code-foreground, var(--jp-content-font-color1, black)));\n",
       "  --sklearn-color-icon: #696969;\n",
       "\n",
       "  @media (prefers-color-scheme: dark) {\n",
       "    /* Redefinition of color scheme for dark theme */\n",
       "    --sklearn-color-text-on-default-background: var(--sg-text-color, var(--theme-code-foreground, var(--jp-content-font-color1, white)));\n",
       "    --sklearn-color-background: var(--sg-background-color, var(--theme-background, var(--jp-layout-color0, #111)));\n",
       "    --sklearn-color-border-box: var(--sg-text-color, var(--theme-code-foreground, var(--jp-content-font-color1, white)));\n",
       "    --sklearn-color-icon: #878787;\n",
       "  }\n",
       "}\n",
       "\n",
       "#sk-container-id-1 {\n",
       "  color: var(--sklearn-color-text);\n",
       "}\n",
       "\n",
       "#sk-container-id-1 pre {\n",
       "  padding: 0;\n",
       "}\n",
       "\n",
       "#sk-container-id-1 input.sk-hidden--visually {\n",
       "  border: 0;\n",
       "  clip: rect(1px 1px 1px 1px);\n",
       "  clip: rect(1px, 1px, 1px, 1px);\n",
       "  height: 1px;\n",
       "  margin: -1px;\n",
       "  overflow: hidden;\n",
       "  padding: 0;\n",
       "  position: absolute;\n",
       "  width: 1px;\n",
       "}\n",
       "\n",
       "#sk-container-id-1 div.sk-dashed-wrapped {\n",
       "  border: 1px dashed var(--sklearn-color-line);\n",
       "  margin: 0 0.4em 0.5em 0.4em;\n",
       "  box-sizing: border-box;\n",
       "  padding-bottom: 0.4em;\n",
       "  background-color: var(--sklearn-color-background);\n",
       "}\n",
       "\n",
       "#sk-container-id-1 div.sk-container {\n",
       "  /* jupyter's `normalize.less` sets `[hidden] { display: none; }`\n",
       "     but bootstrap.min.css set `[hidden] { display: none !important; }`\n",
       "     so we also need the `!important` here to be able to override the\n",
       "     default hidden behavior on the sphinx rendered scikit-learn.org.\n",
       "     See: https://github.com/scikit-learn/scikit-learn/issues/21755 */\n",
       "  display: inline-block !important;\n",
       "  position: relative;\n",
       "}\n",
       "\n",
       "#sk-container-id-1 div.sk-text-repr-fallback {\n",
       "  display: none;\n",
       "}\n",
       "\n",
       "div.sk-parallel-item,\n",
       "div.sk-serial,\n",
       "div.sk-item {\n",
       "  /* draw centered vertical line to link estimators */\n",
       "  background-image: linear-gradient(var(--sklearn-color-text-on-default-background), var(--sklearn-color-text-on-default-background));\n",
       "  background-size: 2px 100%;\n",
       "  background-repeat: no-repeat;\n",
       "  background-position: center center;\n",
       "}\n",
       "\n",
       "/* Parallel-specific style estimator block */\n",
       "\n",
       "#sk-container-id-1 div.sk-parallel-item::after {\n",
       "  content: \"\";\n",
       "  width: 100%;\n",
       "  border-bottom: 2px solid var(--sklearn-color-text-on-default-background);\n",
       "  flex-grow: 1;\n",
       "}\n",
       "\n",
       "#sk-container-id-1 div.sk-parallel {\n",
       "  display: flex;\n",
       "  align-items: stretch;\n",
       "  justify-content: center;\n",
       "  background-color: var(--sklearn-color-background);\n",
       "  position: relative;\n",
       "}\n",
       "\n",
       "#sk-container-id-1 div.sk-parallel-item {\n",
       "  display: flex;\n",
       "  flex-direction: column;\n",
       "}\n",
       "\n",
       "#sk-container-id-1 div.sk-parallel-item:first-child::after {\n",
       "  align-self: flex-end;\n",
       "  width: 50%;\n",
       "}\n",
       "\n",
       "#sk-container-id-1 div.sk-parallel-item:last-child::after {\n",
       "  align-self: flex-start;\n",
       "  width: 50%;\n",
       "}\n",
       "\n",
       "#sk-container-id-1 div.sk-parallel-item:only-child::after {\n",
       "  width: 0;\n",
       "}\n",
       "\n",
       "/* Serial-specific style estimator block */\n",
       "\n",
       "#sk-container-id-1 div.sk-serial {\n",
       "  display: flex;\n",
       "  flex-direction: column;\n",
       "  align-items: center;\n",
       "  background-color: var(--sklearn-color-background);\n",
       "  padding-right: 1em;\n",
       "  padding-left: 1em;\n",
       "}\n",
       "\n",
       "\n",
       "/* Toggleable style: style used for estimator/Pipeline/ColumnTransformer box that is\n",
       "clickable and can be expanded/collapsed.\n",
       "- Pipeline and ColumnTransformer use this feature and define the default style\n",
       "- Estimators will overwrite some part of the style using the `sk-estimator` class\n",
       "*/\n",
       "\n",
       "/* Pipeline and ColumnTransformer style (default) */\n",
       "\n",
       "#sk-container-id-1 div.sk-toggleable {\n",
       "  /* Default theme specific background. It is overwritten whether we have a\n",
       "  specific estimator or a Pipeline/ColumnTransformer */\n",
       "  background-color: var(--sklearn-color-background);\n",
       "}\n",
       "\n",
       "/* Toggleable label */\n",
       "#sk-container-id-1 label.sk-toggleable__label {\n",
       "  cursor: pointer;\n",
       "  display: block;\n",
       "  width: 100%;\n",
       "  margin-bottom: 0;\n",
       "  padding: 0.5em;\n",
       "  box-sizing: border-box;\n",
       "  text-align: center;\n",
       "}\n",
       "\n",
       "#sk-container-id-1 label.sk-toggleable__label-arrow:before {\n",
       "  /* Arrow on the left of the label */\n",
       "  content: \"▸\";\n",
       "  float: left;\n",
       "  margin-right: 0.25em;\n",
       "  color: var(--sklearn-color-icon);\n",
       "}\n",
       "\n",
       "#sk-container-id-1 label.sk-toggleable__label-arrow:hover:before {\n",
       "  color: var(--sklearn-color-text);\n",
       "}\n",
       "\n",
       "/* Toggleable content - dropdown */\n",
       "\n",
       "#sk-container-id-1 div.sk-toggleable__content {\n",
       "  max-height: 0;\n",
       "  max-width: 0;\n",
       "  overflow: hidden;\n",
       "  text-align: left;\n",
       "  /* unfitted */\n",
       "  background-color: var(--sklearn-color-unfitted-level-0);\n",
       "}\n",
       "\n",
       "#sk-container-id-1 div.sk-toggleable__content.fitted {\n",
       "  /* fitted */\n",
       "  background-color: var(--sklearn-color-fitted-level-0);\n",
       "}\n",
       "\n",
       "#sk-container-id-1 div.sk-toggleable__content pre {\n",
       "  margin: 0.2em;\n",
       "  border-radius: 0.25em;\n",
       "  color: var(--sklearn-color-text);\n",
       "  /* unfitted */\n",
       "  background-color: var(--sklearn-color-unfitted-level-0);\n",
       "}\n",
       "\n",
       "#sk-container-id-1 div.sk-toggleable__content.fitted pre {\n",
       "  /* unfitted */\n",
       "  background-color: var(--sklearn-color-fitted-level-0);\n",
       "}\n",
       "\n",
       "#sk-container-id-1 input.sk-toggleable__control:checked~div.sk-toggleable__content {\n",
       "  /* Expand drop-down */\n",
       "  max-height: 200px;\n",
       "  max-width: 100%;\n",
       "  overflow: auto;\n",
       "}\n",
       "\n",
       "#sk-container-id-1 input.sk-toggleable__control:checked~label.sk-toggleable__label-arrow:before {\n",
       "  content: \"▾\";\n",
       "}\n",
       "\n",
       "/* Pipeline/ColumnTransformer-specific style */\n",
       "\n",
       "#sk-container-id-1 div.sk-label input.sk-toggleable__control:checked~label.sk-toggleable__label {\n",
       "  color: var(--sklearn-color-text);\n",
       "  background-color: var(--sklearn-color-unfitted-level-2);\n",
       "}\n",
       "\n",
       "#sk-container-id-1 div.sk-label.fitted input.sk-toggleable__control:checked~label.sk-toggleable__label {\n",
       "  background-color: var(--sklearn-color-fitted-level-2);\n",
       "}\n",
       "\n",
       "/* Estimator-specific style */\n",
       "\n",
       "/* Colorize estimator box */\n",
       "#sk-container-id-1 div.sk-estimator input.sk-toggleable__control:checked~label.sk-toggleable__label {\n",
       "  /* unfitted */\n",
       "  background-color: var(--sklearn-color-unfitted-level-2);\n",
       "}\n",
       "\n",
       "#sk-container-id-1 div.sk-estimator.fitted input.sk-toggleable__control:checked~label.sk-toggleable__label {\n",
       "  /* fitted */\n",
       "  background-color: var(--sklearn-color-fitted-level-2);\n",
       "}\n",
       "\n",
       "#sk-container-id-1 div.sk-label label.sk-toggleable__label,\n",
       "#sk-container-id-1 div.sk-label label {\n",
       "  /* The background is the default theme color */\n",
       "  color: var(--sklearn-color-text-on-default-background);\n",
       "}\n",
       "\n",
       "/* On hover, darken the color of the background */\n",
       "#sk-container-id-1 div.sk-label:hover label.sk-toggleable__label {\n",
       "  color: var(--sklearn-color-text);\n",
       "  background-color: var(--sklearn-color-unfitted-level-2);\n",
       "}\n",
       "\n",
       "/* Label box, darken color on hover, fitted */\n",
       "#sk-container-id-1 div.sk-label.fitted:hover label.sk-toggleable__label.fitted {\n",
       "  color: var(--sklearn-color-text);\n",
       "  background-color: var(--sklearn-color-fitted-level-2);\n",
       "}\n",
       "\n",
       "/* Estimator label */\n",
       "\n",
       "#sk-container-id-1 div.sk-label label {\n",
       "  font-family: monospace;\n",
       "  font-weight: bold;\n",
       "  display: inline-block;\n",
       "  line-height: 1.2em;\n",
       "}\n",
       "\n",
       "#sk-container-id-1 div.sk-label-container {\n",
       "  text-align: center;\n",
       "}\n",
       "\n",
       "/* Estimator-specific */\n",
       "#sk-container-id-1 div.sk-estimator {\n",
       "  font-family: monospace;\n",
       "  border: 1px dotted var(--sklearn-color-border-box);\n",
       "  border-radius: 0.25em;\n",
       "  box-sizing: border-box;\n",
       "  margin-bottom: 0.5em;\n",
       "  /* unfitted */\n",
       "  background-color: var(--sklearn-color-unfitted-level-0);\n",
       "}\n",
       "\n",
       "#sk-container-id-1 div.sk-estimator.fitted {\n",
       "  /* fitted */\n",
       "  background-color: var(--sklearn-color-fitted-level-0);\n",
       "}\n",
       "\n",
       "/* on hover */\n",
       "#sk-container-id-1 div.sk-estimator:hover {\n",
       "  /* unfitted */\n",
       "  background-color: var(--sklearn-color-unfitted-level-2);\n",
       "}\n",
       "\n",
       "#sk-container-id-1 div.sk-estimator.fitted:hover {\n",
       "  /* fitted */\n",
       "  background-color: var(--sklearn-color-fitted-level-2);\n",
       "}\n",
       "\n",
       "/* Specification for estimator info (e.g. \"i\" and \"?\") */\n",
       "\n",
       "/* Common style for \"i\" and \"?\" */\n",
       "\n",
       ".sk-estimator-doc-link,\n",
       "a:link.sk-estimator-doc-link,\n",
       "a:visited.sk-estimator-doc-link {\n",
       "  float: right;\n",
       "  font-size: smaller;\n",
       "  line-height: 1em;\n",
       "  font-family: monospace;\n",
       "  background-color: var(--sklearn-color-background);\n",
       "  border-radius: 1em;\n",
       "  height: 1em;\n",
       "  width: 1em;\n",
       "  text-decoration: none !important;\n",
       "  margin-left: 1ex;\n",
       "  /* unfitted */\n",
       "  border: var(--sklearn-color-unfitted-level-1) 1pt solid;\n",
       "  color: var(--sklearn-color-unfitted-level-1);\n",
       "}\n",
       "\n",
       ".sk-estimator-doc-link.fitted,\n",
       "a:link.sk-estimator-doc-link.fitted,\n",
       "a:visited.sk-estimator-doc-link.fitted {\n",
       "  /* fitted */\n",
       "  border: var(--sklearn-color-fitted-level-1) 1pt solid;\n",
       "  color: var(--sklearn-color-fitted-level-1);\n",
       "}\n",
       "\n",
       "/* On hover */\n",
       "div.sk-estimator:hover .sk-estimator-doc-link:hover,\n",
       ".sk-estimator-doc-link:hover,\n",
       "div.sk-label-container:hover .sk-estimator-doc-link:hover,\n",
       ".sk-estimator-doc-link:hover {\n",
       "  /* unfitted */\n",
       "  background-color: var(--sklearn-color-unfitted-level-3);\n",
       "  color: var(--sklearn-color-background);\n",
       "  text-decoration: none;\n",
       "}\n",
       "\n",
       "div.sk-estimator.fitted:hover .sk-estimator-doc-link.fitted:hover,\n",
       ".sk-estimator-doc-link.fitted:hover,\n",
       "div.sk-label-container:hover .sk-estimator-doc-link.fitted:hover,\n",
       ".sk-estimator-doc-link.fitted:hover {\n",
       "  /* fitted */\n",
       "  background-color: var(--sklearn-color-fitted-level-3);\n",
       "  color: var(--sklearn-color-background);\n",
       "  text-decoration: none;\n",
       "}\n",
       "\n",
       "/* Span, style for the box shown on hovering the info icon */\n",
       ".sk-estimator-doc-link span {\n",
       "  display: none;\n",
       "  z-index: 9999;\n",
       "  position: relative;\n",
       "  font-weight: normal;\n",
       "  right: .2ex;\n",
       "  padding: .5ex;\n",
       "  margin: .5ex;\n",
       "  width: min-content;\n",
       "  min-width: 20ex;\n",
       "  max-width: 50ex;\n",
       "  color: var(--sklearn-color-text);\n",
       "  box-shadow: 2pt 2pt 4pt #999;\n",
       "  /* unfitted */\n",
       "  background: var(--sklearn-color-unfitted-level-0);\n",
       "  border: .5pt solid var(--sklearn-color-unfitted-level-3);\n",
       "}\n",
       "\n",
       ".sk-estimator-doc-link.fitted span {\n",
       "  /* fitted */\n",
       "  background: var(--sklearn-color-fitted-level-0);\n",
       "  border: var(--sklearn-color-fitted-level-3);\n",
       "}\n",
       "\n",
       ".sk-estimator-doc-link:hover span {\n",
       "  display: block;\n",
       "}\n",
       "\n",
       "/* \"?\"-specific style due to the `<a>` HTML tag */\n",
       "\n",
       "#sk-container-id-1 a.estimator_doc_link {\n",
       "  float: right;\n",
       "  font-size: 1rem;\n",
       "  line-height: 1em;\n",
       "  font-family: monospace;\n",
       "  background-color: var(--sklearn-color-background);\n",
       "  border-radius: 1rem;\n",
       "  height: 1rem;\n",
       "  width: 1rem;\n",
       "  text-decoration: none;\n",
       "  /* unfitted */\n",
       "  color: var(--sklearn-color-unfitted-level-1);\n",
       "  border: var(--sklearn-color-unfitted-level-1) 1pt solid;\n",
       "}\n",
       "\n",
       "#sk-container-id-1 a.estimator_doc_link.fitted {\n",
       "  /* fitted */\n",
       "  border: var(--sklearn-color-fitted-level-1) 1pt solid;\n",
       "  color: var(--sklearn-color-fitted-level-1);\n",
       "}\n",
       "\n",
       "/* On hover */\n",
       "#sk-container-id-1 a.estimator_doc_link:hover {\n",
       "  /* unfitted */\n",
       "  background-color: var(--sklearn-color-unfitted-level-3);\n",
       "  color: var(--sklearn-color-background);\n",
       "  text-decoration: none;\n",
       "}\n",
       "\n",
       "#sk-container-id-1 a.estimator_doc_link.fitted:hover {\n",
       "  /* fitted */\n",
       "  background-color: var(--sklearn-color-fitted-level-3);\n",
       "}\n",
       "</style><div id=\"sk-container-id-1\" class=\"sk-top-container\"><div class=\"sk-text-repr-fallback\"><pre>GaussianNB()</pre><b>In a Jupyter environment, please rerun this cell to show the HTML representation or trust the notebook. <br />On GitHub, the HTML representation is unable to render, please try loading this page with nbviewer.org.</b></div><div class=\"sk-container\" hidden><div class=\"sk-item\"><div class=\"sk-estimator fitted sk-toggleable\"><input class=\"sk-toggleable__control sk-hidden--visually\" id=\"sk-estimator-id-1\" type=\"checkbox\" checked><label for=\"sk-estimator-id-1\" class=\"sk-toggleable__label fitted sk-toggleable__label-arrow fitted\">&nbsp;&nbsp;GaussianNB<a class=\"sk-estimator-doc-link fitted\" rel=\"noreferrer\" target=\"_blank\" href=\"https://scikit-learn.org/1.5/modules/generated/sklearn.naive_bayes.GaussianNB.html\">?<span>Documentation for GaussianNB</span></a><span class=\"sk-estimator-doc-link fitted\">i<span>Fitted</span></span></label><div class=\"sk-toggleable__content fitted\"><pre>GaussianNB()</pre></div> </div></div></div></div>"
      ],
      "text/plain": [
       "GaussianNB()"
      ]
     },
     "execution_count": 27,
     "metadata": {},
     "output_type": "execute_result"
    }
   ],
   "source": [
    "from sklearn.naive_bayes import GaussianNB\n",
    "model = GaussianNB()\n",
    "model.fit(X_train,y_train)"
   ]
  },
  {
   "cell_type": "code",
   "execution_count": 28,
   "id": "dcb50a0d-3f66-4376-a383-597789f83fa0",
   "metadata": {
    "tags": []
   },
   "outputs": [],
   "source": [
    "predictions = model.predict(X_test)"
   ]
  },
  {
   "cell_type": "markdown",
   "id": "27b7df72-4d00-490c-995b-fdd5d25ef26b",
   "metadata": {},
   "source": [
    "Here we plot the confusion matrix to show the number of true positives, true negatives, false positives and false negatives."
   ]
  },
  {
   "cell_type": "code",
   "execution_count": 29,
   "id": "4993b18c-7d2a-49b6-96f5-b4a7c6a38cc2",
   "metadata": {
    "tags": []
   },
   "outputs": [
    {
     "data": {
      "text/plain": [
       "<sklearn.metrics._plot.confusion_matrix.ConfusionMatrixDisplay at 0x1327de680>"
      ]
     },
     "execution_count": 29,
     "metadata": {},
     "output_type": "execute_result"
    },
    {
     "data": {
      "image/png": "[encoded data removed]",
      "text/plain": [
       "<Figure size 640x480 with 2 Axes>"
      ]
     },
     "metadata": {},
     "output_type": "display_data"
    }
   ],
   "source": [
    "from sklearn.metrics import confusion_matrix, ConfusionMatrixDisplay\n",
    "cm = confusion_matrix(y_test, predictions)\n",
    "disp = ConfusionMatrixDisplay(confusion_matrix=cm,\n",
    "                              display_labels=model.classes_)\n",
    "disp.plot()"
   ]
  },
  {
   "cell_type": "code",
   "execution_count": 30,
   "id": "0c6fde6b-1126-4625-9c6e-7223eb97c30b",
   "metadata": {
    "tags": []
   },
   "outputs": [
    {
     "name": "stdout",
     "output_type": "stream",
     "text": [
      "Accuracy of the binary classifier = 0.64\n"
     ]
    }
   ],
   "source": [
    "from sklearn.metrics import accuracy_score\n",
    "score = accuracy_score(y_test, predictions)\n",
    "print(f'Accuracy of the binary classifier = {score:0.2f}')"
   ]
  },
  {
   "cell_type": "markdown",
   "id": "6e643bf7-1f66-402f-b059-941adbe3a46c",
   "metadata": {},
   "source": [
    "Of course, we are working with a very small sample here, so this is mostly intended to be an illustrative example."
   ]
  },
  {
   "cell_type": "markdown",
   "id": "5006b4b4-7391-4004-bb27-f22e1857b49d",
   "metadata": {},
   "source": [
    "### Summary"
   ]
  },
  {
   "cell_type": "markdown",
   "id": "f8962746-43c3-4403-857f-89dbba4a65b7",
   "metadata": {},
   "source": [
    "In this post, we saw how Snowpark pandas lets you analyze electronic health records with ease by allowing practitioners to: \n",
    "- browse high-level summary and overview of the dataset,\n",
    "- discover patterns and insights based on visualizations and basic statistics,\n",
    "- perform date time operations to compute patient's length of stay,\n",
    "- develop features based on clinician free-text diagnosis,\n",
    "- build a classification model to predict ICU patient mortality.\n",
    "\n",
    "Snowpark pandas lets you seamlessly move between feature engineering, visualization, and machine learning — all within the Python data ecosystem, while operating directly on the data in your data warehouse. \n"
   ]
  }
 ],
 "metadata": {
  "kernelspec": {
   "display_name": "Python 3 (ipykernel)",
   "language": "python",
   "name": "python3"
  },
  "language_info": {
   "codemirror_mode": {
    "name": "ipython",
    "version": 3
   },
   "file_extension": ".py",
   "mimetype": "text/x-python",
   "name": "python",
   "nbconvert_exporter": "python",
   "pygments_lexer": "ipython3",
   "version": "3.10.11"
  }
 },
 "nbformat": 4,
 "nbformat_minor": 5
}
