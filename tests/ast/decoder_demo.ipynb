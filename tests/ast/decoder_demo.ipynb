{
 "cells": [
  {
   "cell_type": "markdown",
   "id": "fc80056dcc47a512",
   "metadata": {},
   "source": [
    "# Snowpark AST Decoder Demo"
   ]
  },
  {
   "cell_type": "code",
   "execution_count": 1,
   "id": "initial_id",
   "metadata": {
    "ExecuteTime": {
     "end_time": "2025-02-19T19:57:41.958129Z",
     "start_time": "2025-02-19T19:57:41.955568Z"
    }
   },
   "outputs": [],
   "source": [
    "from snowflake.snowpark import Session\n",
    "from snowflake.snowpark._internal.utils import set_transmit_query_to_server\n",
    "from snowflake.snowpark._internal.utils import set_ast_state, AstFlagSource\n",
    "import logging\n",
    "from snowflake.snowpark.functions import avg, count, max, min, udaf, udtf\n",
    "from snowflake.snowpark.types import DoubleType, FloatType, IntegerType, StringType, StructField, StructType\n",
    "import base64\n",
    "import snowflake.snowpark._internal.proto.generated.ast_pb2 as proto\n",
    "\n",
    "# For displaying images.\n",
    "from IPython.display import Image\n",
    "from IPython.core.display import HTML \n",
    "\n",
    "# Connecting to my cloud workspace running the server.\n",
    "CONNECTION_PARAMETERS = {\n",
    "    \"account\": \"s3testaccount\",\n",
    "    \"host\": \"snowflake.reg.local\",\n",
    "    \"user\": \"snowman\",\n",
    "    \"password\": \"test\",\n",
    "    \"role\": \"sysadmin\",\n",
    "    \"warehouse\": \"regress\",\n",
    "    \"database\": \"testdb\",\n",
    "    \"schema\": \"public\",\n",
    "    \"port\": \"53200\",\n",
    "    \"protocol\": \"http\",\n",
    "}"
   ]
  },
  {
   "cell_type": "code",
   "execution_count": 2,
   "id": "383d69727e6487c8",
   "metadata": {
    "ExecuteTime": {
     "end_time": "2025-02-19T19:57:44.081691Z",
     "start_time": "2025-02-19T19:57:44.079323Z"
    }
   },
   "outputs": [],
   "source": [
    "session = (\n",
    "    Session.builder.configs(CONNECTION_PARAMETERS)\n",
    "    .config(\"local_testing\", False)\n",
    "    .getOrCreate()\n",
    ")"
   ]
  },
  {
   "cell_type": "code",
   "execution_count": 3,
   "id": "8abbb0b4-8eff-4406-9b97-f744b7f7f5b2",
   "metadata": {},
   "outputs": [],
   "source": [
    "# Configure logging.\n",
    "logging.basicConfig(level=logging.INFO)  # Set to INFO or DEBUG for more details\n",
    "logger = logging.getLogger(\"snowflake.snowpark\")\n",
    "\n",
    "# Verify logging level.\n",
    "logger.setLevel(logging.INFO)"
   ]
  },
  {
   "cell_type": "markdown",
   "id": "afc7aca9836deed2",
   "metadata": {},
   "source": [
    "## Enabling Required Parameters"
   ]
  },
  {
   "cell_type": "code",
   "execution_count": 4,
   "id": "198f3265ea4d36d8",
   "metadata": {
    "ExecuteTime": {
     "end_time": "2025-02-19T19:57:45.915835Z",
     "start_time": "2025-02-19T19:57:45.675094Z"
    }
   },
   "outputs": [
    {
     "name": "stderr",
     "output_type": "stream",
     "text": [
      "INFO:snowflake.connector.cursor:Number of results in first chunk: 1\n",
      "INFO:snowflake.snowpark._internal.server_connection:Execute query [queryID: 01ba8229-0100-0001-0000-0014000112e6] show parameters like 'ENABLE_DATAFRAME' in account\n"
     ]
    },
    {
     "name": "stdout",
     "output_type": "stream",
     "text": [
      "-------------------------------------------------------------------------------------------------------------------------------------------------------------------------------------------------------------------------------------------------------------------------------------------------------------------------------------------------------------------\n",
      "|\"key\"             |\"value\"  |\"default\"  |\"level\"  |\"description\"              |\"type\"   |\"set_by_user\"  |\"set_in_job\"                          |\"set_on\"                         |\"set_by_thread_id\"  |\"set_by_thread_name\"  |\"set_by_class\"  |\"parameter_comment\"  |\"set_by_controlling_parameter\"  |\"activate_version\"  |\"partial_rollout\"  |\"jira_reference\"  |\n",
      "-------------------------------------------------------------------------------------------------------------------------------------------------------------------------------------------------------------------------------------------------------------------------------------------------------------------------------------------------------------------\n",
      "|ENABLE_DATAFRAME  |true     |false      |ACCOUNT  |Enable Snowpark Dataframe  |BOOLEAN  |1032           |01ba815c-0100-0001-0000-000000044d5d  |Wed, 19 Feb 2025 13:48:09 -0800  |102673              |qc-281949             |                |                     |                                |                    |                   |                  |\n",
      "-------------------------------------------------------------------------------------------------------------------------------------------------------------------------------------------------------------------------------------------------------------------------------------------------------------------------------------------------------------------\n",
      "\n"
     ]
    }
   ],
   "source": [
    "# ENABLE_DATAFRAME should be set to True in the account level:\n",
    "# this parameter controls whether to use the SQL query or AST on the server-side.\n",
    "session.sql(\"show parameters like 'ENABLE_DATAFRAME' in account\").show()"
   ]
  },
  {
   "cell_type": "code",
   "execution_count": 5,
   "id": "a16f06748ef196c0",
   "metadata": {},
   "outputs": [
    {
     "name": "stderr",
     "output_type": "stream",
     "text": [
      "INFO:snowflake.connector.cursor:Number of results in first chunk: 1\n",
      "INFO:snowflake.snowpark._internal.server_connection:Execute query [queryID: 01ba8229-0100-0001-0000-0014000112ea] show notebooks;\n"
     ]
    },
    {
     "name": "stdout",
     "output_type": "stream",
     "text": [
      "--------------------------------------------------------------------------------------------------------------------------------------------------------------------------------------------------------\n",
      "|\"created_on\"                      |\"name\"               |\"database_name\"  |\"schema_name\"  |\"comment\"     |\"owner\"   |\"query_warehouse\"  |\"url_id\"              |\"owner_role_type\"  |\"code_warehouse\"  |\n",
      "--------------------------------------------------------------------------------------------------------------------------------------------------------------------------------------------------------\n",
      "|2025-02-19 11:19:07.150000-08:00  |DATAFRAME_PROCESSOR  |TESTDB           |PUBLIC         |ready to use  |SYSADMIN  |REGRESS            |6vtrggcnvhw6iwcnvbow  |ROLE               |REGRESS           |\n",
      "--------------------------------------------------------------------------------------------------------------------------------------------------------------------------------------------------------\n",
      "\n"
     ]
    }
   ],
   "source": [
    "# The Dataframe Processor relies on a Snowflake Notebook for execution:\n",
    "session.sql(\"show notebooks;\").show()"
   ]
  },
  {
   "cell_type": "code",
   "execution_count": 6,
   "id": "81c60ed5321d6541",
   "metadata": {},
   "outputs": [
    {
     "name": "stderr",
     "output_type": "stream",
     "text": [
      "INFO:snowflake.connector.cursor:Number of results in first chunk: 1\n",
      "INFO:snowflake.snowpark._internal.server_connection:Execute query [queryID: 01ba8229-0100-0001-0000-0014000112ee] show parameters like 'NOTEBOOK_ENGINE_VERSION'\n"
     ]
    },
    {
     "name": "stdout",
     "output_type": "stream",
     "text": [
      "----------------------------------------------------------------------------------------------------------------------------------------------------------------------------------------------------------------------------------------------------------------------------------------------------------------------------------------------------------------------------------------------------------------------------------------------------------------\n",
      "|\"key\"                    |\"value\"                   |\"default\"                |\"level\"  |\"description\"                                       |\"type\"  |\"set_by_user\"  |\"set_in_job\"                          |\"set_on\"                         |\"set_by_thread_id\"  |\"set_by_thread_name\"  |\"set_by_class\"  |\"parameter_comment\"                                 |\"set_by_controlling_parameter\"  |\"activate_version\"  |\"partial_rollout\"  |\"jira_reference\"  |\n",
      "----------------------------------------------------------------------------------------------------------------------------------------------------------------------------------------------------------------------------------------------------------------------------------------------------------------------------------------------------------------------------------------------------------------------------------------------------------------\n",
      "|NOTEBOOK_ENGINE_VERSION  |notebook_v1.52.0_py_3_10  |notebook_v1.52.0_py_3_9  |USER     |Determines which startup engine Notebooks shoul...  |STRING  |1032           |01ba80ed-0100-0001-0000-000000044971  |Wed, 19 Feb 2025 11:57:14 -0800  |91849               |qc-280945             |                |Code-Generated: User.updatePropsAndParamsInTran...  |                                |                    |                   |                  |\n",
      "----------------------------------------------------------------------------------------------------------------------------------------------------------------------------------------------------------------------------------------------------------------------------------------------------------------------------------------------------------------------------------------------------------------------------------------------------------------\n",
      "\n"
     ]
    }
   ],
   "source": [
    "# Since the decoder logic uses Python 3.10+ features, ensure that the notebook engine version uses Python 3.10+.\n",
    "session.sql(\"show parameters like 'NOTEBOOK_ENGINE_VERSION'\").show()"
   ]
  },
  {
   "cell_type": "code",
   "execution_count": 7,
   "id": "7698abd7080b9133",
   "metadata": {
    "ExecuteTime": {
     "end_time": "2025-02-19T01:19:44.121339Z",
     "start_time": "2025-02-19T01:19:44.119087Z"
    }
   },
   "outputs": [],
   "source": [
    "# To record the ASTs, we need to enable the AST flag:\n",
    "AST_ENABLED = True\n",
    "set_ast_state(AstFlagSource.TEST, AST_ENABLED)"
   ]
  },
  {
   "cell_type": "code",
   "execution_count": 8,
   "id": "f82bcea686e0493",
   "metadata": {
    "ExecuteTime": {
     "end_time": "2025-02-19T01:19:45.025764Z",
     "start_time": "2025-02-19T01:19:45.023767Z"
    }
   },
   "outputs": [],
   "source": [
    "# This helper (flag setter) controls whether to send the actual Snowpark query or a fake query to the server.\n",
    "# Transmits \"SELECT 'This is a fake query!!';\"\n",
    "set_transmit_query_to_server(False)"
   ]
  },
  {
   "cell_type": "markdown",
   "id": "b6b5ac5d0aff2681",
   "metadata": {},
   "source": [
    "## Testing a Basic Snowpark Query"
   ]
  },
  {
   "cell_type": "code",
   "execution_count": 9,
   "id": "d151db73ec950fe0",
   "metadata": {},
   "outputs": [
    {
     "name": "stderr",
     "output_type": "stream",
     "text": [
      "INFO:snowflake.connector.cursor:Number of results in first chunk: 1\n",
      "INFO:snowflake.connector.cursor:Number of results in first chunk: 4\n",
      "INFO:snowflake.snowpark._internal.server_connection:Execute query [queryID: 01ba8229-0100-0001-0000-0014000112f6] SELECT 'This is a fake query!!'; --No actual query sent, the server should rely on the provided AST!\n"
     ]
    },
    {
     "name": "stdout",
     "output_type": "stream",
     "text": [
      "[Row(_1=1), Row(_1=2), Row(_1=3), Row(_1=4)]\n"
     ]
    }
   ],
   "source": [
    "# Testing a basic Snowpark query with the AST enabled:\n",
    "with session.ast_listener() as al:\n",
    "    result = session.create_dataframe([1, 2, 3, 4]).collect()\n",
    "    print(result)"
   ]
  },
  {
   "cell_type": "code",
   "execution_count": 10,
   "id": "8cb8cee69b433cc1",
   "metadata": {},
   "outputs": [
    {
     "name": "stdout",
     "output_type": "stream",
     "text": [
      "['Cg8KDQj///////////8BEgAScApuCmSKBWEKUgpQChKiAg8KCxj///////////8BEAEKEqICDwoLGP///////////wEQAgoSogIPCgsY////////////ARADChKiAg8KCxj///////////8BEAQaCxj///////////8BEgAYASICCAESJAoiChjiBRUIARABGgIIATILGP///////////wESABgCIgIIAhIIEgYIAxICCAIYASIREg8KDQoFZmluYWwQAxgLIAkqBBABGBs=']\n"
     ]
    }
   ],
   "source": [
    "# The recorded AST:\n",
    "print(al.base64_batches)"
   ]
  },
  {
   "cell_type": "code",
   "execution_count": 11,
   "id": "fb5f522b-9067-4522-8823-048f77b7505d",
   "metadata": {},
   "outputs": [
    {
     "data": {
      "text/plain": [
       "interned_value_table {\n",
       "  string_values {\n",
       "    key: -1\n",
       "    value: \"\"\n",
       "  }\n",
       "}\n",
       "body {\n",
       "  assign {\n",
       "    expr {\n",
       "      sp_create_dataframe {\n",
       "        data {\n",
       "          sp_dataframe_data__list {\n",
       "            vs {\n",
       "              int64_val {\n",
       "                src {\n",
       "                  file: -1\n",
       "                }\n",
       "                v: 1\n",
       "              }\n",
       "            }\n",
       "            vs {\n",
       "              int64_val {\n",
       "                src {\n",
       "                  file: -1\n",
       "                }\n",
       "                v: 2\n",
       "              }\n",
       "            }\n",
       "            vs {\n",
       "              int64_val {\n",
       "                src {\n",
       "                  file: -1\n",
       "                }\n",
       "                v: 3\n",
       "              }\n",
       "            }\n",
       "            vs {\n",
       "              int64_val {\n",
       "                src {\n",
       "                  file: -1\n",
       "                }\n",
       "                v: 4\n",
       "              }\n",
       "            }\n",
       "          }\n",
       "        }\n",
       "        src {\n",
       "          file: -1\n",
       "        }\n",
       "      }\n",
       "    }\n",
       "    symbol {\n",
       "    }\n",
       "    uid: 1\n",
       "    var_id {\n",
       "      bitfield1: 1\n",
       "    }\n",
       "  }\n",
       "}\n",
       "body {\n",
       "  assign {\n",
       "    expr {\n",
       "      sp_dataframe_collect {\n",
       "        block: true\n",
       "        case_sensitive: true\n",
       "        id {\n",
       "          bitfield1: 1\n",
       "        }\n",
       "        src {\n",
       "          file: -1\n",
       "        }\n",
       "      }\n",
       "    }\n",
       "    symbol {\n",
       "    }\n",
       "    uid: 2\n",
       "    var_id {\n",
       "      bitfield1: 2\n",
       "    }\n",
       "  }\n",
       "}\n",
       "body {\n",
       "  eval {\n",
       "    uid: 3\n",
       "    var_id {\n",
       "      bitfield1: 2\n",
       "    }\n",
       "  }\n",
       "}\n",
       "client_ast_version: 1\n",
       "client_language {\n",
       "  python_language {\n",
       "    version {\n",
       "      label: \"final\"\n",
       "      major: 3\n",
       "      minor: 11\n",
       "      patch: 9\n",
       "    }\n",
       "  }\n",
       "}\n",
       "client_version {\n",
       "  major: 1\n",
       "  minor: 27\n",
       "}"
      ]
     },
     "execution_count": 11,
     "metadata": {},
     "output_type": "execute_result"
    }
   ],
   "source": [
    "# In plaintext:\n",
    "message = proto.Request()\n",
    "message.ParseFromString(base64.b64decode(al.base64_batches[0]))\n",
    "message"
   ]
  },
  {
   "cell_type": "markdown",
   "id": "43f7b554d81ee6ef",
   "metadata": {},
   "source": [
    "## Testing a More Complex Example"
   ]
  },
  {
   "cell_type": "code",
   "execution_count": 12,
   "id": "d63051c9d68aa6cf",
   "metadata": {},
   "outputs": [
    {
     "data": {
      "text/plain": [
       "<snowflake.snowpark.dataframe.DataFrame at 0x13e600ed0>"
      ]
     },
     "execution_count": 12,
     "metadata": {},
     "output_type": "execute_result"
    }
   ],
   "source": [
    "# Create a table for diamonds!\n",
    "session.sql(\"\"\"\n",
    "    CREATE OR REPLACE TABLE diamonds (\n",
    "        'id' INTEGER,\n",
    "        'carat' FLOAT,\n",
    "        'cut' STRING,\n",
    "        'color' STRING,\n",
    "        'clarity' STRING,\n",
    "        'depth' FLOAT,\n",
    "        'table' INTEGER,\n",
    "        'price' INTEGER,\n",
    "        'x' FLOAT,\n",
    "        'y' FLOAT,\n",
    "        'z' FLOAT\n",
    "    );\n",
    "\"\"\")"
   ]
  },
  {
   "cell_type": "code",
   "execution_count": 13,
   "id": "b48a35bfabc4bca4",
   "metadata": {},
   "outputs": [],
   "source": [
    "# Table data!\n",
    "data = [\n",
    "    [1, 0.23, \"Ideal\", \"E\", \"SI2\", 61.5, 55, 326, 3.95, 3.98, 2.43],\n",
    "    [2, 0.21, \"Premium\", \"E\", \"SI1\", 59.8, 61, 326, 3.89, 3.84, 2.31],\n",
    "    [3, 0.23, \"Good\", \"E\", \"VS1\", 56.9, 65, 327, 4.05, 4.07, 2.31],\n",
    "    [4, 0.29, \"Premium\", \"I\", \"VS2\", 62.4, 58, 334, 4.2, 4.23, 2.63],\n",
    "    [5, 0.31, \"Good\", \"J\", \"SI2\", 63.3, 58, 335, 4.34, 4.35, 2.75],\n",
    "    [6, 0.24, \"Very Good\", \"J\", \"VVS2\", 62.8, 57, 336, 3.94, 3.96, 2.48],\n",
    "    [7, 0.24, \"Very Good\", \"I\", \"VVS1\", 62.3, 57, 336, 3.95, 3.98, 2.47],\n",
    "    [8, 0.26, \"Very Good\", \"H\", \"SI1\", 61.9, 55, 337, 4.07, 4.11, 2.53],\n",
    "    [9, 0.22, \"Fair\", \"E\", \"VS2\", 65.1, 61, 337, 3.87, 3.78, 2.49],\n",
    "    [10, 0.23, \"Very Good\", \"H\", \"VS1\", 59.4, 61, 338, 4.00, 4.05, 2.39],\n",
    "    [11, 0.3, \"Good\", \"J\", \"SI1\", 64.2, 55, 339, 4.25, 4.28, 2.73],\n",
    "    [12, 0.23, \"Ideal\", \"J\", \"VS1\", 62.8, 56, 340, 3.93, 3.9, 2.46],\n",
    "    [13, 0.22, \"Premium\", \"F\", \"SI1\", 60.4, 61, 342, 3.88, 3.84, 2.33],\n",
    "    [14, 0.31, \"Ideal\", \"J\", \"SI2\", 62.2, 54, 344, 4.35, 4.37, 2.71],\n",
    "    [15, 0.2, \"Premium\", \"E\", \"SI2\", 60.2, 62, 345, 3.79, 3.75, 2.27],\n",
    "    [16, 0.32, \"Premium\", \"E\", \"I1\", 60.9, 58, 345, 4.38, 4.42, 2.68],\n",
    "    [17, 0.3, \"Ideal\", \"I\", \"SI2\", 62.5, 54, 348, 4.31, 4.34, 2.68],\n",
    "    [18, 0.3, \"Good\", \"J\", \"SI1\", 63.4, 54, 351, 4.23, 4.29, 2.7],\n",
    "    [19, 0.3, \"Good\", \"J\", \"SI1\", 63.8, 56, 351, 4.23, 4.26, 2.71],\n",
    "    [20, 0.3, \"Very Good\", \"J\", \"SI1\", 62.7, 59, 351, 4.21, 4.27, 2.66],\n",
    "    [21, 0.3, \"Good\", \"I\", \"SI2\", 63.3, 56, 351, 4.26, 4.3, 2.71],\n",
    "    [22, 0.23, \"Very Good\", \"E\", \"VS2\", 63.8, 55, 352, 3.85, 3.92, 2.48],\n",
    "    [23, 0.23, \"Very Good\", \"H\", \"VS1\", 61.0, 57, 353, 3.94, 3.96, 2.41],\n",
    "    [24, 0.31, \"Very Good\", \"J\", \"SI1\", 59.4, 62, 353, 4.39, 4.43, 2.62],\n",
    "    [25, 0.31, \"Very Good\", \"J\", \"SI1\", 58.1, 62, 353, 4.44, 4.47, 2.59],\n",
    "    [26, 0.23, \"Very Good\", \"G\", \"VVS2\", 60.4, 58, 354, 3.97, 4.01, 2.41],\n",
    "    [27, 0.24, \"Premium\", \"I\", \"VS1\", 62.5, 57, 355, 3.97, 3.94, 2.47],\n",
    "    [28, 0.3, \"Very Good\", \"J\", \"VS2\", 62.2, 57, 357, 4.28, 4.3, 2.67],\n",
    "    [29, 0.23, \"Very Good\", \"D\", \"VS2\", 60.5, 61, 357, 3.96, 3.97, 2.4]\n",
    "]\n",
    "\n",
    "# Define the table schema\n",
    "schema = StructType([\n",
    "    StructField(\"id\", IntegerType()),\n",
    "    StructField(\"carat\", DoubleType()),\n",
    "    StructField(\"cut\", StringType()),\n",
    "    StructField(\"color\", StringType()),\n",
    "    StructField(\"clarity\", StringType()),\n",
    "    StructField(\"depth\", DoubleType()),\n",
    "    StructField(\"table\", IntegerType()),\n",
    "    StructField(\"price\", IntegerType()),\n",
    "    StructField(\"x\", DoubleType()),\n",
    "    StructField(\"y\", DoubleType()),\n",
    "    StructField(\"z\", DoubleType())\n",
    "])"
   ]
  },
  {
   "cell_type": "code",
   "execution_count": 14,
   "id": "2c4bd559-f23b-48f6-a2e3-40cba9713cee",
   "metadata": {},
   "outputs": [
    {
     "name": "stderr",
     "output_type": "stream",
     "text": [
      "INFO:snowflake.connector.cursor:Number of results in first chunk: 0\n",
      "INFO:snowflake.connector.cursor:Number of results in first chunk: 5\n",
      "INFO:snowflake.snowpark._internal.server_connection:Execute query [queryID: 01ba8229-0100-0001-0000-00140001130e] SELECT 'This is a fake query!!'; --No actual query sent, the server should rely on the provided AST!\n"
     ]
    },
    {
     "data": {
      "text/plain": [
       "[Row(ID=1, CARAT=0.23, CUT='Ideal', COLOR='E', CLARITY='SI2', DEPTH=61.5, TABLE=55, PRICE=326, X=3.95, Y=3.98, Z=2.43),\n",
       " Row(ID=2, CARAT=0.21, CUT='Premium', COLOR='E', CLARITY='SI1', DEPTH=59.8, TABLE=61, PRICE=326, X=3.89, Y=3.84, Z=2.31),\n",
       " Row(ID=3, CARAT=0.23, CUT='Good', COLOR='E', CLARITY='VS1', DEPTH=56.9, TABLE=65, PRICE=327, X=4.05, Y=4.07, Z=2.31),\n",
       " Row(ID=4, CARAT=0.29, CUT='Premium', COLOR='I', CLARITY='VS2', DEPTH=62.4, TABLE=58, PRICE=334, X=4.2, Y=4.23, Z=2.63),\n",
       " Row(ID=5, CARAT=0.31, CUT='Good', COLOR='J', CLARITY='SI2', DEPTH=63.3, TABLE=58, PRICE=335, X=4.34, Y=4.35, Z=2.75)]"
      ]
     },
     "execution_count": 14,
     "metadata": {},
     "output_type": "execute_result"
    }
   ],
   "source": [
    "# Creating the dataframe.\n",
    "df = session.create_dataframe(data, schema=schema)\n",
    "df.limit(5).collect()"
   ]
  },
  {
   "cell_type": "code",
   "execution_count": 15,
   "id": "8801b1cfb5517f3e",
   "metadata": {},
   "outputs": [
    {
     "name": "stderr",
     "output_type": "stream",
     "text": [
      "INFO:snowflake.connector.cursor:Number of results in first chunk: 0\n",
      "INFO:snowflake.connector.cursor:Number of results in first chunk: 1\n",
      "INFO:snowflake.snowpark._internal.server_connection:Execute query [queryID: 01ba8229-0100-0001-0000-00140001131e] SELECT 'This is a fake query!!'; --No actual query sent, the server should rely on the provided AST!\n"
     ]
    }
   ],
   "source": [
    "# Writing the dataframe to a table.\n",
    "df.write.save_as_table(\"t_diamonds\", mode=\"overwrite\")"
   ]
  },
  {
   "cell_type": "markdown",
   "id": "125e0b6a-cec9-41b7-8d6c-5cdda40fec43",
   "metadata": {},
   "source": [
    "## Testing some operations"
   ]
  },
  {
   "cell_type": "code",
   "execution_count": 16,
   "id": "aec533bf91e47b7f",
   "metadata": {},
   "outputs": [
    {
     "name": "stderr",
     "output_type": "stream",
     "text": [
      "INFO:snowflake.connector.cursor:Number of results in first chunk: 5\n",
      "INFO:snowflake.snowpark._internal.server_connection:Execute query [queryID: 01ba8229-0100-0001-0000-00140001132a] SELECT 'This is a fake query!!'; --No actual query sent, the server should rely on the provided AST!\n"
     ]
    },
    {
     "name": "stdout",
     "output_type": "stream",
     "text": [
      "[Row(CUT='Good', COUNT=6), Row(CUT='Ideal', COUNT=4), Row(CUT='Premium', COUNT=6), Row(CUT='Very Good', COUNT=12), Row(CUT='Fair', COUNT=1)]\n"
     ]
    }
   ],
   "source": [
    "# Count of diamonds per cut.\n",
    "with session.ast_listener() as al:\n",
    "    df_count_per_cut = df.group_by(\"cut\").agg(count(\"*\").alias(\"count\"))\n",
    "    print(df_count_per_cut.collect())"
   ]
  },
  {
   "cell_type": "code",
   "execution_count": 17,
   "id": "fdddec8a-6732-4e4e-8870-cbe9083f5939",
   "metadata": {},
   "outputs": [
    {
     "name": "stdout",
     "output_type": "stream",
     "text": [
      "['Cg8KDQj///////////8BEgASQAo+CjTaBjEKGQoVigwSCgsY////////////ARIDY3V0EAESB4ICBAoCCAUaCxj///////////8BEgAYDCICCAwSfQp7CnHKCm4KVwpTwgNQCjaCATMKDxoNCgsKCQoHCgVjb3VudBoTigwQCgsY////////////ARIBKiILGP///////////wESAggBGgVjb3VudCILGP///////////wEQARIGUgQKAggMGgsY////////////ARIAGA0iAggNEiQKIgoY4gUVCAEQARoCCA0yCxj///////////8BEgAYDiICCA4SCBIGCA8SAggOGAEiERIPCg0KBWZpbmFsEAMYCyAJKgQQARgb']\n"
     ]
    }
   ],
   "source": [
    "print(al.base64_batches)"
   ]
  },
  {
   "cell_type": "code",
   "execution_count": 18,
   "id": "dca2ac88-032a-4d1e-9335-c6e7eae2c56e",
   "metadata": {},
   "outputs": [
    {
     "data": {
      "text/plain": [
       "interned_value_table {\n",
       "  string_values {\n",
       "    key: -1\n",
       "    value: \"\"\n",
       "  }\n",
       "}\n",
       "body {\n",
       "  assign {\n",
       "    expr {\n",
       "      sp_dataframe_group_by {\n",
       "        cols {\n",
       "          args {\n",
       "            string_val {\n",
       "              src {\n",
       "                file: -1\n",
       "              }\n",
       "              v: \"cut\"\n",
       "            }\n",
       "          }\n",
       "          variadic: true\n",
       "        }\n",
       "        df {\n",
       "          sp_dataframe_ref {\n",
       "            id {\n",
       "              bitfield1: 5\n",
       "            }\n",
       "          }\n",
       "        }\n",
       "        src {\n",
       "          file: -1\n",
       "        }\n",
       "      }\n",
       "    }\n",
       "    symbol {\n",
       "    }\n",
       "    uid: 12\n",
       "    var_id {\n",
       "      bitfield1: 12\n",
       "    }\n",
       "  }\n",
       "}\n",
       "body {\n",
       "  assign {\n",
       "    expr {\n",
       "      sp_relational_grouped_dataframe_agg {\n",
       "        exprs {\n",
       "          args {\n",
       "            sp_column_alias {\n",
       "              col {\n",
       "                apply_expr {\n",
       "                  fn {\n",
       "                    builtin_fn {\n",
       "                      name {\n",
       "                        name {\n",
       "                          sp_name_flat {\n",
       "                            name: \"count\"\n",
       "                          }\n",
       "                        }\n",
       "                      }\n",
       "                    }\n",
       "                  }\n",
       "                  pos_args {\n",
       "                    string_val {\n",
       "                      src {\n",
       "                        file: -1\n",
       "                      }\n",
       "                      v: \"*\"\n",
       "                    }\n",
       "                  }\n",
       "                  src {\n",
       "                    file: -1\n",
       "                  }\n",
       "                }\n",
       "              }\n",
       "              fn {\n",
       "                sp_column_alias_fn_alias: true\n",
       "              }\n",
       "              name: \"count\"\n",
       "              src {\n",
       "                file: -1\n",
       "              }\n",
       "            }\n",
       "          }\n",
       "          variadic: true\n",
       "        }\n",
       "        grouped_df {\n",
       "          sp_relational_grouped_dataframe_ref {\n",
       "            id {\n",
       "              bitfield1: 12\n",
       "            }\n",
       "          }\n",
       "        }\n",
       "        src {\n",
       "          file: -1\n",
       "        }\n",
       "      }\n",
       "    }\n",
       "    symbol {\n",
       "    }\n",
       "    uid: 13\n",
       "    var_id {\n",
       "      bitfield1: 13\n",
       "    }\n",
       "  }\n",
       "}\n",
       "body {\n",
       "  assign {\n",
       "    expr {\n",
       "      sp_dataframe_collect {\n",
       "        block: true\n",
       "        case_sensitive: true\n",
       "        id {\n",
       "          bitfield1: 13\n",
       "        }\n",
       "        src {\n",
       "          file: -1\n",
       "        }\n",
       "      }\n",
       "    }\n",
       "    symbol {\n",
       "    }\n",
       "    uid: 14\n",
       "    var_id {\n",
       "      bitfield1: 14\n",
       "    }\n",
       "  }\n",
       "}\n",
       "body {\n",
       "  eval {\n",
       "    uid: 15\n",
       "    var_id {\n",
       "      bitfield1: 14\n",
       "    }\n",
       "  }\n",
       "}\n",
       "client_ast_version: 1\n",
       "client_language {\n",
       "  python_language {\n",
       "    version {\n",
       "      label: \"final\"\n",
       "      major: 3\n",
       "      minor: 11\n",
       "      patch: 9\n",
       "    }\n",
       "  }\n",
       "}\n",
       "client_version {\n",
       "  major: 1\n",
       "  minor: 27\n",
       "}"
      ]
     },
     "execution_count": 18,
     "metadata": {},
     "output_type": "execute_result"
    }
   ],
   "source": [
    "# In plaintext:\n",
    "message = proto.Request()\n",
    "message.ParseFromString(base64.b64decode(al.base64_batches[0]))\n",
    "message"
   ]
  },
  {
   "cell_type": "code",
   "execution_count": 20,
   "id": "465efc772b670108",
   "metadata": {},
   "outputs": [
    {
     "name": "stderr",
     "output_type": "stream",
     "text": [
      "INFO:snowflake.connector.cursor:Number of results in first chunk: 0\n",
      "INFO:snowflake.connector.cursor:Number of results in first chunk: 5\n",
      "INFO:snowflake.snowpark._internal.server_connection:Execute query [queryID: 01ba8229-0100-0001-0000-001400011336] SELECT 'This is a fake query!!'; --No actual query sent, the server should rely on the provided AST!\n"
     ]
    },
    {
     "data": {
      "text/plain": [
       "[Row(CUT='Very Good', AVG_PRICE=Decimal('348.083333'), MAX_PRICE=357, MIN_PRICE=336),\n",
       " Row(CUT='Good', AVG_PRICE=Decimal('342.333333'), MAX_PRICE=351, MIN_PRICE=327),\n",
       " Row(CUT='Premium', AVG_PRICE=Decimal('341.166667'), MAX_PRICE=355, MIN_PRICE=326),\n",
       " Row(CUT='Ideal', AVG_PRICE=Decimal('339.500000'), MAX_PRICE=348, MIN_PRICE=326),\n",
       " Row(CUT='Fair', AVG_PRICE=Decimal('337.000000'), MAX_PRICE=337, MIN_PRICE=337)]"
      ]
     },
     "execution_count": 20,
     "metadata": {},
     "output_type": "execute_result"
    }
   ],
   "source": [
    "# Average, maximum, and minimum price per cut.\n",
    "df_avg_price_per_cut = df.group_by(\"cut\").agg(\n",
    "    avg(\"price\").alias(\"avg_price\"), \n",
    "    max(\"price\").alias(\"max_price\"), \n",
    "    min(\"price\").alias(\"min_price\")\n",
    ")\n",
    "df_avg_price_per_cut.sort(\"avg_price\", ascending=False).collect()"
   ]
  },
  {
   "cell_type": "code",
   "execution_count": 21,
   "id": "d0a10dd3-1cb4-4601-b9ef-42d662ad9d8a",
   "metadata": {},
   "outputs": [
    {
     "data": {
      "text/html": [
       "<img src=\"https://assets.vrai.com/25216/1692052168-diamond-cut-1-3.jpg\"/>"
      ],
      "text/plain": [
       "<IPython.core.display.Image object>"
      ]
     },
     "execution_count": 21,
     "metadata": {},
     "output_type": "execute_result"
    }
   ],
   "source": [
    "Image(url=\"https://assets.vrai.com/25216/1692052168-diamond-cut-1-3.jpg\")\n",
    "# source: https://www.vrai.com/journal/post/diamond-cut"
   ]
  },
  {
   "cell_type": "code",
   "execution_count": 22,
   "id": "1193057f-2b34-4328-bcde-0f0a4267dbe0",
   "metadata": {},
   "outputs": [],
   "source": [
    "# Depth and table are one way to determine the quality of a diamond.\n",
    "df_aggregated = df.group_by(\"cut\").agg(\n",
    "    avg(\"depth\").alias(\"avg_depth\"),\n",
    "    avg(\"table\").alias(\"avg_table\"),\n",
    "    avg(\"depth_table_ratio\").alias(\"avg_depth_table_ratio\")\n",
    ")"
   ]
  },
  {
   "cell_type": "markdown",
   "id": "dbb1f400-9b8f-4e97-a0c8-a6777a80b82d",
   "metadata": {},
   "source": [
    "## Performing a join"
   ]
  },
  {
   "cell_type": "code",
   "execution_count": 23,
   "id": "3dbbd7d1-5b68-49a9-99b9-d49af491bec1",
   "metadata": {},
   "outputs": [
    {
     "data": {
      "text/html": [
       "<img src=\"https://www.brilliance.com/front/img/brilliance-diamond-cut-chart.jpg\"/>"
      ],
      "text/plain": [
       "<IPython.core.display.Image object>"
      ]
     },
     "execution_count": 23,
     "metadata": {},
     "output_type": "execute_result"
    }
   ],
   "source": [
    "Image(url=\"https://www.brilliance.com/front/img/brilliance-diamond-cut-chart.jpg\")\n",
    "# source: https://www.brilliance.com/education/diamonds/cut"
   ]
  },
  {
   "cell_type": "code",
   "execution_count": 24,
   "id": "4c4b236730e4fd2f",
   "metadata": {},
   "outputs": [
    {
     "name": "stderr",
     "output_type": "stream",
     "text": [
      "INFO:snowflake.connector.cursor:Number of results in first chunk: 1\n",
      "INFO:snowflake.connector.cursor:Number of results in first chunk: 5\n",
      "INFO:snowflake.snowpark._internal.server_connection:Execute query [queryID: 01ba822a-0100-0001-0000-001400011346] SELECT 'This is a fake query!!'; --No actual query sent, the server should rely on the provided AST!\n"
     ]
    },
    {
     "data": {
      "text/plain": [
       "[Row(CUT='Ideal', DESCRIPTION='Highest quality cut'),\n",
       " Row(CUT='Premium', DESCRIPTION='High quality cut, but not as much as Ideal'),\n",
       " Row(CUT='Very Good', DESCRIPTION='Generally high quality cut'),\n",
       " Row(CUT='Good', DESCRIPTION='Average cut with some flaws'),\n",
       " Row(CUT='Fair', DESCRIPTION='Below average cut with noticeable flaws')]"
      ]
     },
     "execution_count": 24,
     "metadata": {},
     "output_type": "execute_result"
    }
   ],
   "source": [
    "cut_info_data = [\n",
    "    (\"Ideal\", \"Highest quality cut\"),\n",
    "    (\"Premium\", \"High quality cut, but not as much as Ideal\"),\n",
    "    (\"Very Good\", \"Generally high quality cut\"),\n",
    "    (\"Good\", \"Average cut with some flaws\"),\n",
    "    (\"Fair\", \"Below average cut with noticeable flaws\")\n",
    "]\n",
    "\n",
    "cut_info_schema = StructType([\n",
    "    StructField(\"cut\", StringType()),\n",
    "    StructField(\"description\", StringType())\n",
    "])\n",
    "\n",
    "# Create a DataFrame with cut information.\n",
    "df_cut_info = session.create_dataframe(cut_info_data, schema=cut_info_schema)\n",
    "df_cut_info.collect()"
   ]
  },
  {
   "cell_type": "code",
   "execution_count": 25,
   "id": "711ba330-19af-4470-9e7d-1a95ed28549f",
   "metadata": {},
   "outputs": [
    {
     "name": "stderr",
     "output_type": "stream",
     "text": [
      "INFO:snowflake.connector.cursor:Number of results in first chunk: 1\n",
      "INFO:snowflake.connector.cursor:Number of results in first chunk: 1\n",
      "INFO:snowflake.snowpark._internal.server_connection:Execute query [queryID: 01ba822a-0100-0001-0000-001400011356] SELECT 'This is a fake query!!'; --No actual query sent, the server should rely on the provided AST!\n"
     ]
    }
   ],
   "source": [
    "# Write the data to a new table.\n",
    "df_cut_info.write.save_as_table(\"cut_info\", mode=\"overwrite\")"
   ]
  },
  {
   "cell_type": "code",
   "execution_count": 26,
   "id": "cf6a4cad-8017-466b-b03e-c2f2d35a7694",
   "metadata": {},
   "outputs": [
    {
     "name": "stderr",
     "output_type": "stream",
     "text": [
      "INFO:snowflake.connector.cursor:Number of results in first chunk: 0\n",
      "INFO:snowflake.connector.cursor:Number of results in first chunk: 2\n",
      "INFO:snowflake.snowpark._internal.server_connection:Execute query [queryID: 01ba822a-0100-0001-0000-001400011366] SELECT 'This is a fake query!!'; --No actual query sent, the server should rely on the provided AST!\n"
     ]
    },
    {
     "data": {
      "text/plain": [
       "[Row(CUT='Ideal', DESCRIPTION='Highest quality cut'),\n",
       " Row(CUT='Premium', DESCRIPTION='High quality cut, but not as much as Ideal')]"
      ]
     },
     "execution_count": 26,
     "metadata": {},
     "output_type": "execute_result"
    }
   ],
   "source": [
    "# Load the cut_info table into a DataFrame.\n",
    "df_cut_info = session.table(\"cut_info\")\n",
    "df_cut_info.limit(2).collect()"
   ]
  },
  {
   "cell_type": "code",
   "execution_count": 27,
   "id": "64b2b347-f9fc-434f-a4ed-62a3442d6169",
   "metadata": {},
   "outputs": [
    {
     "name": "stderr",
     "output_type": "stream",
     "text": [
      "INFO:snowflake.connector.cursor:Number of results in first chunk: 0\n",
      "INFO:snowflake.connector.cursor:Number of results in first chunk: 0\n",
      "INFO:snowflake.connector.cursor:Number of results in first chunk: 0\n",
      "INFO:snowflake.connector.cursor:Number of results in first chunk: 29\n",
      "INFO:snowflake.snowpark._internal.server_connection:Execute query [queryID: 01ba822a-0100-0001-0000-00140001137e] SELECT 'This is a fake query!!'; --No actual query sent, the server should rely on the provided AST!\n"
     ]
    },
    {
     "data": {
      "text/plain": [
       "[Row(ID=1, CARAT=0.23, l_0000_CUT='Ideal', DESCRIPTION='Highest quality cut'),\n",
       " Row(ID=2, CARAT=0.21, l_0000_CUT='Premium', DESCRIPTION='High quality cut, but not as much as Ideal'),\n",
       " Row(ID=3, CARAT=0.23, l_0000_CUT='Good', DESCRIPTION='Average cut with some flaws'),\n",
       " Row(ID=4, CARAT=0.29, l_0000_CUT='Premium', DESCRIPTION='High quality cut, but not as much as Ideal'),\n",
       " Row(ID=5, CARAT=0.31, l_0000_CUT='Good', DESCRIPTION='Average cut with some flaws'),\n",
       " Row(ID=6, CARAT=0.24, l_0000_CUT='Very Good', DESCRIPTION='Generally high quality cut'),\n",
       " Row(ID=7, CARAT=0.24, l_0000_CUT='Very Good', DESCRIPTION='Generally high quality cut'),\n",
       " Row(ID=8, CARAT=0.26, l_0000_CUT='Very Good', DESCRIPTION='Generally high quality cut'),\n",
       " Row(ID=9, CARAT=0.22, l_0000_CUT='Fair', DESCRIPTION='Below average cut with noticeable flaws'),\n",
       " Row(ID=10, CARAT=0.23, l_0000_CUT='Very Good', DESCRIPTION='Generally high quality cut'),\n",
       " Row(ID=11, CARAT=0.3, l_0000_CUT='Good', DESCRIPTION='Average cut with some flaws'),\n",
       " Row(ID=12, CARAT=0.23, l_0000_CUT='Ideal', DESCRIPTION='Highest quality cut'),\n",
       " Row(ID=13, CARAT=0.22, l_0000_CUT='Premium', DESCRIPTION='High quality cut, but not as much as Ideal'),\n",
       " Row(ID=14, CARAT=0.31, l_0000_CUT='Ideal', DESCRIPTION='Highest quality cut'),\n",
       " Row(ID=15, CARAT=0.2, l_0000_CUT='Premium', DESCRIPTION='High quality cut, but not as much as Ideal'),\n",
       " Row(ID=16, CARAT=0.32, l_0000_CUT='Premium', DESCRIPTION='High quality cut, but not as much as Ideal'),\n",
       " Row(ID=17, CARAT=0.3, l_0000_CUT='Ideal', DESCRIPTION='Highest quality cut'),\n",
       " Row(ID=18, CARAT=0.3, l_0000_CUT='Good', DESCRIPTION='Average cut with some flaws'),\n",
       " Row(ID=19, CARAT=0.3, l_0000_CUT='Good', DESCRIPTION='Average cut with some flaws'),\n",
       " Row(ID=20, CARAT=0.3, l_0000_CUT='Very Good', DESCRIPTION='Generally high quality cut'),\n",
       " Row(ID=21, CARAT=0.3, l_0000_CUT='Good', DESCRIPTION='Average cut with some flaws'),\n",
       " Row(ID=22, CARAT=0.23, l_0000_CUT='Very Good', DESCRIPTION='Generally high quality cut'),\n",
       " Row(ID=23, CARAT=0.23, l_0000_CUT='Very Good', DESCRIPTION='Generally high quality cut'),\n",
       " Row(ID=24, CARAT=0.31, l_0000_CUT='Very Good', DESCRIPTION='Generally high quality cut'),\n",
       " Row(ID=25, CARAT=0.31, l_0000_CUT='Very Good', DESCRIPTION='Generally high quality cut'),\n",
       " Row(ID=26, CARAT=0.23, l_0000_CUT='Very Good', DESCRIPTION='Generally high quality cut'),\n",
       " Row(ID=27, CARAT=0.24, l_0000_CUT='Premium', DESCRIPTION='High quality cut, but not as much as Ideal'),\n",
       " Row(ID=28, CARAT=0.3, l_0000_CUT='Very Good', DESCRIPTION='Generally high quality cut'),\n",
       " Row(ID=29, CARAT=0.23, l_0000_CUT='Very Good', DESCRIPTION='Generally high quality cut')]"
      ]
     },
     "execution_count": 27,
     "metadata": {},
     "output_type": "execute_result"
    }
   ],
   "source": [
    "# Join the diamonds DataFrame with the cut_info DataFrame.\n",
    "df_joined = df.join(df_cut_info, df[\"cut\"] == df_cut_info[\"cut\"], how=\"inner\")\n",
    "\n",
    "# Select the columns to display.\n",
    "df_joined = df_joined.select(df[\"id\"], df[\"carat\"], df[\"cut\"], df_cut_info[\"description\"])\n",
    "\n",
    "# Show the results.\n",
    "df_joined.collect()"
   ]
  },
  {
   "cell_type": "markdown",
   "id": "d20b496a-08d4-46d3-b54b-305152fd1fb5",
   "metadata": {},
   "source": [
    "## Testing a UDF"
   ]
  },
  {
   "cell_type": "code",
   "execution_count": 28,
   "id": "42a2dac3-cbcf-4cfd-8451-e2f100ec3d31",
   "metadata": {},
   "outputs": [
    {
     "name": "stderr",
     "output_type": "stream",
     "text": [
      "INFO:snowflake.connector.cursor:Number of results in first chunk: 1\n",
      "INFO:snowflake.snowpark._internal.server_connection:Execute query [queryID: 01ba822a-0100-0001-0000-001400011392] create SCOPED TEMPORARY                     stage if not exists \"TESTDB\".\"PUBLIC\".SNOWPARK_TEMP_STAGE_67GYH2U1R8\n",
      "INFO:snowflake.connector.cursor:Number of results in first chunk: 0\n",
      "INFO:snowflake.snowpark._internal.server_connection:Execute query [queryID: 01ba822a-0100-0001-0000-001400011396] ls '@\"TESTDB\".\"PUBLIC\".SNOWPARK_TEMP_STAGE_67GYH2U1R8'\n",
      "INFO:snowflake.connector.cursor:Number of results in first chunk: 0\n",
      "INFO:snowflake.snowpark._internal.server_connection:Execute query [queryID: 01ba822a-0100-0001-0000-00140001139a]  SELECT \"name\" FROM ( SELECT  *  FROM  TABLE ( RESULT_SCAN('01ba822a-0100-0001-0000-001400011396')))\n",
      "INFO:snowflake.connector.cursor:Number of results in first chunk: 1\n",
      "INFO:snowflake.snowpark._internal.server_connection:Execute query [queryID: 01ba822a-0100-0001-0000-00140001139e] \n",
      "CREATE OR REPLACE \n",
      "TEMPORARY  FUNCTION  calculate_diamond_volume(arg1 FLOAT,arg2 FLOAT,arg3 FLOAT)\n",
      "\n",
      "RETURNS FLOAT\n",
      "LANGUAGE PYTHON \n",
      "VOLATILE\n",
      "RUNTIME_VERSION=3.11\n",
      "\n",
      "PACKAGES=('cloudpickle==2.2.1')\n",
      "\n",
      "\n",
      "HANDLER='compute'\n",
      "\n",
      "AS $$\n",
      "import pickle\n",
      "\n",
      "func = pickle.loads(bytes.fromhex('80059525020000000000008c17636c6f75647069636b6c652e636c6f75647069636b6c65948c0e5f6d616b655f66756e6374696f6e9493942868008c0d5f6275696c74696e5f747970659493948c08436f6465547970659485945294284b034b004b004b034b024b03431297007c007c017a0500007c027a0500005300944e8594298c0178948c0179948c017a9487948c4e2f7661722f666f6c646572732f34662f6e665f6737746e6a307331326b5f6c377077633237396d3830303030676e2f542f6970796b65726e656c5f36393535352f333231373639383731372e7079948c1863616c63756c6174655f6469616d6f6e645f766f6c756d6594680f4b0243108000d80b0c8871893590318939d00414944300942929749452947d94288c0b5f5f7061636b6167655f5f944e8c085f5f6e616d655f5f948c085f5f6d61696e5f5f94754e4e4e749452948c1c636c6f75647069636b6c652e636c6f75647069636b6c655f66617374948c125f66756e6374696f6e5f736574737461746594939468197d947d94286816680f8c0c5f5f7175616c6e616d655f5f94680f8c0f5f5f616e6e6f746174696f6e735f5f947d948c0e5f5f6b7764656661756c74735f5f944e8c0c5f5f64656661756c74735f5f944e8c0a5f5f6d6f64756c655f5f9468178c075f5f646f635f5f944e8c0b5f5f636c6f737572655f5f944e8c175f636c6f75647069636b6c655f7375626d6f64756c6573945d948c0b5f5f676c6f62616c735f5f947d947586948652302e'))\n",
      "# The following comment contains the source code generated by snowpark-python for explanatory purposes.\n",
      "# def calculate_diamond_volume(x: float, y: float, z: float) -> float:\n",
      "#     return x * y * z\n",
      "#\n",
      "# func = calculate_diamond_volume\n",
      "\n",
      "\n",
      "from threading import RLock\n",
      "\n",
      "lock = RLock()\n",
      "\n",
      "class InvokedFlag:\n",
      "    def __init__(self):\n",
      "        self.invoked = False\n",
      "\n",
      "def lock_function_once(f, flag):\n",
      "    def wrapper(*args, **kwargs):\n",
      "        if not flag.invoked:\n",
      "            with lock:\n",
      "                if not flag.invoked:\n",
      "                    result = f(*args, **kwargs)\n",
      "                    flag.invoked = True\n",
      "                    return result\n",
      "                return f(*args, **kwargs)\n",
      "        return f(*args, **kwargs)\n",
      "    return wrapper\n",
      "\n",
      "\n",
      "invoked = InvokedFlag()\n",
      "\n",
      "def compute(arg1,arg2,arg3):\n",
      "    return lock_function_once(func, invoked)(arg1,arg2,arg3)\n",
      "$$\n",
      "\n",
      "\n",
      "INFO:snowflake.connector.cursor:Number of results in first chunk: 0\n"
     ]
    }
   ],
   "source": [
    "# Testing a simple UDF.\n",
    "def calculate_diamond_volume(x: float, y: float, z: float) -> float:\n",
    "    return x * y * z\n",
    "\n",
    "# Register the UDF\n",
    "set_transmit_query_to_server(True)\n",
    "calculate_diamond_volume_udf = session.udf.register(\n",
    "    func=calculate_diamond_volume,\n",
    "    return_type=FloatType(),\n",
    "    input_types=[FloatType(), FloatType(), FloatType()],\n",
    "    name=\"calculate_diamond_volume\",\n",
    "    is_permanent=False,\n",
    "    replace=True\n",
    ")\n",
    "set_transmit_query_to_server(False)\n",
    "\n",
    "# Use the UDF to calculate the volume of diamonds in table t_diamonds\n",
    "df_diamonds = session.table(\"t_diamonds\")\n",
    "df_volumes = df_diamonds.with_column(\n",
    "    \"volume\",\n",
    "    calculate_diamond_volume_udf(\n",
    "        df_diamonds[\"x\"], \n",
    "        df_diamonds[\"y\"], \n",
    "        df_diamonds[\"z\"]\n",
    "    )\n",
    ")"
   ]
  },
  {
   "cell_type": "code",
   "execution_count": 29,
   "id": "a9cd9068-de00-4af4-828c-3a6863b37239",
   "metadata": {},
   "outputs": [
    {
     "name": "stderr",
     "output_type": "stream",
     "text": [
      "INFO:snowflake.connector.cursor:Number of results in first chunk: 29\n",
      "INFO:snowflake.snowpark._internal.server_connection:Execute query [queryID: 01ba822a-0100-0001-0000-0014000113a6] SELECT 'This is a fake query!!'; --No actual query sent, the server should rely on the provided AST!\n"
     ]
    },
    {
     "data": {
      "text/plain": [
       "[Row(ID=5, CARAT=0.31, VOLUME=51.917249999999996),\n",
       " Row(ID=16, CARAT=0.32, VOLUME=51.883728000000005),\n",
       " Row(ID=14, CARAT=0.31, VOLUME=51.515744999999995),\n",
       " Row(ID=25, CARAT=0.31, VOLUME=51.403212),\n",
       " Row(ID=24, CARAT=0.31, VOLUME=50.952974),\n",
       " Row(ID=17, CARAT=0.3, VOLUME=50.130472),\n",
       " Row(ID=11, CARAT=0.3, VOLUME=49.6587),\n",
       " Row(ID=21, CARAT=0.3, VOLUME=49.64177999999999),\n",
       " Row(ID=28, CARAT=0.3, VOLUME=49.13868),\n",
       " Row(ID=18, CARAT=0.3, VOLUME=48.99609000000001),\n",
       " Row(ID=19, CARAT=0.3, VOLUME=48.833658),\n",
       " Row(ID=20, CARAT=0.3, VOLUME=47.818022),\n",
       " Row(ID=4, CARAT=0.29, VOLUME=46.72458),\n",
       " Row(ID=8, CARAT=0.26, VOLUME=42.321081),\n",
       " Row(ID=7, CARAT=0.24, VOLUME=38.830870000000004),\n",
       " Row(ID=10, CARAT=0.23, VOLUME=38.718),\n",
       " Row(ID=6, CARAT=0.24, VOLUME=38.693951999999996),\n",
       " Row(ID=27, CARAT=0.24, VOLUME=38.635246),\n",
       " Row(ID=26, CARAT=0.23, VOLUME=38.366477),\n",
       " Row(ID=1, CARAT=0.23, VOLUME=38.20203),\n",
       " Row(ID=3, CARAT=0.23, VOLUME=38.076885),\n",
       " Row(ID=29, CARAT=0.23, VOLUME=37.73088),\n",
       " Row(ID=12, CARAT=0.23, VOLUME=37.70442),\n",
       " Row(ID=23, CARAT=0.23, VOLUME=37.601784),\n",
       " Row(ID=22, CARAT=0.23, VOLUME=37.42816),\n",
       " Row(ID=9, CARAT=0.22, VOLUME=36.425214000000004),\n",
       " Row(ID=13, CARAT=0.22, VOLUME=34.715136),\n",
       " Row(ID=2, CARAT=0.21, VOLUME=34.505856),\n",
       " Row(ID=15, CARAT=0.2, VOLUME=32.262375)]"
      ]
     },
     "execution_count": 29,
     "metadata": {},
     "output_type": "execute_result"
    }
   ],
   "source": [
    "df_volumes.select(\"id\", \"carat\", \"volume\").order_by(\"volume\", ascending=False).collect()"
   ]
  },
  {
   "cell_type": "markdown",
   "id": "6cf3389b-2885-4af7-89c2-5017c809f116",
   "metadata": {},
   "source": [
    "## Testing a UDAF"
   ]
  },
  {
   "cell_type": "code",
   "execution_count": 30,
   "id": "403a56a0-a697-4e63-b48f-ed163988adbd",
   "metadata": {},
   "outputs": [
    {
     "name": "stderr",
     "output_type": "stream",
     "text": [
      "INFO:snowflake.connector.cursor:Number of results in first chunk: 0\n",
      "INFO:snowflake.snowpark._internal.server_connection:Execute query [queryID: 01ba822a-0100-0001-0000-0014000113b2] ls '@\"TESTDB\".\"PUBLIC\".SNOWPARK_TEMP_STAGE_67GYH2U1R8'\n",
      "INFO:snowflake.connector.cursor:Number of results in first chunk: 0\n",
      "INFO:snowflake.snowpark._internal.server_connection:Execute query [queryID: 01ba822a-0100-0001-0000-0014000113b6]  SELECT \"name\" FROM ( SELECT  *  FROM  TABLE ( RESULT_SCAN('01ba822a-0100-0001-0000-0014000113b2')))\n",
      "INFO:snowflake.connector.cursor:Number of results in first chunk: 1\n",
      "INFO:snowflake.snowpark._internal.server_connection:Execute query [queryID: 01ba822a-0100-0001-0000-0014000113ba] \n",
      "CREATE\n",
      "TEMPORARY  AGGREGATE FUNCTION  \"TESTDB\".\"PUBLIC\".SNOWPARK_TEMP_AGGREGATE_FUNCTION_76TJSAU2F8(arg1 FLOAT,arg2 FLOAT)\n",
      "\n",
      "RETURNS FLOAT\n",
      "LANGUAGE PYTHON \n",
      "VOLATILE\n",
      "RUNTIME_VERSION=3.11\n",
      "\n",
      "PACKAGES=('cloudpickle==2.2.1')\n",
      "\n",
      "\n",
      "HANDLER='compute'\n",
      "\n",
      "AS $$\n",
      "import pickle\n",
      "\n",
      "func = pickle.loads(bytes.fromhex('8005957e070000000000008c17636c6f75647069636b6c652e636c6f75647069636b6c65948c145f6d616b655f736b656c65746f6e5f636c617373949394288c086275696c74696e73948c04747970659493948c1441766572616765507269636550657243617261749468038c066f626a65637494939485947d948c0a5f5f6d6f64756c655f5f948c085f5f6d61696e5f5f94738c203336646432366130313837333436326362616364633031633661323831313531944e749452948c1c636c6f75647069636b6c652e636c6f75647069636b6c655f66617374948c0f5f636c6173735f7365747374617465949394680f7d9428680b680c8c085f5f696e69745f5f9468008c0e5f6d616b655f66756e6374696f6e9493942868008c0d5f6275696c74696e5f747970659493948c08436f6465547970659485945294284b014b004b004b014b024b034322970064017c005f00000000000000000064017c005f01000000000000000064005300944e47000000000000000086948c0b746f74616c5f7072696365948c0b746f74616c5f63617261749486948c0473656c669485948c4e2f7661722f666f6c646572732f34662f6e665f6737746e6a307331326b5f6c377077633237396d3830303030676e2f542f6970796b65726e656c5f36393535352f333634353732303634362e70799468148c1d41766572616765507269636550657243617261742e5f5f696e69745f5f944b0343188000d81b1e8804d40818d81b1e8804d40818d00818d00818944300942929749452947d94288c0b5f5f7061636b6167655f5f944e8c085f5f6e616d655f5f94680c754e4e4e7494529468108c125f66756e6374696f6e5f7365747374617465949394682d7d947d9428682b68148c0c5f5f7175616c6e616d655f5f9468248c0f5f5f616e6e6f746174696f6e735f5f947d948c0e5f5f6b7764656661756c74735f5f944e8c0c5f5f64656661756c74735f5f944e680b680c8c075f5f646f635f5f944e8c0b5f5f636c6f737572655f5f944e8c175f636c6f75647069636b6c655f7375626d6f64756c6573945d948c0b5f5f676c6f62616c735f5f947d947586948652308c0f6167677265676174655f73746174659468038c0870726f706572747994939428681628681b284b014b004b004b014b024b03431e97007c006a0000000000000000007c006a01000000000000000066025300944e85946820682185946823683e8c2441766572616765507269636550657243617261742e6167677265676174655f7374617465944b0743138000e00f13d40f1fa014d42131d00f31d0083194682629297494529468294e4e4e74945294682f68497d947d9428682b683e6832684468337d9468354e68364e680b680c68374e68384e68395d94683b7d947586948652304e4e4e749452948c0a616363756d756c61746594681628681b284b034b004b004b034b034b03435697007c0264016b040000000072227c0078016a0000000000000000007c017a0d000063025f0000000000000000007c0078016a0100000000000000007c027a0d000063025f0100000000000000006400530064005300944e4b008694682068218c057072696365948c056361726174948794682368528c1f41766572616765507269636550657243617261742e616363756d756c617465944b0b43408000d80b1090318a398839d80c10d00c1cd40c1ca005d10c25d00c1cd40c1cd80c10d00c1cd40c1ca005d10c25d00c1cd40c1cd00c1cd00c1cf005000c15883994682629297494529468294e4e4e74945294682f685d7d947d9428682b68526832685868337d9468354e68364e680b680c68374e68384e68395d94683b7d947586948652308c056d6572676594681628681b284b024b004b004b024b044b03435e97007c0078016a0000000000000000007c016401190000000000000000007a0d000063025f0000000000000000007c0078016a0100000000000000007c016402190000000000000000007a0d000063025f01000000000000000064005300944e4b004b018794682068218c056f74686572948694682368648c1a41766572616765507269636550657243617261742e6d65726765944b1043388000d8080cd00818d408189845a0219c48d10824d00818d40818d8080cd00818d408189845a0219c48d10824d00818d40818d00818d0081894682629297494529468294e4e4e74945294682f686e7d947d9428682b68646832686968337d9468354e68364e680b680c68374e68384e68395d94683b7d947586948652308c0666696e69736894681628681b284b014b004b004b014b024b03433a97007c006a00000000000000000064016b0400000000720f7c006a0100000000000000007c006a0000000000000000007a0b00006e0164025300944e4b004700000000000000008794681f681e869468218594682368758c1b41766572616765507269636550657243617261742e66696e697368944b1443268000d8363ad43646c811d2364ad0364a8874d40f1fa024d42232d10f32d00f32d05053d0085394682629297494529468294e4e4e74945294682f687f7d947d9428682b68756832687a68337d9468354e68364e680b680c68374e68384e68395d94683b7d9475869486523068374e757d9486948652302e'))\n",
      "\n",
      "\n",
      "from threading import RLock\n",
      "\n",
      "lock = RLock()\n",
      "\n",
      "class InvokedFlag:\n",
      "    def __init__(self):\n",
      "        self.invoked = False\n",
      "\n",
      "def lock_function_once(f, flag):\n",
      "    def wrapper(*args, **kwargs):\n",
      "        if not flag.invoked:\n",
      "            with lock:\n",
      "                if not flag.invoked:\n",
      "                    result = f(*args, **kwargs)\n",
      "                    flag.invoked = True\n",
      "                    return result\n",
      "                return f(*args, **kwargs)\n",
      "        return f(*args, **kwargs)\n",
      "    return wrapper\n",
      "\n",
      "\n",
      "init_invoked = InvokedFlag()\n",
      "accumulate_invoked = InvokedFlag()\n",
      "merge_invoked = InvokedFlag()\n",
      "finish_invoked = InvokedFlag()\n",
      "\n",
      "class compute(func):\n",
      "    def __init__(self):\n",
      "        lock_function_once(super().__init__, init_invoked)()\n",
      "\n",
      "    def accumulate(self, arg1,arg2):\n",
      "        return lock_function_once(super().accumulate, accumulate_invoked)(arg1,arg2)\n",
      "\n",
      "    def merge(self, other_agg_state):\n",
      "        return lock_function_once(super().merge, merge_invoked)(other_agg_state)\n",
      "\n",
      "    def finish(self):\n",
      "        return lock_function_once(super().finish, finish_invoked)()\n",
      "$$\n",
      "\n",
      "\n"
     ]
    }
   ],
   "source": [
    "# Define the UDAF class\n",
    "class AveragePricePerCarat:\n",
    "    def __init__(self):\n",
    "        self.total_price = 0.0\n",
    "        self.total_carat = 0.0\n",
    "\n",
    "    @property\n",
    "    def aggregate_state(self):\n",
    "        return self.total_price, self.total_carat\n",
    "\n",
    "    def accumulate(self, price, carat):\n",
    "        if carat > 0:\n",
    "            self.total_price += price\n",
    "            self.total_carat += carat\n",
    "\n",
    "    def merge(self, other):\n",
    "        self.total_price += other[0]\n",
    "        self.total_carat += other[1]\n",
    "\n",
    "    def finish(self):\n",
    "        return self.total_price / self.total_carat if self.total_carat > 0 else 0.0\n",
    "\n",
    "# Register the UDAF\n",
    "set_transmit_query_to_server(True)\n",
    "avg_price_per_carat_udaf = udaf(AveragePricePerCarat, return_type=FloatType(), input_types=[FloatType(), FloatType()])\n",
    "set_transmit_query_to_server(False)"
   ]
  },
  {
   "cell_type": "code",
   "execution_count": 32,
   "id": "c951abe2-52bc-4370-8357-7e911289a40c",
   "metadata": {},
   "outputs": [
    {
     "name": "stderr",
     "output_type": "stream",
     "text": [
      "INFO:snowflake.connector.cursor:Number of results in first chunk: 0\n",
      "INFO:snowflake.connector.cursor:Number of results in first chunk: 0\n",
      "INFO:snowflake.connector.cursor:Number of results in first chunk: 5\n",
      "INFO:snowflake.snowpark._internal.server_connection:Execute query [queryID: 01ba822b-0100-0001-0000-0014000113d6] SELECT 'This is a fake query!!'; --No actual query sent, the server should rely on the provided AST!\n"
     ]
    },
    {
     "data": {
      "text/plain": [
       "[Row(CUT='Fair', AVG_PRICE_PER_CARAT=1531.8181818181818),\n",
       " Row(CUT='Premium', AVG_PRICE_PER_CARAT=1383.1081081081081),\n",
       " Row(CUT='Very Good', AVG_PRICE_PER_CARAT=1343.0868167202573),\n",
       " Row(CUT='Ideal', AVG_PRICE_PER_CARAT=1269.1588785046729),\n",
       " Row(CUT='Good', AVG_PRICE_PER_CARAT=1180.4597701149423)]"
      ]
     },
     "execution_count": 32,
     "metadata": {},
     "output_type": "execute_result"
    }
   ],
   "source": [
    "# Use the UDAF on the diamonds DataFrame\n",
    "df = session.table(\"t_diamonds\")\n",
    "df_avg_price_per_carat = df.group_by(df[\"cut\"]).agg(avg_price_per_carat_udaf(df[\"price\"], df[\"carat\"]).alias(\"avg_price_per_carat\"))\n",
    "\n",
    "# Show the results\n",
    "df_avg_price_per_carat.order_by(\"avg_price_per_carat\", ascending=False).collect()"
   ]
  },
  {
   "cell_type": "markdown",
   "id": "24440dc2-7656-4f27-ad94-0bb9f3222b88",
   "metadata": {},
   "source": [
    "## Testing a UDTF"
   ]
  },
  {
   "cell_type": "code",
   "execution_count": null,
   "id": "a461ef0f-786b-47b6-a41e-03d94a3eb7e9",
   "metadata": {},
   "outputs": [],
   "source": [
    "# This is a UDTF which provides information on the color and clarity grading of a diamond!"
   ]
  },
  {
   "cell_type": "code",
   "execution_count": 33,
   "id": "2a01df33-f9a0-4b8b-96c5-59514244cd7a",
   "metadata": {},
   "outputs": [
    {
     "data": {
      "text/html": [
       "<img src=\"https://4cs.gia.edu/wp-content/uploads/2024/07/02_Color-D-Z-Scale_960x800.jpg\"/>"
      ],
      "text/plain": [
       "<IPython.core.display.Image object>"
      ]
     },
     "execution_count": 33,
     "metadata": {},
     "output_type": "execute_result"
    }
   ],
   "source": [
    "Image(url=\"https://4cs.gia.edu/wp-content/uploads/2024/07/02_Color-D-Z-Scale_960x800.jpg\")\n",
    "# source: https://4cs.gia.edu/en-us/diamond-color/"
   ]
  },
  {
   "cell_type": "code",
   "execution_count": 34,
   "id": "61250875-525e-4e48-b543-ed75b4ed0363",
   "metadata": {},
   "outputs": [
    {
     "data": {
      "text/html": [
       "<img src=\"https://lisarobinjewelry.com/cdn/shop/files/Diamond_Clarity_Scale_Graphic_1600x.jpg?v=1686052968\"/>"
      ],
      "text/plain": [
       "<IPython.core.display.Image object>"
      ]
     },
     "execution_count": 34,
     "metadata": {},
     "output_type": "execute_result"
    }
   ],
   "source": [
    "Image(url=\"https://lisarobinjewelry.com/cdn/shop/files/Diamond_Clarity_Scale_Graphic_1600x.jpg?v=1686052968\")\n",
    "# source: https://lisarobinjewelry.com/pages/what-is-diamond-clarity"
   ]
  },
  {
   "cell_type": "code",
   "execution_count": 35,
   "id": "b6086d29-afeb-474d-af85-0adcdf24fd77",
   "metadata": {},
   "outputs": [
    {
     "name": "stderr",
     "output_type": "stream",
     "text": [
      "INFO:snowflake.connector.cursor:Number of results in first chunk: 0\n",
      "INFO:snowflake.snowpark._internal.server_connection:Execute query [queryID: 01ba822b-0100-0001-0000-0014000113e6] ls '@\"TESTDB\".\"PUBLIC\".SNOWPARK_TEMP_STAGE_67GYH2U1R8'\n",
      "INFO:snowflake.connector.cursor:Number of results in first chunk: 0\n",
      "INFO:snowflake.snowpark._internal.server_connection:Execute query [queryID: 01ba822b-0100-0001-0000-0014000113ea]  SELECT \"name\" FROM ( SELECT  *  FROM  TABLE ( RESULT_SCAN('01ba822b-0100-0001-0000-0014000113e6')))\n",
      "INFO:snowflake.connector.cursor:Number of results in first chunk: 1\n",
      "INFO:snowflake.snowpark._internal.server_connection:Execute query [queryID: 01ba822b-0100-0001-0000-0014000113ee] \n",
      "CREATE\n",
      "TEMPORARY  FUNCTION  \"TESTDB\".\"PUBLIC\".SNOWPARK_TEMP_TABLE_FUNCTION_XD5OWEP6HZ(arg1 STRING,arg2 STRING)\n",
      "\n",
      "RETURNS TABLE (COLOR STRING,COLOR_DESCRIPTION STRING,CLARITY STRING,CLARITY_DESCRIPTION STRING)\n",
      "LANGUAGE PYTHON \n",
      "VOLATILE\n",
      "RUNTIME_VERSION=3.11\n",
      "\n",
      "PACKAGES=('cloudpickle==2.2.1')\n",
      "\n",
      "\n",
      "HANDLER='compute'\n",
      "\n",
      "AS $$\n",
      "import pickle\n",
      "\n",
      "func = pickle.loads(bytes.fromhex('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'))\n",
      "\n",
      "\n",
      "from threading import RLock\n",
      "\n",
      "lock = RLock()\n",
      "\n",
      "class InvokedFlag:\n",
      "    def __init__(self):\n",
      "        self.invoked = False\n",
      "\n",
      "def lock_function_once(f, flag):\n",
      "    def wrapper(*args, **kwargs):\n",
      "        if not flag.invoked:\n",
      "            with lock:\n",
      "                if not flag.invoked:\n",
      "                    result = f(*args, **kwargs)\n",
      "                    flag.invoked = True\n",
      "                    return result\n",
      "                return f(*args, **kwargs)\n",
      "        return f(*args, **kwargs)\n",
      "    return wrapper\n",
      "\n",
      "\n",
      "init_invoked = InvokedFlag()\n",
      "process_invoked = InvokedFlag()\n",
      "end_partition_invoked = InvokedFlag()\n",
      "\n",
      "class compute(func):\n",
      "    def __init__(self):\n",
      "        lock_function_once(super().__init__, init_invoked)()\n",
      "\n",
      "    def process(self, arg1,arg2):\n",
      "        return lock_function_once(super().process, process_invoked)(arg1,arg2)\n",
      "$$\n",
      "\n",
      "\n"
     ]
    }
   ],
   "source": [
    "class ColorClarityDetails:\n",
    "    def process(self, color, clarity):\n",
    "        color_desc = self.get_color_description(color)\n",
    "        clarity_desc = self.get_clarity_description(clarity)\n",
    "        yield (color, color_desc, clarity, clarity_desc)\n",
    "\n",
    "    def get_color_description(self, color):\n",
    "        color_descriptions = {\n",
    "            \"D\": \"Colorless\",\n",
    "            \"E\": \"Colorless\",\n",
    "            \"F\": \"Colorless\",\n",
    "            \"G\": \"Near Colorless\",\n",
    "            \"H\": \"Near Colorless\",\n",
    "            \"I\": \"Near Colorless\",\n",
    "            \"J\": \"Near Colorless\"\n",
    "        }\n",
    "        return color_descriptions.get(color, \"Unknown\")\n",
    "\n",
    "    def get_clarity_description(self, clarity):\n",
    "        clarity_descriptions = {\n",
    "            \"IF\": \"Internally Flawless\",\n",
    "            \"VVS1\": \"Very, Very Slightly Included 1\",\n",
    "            \"VVS2\": \"Very, Very Slightly Included 2\",\n",
    "            \"VS1\": \"Very Slightly Included 1\",\n",
    "            \"VS2\": \"Very Slightly Included 2\",\n",
    "            \"SI1\": \"Slightly Included 1\",\n",
    "            \"SI2\": \"Slightly Included 2\",\n",
    "            \"I1\": \"Included 1\",\n",
    "            \"I2\": \"Included 2\",\n",
    "            \"I3\": \"Included 3\"\n",
    "        }\n",
    "        return clarity_descriptions.get(clarity, \"Unknown\")\n",
    "\n",
    "# Define the schema of the output table\n",
    "output_schema = StructType([\n",
    "    StructField(\"color\", StringType()),\n",
    "    StructField(\"color_description\", StringType()),\n",
    "    StructField(\"clarity\", StringType()),\n",
    "    StructField(\"clarity_description\", StringType())\n",
    "])\n",
    "\n",
    "# Register the UDTF\n",
    "set_transmit_query_to_server(True)\n",
    "color_clarity_udtf = udtf(ColorClarityDetails, output_schema=output_schema, input_types=[StringType(), StringType()])\n",
    "set_transmit_query_to_server(False)"
   ]
  },
  {
   "cell_type": "code",
   "execution_count": 38,
   "id": "6cc21e39-762e-462a-80ce-fe9d8df27083",
   "metadata": {},
   "outputs": [
    {
     "name": "stderr",
     "output_type": "stream",
     "text": [
      "INFO:snowflake.connector.cursor:Number of results in first chunk: 0\n"
     ]
    },
    {
     "ename": "SnowparkSQLException",
     "evalue": "(1304): 01ba822c-0100-0001-0000-00140001140e: 000603 (XX000): 01ba822c-0100-0001-0000-00140001140e: SQL execution internal error:\nNON_FATAL: DataframeExecutionUtils::executeDataframe():dataframe_processing_failure(com.snowflake.core.DataframeExecutionUtils:executeDataframe:55) - Dataframe Execution Failed caused by exception: [java.lang.RuntimeException: java.util.concurrent.ExecutionException: java.lang.RuntimeException: Expression type not implemented yet: sp_dataframe_join_table_function at com.snowflake.resources.dataframe.NotebookDataframeProcessor.evalImpl(NotebookDataframeProcessor.java:365)]",
     "output_type": "error",
     "traceback": [
      "\u001b[0;31m---------------------------------------------------------------------------\u001b[0m",
      "\u001b[0;31mSnowparkSQLException\u001b[0m                      Traceback (most recent call last)",
      "Cell \u001b[0;32mIn[38], line 4\u001b[0m\n\u001b[1;32m      1\u001b[0m df \u001b[38;5;241m=\u001b[39m session\u001b[38;5;241m.\u001b[39mtable(\u001b[38;5;124m\"\u001b[39m\u001b[38;5;124mt_diamonds\u001b[39m\u001b[38;5;124m\"\u001b[39m)\n\u001b[1;32m      2\u001b[0m df_color_clarity_details \u001b[38;5;241m=\u001b[39m \u001b[43mdf\u001b[49m\u001b[38;5;241;43m.\u001b[39;49m\u001b[43mjoin_table_function\u001b[49m\u001b[43m(\u001b[49m\n\u001b[1;32m      3\u001b[0m \u001b[43m    \u001b[49m\u001b[43mcolor_clarity_udtf\u001b[49m\u001b[43m(\u001b[49m\u001b[43mdf\u001b[49m\u001b[43m[\u001b[49m\u001b[38;5;124;43m\"\u001b[39;49m\u001b[38;5;124;43mcolor\u001b[39;49m\u001b[38;5;124;43m\"\u001b[39;49m\u001b[43m]\u001b[49m\u001b[43m,\u001b[49m\u001b[43m \u001b[49m\u001b[43mdf\u001b[49m\u001b[43m[\u001b[49m\u001b[38;5;124;43m\"\u001b[39;49m\u001b[38;5;124;43mclarity\u001b[39;49m\u001b[38;5;124;43m\"\u001b[39;49m\u001b[43m]\u001b[49m\u001b[43m)\u001b[49m\n\u001b[0;32m----> 4\u001b[0m \u001b[43m)\u001b[49m\u001b[38;5;241;43m.\u001b[39;49m\u001b[43mcollect\u001b[49m\u001b[43m(\u001b[49m\u001b[43m)\u001b[49m\n",
      "File \u001b[0;32m~/work/snowpark_python_serverside/snowpark-python/src/snowflake/snowpark/_internal/telemetry.py:174\u001b[0m, in \u001b[0;36mdf_collect_api_telemetry.<locals>.wrap\u001b[0;34m(*args, **kwargs)\u001b[0m\n\u001b[1;32m    171\u001b[0m \u001b[38;5;129m@functools\u001b[39m\u001b[38;5;241m.\u001b[39mwraps(func)\n\u001b[1;32m    172\u001b[0m \u001b[38;5;28;01mdef\u001b[39;00m \u001b[38;5;21mwrap\u001b[39m(\u001b[38;5;241m*\u001b[39margs, \u001b[38;5;241m*\u001b[39m\u001b[38;5;241m*\u001b[39mkwargs):\n\u001b[1;32m    173\u001b[0m     \u001b[38;5;28;01mwith\u001b[39;00m args[\u001b[38;5;241m0\u001b[39m]\u001b[38;5;241m.\u001b[39m_session\u001b[38;5;241m.\u001b[39mquery_history() \u001b[38;5;28;01mas\u001b[39;00m query_history:\n\u001b[0;32m--> 174\u001b[0m         result \u001b[38;5;241m=\u001b[39m \u001b[43mfunc\u001b[49m\u001b[43m(\u001b[49m\u001b[38;5;241;43m*\u001b[39;49m\u001b[43margs\u001b[49m\u001b[43m,\u001b[49m\u001b[43m \u001b[49m\u001b[38;5;241;43m*\u001b[39;49m\u001b[38;5;241;43m*\u001b[39;49m\u001b[43mkwargs\u001b[49m\u001b[43m)\u001b[49m\n\u001b[1;32m    175\u001b[0m     plan \u001b[38;5;241m=\u001b[39m args[\u001b[38;5;241m0\u001b[39m]\u001b[38;5;241m.\u001b[39m_select_statement \u001b[38;5;129;01mor\u001b[39;00m args[\u001b[38;5;241m0\u001b[39m]\u001b[38;5;241m.\u001b[39m_plan\n\u001b[1;32m    176\u001b[0m     api_calls \u001b[38;5;241m=\u001b[39m [\n\u001b[1;32m    177\u001b[0m         \u001b[38;5;241m*\u001b[39mplan\u001b[38;5;241m.\u001b[39mapi_calls,\n\u001b[1;32m    178\u001b[0m         {TelemetryField\u001b[38;5;241m.\u001b[39mNAME\u001b[38;5;241m.\u001b[39mvalue: \u001b[38;5;124mf\u001b[39m\u001b[38;5;124m\"\u001b[39m\u001b[38;5;124mDataFrame.\u001b[39m\u001b[38;5;132;01m{\u001b[39;00mfunc\u001b[38;5;241m.\u001b[39m\u001b[38;5;18m__name__\u001b[39m\u001b[38;5;132;01m}\u001b[39;00m\u001b[38;5;124m\"\u001b[39m},\n\u001b[1;32m    179\u001b[0m     ]\n",
      "File \u001b[0;32m~/work/snowpark_python_serverside/snowpark-python/src/snowflake/snowpark/_internal/utils.py:1029\u001b[0m, in \u001b[0;36mpublicapi.<locals>.call_wrapper\u001b[0;34m(*args, **kwargs)\u001b[0m\n\u001b[1;32m   1025\u001b[0m kwargs[\u001b[38;5;124m\"\u001b[39m\u001b[38;5;124m_emit_ast\u001b[39m\u001b[38;5;124m\"\u001b[39m] \u001b[38;5;241m=\u001b[39m is_ast_enabled()\n\u001b[1;32m   1027\u001b[0m \u001b[38;5;66;03m# TODO: Could modify internal docstring to display that users should not modify the _emit_ast parameter.\u001b[39;00m\n\u001b[0;32m-> 1029\u001b[0m \u001b[38;5;28;01mreturn\u001b[39;00m \u001b[43mfunc\u001b[49m\u001b[43m(\u001b[49m\u001b[38;5;241;43m*\u001b[39;49m\u001b[43margs\u001b[49m\u001b[43m,\u001b[49m\u001b[43m \u001b[49m\u001b[38;5;241;43m*\u001b[39;49m\u001b[38;5;241;43m*\u001b[39;49m\u001b[43mkwargs\u001b[49m\u001b[43m)\u001b[49m\n",
      "File \u001b[0;32m~/work/snowpark_python_serverside/snowpark-python/src/snowflake/snowpark/dataframe.py:713\u001b[0m, in \u001b[0;36mDataFrame.collect\u001b[0;34m(self, statement_params, block, log_on_exception, case_sensitive, _emit_ast)\u001b[0m\n\u001b[1;32m    710\u001b[0m     _, kwargs[DATAFRAME_AST_PARAMETER] \u001b[38;5;241m=\u001b[39m \u001b[38;5;28mself\u001b[39m\u001b[38;5;241m.\u001b[39m_session\u001b[38;5;241m.\u001b[39m_ast_batch\u001b[38;5;241m.\u001b[39mflush()\n\u001b[1;32m    712\u001b[0m \u001b[38;5;28;01mwith\u001b[39;00m open_telemetry_context_manager(\u001b[38;5;28mself\u001b[39m\u001b[38;5;241m.\u001b[39mcollect, \u001b[38;5;28mself\u001b[39m):\n\u001b[0;32m--> 713\u001b[0m     \u001b[38;5;28;01mreturn\u001b[39;00m \u001b[38;5;28;43mself\u001b[39;49m\u001b[38;5;241;43m.\u001b[39;49m\u001b[43m_internal_collect_with_tag_no_telemetry\u001b[49m\u001b[43m(\u001b[49m\n\u001b[1;32m    714\u001b[0m \u001b[43m        \u001b[49m\u001b[43mstatement_params\u001b[49m\u001b[38;5;241;43m=\u001b[39;49m\u001b[43mstatement_params\u001b[49m\u001b[43m,\u001b[49m\n\u001b[1;32m    715\u001b[0m \u001b[43m        \u001b[49m\u001b[43mblock\u001b[49m\u001b[38;5;241;43m=\u001b[39;49m\u001b[43mblock\u001b[49m\u001b[43m,\u001b[49m\n\u001b[1;32m    716\u001b[0m \u001b[43m        \u001b[49m\u001b[43mlog_on_exception\u001b[49m\u001b[38;5;241;43m=\u001b[39;49m\u001b[43mlog_on_exception\u001b[49m\u001b[43m,\u001b[49m\n\u001b[1;32m    717\u001b[0m \u001b[43m        \u001b[49m\u001b[43mcase_sensitive\u001b[49m\u001b[38;5;241;43m=\u001b[39;49m\u001b[43mcase_sensitive\u001b[49m\u001b[43m,\u001b[49m\n\u001b[1;32m    718\u001b[0m \u001b[43m        \u001b[49m\u001b[38;5;241;43m*\u001b[39;49m\u001b[38;5;241;43m*\u001b[39;49m\u001b[43mkwargs\u001b[49m\u001b[43m,\u001b[49m\n\u001b[1;32m    719\u001b[0m \u001b[43m    \u001b[49m\u001b[43m)\u001b[49m\n",
      "File \u001b[0;32m~/work/snowpark_python_serverside/snowpark-python/src/snowflake/snowpark/dataframe.py:784\u001b[0m, in \u001b[0;36mDataFrame._internal_collect_with_tag_no_telemetry\u001b[0;34m(self, statement_params, block, data_type, log_on_exception, case_sensitive, **kwargs)\u001b[0m\n\u001b[1;32m    771\u001b[0m \u001b[38;5;28;01mdef\u001b[39;00m \u001b[38;5;21m_internal_collect_with_tag_no_telemetry\u001b[39m(\n\u001b[1;32m    772\u001b[0m     \u001b[38;5;28mself\u001b[39m,\n\u001b[1;32m    773\u001b[0m     \u001b[38;5;241m*\u001b[39m,\n\u001b[0;32m   (...)\u001b[0m\n\u001b[1;32m    782\u001b[0m     \u001b[38;5;66;03m# we should always call this method instead of collect(), to make sure the\u001b[39;00m\n\u001b[1;32m    783\u001b[0m     \u001b[38;5;66;03m# query tag is set properly.\u001b[39;00m\n\u001b[0;32m--> 784\u001b[0m     \u001b[38;5;28;01mreturn\u001b[39;00m \u001b[38;5;28;43mself\u001b[39;49m\u001b[38;5;241;43m.\u001b[39;49m\u001b[43m_session\u001b[49m\u001b[38;5;241;43m.\u001b[39;49m\u001b[43m_conn\u001b[49m\u001b[38;5;241;43m.\u001b[39;49m\u001b[43mexecute\u001b[49m\u001b[43m(\u001b[49m\n\u001b[1;32m    785\u001b[0m \u001b[43m        \u001b[49m\u001b[38;5;28;43mself\u001b[39;49m\u001b[38;5;241;43m.\u001b[39;49m\u001b[43m_plan\u001b[49m\u001b[43m,\u001b[49m\n\u001b[1;32m    786\u001b[0m \u001b[43m        \u001b[49m\u001b[43mblock\u001b[49m\u001b[38;5;241;43m=\u001b[39;49m\u001b[43mblock\u001b[49m\u001b[43m,\u001b[49m\n\u001b[1;32m    787\u001b[0m \u001b[43m        \u001b[49m\u001b[43mdata_type\u001b[49m\u001b[38;5;241;43m=\u001b[39;49m\u001b[43mdata_type\u001b[49m\u001b[43m,\u001b[49m\n\u001b[1;32m    788\u001b[0m \u001b[43m        \u001b[49m\u001b[43m_statement_params\u001b[49m\u001b[38;5;241;43m=\u001b[39;49m\u001b[43mcreate_or_update_statement_params_with_query_tag\u001b[49m\u001b[43m(\u001b[49m\n\u001b[1;32m    789\u001b[0m \u001b[43m            \u001b[49m\u001b[43mstatement_params\u001b[49m\u001b[43m \u001b[49m\u001b[38;5;129;43;01mor\u001b[39;49;00m\u001b[43m \u001b[49m\u001b[38;5;28;43mself\u001b[39;49m\u001b[38;5;241;43m.\u001b[39;49m\u001b[43m_statement_params\u001b[49m\u001b[43m,\u001b[49m\n\u001b[1;32m    790\u001b[0m \u001b[43m            \u001b[49m\u001b[38;5;28;43mself\u001b[39;49m\u001b[38;5;241;43m.\u001b[39;49m\u001b[43m_session\u001b[49m\u001b[38;5;241;43m.\u001b[39;49m\u001b[43mquery_tag\u001b[49m\u001b[43m,\u001b[49m\n\u001b[1;32m    791\u001b[0m \u001b[43m            \u001b[49m\u001b[43mSKIP_LEVELS_THREE\u001b[49m\u001b[43m,\u001b[49m\n\u001b[1;32m    792\u001b[0m \u001b[43m        \u001b[49m\u001b[43m)\u001b[49m\u001b[43m,\u001b[49m\n\u001b[1;32m    793\u001b[0m \u001b[43m        \u001b[49m\u001b[43mlog_on_exception\u001b[49m\u001b[38;5;241;43m=\u001b[39;49m\u001b[43mlog_on_exception\u001b[49m\u001b[43m,\u001b[49m\n\u001b[1;32m    794\u001b[0m \u001b[43m        \u001b[49m\u001b[43mcase_sensitive\u001b[49m\u001b[38;5;241;43m=\u001b[39;49m\u001b[43mcase_sensitive\u001b[49m\u001b[43m,\u001b[49m\n\u001b[1;32m    795\u001b[0m \u001b[43m        \u001b[49m\u001b[38;5;241;43m*\u001b[39;49m\u001b[38;5;241;43m*\u001b[39;49m\u001b[43mkwargs\u001b[49m\u001b[43m,\u001b[49m\n\u001b[1;32m    796\u001b[0m \u001b[43m    \u001b[49m\u001b[43m)\u001b[49m\n",
      "File \u001b[0;32m~/work/snowpark_python_serverside/snowpark-python/src/snowflake/snowpark/_internal/server_connection.py:612\u001b[0m, in \u001b[0;36mServerConnection.execute\u001b[0;34m(self, plan, to_pandas, to_iter, block, data_type, log_on_exception, case_sensitive, **kwargs)\u001b[0m\n\u001b[1;32m    602\u001b[0m \u001b[38;5;28;01mif\u001b[39;00m (\n\u001b[1;32m    603\u001b[0m     is_in_stored_procedure()\n\u001b[1;32m    604\u001b[0m     \u001b[38;5;129;01mand\u001b[39;00m \u001b[38;5;129;01mnot\u001b[39;00m block\n\u001b[0;32m   (...)\u001b[0m\n\u001b[1;32m    607\u001b[0m     )\n\u001b[1;32m    608\u001b[0m ):  \u001b[38;5;66;03m# pragma: no cover\u001b[39;00m\n\u001b[1;32m    609\u001b[0m     \u001b[38;5;28;01mraise\u001b[39;00m \u001b[38;5;167;01mNotImplementedError\u001b[39;00m(\n\u001b[1;32m    610\u001b[0m         \u001b[38;5;124m\"\u001b[39m\u001b[38;5;124mAsync query is not supported in stored procedure yet\u001b[39m\u001b[38;5;124m\"\u001b[39m\n\u001b[1;32m    611\u001b[0m     )\n\u001b[0;32m--> 612\u001b[0m result_set, result_meta \u001b[38;5;241m=\u001b[39m \u001b[38;5;28;43mself\u001b[39;49m\u001b[38;5;241;43m.\u001b[39;49m\u001b[43mget_result_set\u001b[49m\u001b[43m(\u001b[49m\n\u001b[1;32m    613\u001b[0m \u001b[43m    \u001b[49m\u001b[43mplan\u001b[49m\u001b[43m,\u001b[49m\n\u001b[1;32m    614\u001b[0m \u001b[43m    \u001b[49m\u001b[43mto_pandas\u001b[49m\u001b[43m,\u001b[49m\n\u001b[1;32m    615\u001b[0m \u001b[43m    \u001b[49m\u001b[43mto_iter\u001b[49m\u001b[43m,\u001b[49m\n\u001b[1;32m    616\u001b[0m \u001b[43m    \u001b[49m\u001b[38;5;241;43m*\u001b[39;49m\u001b[38;5;241;43m*\u001b[39;49m\u001b[43mkwargs\u001b[49m\u001b[43m,\u001b[49m\n\u001b[1;32m    617\u001b[0m \u001b[43m    \u001b[49m\u001b[43mblock\u001b[49m\u001b[38;5;241;43m=\u001b[39;49m\u001b[43mblock\u001b[49m\u001b[43m,\u001b[49m\n\u001b[1;32m    618\u001b[0m \u001b[43m    \u001b[49m\u001b[43mdata_type\u001b[49m\u001b[38;5;241;43m=\u001b[39;49m\u001b[43mdata_type\u001b[49m\u001b[43m,\u001b[49m\n\u001b[1;32m    619\u001b[0m \u001b[43m    \u001b[49m\u001b[43mlog_on_exception\u001b[49m\u001b[38;5;241;43m=\u001b[39;49m\u001b[43mlog_on_exception\u001b[49m\u001b[43m,\u001b[49m\n\u001b[1;32m    620\u001b[0m \u001b[43m    \u001b[49m\u001b[43mcase_sensitive\u001b[49m\u001b[38;5;241;43m=\u001b[39;49m\u001b[43mcase_sensitive\u001b[49m\u001b[43m,\u001b[49m\n\u001b[1;32m    621\u001b[0m \u001b[43m\u001b[49m\u001b[43m)\u001b[49m\n\u001b[1;32m    622\u001b[0m \u001b[38;5;28;01mif\u001b[39;00m \u001b[38;5;129;01mnot\u001b[39;00m block:\n\u001b[1;32m    623\u001b[0m     \u001b[38;5;28;01mreturn\u001b[39;00m result_set\n",
      "File \u001b[0;32m~/work/snowpark_python_serverside/snowpark-python/src/snowflake/snowpark/_internal/analyzer/snowflake_plan.py:205\u001b[0m, in \u001b[0;36mSnowflakePlan.Decorator.wrap_exception.<locals>.wrap\u001b[0;34m(*args, **kwargs)\u001b[0m\n\u001b[1;32m    201\u001b[0m \u001b[38;5;28;01melse\u001b[39;00m:\n\u001b[1;32m    202\u001b[0m     ne \u001b[38;5;241m=\u001b[39m SnowparkClientExceptionMessages\u001b[38;5;241m.\u001b[39mSQL_EXCEPTION_FROM_PROGRAMMING_ERROR(\n\u001b[1;32m    203\u001b[0m         e\n\u001b[1;32m    204\u001b[0m     )\n\u001b[0;32m--> 205\u001b[0m     \u001b[38;5;28;01mraise\u001b[39;00m ne\u001b[38;5;241m.\u001b[39mwith_traceback(tb) \u001b[38;5;28;01mfrom\u001b[39;00m \u001b[38;5;28;01mNone\u001b[39;00m\n",
      "File \u001b[0;32m~/work/snowpark_python_serverside/snowpark-python/src/snowflake/snowpark/_internal/analyzer/snowflake_plan.py:136\u001b[0m, in \u001b[0;36mSnowflakePlan.Decorator.wrap_exception.<locals>.wrap\u001b[0;34m(*args, **kwargs)\u001b[0m\n\u001b[1;32m    134\u001b[0m \u001b[38;5;28;01mdef\u001b[39;00m \u001b[38;5;21mwrap\u001b[39m(\u001b[38;5;241m*\u001b[39margs, \u001b[38;5;241m*\u001b[39m\u001b[38;5;241m*\u001b[39mkwargs):\n\u001b[1;32m    135\u001b[0m     \u001b[38;5;28;01mtry\u001b[39;00m:\n\u001b[0;32m--> 136\u001b[0m         \u001b[38;5;28;01mreturn\u001b[39;00m \u001b[43mfunc\u001b[49m\u001b[43m(\u001b[49m\u001b[38;5;241;43m*\u001b[39;49m\u001b[43margs\u001b[49m\u001b[43m,\u001b[49m\u001b[43m \u001b[49m\u001b[38;5;241;43m*\u001b[39;49m\u001b[38;5;241;43m*\u001b[39;49m\u001b[43mkwargs\u001b[49m\u001b[43m)\u001b[49m\n\u001b[1;32m    137\u001b[0m     \u001b[38;5;28;01mexcept\u001b[39;00m snowflake\u001b[38;5;241m.\u001b[39mconnector\u001b[38;5;241m.\u001b[39merrors\u001b[38;5;241m.\u001b[39mProgrammingError \u001b[38;5;28;01mas\u001b[39;00m e:\n\u001b[1;32m    138\u001b[0m         query \u001b[38;5;241m=\u001b[39m \u001b[38;5;28mgetattr\u001b[39m(e, \u001b[38;5;124m\"\u001b[39m\u001b[38;5;124mquery\u001b[39m\u001b[38;5;124m\"\u001b[39m, \u001b[38;5;28;01mNone\u001b[39;00m)\n",
      "File \u001b[0;32m~/work/snowpark_python_serverside/snowpark-python/src/snowflake/snowpark/_internal/server_connection.py:730\u001b[0m, in \u001b[0;36mServerConnection.get_result_set\u001b[0;34m(self, plan, to_pandas, to_iter, block, data_type, log_on_exception, case_sensitive, ignore_results, **kwargs)\u001b[0m\n\u001b[1;32m    728\u001b[0m \u001b[38;5;28;01mif\u001b[39;00m i \u001b[38;5;241m==\u001b[39m \u001b[38;5;28mlen\u001b[39m(main_queries) \u001b[38;5;241m-\u001b[39m \u001b[38;5;241m1\u001b[39m \u001b[38;5;129;01mand\u001b[39;00m dataframe_ast:\n\u001b[1;32m    729\u001b[0m     kwargs[DATAFRAME_AST_PARAMETER] \u001b[38;5;241m=\u001b[39m dataframe_ast\n\u001b[0;32m--> 730\u001b[0m result \u001b[38;5;241m=\u001b[39m \u001b[38;5;28;43mself\u001b[39;49m\u001b[38;5;241;43m.\u001b[39;49m\u001b[43mrun_query\u001b[49m\u001b[43m(\u001b[49m\n\u001b[1;32m    731\u001b[0m \u001b[43m    \u001b[49m\u001b[43mfinal_query\u001b[49m\u001b[43m,\u001b[49m\n\u001b[1;32m    732\u001b[0m \u001b[43m    \u001b[49m\u001b[43mto_pandas\u001b[49m\u001b[43m,\u001b[49m\n\u001b[1;32m    733\u001b[0m \u001b[43m    \u001b[49m\u001b[43mto_iter\u001b[49m\u001b[43m \u001b[49m\u001b[38;5;129;43;01mand\u001b[39;49;00m\u001b[43m \u001b[49m\u001b[43m(\u001b[49m\u001b[43mi\u001b[49m\u001b[43m \u001b[49m\u001b[38;5;241;43m==\u001b[39;49m\u001b[43m \u001b[49m\u001b[38;5;28;43mlen\u001b[39;49m\u001b[43m(\u001b[49m\u001b[43mmain_queries\u001b[49m\u001b[43m)\u001b[49m\u001b[43m \u001b[49m\u001b[38;5;241;43m-\u001b[39;49m\u001b[43m \u001b[49m\u001b[38;5;241;43m1\u001b[39;49m\u001b[43m)\u001b[49m\u001b[43m,\u001b[49m\n\u001b[1;32m    734\u001b[0m \u001b[43m    \u001b[49m\u001b[43mis_ddl_on_temp_object\u001b[49m\u001b[38;5;241;43m=\u001b[39;49m\u001b[43mquery\u001b[49m\u001b[38;5;241;43m.\u001b[39;49m\u001b[43mis_ddl_on_temp_object\u001b[49m\u001b[43m,\u001b[49m\n\u001b[1;32m    735\u001b[0m \u001b[43m    \u001b[49m\u001b[43mblock\u001b[49m\u001b[38;5;241;43m=\u001b[39;49m\u001b[38;5;129;43;01mnot\u001b[39;49;00m\u001b[43m \u001b[49m\u001b[43mis_last\u001b[49m\u001b[43m,\u001b[49m\n\u001b[1;32m    736\u001b[0m \u001b[43m    \u001b[49m\u001b[43mdata_type\u001b[49m\u001b[38;5;241;43m=\u001b[39;49m\u001b[43mdata_type\u001b[49m\u001b[43m,\u001b[49m\n\u001b[1;32m    737\u001b[0m \u001b[43m    \u001b[49m\u001b[43masync_job_plan\u001b[49m\u001b[38;5;241;43m=\u001b[39;49m\u001b[43mplan\u001b[49m\u001b[43m,\u001b[49m\n\u001b[1;32m    738\u001b[0m \u001b[43m    \u001b[49m\u001b[43mlog_on_exception\u001b[49m\u001b[38;5;241;43m=\u001b[39;49m\u001b[43mlog_on_exception\u001b[49m\u001b[43m,\u001b[49m\n\u001b[1;32m    739\u001b[0m \u001b[43m    \u001b[49m\u001b[43mcase_sensitive\u001b[49m\u001b[38;5;241;43m=\u001b[39;49m\u001b[43mcase_sensitive\u001b[49m\u001b[43m,\u001b[49m\n\u001b[1;32m    740\u001b[0m \u001b[43m    \u001b[49m\u001b[43mparams\u001b[49m\u001b[38;5;241;43m=\u001b[39;49m\u001b[43mquery\u001b[49m\u001b[38;5;241;43m.\u001b[39;49m\u001b[43mparams\u001b[49m\u001b[43m,\u001b[49m\n\u001b[1;32m    741\u001b[0m \u001b[43m    \u001b[49m\u001b[43mignore_results\u001b[49m\u001b[38;5;241;43m=\u001b[39;49m\u001b[43mignore_results\u001b[49m\u001b[43m,\u001b[49m\n\u001b[1;32m    742\u001b[0m \u001b[43m    \u001b[49m\u001b[43masync_post_actions\u001b[49m\u001b[38;5;241;43m=\u001b[39;49m\u001b[43mpost_actions\u001b[49m\u001b[43m,\u001b[49m\n\u001b[1;32m    743\u001b[0m \u001b[43m    \u001b[49m\u001b[38;5;241;43m*\u001b[39;49m\u001b[38;5;241;43m*\u001b[39;49m\u001b[43mkwargs\u001b[49m\u001b[43m,\u001b[49m\n\u001b[1;32m    744\u001b[0m \u001b[43m\u001b[49m\u001b[43m)\u001b[49m\n\u001b[1;32m    745\u001b[0m placeholders[query\u001b[38;5;241m.\u001b[39mquery_id_place_holder] \u001b[38;5;241m=\u001b[39m (\n\u001b[1;32m    746\u001b[0m     result[\u001b[38;5;124m\"\u001b[39m\u001b[38;5;124msfqid\u001b[39m\u001b[38;5;124m\"\u001b[39m] \u001b[38;5;28;01mif\u001b[39;00m \u001b[38;5;129;01mnot\u001b[39;00m is_last \u001b[38;5;28;01melse\u001b[39;00m result\u001b[38;5;241m.\u001b[39mquery_id\n\u001b[1;32m    747\u001b[0m )\n\u001b[1;32m    748\u001b[0m result_meta \u001b[38;5;241m=\u001b[39m get_new_description(\u001b[38;5;28mself\u001b[39m\u001b[38;5;241m.\u001b[39m_cursor)\n",
      "File \u001b[0;32m~/work/snowpark_python_serverside/snowpark-python/src/snowflake/snowpark/_internal/server_connection.py:131\u001b[0m, in \u001b[0;36mServerConnection._Decorator.wrap_exception.<locals>.wrap\u001b[0;34m(*args, **kwargs)\u001b[0m\n\u001b[1;32m    127\u001b[0m     \u001b[38;5;28;01mraise\u001b[39;00m SnowparkClientExceptionMessages\u001b[38;5;241m.\u001b[39mSERVER_SESSION_EXPIRED(\n\u001b[1;32m    128\u001b[0m         ex\u001b[38;5;241m.\u001b[39mcause\n\u001b[1;32m    129\u001b[0m     )\n\u001b[1;32m    130\u001b[0m \u001b[38;5;28;01mexcept\u001b[39;00m \u001b[38;5;167;01mException\u001b[39;00m \u001b[38;5;28;01mas\u001b[39;00m ex:\n\u001b[0;32m--> 131\u001b[0m     \u001b[38;5;28;01mraise\u001b[39;00m ex\n",
      "File \u001b[0;32m~/work/snowpark_python_serverside/snowpark-python/src/snowflake/snowpark/_internal/server_connection.py:125\u001b[0m, in \u001b[0;36mServerConnection._Decorator.wrap_exception.<locals>.wrap\u001b[0;34m(*args, **kwargs)\u001b[0m\n\u001b[1;32m    123\u001b[0m     \u001b[38;5;28;01mraise\u001b[39;00m SnowparkClientExceptionMessages\u001b[38;5;241m.\u001b[39mSERVER_SESSION_HAS_BEEN_CLOSED()\n\u001b[1;32m    124\u001b[0m \u001b[38;5;28;01mtry\u001b[39;00m:\n\u001b[0;32m--> 125\u001b[0m     \u001b[38;5;28;01mreturn\u001b[39;00m \u001b[43mfunc\u001b[49m\u001b[43m(\u001b[49m\u001b[38;5;241;43m*\u001b[39;49m\u001b[43margs\u001b[49m\u001b[43m,\u001b[49m\u001b[43m \u001b[49m\u001b[38;5;241;43m*\u001b[39;49m\u001b[38;5;241;43m*\u001b[39;49m\u001b[43mkwargs\u001b[49m\u001b[43m)\u001b[49m\n\u001b[1;32m    126\u001b[0m \u001b[38;5;28;01mexcept\u001b[39;00m ReauthenticationRequest \u001b[38;5;28;01mas\u001b[39;00m ex:\n\u001b[1;32m    127\u001b[0m     \u001b[38;5;28;01mraise\u001b[39;00m SnowparkClientExceptionMessages\u001b[38;5;241m.\u001b[39mSERVER_SESSION_EXPIRED(\n\u001b[1;32m    128\u001b[0m         ex\u001b[38;5;241m.\u001b[39mcause\n\u001b[1;32m    129\u001b[0m     )\n",
      "File \u001b[0;32m~/work/snowpark_python_serverside/snowpark-python/src/snowflake/snowpark/_internal/server_connection.py:519\u001b[0m, in \u001b[0;36mServerConnection.run_query\u001b[0;34m(self, query, to_pandas, to_iter, is_ddl_on_temp_object, block, data_type, async_job_plan, log_on_exception, case_sensitive, params, num_statements, ignore_results, async_post_actions, **kwargs)\u001b[0m\n\u001b[1;32m    517\u001b[0m         query_id_log \u001b[38;5;241m=\u001b[39m \u001b[38;5;124mf\u001b[39m\u001b[38;5;124m\"\u001b[39m\u001b[38;5;124m [queryID: \u001b[39m\u001b[38;5;132;01m{\u001b[39;00mex\u001b[38;5;241m.\u001b[39msfqid\u001b[38;5;132;01m}\u001b[39;00m\u001b[38;5;124m]\u001b[39m\u001b[38;5;124m\"\u001b[39m \u001b[38;5;28;01mif\u001b[39;00m \u001b[38;5;28mhasattr\u001b[39m(ex, \u001b[38;5;124m\"\u001b[39m\u001b[38;5;124msfqid\u001b[39m\u001b[38;5;124m\"\u001b[39m) \u001b[38;5;28;01melse\u001b[39;00m \u001b[38;5;124m\"\u001b[39m\u001b[38;5;124m\"\u001b[39m\n\u001b[1;32m    518\u001b[0m         logger\u001b[38;5;241m.\u001b[39merror(\u001b[38;5;124mf\u001b[39m\u001b[38;5;124m\"\u001b[39m\u001b[38;5;124mFailed to execute query\u001b[39m\u001b[38;5;132;01m{\u001b[39;00mquery_id_log\u001b[38;5;132;01m}\u001b[39;00m\u001b[38;5;124m \u001b[39m\u001b[38;5;132;01m{\u001b[39;00mquery\u001b[38;5;132;01m}\u001b[39;00m\u001b[38;5;130;01m\\n\u001b[39;00m\u001b[38;5;132;01m{\u001b[39;00mex\u001b[38;5;132;01m}\u001b[39;00m\u001b[38;5;124m\"\u001b[39m)\n\u001b[0;32m--> 519\u001b[0m     \u001b[38;5;28;01mraise\u001b[39;00m ex\n\u001b[1;32m    521\u001b[0m \u001b[38;5;66;03m# fetch_pandas_all/batches() only works for SELECT statements\u001b[39;00m\n\u001b[1;32m    522\u001b[0m \u001b[38;5;66;03m# We call fetchall() if fetch_pandas_all/batches() fails,\u001b[39;00m\n\u001b[1;32m    523\u001b[0m \u001b[38;5;66;03m# because when the query plan has multiple queries, it will\u001b[39;00m\n\u001b[1;32m    524\u001b[0m \u001b[38;5;66;03m# have non-select statements, and it shouldn't fail if the user\u001b[39;00m\n\u001b[1;32m    525\u001b[0m \u001b[38;5;66;03m# calls to_pandas() to execute the query.\u001b[39;00m\n\u001b[1;32m    526\u001b[0m \u001b[38;5;28;01mif\u001b[39;00m block:\n",
      "File \u001b[0;32m~/work/snowpark_python_serverside/snowpark-python/src/snowflake/snowpark/_internal/server_connection.py:504\u001b[0m, in \u001b[0;36mServerConnection.run_query\u001b[0;34m(self, query, to_pandas, to_iter, is_ddl_on_temp_object, block, data_type, async_job_plan, log_on_exception, case_sensitive, params, num_statements, ignore_results, async_post_actions, **kwargs)\u001b[0m\n\u001b[1;32m    502\u001b[0m     kwargs[\u001b[38;5;124m\"\u001b[39m\u001b[38;5;124m_statement_params\u001b[39m\u001b[38;5;124m\"\u001b[39m][\u001b[38;5;124m\"\u001b[39m\u001b[38;5;124mSNOWPARK_SKIP_TXN_COMMIT_IN_DDL\u001b[39m\u001b[38;5;124m\"\u001b[39m] \u001b[38;5;241m=\u001b[39m \u001b[38;5;28;01mTrue\u001b[39;00m\n\u001b[1;32m    503\u001b[0m \u001b[38;5;28;01mif\u001b[39;00m block:\n\u001b[0;32m--> 504\u001b[0m     results_cursor \u001b[38;5;241m=\u001b[39m \u001b[38;5;28;43mself\u001b[39;49m\u001b[38;5;241;43m.\u001b[39;49m\u001b[43mexecute_and_notify_query_listener\u001b[49m\u001b[43m(\u001b[49m\n\u001b[1;32m    505\u001b[0m \u001b[43m        \u001b[49m\u001b[43mquery\u001b[49m\u001b[43m,\u001b[49m\u001b[43m \u001b[49m\u001b[43mparams\u001b[49m\u001b[38;5;241;43m=\u001b[39;49m\u001b[43mparams\u001b[49m\u001b[43m,\u001b[49m\u001b[43m \u001b[49m\u001b[38;5;241;43m*\u001b[39;49m\u001b[38;5;241;43m*\u001b[39;49m\u001b[43mkwargs\u001b[49m\n\u001b[1;32m    506\u001b[0m \u001b[43m    \u001b[49m\u001b[43m)\u001b[49m\n\u001b[1;32m    507\u001b[0m     logger\u001b[38;5;241m.\u001b[39minfo(\u001b[38;5;124mf\u001b[39m\u001b[38;5;124m\"\u001b[39m\u001b[38;5;124mExecute query [queryID: \u001b[39m\u001b[38;5;132;01m{\u001b[39;00mresults_cursor\u001b[38;5;241m.\u001b[39msfqid\u001b[38;5;132;01m}\u001b[39;00m\u001b[38;5;124m] \u001b[39m\u001b[38;5;132;01m{\u001b[39;00mquery\u001b[38;5;132;01m}\u001b[39;00m\u001b[38;5;124m\"\u001b[39m)\n\u001b[1;32m    508\u001b[0m \u001b[38;5;28;01melse\u001b[39;00m:\n",
      "File \u001b[0;32m~/work/snowpark_python_serverside/snowpark-python/src/snowflake/snowpark/_internal/server_connection.py:444\u001b[0m, in \u001b[0;36mServerConnection.execute_and_notify_query_listener\u001b[0;34m(self, query, **kwargs)\u001b[0m\n\u001b[1;32m    440\u001b[0m     err_query \u001b[38;5;241m=\u001b[39m ex\u001b[38;5;241m.\u001b[39mquery \u001b[38;5;28;01mif\u001b[39;00m \u001b[38;5;28misinstance\u001b[39m(ex, Error) \u001b[38;5;28;01melse\u001b[39;00m query\n\u001b[1;32m    441\u001b[0m     \u001b[38;5;28mself\u001b[39m\u001b[38;5;241m.\u001b[39mnotify_query_listeners(\n\u001b[1;32m    442\u001b[0m         QueryRecord(sfqid, err_query, \u001b[38;5;28;01mFalse\u001b[39;00m), is_error\u001b[38;5;241m=\u001b[39m\u001b[38;5;28;01mTrue\u001b[39;00m, \u001b[38;5;241m*\u001b[39m\u001b[38;5;241m*\u001b[39mnotify_kwargs\n\u001b[1;32m    443\u001b[0m     )\n\u001b[0;32m--> 444\u001b[0m     \u001b[38;5;28;01mraise\u001b[39;00m ex\n\u001b[1;32m    446\u001b[0m notify_kwargs[\u001b[38;5;124m\"\u001b[39m\u001b[38;5;124mrequestId\u001b[39m\u001b[38;5;124m\"\u001b[39m] \u001b[38;5;241m=\u001b[39m \u001b[38;5;28mstr\u001b[39m(results_cursor\u001b[38;5;241m.\u001b[39m_request_id)\n\u001b[1;32m    447\u001b[0m \u001b[38;5;28mself\u001b[39m\u001b[38;5;241m.\u001b[39mnotify_query_listeners(\n\u001b[1;32m    448\u001b[0m     QueryRecord(results_cursor\u001b[38;5;241m.\u001b[39msfqid, results_cursor\u001b[38;5;241m.\u001b[39mquery), \u001b[38;5;241m*\u001b[39m\u001b[38;5;241m*\u001b[39mnotify_kwargs\n\u001b[1;32m    449\u001b[0m )\n",
      "File \u001b[0;32m~/work/snowpark_python_serverside/snowpark-python/src/snowflake/snowpark/_internal/server_connection.py:435\u001b[0m, in \u001b[0;36mServerConnection.execute_and_notify_query_listener\u001b[0;34m(self, query, **kwargs)\u001b[0m\n\u001b[1;32m    432\u001b[0m     notify_kwargs[\u001b[38;5;124m\"\u001b[39m\u001b[38;5;124mdataframeAst\u001b[39m\u001b[38;5;124m\"\u001b[39m] \u001b[38;5;241m=\u001b[39m kwargs[DATAFRAME_AST_PARAMETER]\n\u001b[1;32m    434\u001b[0m \u001b[38;5;28;01mtry\u001b[39;00m:\n\u001b[0;32m--> 435\u001b[0m     results_cursor \u001b[38;5;241m=\u001b[39m \u001b[38;5;28;43mself\u001b[39;49m\u001b[38;5;241;43m.\u001b[39;49m\u001b[43m_cursor\u001b[49m\u001b[38;5;241;43m.\u001b[39;49m\u001b[43mexecute\u001b[49m\u001b[43m(\u001b[49m\u001b[43mquery\u001b[49m\u001b[43m,\u001b[49m\u001b[43m \u001b[49m\u001b[38;5;241;43m*\u001b[39;49m\u001b[38;5;241;43m*\u001b[39;49m\u001b[43mkwargs\u001b[49m\u001b[43m)\u001b[49m\n\u001b[1;32m    436\u001b[0m \u001b[38;5;28;01mexcept\u001b[39;00m \u001b[38;5;167;01mException\u001b[39;00m \u001b[38;5;28;01mas\u001b[39;00m ex:\n\u001b[1;32m    437\u001b[0m     notify_kwargs[\u001b[38;5;124m\"\u001b[39m\u001b[38;5;124mrequestId\u001b[39m\u001b[38;5;124m\"\u001b[39m] \u001b[38;5;241m=\u001b[39m \u001b[38;5;28;01mNone\u001b[39;00m\n",
      "File \u001b[0;32m~/anaconda3/envs/py311ir/lib/python3.11/site-packages/snowflake/connector/cursor.py:1097\u001b[0m, in \u001b[0;36mSnowflakeCursor.execute\u001b[0;34m(self, command, params, _bind_stage, timeout, _exec_async, _no_retry, _do_reset, _put_callback, _put_azure_callback, _put_callback_output_stream, _get_callback, _get_azure_callback, _get_callback_output_stream, _show_progress_bar, _statement_params, _is_internal, _describe_only, _no_results, _is_put_get, _raise_put_get_error, _force_put_overwrite, _skip_upload_on_content_match, file_stream, num_statements, _dataframe_ast)\u001b[0m\n\u001b[1;32m   1093\u001b[0m     is_integrity_error \u001b[38;5;241m=\u001b[39m (\n\u001b[1;32m   1094\u001b[0m         code \u001b[38;5;241m==\u001b[39m \u001b[38;5;124m\"\u001b[39m\u001b[38;5;124m100072\u001b[39m\u001b[38;5;124m\"\u001b[39m\n\u001b[1;32m   1095\u001b[0m     )  \u001b[38;5;66;03m# NULL result in a non-nullable column\u001b[39;00m\n\u001b[1;32m   1096\u001b[0m     error_class \u001b[38;5;241m=\u001b[39m IntegrityError \u001b[38;5;28;01mif\u001b[39;00m is_integrity_error \u001b[38;5;28;01melse\u001b[39;00m ProgrammingError\n\u001b[0;32m-> 1097\u001b[0m     \u001b[43mError\u001b[49m\u001b[38;5;241;43m.\u001b[39;49m\u001b[43merrorhandler_wrapper\u001b[49m\u001b[43m(\u001b[49m\u001b[38;5;28;43mself\u001b[39;49m\u001b[38;5;241;43m.\u001b[39;49m\u001b[43mconnection\u001b[49m\u001b[43m,\u001b[49m\u001b[43m \u001b[49m\u001b[38;5;28;43mself\u001b[39;49m\u001b[43m,\u001b[49m\u001b[43m \u001b[49m\u001b[43merror_class\u001b[49m\u001b[43m,\u001b[49m\u001b[43m \u001b[49m\u001b[43merrvalue\u001b[49m\u001b[43m)\u001b[49m\n\u001b[1;32m   1098\u001b[0m \u001b[38;5;28;01mreturn\u001b[39;00m \u001b[38;5;28mself\u001b[39m\n",
      "File \u001b[0;32m~/anaconda3/envs/py311ir/lib/python3.11/site-packages/snowflake/connector/errors.py:284\u001b[0m, in \u001b[0;36mError.errorhandler_wrapper\u001b[0;34m(connection, cursor, error_class, error_value)\u001b[0m\n\u001b[1;32m    261\u001b[0m \u001b[38;5;129m@staticmethod\u001b[39m\n\u001b[1;32m    262\u001b[0m \u001b[38;5;28;01mdef\u001b[39;00m \u001b[38;5;21merrorhandler_wrapper\u001b[39m(\n\u001b[1;32m    263\u001b[0m     connection: SnowflakeConnection \u001b[38;5;241m|\u001b[39m \u001b[38;5;28;01mNone\u001b[39;00m,\n\u001b[0;32m   (...)\u001b[0m\n\u001b[1;32m    266\u001b[0m     error_value: \u001b[38;5;28mdict\u001b[39m[\u001b[38;5;28mstr\u001b[39m, Any],\n\u001b[1;32m    267\u001b[0m ) \u001b[38;5;241m-\u001b[39m\u001b[38;5;241m>\u001b[39m \u001b[38;5;28;01mNone\u001b[39;00m:\n\u001b[1;32m    268\u001b[0m \u001b[38;5;250m    \u001b[39m\u001b[38;5;124;03m\"\"\"Error handler wrapper that calls the errorhandler method.\u001b[39;00m\n\u001b[1;32m    269\u001b[0m \n\u001b[1;32m    270\u001b[0m \u001b[38;5;124;03m    Args:\u001b[39;00m\n\u001b[0;32m   (...)\u001b[0m\n\u001b[1;32m    281\u001b[0m \u001b[38;5;124;03m        exception to the first handler in that order.\u001b[39;00m\n\u001b[1;32m    282\u001b[0m \u001b[38;5;124;03m    \"\"\"\u001b[39;00m\n\u001b[0;32m--> 284\u001b[0m     handed_over \u001b[38;5;241m=\u001b[39m \u001b[43mError\u001b[49m\u001b[38;5;241;43m.\u001b[39;49m\u001b[43mhand_to_other_handler\u001b[49m\u001b[43m(\u001b[49m\n\u001b[1;32m    285\u001b[0m \u001b[43m        \u001b[49m\u001b[43mconnection\u001b[49m\u001b[43m,\u001b[49m\n\u001b[1;32m    286\u001b[0m \u001b[43m        \u001b[49m\u001b[43mcursor\u001b[49m\u001b[43m,\u001b[49m\n\u001b[1;32m    287\u001b[0m \u001b[43m        \u001b[49m\u001b[43merror_class\u001b[49m\u001b[43m,\u001b[49m\n\u001b[1;32m    288\u001b[0m \u001b[43m        \u001b[49m\u001b[43merror_value\u001b[49m\u001b[43m,\u001b[49m\n\u001b[1;32m    289\u001b[0m \u001b[43m    \u001b[49m\u001b[43m)\u001b[49m\n\u001b[1;32m    290\u001b[0m     \u001b[38;5;28;01mif\u001b[39;00m \u001b[38;5;129;01mnot\u001b[39;00m handed_over:\n\u001b[1;32m    291\u001b[0m         \u001b[38;5;28;01mraise\u001b[39;00m Error\u001b[38;5;241m.\u001b[39merrorhandler_make_exception(\n\u001b[1;32m    292\u001b[0m             error_class,\n\u001b[1;32m    293\u001b[0m             error_value,\n\u001b[1;32m    294\u001b[0m         )\n",
      "File \u001b[0;32m~/anaconda3/envs/py311ir/lib/python3.11/site-packages/snowflake/connector/errors.py:339\u001b[0m, in \u001b[0;36mError.hand_to_other_handler\u001b[0;34m(connection, cursor, error_class, error_value)\u001b[0m\n\u001b[1;32m    337\u001b[0m \u001b[38;5;28;01mif\u001b[39;00m cursor \u001b[38;5;129;01mis\u001b[39;00m \u001b[38;5;129;01mnot\u001b[39;00m \u001b[38;5;28;01mNone\u001b[39;00m:\n\u001b[1;32m    338\u001b[0m     cursor\u001b[38;5;241m.\u001b[39mmessages\u001b[38;5;241m.\u001b[39mappend((error_class, error_value))\n\u001b[0;32m--> 339\u001b[0m     \u001b[43mcursor\u001b[49m\u001b[38;5;241;43m.\u001b[39;49m\u001b[43merrorhandler\u001b[49m\u001b[43m(\u001b[49m\u001b[43mconnection\u001b[49m\u001b[43m,\u001b[49m\u001b[43m \u001b[49m\u001b[43mcursor\u001b[49m\u001b[43m,\u001b[49m\u001b[43m \u001b[49m\u001b[43merror_class\u001b[49m\u001b[43m,\u001b[49m\u001b[43m \u001b[49m\u001b[43merror_value\u001b[49m\u001b[43m)\u001b[49m\n\u001b[1;32m    340\u001b[0m     \u001b[38;5;28;01mreturn\u001b[39;00m \u001b[38;5;28;01mTrue\u001b[39;00m\n\u001b[1;32m    341\u001b[0m \u001b[38;5;28;01melif\u001b[39;00m connection \u001b[38;5;129;01mis\u001b[39;00m \u001b[38;5;129;01mnot\u001b[39;00m \u001b[38;5;28;01mNone\u001b[39;00m:\n",
      "File \u001b[0;32m~/anaconda3/envs/py311ir/lib/python3.11/site-packages/snowflake/connector/errors.py:215\u001b[0m, in \u001b[0;36mError.default_errorhandler\u001b[0;34m(connection, cursor, error_class, error_value)\u001b[0m\n\u001b[1;32m    213\u001b[0m errno \u001b[38;5;241m=\u001b[39m error_value\u001b[38;5;241m.\u001b[39mget(\u001b[38;5;124m\"\u001b[39m\u001b[38;5;124merrno\u001b[39m\u001b[38;5;124m\"\u001b[39m)\n\u001b[1;32m    214\u001b[0m done_format_msg \u001b[38;5;241m=\u001b[39m error_value\u001b[38;5;241m.\u001b[39mget(\u001b[38;5;124m\"\u001b[39m\u001b[38;5;124mdone_format_msg\u001b[39m\u001b[38;5;124m\"\u001b[39m)\n\u001b[0;32m--> 215\u001b[0m \u001b[38;5;28;01mraise\u001b[39;00m error_class(\n\u001b[1;32m    216\u001b[0m     msg\u001b[38;5;241m=\u001b[39merror_value\u001b[38;5;241m.\u001b[39mget(\u001b[38;5;124m\"\u001b[39m\u001b[38;5;124mmsg\u001b[39m\u001b[38;5;124m\"\u001b[39m),\n\u001b[1;32m    217\u001b[0m     errno\u001b[38;5;241m=\u001b[39m\u001b[38;5;28;01mNone\u001b[39;00m \u001b[38;5;28;01mif\u001b[39;00m errno \u001b[38;5;129;01mis\u001b[39;00m \u001b[38;5;28;01mNone\u001b[39;00m \u001b[38;5;28;01melse\u001b[39;00m \u001b[38;5;28mint\u001b[39m(errno),\n\u001b[1;32m    218\u001b[0m     sqlstate\u001b[38;5;241m=\u001b[39merror_value\u001b[38;5;241m.\u001b[39mget(\u001b[38;5;124m\"\u001b[39m\u001b[38;5;124msqlstate\u001b[39m\u001b[38;5;124m\"\u001b[39m),\n\u001b[1;32m    219\u001b[0m     sfqid\u001b[38;5;241m=\u001b[39merror_value\u001b[38;5;241m.\u001b[39mget(\u001b[38;5;124m\"\u001b[39m\u001b[38;5;124msfqid\u001b[39m\u001b[38;5;124m\"\u001b[39m),\n\u001b[1;32m    220\u001b[0m     query\u001b[38;5;241m=\u001b[39merror_value\u001b[38;5;241m.\u001b[39mget(\u001b[38;5;124m\"\u001b[39m\u001b[38;5;124mquery\u001b[39m\u001b[38;5;124m\"\u001b[39m),\n\u001b[1;32m    221\u001b[0m     done_format_msg\u001b[38;5;241m=\u001b[39m(\n\u001b[1;32m    222\u001b[0m         \u001b[38;5;28;01mNone\u001b[39;00m \u001b[38;5;28;01mif\u001b[39;00m done_format_msg \u001b[38;5;129;01mis\u001b[39;00m \u001b[38;5;28;01mNone\u001b[39;00m \u001b[38;5;28;01melse\u001b[39;00m \u001b[38;5;28mbool\u001b[39m(done_format_msg)\n\u001b[1;32m    223\u001b[0m     ),\n\u001b[1;32m    224\u001b[0m     connection\u001b[38;5;241m=\u001b[39mconnection,\n\u001b[1;32m    225\u001b[0m     cursor\u001b[38;5;241m=\u001b[39mcursor,\n\u001b[1;32m    226\u001b[0m )\n",
      "\u001b[0;31mSnowparkSQLException\u001b[0m: (1304): 01ba822c-0100-0001-0000-00140001140e: 000603 (XX000): 01ba822c-0100-0001-0000-00140001140e: SQL execution internal error:\nNON_FATAL: DataframeExecutionUtils::executeDataframe():dataframe_processing_failure(com.snowflake.core.DataframeExecutionUtils:executeDataframe:55) - Dataframe Execution Failed caused by exception: [java.lang.RuntimeException: java.util.concurrent.ExecutionException: java.lang.RuntimeException: Expression type not implemented yet: sp_dataframe_join_table_function at com.snowflake.resources.dataframe.NotebookDataframeProcessor.evalImpl(NotebookDataframeProcessor.java:365)]"
     ]
    }
   ],
   "source": [
    "df = session.table(\"t_diamonds\")\n",
    "df_color_clarity_details = df.join_table_function(\n",
    "    color_clarity_udtf(df[\"color\"], df[\"clarity\"])\n",
    ").collect()"
   ]
  },
  {
   "cell_type": "code",
   "execution_count": 40,
   "id": "54a36ce7-cb86-4b1f-9e14-5db9b5867e0e",
   "metadata": {},
   "outputs": [
    {
     "name": "stderr",
     "output_type": "stream",
     "text": [
      "INFO:snowflake.connector.cursor:Number of results in first chunk: 0\n",
      "INFO:snowflake.snowpark._internal.server_connection:Execute query [queryID: 01ba822c-0100-0001-0000-001400011416] ls '@\"TESTDB\".\"PUBLIC\".SNOWPARK_TEMP_STAGE_67GYH2U1R8'\n",
      "INFO:snowflake.connector.cursor:Number of results in first chunk: 0\n",
      "INFO:snowflake.snowpark._internal.server_connection:Execute query [queryID: 01ba822c-0100-0001-0000-00140001141a]  SELECT \"name\" FROM ( SELECT  *  FROM  TABLE ( RESULT_SCAN('01ba822c-0100-0001-0000-001400011416')))\n",
      "INFO:snowflake.connector.cursor:Number of results in first chunk: 1\n",
      "INFO:snowflake.snowpark._internal.server_connection:Execute query [queryID: 01ba822c-0100-0001-0000-00140001141e] \n",
      "CREATE\n",
      "TEMPORARY  FUNCTION  \"TESTDB\".\"PUBLIC\".SNOWPARK_TEMP_TABLE_FUNCTION_YFC4IPSNCL(arg1 STRING,arg2 STRING)\n",
      "\n",
      "RETURNS TABLE (COLOR STRING,COLOR_DESCRIPTION STRING,CLARITY STRING,CLARITY_DESCRIPTION STRING)\n",
      "LANGUAGE PYTHON \n",
      "VOLATILE\n",
      "RUNTIME_VERSION=3.11\n",
      "\n",
      "PACKAGES=('cloudpickle==2.2.1')\n",
      "\n",
      "\n",
      "HANDLER='compute'\n",
      "\n",
      "AS $$\n",
      "import pickle\n",
      "\n",
      "func = pickle.loads(bytes.fromhex('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'))\n",
      "\n",
      "\n",
      "from threading import RLock\n",
      "\n",
      "lock = RLock()\n",
      "\n",
      "class InvokedFlag:\n",
      "    def __init__(self):\n",
      "        self.invoked = False\n",
      "\n",
      "def lock_function_once(f, flag):\n",
      "    def wrapper(*args, **kwargs):\n",
      "        if not flag.invoked:\n",
      "            with lock:\n",
      "                if not flag.invoked:\n",
      "                    result = f(*args, **kwargs)\n",
      "                    flag.invoked = True\n",
      "                    return result\n",
      "                return f(*args, **kwargs)\n",
      "        return f(*args, **kwargs)\n",
      "    return wrapper\n",
      "\n",
      "\n",
      "init_invoked = InvokedFlag()\n",
      "process_invoked = InvokedFlag()\n",
      "end_partition_invoked = InvokedFlag()\n",
      "\n",
      "class compute(func):\n",
      "    def __init__(self):\n",
      "        lock_function_once(super().__init__, init_invoked)()\n",
      "\n",
      "    def process(self, arg1,arg2):\n",
      "        return lock_function_once(super().process, process_invoked)(arg1,arg2)\n",
      "$$\n",
      "\n",
      "\n",
      "INFO:snowflake.connector.cursor:Number of results in first chunk: 0\n"
     ]
    },
    {
     "ename": "SnowparkSQLException",
     "evalue": "(1304): 01ba822c-0100-0001-0000-001400011426: 000603 (XX000): 01ba822c-0100-0001-0000-001400011426: SQL execution internal error:\nNON_FATAL: DataframeExecutionUtils::executeDataframe():dataframe_processing_failure(com.snowflake.core.DataframeExecutionUtils:executeDataframe:55) - Dataframe Execution Failed caused by exception: [java.lang.RuntimeException: java.util.concurrent.ExecutionException: java.lang.RuntimeException: Expression type not implemented yet: sp_dataframe_join_table_function at com.snowflake.resources.dataframe.NotebookDataframeProcessor.evalImpl(NotebookDataframeProcessor.java:365)]",
     "output_type": "error",
     "traceback": [
      "\u001b[0;31m---------------------------------------------------------------------------\u001b[0m",
      "\u001b[0;31mSnowparkSQLException\u001b[0m                      Traceback (most recent call last)",
      "Cell \u001b[0;32mIn[40], line 12\u001b[0m\n\u001b[1;32m      8\u001b[0m     \u001b[38;5;66;03m# Calling the UDTF.\u001b[39;00m\n\u001b[1;32m      9\u001b[0m     df \u001b[38;5;241m=\u001b[39m session\u001b[38;5;241m.\u001b[39mtable(\u001b[38;5;124m\"\u001b[39m\u001b[38;5;124mt_diamonds\u001b[39m\u001b[38;5;124m\"\u001b[39m)\n\u001b[1;32m     10\u001b[0m     df_color_clarity_details \u001b[38;5;241m=\u001b[39m \u001b[43mdf\u001b[49m\u001b[38;5;241;43m.\u001b[39;49m\u001b[43mjoin_table_function\u001b[49m\u001b[43m(\u001b[49m\n\u001b[1;32m     11\u001b[0m \u001b[43m        \u001b[49m\u001b[43mcolor_clarity_udtf\u001b[49m\u001b[43m(\u001b[49m\u001b[43mdf\u001b[49m\u001b[43m[\u001b[49m\u001b[38;5;124;43m\"\u001b[39;49m\u001b[38;5;124;43mcolor\u001b[39;49m\u001b[38;5;124;43m\"\u001b[39;49m\u001b[43m]\u001b[49m\u001b[43m,\u001b[49m\u001b[43m \u001b[49m\u001b[43mdf\u001b[49m\u001b[43m[\u001b[49m\u001b[38;5;124;43m\"\u001b[39;49m\u001b[38;5;124;43mclarity\u001b[39;49m\u001b[38;5;124;43m\"\u001b[39;49m\u001b[43m]\u001b[49m\u001b[43m)\u001b[49m\n\u001b[0;32m---> 12\u001b[0m \u001b[43m    \u001b[49m\u001b[43m)\u001b[49m\u001b[38;5;241;43m.\u001b[39;49m\u001b[43mcollect\u001b[49m\u001b[43m(\u001b[49m\u001b[43m)\u001b[49m\n\u001b[1;32m     13\u001b[0m     df_color_clarity_details\n\u001b[1;32m     14\u001b[0m \u001b[38;5;28mprint\u001b[39m(\u001b[38;5;124m\"\u001b[39m\u001b[38;5;124mNumber of AST messages recorded: \u001b[39m\u001b[38;5;124m\"\u001b[39m, \u001b[38;5;28mlen\u001b[39m(al\u001b[38;5;241m.\u001b[39mbase64_batches))\n",
      "File \u001b[0;32m~/work/snowpark_python_serverside/snowpark-python/src/snowflake/snowpark/_internal/telemetry.py:174\u001b[0m, in \u001b[0;36mdf_collect_api_telemetry.<locals>.wrap\u001b[0;34m(*args, **kwargs)\u001b[0m\n\u001b[1;32m    171\u001b[0m \u001b[38;5;129m@functools\u001b[39m\u001b[38;5;241m.\u001b[39mwraps(func)\n\u001b[1;32m    172\u001b[0m \u001b[38;5;28;01mdef\u001b[39;00m \u001b[38;5;21mwrap\u001b[39m(\u001b[38;5;241m*\u001b[39margs, \u001b[38;5;241m*\u001b[39m\u001b[38;5;241m*\u001b[39mkwargs):\n\u001b[1;32m    173\u001b[0m     \u001b[38;5;28;01mwith\u001b[39;00m args[\u001b[38;5;241m0\u001b[39m]\u001b[38;5;241m.\u001b[39m_session\u001b[38;5;241m.\u001b[39mquery_history() \u001b[38;5;28;01mas\u001b[39;00m query_history:\n\u001b[0;32m--> 174\u001b[0m         result \u001b[38;5;241m=\u001b[39m \u001b[43mfunc\u001b[49m\u001b[43m(\u001b[49m\u001b[38;5;241;43m*\u001b[39;49m\u001b[43margs\u001b[49m\u001b[43m,\u001b[49m\u001b[43m \u001b[49m\u001b[38;5;241;43m*\u001b[39;49m\u001b[38;5;241;43m*\u001b[39;49m\u001b[43mkwargs\u001b[49m\u001b[43m)\u001b[49m\n\u001b[1;32m    175\u001b[0m     plan \u001b[38;5;241m=\u001b[39m args[\u001b[38;5;241m0\u001b[39m]\u001b[38;5;241m.\u001b[39m_select_statement \u001b[38;5;129;01mor\u001b[39;00m args[\u001b[38;5;241m0\u001b[39m]\u001b[38;5;241m.\u001b[39m_plan\n\u001b[1;32m    176\u001b[0m     api_calls \u001b[38;5;241m=\u001b[39m [\n\u001b[1;32m    177\u001b[0m         \u001b[38;5;241m*\u001b[39mplan\u001b[38;5;241m.\u001b[39mapi_calls,\n\u001b[1;32m    178\u001b[0m         {TelemetryField\u001b[38;5;241m.\u001b[39mNAME\u001b[38;5;241m.\u001b[39mvalue: \u001b[38;5;124mf\u001b[39m\u001b[38;5;124m\"\u001b[39m\u001b[38;5;124mDataFrame.\u001b[39m\u001b[38;5;132;01m{\u001b[39;00mfunc\u001b[38;5;241m.\u001b[39m\u001b[38;5;18m__name__\u001b[39m\u001b[38;5;132;01m}\u001b[39;00m\u001b[38;5;124m\"\u001b[39m},\n\u001b[1;32m    179\u001b[0m     ]\n",
      "File \u001b[0;32m~/work/snowpark_python_serverside/snowpark-python/src/snowflake/snowpark/_internal/utils.py:1029\u001b[0m, in \u001b[0;36mpublicapi.<locals>.call_wrapper\u001b[0;34m(*args, **kwargs)\u001b[0m\n\u001b[1;32m   1025\u001b[0m kwargs[\u001b[38;5;124m\"\u001b[39m\u001b[38;5;124m_emit_ast\u001b[39m\u001b[38;5;124m\"\u001b[39m] \u001b[38;5;241m=\u001b[39m is_ast_enabled()\n\u001b[1;32m   1027\u001b[0m \u001b[38;5;66;03m# TODO: Could modify internal docstring to display that users should not modify the _emit_ast parameter.\u001b[39;00m\n\u001b[0;32m-> 1029\u001b[0m \u001b[38;5;28;01mreturn\u001b[39;00m \u001b[43mfunc\u001b[49m\u001b[43m(\u001b[49m\u001b[38;5;241;43m*\u001b[39;49m\u001b[43margs\u001b[49m\u001b[43m,\u001b[49m\u001b[43m \u001b[49m\u001b[38;5;241;43m*\u001b[39;49m\u001b[38;5;241;43m*\u001b[39;49m\u001b[43mkwargs\u001b[49m\u001b[43m)\u001b[49m\n",
      "File \u001b[0;32m~/work/snowpark_python_serverside/snowpark-python/src/snowflake/snowpark/dataframe.py:713\u001b[0m, in \u001b[0;36mDataFrame.collect\u001b[0;34m(self, statement_params, block, log_on_exception, case_sensitive, _emit_ast)\u001b[0m\n\u001b[1;32m    710\u001b[0m     _, kwargs[DATAFRAME_AST_PARAMETER] \u001b[38;5;241m=\u001b[39m \u001b[38;5;28mself\u001b[39m\u001b[38;5;241m.\u001b[39m_session\u001b[38;5;241m.\u001b[39m_ast_batch\u001b[38;5;241m.\u001b[39mflush()\n\u001b[1;32m    712\u001b[0m \u001b[38;5;28;01mwith\u001b[39;00m open_telemetry_context_manager(\u001b[38;5;28mself\u001b[39m\u001b[38;5;241m.\u001b[39mcollect, \u001b[38;5;28mself\u001b[39m):\n\u001b[0;32m--> 713\u001b[0m     \u001b[38;5;28;01mreturn\u001b[39;00m \u001b[38;5;28;43mself\u001b[39;49m\u001b[38;5;241;43m.\u001b[39;49m\u001b[43m_internal_collect_with_tag_no_telemetry\u001b[49m\u001b[43m(\u001b[49m\n\u001b[1;32m    714\u001b[0m \u001b[43m        \u001b[49m\u001b[43mstatement_params\u001b[49m\u001b[38;5;241;43m=\u001b[39;49m\u001b[43mstatement_params\u001b[49m\u001b[43m,\u001b[49m\n\u001b[1;32m    715\u001b[0m \u001b[43m        \u001b[49m\u001b[43mblock\u001b[49m\u001b[38;5;241;43m=\u001b[39;49m\u001b[43mblock\u001b[49m\u001b[43m,\u001b[49m\n\u001b[1;32m    716\u001b[0m \u001b[43m        \u001b[49m\u001b[43mlog_on_exception\u001b[49m\u001b[38;5;241;43m=\u001b[39;49m\u001b[43mlog_on_exception\u001b[49m\u001b[43m,\u001b[49m\n\u001b[1;32m    717\u001b[0m \u001b[43m        \u001b[49m\u001b[43mcase_sensitive\u001b[49m\u001b[38;5;241;43m=\u001b[39;49m\u001b[43mcase_sensitive\u001b[49m\u001b[43m,\u001b[49m\n\u001b[1;32m    718\u001b[0m \u001b[43m        \u001b[49m\u001b[38;5;241;43m*\u001b[39;49m\u001b[38;5;241;43m*\u001b[39;49m\u001b[43mkwargs\u001b[49m\u001b[43m,\u001b[49m\n\u001b[1;32m    719\u001b[0m \u001b[43m    \u001b[49m\u001b[43m)\u001b[49m\n",
      "File \u001b[0;32m~/work/snowpark_python_serverside/snowpark-python/src/snowflake/snowpark/dataframe.py:784\u001b[0m, in \u001b[0;36mDataFrame._internal_collect_with_tag_no_telemetry\u001b[0;34m(self, statement_params, block, data_type, log_on_exception, case_sensitive, **kwargs)\u001b[0m\n\u001b[1;32m    771\u001b[0m \u001b[38;5;28;01mdef\u001b[39;00m \u001b[38;5;21m_internal_collect_with_tag_no_telemetry\u001b[39m(\n\u001b[1;32m    772\u001b[0m     \u001b[38;5;28mself\u001b[39m,\n\u001b[1;32m    773\u001b[0m     \u001b[38;5;241m*\u001b[39m,\n\u001b[0;32m   (...)\u001b[0m\n\u001b[1;32m    782\u001b[0m     \u001b[38;5;66;03m# we should always call this method instead of collect(), to make sure the\u001b[39;00m\n\u001b[1;32m    783\u001b[0m     \u001b[38;5;66;03m# query tag is set properly.\u001b[39;00m\n\u001b[0;32m--> 784\u001b[0m     \u001b[38;5;28;01mreturn\u001b[39;00m \u001b[38;5;28;43mself\u001b[39;49m\u001b[38;5;241;43m.\u001b[39;49m\u001b[43m_session\u001b[49m\u001b[38;5;241;43m.\u001b[39;49m\u001b[43m_conn\u001b[49m\u001b[38;5;241;43m.\u001b[39;49m\u001b[43mexecute\u001b[49m\u001b[43m(\u001b[49m\n\u001b[1;32m    785\u001b[0m \u001b[43m        \u001b[49m\u001b[38;5;28;43mself\u001b[39;49m\u001b[38;5;241;43m.\u001b[39;49m\u001b[43m_plan\u001b[49m\u001b[43m,\u001b[49m\n\u001b[1;32m    786\u001b[0m \u001b[43m        \u001b[49m\u001b[43mblock\u001b[49m\u001b[38;5;241;43m=\u001b[39;49m\u001b[43mblock\u001b[49m\u001b[43m,\u001b[49m\n\u001b[1;32m    787\u001b[0m \u001b[43m        \u001b[49m\u001b[43mdata_type\u001b[49m\u001b[38;5;241;43m=\u001b[39;49m\u001b[43mdata_type\u001b[49m\u001b[43m,\u001b[49m\n\u001b[1;32m    788\u001b[0m \u001b[43m        \u001b[49m\u001b[43m_statement_params\u001b[49m\u001b[38;5;241;43m=\u001b[39;49m\u001b[43mcreate_or_update_statement_params_with_query_tag\u001b[49m\u001b[43m(\u001b[49m\n\u001b[1;32m    789\u001b[0m \u001b[43m            \u001b[49m\u001b[43mstatement_params\u001b[49m\u001b[43m \u001b[49m\u001b[38;5;129;43;01mor\u001b[39;49;00m\u001b[43m \u001b[49m\u001b[38;5;28;43mself\u001b[39;49m\u001b[38;5;241;43m.\u001b[39;49m\u001b[43m_statement_params\u001b[49m\u001b[43m,\u001b[49m\n\u001b[1;32m    790\u001b[0m \u001b[43m            \u001b[49m\u001b[38;5;28;43mself\u001b[39;49m\u001b[38;5;241;43m.\u001b[39;49m\u001b[43m_session\u001b[49m\u001b[38;5;241;43m.\u001b[39;49m\u001b[43mquery_tag\u001b[49m\u001b[43m,\u001b[49m\n\u001b[1;32m    791\u001b[0m \u001b[43m            \u001b[49m\u001b[43mSKIP_LEVELS_THREE\u001b[49m\u001b[43m,\u001b[49m\n\u001b[1;32m    792\u001b[0m \u001b[43m        \u001b[49m\u001b[43m)\u001b[49m\u001b[43m,\u001b[49m\n\u001b[1;32m    793\u001b[0m \u001b[43m        \u001b[49m\u001b[43mlog_on_exception\u001b[49m\u001b[38;5;241;43m=\u001b[39;49m\u001b[43mlog_on_exception\u001b[49m\u001b[43m,\u001b[49m\n\u001b[1;32m    794\u001b[0m \u001b[43m        \u001b[49m\u001b[43mcase_sensitive\u001b[49m\u001b[38;5;241;43m=\u001b[39;49m\u001b[43mcase_sensitive\u001b[49m\u001b[43m,\u001b[49m\n\u001b[1;32m    795\u001b[0m \u001b[43m        \u001b[49m\u001b[38;5;241;43m*\u001b[39;49m\u001b[38;5;241;43m*\u001b[39;49m\u001b[43mkwargs\u001b[49m\u001b[43m,\u001b[49m\n\u001b[1;32m    796\u001b[0m \u001b[43m    \u001b[49m\u001b[43m)\u001b[49m\n",
      "File \u001b[0;32m~/work/snowpark_python_serverside/snowpark-python/src/snowflake/snowpark/_internal/server_connection.py:612\u001b[0m, in \u001b[0;36mServerConnection.execute\u001b[0;34m(self, plan, to_pandas, to_iter, block, data_type, log_on_exception, case_sensitive, **kwargs)\u001b[0m\n\u001b[1;32m    602\u001b[0m \u001b[38;5;28;01mif\u001b[39;00m (\n\u001b[1;32m    603\u001b[0m     is_in_stored_procedure()\n\u001b[1;32m    604\u001b[0m     \u001b[38;5;129;01mand\u001b[39;00m \u001b[38;5;129;01mnot\u001b[39;00m block\n\u001b[0;32m   (...)\u001b[0m\n\u001b[1;32m    607\u001b[0m     )\n\u001b[1;32m    608\u001b[0m ):  \u001b[38;5;66;03m# pragma: no cover\u001b[39;00m\n\u001b[1;32m    609\u001b[0m     \u001b[38;5;28;01mraise\u001b[39;00m \u001b[38;5;167;01mNotImplementedError\u001b[39;00m(\n\u001b[1;32m    610\u001b[0m         \u001b[38;5;124m\"\u001b[39m\u001b[38;5;124mAsync query is not supported in stored procedure yet\u001b[39m\u001b[38;5;124m\"\u001b[39m\n\u001b[1;32m    611\u001b[0m     )\n\u001b[0;32m--> 612\u001b[0m result_set, result_meta \u001b[38;5;241m=\u001b[39m \u001b[38;5;28;43mself\u001b[39;49m\u001b[38;5;241;43m.\u001b[39;49m\u001b[43mget_result_set\u001b[49m\u001b[43m(\u001b[49m\n\u001b[1;32m    613\u001b[0m \u001b[43m    \u001b[49m\u001b[43mplan\u001b[49m\u001b[43m,\u001b[49m\n\u001b[1;32m    614\u001b[0m \u001b[43m    \u001b[49m\u001b[43mto_pandas\u001b[49m\u001b[43m,\u001b[49m\n\u001b[1;32m    615\u001b[0m \u001b[43m    \u001b[49m\u001b[43mto_iter\u001b[49m\u001b[43m,\u001b[49m\n\u001b[1;32m    616\u001b[0m \u001b[43m    \u001b[49m\u001b[38;5;241;43m*\u001b[39;49m\u001b[38;5;241;43m*\u001b[39;49m\u001b[43mkwargs\u001b[49m\u001b[43m,\u001b[49m\n\u001b[1;32m    617\u001b[0m \u001b[43m    \u001b[49m\u001b[43mblock\u001b[49m\u001b[38;5;241;43m=\u001b[39;49m\u001b[43mblock\u001b[49m\u001b[43m,\u001b[49m\n\u001b[1;32m    618\u001b[0m \u001b[43m    \u001b[49m\u001b[43mdata_type\u001b[49m\u001b[38;5;241;43m=\u001b[39;49m\u001b[43mdata_type\u001b[49m\u001b[43m,\u001b[49m\n\u001b[1;32m    619\u001b[0m \u001b[43m    \u001b[49m\u001b[43mlog_on_exception\u001b[49m\u001b[38;5;241;43m=\u001b[39;49m\u001b[43mlog_on_exception\u001b[49m\u001b[43m,\u001b[49m\n\u001b[1;32m    620\u001b[0m \u001b[43m    \u001b[49m\u001b[43mcase_sensitive\u001b[49m\u001b[38;5;241;43m=\u001b[39;49m\u001b[43mcase_sensitive\u001b[49m\u001b[43m,\u001b[49m\n\u001b[1;32m    621\u001b[0m \u001b[43m\u001b[49m\u001b[43m)\u001b[49m\n\u001b[1;32m    622\u001b[0m \u001b[38;5;28;01mif\u001b[39;00m \u001b[38;5;129;01mnot\u001b[39;00m block:\n\u001b[1;32m    623\u001b[0m     \u001b[38;5;28;01mreturn\u001b[39;00m result_set\n",
      "File \u001b[0;32m~/work/snowpark_python_serverside/snowpark-python/src/snowflake/snowpark/_internal/analyzer/snowflake_plan.py:205\u001b[0m, in \u001b[0;36mSnowflakePlan.Decorator.wrap_exception.<locals>.wrap\u001b[0;34m(*args, **kwargs)\u001b[0m\n\u001b[1;32m    201\u001b[0m \u001b[38;5;28;01melse\u001b[39;00m:\n\u001b[1;32m    202\u001b[0m     ne \u001b[38;5;241m=\u001b[39m SnowparkClientExceptionMessages\u001b[38;5;241m.\u001b[39mSQL_EXCEPTION_FROM_PROGRAMMING_ERROR(\n\u001b[1;32m    203\u001b[0m         e\n\u001b[1;32m    204\u001b[0m     )\n\u001b[0;32m--> 205\u001b[0m     \u001b[38;5;28;01mraise\u001b[39;00m ne\u001b[38;5;241m.\u001b[39mwith_traceback(tb) \u001b[38;5;28;01mfrom\u001b[39;00m \u001b[38;5;28;01mNone\u001b[39;00m\n",
      "File \u001b[0;32m~/work/snowpark_python_serverside/snowpark-python/src/snowflake/snowpark/_internal/analyzer/snowflake_plan.py:136\u001b[0m, in \u001b[0;36mSnowflakePlan.Decorator.wrap_exception.<locals>.wrap\u001b[0;34m(*args, **kwargs)\u001b[0m\n\u001b[1;32m    134\u001b[0m \u001b[38;5;28;01mdef\u001b[39;00m \u001b[38;5;21mwrap\u001b[39m(\u001b[38;5;241m*\u001b[39margs, \u001b[38;5;241m*\u001b[39m\u001b[38;5;241m*\u001b[39mkwargs):\n\u001b[1;32m    135\u001b[0m     \u001b[38;5;28;01mtry\u001b[39;00m:\n\u001b[0;32m--> 136\u001b[0m         \u001b[38;5;28;01mreturn\u001b[39;00m \u001b[43mfunc\u001b[49m\u001b[43m(\u001b[49m\u001b[38;5;241;43m*\u001b[39;49m\u001b[43margs\u001b[49m\u001b[43m,\u001b[49m\u001b[43m \u001b[49m\u001b[38;5;241;43m*\u001b[39;49m\u001b[38;5;241;43m*\u001b[39;49m\u001b[43mkwargs\u001b[49m\u001b[43m)\u001b[49m\n\u001b[1;32m    137\u001b[0m     \u001b[38;5;28;01mexcept\u001b[39;00m snowflake\u001b[38;5;241m.\u001b[39mconnector\u001b[38;5;241m.\u001b[39merrors\u001b[38;5;241m.\u001b[39mProgrammingError \u001b[38;5;28;01mas\u001b[39;00m e:\n\u001b[1;32m    138\u001b[0m         query \u001b[38;5;241m=\u001b[39m \u001b[38;5;28mgetattr\u001b[39m(e, \u001b[38;5;124m\"\u001b[39m\u001b[38;5;124mquery\u001b[39m\u001b[38;5;124m\"\u001b[39m, \u001b[38;5;28;01mNone\u001b[39;00m)\n",
      "File \u001b[0;32m~/work/snowpark_python_serverside/snowpark-python/src/snowflake/snowpark/_internal/server_connection.py:730\u001b[0m, in \u001b[0;36mServerConnection.get_result_set\u001b[0;34m(self, plan, to_pandas, to_iter, block, data_type, log_on_exception, case_sensitive, ignore_results, **kwargs)\u001b[0m\n\u001b[1;32m    728\u001b[0m \u001b[38;5;28;01mif\u001b[39;00m i \u001b[38;5;241m==\u001b[39m \u001b[38;5;28mlen\u001b[39m(main_queries) \u001b[38;5;241m-\u001b[39m \u001b[38;5;241m1\u001b[39m \u001b[38;5;129;01mand\u001b[39;00m dataframe_ast:\n\u001b[1;32m    729\u001b[0m     kwargs[DATAFRAME_AST_PARAMETER] \u001b[38;5;241m=\u001b[39m dataframe_ast\n\u001b[0;32m--> 730\u001b[0m result \u001b[38;5;241m=\u001b[39m \u001b[38;5;28;43mself\u001b[39;49m\u001b[38;5;241;43m.\u001b[39;49m\u001b[43mrun_query\u001b[49m\u001b[43m(\u001b[49m\n\u001b[1;32m    731\u001b[0m \u001b[43m    \u001b[49m\u001b[43mfinal_query\u001b[49m\u001b[43m,\u001b[49m\n\u001b[1;32m    732\u001b[0m \u001b[43m    \u001b[49m\u001b[43mto_pandas\u001b[49m\u001b[43m,\u001b[49m\n\u001b[1;32m    733\u001b[0m \u001b[43m    \u001b[49m\u001b[43mto_iter\u001b[49m\u001b[43m \u001b[49m\u001b[38;5;129;43;01mand\u001b[39;49;00m\u001b[43m \u001b[49m\u001b[43m(\u001b[49m\u001b[43mi\u001b[49m\u001b[43m \u001b[49m\u001b[38;5;241;43m==\u001b[39;49m\u001b[43m \u001b[49m\u001b[38;5;28;43mlen\u001b[39;49m\u001b[43m(\u001b[49m\u001b[43mmain_queries\u001b[49m\u001b[43m)\u001b[49m\u001b[43m \u001b[49m\u001b[38;5;241;43m-\u001b[39;49m\u001b[43m \u001b[49m\u001b[38;5;241;43m1\u001b[39;49m\u001b[43m)\u001b[49m\u001b[43m,\u001b[49m\n\u001b[1;32m    734\u001b[0m \u001b[43m    \u001b[49m\u001b[43mis_ddl_on_temp_object\u001b[49m\u001b[38;5;241;43m=\u001b[39;49m\u001b[43mquery\u001b[49m\u001b[38;5;241;43m.\u001b[39;49m\u001b[43mis_ddl_on_temp_object\u001b[49m\u001b[43m,\u001b[49m\n\u001b[1;32m    735\u001b[0m \u001b[43m    \u001b[49m\u001b[43mblock\u001b[49m\u001b[38;5;241;43m=\u001b[39;49m\u001b[38;5;129;43;01mnot\u001b[39;49;00m\u001b[43m \u001b[49m\u001b[43mis_last\u001b[49m\u001b[43m,\u001b[49m\n\u001b[1;32m    736\u001b[0m \u001b[43m    \u001b[49m\u001b[43mdata_type\u001b[49m\u001b[38;5;241;43m=\u001b[39;49m\u001b[43mdata_type\u001b[49m\u001b[43m,\u001b[49m\n\u001b[1;32m    737\u001b[0m \u001b[43m    \u001b[49m\u001b[43masync_job_plan\u001b[49m\u001b[38;5;241;43m=\u001b[39;49m\u001b[43mplan\u001b[49m\u001b[43m,\u001b[49m\n\u001b[1;32m    738\u001b[0m \u001b[43m    \u001b[49m\u001b[43mlog_on_exception\u001b[49m\u001b[38;5;241;43m=\u001b[39;49m\u001b[43mlog_on_exception\u001b[49m\u001b[43m,\u001b[49m\n\u001b[1;32m    739\u001b[0m \u001b[43m    \u001b[49m\u001b[43mcase_sensitive\u001b[49m\u001b[38;5;241;43m=\u001b[39;49m\u001b[43mcase_sensitive\u001b[49m\u001b[43m,\u001b[49m\n\u001b[1;32m    740\u001b[0m \u001b[43m    \u001b[49m\u001b[43mparams\u001b[49m\u001b[38;5;241;43m=\u001b[39;49m\u001b[43mquery\u001b[49m\u001b[38;5;241;43m.\u001b[39;49m\u001b[43mparams\u001b[49m\u001b[43m,\u001b[49m\n\u001b[1;32m    741\u001b[0m \u001b[43m    \u001b[49m\u001b[43mignore_results\u001b[49m\u001b[38;5;241;43m=\u001b[39;49m\u001b[43mignore_results\u001b[49m\u001b[43m,\u001b[49m\n\u001b[1;32m    742\u001b[0m \u001b[43m    \u001b[49m\u001b[43masync_post_actions\u001b[49m\u001b[38;5;241;43m=\u001b[39;49m\u001b[43mpost_actions\u001b[49m\u001b[43m,\u001b[49m\n\u001b[1;32m    743\u001b[0m \u001b[43m    \u001b[49m\u001b[38;5;241;43m*\u001b[39;49m\u001b[38;5;241;43m*\u001b[39;49m\u001b[43mkwargs\u001b[49m\u001b[43m,\u001b[49m\n\u001b[1;32m    744\u001b[0m \u001b[43m\u001b[49m\u001b[43m)\u001b[49m\n\u001b[1;32m    745\u001b[0m placeholders[query\u001b[38;5;241m.\u001b[39mquery_id_place_holder] \u001b[38;5;241m=\u001b[39m (\n\u001b[1;32m    746\u001b[0m     result[\u001b[38;5;124m\"\u001b[39m\u001b[38;5;124msfqid\u001b[39m\u001b[38;5;124m\"\u001b[39m] \u001b[38;5;28;01mif\u001b[39;00m \u001b[38;5;129;01mnot\u001b[39;00m is_last \u001b[38;5;28;01melse\u001b[39;00m result\u001b[38;5;241m.\u001b[39mquery_id\n\u001b[1;32m    747\u001b[0m )\n\u001b[1;32m    748\u001b[0m result_meta \u001b[38;5;241m=\u001b[39m get_new_description(\u001b[38;5;28mself\u001b[39m\u001b[38;5;241m.\u001b[39m_cursor)\n",
      "File \u001b[0;32m~/work/snowpark_python_serverside/snowpark-python/src/snowflake/snowpark/_internal/server_connection.py:131\u001b[0m, in \u001b[0;36mServerConnection._Decorator.wrap_exception.<locals>.wrap\u001b[0;34m(*args, **kwargs)\u001b[0m\n\u001b[1;32m    127\u001b[0m     \u001b[38;5;28;01mraise\u001b[39;00m SnowparkClientExceptionMessages\u001b[38;5;241m.\u001b[39mSERVER_SESSION_EXPIRED(\n\u001b[1;32m    128\u001b[0m         ex\u001b[38;5;241m.\u001b[39mcause\n\u001b[1;32m    129\u001b[0m     )\n\u001b[1;32m    130\u001b[0m \u001b[38;5;28;01mexcept\u001b[39;00m \u001b[38;5;167;01mException\u001b[39;00m \u001b[38;5;28;01mas\u001b[39;00m ex:\n\u001b[0;32m--> 131\u001b[0m     \u001b[38;5;28;01mraise\u001b[39;00m ex\n",
      "File \u001b[0;32m~/work/snowpark_python_serverside/snowpark-python/src/snowflake/snowpark/_internal/server_connection.py:125\u001b[0m, in \u001b[0;36mServerConnection._Decorator.wrap_exception.<locals>.wrap\u001b[0;34m(*args, **kwargs)\u001b[0m\n\u001b[1;32m    123\u001b[0m     \u001b[38;5;28;01mraise\u001b[39;00m SnowparkClientExceptionMessages\u001b[38;5;241m.\u001b[39mSERVER_SESSION_HAS_BEEN_CLOSED()\n\u001b[1;32m    124\u001b[0m \u001b[38;5;28;01mtry\u001b[39;00m:\n\u001b[0;32m--> 125\u001b[0m     \u001b[38;5;28;01mreturn\u001b[39;00m \u001b[43mfunc\u001b[49m\u001b[43m(\u001b[49m\u001b[38;5;241;43m*\u001b[39;49m\u001b[43margs\u001b[49m\u001b[43m,\u001b[49m\u001b[43m \u001b[49m\u001b[38;5;241;43m*\u001b[39;49m\u001b[38;5;241;43m*\u001b[39;49m\u001b[43mkwargs\u001b[49m\u001b[43m)\u001b[49m\n\u001b[1;32m    126\u001b[0m \u001b[38;5;28;01mexcept\u001b[39;00m ReauthenticationRequest \u001b[38;5;28;01mas\u001b[39;00m ex:\n\u001b[1;32m    127\u001b[0m     \u001b[38;5;28;01mraise\u001b[39;00m SnowparkClientExceptionMessages\u001b[38;5;241m.\u001b[39mSERVER_SESSION_EXPIRED(\n\u001b[1;32m    128\u001b[0m         ex\u001b[38;5;241m.\u001b[39mcause\n\u001b[1;32m    129\u001b[0m     )\n",
      "File \u001b[0;32m~/work/snowpark_python_serverside/snowpark-python/src/snowflake/snowpark/_internal/server_connection.py:519\u001b[0m, in \u001b[0;36mServerConnection.run_query\u001b[0;34m(self, query, to_pandas, to_iter, is_ddl_on_temp_object, block, data_type, async_job_plan, log_on_exception, case_sensitive, params, num_statements, ignore_results, async_post_actions, **kwargs)\u001b[0m\n\u001b[1;32m    517\u001b[0m         query_id_log \u001b[38;5;241m=\u001b[39m \u001b[38;5;124mf\u001b[39m\u001b[38;5;124m\"\u001b[39m\u001b[38;5;124m [queryID: \u001b[39m\u001b[38;5;132;01m{\u001b[39;00mex\u001b[38;5;241m.\u001b[39msfqid\u001b[38;5;132;01m}\u001b[39;00m\u001b[38;5;124m]\u001b[39m\u001b[38;5;124m\"\u001b[39m \u001b[38;5;28;01mif\u001b[39;00m \u001b[38;5;28mhasattr\u001b[39m(ex, \u001b[38;5;124m\"\u001b[39m\u001b[38;5;124msfqid\u001b[39m\u001b[38;5;124m\"\u001b[39m) \u001b[38;5;28;01melse\u001b[39;00m \u001b[38;5;124m\"\u001b[39m\u001b[38;5;124m\"\u001b[39m\n\u001b[1;32m    518\u001b[0m         logger\u001b[38;5;241m.\u001b[39merror(\u001b[38;5;124mf\u001b[39m\u001b[38;5;124m\"\u001b[39m\u001b[38;5;124mFailed to execute query\u001b[39m\u001b[38;5;132;01m{\u001b[39;00mquery_id_log\u001b[38;5;132;01m}\u001b[39;00m\u001b[38;5;124m \u001b[39m\u001b[38;5;132;01m{\u001b[39;00mquery\u001b[38;5;132;01m}\u001b[39;00m\u001b[38;5;130;01m\\n\u001b[39;00m\u001b[38;5;132;01m{\u001b[39;00mex\u001b[38;5;132;01m}\u001b[39;00m\u001b[38;5;124m\"\u001b[39m)\n\u001b[0;32m--> 519\u001b[0m     \u001b[38;5;28;01mraise\u001b[39;00m ex\n\u001b[1;32m    521\u001b[0m \u001b[38;5;66;03m# fetch_pandas_all/batches() only works for SELECT statements\u001b[39;00m\n\u001b[1;32m    522\u001b[0m \u001b[38;5;66;03m# We call fetchall() if fetch_pandas_all/batches() fails,\u001b[39;00m\n\u001b[1;32m    523\u001b[0m \u001b[38;5;66;03m# because when the query plan has multiple queries, it will\u001b[39;00m\n\u001b[1;32m    524\u001b[0m \u001b[38;5;66;03m# have non-select statements, and it shouldn't fail if the user\u001b[39;00m\n\u001b[1;32m    525\u001b[0m \u001b[38;5;66;03m# calls to_pandas() to execute the query.\u001b[39;00m\n\u001b[1;32m    526\u001b[0m \u001b[38;5;28;01mif\u001b[39;00m block:\n",
      "File \u001b[0;32m~/work/snowpark_python_serverside/snowpark-python/src/snowflake/snowpark/_internal/server_connection.py:504\u001b[0m, in \u001b[0;36mServerConnection.run_query\u001b[0;34m(self, query, to_pandas, to_iter, is_ddl_on_temp_object, block, data_type, async_job_plan, log_on_exception, case_sensitive, params, num_statements, ignore_results, async_post_actions, **kwargs)\u001b[0m\n\u001b[1;32m    502\u001b[0m     kwargs[\u001b[38;5;124m\"\u001b[39m\u001b[38;5;124m_statement_params\u001b[39m\u001b[38;5;124m\"\u001b[39m][\u001b[38;5;124m\"\u001b[39m\u001b[38;5;124mSNOWPARK_SKIP_TXN_COMMIT_IN_DDL\u001b[39m\u001b[38;5;124m\"\u001b[39m] \u001b[38;5;241m=\u001b[39m \u001b[38;5;28;01mTrue\u001b[39;00m\n\u001b[1;32m    503\u001b[0m \u001b[38;5;28;01mif\u001b[39;00m block:\n\u001b[0;32m--> 504\u001b[0m     results_cursor \u001b[38;5;241m=\u001b[39m \u001b[38;5;28;43mself\u001b[39;49m\u001b[38;5;241;43m.\u001b[39;49m\u001b[43mexecute_and_notify_query_listener\u001b[49m\u001b[43m(\u001b[49m\n\u001b[1;32m    505\u001b[0m \u001b[43m        \u001b[49m\u001b[43mquery\u001b[49m\u001b[43m,\u001b[49m\u001b[43m \u001b[49m\u001b[43mparams\u001b[49m\u001b[38;5;241;43m=\u001b[39;49m\u001b[43mparams\u001b[49m\u001b[43m,\u001b[49m\u001b[43m \u001b[49m\u001b[38;5;241;43m*\u001b[39;49m\u001b[38;5;241;43m*\u001b[39;49m\u001b[43mkwargs\u001b[49m\n\u001b[1;32m    506\u001b[0m \u001b[43m    \u001b[49m\u001b[43m)\u001b[49m\n\u001b[1;32m    507\u001b[0m     logger\u001b[38;5;241m.\u001b[39minfo(\u001b[38;5;124mf\u001b[39m\u001b[38;5;124m\"\u001b[39m\u001b[38;5;124mExecute query [queryID: \u001b[39m\u001b[38;5;132;01m{\u001b[39;00mresults_cursor\u001b[38;5;241m.\u001b[39msfqid\u001b[38;5;132;01m}\u001b[39;00m\u001b[38;5;124m] \u001b[39m\u001b[38;5;132;01m{\u001b[39;00mquery\u001b[38;5;132;01m}\u001b[39;00m\u001b[38;5;124m\"\u001b[39m)\n\u001b[1;32m    508\u001b[0m \u001b[38;5;28;01melse\u001b[39;00m:\n",
      "File \u001b[0;32m~/work/snowpark_python_serverside/snowpark-python/src/snowflake/snowpark/_internal/server_connection.py:444\u001b[0m, in \u001b[0;36mServerConnection.execute_and_notify_query_listener\u001b[0;34m(self, query, **kwargs)\u001b[0m\n\u001b[1;32m    440\u001b[0m     err_query \u001b[38;5;241m=\u001b[39m ex\u001b[38;5;241m.\u001b[39mquery \u001b[38;5;28;01mif\u001b[39;00m \u001b[38;5;28misinstance\u001b[39m(ex, Error) \u001b[38;5;28;01melse\u001b[39;00m query\n\u001b[1;32m    441\u001b[0m     \u001b[38;5;28mself\u001b[39m\u001b[38;5;241m.\u001b[39mnotify_query_listeners(\n\u001b[1;32m    442\u001b[0m         QueryRecord(sfqid, err_query, \u001b[38;5;28;01mFalse\u001b[39;00m), is_error\u001b[38;5;241m=\u001b[39m\u001b[38;5;28;01mTrue\u001b[39;00m, \u001b[38;5;241m*\u001b[39m\u001b[38;5;241m*\u001b[39mnotify_kwargs\n\u001b[1;32m    443\u001b[0m     )\n\u001b[0;32m--> 444\u001b[0m     \u001b[38;5;28;01mraise\u001b[39;00m ex\n\u001b[1;32m    446\u001b[0m notify_kwargs[\u001b[38;5;124m\"\u001b[39m\u001b[38;5;124mrequestId\u001b[39m\u001b[38;5;124m\"\u001b[39m] \u001b[38;5;241m=\u001b[39m \u001b[38;5;28mstr\u001b[39m(results_cursor\u001b[38;5;241m.\u001b[39m_request_id)\n\u001b[1;32m    447\u001b[0m \u001b[38;5;28mself\u001b[39m\u001b[38;5;241m.\u001b[39mnotify_query_listeners(\n\u001b[1;32m    448\u001b[0m     QueryRecord(results_cursor\u001b[38;5;241m.\u001b[39msfqid, results_cursor\u001b[38;5;241m.\u001b[39mquery), \u001b[38;5;241m*\u001b[39m\u001b[38;5;241m*\u001b[39mnotify_kwargs\n\u001b[1;32m    449\u001b[0m )\n",
      "File \u001b[0;32m~/work/snowpark_python_serverside/snowpark-python/src/snowflake/snowpark/_internal/server_connection.py:435\u001b[0m, in \u001b[0;36mServerConnection.execute_and_notify_query_listener\u001b[0;34m(self, query, **kwargs)\u001b[0m\n\u001b[1;32m    432\u001b[0m     notify_kwargs[\u001b[38;5;124m\"\u001b[39m\u001b[38;5;124mdataframeAst\u001b[39m\u001b[38;5;124m\"\u001b[39m] \u001b[38;5;241m=\u001b[39m kwargs[DATAFRAME_AST_PARAMETER]\n\u001b[1;32m    434\u001b[0m \u001b[38;5;28;01mtry\u001b[39;00m:\n\u001b[0;32m--> 435\u001b[0m     results_cursor \u001b[38;5;241m=\u001b[39m \u001b[38;5;28;43mself\u001b[39;49m\u001b[38;5;241;43m.\u001b[39;49m\u001b[43m_cursor\u001b[49m\u001b[38;5;241;43m.\u001b[39;49m\u001b[43mexecute\u001b[49m\u001b[43m(\u001b[49m\u001b[43mquery\u001b[49m\u001b[43m,\u001b[49m\u001b[43m \u001b[49m\u001b[38;5;241;43m*\u001b[39;49m\u001b[38;5;241;43m*\u001b[39;49m\u001b[43mkwargs\u001b[49m\u001b[43m)\u001b[49m\n\u001b[1;32m    436\u001b[0m \u001b[38;5;28;01mexcept\u001b[39;00m \u001b[38;5;167;01mException\u001b[39;00m \u001b[38;5;28;01mas\u001b[39;00m ex:\n\u001b[1;32m    437\u001b[0m     notify_kwargs[\u001b[38;5;124m\"\u001b[39m\u001b[38;5;124mrequestId\u001b[39m\u001b[38;5;124m\"\u001b[39m] \u001b[38;5;241m=\u001b[39m \u001b[38;5;28;01mNone\u001b[39;00m\n",
      "File \u001b[0;32m~/anaconda3/envs/py311ir/lib/python3.11/site-packages/snowflake/connector/cursor.py:1097\u001b[0m, in \u001b[0;36mSnowflakeCursor.execute\u001b[0;34m(self, command, params, _bind_stage, timeout, _exec_async, _no_retry, _do_reset, _put_callback, _put_azure_callback, _put_callback_output_stream, _get_callback, _get_azure_callback, _get_callback_output_stream, _show_progress_bar, _statement_params, _is_internal, _describe_only, _no_results, _is_put_get, _raise_put_get_error, _force_put_overwrite, _skip_upload_on_content_match, file_stream, num_statements, _dataframe_ast)\u001b[0m\n\u001b[1;32m   1093\u001b[0m     is_integrity_error \u001b[38;5;241m=\u001b[39m (\n\u001b[1;32m   1094\u001b[0m         code \u001b[38;5;241m==\u001b[39m \u001b[38;5;124m\"\u001b[39m\u001b[38;5;124m100072\u001b[39m\u001b[38;5;124m\"\u001b[39m\n\u001b[1;32m   1095\u001b[0m     )  \u001b[38;5;66;03m# NULL result in a non-nullable column\u001b[39;00m\n\u001b[1;32m   1096\u001b[0m     error_class \u001b[38;5;241m=\u001b[39m IntegrityError \u001b[38;5;28;01mif\u001b[39;00m is_integrity_error \u001b[38;5;28;01melse\u001b[39;00m ProgrammingError\n\u001b[0;32m-> 1097\u001b[0m     \u001b[43mError\u001b[49m\u001b[38;5;241;43m.\u001b[39;49m\u001b[43merrorhandler_wrapper\u001b[49m\u001b[43m(\u001b[49m\u001b[38;5;28;43mself\u001b[39;49m\u001b[38;5;241;43m.\u001b[39;49m\u001b[43mconnection\u001b[49m\u001b[43m,\u001b[49m\u001b[43m \u001b[49m\u001b[38;5;28;43mself\u001b[39;49m\u001b[43m,\u001b[49m\u001b[43m \u001b[49m\u001b[43merror_class\u001b[49m\u001b[43m,\u001b[49m\u001b[43m \u001b[49m\u001b[43merrvalue\u001b[49m\u001b[43m)\u001b[49m\n\u001b[1;32m   1098\u001b[0m \u001b[38;5;28;01mreturn\u001b[39;00m \u001b[38;5;28mself\u001b[39m\n",
      "File \u001b[0;32m~/anaconda3/envs/py311ir/lib/python3.11/site-packages/snowflake/connector/errors.py:284\u001b[0m, in \u001b[0;36mError.errorhandler_wrapper\u001b[0;34m(connection, cursor, error_class, error_value)\u001b[0m\n\u001b[1;32m    261\u001b[0m \u001b[38;5;129m@staticmethod\u001b[39m\n\u001b[1;32m    262\u001b[0m \u001b[38;5;28;01mdef\u001b[39;00m \u001b[38;5;21merrorhandler_wrapper\u001b[39m(\n\u001b[1;32m    263\u001b[0m     connection: SnowflakeConnection \u001b[38;5;241m|\u001b[39m \u001b[38;5;28;01mNone\u001b[39;00m,\n\u001b[0;32m   (...)\u001b[0m\n\u001b[1;32m    266\u001b[0m     error_value: \u001b[38;5;28mdict\u001b[39m[\u001b[38;5;28mstr\u001b[39m, Any],\n\u001b[1;32m    267\u001b[0m ) \u001b[38;5;241m-\u001b[39m\u001b[38;5;241m>\u001b[39m \u001b[38;5;28;01mNone\u001b[39;00m:\n\u001b[1;32m    268\u001b[0m \u001b[38;5;250m    \u001b[39m\u001b[38;5;124;03m\"\"\"Error handler wrapper that calls the errorhandler method.\u001b[39;00m\n\u001b[1;32m    269\u001b[0m \n\u001b[1;32m    270\u001b[0m \u001b[38;5;124;03m    Args:\u001b[39;00m\n\u001b[0;32m   (...)\u001b[0m\n\u001b[1;32m    281\u001b[0m \u001b[38;5;124;03m        exception to the first handler in that order.\u001b[39;00m\n\u001b[1;32m    282\u001b[0m \u001b[38;5;124;03m    \"\"\"\u001b[39;00m\n\u001b[0;32m--> 284\u001b[0m     handed_over \u001b[38;5;241m=\u001b[39m \u001b[43mError\u001b[49m\u001b[38;5;241;43m.\u001b[39;49m\u001b[43mhand_to_other_handler\u001b[49m\u001b[43m(\u001b[49m\n\u001b[1;32m    285\u001b[0m \u001b[43m        \u001b[49m\u001b[43mconnection\u001b[49m\u001b[43m,\u001b[49m\n\u001b[1;32m    286\u001b[0m \u001b[43m        \u001b[49m\u001b[43mcursor\u001b[49m\u001b[43m,\u001b[49m\n\u001b[1;32m    287\u001b[0m \u001b[43m        \u001b[49m\u001b[43merror_class\u001b[49m\u001b[43m,\u001b[49m\n\u001b[1;32m    288\u001b[0m \u001b[43m        \u001b[49m\u001b[43merror_value\u001b[49m\u001b[43m,\u001b[49m\n\u001b[1;32m    289\u001b[0m \u001b[43m    \u001b[49m\u001b[43m)\u001b[49m\n\u001b[1;32m    290\u001b[0m     \u001b[38;5;28;01mif\u001b[39;00m \u001b[38;5;129;01mnot\u001b[39;00m handed_over:\n\u001b[1;32m    291\u001b[0m         \u001b[38;5;28;01mraise\u001b[39;00m Error\u001b[38;5;241m.\u001b[39merrorhandler_make_exception(\n\u001b[1;32m    292\u001b[0m             error_class,\n\u001b[1;32m    293\u001b[0m             error_value,\n\u001b[1;32m    294\u001b[0m         )\n",
      "File \u001b[0;32m~/anaconda3/envs/py311ir/lib/python3.11/site-packages/snowflake/connector/errors.py:339\u001b[0m, in \u001b[0;36mError.hand_to_other_handler\u001b[0;34m(connection, cursor, error_class, error_value)\u001b[0m\n\u001b[1;32m    337\u001b[0m \u001b[38;5;28;01mif\u001b[39;00m cursor \u001b[38;5;129;01mis\u001b[39;00m \u001b[38;5;129;01mnot\u001b[39;00m \u001b[38;5;28;01mNone\u001b[39;00m:\n\u001b[1;32m    338\u001b[0m     cursor\u001b[38;5;241m.\u001b[39mmessages\u001b[38;5;241m.\u001b[39mappend((error_class, error_value))\n\u001b[0;32m--> 339\u001b[0m     \u001b[43mcursor\u001b[49m\u001b[38;5;241;43m.\u001b[39;49m\u001b[43merrorhandler\u001b[49m\u001b[43m(\u001b[49m\u001b[43mconnection\u001b[49m\u001b[43m,\u001b[49m\u001b[43m \u001b[49m\u001b[43mcursor\u001b[49m\u001b[43m,\u001b[49m\u001b[43m \u001b[49m\u001b[43merror_class\u001b[49m\u001b[43m,\u001b[49m\u001b[43m \u001b[49m\u001b[43merror_value\u001b[49m\u001b[43m)\u001b[49m\n\u001b[1;32m    340\u001b[0m     \u001b[38;5;28;01mreturn\u001b[39;00m \u001b[38;5;28;01mTrue\u001b[39;00m\n\u001b[1;32m    341\u001b[0m \u001b[38;5;28;01melif\u001b[39;00m connection \u001b[38;5;129;01mis\u001b[39;00m \u001b[38;5;129;01mnot\u001b[39;00m \u001b[38;5;28;01mNone\u001b[39;00m:\n",
      "File \u001b[0;32m~/anaconda3/envs/py311ir/lib/python3.11/site-packages/snowflake/connector/errors.py:215\u001b[0m, in \u001b[0;36mError.default_errorhandler\u001b[0;34m(connection, cursor, error_class, error_value)\u001b[0m\n\u001b[1;32m    213\u001b[0m errno \u001b[38;5;241m=\u001b[39m error_value\u001b[38;5;241m.\u001b[39mget(\u001b[38;5;124m\"\u001b[39m\u001b[38;5;124merrno\u001b[39m\u001b[38;5;124m\"\u001b[39m)\n\u001b[1;32m    214\u001b[0m done_format_msg \u001b[38;5;241m=\u001b[39m error_value\u001b[38;5;241m.\u001b[39mget(\u001b[38;5;124m\"\u001b[39m\u001b[38;5;124mdone_format_msg\u001b[39m\u001b[38;5;124m\"\u001b[39m)\n\u001b[0;32m--> 215\u001b[0m \u001b[38;5;28;01mraise\u001b[39;00m error_class(\n\u001b[1;32m    216\u001b[0m     msg\u001b[38;5;241m=\u001b[39merror_value\u001b[38;5;241m.\u001b[39mget(\u001b[38;5;124m\"\u001b[39m\u001b[38;5;124mmsg\u001b[39m\u001b[38;5;124m\"\u001b[39m),\n\u001b[1;32m    217\u001b[0m     errno\u001b[38;5;241m=\u001b[39m\u001b[38;5;28;01mNone\u001b[39;00m \u001b[38;5;28;01mif\u001b[39;00m errno \u001b[38;5;129;01mis\u001b[39;00m \u001b[38;5;28;01mNone\u001b[39;00m \u001b[38;5;28;01melse\u001b[39;00m \u001b[38;5;28mint\u001b[39m(errno),\n\u001b[1;32m    218\u001b[0m     sqlstate\u001b[38;5;241m=\u001b[39merror_value\u001b[38;5;241m.\u001b[39mget(\u001b[38;5;124m\"\u001b[39m\u001b[38;5;124msqlstate\u001b[39m\u001b[38;5;124m\"\u001b[39m),\n\u001b[1;32m    219\u001b[0m     sfqid\u001b[38;5;241m=\u001b[39merror_value\u001b[38;5;241m.\u001b[39mget(\u001b[38;5;124m\"\u001b[39m\u001b[38;5;124msfqid\u001b[39m\u001b[38;5;124m\"\u001b[39m),\n\u001b[1;32m    220\u001b[0m     query\u001b[38;5;241m=\u001b[39merror_value\u001b[38;5;241m.\u001b[39mget(\u001b[38;5;124m\"\u001b[39m\u001b[38;5;124mquery\u001b[39m\u001b[38;5;124m\"\u001b[39m),\n\u001b[1;32m    221\u001b[0m     done_format_msg\u001b[38;5;241m=\u001b[39m(\n\u001b[1;32m    222\u001b[0m         \u001b[38;5;28;01mNone\u001b[39;00m \u001b[38;5;28;01mif\u001b[39;00m done_format_msg \u001b[38;5;129;01mis\u001b[39;00m \u001b[38;5;28;01mNone\u001b[39;00m \u001b[38;5;28;01melse\u001b[39;00m \u001b[38;5;28mbool\u001b[39m(done_format_msg)\n\u001b[1;32m    223\u001b[0m     ),\n\u001b[1;32m    224\u001b[0m     connection\u001b[38;5;241m=\u001b[39mconnection,\n\u001b[1;32m    225\u001b[0m     cursor\u001b[38;5;241m=\u001b[39mcursor,\n\u001b[1;32m    226\u001b[0m )\n",
      "\u001b[0;31mSnowparkSQLException\u001b[0m: (1304): 01ba822c-0100-0001-0000-001400011426: 000603 (XX000): 01ba822c-0100-0001-0000-001400011426: SQL execution internal error:\nNON_FATAL: DataframeExecutionUtils::executeDataframe():dataframe_processing_failure(com.snowflake.core.DataframeExecutionUtils:executeDataframe:55) - Dataframe Execution Failed caused by exception: [java.lang.RuntimeException: java.util.concurrent.ExecutionException: java.lang.RuntimeException: Expression type not implemented yet: sp_dataframe_join_table_function at com.snowflake.resources.dataframe.NotebookDataframeProcessor.evalImpl(NotebookDataframeProcessor.java:365)]"
     ]
    }
   ],
   "source": [
    "# Same UDTF logic but this cell is to display the AST information.\n",
    "with session.ast_listener() as al:\n",
    "    # Register the UDTF.\n",
    "    set_transmit_query_to_server(True)\n",
    "    color_clarity_udtf = udtf(ColorClarityDetails, output_schema=output_schema, input_types=[StringType(), StringType()])\n",
    "    set_transmit_query_to_server(False)\n",
    "    \n",
    "    # Calling the UDTF.\n",
    "    df = session.table(\"t_diamonds\")\n",
    "    df_color_clarity_details = df.join_table_function(\n",
    "        color_clarity_udtf(df[\"color\"], df[\"clarity\"])\n",
    "    ).collect()\n",
    "    df_color_clarity_details\n",
    "print(\"Number of AST messages recorded: \", len(al.base64_batches))"
   ]
  },
  {
   "cell_type": "code",
   "execution_count": 41,
   "id": "75a0a07e-68ca-4f06-b49b-6050e56b3e29",
   "metadata": {},
   "outputs": [
    {
     "name": "stdout",
     "output_type": "stream",
     "text": [
      "[]\n"
     ]
    }
   ],
   "source": [
    "# Print the AST recorded:\n",
    "print(al.base64_batches)"
   ]
  },
  {
   "cell_type": "code",
   "execution_count": null,
   "id": "779563df-e20e-451f-8cad-03287ef06120",
   "metadata": {},
   "outputs": [],
   "source": [
    "# In plaintext:\n",
    "message = proto.Request()\n",
    "message.ParseFromString(base64.b64decode(\"\\n\".join(al.base64_batches)).strip())\n",
    "message"
   ]
  }
 ],
 "metadata": {
  "kernelspec": {
   "display_name": "Python 3 (ipykernel)",
   "language": "python",
   "name": "python3"
  },
  "language_info": {
   "codemirror_mode": {
    "name": "ipython",
    "version": 3
   },
   "file_extension": ".py",
   "mimetype": "text/x-python",
   "name": "python",
   "nbconvert_exporter": "python",
   "pygments_lexer": "ipython3",
   "version": "3.11.9"
  }
 },
 "nbformat": 4,
 "nbformat_minor": 5
}
