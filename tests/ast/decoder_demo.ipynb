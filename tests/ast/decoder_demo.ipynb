{
 "cells": [
  {
   "metadata": {},
   "cell_type": "markdown",
   "source": "# Snowpark AST Decoder Demo",
   "id": "fc80056dcc47a512"
  },
  {
   "cell_type": "code",
   "id": "initial_id",
   "metadata": {
    "collapsed": true,
    "ExecuteTime": {
     "end_time": "2025-02-18T19:03:58.740548Z",
     "start_time": "2025-02-18T19:03:58.731676Z"
    }
   },
   "source": [
    "from snowflake.snowpark import Session\n",
    "from snowflake.snowpark._internal.utils import set_transmit_query_to_server\n",
    "from snowflake.snowpark._internal.utils import set_ast_state, AstFlagSource\n",
    "\n",
    "# Connecting to local machine running the server.\n",
    "CONNECTION_PARAMETERS = {\n",
    "    \"account\": \"s3testaccount\",\n",
    "    \"host\": \"snowflake.reg.local\",\n",
    "    \"user\": \"snowman\",\n",
    "    \"password\": \"test\",\n",
    "    \"role\": \"sysadmin\",\n",
    "    \"warehouse\": \"regress\",\n",
    "    \"database\": \"testdb\",\n",
    "    \"schema\": \"public\",\n",
    "    \"port\": \"53200\",\n",
    "    \"protocol\": \"http\",\n",
    "}"
   ],
   "outputs": [],
   "execution_count": 2
  },
  {
   "metadata": {},
   "cell_type": "code",
   "outputs": [],
   "execution_count": null,
   "source": [
    "session = (\n",
    "    Session.builder.configs(CONNECTION_PARAMETERS)\n",
    "    .config(\"local_testing\", False)\n",
    "    .getOrCreate()\n",
    ")"
   ],
   "id": "383d69727e6487c8"
  },
  {
   "metadata": {},
   "cell_type": "markdown",
   "source": "### Enabling Required Parameters",
   "id": "afc7aca9836deed2"
  },
  {
   "metadata": {},
   "cell_type": "code",
   "outputs": [],
   "execution_count": null,
   "source": [
    "# ENABLE_DATAFRAME should be set to True in the account level:\n",
    "# this parameter controls whether to use the SQL query or AST on the server-side.\n",
    "session.sql(\"show parameters like 'ENABLE_DATAFRAME' in account\").show()"
   ],
   "id": "198f3265ea4d36d8"
  },
  {
   "metadata": {},
   "cell_type": "code",
   "outputs": [],
   "execution_count": null,
   "source": [
    "# The Dataframe Processor relies on a Snowflake Notebook for execution:\n",
    "session.sql(\"show notebooks;\").show()"
   ],
   "id": "a16f06748ef196c0"
  },
  {
   "metadata": {},
   "cell_type": "code",
   "outputs": [],
   "execution_count": null,
   "source": [
    "# Since the decoder logic uses Python 3.10+ features, ensure that the notebook\n",
    "# engine version uses Python 3.10+.\n",
    "session.sql(\"show parameters like 'NOTEBOOK_ENGINE_VERSION'\").show()"
   ],
   "id": "81c60ed5321d6541"
  },
  {
   "metadata": {},
   "cell_type": "code",
   "outputs": [],
   "execution_count": null,
   "source": [
    "# To record the ASTs, we need to enable the AST flag:\n",
    "AST_ENABLED = True\n",
    "set_ast_state(AstFlagSource.TEST, AST_ENABLED)"
   ],
   "id": "7698abd7080b9133"
  },
  {
   "metadata": {},
   "cell_type": "code",
   "outputs": [],
   "execution_count": null,
   "source": [
    "# This helper (flag setter) controls whether to send the actual Snowpark query\n",
    "# or a fake query to the server.\n",
    "# Transmits \"SELECT 'This is a fake query!!';\"\n",
    "set_transmit_query_to_server(False)"
   ],
   "id": "f82bcea686e0493"
  },
  {
   "metadata": {},
   "cell_type": "markdown",
   "source": "### Testing a Basic Snowpark Query",
   "id": "b6b5ac5d0aff2681"
  },
  {
   "metadata": {},
   "cell_type": "code",
   "outputs": [],
   "execution_count": null,
   "source": [
    "# Testing a basic Snowpark query with the AST enabled:\n",
    "with session.ast_listener() as al:\n",
    "    result = session.create_dataframe([1, 2, 3, 4]).collect()\n",
    "    print(result)"
   ],
   "id": "d151db73ec950fe0"
  },
  {
   "metadata": {},
   "cell_type": "code",
   "outputs": [],
   "execution_count": null,
   "source": [
    "# The recorded AST:\n",
    "print(al.base64_batches)"
   ],
   "id": "8cb8cee69b433cc1"
  },
  {
   "metadata": {},
   "cell_type": "markdown",
   "source": "### Testing a More Complex Example",
   "id": "43f7b554d81ee6ef"
  },
  {
   "metadata": {},
   "cell_type": "code",
   "outputs": [],
   "execution_count": null,
   "source": [
    "# Create a table.\n",
    "session.sql(\"create or replace temp table t_diamonds (x int, y int, z int, cut string)\").collect()"
   ],
   "id": "d63051c9d68aa6cf"
  },
  {
   "metadata": {},
   "cell_type": "code",
   "outputs": [],
   "execution_count": null,
   "source": [
    "# Insert data into the table.\n",
    "session.sql(\"insert into t_diamonds values (1, 2, 3, 'Ideal')\").collect()\n",
    "session.sql(\"insert into t_diamonds values (4, 5, 6, 'Premium')\").collect()\n",
    "session.sql(\"insert into t_diamonds values (7, 8, 9, 'Good')\").collect()\n",
    "session.sql(\"insert into t_diamonds values (10, 11, 12, 'Very Good')\").collect()\n",
    "session.sql(\"insert into t_diamonds values (13, 14, 15, 'Fair')\").collect()\n",
    "session.sql(\"insert into t_diamonds values (16, 17, 18, 'Ideal')\").collect()\n",
    "session.sql(\"insert into t_diamonds values (19, 20, 21, 'Premium')\").collect()\n",
    "session.sql(\"insert into t_diamonds values (22, 23, 24, 'Good')\").collect()"
   ],
   "id": "b48a35bfabc4bca4"
  },
  {
   "metadata": {},
   "cell_type": "code",
   "outputs": [],
   "execution_count": null,
   "source": [
    "# Create a dataframe from the table.\n",
    "df = session.table(\"t_diamonds\")\n",
    "df.collect()"
   ],
   "id": "8801b1cfb5517f3e"
  },
  {
   "metadata": {},
   "cell_type": "code",
   "outputs": [],
   "execution_count": null,
   "source": [
    "# Perform some operations on the dataframe.\n",
    "df.filter(df[\"cut\"] == \"Ideal\").select(df[\"x\"], df[\"y\"] + 1).collect()"
   ],
   "id": "aec533bf91e47b7f"
  },
  {
   "metadata": {},
   "cell_type": "code",
   "outputs": [],
   "execution_count": null,
   "source": [
    "# Perform a simple aggregation.\n",
    "df.group_by(df[\"cut\"]).agg({\"x\": \"sum\", \"y\": \"avg\", \"z\": \"max\"}).collect()"
   ],
   "id": "465efc772b670108"
  },
  {
   "metadata": {},
   "cell_type": "code",
   "outputs": [],
   "execution_count": null,
   "source": [
    "# Perform a simple join.\n",
    "df2 = session.table(\"t_diamonds\")\n",
    "df2 = df2.with_column(\"new_col\", df2[\"x\"] * 2)\n",
    "df.join(df2, df[\"x\"] == df2[\"x\"]).select(df[\"x\"], df2[\"new_col\"]).collect()"
   ],
   "id": "4c4b236730e4fd2f"
  }
 ],
 "metadata": {
  "kernelspec": {
   "display_name": "Python 3",
   "language": "python",
   "name": "python3"
  },
  "language_info": {
   "codemirror_mode": {
    "name": "ipython",
    "version": 2
   },
   "file_extension": ".py",
   "mimetype": "text/x-python",
   "name": "python",
   "nbconvert_exporter": "python",
   "pygments_lexer": "ipython2",
   "version": "2.7.6"
  }
 },
 "nbformat": 4,
 "nbformat_minor": 5
}
