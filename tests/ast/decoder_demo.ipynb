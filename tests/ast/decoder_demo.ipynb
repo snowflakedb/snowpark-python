{
 "cells": [
  {
   "cell_type": "markdown",
   "id": "fc80056dcc47a512",
   "metadata": {},
   "source": [
    "# Snowpark AST Decoder Demo"
   ]
  },
  {
   "cell_type": "code",
   "execution_count": null,
   "id": "initial_id",
   "metadata": {
    "ExecuteTime": {
     "end_time": "2025-02-19T19:57:41.958129Z",
     "start_time": "2025-02-19T19:57:41.955568Z"
    }
   },
   "outputs": [],
   "source": [
    "from snowflake.snowpark import Session\n",
    "from snowflake.snowpark._internal.utils import set_transmit_query_to_server\n",
    "from snowflake.snowpark._internal.utils import set_ast_state, AstFlagSource\n",
    "import logging\n",
    "from snowflake.snowpark.functions import avg, count, max, min, udaf, udtf\n",
    "from snowflake.snowpark.types import DoubleType, FloatType, IntegerType, StringType, StructField, StructType\n",
    "import base64\n",
    "import snowflake.snowpark._internal.proto.generated.ast_pb2 as proto\n",
    "\n",
    "# For displaying images.\n",
    "from IPython.display import Image\n",
    "from IPython.core.display import HTML \n",
    "\n",
    "# Connecting to my cloud workspace running the server.\n",
    "CONNECTION_PARAMETERS = {\n",
    "    \"account\": \"s3testaccount\",\n",
    "    \"host\": \"snowflake.reg.local\",\n",
    "    \"user\": \"snowman\",\n",
    "    \"password\": \"test\",\n",
    "    \"role\": \"sysadmin\",\n",
    "    \"warehouse\": \"regress\",\n",
    "    \"database\": \"testdb\",\n",
    "    \"schema\": \"public\",\n",
    "    \"port\": \"53200\",\n",
    "    \"protocol\": \"http\",\n",
    "}"
   ]
  },
  {
   "cell_type": "code",
   "execution_count": null,
   "id": "383d69727e6487c8",
   "metadata": {
    "ExecuteTime": {
     "end_time": "2025-02-19T19:57:44.081691Z",
     "start_time": "2025-02-19T19:57:44.079323Z"
    }
   },
   "outputs": [],
   "source": [
    "session = (\n",
    "    Session.builder.configs(CONNECTION_PARAMETERS)\n",
    "    .config(\"local_testing\", False)\n",
    "    .getOrCreate()\n",
    ")"
   ]
  },
  {
   "cell_type": "code",
   "execution_count": null,
   "id": "8abbb0b4-8eff-4406-9b97-f744b7f7f5b2",
   "metadata": {},
   "outputs": [],
   "source": [
    "# Configure logging.\n",
    "logging.basicConfig(level=logging.INFO)  # Set to INFO or DEBUG for more details\n",
    "logger = logging.getLogger(\"snowflake.snowpark\")\n",
    "\n",
    "# Verify logging level.\n",
    "logger.setLevel(logging.INFO)"
   ]
  },
  {
   "cell_type": "markdown",
   "id": "afc7aca9836deed2",
   "metadata": {},
   "source": [
    "## Enabling Required Parameters"
   ]
  },
  {
   "cell_type": "code",
   "execution_count": null,
   "id": "198f3265ea4d36d8",
   "metadata": {
    "ExecuteTime": {
     "end_time": "2025-02-19T19:57:45.915835Z",
     "start_time": "2025-02-19T19:57:45.675094Z"
    }
   },
   "outputs": [],
   "source": [
    "# ENABLE_DATAFRAME should be set to True in the account level:\n",
    "# this parameter controls whether to use the SQL query or AST on the server-side.\n",
    "session.sql(\"show parameters like 'ENABLE_DATAFRAME' in account\").show()"
   ]
  },
  {
   "cell_type": "code",
   "execution_count": null,
   "id": "a16f06748ef196c0",
   "metadata": {},
   "outputs": [],
   "source": [
    "# The Dataframe Processor relies on a Snowflake Notebook for execution:\n",
    "session.sql(\"show notebooks;\").show()"
   ]
  },
  {
   "cell_type": "code",
   "execution_count": null,
   "id": "81c60ed5321d6541",
   "metadata": {},
   "outputs": [],
   "source": [
    "# Since the decoder logic uses Python 3.10+ features, ensure that the notebook engine version uses Python 3.10+.\n",
    "session.sql(\"show parameters like 'NOTEBOOK_ENGINE_VERSION'\").show()"
   ]
  },
  {
   "cell_type": "code",
   "execution_count": null,
   "id": "7698abd7080b9133",
   "metadata": {
    "ExecuteTime": {
     "end_time": "2025-02-19T01:19:44.121339Z",
     "start_time": "2025-02-19T01:19:44.119087Z"
    }
   },
   "outputs": [],
   "source": [
    "# To record the ASTs, we need to enable the AST flag:\n",
    "AST_ENABLED = True\n",
    "set_ast_state(AstFlagSource.TEST, AST_ENABLED)"
   ]
  },
  {
   "cell_type": "code",
   "execution_count": null,
   "id": "f82bcea686e0493",
   "metadata": {
    "ExecuteTime": {
     "end_time": "2025-02-19T01:19:45.025764Z",
     "start_time": "2025-02-19T01:19:45.023767Z"
    }
   },
   "outputs": [],
   "source": [
    "# This helper (flag setter) controls whether to send the actual Snowpark query or a fake query to the server.\n",
    "# Transmits \"SELECT 'This is a fake query!!';\".\n",
    "set_transmit_query_to_server(False)"
   ]
  },
  {
   "cell_type": "markdown",
   "id": "b6b5ac5d0aff2681",
   "metadata": {},
   "source": [
    "## Testing a Basic Snowpark Query"
   ]
  },
  {
   "cell_type": "code",
   "execution_count": null,
   "id": "d151db73ec950fe0",
   "metadata": {},
   "outputs": [],
   "source": [
    "# Testing a basic Snowpark query with the AST enabled:\n",
    "with session.ast_listener() as al:\n",
    "    result = session.create_dataframe([1, 2, 3, 4]).collect()\n",
    "    print(result)"
   ]
  },
  {
   "cell_type": "code",
   "execution_count": null,
   "id": "8cb8cee69b433cc1",
   "metadata": {},
   "outputs": [],
   "source": [
    "# The recorded AST:\n",
    "print(al.base64_batches)"
   ]
  },
  {
   "cell_type": "code",
   "execution_count": null,
   "id": "fb5f522b-9067-4522-8823-048f77b7505d",
   "metadata": {},
   "outputs": [],
   "source": [
    "# In plaintext:\n",
    "message = proto.Request()\n",
    "message.ParseFromString(base64.b64decode(al.base64_batches[0]))\n",
    "message"
   ]
  },
  {
   "cell_type": "markdown",
   "id": "43f7b554d81ee6ef",
   "metadata": {},
   "source": [
    "## Testing a More Complex Example"
   ]
  },
  {
   "cell_type": "code",
   "execution_count": null,
   "id": "d63051c9d68aa6cf",
   "metadata": {},
   "outputs": [],
   "source": [
    "# Create a table for diamonds.\n",
    "session.sql(\"\"\"\n",
    "    CREATE OR REPLACE TABLE diamonds (\n",
    "        'id' INTEGER,\n",
    "        'carat' FLOAT,\n",
    "        'cut' STRING,\n",
    "        'color' STRING,\n",
    "        'clarity' STRING,\n",
    "        'depth' FLOAT,\n",
    "        'table' INTEGER,\n",
    "        'price' INTEGER,\n",
    "        'x' FLOAT,\n",
    "        'y' FLOAT,\n",
    "        'z' FLOAT\n",
    "    );\n",
    "\"\"\")"
   ]
  },
  {
   "cell_type": "code",
   "execution_count": null,
   "id": "b48a35bfabc4bca4",
   "metadata": {},
   "outputs": [],
   "source": [
    "# Table data!\n",
    "data = [\n",
    "    [1, 0.23, \"Ideal\", \"E\", \"SI2\", 61.5, 55, 326, 3.95, 3.98, 2.43],\n",
    "    [2, 0.21, \"Premium\", \"E\", \"SI1\", 59.8, 61, 326, 3.89, 3.84, 2.31],\n",
    "    [3, 0.23, \"Good\", \"E\", \"VS1\", 56.9, 65, 327, 4.05, 4.07, 2.31],\n",
    "    [4, 0.29, \"Premium\", \"I\", \"VS2\", 62.4, 58, 334, 4.2, 4.23, 2.63],\n",
    "    [5, 0.31, \"Good\", \"J\", \"SI2\", 63.3, 58, 335, 4.34, 4.35, 2.75],\n",
    "    [6, 0.24, \"Very Good\", \"J\", \"VVS2\", 62.8, 57, 336, 3.94, 3.96, 2.48],\n",
    "    [7, 0.24, \"Very Good\", \"I\", \"VVS1\", 62.3, 57, 336, 3.95, 3.98, 2.47],\n",
    "    [8, 0.26, \"Very Good\", \"H\", \"SI1\", 61.9, 55, 337, 4.07, 4.11, 2.53],\n",
    "    [9, 0.22, \"Fair\", \"E\", \"VS2\", 65.1, 61, 337, 3.87, 3.78, 2.49],\n",
    "    [10, 0.23, \"Very Good\", \"H\", \"VS1\", 59.4, 61, 338, 4.00, 4.05, 2.39],\n",
    "    [11, 0.3, \"Good\", \"J\", \"SI1\", 64.2, 55, 339, 4.25, 4.28, 2.73],\n",
    "    [12, 0.23, \"Ideal\", \"J\", \"VS1\", 62.8, 56, 340, 3.93, 3.9, 2.46],\n",
    "    [13, 0.22, \"Premium\", \"F\", \"SI1\", 60.4, 61, 342, 3.88, 3.84, 2.33],\n",
    "    [14, 0.31, \"Ideal\", \"J\", \"SI2\", 62.2, 54, 344, 4.35, 4.37, 2.71],\n",
    "    [15, 0.2, \"Premium\", \"E\", \"SI2\", 60.2, 62, 345, 3.79, 3.75, 2.27],\n",
    "    [16, 0.32, \"Premium\", \"E\", \"I1\", 60.9, 58, 345, 4.38, 4.42, 2.68],\n",
    "    [17, 0.3, \"Ideal\", \"I\", \"SI2\", 62.5, 54, 348, 4.31, 4.34, 2.68],\n",
    "    [18, 0.3, \"Good\", \"J\", \"SI1\", 63.4, 54, 351, 4.23, 4.29, 2.7],\n",
    "    [19, 0.3, \"Good\", \"J\", \"SI1\", 63.8, 56, 351, 4.23, 4.26, 2.71],\n",
    "    [20, 0.3, \"Very Good\", \"J\", \"SI1\", 62.7, 59, 351, 4.21, 4.27, 2.66],\n",
    "    [21, 0.3, \"Good\", \"I\", \"SI2\", 63.3, 56, 351, 4.26, 4.3, 2.71],\n",
    "    [22, 0.23, \"Very Good\", \"E\", \"VS2\", 63.8, 55, 352, 3.85, 3.92, 2.48],\n",
    "    [23, 0.23, \"Very Good\", \"H\", \"VS1\", 61.0, 57, 353, 3.94, 3.96, 2.41],\n",
    "    [24, 0.31, \"Very Good\", \"J\", \"SI1\", 59.4, 62, 353, 4.39, 4.43, 2.62],\n",
    "    [25, 0.31, \"Very Good\", \"J\", \"SI1\", 58.1, 62, 353, 4.44, 4.47, 2.59],\n",
    "    [26, 0.23, \"Very Good\", \"G\", \"VVS2\", 60.4, 58, 354, 3.97, 4.01, 2.41],\n",
    "    [27, 0.24, \"Premium\", \"I\", \"VS1\", 62.5, 57, 355, 3.97, 3.94, 2.47],\n",
    "    [28, 0.3, \"Very Good\", \"J\", \"VS2\", 62.2, 57, 357, 4.28, 4.3, 2.67],\n",
    "    [29, 0.23, \"Very Good\", \"D\", \"VS2\", 60.5, 61, 357, 3.96, 3.97, 2.4]\n",
    "]\n",
    "\n",
    "# Define the table schema.\n",
    "schema = StructType([\n",
    "    StructField(\"id\", IntegerType()),\n",
    "    StructField(\"carat\", DoubleType()),\n",
    "    StructField(\"cut\", StringType()),\n",
    "    StructField(\"color\", StringType()),\n",
    "    StructField(\"clarity\", StringType()),\n",
    "    StructField(\"depth\", DoubleType()),\n",
    "    StructField(\"table\", IntegerType()),\n",
    "    StructField(\"price\", IntegerType()),\n",
    "    StructField(\"x\", DoubleType()),\n",
    "    StructField(\"y\", DoubleType()),\n",
    "    StructField(\"z\", DoubleType())\n",
    "])"
   ]
  },
  {
   "cell_type": "code",
   "execution_count": null,
   "id": "2c4bd559-f23b-48f6-a2e3-40cba9713cee",
   "metadata": {},
   "outputs": [],
   "source": [
    "# Creating the dataframe.\n",
    "df = session.create_dataframe(data, schema=schema)\n",
    "df.limit(5).collect()"
   ]
  },
  {
   "cell_type": "code",
   "execution_count": null,
   "id": "8801b1cfb5517f3e",
   "metadata": {},
   "outputs": [],
   "source": [
    "# Writing the dataframe to a table.\n",
    "df.write.save_as_table(\"t_diamonds\", mode=\"overwrite\")"
   ]
  },
  {
   "cell_type": "markdown",
   "id": "125e0b6a-cec9-41b7-8d6c-5cdda40fec43",
   "metadata": {},
   "source": [
    "## Testing some operations"
   ]
  },
  {
   "cell_type": "code",
   "execution_count": null,
   "id": "aec533bf91e47b7f",
   "metadata": {},
   "outputs": [],
   "source": [
    "# Count of diamonds per cut.\n",
    "with session.ast_listener() as al:\n",
    "    df_count_per_cut = df.group_by(\"cut\").agg(count(\"*\").alias(\"number of diamonds\"))\n",
    "    print(df_count_per_cut.collect())"
   ]
  },
  {
   "cell_type": "code",
   "execution_count": null,
   "id": "fdddec8a-6732-4e4e-8870-cbe9083f5939",
   "metadata": {},
   "outputs": [],
   "source": [
    "print(al.base64_batches)"
   ]
  },
  {
   "cell_type": "code",
   "execution_count": null,
   "id": "dca2ac88-032a-4d1e-9335-c6e7eae2c56e",
   "metadata": {},
   "outputs": [],
   "source": [
    "# In plaintext:\n",
    "message = proto.Request()\n",
    "message.ParseFromString(base64.b64decode(al.base64_batches[0]))\n",
    "message"
   ]
  },
  {
   "cell_type": "code",
   "execution_count": null,
   "id": "465efc772b670108",
   "metadata": {},
   "outputs": [],
   "source": [
    "# Average, maximum, and minimum price per cut.\n",
    "df_avg_price_per_cut = df.group_by(\"cut\").agg(\n",
    "    avg(\"price\").alias(\"avg_price\"), \n",
    "    max(\"price\").alias(\"max_price\"), \n",
    "    min(\"price\").alias(\"min_price\")\n",
    ")\n",
    "df_avg_price_per_cut.sort(\"avg_price\", ascending=False).collect()"
   ]
  },
  {
   "cell_type": "code",
   "execution_count": null,
   "id": "d0a10dd3-1cb4-4601-b9ef-42d662ad9d8a",
   "metadata": {},
   "outputs": [],
   "source": [
    "Image(url=\"https://assets.vrai.com/25216/1692052168-diamond-cut-1-3.jpg\")\n",
    "# source: https://www.vrai.com/journal/post/diamond-cut"
   ]
  },
  {
   "cell_type": "code",
   "execution_count": null,
   "id": "1193057f-2b34-4328-bcde-0f0a4267dbe0",
   "metadata": {},
   "outputs": [],
   "source": [
    "# Depth and table are one way to determine the quality of a diamond.\n",
    "df = session.table(\"t_diamonds\")\n",
    "df_aggregated = df.group_by(\"cut\").agg(\n",
    "    avg(\"depth\").alias(\"avg_depth\"),\n",
    "    avg(\"table\").alias(\"avg_table\"),\n",
    "    avg(df[\"depth\"] / df[\"table\"]).alias(\"avg_depth_table_ratio\")\n",
    ")\n",
    "df_aggregated.sort(\"avg_depth_table_ratio\", ascending=False).collect()"
   ]
  },
  {
   "cell_type": "markdown",
   "id": "dbb1f400-9b8f-4e97-a0c8-a6777a80b82d",
   "metadata": {},
   "source": [
    "## Performing a join"
   ]
  },
  {
   "cell_type": "code",
   "execution_count": null,
   "id": "3dbbd7d1-5b68-49a9-99b9-d49af491bec1",
   "metadata": {},
   "outputs": [],
   "source": [
    "Image(url=\"https://www.brilliance.com/front/img/brilliance-diamond-cut-chart.jpg\")\n",
    "# source: https://www.brilliance.com/education/diamonds/cut"
   ]
  },
  {
   "cell_type": "code",
   "execution_count": null,
   "id": "4c4b236730e4fd2f",
   "metadata": {},
   "outputs": [],
   "source": [
    "cut_info_data = [\n",
    "    (\"Ideal\", \"Highest quality cut\"),\n",
    "    (\"Premium\", \"High quality cut, but not as much as Ideal\"),\n",
    "    (\"Very Good\", \"Generally high quality cut\"),\n",
    "    (\"Good\", \"Average cut with some flaws\"),\n",
    "    (\"Fair\", \"Below average cut with noticeable flaws\")\n",
    "]\n",
    "\n",
    "cut_info_schema = StructType([\n",
    "    StructField(\"cut\", StringType()),\n",
    "    StructField(\"description\", StringType())\n",
    "])\n",
    "\n",
    "# Create a DataFrame with cut information.\n",
    "df_cut_info = session.create_dataframe(cut_info_data, schema=cut_info_schema)\n",
    "df_cut_info.collect()"
   ]
  },
  {
   "cell_type": "code",
   "execution_count": null,
   "id": "711ba330-19af-4470-9e7d-1a95ed28549f",
   "metadata": {},
   "outputs": [],
   "source": [
    "# Write the data to a new table.\n",
    "df_cut_info.write.save_as_table(\"cut_info\", mode=\"overwrite\")"
   ]
  },
  {
   "cell_type": "code",
   "execution_count": null,
   "id": "cf6a4cad-8017-466b-b03e-c2f2d35a7694",
   "metadata": {},
   "outputs": [],
   "source": [
    "# Load the cut_info table into a DataFrame.\n",
    "df_cut_info = session.table(\"cut_info\")\n",
    "df_cut_info.limit(2).collect()"
   ]
  },
  {
   "cell_type": "code",
   "execution_count": null,
   "id": "64b2b347-f9fc-434f-a4ed-62a3442d6169",
   "metadata": {},
   "outputs": [],
   "source": [
    "# Join the diamonds DataFrame with the cut_info DataFrame.\n",
    "df_joined = df.join(df_cut_info, df[\"cut\"] == df_cut_info[\"cut\"], how=\"inner\")\n",
    "\n",
    "# Select the columns to display.\n",
    "df_joined = df_joined.select(df[\"id\"], df[\"carat\"], df[\"cut\"], df_cut_info[\"description\"])\n",
    "\n",
    "# Show the results.\n",
    "df_joined.collect()"
   ]
  },
  {
   "cell_type": "markdown",
   "id": "d20b496a-08d4-46d3-b54b-305152fd1fb5",
   "metadata": {},
   "source": [
    "## Testing a UDF"
   ]
  },
  {
   "cell_type": "code",
   "execution_count": null,
   "id": "42a2dac3-cbcf-4cfd-8451-e2f100ec3d31",
   "metadata": {},
   "outputs": [],
   "source": [
    "# Testing a simple UDF.\n",
    "def calculate_diamond_volume(x: float, y: float, z: float) -> float:\n",
    "    return x * y * z\n",
    "\n",
    "# Register the UDF.\n",
    "set_transmit_query_to_server(True)\n",
    "calculate_diamond_volume_udf = session.udf.register(\n",
    "    func=calculate_diamond_volume,\n",
    "    return_type=FloatType(),\n",
    "    input_types=[FloatType(), FloatType(), FloatType()],\n",
    "    name=\"calculate_diamond_volume\",\n",
    "    is_permanent=False,\n",
    "    replace=True\n",
    ")\n",
    "set_transmit_query_to_server(False)\n",
    "\n",
    "# Use the UDF to calculate the volume of diamonds in table t_diamonds.\n",
    "df_diamonds = session.table(\"t_diamonds\")\n",
    "df_volumes = df_diamonds.with_column(\n",
    "    \"volume\",\n",
    "    calculate_diamond_volume_udf(\n",
    "        df_diamonds[\"x\"], \n",
    "        df_diamonds[\"y\"], \n",
    "        df_diamonds[\"z\"]\n",
    "    )\n",
    ")"
   ]
  },
  {
   "cell_type": "code",
   "execution_count": null,
   "id": "a9cd9068-de00-4af4-828c-3a6863b37239",
   "metadata": {},
   "outputs": [],
   "source": [
    "df_volumes.select(\"id\", \"carat\", \"volume\").order_by(\"volume\", ascending=False).collect()"
   ]
  },
  {
   "cell_type": "markdown",
   "id": "6cf3389b-2885-4af7-89c2-5017c809f116",
   "metadata": {},
   "source": [
    "## Testing a UDAF"
   ]
  },
  {
   "cell_type": "code",
   "execution_count": null,
   "id": "403a56a0-a697-4e63-b48f-ed163988adbd",
   "metadata": {},
   "outputs": [],
   "source": [
    "# Define the UDAF class.\n",
    "class AveragePricePerCarat:\n",
    "    def __init__(self):\n",
    "        self.total_price = 0.0\n",
    "        self.total_carat = 0.0\n",
    "\n",
    "    @property\n",
    "    def aggregate_state(self):\n",
    "        return self.total_price, self.total_carat\n",
    "\n",
    "    def accumulate(self, price, carat):\n",
    "        if carat > 0:\n",
    "            self.total_price += price\n",
    "            self.total_carat += carat\n",
    "\n",
    "    def merge(self, other):\n",
    "        self.total_price += other[0]\n",
    "        self.total_carat += other[1]\n",
    "\n",
    "    def finish(self):\n",
    "        return self.total_price / self.total_carat if self.total_carat > 0 else 0.0\n",
    "\n",
    "# Register the UDAF.\n",
    "set_transmit_query_to_server(True)\n",
    "avg_price_per_carat_udaf = udaf(AveragePricePerCarat, return_type=FloatType(), input_types=[FloatType(), FloatType()])\n",
    "set_transmit_query_to_server(False)"
   ]
  },
  {
   "cell_type": "code",
   "execution_count": null,
   "id": "c951abe2-52bc-4370-8357-7e911289a40c",
   "metadata": {},
   "outputs": [],
   "source": [
    "# Use the UDAF on the diamonds DataFrame.\n",
    "df = session.table(\"t_diamonds\")\n",
    "df_avg_price_per_carat = df.group_by(df[\"cut\"]).agg(avg_price_per_carat_udaf(df[\"price\"], df[\"carat\"]).alias(\"avg_price_per_carat\"))\n",
    "\n",
    "# Show the results.\n",
    "df_avg_price_per_carat.order_by(\"avg_price_per_carat\", ascending=False).collect()"
   ]
  },
  {
   "cell_type": "markdown",
   "id": "24440dc2-7656-4f27-ad94-0bb9f3222b88",
   "metadata": {},
   "source": [
    "## Testing a UDTF"
   ]
  },
  {
   "cell_type": "code",
   "execution_count": null,
   "id": "a461ef0f-786b-47b6-a41e-03d94a3eb7e9",
   "metadata": {},
   "outputs": [],
   "source": [
    "# This is a UDTF which provides information on the color and clarity grading of a diamond!"
   ]
  },
  {
   "cell_type": "code",
   "execution_count": null,
   "id": "2a01df33-f9a0-4b8b-96c5-59514244cd7a",
   "metadata": {},
   "outputs": [],
   "source": [
    "Image(url=\"https://4cs.gia.edu/wp-content/uploads/2024/07/02_Color-D-Z-Scale_960x800.jpg\")\n",
    "# source: https://4cs.gia.edu/en-us/diamond-color/"
   ]
  },
  {
   "cell_type": "code",
   "execution_count": null,
   "id": "61250875-525e-4e48-b543-ed75b4ed0363",
   "metadata": {},
   "outputs": [],
   "source": [
    "Image(url=\"https://lisarobinjewelry.com/cdn/shop/files/Diamond_Clarity_Scale_Graphic_1600x.jpg?v=1686052968\")\n",
    "# source: https://lisarobinjewelry.com/pages/what-is-diamond-clarity"
   ]
  },
  {
   "cell_type": "code",
   "execution_count": null,
   "id": "b6086d29-afeb-474d-af85-0adcdf24fd77",
   "metadata": {},
   "outputs": [],
   "source": [
    "class ColorClarityDetails:\n",
    "    def process(self, color, clarity):\n",
    "        color_desc = self.get_color_description(color)\n",
    "        clarity_desc = self.get_clarity_description(clarity)\n",
    "        yield (color, color_desc, clarity, clarity_desc)\n",
    "\n",
    "    def get_color_description(self, color):\n",
    "        color_descriptions = {\n",
    "            \"D\": \"Colorless\",\n",
    "            \"E\": \"Colorless\",\n",
    "            \"F\": \"Colorless\",\n",
    "            \"G\": \"Near Colorless\",\n",
    "            \"H\": \"Near Colorless\",\n",
    "            \"I\": \"Near Colorless\",\n",
    "            \"J\": \"Near Colorless\"\n",
    "        }\n",
    "        return color_descriptions.get(color, \"Unknown\")\n",
    "\n",
    "    def get_clarity_description(self, clarity):\n",
    "        clarity_descriptions = {\n",
    "            \"IF\": \"Internally Flawless\",\n",
    "            \"VVS1\": \"Very, Very Slightly Included 1\",\n",
    "            \"VVS2\": \"Very, Very Slightly Included 2\",\n",
    "            \"VS1\": \"Very Slightly Included 1\",\n",
    "            \"VS2\": \"Very Slightly Included 2\",\n",
    "            \"SI1\": \"Slightly Included 1\",\n",
    "            \"SI2\": \"Slightly Included 2\",\n",
    "            \"I1\": \"Included 1\",\n",
    "            \"I2\": \"Included 2\",\n",
    "            \"I3\": \"Included 3\"\n",
    "        }\n",
    "        return clarity_descriptions.get(clarity, \"Unknown\")\n",
    "\n",
    "# Define the schema of the output table\n",
    "output_schema = StructType([\n",
    "    StructField(\"color\", StringType()),\n",
    "    StructField(\"color_description\", StringType()),\n",
    "    StructField(\"clarity\", StringType()),\n",
    "    StructField(\"clarity_description\", StringType())\n",
    "])\n",
    "\n",
    "# Register the UDTF\n",
    "set_transmit_query_to_server(True)\n",
    "color_clarity_udtf = udtf(ColorClarityDetails, output_schema=output_schema, input_types=[StringType(), StringType()])\n",
    "set_transmit_query_to_server(False)"
   ]
  },
  {
   "cell_type": "code",
   "execution_count": null,
   "id": "6cc21e39-762e-462a-80ce-fe9d8df27083",
   "metadata": {},
   "outputs": [],
   "source": [
    "# Run the UDTF.\n",
    "df = session.table(\"t_diamonds\")\n",
    "df.select(color_clarity_udtf(df[\"color\"], df[\"clarity\"])).limit(10).collect()"
   ]
  },
  {
   "cell_type": "code",
   "execution_count": null,
   "id": "54a36ce7-cb86-4b1f-9e14-5db9b5867e0e",
   "metadata": {},
   "outputs": [],
   "source": [
    "# Same UDTF logic but this cell is to display the AST information.\n",
    "with session.ast_listener() as al:\n",
    "    # Register the UDTF.\n",
    "    set_transmit_query_to_server(True)\n",
    "    color_clarity_udtf = udtf(ColorClarityDetails, output_schema=output_schema, input_types=[StringType(), StringType()])\n",
    "    set_transmit_query_to_server(False)\n",
    "    \n",
    "    # Calling the UDTF.\n",
    "    df = session.table(\"t_diamonds\")\n",
    "    df.select(color_clarity_udtf(df[\"color\"], df[\"clarity\"])).limit(10).collect()\n",
    "print(\"Number of AST messages recorded: \", len(al.base64_batches))"
   ]
  },
  {
   "cell_type": "code",
   "execution_count": null,
   "id": "75a0a07e-68ca-4f06-b49b-6050e56b3e29",
   "metadata": {},
   "outputs": [],
   "source": [
    "# Print the AST recorded: \n",
    "print(al.base64_batches)"
   ]
  },
  {
   "cell_type": "code",
   "execution_count": null,
   "id": "779563df-e20e-451f-8cad-03287ef06120",
   "metadata": {},
   "outputs": [],
   "source": [
    "# In plaintext:\n",
    "message = proto.Request()\n",
    "message.ParseFromString(base64.b64decode(al.base64_batches[0]))\n",
    "message"
   ]
  }
 ],
 "metadata": {
  "kernelspec": {
   "display_name": "Python 3 (ipykernel)",
   "language": "python",
   "name": "python3"
  },
  "language_info": {
   "codemirror_mode": {
    "name": "ipython",
    "version": 3
   },
   "file_extension": ".py",
   "mimetype": "text/x-python",
   "name": "python",
   "nbconvert_exporter": "python",
   "pygments_lexer": "ipython3",
   "version": "3.11.9"
  }
 },
 "nbformat": 4,
 "nbformat_minor": 5
}
